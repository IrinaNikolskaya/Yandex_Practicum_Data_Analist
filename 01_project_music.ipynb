{
 "cells": [
  {
   "cell_type": "markdown",
   "metadata": {
    "deletable": false,
    "editable": false,
    "id": "E0vqbgi9ay0H"
   },
   "source": [
    "# Яндекс Музыка"
   ]
  },
  {
   "cell_type": "markdown",
   "metadata": {
    "deletable": false,
    "editable": false,
    "id": "VUC88oWjTJw2"
   },
   "source": [
    "Сравнение Москвы и Петербурга окружено мифами. Например:\n",
    " * Москва — мегаполис, подчинённый жёсткому ритму рабочей недели;\n",
    " * Петербург — культурная столица, со своими вкусами.\n",
    "\n",
    "На данных Яндекс Музыки вы сравните поведение пользователей двух столиц.\n",
    "\n",
    "**Цель исследования** — проверьте три гипотезы:\n",
    "1. Активность пользователей зависит от дня недели. Причём в Москве и Петербурге это проявляется по-разному.\n",
    "2. В понедельник утром в Москве преобладают одни жанры, а в Петербурге — другие. Так же и вечером пятницы преобладают разные жанры — в зависимости от города. \n",
    "3. Москва и Петербург предпочитают разные жанры музыки. В Москве чаще слушают поп-музыку, в Петербурге — русский рэп.\n",
    "\n",
    "**Ход исследования**\n",
    "\n",
    "Данные о поведении пользователей вы получите из файла `yandex_music_project.csv`. О качестве данных ничего не известно. Поэтому перед проверкой гипотез понадобится обзор данных. \n",
    "\n",
    "Вы проверите данные на ошибки и оцените их влияние на исследование. Затем, на этапе предобработки вы поищете возможность исправить самые критичные ошибки данных.\n",
    " \n",
    "Таким образом, исследование пройдёт в три этапа:\n",
    " 1. Обзор данных.\n",
    " 2. Предобработка данных.\n",
    " 3. Проверка гипотез.\n",
    "\n"
   ]
  },
  {
   "cell_type": "markdown",
   "metadata": {
    "deletable": false,
    "editable": false,
    "id": "Ml1hmfXC_Zcs"
   },
   "source": [
    "## Обзор данных\n",
    "\n",
    "Составьте первое представление о данных Яндекс Музыки.\n",
    "\n",
    "\n"
   ]
  },
  {
   "cell_type": "markdown",
   "metadata": {
    "deletable": false,
    "editable": false,
    "id": "57eAOGIz_Zcs",
    "tags": [
     "start_task"
    ]
   },
   "source": [
    "**Задание 1**\n",
    "\n",
    "Основной инструмент аналитика — `pandas`. Импортируйте эту библиотеку."
   ]
  },
  {
   "cell_type": "code",
   "execution_count": 25,
   "metadata": {
    "deletable": false,
    "id": "AXN7PHPN_Zcs"
   },
   "outputs": [],
   "source": [
    "import pandas as pd# импорт библиoтеки\n"
   ]
  },
  {
   "cell_type": "markdown",
   "metadata": {
    "deletable": false,
    "editable": false,
    "id": "SG23P8tt_Zcs",
    "tags": [
     "start_task"
    ]
   },
   "source": [
    "**Задание 2**\n",
    "\n",
    "Прочитайте файл `yandex_music_project.csv` из папки `/datasets` и сохраните его в переменной `df`:"
   ]
  },
  {
   "cell_type": "code",
   "execution_count": 26,
   "metadata": {
    "deletable": false,
    "id": "fFVu7vqh_Zct"
   },
   "outputs": [],
   "source": [
    "df=pd.read_csv('/datasets/yandex_music_project.csv')\n",
    "\n",
    "# чтение файла с данными и сохранение в df"
   ]
  },
  {
   "cell_type": "markdown",
   "metadata": {
    "deletable": false,
    "editable": false,
    "id": "rDoOMd3uTqnZ",
    "tags": [
     "start_task"
    ]
   },
   "source": [
    "**Задание 3**\n",
    "\n",
    "\n",
    "Выведите на экран первые десять строк таблицы:"
   ]
  },
  {
   "cell_type": "code",
   "execution_count": 27,
   "metadata": {
    "deletable": false,
    "id": "oWTVX3gW_Zct",
    "scrolled": false
   },
   "outputs": [
    {
     "name": "stdout",
     "output_type": "stream",
     "text": [
      "     userID                        Track            artist   genre  \\\n",
      "0  FFB692EC            Kamigata To Boots  The Mass Missile    rock   \n",
      "1  55204538  Delayed Because of Accident  Andreas Rönnberg    rock   \n",
      "2    20EC38            Funiculì funiculà       Mario Lanza     pop   \n",
      "3  A3DD03C9        Dragons in the Sunset        Fire + Ice    folk   \n",
      "4  E2DC1FAE                  Soul People        Space Echo   dance   \n",
      "5  842029A1                    Преданная         IMPERVTOR  rusrap   \n",
      "6  4CB90AA5                         True      Roman Messer   dance   \n",
      "7  F03E1C1F             Feeling This Way   Polina Griffith   dance   \n",
      "8  8FA1D3BE     И вновь продолжается бой               NaN  ruspop   \n",
      "9  E772D5C0                    Pessimist               NaN   dance   \n",
      "\n",
      "             City        time        Day  \n",
      "0  Saint-Petersburg  20:28:33  Wednesday  \n",
      "1            Moscow  14:07:09     Friday  \n",
      "2  Saint-Petersburg  20:58:07  Wednesday  \n",
      "3  Saint-Petersburg  08:37:09     Monday  \n",
      "4            Moscow  08:34:34     Monday  \n",
      "5  Saint-Petersburg  13:09:41     Friday  \n",
      "6            Moscow  13:00:07  Wednesday  \n",
      "7            Moscow  20:47:49  Wednesday  \n",
      "8            Moscow  09:17:40     Friday  \n",
      "9  Saint-Petersburg  21:20:49  Wednesday  \n"
     ]
    }
   ],
   "source": [
    "print(df.head(10))# получение первых 10 строк таблицы df"
   ]
  },
  {
   "cell_type": "markdown",
   "metadata": {
    "deletable": false,
    "editable": false,
    "id": "EO73Kwic_Zct",
    "tags": [
     "start_task"
    ]
   },
   "source": [
    "**Задание 4**\n",
    "\n",
    "\n",
    "Одной командой получить общую информацию о таблице c помощью метода `info()`:"
   ]
  },
  {
   "cell_type": "code",
   "execution_count": 28,
   "metadata": {
    "deletable": false,
    "id": "DSf2kIb-_Zct",
    "scrolled": false
   },
   "outputs": [
    {
     "name": "stdout",
     "output_type": "stream",
     "text": [
      "<class 'pandas.core.frame.DataFrame'>\n",
      "RangeIndex: 65079 entries, 0 to 65078\n",
      "Data columns (total 7 columns):\n",
      " #   Column    Non-Null Count  Dtype \n",
      "---  ------    --------------  ----- \n",
      " 0     userID  65079 non-null  object\n",
      " 1   Track     63848 non-null  object\n",
      " 2   artist    57876 non-null  object\n",
      " 3   genre     63881 non-null  object\n",
      " 4     City    65079 non-null  object\n",
      " 5   time      65079 non-null  object\n",
      " 6   Day       65079 non-null  object\n",
      "dtypes: object(7)\n",
      "memory usage: 3.5+ MB\n"
     ]
    }
   ],
   "source": [
    "df.info()# получение общей информации о данных в таблице df"
   ]
  },
  {
   "cell_type": "markdown",
   "metadata": {
    "deletable": false,
    "editable": false,
    "id": "TaQ2Iwbr_Zct"
   },
   "source": [
    "Итак, в таблице семь столбцов. Тип данных во всех столбцах — `object`.\n",
    "\n",
    "Согласно документации к данным:\n",
    "* `userID` — идентификатор пользователя;\n",
    "* `Track` — название трека;  \n",
    "* `artist` — имя исполнителя;\n",
    "* `genre` — название жанра;\n",
    "* `City` — город пользователя;\n",
    "* `time` — время начала прослушивания;\n",
    "* `Day` — день недели.\n",
    "\n",
    "Количество значений в столбцах различается. Значит, в данных есть пропущенные значения."
   ]
  },
  {
   "cell_type": "markdown",
   "metadata": {
    "deletable": false,
    "editable": false,
    "id": "rAfziTBDmf2h",
    "tags": [
     "start_task"
    ]
   },
   "source": [
    "**Задание 5**\n",
    "\n",
    "**Вопрос со свободной формой ответа**\n",
    "\n",
    "В названиях колонок видны нарушения стиля:\n",
    "* Строчные буквы сочетаются с прописными.\n",
    "* Встречаются пробелы.\n",
    "\n",
    "Какое третье нарушение?"
   ]
  },
  {
   "cell_type": "code",
   "execution_count": 29,
   "metadata": {
    "id": "jD8EXEIvmf2h"
   },
   "outputs": [],
   "source": [
    "#В названиях нет нижних подчеркиваний  Напишите ваш ответ здесь комментарием. Не удаляйте символ #. Не меняйте тип этой ячейки на Markdown."
   ]
  },
  {
   "cell_type": "markdown",
   "metadata": {
    "deletable": false,
    "editable": false,
    "id": "MCB6-dXG_Zct"
   },
   "source": [
    "**Выводы**\n",
    "\n",
    "В каждой строке таблицы — данные о прослушанном треке. Часть колонок описывает саму композицию: название, исполнителя и жанр. Остальные данные рассказывают о пользователе: из какого он города, когда он слушал музыку. \n",
    "\n",
    "Предварительно можно утверждать, что данных достаточно для проверки гипотез. Но встречаются пропуски в данных, а в названиях колонок — расхождения с хорошим стилем.\n",
    "\n",
    "Чтобы двигаться дальше, нужно устранить проблемы в данных."
   ]
  },
  {
   "cell_type": "markdown",
   "metadata": {
    "deletable": false,
    "editable": false,
    "id": "SjYF6Ub9_Zct"
   },
   "source": [
    "## Предобработка данных\n",
    "Исправьте стиль в заголовках столбцов, исключите пропуски. Затем проверьте данные на дубликаты."
   ]
  },
  {
   "cell_type": "markdown",
   "metadata": {
    "deletable": false,
    "editable": false,
    "id": "dIaKXr29_Zct",
    "tags": [
     "start_task"
    ]
   },
   "source": [
    "### Стиль заголовков\n",
    "\n",
    "**Задание 6**\n",
    "\n",
    "Выведите на экран названия столбцов:"
   ]
  },
  {
   "cell_type": "code",
   "execution_count": 30,
   "metadata": {
    "deletable": false,
    "id": "oKOTdF_Q_Zct"
   },
   "outputs": [
    {
     "name": "stdout",
     "output_type": "stream",
     "text": [
      "Index(['  userID', 'Track', 'artist', 'genre', '  City  ', 'time', 'Day'], dtype='object')\n"
     ]
    }
   ],
   "source": [
    "print(df.columns)# перечень названий столбцов таблицы df"
   ]
  },
  {
   "cell_type": "markdown",
   "metadata": {
    "deletable": false,
    "editable": false,
    "id": "zj5534cv_Zct",
    "tags": [
     "start_task"
    ]
   },
   "source": [
    "**Задание 7**\n",
    "\n",
    "\n",
    "Приведите названия в соответствие с хорошим стилем:\n",
    "* несколько слов в названии запишите в «змеином_регистре»,\n",
    "* все символы сделайте строчными,\n",
    "* устраните пробелы.\n",
    "\n",
    "Для этого переименуйте колонки так:\n",
    "* `'  userID'` → `'user_id'`;\n",
    "* `'Track'` → `'track'`;\n",
    "* `'  City  '` → `'city'`;\n",
    "* `'Day'` → `'day'`."
   ]
  },
  {
   "cell_type": "code",
   "execution_count": 31,
   "metadata": {
    "deletable": false,
    "id": "ISlFqs5y_Zct"
   },
   "outputs": [],
   "source": [
    "# переименование столбцов\n",
    "df=df.rename(columns= {\n",
    "    '  userID' : 'user_id',\n",
    "    'Track' : 'track',\n",
    "    '  City  ' : 'city',\n",
    "    'Day' : 'day'\n",
    "})"
   ]
  },
  {
   "cell_type": "markdown",
   "metadata": {
    "deletable": false,
    "editable": false,
    "id": "1dqbh00J_Zct",
    "tags": [
     "start_task"
    ]
   },
   "source": [
    "**Задание 8**\n",
    "\n",
    "\n",
    "Проверьте результат. Для этого ещё раз выведите на экран названия столбцов:"
   ]
  },
  {
   "cell_type": "code",
   "execution_count": 32,
   "metadata": {
    "deletable": false,
    "id": "d4NOAmTW_Zct"
   },
   "outputs": [
    {
     "name": "stdout",
     "output_type": "stream",
     "text": [
      "Index(['user_id', 'track', 'artist', 'genre', 'city', 'time', 'day'], dtype='object')\n"
     ]
    }
   ],
   "source": [
    "# проверка результатов - перечень названий столбцов\n",
    "print(df.columns)"
   ]
  },
  {
   "cell_type": "markdown",
   "metadata": {
    "deletable": false,
    "editable": false,
    "id": "5ISfbcfY_Zct",
    "tags": [
     "start_task"
    ]
   },
   "source": [
    "### Пропуски значений\n",
    "\n",
    "**Задание 9**\n",
    "\n",
    "Сначала посчитайте, сколько в таблице пропущенных значений. Для этого достаточно двух методов `pandas`:"
   ]
  },
  {
   "cell_type": "code",
   "execution_count": 33,
   "metadata": {
    "deletable": false,
    "id": "RskX29qr_Zct",
    "scrolled": true
   },
   "outputs": [
    {
     "data": {
      "text/plain": [
       "user_id       0\n",
       "track      1231\n",
       "artist     7203\n",
       "genre      1198\n",
       "city          0\n",
       "time          0\n",
       "day           0\n",
       "dtype: int64"
      ]
     },
     "execution_count": 33,
     "metadata": {},
     "output_type": "execute_result"
    }
   ],
   "source": [
    "# подсчёт пропусков\n",
    "df.isna().sum()"
   ]
  },
  {
   "cell_type": "markdown",
   "metadata": {
    "deletable": false,
    "editable": false,
    "id": "qubhgnlO_Zct"
   },
   "source": [
    "Не все пропущенные значения влияют на исследование. Так в `track` и `artist` пропуски не важны для вашей работы. Достаточно заменить их явными обозначениями.\n",
    "\n",
    "Но пропуски в `genre` могут помешать сравнению музыкальных вкусов в Москве и Санкт-Петербурге. На практике было бы правильно установить причину пропусков и восстановить данные. Такой возможности нет в учебном проекте. Придётся:\n",
    "* заполнить и эти пропуски явными обозначениями;\n",
    "* оценить, насколько они повредят расчётам. "
   ]
  },
  {
   "cell_type": "markdown",
   "metadata": {
    "deletable": false,
    "editable": false,
    "id": "fSv2laPA_Zct",
    "tags": [
     "start_task"
    ]
   },
   "source": [
    "**Задание 10**\n",
    "\n",
    "Замените пропущенные значения в столбцах `track`, `artist` и `genre` на строку `'unknown'`. Для этого создайте список `columns_to_replace`, переберите его элементы циклом `for` и для каждого столбца выполните замену пропущенных значений:"
   ]
  },
  {
   "cell_type": "code",
   "execution_count": 34,
   "metadata": {
    "deletable": false,
    "id": "KplB5qWs_Zct"
   },
   "outputs": [],
   "source": [
    "columns_to_replace = ['track','artist','genre']\n",
    "for column in columns_to_replace:\n",
    "    df[column] = df[column].fillna('unknown')# перебор названий столбцов в цикле и замена пропущенных значений на 'unknown'"
   ]
  },
  {
   "cell_type": "markdown",
   "metadata": {
    "deletable": false,
    "editable": false,
    "id": "Ilsm-MZo_Zct",
    "tags": [
     "start_task"
    ]
   },
   "source": [
    "**Задание 11**\n",
    "\n",
    "Убедитесь, что в таблице не осталось пропусков. Для этого ещё раз посчитайте пропущенные значения."
   ]
  },
  {
   "cell_type": "code",
   "execution_count": 35,
   "metadata": {
    "deletable": false,
    "id": "Tq4nYRX4_Zct",
    "scrolled": true
   },
   "outputs": [
    {
     "data": {
      "text/plain": [
       "user_id    0\n",
       "track      0\n",
       "artist     0\n",
       "genre      0\n",
       "city       0\n",
       "time       0\n",
       "day        0\n",
       "dtype: int64"
      ]
     },
     "execution_count": 35,
     "metadata": {},
     "output_type": "execute_result"
    }
   ],
   "source": [
    "# подсчёт пропусков\n",
    "df.isna().sum()"
   ]
  },
  {
   "cell_type": "markdown",
   "metadata": {
    "deletable": false,
    "editable": false,
    "id": "BWKRtBJ3_Zct",
    "tags": [
     "start_task"
    ]
   },
   "source": [
    "### Дубликаты\n",
    "\n",
    "**Задание 12**\n",
    "\n",
    "Посчитайте явные дубликаты в таблице одной командой:"
   ]
  },
  {
   "cell_type": "code",
   "execution_count": 36,
   "metadata": {
    "deletable": false,
    "id": "36eES_S0_Zct"
   },
   "outputs": [
    {
     "data": {
      "text/plain": [
       "3826"
      ]
     },
     "execution_count": 36,
     "metadata": {},
     "output_type": "execute_result"
    }
   ],
   "source": [
    "# подсчёт явных дубликатов\n",
    "df.duplicated().sum()"
   ]
  },
  {
   "cell_type": "markdown",
   "metadata": {
    "deletable": false,
    "editable": false,
    "id": "Ot25h6XR_Zct",
    "tags": [
     "start_task"
    ]
   },
   "source": [
    "**Задание 13**\n",
    "\n",
    "Вызовите специальный метод `pandas`, чтобы удалить явные дубликаты:"
   ]
  },
  {
   "cell_type": "code",
   "execution_count": 37,
   "metadata": {
    "deletable": false,
    "id": "exFHq6tt_Zct",
    "scrolled": false
   },
   "outputs": [],
   "source": [
    "# удаление явных дубликатов\n",
    "df=df.drop_duplicates()"
   ]
  },
  {
   "cell_type": "markdown",
   "metadata": {
    "deletable": false,
    "editable": false,
    "id": "Im2YwBEG_Zct",
    "tags": [
     "start_task"
    ]
   },
   "source": [
    "**Задание 14**\n",
    "\n",
    "Ещё раз посчитайте явные дубликаты в таблице — убедитесь, что полностью от них избавились:"
   ]
  },
  {
   "cell_type": "code",
   "execution_count": 38,
   "metadata": {
    "deletable": false,
    "id": "-8PuNWQ0_Zct",
    "scrolled": true
   },
   "outputs": [
    {
     "data": {
      "text/plain": [
       "0"
      ]
     },
     "execution_count": 38,
     "metadata": {},
     "output_type": "execute_result"
    }
   ],
   "source": [
    "# проверка на отсутствие дубликатов\n",
    "df.duplicated().sum()"
   ]
  },
  {
   "cell_type": "markdown",
   "metadata": {
    "deletable": false,
    "editable": false,
    "id": "QlFBsxAr_Zct"
   },
   "source": [
    "Теперь избавьтесь от неявных дубликатов в колонке `genre`. Например, название одного и того же жанра может быть записано немного по-разному. Такие ошибки тоже повлияют на результат исследования."
   ]
  },
  {
   "cell_type": "markdown",
   "metadata": {
    "deletable": false,
    "editable": false,
    "id": "eSjWwsOh_Zct",
    "tags": [
     "start_task"
    ]
   },
   "source": [
    "**Задание 15**\n",
    "\n",
    "Выведите на экран список уникальных названий жанров, отсортированный в алфавитном порядке. Для этого:\n",
    "1. извлеките нужный столбец датафрейма; \n",
    "2. примените к нему метод сортировки;\n",
    "3. для отсортированного столбца вызовите метод, который вернёт уникальные значения из столбца."
   ]
  },
  {
   "cell_type": "code",
   "execution_count": 39,
   "metadata": {
    "deletable": false,
    "id": "JIUcqzZN_Zct",
    "scrolled": true
   },
   "outputs": [
    {
     "data": {
      "text/plain": [
       "array(['acid', 'acoustic', 'action', 'adult', 'africa', 'afrikaans',\n",
       "       'alternative', 'alternativepunk', 'ambient', 'americana',\n",
       "       'animated', 'anime', 'arabesk', 'arabic', 'arena',\n",
       "       'argentinetango', 'art', 'audiobook', 'author', 'avantgarde',\n",
       "       'axé', 'baile', 'balkan', 'beats', 'bigroom', 'black', 'bluegrass',\n",
       "       'blues', 'bollywood', 'bossa', 'brazilian', 'breakbeat', 'breaks',\n",
       "       'broadway', 'cantautori', 'cantopop', 'canzone', 'caribbean',\n",
       "       'caucasian', 'celtic', 'chamber', 'chanson', 'children', 'chill',\n",
       "       'chinese', 'choral', 'christian', 'christmas', 'classical',\n",
       "       'classicmetal', 'club', 'colombian', 'comedy', 'conjazz',\n",
       "       'contemporary', 'country', 'cuban', 'dance', 'dancehall',\n",
       "       'dancepop', 'dark', 'death', 'deep', 'deutschrock', 'deutschspr',\n",
       "       'dirty', 'disco', 'dnb', 'documentary', 'downbeat', 'downtempo',\n",
       "       'drum', 'dub', 'dubstep', 'eastern', 'easy', 'electronic',\n",
       "       'electropop', 'emo', 'entehno', 'epicmetal', 'estrada', 'ethnic',\n",
       "       'eurofolk', 'european', 'experimental', 'extrememetal', 'fado',\n",
       "       'fairytail', 'film', 'fitness', 'flamenco', 'folk', 'folklore',\n",
       "       'folkmetal', 'folkrock', 'folktronica', 'forró', 'frankreich',\n",
       "       'französisch', 'french', 'funk', 'future', 'gangsta', 'garage',\n",
       "       'german', 'ghazal', 'gitarre', 'glitch', 'gospel', 'gothic',\n",
       "       'grime', 'grunge', 'gypsy', 'handsup', \"hard'n'heavy\", 'hardcore',\n",
       "       'hardstyle', 'hardtechno', 'hip', 'hip-hop', 'hiphop',\n",
       "       'historisch', 'holiday', 'hop', 'horror', 'house', 'hymn', 'idm',\n",
       "       'independent', 'indian', 'indie', 'indipop', 'industrial',\n",
       "       'inspirational', 'instrumental', 'international', 'irish', 'jam',\n",
       "       'japanese', 'jazz', 'jewish', 'jpop', 'jungle', 'k-pop',\n",
       "       'karadeniz', 'karaoke', 'kayokyoku', 'korean', 'laiko', 'latin',\n",
       "       'latino', 'leftfield', 'local', 'lounge', 'loungeelectronic',\n",
       "       'lovers', 'malaysian', 'mandopop', 'marschmusik', 'meditative',\n",
       "       'mediterranean', 'melodic', 'metal', 'metalcore', 'mexican',\n",
       "       'middle', 'minimal', 'miscellaneous', 'modern', 'mood', 'mpb',\n",
       "       'muslim', 'native', 'neoklassik', 'neue', 'new', 'newage',\n",
       "       'newwave', 'nu', 'nujazz', 'numetal', 'oceania', 'old', 'opera',\n",
       "       'orchestral', 'other', 'piano', 'podcasts', 'pop', 'popdance',\n",
       "       'popelectronic', 'popeurodance', 'poprussian', 'post',\n",
       "       'posthardcore', 'postrock', 'power', 'progmetal', 'progressive',\n",
       "       'psychedelic', 'punjabi', 'punk', 'quebecois', 'ragga', 'ram',\n",
       "       'rancheras', 'rap', 'rave', 'reggae', 'reggaeton', 'regional',\n",
       "       'relax', 'religious', 'retro', 'rhythm', 'rnb', 'rnr', 'rock',\n",
       "       'rockabilly', 'rockalternative', 'rockindie', 'rockother',\n",
       "       'romance', 'roots', 'ruspop', 'rusrap', 'rusrock', 'russian',\n",
       "       'salsa', 'samba', 'scenic', 'schlager', 'self', 'sertanejo',\n",
       "       'shanson', 'shoegazing', 'showtunes', 'singer', 'ska', 'skarock',\n",
       "       'slow', 'smooth', 'soft', 'soul', 'soulful', 'sound', 'soundtrack',\n",
       "       'southern', 'specialty', 'speech', 'spiritual', 'sport',\n",
       "       'stonerrock', 'surf', 'swing', 'synthpop', 'synthrock',\n",
       "       'sängerportrait', 'tango', 'tanzorchester', 'taraftar', 'tatar',\n",
       "       'tech', 'techno', 'teen', 'thrash', 'top', 'traditional',\n",
       "       'tradjazz', 'trance', 'tribal', 'trip', 'triphop', 'tropical',\n",
       "       'türk', 'türkçe', 'ukrrock', 'unknown', 'urban', 'uzbek',\n",
       "       'variété', 'vi', 'videogame', 'vocal', 'western', 'world',\n",
       "       'worldbeat', 'ïîï', 'электроника'], dtype=object)"
      ]
     },
     "execution_count": 39,
     "metadata": {},
     "output_type": "execute_result"
    }
   ],
   "source": [
    "df['genre'].sort_values(ascending=True).unique()\n"
   ]
  },
  {
   "cell_type": "markdown",
   "metadata": {
    "deletable": false,
    "editable": false,
    "id": "qej-Qmuo_Zct",
    "tags": [
     "start_task"
    ]
   },
   "source": [
    "**Задание 16**\n",
    "\n",
    "Просмотрите список и найдите неявные дубликаты названия `hiphop`. Это могут быть названия с ошибками или альтернативные названия того же жанра.\n",
    "\n",
    "Вы увидите следующие неявные дубликаты:\n",
    "* *hip*,\n",
    "* *hop*,\n",
    "* *hip-hop*.\n",
    "\n",
    "Чтобы очистить от них таблицу используйте метод `replace()` с двумя аргументами: списком строк-дубликатов (включащий *hip*, *hop* и *hip-hop*) и строкой с правильным значением. Вам нужно исправить колонку `genre` в таблице `df`: заменить каждое значение из списка дубликатов на верное. Вместо `hip`, `hop` и `hip-hop` в таблице должно быть значение `hiphop`:"
   ]
  },
  {
   "cell_type": "code",
   "execution_count": 40,
   "metadata": {
    "deletable": false,
    "id": "ErNDkmns_Zct"
   },
   "outputs": [],
   "source": [
    "# Устранение неявных дубликатов\n",
    "duplicates = ['hip','hop','hip-hop']\n",
    "name='hiphop'\n",
    "df['genre'] = df['genre'].replace(duplicates,name)"
   ]
  },
  {
   "cell_type": "markdown",
   "metadata": {
    "deletable": false,
    "editable": false,
    "id": "zQKF16_RG15m",
    "tags": [
     "start_task"
    ]
   },
   "source": [
    "**Задание 17**\n",
    "\n",
    "Проверьте, что заменили неправильные названия:\n",
    "\n",
    "*   hip,\n",
    "*   hop,\n",
    "*   hip-hop.\n",
    "\n",
    "Выведите отсортированный список уникальных значений столбца `genre`:"
   ]
  },
  {
   "cell_type": "code",
   "execution_count": 41,
   "metadata": {
    "deletable": false,
    "id": "wvixALnFG15m"
   },
   "outputs": [
    {
     "data": {
      "text/plain": [
       "array(['acid', 'acoustic', 'action', 'adult', 'africa', 'afrikaans',\n",
       "       'alternative', 'alternativepunk', 'ambient', 'americana',\n",
       "       'animated', 'anime', 'arabesk', 'arabic', 'arena',\n",
       "       'argentinetango', 'art', 'audiobook', 'author', 'avantgarde',\n",
       "       'axé', 'baile', 'balkan', 'beats', 'bigroom', 'black', 'bluegrass',\n",
       "       'blues', 'bollywood', 'bossa', 'brazilian', 'breakbeat', 'breaks',\n",
       "       'broadway', 'cantautori', 'cantopop', 'canzone', 'caribbean',\n",
       "       'caucasian', 'celtic', 'chamber', 'chanson', 'children', 'chill',\n",
       "       'chinese', 'choral', 'christian', 'christmas', 'classical',\n",
       "       'classicmetal', 'club', 'colombian', 'comedy', 'conjazz',\n",
       "       'contemporary', 'country', 'cuban', 'dance', 'dancehall',\n",
       "       'dancepop', 'dark', 'death', 'deep', 'deutschrock', 'deutschspr',\n",
       "       'dirty', 'disco', 'dnb', 'documentary', 'downbeat', 'downtempo',\n",
       "       'drum', 'dub', 'dubstep', 'eastern', 'easy', 'electronic',\n",
       "       'electropop', 'emo', 'entehno', 'epicmetal', 'estrada', 'ethnic',\n",
       "       'eurofolk', 'european', 'experimental', 'extrememetal', 'fado',\n",
       "       'fairytail', 'film', 'fitness', 'flamenco', 'folk', 'folklore',\n",
       "       'folkmetal', 'folkrock', 'folktronica', 'forró', 'frankreich',\n",
       "       'französisch', 'french', 'funk', 'future', 'gangsta', 'garage',\n",
       "       'german', 'ghazal', 'gitarre', 'glitch', 'gospel', 'gothic',\n",
       "       'grime', 'grunge', 'gypsy', 'handsup', \"hard'n'heavy\", 'hardcore',\n",
       "       'hardstyle', 'hardtechno', 'hiphop', 'historisch', 'holiday',\n",
       "       'horror', 'house', 'hymn', 'idm', 'independent', 'indian', 'indie',\n",
       "       'indipop', 'industrial', 'inspirational', 'instrumental',\n",
       "       'international', 'irish', 'jam', 'japanese', 'jazz', 'jewish',\n",
       "       'jpop', 'jungle', 'k-pop', 'karadeniz', 'karaoke', 'kayokyoku',\n",
       "       'korean', 'laiko', 'latin', 'latino', 'leftfield', 'local',\n",
       "       'lounge', 'loungeelectronic', 'lovers', 'malaysian', 'mandopop',\n",
       "       'marschmusik', 'meditative', 'mediterranean', 'melodic', 'metal',\n",
       "       'metalcore', 'mexican', 'middle', 'minimal', 'miscellaneous',\n",
       "       'modern', 'mood', 'mpb', 'muslim', 'native', 'neoklassik', 'neue',\n",
       "       'new', 'newage', 'newwave', 'nu', 'nujazz', 'numetal', 'oceania',\n",
       "       'old', 'opera', 'orchestral', 'other', 'piano', 'podcasts', 'pop',\n",
       "       'popdance', 'popelectronic', 'popeurodance', 'poprussian', 'post',\n",
       "       'posthardcore', 'postrock', 'power', 'progmetal', 'progressive',\n",
       "       'psychedelic', 'punjabi', 'punk', 'quebecois', 'ragga', 'ram',\n",
       "       'rancheras', 'rap', 'rave', 'reggae', 'reggaeton', 'regional',\n",
       "       'relax', 'religious', 'retro', 'rhythm', 'rnb', 'rnr', 'rock',\n",
       "       'rockabilly', 'rockalternative', 'rockindie', 'rockother',\n",
       "       'romance', 'roots', 'ruspop', 'rusrap', 'rusrock', 'russian',\n",
       "       'salsa', 'samba', 'scenic', 'schlager', 'self', 'sertanejo',\n",
       "       'shanson', 'shoegazing', 'showtunes', 'singer', 'ska', 'skarock',\n",
       "       'slow', 'smooth', 'soft', 'soul', 'soulful', 'sound', 'soundtrack',\n",
       "       'southern', 'specialty', 'speech', 'spiritual', 'sport',\n",
       "       'stonerrock', 'surf', 'swing', 'synthpop', 'synthrock',\n",
       "       'sängerportrait', 'tango', 'tanzorchester', 'taraftar', 'tatar',\n",
       "       'tech', 'techno', 'teen', 'thrash', 'top', 'traditional',\n",
       "       'tradjazz', 'trance', 'tribal', 'trip', 'triphop', 'tropical',\n",
       "       'türk', 'türkçe', 'ukrrock', 'unknown', 'urban', 'uzbek',\n",
       "       'variété', 'vi', 'videogame', 'vocal', 'western', 'world',\n",
       "       'worldbeat', 'ïîï', 'электроника'], dtype=object)"
      ]
     },
     "execution_count": 41,
     "metadata": {},
     "output_type": "execute_result"
    }
   ],
   "source": [
    "# Проверка на неявные дубликаты\n",
    "df['genre'].sort_values(ascending=True).unique()"
   ]
  },
  {
   "cell_type": "markdown",
   "metadata": {
    "deletable": false,
    "editable": false,
    "id": "jz6a9-7HQUDd"
   },
   "source": [
    "**Выводы**\n",
    "\n",
    "Предобработка обнаружила три проблемы в данных:\n",
    "\n",
    "- нарушения в стиле заголовков,\n",
    "- пропущенные значения,\n",
    "- дубликаты — явные и неявные.\n",
    "\n",
    "Вы исправили заголовки, чтобы упростить работу с таблицей. Без дубликатов исследование станет более точным.\n",
    "\n",
    "Пропущенные значения вы заменили на `'unknown'`. Ещё предстоит увидеть, не повредят ли исследованию пропуски в колонке `genre`.\n",
    "\n",
    "Теперь можно перейти к проверке гипотез. "
   ]
  },
  {
   "cell_type": "markdown",
   "metadata": {
    "deletable": false,
    "editable": false,
    "id": "WttZHXH0SqKk"
   },
   "source": [
    "## Проверка гипотез"
   ]
  },
  {
   "cell_type": "markdown",
   "metadata": {
    "deletable": false,
    "editable": false,
    "id": "Im936VVi_Zcu"
   },
   "source": [
    "### Сравнение поведения пользователей двух столиц"
   ]
  },
  {
   "cell_type": "markdown",
   "metadata": {
    "deletable": false,
    "editable": false,
    "id": "nwt_MuaL_Zcu"
   },
   "source": [
    "Первая гипотеза утверждает, что пользователи по-разному слушают музыку в Москве и Санкт-Петербурге. Проверьте это предположение по данным о трёх днях недели — понедельнике, среде и пятнице. Для этого:\n",
    "\n",
    "* Разделите пользователей Москвы и Санкт-Петербурга.\n",
    "* Сравните, сколько треков послушала каждая группа пользователей в понедельник, среду и пятницу.\n"
   ]
  },
  {
   "cell_type": "markdown",
   "metadata": {
    "deletable": false,
    "editable": false,
    "id": "8Dw_YMmT_Zcu",
    "tags": [
     "start_task"
    ]
   },
   "source": [
    "**Задание 18**\n",
    "\n",
    "Для тренировки сначала выполните каждый из расчётов по отдельности. \n",
    "\n",
    "Оцените активность пользователей в каждом городе. Сгруппируйте данные по городу и посчитайте прослушивания в каждой группе.\n",
    "\n"
   ]
  },
  {
   "cell_type": "code",
   "execution_count": 42,
   "metadata": {
    "deletable": false,
    "id": "0_Qs96oh_Zcu"
   },
   "outputs": [
    {
     "data": {
      "text/plain": [
       "city\n",
       "Moscow              42741\n",
       "Saint-Petersburg    18512\n",
       "Name: genre, dtype: int64"
      ]
     },
     "execution_count": 42,
     "metadata": {},
     "output_type": "execute_result"
    }
   ],
   "source": [
    "# Подсчёт прослушиваний в каждом городе\n",
    "df.groupby('city')['genre'].count()"
   ]
  },
  {
   "cell_type": "markdown",
   "metadata": {
    "deletable": false,
    "editable": false,
    "id": "dzli3w8o_Zcu",
    "tags": [
     "start_task"
    ]
   },
   "source": [
    "В Москве прослушиваний больше, чем в Петербурге. Из этого не следует, что московские пользователи чаще слушают музыку. Просто самих пользователей в Москве больше.\n",
    "\n",
    "**Задание 19**\n",
    "\n",
    "Теперь сгруппируйте данные по дню недели и посчитайте прослушивания в понедельник, среду и пятницу. Учтите, что в данных есть информация о прослушиваниях только за эти дни.\n"
   ]
  },
  {
   "cell_type": "code",
   "execution_count": 43,
   "metadata": {
    "deletable": false,
    "id": "uZMKjiJz_Zcu"
   },
   "outputs": [
    {
     "data": {
      "text/plain": [
       "day\n",
       "Friday       21840\n",
       "Monday       21354\n",
       "Wednesday    18059\n",
       "Name: genre, dtype: int64"
      ]
     },
     "execution_count": 43,
     "metadata": {},
     "output_type": "execute_result"
    }
   ],
   "source": [
    "# Подсчёт прослушиваний в каждый из трёх дней\n",
    "df.groupby('day')['genre'].count()"
   ]
  },
  {
   "cell_type": "markdown",
   "metadata": {
    "deletable": false,
    "editable": false,
    "id": "cC2tNrlL_Zcu"
   },
   "source": [
    "В среднем пользователи из двух городов менее активны по средам. Но картина может измениться, если рассмотреть каждый город в отдельности."
   ]
  },
  {
   "cell_type": "markdown",
   "metadata": {
    "deletable": false,
    "editable": false,
    "id": "POzs8bGa_Zcu",
    "tags": [
     "start_task"
    ]
   },
   "source": [
    "**Задание 20**\n",
    "\n",
    "\n",
    "Вы видели, как работает группировка по городу и по дням недели. Теперь напишите функцию, которая объединит два эти расчёта.\n",
    "\n",
    "Создайте функцию `number_tracks()`, которая посчитает прослушивания для заданного дня и города. Ей понадобятся два параметра:\n",
    "* день недели,\n",
    "* название города.\n",
    "\n",
    "В функции сохраните в переменную строки исходной таблицы, у которых значение:\n",
    "  * в колонке `day` равно параметру `day`,\n",
    "  * в колонке `city` равно параметру `city`.\n",
    "\n",
    "Для этого примените последовательную фильтрацию с логической индексацией (или сложные логические выражения в одну строку, если вы уже знакомы с ними).\n",
    "\n",
    "Затем посчитайте значения в столбце `user_id` получившейся таблицы. Результат сохраните в новую переменную. Верните эту переменную из функции."
   ]
  },
  {
   "cell_type": "code",
   "execution_count": 44,
   "metadata": {
    "deletable": false,
    "id": "Nz3GdQB1_Zcu"
   },
   "outputs": [],
   "source": [
    "\n",
    "# Функция для подсчёта прослушиваний для конкретного города и дня.\n",
    "# С помощью последовательной фильтрации с логической индексацией она \n",
    "# сначала получит из исходной таблицы строки с нужным днём,\n",
    "# затем из результата отфильтрует строки с нужным городом,\n",
    "# методом count() посчитает количество значений в колонке user_id. \n",
    "# Это количество функция вернёт в качестве результата\n",
    "def number_tracks(day,city):\n",
    "    track_list = df[df['day'] == day] \n",
    "    track_list= track_list[track_list['city'] == city]\n",
    "    track_list_count= track_list['user_id'].count()\n",
    "    return track_list_count"
   ]
  },
  {
   "cell_type": "markdown",
   "metadata": {
    "deletable": false,
    "editable": false,
    "id": "ytf7xFrFJQ2r",
    "tags": [
     "start_task"
    ]
   },
   "source": [
    "**Задание 21**\n",
    "\n",
    "Вызовите `number_tracks()` шесть раз, меняя значение параметров — так, чтобы получить данные для каждого города в каждый из трёх дней."
   ]
  },
  {
   "cell_type": "code",
   "execution_count": 45,
   "metadata": {
    "deletable": false,
    "id": "rJcRATNQ_Zcu"
   },
   "outputs": [
    {
     "data": {
      "text/plain": [
       "15740"
      ]
     },
     "execution_count": 45,
     "metadata": {},
     "output_type": "execute_result"
    }
   ],
   "source": [
    "number_tracks('Monday', 'Moscow')# количество прослушиваний в Москве по понедельникам"
   ]
  },
  {
   "cell_type": "code",
   "execution_count": 46,
   "metadata": {
    "deletable": false,
    "id": "hq_ncZ5T_Zcu"
   },
   "outputs": [
    {
     "data": {
      "text/plain": [
       "5614"
      ]
     },
     "execution_count": 46,
     "metadata": {},
     "output_type": "execute_result"
    }
   ],
   "source": [
    "number_tracks('Monday', 'Saint-Petersburg')# количество прослушиваний в Санкт-Петербурге по понедельникам"
   ]
  },
  {
   "cell_type": "code",
   "execution_count": 47,
   "metadata": {
    "deletable": false,
    "id": "_NTy2VPU_Zcu"
   },
   "outputs": [
    {
     "data": {
      "text/plain": [
       "11056"
      ]
     },
     "execution_count": 47,
     "metadata": {},
     "output_type": "execute_result"
    }
   ],
   "source": [
    "number_tracks('Wednesday', 'Moscow')# количество прослушиваний в Москве по средам"
   ]
  },
  {
   "cell_type": "code",
   "execution_count": 48,
   "metadata": {
    "deletable": false,
    "id": "j2y3TAwo_Zcu"
   },
   "outputs": [
    {
     "data": {
      "text/plain": [
       "7003"
      ]
     },
     "execution_count": 48,
     "metadata": {},
     "output_type": "execute_result"
    }
   ],
   "source": [
    "number_tracks('Wednesday', 'Saint-Petersburg')# количество прослушиваний в Санкт-Петербурге по средам"
   ]
  },
  {
   "cell_type": "code",
   "execution_count": 49,
   "metadata": {
    "deletable": false,
    "id": "vYDw5u_K_Zcu"
   },
   "outputs": [
    {
     "data": {
      "text/plain": [
       "15945"
      ]
     },
     "execution_count": 49,
     "metadata": {},
     "output_type": "execute_result"
    }
   ],
   "source": [
    "number_tracks('Friday', 'Moscow')# количество прослушиваний в Москве по пятницам"
   ]
  },
  {
   "cell_type": "code",
   "execution_count": 50,
   "metadata": {
    "deletable": false,
    "id": "8_yzFtW3_Zcu"
   },
   "outputs": [
    {
     "data": {
      "text/plain": [
       "5895"
      ]
     },
     "execution_count": 50,
     "metadata": {},
     "output_type": "execute_result"
    }
   ],
   "source": [
    "number_tracks('Friday', 'Saint-Petersburg')# количество прослушиваний в Санкт-Петербурге по пятницам"
   ]
  },
  {
   "cell_type": "markdown",
   "metadata": {
    "deletable": false,
    "editable": false,
    "id": "7QXffbO-_Zcu",
    "tags": [
     "start_task"
    ]
   },
   "source": [
    "**Задание 22**\n",
    "\n",
    "Создайте c помощью конструктора `pd.DataFrame` таблицу, где\n",
    "* названия колонок — `['city', 'monday', 'wednesday', 'friday']`;\n",
    "* данные — результаты, которые вы получили с помощью `number_tracks`."
   ]
  },
  {
   "cell_type": "code",
   "execution_count": 51,
   "metadata": {
    "deletable": false,
    "id": "APAcLpOr_Zcu"
   },
   "outputs": [
    {
     "data": {
      "text/html": [
       "<div>\n",
       "<style scoped>\n",
       "    .dataframe tbody tr th:only-of-type {\n",
       "        vertical-align: middle;\n",
       "    }\n",
       "\n",
       "    .dataframe tbody tr th {\n",
       "        vertical-align: top;\n",
       "    }\n",
       "\n",
       "    .dataframe thead th {\n",
       "        text-align: right;\n",
       "    }\n",
       "</style>\n",
       "<table border=\"1\" class=\"dataframe\">\n",
       "  <thead>\n",
       "    <tr style=\"text-align: right;\">\n",
       "      <th></th>\n",
       "      <th>city</th>\n",
       "      <th>monday</th>\n",
       "      <th>wednesday</th>\n",
       "      <th>friday</th>\n",
       "    </tr>\n",
       "  </thead>\n",
       "  <tbody>\n",
       "    <tr>\n",
       "      <th>0</th>\n",
       "      <td>Moscow</td>\n",
       "      <td>15740</td>\n",
       "      <td>11056</td>\n",
       "      <td>15945</td>\n",
       "    </tr>\n",
       "    <tr>\n",
       "      <th>1</th>\n",
       "      <td>Saint-Petersburg</td>\n",
       "      <td>5614</td>\n",
       "      <td>7003</td>\n",
       "      <td>5895</td>\n",
       "    </tr>\n",
       "  </tbody>\n",
       "</table>\n",
       "</div>"
      ],
      "text/plain": [
       "               city  monday  wednesday  friday\n",
       "0            Moscow   15740      11056   15945\n",
       "1  Saint-Petersburg    5614       7003    5895"
      ]
     },
     "execution_count": 51,
     "metadata": {},
     "output_type": "execute_result"
    }
   ],
   "source": [
    "# Таблица с результатами\n",
    "info=pd.DataFrame(data=[['Moscow',15740,11056,15945],['Saint-Petersburg',5614,7003,5895]],columns=['city', 'monday', 'wednesday', 'friday'])\n",
    "info"
   ]
  },
  {
   "cell_type": "markdown",
   "metadata": {
    "deletable": false,
    "editable": false,
    "id": "-EgPIHYu_Zcu"
   },
   "source": [
    "**Выводы**\n",
    "\n",
    "Данные показывают разницу поведения пользователей:\n",
    "\n",
    "- В Москве пик прослушиваний приходится на понедельник и пятницу, а в среду заметен спад.\n",
    "- В Петербурге, наоборот, больше слушают музыку по средам. Активность в понедельник и пятницу здесь почти в равной мере уступает среде.\n",
    "\n",
    "Значит, данные говорят в пользу первой гипотезы."
   ]
  },
  {
   "cell_type": "markdown",
   "metadata": {
    "deletable": false,
    "editable": false,
    "id": "atZAxtq4_Zcu"
   },
   "source": [
    "### Музыка в начале и в конце недели"
   ]
  },
  {
   "cell_type": "markdown",
   "metadata": {
    "deletable": false,
    "editable": false,
    "id": "eXrQqXFH_Zcu"
   },
   "source": [
    "Согласно второй гипотезе, утром в понедельник в Москве преобладают одни жанры, а в Петербурге — другие. Так же и вечером пятницы преобладают разные жанры — в зависимости от города."
   ]
  },
  {
   "cell_type": "markdown",
   "metadata": {
    "deletable": false,
    "editable": false,
    "id": "S8UcW6Hw_Zcu",
    "tags": [
     "start_task"
    ]
   },
   "source": [
    "**Задание 23**\n",
    "\n",
    "Сохраните таблицы с данными в две переменные:\n",
    "* по Москве — в `moscow_general`;\n",
    "* по Санкт-Петербургу — в `spb_general`."
   ]
  },
  {
   "cell_type": "code",
   "execution_count": 59,
   "metadata": {
    "deletable": false,
    "id": "qeaFfM_P_Zcu"
   },
   "outputs": [],
   "source": [
    "# получение таблицы moscow_general из тех строк таблицы df, \n",
    "# для которых значение в столбце 'city' равно 'Moscow'\n",
    "moscow_general = df[df['city'] == 'Moscow']"
   ]
  },
  {
   "cell_type": "code",
   "execution_count": 60,
   "metadata": {
    "deletable": false,
    "id": "ORaVRKto_Zcu"
   },
   "outputs": [],
   "source": [
    "# получение таблицы spb_general из тех строк таблицы df,\n",
    "# для которых значение в столбце 'city' равно 'Saint-Petersburg'\n",
    "spb_general = df[df['city'] == 'Saint-Petersburg']"
   ]
  },
  {
   "cell_type": "markdown",
   "metadata": {
    "deletable": false,
    "editable": false,
    "id": "MEJV-CX2_Zcu",
    "tags": [
     "start_task"
    ]
   },
   "source": [
    "**Задание 24**\n",
    "\n",
    "Создайте функцию `genre_weekday()` с четырьмя параметрами:\n",
    "* таблица (датафрейм) с данными,\n",
    "* день недели,\n",
    "* начальная временная метка в формате 'hh:mm', \n",
    "* последняя временная метка в формате 'hh:mm'.\n",
    "\n",
    "Функция должна вернуть информацию о топ-10 жанров тех треков, которые прослушивали в указанный день, в промежутке между двумя отметками времени."
   ]
  },
  {
   "cell_type": "code",
   "execution_count": 68,
   "metadata": {
    "deletable": false,
    "id": "laJT9BYl_Zcu"
   },
   "outputs": [],
   "source": [
    "# Объявление функции genre_weekday() с параметрами table, day, time1, time2,\n",
    "# которая возвращает информацию о самых популярных жанрах в указанный день в\n",
    "# заданное время:\n",
    "# 1) в переменную genre_df сохраняются те строки переданного датафрейма table, для\n",
    "#    которых одновременно:\n",
    "#    - значение в столбце day равно значению аргумента day\n",
    "#    - значение в столбце time больше значения аргумента time1\n",
    "#    - значение в столбце time меньше значения аргумента time2\n",
    "#    Используйте последовательную фильтрацию с помощью логической индексации.\n",
    "# 2) сгруппировать датафрейм genre_df по столбцу genre, взять один из его\n",
    "#    столбцов и посчитать методом count() количество записей для каждого из\n",
    "#    присутствующих жанров, получившийся Series записать в переменную\n",
    "#    genre_df_count\n",
    "# 3) отсортировать genre_df_count по убыванию встречаемости и сохранить\n",
    "#    в переменную genre_df_sorted\n",
    "# 4) вернуть Series из 10 первых значений genre_df_sorted, это будут топ-10\n",
    "#    популярных жанров (в указанный день, в заданное время)\n",
    "\n",
    "def genre_weekday(df, day, time1, time2):\n",
    "    # последовательная фильтрация\n",
    "    # оставляем в genre_df только те строки df, у которых день равен day\n",
    "    genre_df = df[df['day'] == day] # ваш код здесь\n",
    "    # оставляем в genre_df только те строки genre_df, у которых время меньше time2\n",
    "    genre_df = genre_df[genre_df['time'] < time2]# ваш код здесь\n",
    "    # оставляем в genre_df только те строки genre_df, у которых время больше time1\n",
    "    genre_df = genre_df[genre_df['time'] > time1] # ваш код здесь\n",
    "    # сгруппируем отфильтрованный датафрейм по столбцу с названиями жанров, возьмём столбец genre и посчитаем кол-во строк для каждого жанра методом count()\n",
    "    genre_df_grouped = genre_df.groupby('genre')['genre'].count()\n",
    "     # ваш код здесь\n",
    "    # отсортируем результат по убыванию (чтобы в начале Series оказались самые популярные жанры)\n",
    "    genre_df_sorted = genre_df_grouped.sort_values(ascending=False) # ваш код здесь\n",
    "    # вернём Series с 10 самыми популярными жанрами в указанный отрезок времени заданного дня\n",
    "    return genre_df_sorted[:10]\n"
   ]
  },
  {
   "cell_type": "markdown",
   "metadata": {
    "deletable": false,
    "editable": false,
    "id": "la2s2_PF_Zcu",
    "tags": [
     "start_task"
    ]
   },
   "source": [
    "**Задание 25**\n",
    "\n",
    "\n",
    "Cравните результаты функции `genre_weekday()` для Москвы и Санкт-Петербурга в понедельник утром (с 7:00 до 11:00) и в пятницу вечером (с 17:00 до 23:00):"
   ]
  },
  {
   "cell_type": "code",
   "execution_count": 73,
   "metadata": {
    "deletable": false,
    "id": "yz7itPUQ_Zcu"
   },
   "outputs": [
    {
     "data": {
      "text/plain": [
       "genre\n",
       "pop            781\n",
       "dance          549\n",
       "electronic     480\n",
       "rock           474\n",
       "hiphop         286\n",
       "ruspop         186\n",
       "world          181\n",
       "rusrap         175\n",
       "alternative    164\n",
       "unknown        161\n",
       "Name: genre, dtype: int64"
      ]
     },
     "execution_count": 73,
     "metadata": {},
     "output_type": "execute_result"
    }
   ],
   "source": [
    "# вызов функции для утра понедельника в Москве (вместо df — таблица moscow_general)\n",
    "# объекты, хранящие время, являются строками и сравниваются как строки\n",
    "# пример вызова: genre_weekday(moscow_general, 'Monday', '07:00', '11:00')\n",
    "genre_weekday(moscow_general,'Monday','07:00','11:00')"
   ]
  },
  {
   "cell_type": "code",
   "execution_count": 74,
   "metadata": {
    "deletable": false,
    "id": "kwUcHPdy_Zcu"
   },
   "outputs": [
    {
     "data": {
      "text/plain": [
       "genre\n",
       "pop            218\n",
       "dance          182\n",
       "rock           162\n",
       "electronic     147\n",
       "hiphop          80\n",
       "ruspop          64\n",
       "alternative     58\n",
       "rusrap          55\n",
       "jazz            44\n",
       "classical       40\n",
       "Name: genre, dtype: int64"
      ]
     },
     "execution_count": 74,
     "metadata": {},
     "output_type": "execute_result"
    }
   ],
   "source": [
    "# вызов функции для утра понедельника в Петербурге (вместо df — таблица spb_general)\n",
    "genre_weekday(spb_general,'Monday','07:00','11:00')\n"
   ]
  },
  {
   "cell_type": "code",
   "execution_count": 76,
   "metadata": {
    "deletable": false,
    "id": "EzXVRE1o_Zcu"
   },
   "outputs": [
    {
     "data": {
      "text/plain": [
       "genre\n",
       "pop            713\n",
       "rock           517\n",
       "dance          495\n",
       "electronic     482\n",
       "hiphop         273\n",
       "world          208\n",
       "ruspop         170\n",
       "alternative    163\n",
       "classical      163\n",
       "rusrap         142\n",
       "Name: genre, dtype: int64"
      ]
     },
     "execution_count": 76,
     "metadata": {},
     "output_type": "execute_result"
    }
   ],
   "source": [
    "# вызов функции для вечера пятницы в Москве\n",
    "genre_weekday(moscow_general,'Friday','17:00','23:00')\n"
   ]
  },
  {
   "cell_type": "code",
   "execution_count": 77,
   "metadata": {
    "deletable": false,
    "id": "JZaEKu5v_Zcu"
   },
   "outputs": [
    {
     "data": {
      "text/plain": [
       "genre\n",
       "pop            256\n",
       "electronic     216\n",
       "rock           216\n",
       "dance          210\n",
       "hiphop          97\n",
       "alternative     63\n",
       "jazz            61\n",
       "classical       60\n",
       "rusrap          59\n",
       "world           54\n",
       "Name: genre, dtype: int64"
      ]
     },
     "execution_count": 77,
     "metadata": {},
     "output_type": "execute_result"
    }
   ],
   "source": [
    "# вызов функции для вечера пятницы в Петербурге\n",
    "genre_weekday(spb_general,'Friday','17:00','23:00')"
   ]
  },
  {
   "cell_type": "markdown",
   "metadata": {
    "deletable": false,
    "editable": false,
    "id": "wrCe4MNX_Zcu"
   },
   "source": [
    "**Выводы**\n",
    "\n",
    "Если сравнить топ-10 жанров в понедельник утром, можно сделать такие выводы:\n",
    "\n",
    "1. В Москве и Петербурге слушают похожую музыку. Единственное отличие — в московский рейтинг вошёл жанр “world”, а в петербургский — джаз и классика.\n",
    "\n",
    "2. В Москве пропущенных значений оказалось так много, что значение `'unknown'` заняло десятое место среди самых популярных жанров. Значит, пропущенные значения занимают существенную долю в данных и угрожают достоверности исследования.\n",
    "\n",
    "Вечер пятницы не меняет эту картину. Некоторые жанры поднимаются немного выше, другие спускаются, но в целом топ-10 остаётся тем же самым.\n",
    "\n",
    "Таким образом, вторая гипотеза подтвердилась лишь частично:\n",
    "* Пользователи слушают похожую музыку в начале недели и в конце.\n",
    "* Разница между Москвой и Петербургом не слишком выражена. В Москве чаще слушают русскую популярную музыку, в Петербурге — джаз.\n",
    "\n",
    "Однако пропуски в данных ставят под сомнение этот результат. В Москве их так много, что рейтинг топ-10 мог бы выглядеть иначе, если бы не утерянные  данные о жанрах."
   ]
  },
  {
   "cell_type": "markdown",
   "metadata": {
    "deletable": false,
    "editable": false,
    "id": "JolODAqr_Zcu"
   },
   "source": [
    "### Жанровые предпочтения в Москве и Петербурге\n",
    "\n",
    "Гипотеза: Петербург — столица рэпа, музыку этого жанра там слушают чаще, чем в Москве.  А Москва — город контрастов, в котором, тем не менее, преобладает поп-музыка."
   ]
  },
  {
   "cell_type": "markdown",
   "metadata": {
    "deletable": false,
    "editable": false,
    "id": "DlegSvaT_Zcu",
    "tags": [
     "start_task"
    ]
   },
   "source": [
    "**Задание 26**\n",
    "\n",
    "Сгруппируйте таблицу `moscow_general` по жанру и посчитайте прослушивания треков каждого жанра методом `count()`. Затем отсортируйте результат в порядке убывания и сохраните его в таблице `moscow_genres`."
   ]
  },
  {
   "cell_type": "code",
   "execution_count": 79,
   "metadata": {
    "deletable": false,
    "id": "r19lIPke_Zcu"
   },
   "outputs": [],
   "source": [
    "# одной строкой: группировка таблицы moscow_general по столбцу 'genre', \n",
    "# подсчёт числа значений 'genre' в этой группировке методом count(), \n",
    "# сортировка получившегося Series в порядке убывания и сохранение в moscow_genres\n",
    "moscow_genres=moscow_general.groupby('genre')['genre'].count().sort_values(ascending=False)"
   ]
  },
  {
   "cell_type": "markdown",
   "metadata": {
    "deletable": false,
    "editable": false,
    "id": "6kMuomxTiIr8",
    "tags": [
     "start_task"
    ]
   },
   "source": [
    "**Задание 27**\n",
    "\n",
    "Выведите на экран первые десять строк `moscow_genres`:"
   ]
  },
  {
   "cell_type": "code",
   "execution_count": 82,
   "metadata": {
    "deletable": false,
    "id": "WhCSooF8_Zcv"
   },
   "outputs": [
    {
     "data": {
      "text/plain": [
       "genre\n",
       "pop            5892\n",
       "dance          4435\n",
       "rock           3965\n",
       "electronic     3786\n",
       "hiphop         2096\n",
       "classical      1616\n",
       "world          1432\n",
       "alternative    1379\n",
       "ruspop         1372\n",
       "rusrap         1161\n",
       "Name: genre, dtype: int64"
      ]
     },
     "execution_count": 82,
     "metadata": {},
     "output_type": "execute_result"
    }
   ],
   "source": [
    "# просмотр первых 10 строк moscow_genres\n",
    "moscow_genres.head(10)"
   ]
  },
  {
   "cell_type": "markdown",
   "metadata": {
    "deletable": false,
    "editable": false,
    "id": "cnPG2vnN_Zcv",
    "tags": [
     "start_task"
    ]
   },
   "source": [
    "**Задание 28**\n",
    "\n",
    "\n",
    "Теперь повторите то же и для Петербурга.\n",
    "\n",
    "Сгруппируйте таблицу `spb_general` по жанру. Посчитайте прослушивания треков каждого жанра. Результат отсортируйте в порядке убывания и сохраните в таблице `spb_genres`:\n"
   ]
  },
  {
   "cell_type": "code",
   "execution_count": 83,
   "metadata": {
    "deletable": false,
    "id": "gluLIpE7_Zcv"
   },
   "outputs": [],
   "source": [
    "# одной строкой: группировка таблицы spb_general по столбцу 'genre', \n",
    "# подсчёт числа значений 'genre' в этой группировке методом count(), \n",
    "# сортировка получившегося Series в порядке убывания и сохранение в spb_genres\n",
    "spb_genres = spb_general.groupby('genre')['genre'].count().sort_values(ascending=False)"
   ]
  },
  {
   "cell_type": "markdown",
   "metadata": {
    "deletable": false,
    "editable": false,
    "id": "5Doha_ODgyQ8",
    "tags": [
     "start_task"
    ]
   },
   "source": [
    "**Задание 29**\n",
    "\n",
    "Выведите на экран первые десять строк `spb_genres`:"
   ]
  },
  {
   "cell_type": "code",
   "execution_count": 84,
   "metadata": {
    "deletable": false,
    "id": "uaGJHjVU_Zcv"
   },
   "outputs": [
    {
     "data": {
      "text/plain": [
       "genre\n",
       "pop            2431\n",
       "dance          1932\n",
       "rock           1879\n",
       "electronic     1736\n",
       "hiphop          960\n",
       "alternative     649\n",
       "classical       646\n",
       "rusrap          564\n",
       "ruspop          538\n",
       "world           515\n",
       "Name: genre, dtype: int64"
      ]
     },
     "execution_count": 84,
     "metadata": {},
     "output_type": "execute_result"
    }
   ],
   "source": [
    "# просмотр первых 10 строк spb_genres\n",
    "spb_genres.head(10)"
   ]
  },
  {
   "cell_type": "markdown",
   "metadata": {
    "deletable": false,
    "editable": false,
    "id": "RY51YJYu_Zcv"
   },
   "source": [
    "**Выводы**"
   ]
  },
  {
   "cell_type": "markdown",
   "metadata": {
    "deletable": false,
    "editable": false,
    "id": "nVhnJEm__Zcv"
   },
   "source": [
    "Гипотеза частично подтвердилась:\n",
    "* Поп-музыка — самый популярный жанр в Москве, как и предполагала гипотеза. Более того, в топ-10 жанров встречается близкий жанр — русская популярная музыка.\n",
    "* Вопреки ожиданиям, рэп одинаково популярен в Москве и Петербурге. \n"
   ]
  },
  {
   "cell_type": "markdown",
   "metadata": {
    "deletable": false,
    "editable": false,
    "id": "ykKQ0N65_Zcv"
   },
   "source": [
    "## Итоги исследования"
   ]
  },
  {
   "cell_type": "markdown",
   "metadata": {
    "deletable": false,
    "editable": false,
    "id": "tjUwbHb3_Zcv"
   },
   "source": [
    "Вы проверили три гипотезы и установили:\n",
    "\n",
    "1. День недели по-разному влияет на активность пользователей в Москве и Петербурге. \n",
    "\n",
    "Первая гипотеза полностью подтвердилась.\n",
    "\n",
    "2. Музыкальные предпочтения не сильно меняются в течение недели — будь то Москва или Петербург. Небольшие различия заметны в начале недели, по понедельникам:\n",
    "* в Москве слушают музыку жанра “world”,\n",
    "* в Петербурге — джаз и классику.\n",
    "\n",
    "Таким образом, вторая гипотеза подтвердилась лишь отчасти. Этот результат мог оказаться иным, если бы не пропуски в данных.\n",
    "\n",
    "3. Во вкусах пользователей Москвы и Петербурга больше общего чем различий. Вопреки ожиданиям, предпочтения жанров в Петербурге напоминают московские.\n",
    "\n",
    "Третья гипотеза не подтвердилась. Если различия в предпочтениях и существуют, на основной массе пользователей они незаметны.\n",
    "\n",
    "**На практике исследования содержат проверки статистических гипотез.**\n",
    "Из данных одного сервиса не всегда можно сделать вывод о всех жителях города.\n",
    "Проверки статистических гипотез покажут, насколько они достоверны, исходя из имеющихся данных. \n",
    "С методами проверок гипотез вы ещё познакомитесь в следующих темах."
   ]
  },
  {
   "cell_type": "code",
   "execution_count": null,
   "metadata": {},
   "outputs": [],
   "source": []
  }
 ],
 "metadata": {
  "ExecuteTimeLog": [
   {
    "duration": 373,
    "start_time": "2022-11-08T09:44:05.461Z"
   },
   {
    "duration": 2,
    "start_time": "2022-11-08T09:46:28.760Z"
   },
   {
    "duration": 96,
    "start_time": "2022-11-08T09:47:59.952Z"
   },
   {
    "duration": 45,
    "start_time": "2022-11-08T09:48:23.008Z"
   },
   {
    "duration": 70,
    "start_time": "2022-11-08T09:49:11.355Z"
   },
   {
    "duration": 7,
    "start_time": "2022-11-08T09:49:33.382Z"
   },
   {
    "duration": 43,
    "start_time": "2022-11-08T09:50:56.752Z"
   },
   {
    "duration": 168,
    "start_time": "2022-11-08T09:51:38.251Z"
   },
   {
    "duration": 8,
    "start_time": "2022-11-08T09:52:44.886Z"
   },
   {
    "duration": 28,
    "start_time": "2022-11-08T09:54:31.585Z"
   },
   {
    "duration": 3,
    "start_time": "2022-11-08T10:05:51.096Z"
   },
   {
    "duration": 2,
    "start_time": "2022-11-08T10:09:19.114Z"
   },
   {
    "duration": 35,
    "start_time": "2022-11-08T11:16:28.201Z"
   },
   {
    "duration": 41,
    "start_time": "2022-11-08T11:16:36.371Z"
   },
   {
    "duration": 4,
    "start_time": "2022-11-08T11:18:02.457Z"
   },
   {
    "duration": 11,
    "start_time": "2022-11-08T11:18:25.957Z"
   },
   {
    "duration": 3,
    "start_time": "2022-11-08T11:18:41.242Z"
   },
   {
    "duration": 29,
    "start_time": "2022-11-08T11:20:21.750Z"
   },
   {
    "duration": 5,
    "start_time": "2022-11-08T12:04:04.715Z"
   },
   {
    "duration": 39,
    "start_time": "2022-11-08T12:08:17.466Z"
   },
   {
    "duration": 33,
    "start_time": "2022-11-08T12:09:29.398Z"
   },
   {
    "duration": 26,
    "start_time": "2022-11-08T12:10:00.321Z"
   },
   {
    "duration": 70,
    "start_time": "2022-11-08T12:11:17.963Z"
   },
   {
    "duration": 72,
    "start_time": "2022-11-08T12:11:54.822Z"
   },
   {
    "duration": 11,
    "start_time": "2022-11-08T12:13:47.574Z"
   },
   {
    "duration": 9,
    "start_time": "2022-11-08T12:14:18.167Z"
   },
   {
    "duration": 79,
    "start_time": "2022-11-08T12:15:28.892Z"
   },
   {
    "duration": 68,
    "start_time": "2022-11-08T13:23:18.455Z"
   },
   {
    "duration": 78,
    "start_time": "2022-11-08T13:24:13.472Z"
   },
   {
    "duration": 86,
    "start_time": "2022-11-08T13:28:30.801Z"
   },
   {
    "duration": 86,
    "start_time": "2022-11-08T13:28:45.697Z"
   },
   {
    "duration": 80,
    "start_time": "2022-11-08T13:31:11.596Z"
   },
   {
    "duration": 3,
    "start_time": "2022-11-08T13:35:24.234Z"
   },
   {
    "duration": 189,
    "start_time": "2022-11-08T13:35:24.240Z"
   },
   {
    "duration": 7,
    "start_time": "2022-11-08T13:35:24.431Z"
   },
   {
    "duration": 36,
    "start_time": "2022-11-08T13:35:24.440Z"
   },
   {
    "duration": 16,
    "start_time": "2022-11-08T13:35:24.479Z"
   },
   {
    "duration": 13,
    "start_time": "2022-11-08T13:35:24.497Z"
   },
   {
    "duration": 12,
    "start_time": "2022-11-08T13:35:24.513Z"
   },
   {
    "duration": 5,
    "start_time": "2022-11-08T13:35:24.527Z"
   },
   {
    "duration": 29,
    "start_time": "2022-11-08T13:35:24.534Z"
   },
   {
    "duration": 18,
    "start_time": "2022-11-08T13:35:24.565Z"
   },
   {
    "duration": 45,
    "start_time": "2022-11-08T13:35:24.585Z"
   },
   {
    "duration": 70,
    "start_time": "2022-11-08T13:35:24.632Z"
   },
   {
    "duration": 84,
    "start_time": "2022-11-08T13:35:24.718Z"
   },
   {
    "duration": 68,
    "start_time": "2022-11-08T13:35:51.689Z"
   },
   {
    "duration": 3,
    "start_time": "2022-11-08T13:35:57.850Z"
   },
   {
    "duration": 186,
    "start_time": "2022-11-08T13:35:57.855Z"
   },
   {
    "duration": 7,
    "start_time": "2022-11-08T13:35:58.043Z"
   },
   {
    "duration": 29,
    "start_time": "2022-11-08T13:35:58.053Z"
   },
   {
    "duration": 5,
    "start_time": "2022-11-08T13:35:58.084Z"
   },
   {
    "duration": 9,
    "start_time": "2022-11-08T13:35:58.091Z"
   },
   {
    "duration": 27,
    "start_time": "2022-11-08T13:35:58.102Z"
   },
   {
    "duration": 10,
    "start_time": "2022-11-08T13:35:58.131Z"
   },
   {
    "duration": 44,
    "start_time": "2022-11-08T13:35:58.143Z"
   },
   {
    "duration": 18,
    "start_time": "2022-11-08T13:35:58.190Z"
   },
   {
    "duration": 25,
    "start_time": "2022-11-08T13:35:58.210Z"
   },
   {
    "duration": 66,
    "start_time": "2022-11-08T13:35:58.237Z"
   },
   {
    "duration": 113,
    "start_time": "2022-11-08T13:35:58.321Z"
   },
   {
    "duration": 72,
    "start_time": "2022-11-08T13:36:04.337Z"
   },
   {
    "duration": 65,
    "start_time": "2022-11-08T13:36:31.879Z"
   },
   {
    "duration": 4,
    "start_time": "2022-11-08T13:38:16.144Z"
   },
   {
    "duration": 200,
    "start_time": "2022-11-08T13:38:16.152Z"
   },
   {
    "duration": 10,
    "start_time": "2022-11-08T13:38:16.354Z"
   },
   {
    "duration": 55,
    "start_time": "2022-11-08T13:38:16.366Z"
   },
   {
    "duration": 3,
    "start_time": "2022-11-08T13:38:16.424Z"
   },
   {
    "duration": 12,
    "start_time": "2022-11-08T13:38:16.429Z"
   },
   {
    "duration": 16,
    "start_time": "2022-11-08T13:38:16.444Z"
   },
   {
    "duration": 6,
    "start_time": "2022-11-08T13:38:16.463Z"
   },
   {
    "duration": 56,
    "start_time": "2022-11-08T13:38:16.471Z"
   },
   {
    "duration": 38,
    "start_time": "2022-11-08T13:38:16.529Z"
   },
   {
    "duration": 45,
    "start_time": "2022-11-08T13:38:16.569Z"
   },
   {
    "duration": 82,
    "start_time": "2022-11-08T13:38:16.616Z"
   },
   {
    "duration": 136,
    "start_time": "2022-11-08T13:43:33.373Z"
   },
   {
    "duration": 4,
    "start_time": "2022-11-08T13:43:38.348Z"
   },
   {
    "duration": 7,
    "start_time": "2022-11-08T13:44:08.980Z"
   },
   {
    "duration": 5,
    "start_time": "2022-11-08T13:46:06.386Z"
   },
   {
    "duration": 2,
    "start_time": "2022-11-08T13:46:16.610Z"
   },
   {
    "duration": 9,
    "start_time": "2022-11-08T13:46:39.357Z"
   },
   {
    "duration": 9,
    "start_time": "2022-11-08T13:47:24.471Z"
   },
   {
    "duration": 9,
    "start_time": "2022-11-08T13:48:08.324Z"
   },
   {
    "duration": 14,
    "start_time": "2022-11-08T13:49:05.238Z"
   },
   {
    "duration": 10,
    "start_time": "2022-11-08T13:49:28.087Z"
   },
   {
    "duration": 8,
    "start_time": "2022-11-08T13:49:34.854Z"
   },
   {
    "duration": 8,
    "start_time": "2022-11-08T13:49:43.747Z"
   },
   {
    "duration": 3,
    "start_time": "2022-11-08T13:50:26.195Z"
   },
   {
    "duration": 208,
    "start_time": "2022-11-08T13:50:26.200Z"
   },
   {
    "duration": 9,
    "start_time": "2022-11-08T13:50:26.412Z"
   },
   {
    "duration": 95,
    "start_time": "2022-11-08T13:50:26.423Z"
   },
   {
    "duration": 3,
    "start_time": "2022-11-08T13:50:26.522Z"
   },
   {
    "duration": 19,
    "start_time": "2022-11-08T13:50:26.527Z"
   },
   {
    "duration": 29,
    "start_time": "2022-11-08T13:50:26.548Z"
   },
   {
    "duration": 12,
    "start_time": "2022-11-08T13:50:26.580Z"
   },
   {
    "duration": 74,
    "start_time": "2022-11-08T13:51:48.267Z"
   },
   {
    "duration": 76,
    "start_time": "2022-11-08T13:52:07.452Z"
   },
   {
    "duration": 92,
    "start_time": "2022-11-08T13:52:15.930Z"
   },
   {
    "duration": 7,
    "start_time": "2022-11-08T13:52:22.563Z"
   },
   {
    "duration": 7,
    "start_time": "2022-11-08T13:52:37.522Z"
   },
   {
    "duration": 8,
    "start_time": "2022-11-08T13:52:46.251Z"
   },
   {
    "duration": 3,
    "start_time": "2022-11-08T13:54:23.553Z"
   },
   {
    "duration": 198,
    "start_time": "2022-11-08T13:54:23.558Z"
   },
   {
    "duration": 8,
    "start_time": "2022-11-08T13:54:23.758Z"
   },
   {
    "duration": 51,
    "start_time": "2022-11-08T13:54:23.768Z"
   },
   {
    "duration": 32,
    "start_time": "2022-11-08T13:54:23.822Z"
   },
   {
    "duration": 24,
    "start_time": "2022-11-08T13:54:23.857Z"
   },
   {
    "duration": 21,
    "start_time": "2022-11-08T13:54:23.883Z"
   },
   {
    "duration": 8,
    "start_time": "2022-11-08T13:54:23.906Z"
   },
   {
    "duration": 40,
    "start_time": "2022-11-08T13:54:23.917Z"
   },
   {
    "duration": 13,
    "start_time": "2022-11-08T13:54:23.959Z"
   },
   {
    "duration": 0,
    "start_time": "2022-11-08T13:54:23.974Z"
   },
   {
    "duration": 0,
    "start_time": "2022-11-08T13:54:23.976Z"
   },
   {
    "duration": 0,
    "start_time": "2022-11-08T13:54:23.978Z"
   },
   {
    "duration": 15,
    "start_time": "2022-11-08T13:54:53.464Z"
   },
   {
    "duration": 8,
    "start_time": "2022-11-08T13:55:00.260Z"
   },
   {
    "duration": 184,
    "start_time": "2022-11-08T13:55:11.809Z"
   },
   {
    "duration": 8,
    "start_time": "2022-11-08T13:55:34.480Z"
   },
   {
    "duration": 8,
    "start_time": "2022-11-08T13:56:14.330Z"
   },
   {
    "duration": 3,
    "start_time": "2022-11-08T13:57:13.386Z"
   },
   {
    "duration": 8,
    "start_time": "2022-11-08T13:57:16.297Z"
   },
   {
    "duration": 9,
    "start_time": "2022-11-08T13:57:47.282Z"
   },
   {
    "duration": 9,
    "start_time": "2022-11-08T13:57:57.299Z"
   },
   {
    "duration": 10,
    "start_time": "2022-11-08T13:59:10.828Z"
   },
   {
    "duration": 8,
    "start_time": "2022-11-08T14:01:12.690Z"
   },
   {
    "duration": 7,
    "start_time": "2022-11-08T14:01:37.748Z"
   },
   {
    "duration": 9,
    "start_time": "2022-11-08T14:02:08.344Z"
   },
   {
    "duration": 53,
    "start_time": "2022-11-08T14:02:44.810Z"
   },
   {
    "duration": 7,
    "start_time": "2022-11-08T14:03:00.818Z"
   },
   {
    "duration": 424,
    "start_time": "2022-11-08T14:03:10.622Z"
   },
   {
    "duration": 179,
    "start_time": "2022-11-08T14:03:22.176Z"
   },
   {
    "duration": 186,
    "start_time": "2022-11-08T14:03:31.443Z"
   },
   {
    "duration": 187,
    "start_time": "2022-11-08T14:03:33.743Z"
   },
   {
    "duration": 9,
    "start_time": "2022-11-08T14:03:43.599Z"
   },
   {
    "duration": 38,
    "start_time": "2022-11-08T14:03:50.414Z"
   },
   {
    "duration": 31,
    "start_time": "2022-11-08T14:04:02.146Z"
   },
   {
    "duration": 11,
    "start_time": "2022-11-08T14:04:06.383Z"
   },
   {
    "duration": 13,
    "start_time": "2022-11-08T14:04:27.353Z"
   },
   {
    "duration": 57,
    "start_time": "2022-11-08T14:04:45.748Z"
   },
   {
    "duration": 8,
    "start_time": "2022-11-08T14:06:09.601Z"
   },
   {
    "duration": 8,
    "start_time": "2022-11-08T14:06:32.931Z"
   },
   {
    "duration": 7,
    "start_time": "2022-11-08T14:06:36.317Z"
   },
   {
    "duration": 9,
    "start_time": "2022-11-08T14:06:49.092Z"
   },
   {
    "duration": 4,
    "start_time": "2022-11-08T14:06:56.866Z"
   },
   {
    "duration": 268,
    "start_time": "2022-11-08T14:07:03.328Z"
   },
   {
    "duration": 8,
    "start_time": "2022-11-08T14:07:05.985Z"
   },
   {
    "duration": 37,
    "start_time": "2022-11-08T14:07:13.164Z"
   },
   {
    "duration": 3,
    "start_time": "2022-11-08T14:07:22.234Z"
   },
   {
    "duration": 9,
    "start_time": "2022-11-08T14:07:29.290Z"
   },
   {
    "duration": 9,
    "start_time": "2022-11-08T14:07:53.250Z"
   },
   {
    "duration": 14,
    "start_time": "2022-11-08T14:08:23.370Z"
   },
   {
    "duration": 14,
    "start_time": "2022-11-08T14:08:56.989Z"
   },
   {
    "duration": 3,
    "start_time": "2022-11-08T14:09:46.835Z"
   },
   {
    "duration": 178,
    "start_time": "2022-11-08T14:09:49.134Z"
   },
   {
    "duration": 8,
    "start_time": "2022-11-08T14:10:01.687Z"
   },
   {
    "duration": 40,
    "start_time": "2022-11-08T14:10:14.775Z"
   },
   {
    "duration": 9,
    "start_time": "2022-11-08T14:10:21.192Z"
   },
   {
    "duration": 3,
    "start_time": "2022-11-08T14:10:35.625Z"
   },
   {
    "duration": 3,
    "start_time": "2022-11-08T14:10:43.636Z"
   },
   {
    "duration": 179,
    "start_time": "2022-11-08T14:10:43.642Z"
   },
   {
    "duration": 8,
    "start_time": "2022-11-08T14:10:43.823Z"
   },
   {
    "duration": 72,
    "start_time": "2022-11-08T14:10:43.833Z"
   },
   {
    "duration": 2,
    "start_time": "2022-11-08T14:10:43.908Z"
   },
   {
    "duration": 13,
    "start_time": "2022-11-08T14:11:06.475Z"
   },
   {
    "duration": 14,
    "start_time": "2022-11-08T14:11:28.054Z"
   },
   {
    "duration": 8,
    "start_time": "2022-11-08T14:15:50.220Z"
   },
   {
    "duration": 8,
    "start_time": "2022-11-08T14:16:01.304Z"
   },
   {
    "duration": 7,
    "start_time": "2022-11-08T14:51:32.044Z"
   },
   {
    "duration": 9,
    "start_time": "2022-11-08T14:58:16.038Z"
   },
   {
    "duration": 7,
    "start_time": "2022-11-08T15:35:24.393Z"
   },
   {
    "duration": 3,
    "start_time": "2022-11-08T15:36:44.126Z"
   },
   {
    "duration": 11,
    "start_time": "2022-11-08T15:38:06.258Z"
   },
   {
    "duration": 3,
    "start_time": "2022-11-08T15:38:19.966Z"
   },
   {
    "duration": 162,
    "start_time": "2022-11-08T15:38:25.991Z"
   },
   {
    "duration": 12,
    "start_time": "2022-11-08T15:38:32.807Z"
   },
   {
    "duration": 36,
    "start_time": "2022-11-08T15:38:42.151Z"
   },
   {
    "duration": 3,
    "start_time": "2022-11-08T15:38:55.555Z"
   },
   {
    "duration": 12,
    "start_time": "2022-11-08T15:39:00.292Z"
   },
   {
    "duration": 10,
    "start_time": "2022-11-08T15:39:43.517Z"
   },
   {
    "duration": 177,
    "start_time": "2022-11-08T15:39:49.765Z"
   },
   {
    "duration": 8,
    "start_time": "2022-11-08T15:39:55.606Z"
   },
   {
    "duration": 43,
    "start_time": "2022-11-08T15:40:01.210Z"
   },
   {
    "duration": 4,
    "start_time": "2022-11-08T15:40:15.745Z"
   },
   {
    "duration": 5,
    "start_time": "2022-11-08T15:40:23.780Z"
   },
   {
    "duration": 16,
    "start_time": "2022-11-08T15:40:33.166Z"
   },
   {
    "duration": 6,
    "start_time": "2022-11-08T15:40:44.476Z"
   },
   {
    "duration": 45,
    "start_time": "2022-11-08T15:40:48.961Z"
   },
   {
    "duration": 8,
    "start_time": "2022-11-08T15:41:03.202Z"
   },
   {
    "duration": 4,
    "start_time": "2022-11-08T15:41:42.267Z"
   },
   {
    "duration": 8,
    "start_time": "2022-11-08T15:41:53.972Z"
   },
   {
    "duration": 7,
    "start_time": "2022-11-08T15:42:00.788Z"
   },
   {
    "duration": 7,
    "start_time": "2022-11-08T15:42:04.512Z"
   },
   {
    "duration": 9,
    "start_time": "2022-11-08T15:42:15.015Z"
   },
   {
    "duration": 8,
    "start_time": "2022-11-08T15:42:22.177Z"
   },
   {
    "duration": 9,
    "start_time": "2022-11-08T15:42:30.848Z"
   },
   {
    "duration": 3,
    "start_time": "2022-11-08T15:42:37.913Z"
   },
   {
    "duration": 162,
    "start_time": "2022-11-08T15:42:40.091Z"
   },
   {
    "duration": 7,
    "start_time": "2022-11-08T15:42:41.676Z"
   },
   {
    "duration": 48,
    "start_time": "2022-11-08T15:42:43.595Z"
   },
   {
    "duration": 3,
    "start_time": "2022-11-08T15:42:46.861Z"
   },
   {
    "duration": 4,
    "start_time": "2022-11-08T15:42:50.652Z"
   },
   {
    "duration": 9,
    "start_time": "2022-11-08T15:42:55.032Z"
   },
   {
    "duration": 3,
    "start_time": "2022-11-08T15:42:59.500Z"
   },
   {
    "duration": 62,
    "start_time": "2022-11-08T15:43:06.821Z"
   },
   {
    "duration": 9,
    "start_time": "2022-11-08T15:43:23.600Z"
   },
   {
    "duration": 2,
    "start_time": "2022-11-08T15:43:34.325Z"
   },
   {
    "duration": 172,
    "start_time": "2022-11-08T15:43:34.329Z"
   },
   {
    "duration": 7,
    "start_time": "2022-11-08T15:43:34.503Z"
   },
   {
    "duration": 35,
    "start_time": "2022-11-08T15:43:34.513Z"
   },
   {
    "duration": 2,
    "start_time": "2022-11-08T15:43:34.550Z"
   },
   {
    "duration": 7,
    "start_time": "2022-11-08T15:43:34.554Z"
   },
   {
    "duration": 17,
    "start_time": "2022-11-08T15:43:34.562Z"
   },
   {
    "duration": 39,
    "start_time": "2022-11-08T15:43:34.581Z"
   },
   {
    "duration": 51,
    "start_time": "2022-11-08T15:43:34.624Z"
   },
   {
    "duration": 8,
    "start_time": "2022-11-08T15:43:34.677Z"
   },
   {
    "duration": 8,
    "start_time": "2022-11-08T15:43:48.879Z"
   },
   {
    "duration": 10,
    "start_time": "2022-11-08T15:44:26.046Z"
   },
   {
    "duration": 6,
    "start_time": "2022-11-08T15:44:37.282Z"
   },
   {
    "duration": 6,
    "start_time": "2022-11-08T15:45:03.183Z"
   },
   {
    "duration": 10,
    "start_time": "2022-11-08T15:45:36.776Z"
   },
   {
    "duration": 8,
    "start_time": "2022-11-08T15:45:43.730Z"
   },
   {
    "duration": 8,
    "start_time": "2022-11-08T15:46:48.126Z"
   },
   {
    "duration": 8,
    "start_time": "2022-11-08T15:49:16.475Z"
   },
   {
    "duration": 10,
    "start_time": "2022-11-08T15:49:26.587Z"
   },
   {
    "duration": 7,
    "start_time": "2022-11-08T15:50:41.013Z"
   },
   {
    "duration": 8,
    "start_time": "2022-11-08T15:50:44.363Z"
   },
   {
    "duration": 4,
    "start_time": "2022-11-08T15:51:03.980Z"
   },
   {
    "duration": 211,
    "start_time": "2022-11-08T15:51:03.987Z"
   },
   {
    "duration": 8,
    "start_time": "2022-11-08T15:51:04.199Z"
   },
   {
    "duration": 36,
    "start_time": "2022-11-08T15:51:04.208Z"
   },
   {
    "duration": 2,
    "start_time": "2022-11-08T15:51:04.247Z"
   },
   {
    "duration": 15,
    "start_time": "2022-11-08T15:51:04.251Z"
   },
   {
    "duration": 21,
    "start_time": "2022-11-08T15:51:04.268Z"
   },
   {
    "duration": 3,
    "start_time": "2022-11-08T15:51:04.291Z"
   },
   {
    "duration": 45,
    "start_time": "2022-11-08T15:51:04.296Z"
   },
   {
    "duration": 5,
    "start_time": "2022-11-08T15:51:10.617Z"
   },
   {
    "duration": 8,
    "start_time": "2022-11-08T15:51:16.595Z"
   },
   {
    "duration": 8,
    "start_time": "2022-11-08T15:51:26.862Z"
   },
   {
    "duration": 11,
    "start_time": "2022-11-08T15:51:29.756Z"
   },
   {
    "duration": 9,
    "start_time": "2022-11-08T15:51:35.132Z"
   },
   {
    "duration": 8,
    "start_time": "2022-11-08T15:51:39.109Z"
   },
   {
    "duration": 11,
    "start_time": "2022-11-08T15:52:15.744Z"
   },
   {
    "duration": 4,
    "start_time": "2022-11-08T15:52:32.205Z"
   },
   {
    "duration": 177,
    "start_time": "2022-11-08T15:52:33.287Z"
   },
   {
    "duration": 8,
    "start_time": "2022-11-08T15:52:35.254Z"
   },
   {
    "duration": 37,
    "start_time": "2022-11-08T15:52:38.353Z"
   },
   {
    "duration": 3,
    "start_time": "2022-11-08T15:52:43.332Z"
   },
   {
    "duration": 4,
    "start_time": "2022-11-08T15:52:46.126Z"
   },
   {
    "duration": 9,
    "start_time": "2022-11-08T15:52:50.443Z"
   },
   {
    "duration": 3,
    "start_time": "2022-11-08T15:52:54.173Z"
   },
   {
    "duration": 28,
    "start_time": "2022-11-08T15:52:55.877Z"
   },
   {
    "duration": 9,
    "start_time": "2022-11-08T15:53:02.191Z"
   },
   {
    "duration": 4,
    "start_time": "2022-11-08T15:53:06.199Z"
   },
   {
    "duration": 9,
    "start_time": "2022-11-08T15:53:14.285Z"
   },
   {
    "duration": 7,
    "start_time": "2022-11-08T15:53:28.653Z"
   },
   {
    "duration": 8,
    "start_time": "2022-11-08T15:53:32.272Z"
   },
   {
    "duration": 9,
    "start_time": "2022-11-08T16:03:01.032Z"
   },
   {
    "duration": 11,
    "start_time": "2022-11-08T16:04:37.717Z"
   },
   {
    "duration": 8,
    "start_time": "2022-11-08T16:07:08.391Z"
   },
   {
    "duration": 10,
    "start_time": "2022-11-08T16:15:03.372Z"
   },
   {
    "duration": 3,
    "start_time": "2022-11-08T16:16:39.836Z"
   },
   {
    "duration": 170,
    "start_time": "2022-11-08T16:16:40.893Z"
   },
   {
    "duration": 9,
    "start_time": "2022-11-08T16:16:42.149Z"
   },
   {
    "duration": 31,
    "start_time": "2022-11-08T16:16:43.218Z"
   },
   {
    "duration": 3,
    "start_time": "2022-11-08T16:16:45.559Z"
   },
   {
    "duration": 3,
    "start_time": "2022-11-08T16:16:48.743Z"
   },
   {
    "duration": 15,
    "start_time": "2022-11-08T16:16:51.803Z"
   },
   {
    "duration": 5,
    "start_time": "2022-11-08T16:16:52.892Z"
   },
   {
    "duration": 27,
    "start_time": "2022-11-08T16:18:06.043Z"
   },
   {
    "duration": 20,
    "start_time": "2022-11-08T16:19:09.477Z"
   },
   {
    "duration": 19,
    "start_time": "2022-11-08T16:19:13.657Z"
   },
   {
    "duration": 21,
    "start_time": "2022-11-08T16:19:21.125Z"
   },
   {
    "duration": 31,
    "start_time": "2022-11-08T16:19:28.861Z"
   },
   {
    "duration": 5,
    "start_time": "2022-11-08T16:19:35.171Z"
   },
   {
    "duration": 10,
    "start_time": "2022-11-08T16:19:52.764Z"
   },
   {
    "duration": 8,
    "start_time": "2022-11-08T16:20:53.947Z"
   },
   {
    "duration": 47,
    "start_time": "2022-11-08T16:20:58.984Z"
   },
   {
    "duration": 165,
    "start_time": "2022-11-08T16:24:25.113Z"
   },
   {
    "duration": 9,
    "start_time": "2022-11-08T16:24:26.776Z"
   },
   {
    "duration": 34,
    "start_time": "2022-11-08T16:24:29.224Z"
   },
   {
    "duration": 3,
    "start_time": "2022-11-08T16:24:35.696Z"
   },
   {
    "duration": 4,
    "start_time": "2022-11-08T16:24:47.734Z"
   },
   {
    "duration": 11,
    "start_time": "2022-11-08T16:24:50.179Z"
   },
   {
    "duration": 4,
    "start_time": "2022-11-08T16:24:57.630Z"
   },
   {
    "duration": 27,
    "start_time": "2022-11-08T16:25:09.229Z"
   },
   {
    "duration": 19,
    "start_time": "2022-11-08T16:25:21.835Z"
   },
   {
    "duration": 30,
    "start_time": "2022-11-08T16:25:26.236Z"
   },
   {
    "duration": 5,
    "start_time": "2022-11-08T16:25:28.858Z"
   },
   {
    "duration": 5,
    "start_time": "2022-11-08T16:25:32.873Z"
   },
   {
    "duration": 4,
    "start_time": "2022-11-08T16:31:54.335Z"
   },
   {
    "duration": 14,
    "start_time": "2022-11-08T16:34:04.614Z"
   },
   {
    "duration": 9,
    "start_time": "2022-11-08T16:35:21.451Z"
   },
   {
    "duration": 10,
    "start_time": "2022-11-08T16:35:30.440Z"
   },
   {
    "duration": 14,
    "start_time": "2022-11-08T16:36:38.824Z"
   },
   {
    "duration": 15,
    "start_time": "2022-11-08T16:36:58.146Z"
   },
   {
    "duration": 8,
    "start_time": "2022-11-08T16:38:44.646Z"
   },
   {
    "duration": 8,
    "start_time": "2022-11-08T16:51:57.778Z"
   },
   {
    "duration": 11,
    "start_time": "2022-11-08T16:52:36.536Z"
   },
   {
    "duration": 9,
    "start_time": "2022-11-08T16:52:39.457Z"
   },
   {
    "duration": 9,
    "start_time": "2022-11-08T16:53:38.714Z"
   },
   {
    "duration": 8,
    "start_time": "2022-11-08T16:54:29.197Z"
   },
   {
    "duration": 9,
    "start_time": "2022-11-08T17:02:51.326Z"
   },
   {
    "duration": 16,
    "start_time": "2022-11-08T17:39:27.433Z"
   },
   {
    "duration": 11,
    "start_time": "2022-11-08T17:39:38.136Z"
   },
   {
    "duration": 8,
    "start_time": "2022-11-08T17:39:41.158Z"
   },
   {
    "duration": 11,
    "start_time": "2022-11-08T17:41:07.236Z"
   },
   {
    "duration": 3,
    "start_time": "2022-11-08T17:45:04.237Z"
   },
   {
    "duration": 184,
    "start_time": "2022-11-08T17:45:07.729Z"
   },
   {
    "duration": 9,
    "start_time": "2022-11-08T17:45:12.473Z"
   },
   {
    "duration": 33,
    "start_time": "2022-11-08T17:45:17.337Z"
   },
   {
    "duration": 3,
    "start_time": "2022-11-08T17:45:25.044Z"
   },
   {
    "duration": 4,
    "start_time": "2022-11-08T17:45:29.276Z"
   },
   {
    "duration": 9,
    "start_time": "2022-11-08T17:45:33.289Z"
   },
   {
    "duration": 4,
    "start_time": "2022-11-08T17:45:38.435Z"
   },
   {
    "duration": 56,
    "start_time": "2022-11-08T17:45:42.491Z"
   },
   {
    "duration": 20,
    "start_time": "2022-11-08T17:45:48.681Z"
   },
   {
    "duration": 28,
    "start_time": "2022-11-08T17:45:54.043Z"
   },
   {
    "duration": 77,
    "start_time": "2022-11-08T17:46:00.162Z"
   },
   {
    "duration": 131,
    "start_time": "2022-11-08T17:46:04.816Z"
   },
   {
    "duration": 68,
    "start_time": "2022-11-08T17:46:09.575Z"
   },
   {
    "duration": 44,
    "start_time": "2022-11-08T17:46:14.713Z"
   },
   {
    "duration": 20,
    "start_time": "2022-11-08T18:24:36.778Z"
   },
   {
    "duration": 44,
    "start_time": "2022-11-08T18:26:44.078Z"
   },
   {
    "duration": 53,
    "start_time": "2022-11-08T18:31:52.353Z"
   },
   {
    "duration": 24,
    "start_time": "2022-11-08T18:33:45.346Z"
   },
   {
    "duration": 14,
    "start_time": "2022-11-08T18:40:36.997Z"
   },
   {
    "duration": 12,
    "start_time": "2022-11-08T18:43:43.283Z"
   },
   {
    "duration": 12,
    "start_time": "2022-11-08T18:43:46.684Z"
   },
   {
    "duration": 16,
    "start_time": "2022-11-08T18:45:24.923Z"
   },
   {
    "duration": 51,
    "start_time": "2022-11-08T19:10:11.932Z"
   },
   {
    "duration": 51,
    "start_time": "2022-11-08T19:10:39.761Z"
   },
   {
    "duration": 102,
    "start_time": "2022-11-08T19:12:54.068Z"
   },
   {
    "duration": 45,
    "start_time": "2022-11-08T19:13:12.550Z"
   },
   {
    "duration": 46,
    "start_time": "2022-11-08T19:13:18.945Z"
   },
   {
    "duration": 58,
    "start_time": "2022-11-08T19:17:18.107Z"
   },
   {
    "duration": 56,
    "start_time": "2022-11-08T19:18:26.710Z"
   },
   {
    "duration": 73,
    "start_time": "2022-11-08T19:18:30.015Z"
   },
   {
    "duration": 131,
    "start_time": "2022-11-08T19:19:05.945Z"
   },
   {
    "duration": 45,
    "start_time": "2022-11-08T19:19:29.430Z"
   },
   {
    "duration": 4,
    "start_time": "2022-11-08T19:22:24.537Z"
   },
   {
    "duration": 3,
    "start_time": "2022-11-08T19:23:01.078Z"
   },
   {
    "duration": 30,
    "start_time": "2022-11-08T19:34:17.794Z"
   },
   {
    "duration": 15,
    "start_time": "2022-11-08T19:34:19.244Z"
   },
   {
    "duration": 18,
    "start_time": "2022-11-08T19:34:20.563Z"
   },
   {
    "duration": 17,
    "start_time": "2022-11-08T19:34:21.834Z"
   },
   {
    "duration": 18,
    "start_time": "2022-11-08T19:34:22.963Z"
   },
   {
    "duration": 17,
    "start_time": "2022-11-08T19:34:26.205Z"
   },
   {
    "duration": 41,
    "start_time": "2022-11-08T19:39:26.352Z"
   },
   {
    "duration": 58,
    "start_time": "2022-11-08T19:48:23.116Z"
   },
   {
    "duration": 44,
    "start_time": "2022-11-08T19:48:28.138Z"
   },
   {
    "duration": 53,
    "start_time": "2022-11-08T19:48:58.412Z"
   },
   {
    "duration": 5,
    "start_time": "2022-11-08T19:50:16.677Z"
   },
   {
    "duration": 10,
    "start_time": "2022-11-08T19:50:58.563Z"
   },
   {
    "duration": 52,
    "start_time": "2022-11-09T10:49:11.641Z"
   },
   {
    "duration": 7,
    "start_time": "2022-11-09T10:50:42.615Z"
   },
   {
    "duration": 9,
    "start_time": "2022-11-09T10:50:54.810Z"
   },
   {
    "duration": 7,
    "start_time": "2022-11-09T10:51:57.778Z"
   },
   {
    "duration": 7,
    "start_time": "2022-11-09T10:54:48.248Z"
   },
   {
    "duration": 8,
    "start_time": "2022-11-09T10:54:52.117Z"
   },
   {
    "duration": 417,
    "start_time": "2022-11-09T11:26:24.304Z"
   },
   {
    "duration": 456,
    "start_time": "2022-11-09T11:26:27.957Z"
   },
   {
    "duration": 9,
    "start_time": "2022-11-09T11:26:31.849Z"
   },
   {
    "duration": 29,
    "start_time": "2022-11-09T11:26:36.443Z"
   },
   {
    "duration": 3,
    "start_time": "2022-11-09T11:26:46.554Z"
   },
   {
    "duration": 4,
    "start_time": "2022-11-09T11:26:50.490Z"
   },
   {
    "duration": 15,
    "start_time": "2022-11-09T11:26:54.764Z"
   },
   {
    "duration": 4,
    "start_time": "2022-11-09T11:26:57.829Z"
   },
   {
    "duration": 29,
    "start_time": "2022-11-09T11:27:02.546Z"
   },
   {
    "duration": 19,
    "start_time": "2022-11-09T11:27:06.654Z"
   },
   {
    "duration": 25,
    "start_time": "2022-11-09T11:27:10.018Z"
   },
   {
    "duration": 66,
    "start_time": "2022-11-09T11:27:13.337Z"
   },
   {
    "duration": 74,
    "start_time": "2022-11-09T11:27:16.660Z"
   },
   {
    "duration": 60,
    "start_time": "2022-11-09T11:27:19.564Z"
   },
   {
    "duration": 41,
    "start_time": "2022-11-09T11:27:24.203Z"
   },
   {
    "duration": 11,
    "start_time": "2022-11-09T11:27:30.599Z"
   },
   {
    "duration": 39,
    "start_time": "2022-11-09T11:27:34.690Z"
   },
   {
    "duration": 12,
    "start_time": "2022-11-09T11:27:40.618Z"
   },
   {
    "duration": 12,
    "start_time": "2022-11-09T11:27:43.801Z"
   },
   {
    "duration": 4,
    "start_time": "2022-11-09T11:27:48.627Z"
   },
   {
    "duration": 17,
    "start_time": "2022-11-09T11:27:51.995Z"
   },
   {
    "duration": 16,
    "start_time": "2022-11-09T11:27:53.117Z"
   },
   {
    "duration": 16,
    "start_time": "2022-11-09T11:27:54.259Z"
   },
   {
    "duration": 14,
    "start_time": "2022-11-09T11:27:55.584Z"
   },
   {
    "duration": 17,
    "start_time": "2022-11-09T11:27:58.567Z"
   },
   {
    "duration": 17,
    "start_time": "2022-11-09T11:27:59.690Z"
   },
   {
    "duration": 10,
    "start_time": "2022-11-09T11:28:03.596Z"
   },
   {
    "duration": 12,
    "start_time": "2022-11-09T11:28:07.952Z"
   },
   {
    "duration": 11,
    "start_time": "2022-11-09T11:28:11.347Z"
   },
   {
    "duration": 5,
    "start_time": "2022-11-09T11:46:34.800Z"
   },
   {
    "duration": 4,
    "start_time": "2022-11-09T11:51:49.361Z"
   },
   {
    "duration": 5,
    "start_time": "2022-11-09T11:53:23.116Z"
   },
   {
    "duration": 7,
    "start_time": "2022-11-09T11:54:01.493Z"
   },
   {
    "duration": 6,
    "start_time": "2022-11-09T11:55:56.011Z"
   },
   {
    "duration": 14,
    "start_time": "2022-11-09T11:57:27.722Z"
   },
   {
    "duration": 14,
    "start_time": "2022-11-09T11:57:29.318Z"
   },
   {
    "duration": 6,
    "start_time": "2022-11-09T11:57:35.705Z"
   },
   {
    "duration": 5,
    "start_time": "2022-11-09T12:00:47.801Z"
   },
   {
    "duration": 5,
    "start_time": "2022-11-09T12:01:42.215Z"
   },
   {
    "duration": 46,
    "start_time": "2022-11-09T12:01:51.911Z"
   },
   {
    "duration": 7,
    "start_time": "2022-11-09T12:02:00.915Z"
   },
   {
    "duration": 8,
    "start_time": "2022-11-09T12:02:21.559Z"
   },
   {
    "duration": 4,
    "start_time": "2022-11-09T12:02:34.595Z"
   },
   {
    "duration": 24,
    "start_time": "2022-11-09T12:06:14.016Z"
   },
   {
    "duration": 18,
    "start_time": "2022-11-09T12:31:32.778Z"
   },
   {
    "duration": 12,
    "start_time": "2022-11-09T12:32:42.023Z"
   },
   {
    "duration": 19,
    "start_time": "2022-11-09T12:33:08.889Z"
   },
   {
    "duration": 18,
    "start_time": "2022-11-09T12:33:23.162Z"
   },
   {
    "duration": 13,
    "start_time": "2022-11-09T12:33:24.355Z"
   },
   {
    "duration": 9,
    "start_time": "2022-11-09T12:34:14.161Z"
   },
   {
    "duration": 21,
    "start_time": "2022-11-09T12:34:39.739Z"
   },
   {
    "duration": 19,
    "start_time": "2022-11-09T12:35:28.519Z"
   },
   {
    "duration": 9,
    "start_time": "2022-11-09T12:43:19.323Z"
   },
   {
    "duration": 8,
    "start_time": "2022-11-09T12:48:09.412Z"
   },
   {
    "duration": 6,
    "start_time": "2022-11-09T12:49:23.708Z"
   },
   {
    "duration": 6,
    "start_time": "2022-11-09T12:52:54.056Z"
   },
   {
    "duration": 9,
    "start_time": "2022-11-09T12:53:08.433Z"
   },
   {
    "duration": 7,
    "start_time": "2022-11-09T12:53:29.781Z"
   },
   {
    "duration": 5,
    "start_time": "2022-11-09T12:54:12.158Z"
   }
  ],
  "colab": {
   "collapsed_sections": [
    "E0vqbgi9ay0H",
    "VUC88oWjTJw2"
   ],
   "name": "automatization_template_upd4.ipynb",
   "provenance": []
  },
  "kernelspec": {
   "display_name": "Python 3 (ipykernel)",
   "language": "python",
   "name": "python3"
  },
  "language_info": {
   "codemirror_mode": {
    "name": "ipython",
    "version": 3
   },
   "file_extension": ".py",
   "mimetype": "text/x-python",
   "name": "python",
   "nbconvert_exporter": "python",
   "pygments_lexer": "ipython3",
   "version": "3.9.5"
  },
  "toc": {
   "base_numbering": 1,
   "nav_menu": {
    "height": "215px",
    "width": "403px"
   },
   "number_sections": true,
   "sideBar": true,
   "skip_h1_title": true,
   "title_cell": "Table of Contents",
   "title_sidebar": "Contents",
   "toc_cell": false,
   "toc_position": {
    "height": "calc(100% - 180px)",
    "left": "10px",
    "top": "150px",
    "width": "285.825px"
   },
   "toc_section_display": true,
   "toc_window_display": false
  }
 },
 "nbformat": 4,
 "nbformat_minor": 1
}
