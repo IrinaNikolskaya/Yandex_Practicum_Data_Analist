{
 "cells": [
  {
   "cell_type": "markdown",
   "id": "70059e4a",
   "metadata": {},
   "source": [
    "## Исследование базы данных StackOverflow\n",
    "\n",
    "### Данные\n",
    "Самостоятельная работа основана на базе данных StackOverflow — сервиса вопросов и ответов о программировании.\n",
    "\n",
    "Мы будем работать с версией базы, где хранятся данные о постах за 2008 год, но в таблицах есть информация и о более поздних оценках, которые эти посты получили.\n",
    "\n",
    "### Цель\n",
    "Проект состоит из двух частей:\n",
    "\n",
    "В первой части несколько задач в SQL-тренажёре, чтобы закрепить пройденный материал.\n",
    "\n",
    "Вторая часть проекта — аналитическая."
   ]
  },
  {
   "cell_type": "markdown",
   "id": "093c2c75",
   "metadata": {},
   "source": [
    "**ЧАСТЬ 1**"
   ]
  },
  {
   "cell_type": "markdown",
   "id": "be868781",
   "metadata": {},
   "source": [
    "Задание 1\n",
    "\n",
    "Найдите количество вопросов, которые набрали больше 300 очков или как минимум 100 раз были добавлены в «Закладки»."
   ]
  },
  {
   "cell_type": "code",
   "execution_count": null,
   "id": "1dc93d08",
   "metadata": {},
   "outputs": [],
   "source": [
    "''''\n",
    "select count(p.id)\n",
    "fromstackoverflow.posts p\n",
    "left join stackoverflow.post_types pt ON p.post_type_id = pt.id\n",
    "where pt.type = 'Question'\n",
    "     and p.score > 300 or favorites_count >= 100 ;\n",
    "''''     "
   ]
  },
  {
   "cell_type": "markdown",
   "id": "c1198aa5",
   "metadata": {},
   "source": [
    "Задание 2\n",
    "\n",
    "Сколько в среднем в день задавали вопросов с 1 по 18 ноября 2008 включительно? Результат округлите до целого числа."
   ]
  },
  {
   "cell_type": "code",
   "execution_count": null,
   "id": "e946b9dc",
   "metadata": {},
   "outputs": [],
   "source": [
    "''''\n",
    "select round(avg(quation_cnt))\n",
    " \n",
    " from \n",
    " (select count(p.id) as quation_cnt,\n",
    "       creation_date :: date as date_question\n",
    "from   stackoverflow.posts as p\n",
    "left join stackoverflow.post_types as pt\n",
    "on p.post_type_id = pt.id\n",
    "where pt.type = 'Question' and creation_date :: date between '2008-11-01' and '2008-11-18'\n",
    "group by  creation_date :: date )  as tab\n",
    "''''"
   ]
  },
  {
   "cell_type": "markdown",
   "id": "542f349b",
   "metadata": {},
   "source": [
    "Задание 3\n",
    "\n",
    "Сколько пользователей получили значки сразу в день регистрации? Выведите количество уникальных пользователей."
   ]
  },
  {
   "cell_type": "code",
   "execution_count": null,
   "id": "ae788d06",
   "metadata": {},
   "outputs": [],
   "source": [
    "''''\n",
    "select count(distinct u.id)       \n",
    "from  stackoverflow.users u\n",
    "join stackoverflow.badges b\n",
    "on u.id = b.user_id\n",
    "where u.creation_date :: date = b.creation_date :: date\n",
    "''''"
   ]
  },
  {
   "cell_type": "markdown",
   "id": "23e0f799",
   "metadata": {},
   "source": [
    "Задание 4\n",
    "\n",
    "Сколько уникальных постов пользователя с именем Joel Coehoorn получили хотя бы один голос?"
   ]
  },
  {
   "cell_type": "code",
   "execution_count": null,
   "id": "d95830de",
   "metadata": {},
   "outputs": [],
   "source": [
    "''''\n",
    "select count(t.id)\n",
    "from (\n",
    "     select p.id\n",
    "     from stackoverflow.posts AS p\n",
    "     join stackoverflow.votes AS v ON p.id = v.post_id\n",
    "     join stackoverflow.users AS u ON p.user_id = u.id\n",
    "     where u.display_name like 'Joel Coehoorn'\n",
    "     group by p.id\n",
    "     having count(v.id)>=1) as t;\n",
    "''''     "
   ]
  },
  {
   "cell_type": "markdown",
   "id": "1764cca2",
   "metadata": {},
   "source": [
    "Задание 5\n",
    "\n",
    "Выгрузите все поля таблицы vote_types. Добавьте к таблице поле rank, в которое войдут номера записей в обратном порядке. Таблица должна быть отсортирована по полю id."
   ]
  },
  {
   "cell_type": "code",
   "execution_count": null,
   "id": "f83c6836",
   "metadata": {},
   "outputs": [],
   "source": [
    "''''\n",
    "select *,\n",
    "       rank() over (order by id desc)\n",
    "from  stackoverflow.vote_types \n",
    "order by id\n",
    "''''"
   ]
  },
  {
   "cell_type": "markdown",
   "id": "239e0e1e",
   "metadata": {},
   "source": [
    "Задание 6\n",
    "\n",
    "Отберите 10 пользователей, которые поставили больше всего голосов типа Close. Отобразите таблицу из двух полей: идентификатором пользователя и количеством голосов. Отсортируйте данные сначала по убыванию количества голосов, потом по убыванию значения идентификатора пользователя."
   ]
  },
  {
   "cell_type": "code",
   "execution_count": null,
   "id": "c5287e5b",
   "metadata": {},
   "outputs": [],
   "source": [
    "''''\n",
    "select u.id,\n",
    "       count(vt.name) as voite_name\n",
    "from  stackoverflow.users u\n",
    "join stackoverflow.votes v \n",
    "on v.user_id = u.id\n",
    "join stackoverflow.vote_types vt\n",
    "on v.vote_type_id = vt.id\n",
    "where vt.name = 'Close'\n",
    "group by u.id\n",
    "order by voite_name desc, u.id desc\n",
    "limit 10\n",
    "''''"
   ]
  },
  {
   "cell_type": "markdown",
   "id": "623ab206",
   "metadata": {},
   "source": [
    "Задание 7\n",
    "\n",
    "Отберите 10 пользователей по количеству значков, полученных в период с 15 ноября по 15 декабря 2008 года включительно. Отобразите несколько полей: идентификатор пользователя; число значков; место в рейтинге — чем больше значков, тем выше рейтинг. Пользователям, которые набрали одинаковое количество значков, присвойте одно и то же место в рейтинге. Отсортируйте записи по количеству значков по убыванию, а затем по возрастанию значения идентификатора пользователя."
   ]
  },
  {
   "cell_type": "code",
   "execution_count": null,
   "id": "06a3eace",
   "metadata": {},
   "outputs": [],
   "source": [
    "''''\n",
    "select user_id,\n",
    "      count(id),\n",
    "      dense_rank() over (order by count(id) desc)\n",
    "from stackoverflow.badges    \n",
    "where creation_date:: date between '2008-11-15' and '2008-12-15'\n",
    "group by user_id\n",
    "order by count(id) desc,user_id asc\n",
    "limit 10\n",
    "''''\n"
   ]
  },
  {
   "cell_type": "markdown",
   "id": "398fcc9e",
   "metadata": {},
   "source": [
    "Задание 8\n",
    "\n",
    "Сколько в среднем очков получает пост каждого пользователя?\n",
    "\n",
    "Сформируйте таблицу из следующих полей:\n",
    "\n",
    "заголовок поста;\n",
    "\n",
    "идентификатор пользователя;\n",
    "\n",
    "число очков поста;\n",
    "\n",
    "среднее число очков пользователя за пост, округлённое до целого числа.\n",
    "\n",
    "Не учитывайте посты без заголовка, а также те, что набрали ноль очков."
   ]
  },
  {
   "cell_type": "code",
   "execution_count": null,
   "id": "8a69572a",
   "metadata": {},
   "outputs": [],
   "source": [
    "''''\n",
    "select title,\n",
    "       user_id,\n",
    "       score,\n",
    "     round (avg(score) over (partition by user_id ))\n",
    "from   stackoverflow.posts   \n",
    "where title is not null\n",
    "      and score <> 0\n",
    "group by   title, user_id, score \n",
    "''''"
   ]
  },
  {
   "cell_type": "markdown",
   "id": "87d70303",
   "metadata": {},
   "source": [
    "Задание 9\n",
    "\n",
    "Отобразите заголовки постов, которые были написаны пользователями, получившими более 1000 значков. Посты без заголовков не должны попасть в список."
   ]
  },
  {
   "cell_type": "code",
   "execution_count": null,
   "id": "0981b6fe",
   "metadata": {},
   "outputs": [],
   "source": [
    "''''\n",
    "select title \n",
    "from  stackoverflow.posts\n",
    "where user_id  in\n",
    "                (select user_id\n",
    "                 from stackoverflow.posts\n",
    "                 group by user_id  \n",
    "                 having count(id) > 1000)\n",
    "and title is not null\n",
    "group by title\n",
    "''''"
   ]
  },
  {
   "cell_type": "markdown",
   "id": "5a8a9319",
   "metadata": {},
   "source": [
    "Задание 10\n",
    "\n",
    "Напишите запрос, который выгрузит данные о пользователях из США (англ. United States). Разделите пользователей на три группы в зависимости от количества просмотров их профилей:\n",
    "\n",
    "пользователям с числом просмотров больше либо равным 350 присвойте группу 1;\n",
    "\n",
    "пользователям с числом просмотров меньше 350, но больше либо равно 100 — группу 2;\n",
    "\n",
    "пользователям с числом просмотров меньше 100 — группу 3.\n",
    "\n",
    "Отобразите в итоговой таблице идентификатор пользователя, количество просмотров профиля и группу. Пользователи с нулевым количеством просмотров не должны войти в итоговую таблицу."
   ]
  },
  {
   "cell_type": "code",
   "execution_count": null,
   "id": "b36e30f9",
   "metadata": {},
   "outputs": [],
   "source": [
    "''''\n",
    "select id,\n",
    "       views,\n",
    "       case\n",
    "          when views >= 350 then 1\n",
    "          when views >= 100 and views < 350  then 2\n",
    "          else 3\n",
    "      end \n",
    "from stackoverflow.users\n",
    "where location like  '%United States%' and views != 0\n",
    "''''"
   ]
  },
  {
   "cell_type": "markdown",
   "id": "bdf2ba1e",
   "metadata": {},
   "source": [
    "Задание 11\n",
    "\n",
    "Дополните предыдущий запрос. Отобразите лидеров каждой группы — пользователей, которые набрали максимальное число просмотров в своей группе.\n",
    "\n",
    "Выведите поля с идентификатором пользователя, группой и количеством просмотров.\n",
    "\n",
    "Отсортируйте таблицу по убыванию просмотров, а затем по возрастанию значения идентификатора."
   ]
  },
  {
   "cell_type": "code",
   "execution_count": null,
   "id": "346810ca",
   "metadata": {},
   "outputs": [],
   "source": [
    "''''\n",
    "with tab AS\n",
    "select t.id,\n",
    "        t.views,\n",
    "        t.group,\n",
    "        max(t.views) over (partition by t.group) as max\t\n",
    " from (select id,\n",
    "              views,\n",
    "              case\n",
    "                 when views>=350 then 1\n",
    "                 when views<100 then 3\n",
    "                 else 2\n",
    "              end as group\n",
    "       from stackoverflow.users\n",
    "       where location like '%United States%'\n",
    "          and views > 0\n",
    "          ) as t\n",
    "  )\n",
    "  \n",
    "select tab.id, \n",
    "       tab.views,  \n",
    "       tab.group\n",
    "from tab\n",
    "where tab.views = tab.max\n",
    "order by tab.views desc, tab.id;\n",
    "''''"
   ]
  },
  {
   "cell_type": "markdown",
   "id": "5571e6ee",
   "metadata": {},
   "source": [
    "Задание 12\n",
    "\n",
    "Посчитайте ежедневный прирост новых пользователей в ноябре 2008 года. Сформируйте таблицу с полями:\n",
    "\n",
    "- номер дня;\n",
    "- число пользователей, зарегистрированных в этот день;\n",
    "- сумму пользователей с накоплением."
   ]
  },
  {
   "cell_type": "code",
   "execution_count": null,
   "id": "f34b8d3e",
   "metadata": {},
   "outputs": [],
   "source": [
    "''''\n",
    "select day,\n",
    "       count_id ,\n",
    "       sum(count_id ) over (order by day)\n",
    "\n",
    "from \n",
    "(select extract ( day from creation_date) as day,\n",
    "        count(id)  as count_id        \n",
    "from stackoverflow.users   \n",
    "where  creation_date:: date between  '2008-11-01' and '2008-11-30'\n",
    "group by extract ( day from creation_date)) as users_november\n",
    "''''"
   ]
  },
  {
   "cell_type": "markdown",
   "id": "7441b442",
   "metadata": {},
   "source": [
    "Задание 13\n",
    "\n",
    "Для каждого пользователя, который написал хотя бы один пост, найдите интервал между регистрацией и временем создания первого поста.\n",
    "\n",
    "Отобразите:\n",
    "\n",
    "- идентификатор пользователя;\n",
    "- разницу во времени между регистрацией и первым постом."
   ]
  },
  {
   "cell_type": "code",
   "execution_count": null,
   "id": "3c721996",
   "metadata": {},
   "outputs": [],
   "source": [
    "''''\n",
    "select distinct p.user_id,\n",
    "       min(p.creation_date ) over (partition by p.user_id) - u.creation_date    \n",
    "from stackoverflow.posts p\n",
    "join stackoverflow.users u\n",
    "on p.user_id = u.id\n",
    "''''"
   ]
  },
  {
   "cell_type": "markdown",
   "id": "79f44f9e",
   "metadata": {},
   "source": [
    "ЧАСТЬ 2"
   ]
  },
  {
   "cell_type": "markdown",
   "id": "42bcf87a",
   "metadata": {},
   "source": [
    "Задание 1\n",
    "\n",
    "Выведите общую сумму просмотров постов за каждый месяц 2008 года. Если данных за какой-либо месяц в базе нет, такой месяц можно пропустить.\n",
    "\n",
    "Результат отсортируйте по убыванию общего количества просмотров."
   ]
  },
  {
   "cell_type": "code",
   "execution_count": null,
   "id": "3f8e7d0e",
   "metadata": {},
   "outputs": [],
   "source": [
    "''''\n",
    "select date_trunc('month',creation_date)::date as month,\n",
    "       sum(views_count) as sum_views\n",
    "from  stackoverflow.posts\n",
    "where date_trunc('month',creation_date)::date between '2008-01-01' and '2008-12-31'\n",
    "group by month\n",
    "order by sum_views desc\n",
    "''''"
   ]
  },
  {
   "cell_type": "markdown",
   "id": "e528b4c4",
   "metadata": {},
   "source": [
    "Задание 2\n",
    "\n",
    "Выведите имена самых активных пользователей, которые в первый месяц после регистрации (включая день регистрации) дали больше 100 ответов.\n",
    "\n",
    "Вопросы, которые задавали пользователи, не учитывайте. Для каждого имени пользователя выведите количество уникальных значений user_id.\n",
    "\n",
    "Отсортируйте результат по полю с именами в лексикографическом порядке."
   ]
  },
  {
   "cell_type": "code",
   "execution_count": null,
   "id": "a5c305cb",
   "metadata": {},
   "outputs": [],
   "source": [
    "''''\n",
    "select u.display_name,\n",
    "       count(distinct p.user_id)\n",
    "from stackoverflow.users u\n",
    "join stackoverflow.posts p\n",
    "on p.user_id = u.id\n",
    "join stackoverflow.post_types pt\n",
    "on p.post_type_id = pt.id\n",
    "where p.creation_date::date between u.creation_date::date  and (u.creation_date::date + interval '1 month')\n",
    "      and pt.type= 'Answer' \n",
    "group by u.display_name     \n",
    "having count(distinct p.id)  > 100     \n",
    "order by u.display_name\n",
    "''''"
   ]
  },
  {
   "cell_type": "markdown",
   "id": "399b763a",
   "metadata": {},
   "source": [
    "Задание 3\n",
    "\n",
    "Выведите количество постов за 2008 год по месяцам.\n",
    "\n",
    "Отберите посты от пользователей, которые зарегистрировались в сентябре 2008 года и сделали хотя бы один пост в декабре того же года.\n",
    "\n",
    "Отсортируйте таблицу по значению месяца по убыванию."
   ]
  },
  {
   "cell_type": "code",
   "execution_count": null,
   "id": "2824fb1d",
   "metadata": {},
   "outputs": [],
   "source": [
    "''''\n",
    "select count(distinct id),\n",
    "       DATE_TRUNC('month', creation_date)::date as month\n",
    "from stackoverflow.posts\n",
    "where user_id in\n",
    "              (select u.id\n",
    "               from stackoverflow.users u\n",
    "               join stackoverflow.posts p\n",
    "               on p.user_id = u.id\n",
    "               where u.creation_date::date between '2008-09-01' and '2008-09-30'\n",
    "               and p.creation_date:: date between '2008-12-01' and '2008-12-31'\n",
    "               group by u.id  )    \n",
    "group by DATE_TRUNC('month', creation_date)::date\n",
    "order by month desc\n",
    "''''"
   ]
  },
  {
   "cell_type": "markdown",
   "id": "d56c0a49",
   "metadata": {},
   "source": [
    "Задание 4\n",
    "\n",
    "Используя данные о постах, выведите несколько полей:\n",
    "\n",
    "- идентификатор пользователя, который написал пост;\n",
    "- дата создания поста;\n",
    "- количество просмотров у текущего поста;\n",
    "- сумму просмотров постов автора с накоплением.\n",
    "\n",
    "Данные в таблице должны быть отсортированы по возрастанию идентификаторов пользователей, а данные об одном и том же пользователе — по возрастанию даты создания поста."
   ]
  },
  {
   "cell_type": "code",
   "execution_count": null,
   "id": "e2d86131",
   "metadata": {},
   "outputs": [],
   "source": [
    "''''\n",
    "select user_id,\n",
    "       creation_date,\n",
    "       views_count,\n",
    "       sum(views_count) over (partition by user_id order by creation_date )\n",
    "from  stackoverflow.posts \n",
    "order by user_id asc, creation_date asc\n",
    "''''"
   ]
  },
  {
   "cell_type": "markdown",
   "id": "c3d21be4",
   "metadata": {},
   "source": [
    "Задание 5\n",
    "\n",
    "Сколько в среднем дней в период с 1 по 7 декабря 2008 года включительно пользователи взаимодействовали с платформой?\n",
    "\n",
    "Для каждого пользователя отберите дни, в которые он или она опубликовали хотя бы один пост. Нужно получить одно целое число — не забудьте округлить результат."
   ]
  },
  {
   "cell_type": "code",
   "execution_count": null,
   "id": "83408af3",
   "metadata": {},
   "outputs": [],
   "source": [
    "''''\n",
    "select round(avg(cnt_days))\n",
    "from \n",
    "     (select user_id,\n",
    "            count( creation_date :: date) as cnt_days\n",
    "      from stackoverflow.posts\n",
    "      where creation_date :: date between '2008-12-01' and '2008-12-07'\n",
    "      group by user_id) as tab\n",
    "''''"
   ]
  },
  {
   "cell_type": "markdown",
   "id": "a78fff5e",
   "metadata": {},
   "source": [
    "Задание 6\n",
    "\n",
    "На сколько процентов менялось количество постов ежемесячно с 1 сентября по 31 декабря 2008 года? Отобразите таблицу со следующими полями:\n",
    "\n",
    "- номер месяца;\n",
    "- количество постов за месяц;\n",
    "- процент, который показывает, насколько изменилось количество постов в текущем месяце по сравнению с предыдущим.\n",
    "\n",
    "Если постов стало меньше, значение процента должно быть отрицательным, если больше — положительным. Округлите значение процента до двух знаков после запятой.\n"
   ]
  },
  {
   "cell_type": "code",
   "execution_count": null,
   "id": "d28a0965",
   "metadata": {},
   "outputs": [],
   "source": [
    "''''\n",
    "with tab as\n",
    "       (select extract(month from creation_date) as month_number,\n",
    "               count(id) as post_count\n",
    "       from  stackoverflow.posts\n",
    "       where creation_date::date between '2008-09-01' and '2008-12-31'\n",
    "       group by month_number)\n",
    "\n",
    "select *,\n",
    "      round ((post_count :: numeric / lag(post_count) over (order by month_number) -1) *100,2)\n",
    "from tab\n",
    "''''"
   ]
  },
  {
   "cell_type": "markdown",
   "id": "5c9c67c9",
   "metadata": {},
   "source": [
    "Задание 7\n",
    "\n",
    "Выгрузите данные активности пользователя, который опубликовал больше всего постов за всё время. Выведите данные за октябрь 2008 года в таком виде:\n",
    "\n",
    "- номер недели;\n",
    "- дата и время последнего поста, опубликованного на этой неделе."
   ]
  },
  {
   "cell_type": "code",
   "execution_count": null,
   "id": "7ca455cf",
   "metadata": {},
   "outputs": [],
   "source": [
    "''''\n",
    "with t as (\n",
    "         select user_id,\n",
    "                count(distinct id) as cnt\n",
    "         from stackoverflow.posts\n",
    "         group by user_id\n",
    "         orderby cnt desc\n",
    "         limit 1),\n",
    "         \n",
    "t1 as (\n",
    "       select p.user_id,\n",
    "              p.creation_date,\n",
    "              extract('week' from p.creation_date) AS week_number\n",
    "       from stackoverflow.posts as p\n",
    "       join t on t.user_id = p.user_id\n",
    "       where DATE_TRUNC('month', p.creation_date)::date between  '2008-10-01' and '2008-10-30'\n",
    "           )\n",
    "\n",
    "select distinct week_number,\n",
    "       max(creation_date) over (partition by week_number)\n",
    "from t1\n",
    "order by week_number;\n",
    "''''"
   ]
  },
  {
   "cell_type": "code",
   "execution_count": null,
   "id": "acad1d38",
   "metadata": {},
   "outputs": [],
   "source": []
  },
  {
   "cell_type": "code",
   "execution_count": null,
   "id": "6738d13d",
   "metadata": {},
   "outputs": [],
   "source": []
  },
  {
   "cell_type": "code",
   "execution_count": null,
   "id": "f67685d8",
   "metadata": {},
   "outputs": [],
   "source": []
  }
 ],
 "metadata": {
  "kernelspec": {
   "display_name": "Python 3 (ipykernel)",
   "language": "python",
   "name": "python3"
  },
  "language_info": {
   "codemirror_mode": {
    "name": "ipython",
    "version": 3
   },
   "file_extension": ".py",
   "mimetype": "text/x-python",
   "name": "python",
   "nbconvert_exporter": "python",
   "pygments_lexer": "ipython3",
   "version": "3.9.13"
  }
 },
 "nbformat": 4,
 "nbformat_minor": 5
}
