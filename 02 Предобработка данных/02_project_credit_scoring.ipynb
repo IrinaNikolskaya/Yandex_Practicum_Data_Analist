{
 "cells": [
  {
   "cell_type": "markdown",
   "id": "c81daeeb",
   "metadata": {
    "deletable": false,
    "editable": false,
    "id": "c81daeeb"
   },
   "source": [
    "# Исследование надежности заемщиков"
   ]
  },
  {
   "cell_type": "markdown",
   "id": "97246af2",
   "metadata": {},
   "source": [
    "Заказчик — кредитный отдел банка. Нужно разобраться, влияет ли семейное положение и количество детей клиента на факт погашения кредита в срок. Входные данные от банка — статистика о платёжеспособности клиентов.\n",
    "\n",
    "Результаты исследования будут учтены при построении модели кредитного скоринга — специальной системы, которая оценивает способность потенциального заёмщика вернуть кредит банку."
   ]
  },
  {
   "cell_type": "markdown",
   "id": "4b53ba41",
   "metadata": {},
   "source": [
    "**Описание проекта.**\n",
    "\n",
    "По представленным статичтическим данным о платежеспособности клиентов банка необходимо провести исследование- влияет ли семейное положение и количество детей клиента на факт погашения кредита в срок. Результаты исследования будут учтены при построении модели кредитного скоринга — специальной системы, которая оценивает способность потенциального заёмщика вернуть кредит банку.\n",
    "\n",
    "**Цель исследования — проверить гипотезы:**\n",
    "\n",
    "Существует ли зависимость:\n",
    "\n",
    "- между наличием детей и возвратом кредита в срок;\n",
    "- между семейным положением и возвратом кредита в срок;\n",
    "- между уровнем дохода и возвратом кредита в срок;\n",
    "- между целью кредита и его возврат в срок.\n",
    "\n",
    "**Ход исследования**\n",
    "\n",
    "Данные о поведении пользователей (статистика о платёжеспособности клиентов)- в файле /datasets/data.csv. О качестве данных ничего не известно. Поэтому перед проверкой гипотез понадобится обзор данных.\n",
    "\n",
    "Проверим данные на ошибки и оценим их влияние на исследование. Затем, на этапе предобработки поищем возможность исправить самые критичные ошибки данных.\n",
    "\n",
    "Таким образом, исследование пройдёт в три этапа:\n",
    "\n",
    "- Обзор данных.\n",
    "- Предобработка данных.\n",
    "- Проверка гипотез."
   ]
  },
  {
   "cell_type": "markdown",
   "id": "-G3EJWzf62s6",
   "metadata": {
    "deletable": false,
    "editable": false,
    "id": "-G3EJWzf62s6"
   },
   "source": [
    "Это первая часть проекта, она будет проверена автоматически. Вторую часть проверит ревьюер. "
   ]
  },
  {
   "cell_type": "markdown",
   "id": "744d7639",
   "metadata": {
    "deletable": false,
    "editable": false,
    "id": "744d7639"
   },
   "source": [
    "## Откройте таблицу и изучите общую информацию о данных"
   ]
  },
  {
   "cell_type": "markdown",
   "id": "e7a14c31",
   "metadata": {
    "deletable": false,
    "editable": false,
    "id": "e7a14c31",
    "tags": [
     "start_task"
    ]
   },
   "source": [
    "**Задание 1. Импортируйте библиотеку pandas. Считайте данные из csv-файла в датафрейм и сохраните в переменную `data`. Путь к файлу:**\n",
    "\n",
    "`/datasets/data.csv`"
   ]
  },
  {
   "cell_type": "code",
   "execution_count": 1,
   "id": "7bcf75c9",
   "metadata": {
    "id": "7bcf75c9"
   },
   "outputs": [],
   "source": [
    "import pandas as pd"
   ]
  },
  {
   "cell_type": "code",
   "execution_count": 2,
   "id": "4d240ee2",
   "metadata": {
    "id": "4d240ee2"
   },
   "outputs": [],
   "source": [
    "data=pd.read_csv('/datasets/data.csv')"
   ]
  },
  {
   "cell_type": "markdown",
   "id": "b8038fe3",
   "metadata": {
    "deletable": false,
    "editable": false,
    "id": "b8038fe3",
    "tags": [
     "start_task"
    ]
   },
   "source": [
    "**Задание 2. Выведите первые 20 строчек датафрейма `data` на экран.**"
   ]
  },
  {
   "cell_type": "code",
   "execution_count": 56,
   "id": "2a7cab99",
   "metadata": {
    "id": "2a7cab99"
   },
   "outputs": [
    {
     "data": {
      "text/html": [
       "<div>\n",
       "<style scoped>\n",
       "    .dataframe tbody tr th:only-of-type {\n",
       "        vertical-align: middle;\n",
       "    }\n",
       "\n",
       "    .dataframe tbody tr th {\n",
       "        vertical-align: top;\n",
       "    }\n",
       "\n",
       "    .dataframe thead th {\n",
       "        text-align: right;\n",
       "    }\n",
       "</style>\n",
       "<table border=\"1\" class=\"dataframe\">\n",
       "  <thead>\n",
       "    <tr style=\"text-align: right;\">\n",
       "      <th></th>\n",
       "      <th>children</th>\n",
       "      <th>days_employed</th>\n",
       "      <th>dob_years</th>\n",
       "      <th>education</th>\n",
       "      <th>education_id</th>\n",
       "      <th>family_status</th>\n",
       "      <th>family_status_id</th>\n",
       "      <th>gender</th>\n",
       "      <th>income_type</th>\n",
       "      <th>debt</th>\n",
       "      <th>total_income</th>\n",
       "      <th>purpose</th>\n",
       "    </tr>\n",
       "  </thead>\n",
       "  <tbody>\n",
       "    <tr>\n",
       "      <th>0</th>\n",
       "      <td>1</td>\n",
       "      <td>-8437.673028</td>\n",
       "      <td>42</td>\n",
       "      <td>высшее</td>\n",
       "      <td>0</td>\n",
       "      <td>женат / замужем</td>\n",
       "      <td>0</td>\n",
       "      <td>F</td>\n",
       "      <td>сотрудник</td>\n",
       "      <td>0</td>\n",
       "      <td>253875.639453</td>\n",
       "      <td>покупка жилья</td>\n",
       "    </tr>\n",
       "    <tr>\n",
       "      <th>1</th>\n",
       "      <td>1</td>\n",
       "      <td>-4024.803754</td>\n",
       "      <td>36</td>\n",
       "      <td>среднее</td>\n",
       "      <td>1</td>\n",
       "      <td>женат / замужем</td>\n",
       "      <td>0</td>\n",
       "      <td>F</td>\n",
       "      <td>сотрудник</td>\n",
       "      <td>0</td>\n",
       "      <td>112080.014102</td>\n",
       "      <td>приобретение автомобиля</td>\n",
       "    </tr>\n",
       "    <tr>\n",
       "      <th>2</th>\n",
       "      <td>0</td>\n",
       "      <td>-5623.422610</td>\n",
       "      <td>33</td>\n",
       "      <td>Среднее</td>\n",
       "      <td>1</td>\n",
       "      <td>женат / замужем</td>\n",
       "      <td>0</td>\n",
       "      <td>M</td>\n",
       "      <td>сотрудник</td>\n",
       "      <td>0</td>\n",
       "      <td>145885.952297</td>\n",
       "      <td>покупка жилья</td>\n",
       "    </tr>\n",
       "    <tr>\n",
       "      <th>3</th>\n",
       "      <td>3</td>\n",
       "      <td>-4124.747207</td>\n",
       "      <td>32</td>\n",
       "      <td>среднее</td>\n",
       "      <td>1</td>\n",
       "      <td>женат / замужем</td>\n",
       "      <td>0</td>\n",
       "      <td>M</td>\n",
       "      <td>сотрудник</td>\n",
       "      <td>0</td>\n",
       "      <td>267628.550329</td>\n",
       "      <td>дополнительное образование</td>\n",
       "    </tr>\n",
       "    <tr>\n",
       "      <th>4</th>\n",
       "      <td>0</td>\n",
       "      <td>340266.072047</td>\n",
       "      <td>53</td>\n",
       "      <td>среднее</td>\n",
       "      <td>1</td>\n",
       "      <td>гражданский брак</td>\n",
       "      <td>1</td>\n",
       "      <td>F</td>\n",
       "      <td>пенсионер</td>\n",
       "      <td>0</td>\n",
       "      <td>158616.077870</td>\n",
       "      <td>сыграть свадьбу</td>\n",
       "    </tr>\n",
       "    <tr>\n",
       "      <th>5</th>\n",
       "      <td>0</td>\n",
       "      <td>-926.185831</td>\n",
       "      <td>27</td>\n",
       "      <td>высшее</td>\n",
       "      <td>0</td>\n",
       "      <td>гражданский брак</td>\n",
       "      <td>1</td>\n",
       "      <td>M</td>\n",
       "      <td>компаньон</td>\n",
       "      <td>0</td>\n",
       "      <td>255763.565419</td>\n",
       "      <td>покупка жилья</td>\n",
       "    </tr>\n",
       "    <tr>\n",
       "      <th>6</th>\n",
       "      <td>0</td>\n",
       "      <td>-2879.202052</td>\n",
       "      <td>43</td>\n",
       "      <td>высшее</td>\n",
       "      <td>0</td>\n",
       "      <td>женат / замужем</td>\n",
       "      <td>0</td>\n",
       "      <td>F</td>\n",
       "      <td>компаньон</td>\n",
       "      <td>0</td>\n",
       "      <td>240525.971920</td>\n",
       "      <td>операции с жильем</td>\n",
       "    </tr>\n",
       "    <tr>\n",
       "      <th>7</th>\n",
       "      <td>0</td>\n",
       "      <td>-152.779569</td>\n",
       "      <td>50</td>\n",
       "      <td>СРЕДНЕЕ</td>\n",
       "      <td>1</td>\n",
       "      <td>женат / замужем</td>\n",
       "      <td>0</td>\n",
       "      <td>M</td>\n",
       "      <td>сотрудник</td>\n",
       "      <td>0</td>\n",
       "      <td>135823.934197</td>\n",
       "      <td>образование</td>\n",
       "    </tr>\n",
       "    <tr>\n",
       "      <th>8</th>\n",
       "      <td>2</td>\n",
       "      <td>-6929.865299</td>\n",
       "      <td>35</td>\n",
       "      <td>ВЫСШЕЕ</td>\n",
       "      <td>0</td>\n",
       "      <td>гражданский брак</td>\n",
       "      <td>1</td>\n",
       "      <td>F</td>\n",
       "      <td>сотрудник</td>\n",
       "      <td>0</td>\n",
       "      <td>95856.832424</td>\n",
       "      <td>на проведение свадьбы</td>\n",
       "    </tr>\n",
       "    <tr>\n",
       "      <th>9</th>\n",
       "      <td>0</td>\n",
       "      <td>-2188.756445</td>\n",
       "      <td>41</td>\n",
       "      <td>среднее</td>\n",
       "      <td>1</td>\n",
       "      <td>женат / замужем</td>\n",
       "      <td>0</td>\n",
       "      <td>M</td>\n",
       "      <td>сотрудник</td>\n",
       "      <td>0</td>\n",
       "      <td>144425.938277</td>\n",
       "      <td>покупка жилья для семьи</td>\n",
       "    </tr>\n",
       "    <tr>\n",
       "      <th>10</th>\n",
       "      <td>2</td>\n",
       "      <td>-4171.483647</td>\n",
       "      <td>36</td>\n",
       "      <td>высшее</td>\n",
       "      <td>0</td>\n",
       "      <td>женат / замужем</td>\n",
       "      <td>0</td>\n",
       "      <td>M</td>\n",
       "      <td>компаньон</td>\n",
       "      <td>0</td>\n",
       "      <td>113943.491460</td>\n",
       "      <td>покупка недвижимости</td>\n",
       "    </tr>\n",
       "    <tr>\n",
       "      <th>11</th>\n",
       "      <td>0</td>\n",
       "      <td>-792.701887</td>\n",
       "      <td>40</td>\n",
       "      <td>среднее</td>\n",
       "      <td>1</td>\n",
       "      <td>женат / замужем</td>\n",
       "      <td>0</td>\n",
       "      <td>F</td>\n",
       "      <td>сотрудник</td>\n",
       "      <td>0</td>\n",
       "      <td>77069.234271</td>\n",
       "      <td>покупка коммерческой недвижимости</td>\n",
       "    </tr>\n",
       "    <tr>\n",
       "      <th>12</th>\n",
       "      <td>0</td>\n",
       "      <td>NaN</td>\n",
       "      <td>65</td>\n",
       "      <td>среднее</td>\n",
       "      <td>1</td>\n",
       "      <td>гражданский брак</td>\n",
       "      <td>1</td>\n",
       "      <td>M</td>\n",
       "      <td>пенсионер</td>\n",
       "      <td>0</td>\n",
       "      <td>NaN</td>\n",
       "      <td>сыграть свадьбу</td>\n",
       "    </tr>\n",
       "    <tr>\n",
       "      <th>13</th>\n",
       "      <td>0</td>\n",
       "      <td>-1846.641941</td>\n",
       "      <td>54</td>\n",
       "      <td>неоконченное высшее</td>\n",
       "      <td>2</td>\n",
       "      <td>женат / замужем</td>\n",
       "      <td>0</td>\n",
       "      <td>F</td>\n",
       "      <td>сотрудник</td>\n",
       "      <td>0</td>\n",
       "      <td>130458.228857</td>\n",
       "      <td>приобретение автомобиля</td>\n",
       "    </tr>\n",
       "    <tr>\n",
       "      <th>14</th>\n",
       "      <td>0</td>\n",
       "      <td>-1844.956182</td>\n",
       "      <td>56</td>\n",
       "      <td>высшее</td>\n",
       "      <td>0</td>\n",
       "      <td>гражданский брак</td>\n",
       "      <td>1</td>\n",
       "      <td>F</td>\n",
       "      <td>компаньон</td>\n",
       "      <td>1</td>\n",
       "      <td>165127.911772</td>\n",
       "      <td>покупка жилой недвижимости</td>\n",
       "    </tr>\n",
       "    <tr>\n",
       "      <th>15</th>\n",
       "      <td>1</td>\n",
       "      <td>-972.364419</td>\n",
       "      <td>26</td>\n",
       "      <td>среднее</td>\n",
       "      <td>1</td>\n",
       "      <td>женат / замужем</td>\n",
       "      <td>0</td>\n",
       "      <td>F</td>\n",
       "      <td>сотрудник</td>\n",
       "      <td>0</td>\n",
       "      <td>116820.904450</td>\n",
       "      <td>строительство собственной недвижимости</td>\n",
       "    </tr>\n",
       "    <tr>\n",
       "      <th>16</th>\n",
       "      <td>0</td>\n",
       "      <td>-1719.934226</td>\n",
       "      <td>35</td>\n",
       "      <td>среднее</td>\n",
       "      <td>1</td>\n",
       "      <td>женат / замужем</td>\n",
       "      <td>0</td>\n",
       "      <td>F</td>\n",
       "      <td>сотрудник</td>\n",
       "      <td>0</td>\n",
       "      <td>289202.704229</td>\n",
       "      <td>недвижимость</td>\n",
       "    </tr>\n",
       "    <tr>\n",
       "      <th>17</th>\n",
       "      <td>0</td>\n",
       "      <td>-2369.999720</td>\n",
       "      <td>33</td>\n",
       "      <td>высшее</td>\n",
       "      <td>0</td>\n",
       "      <td>гражданский брак</td>\n",
       "      <td>1</td>\n",
       "      <td>M</td>\n",
       "      <td>сотрудник</td>\n",
       "      <td>0</td>\n",
       "      <td>90410.586745</td>\n",
       "      <td>строительство недвижимости</td>\n",
       "    </tr>\n",
       "    <tr>\n",
       "      <th>18</th>\n",
       "      <td>0</td>\n",
       "      <td>400281.136913</td>\n",
       "      <td>53</td>\n",
       "      <td>среднее</td>\n",
       "      <td>1</td>\n",
       "      <td>вдовец / вдова</td>\n",
       "      <td>2</td>\n",
       "      <td>F</td>\n",
       "      <td>пенсионер</td>\n",
       "      <td>0</td>\n",
       "      <td>56823.777243</td>\n",
       "      <td>на покупку подержанного автомобиля</td>\n",
       "    </tr>\n",
       "    <tr>\n",
       "      <th>19</th>\n",
       "      <td>0</td>\n",
       "      <td>-10038.818549</td>\n",
       "      <td>48</td>\n",
       "      <td>СРЕДНЕЕ</td>\n",
       "      <td>1</td>\n",
       "      <td>в разводе</td>\n",
       "      <td>3</td>\n",
       "      <td>F</td>\n",
       "      <td>сотрудник</td>\n",
       "      <td>0</td>\n",
       "      <td>242831.107982</td>\n",
       "      <td>на покупку своего автомобиля</td>\n",
       "    </tr>\n",
       "  </tbody>\n",
       "</table>\n",
       "</div>"
      ],
      "text/plain": [
       "    children  days_employed  dob_years            education  education_id  \\\n",
       "0          1   -8437.673028         42               высшее             0   \n",
       "1          1   -4024.803754         36              среднее             1   \n",
       "2          0   -5623.422610         33              Среднее             1   \n",
       "3          3   -4124.747207         32              среднее             1   \n",
       "4          0  340266.072047         53              среднее             1   \n",
       "5          0    -926.185831         27               высшее             0   \n",
       "6          0   -2879.202052         43               высшее             0   \n",
       "7          0    -152.779569         50              СРЕДНЕЕ             1   \n",
       "8          2   -6929.865299         35               ВЫСШЕЕ             0   \n",
       "9          0   -2188.756445         41              среднее             1   \n",
       "10         2   -4171.483647         36               высшее             0   \n",
       "11         0    -792.701887         40              среднее             1   \n",
       "12         0            NaN         65              среднее             1   \n",
       "13         0   -1846.641941         54  неоконченное высшее             2   \n",
       "14         0   -1844.956182         56               высшее             0   \n",
       "15         1    -972.364419         26              среднее             1   \n",
       "16         0   -1719.934226         35              среднее             1   \n",
       "17         0   -2369.999720         33               высшее             0   \n",
       "18         0  400281.136913         53              среднее             1   \n",
       "19         0  -10038.818549         48              СРЕДНЕЕ             1   \n",
       "\n",
       "       family_status  family_status_id gender income_type  debt  \\\n",
       "0    женат / замужем                 0      F   сотрудник     0   \n",
       "1    женат / замужем                 0      F   сотрудник     0   \n",
       "2    женат / замужем                 0      M   сотрудник     0   \n",
       "3    женат / замужем                 0      M   сотрудник     0   \n",
       "4   гражданский брак                 1      F   пенсионер     0   \n",
       "5   гражданский брак                 1      M   компаньон     0   \n",
       "6    женат / замужем                 0      F   компаньон     0   \n",
       "7    женат / замужем                 0      M   сотрудник     0   \n",
       "8   гражданский брак                 1      F   сотрудник     0   \n",
       "9    женат / замужем                 0      M   сотрудник     0   \n",
       "10   женат / замужем                 0      M   компаньон     0   \n",
       "11   женат / замужем                 0      F   сотрудник     0   \n",
       "12  гражданский брак                 1      M   пенсионер     0   \n",
       "13   женат / замужем                 0      F   сотрудник     0   \n",
       "14  гражданский брак                 1      F   компаньон     1   \n",
       "15   женат / замужем                 0      F   сотрудник     0   \n",
       "16   женат / замужем                 0      F   сотрудник     0   \n",
       "17  гражданский брак                 1      M   сотрудник     0   \n",
       "18    вдовец / вдова                 2      F   пенсионер     0   \n",
       "19         в разводе                 3      F   сотрудник     0   \n",
       "\n",
       "     total_income                                 purpose  \n",
       "0   253875.639453                           покупка жилья  \n",
       "1   112080.014102                 приобретение автомобиля  \n",
       "2   145885.952297                           покупка жилья  \n",
       "3   267628.550329              дополнительное образование  \n",
       "4   158616.077870                         сыграть свадьбу  \n",
       "5   255763.565419                           покупка жилья  \n",
       "6   240525.971920                       операции с жильем  \n",
       "7   135823.934197                             образование  \n",
       "8    95856.832424                   на проведение свадьбы  \n",
       "9   144425.938277                 покупка жилья для семьи  \n",
       "10  113943.491460                    покупка недвижимости  \n",
       "11   77069.234271       покупка коммерческой недвижимости  \n",
       "12            NaN                         сыграть свадьбу  \n",
       "13  130458.228857                 приобретение автомобиля  \n",
       "14  165127.911772              покупка жилой недвижимости  \n",
       "15  116820.904450  строительство собственной недвижимости  \n",
       "16  289202.704229                            недвижимость  \n",
       "17   90410.586745              строительство недвижимости  \n",
       "18   56823.777243      на покупку подержанного автомобиля  \n",
       "19  242831.107982            на покупку своего автомобиля  "
      ]
     },
     "execution_count": 56,
     "metadata": {},
     "output_type": "execute_result"
    }
   ],
   "source": [
    "data.head(20)"
   ]
  },
  {
   "cell_type": "markdown",
   "id": "1c12e233",
   "metadata": {
    "deletable": false,
    "editable": false,
    "id": "1c12e233",
    "tags": [
     "start_task"
    ]
   },
   "source": [
    "**Задание 3. Выведите основную информацию о датафрейме с помощью метода `info()`.**"
   ]
  },
  {
   "cell_type": "code",
   "execution_count": 3,
   "id": "2b757bca",
   "metadata": {
    "id": "2b757bca"
   },
   "outputs": [
    {
     "name": "stdout",
     "output_type": "stream",
     "text": [
      "<class 'pandas.core.frame.DataFrame'>\n",
      "RangeIndex: 21525 entries, 0 to 21524\n",
      "Data columns (total 12 columns):\n",
      " #   Column            Non-Null Count  Dtype  \n",
      "---  ------            --------------  -----  \n",
      " 0   children          21525 non-null  int64  \n",
      " 1   days_employed     19351 non-null  float64\n",
      " 2   dob_years         21525 non-null  int64  \n",
      " 3   education         21525 non-null  object \n",
      " 4   education_id      21525 non-null  int64  \n",
      " 5   family_status     21525 non-null  object \n",
      " 6   family_status_id  21525 non-null  int64  \n",
      " 7   gender            21525 non-null  object \n",
      " 8   income_type       21525 non-null  object \n",
      " 9   debt              21525 non-null  int64  \n",
      " 10  total_income      19351 non-null  float64\n",
      " 11  purpose           21525 non-null  object \n",
      "dtypes: float64(2), int64(5), object(5)\n",
      "memory usage: 2.0+ MB\n"
     ]
    }
   ],
   "source": [
    "data.info()"
   ]
  },
  {
   "cell_type": "markdown",
   "id": "333ec665",
   "metadata": {
    "deletable": false,
    "editable": false,
    "id": "333ec665"
   },
   "source": [
    "## Предобработка данных"
   ]
  },
  {
   "cell_type": "markdown",
   "id": "02d92d53",
   "metadata": {
    "deletable": false,
    "editable": false,
    "id": "02d92d53"
   },
   "source": [
    "### Удаление пропусков"
   ]
  },
  {
   "cell_type": "markdown",
   "id": "cd84967c",
   "metadata": {
    "deletable": false,
    "editable": false,
    "id": "cd84967c",
    "tags": [
     "start_task"
    ]
   },
   "source": [
    "**Задание 4. Выведите количество пропущенных значений для каждого столбца. Используйте комбинацию двух методов.**"
   ]
  },
  {
   "cell_type": "code",
   "execution_count": 4,
   "id": "7f9b2309",
   "metadata": {
    "id": "7f9b2309"
   },
   "outputs": [
    {
     "data": {
      "text/plain": [
       "children               0\n",
       "days_employed       2174\n",
       "dob_years              0\n",
       "education              0\n",
       "education_id           0\n",
       "family_status          0\n",
       "family_status_id       0\n",
       "gender                 0\n",
       "income_type            0\n",
       "debt                   0\n",
       "total_income        2174\n",
       "purpose                0\n",
       "dtype: int64"
      ]
     },
     "execution_count": 4,
     "metadata": {},
     "output_type": "execute_result"
    }
   ],
   "source": [
    "data.isna().sum()"
   ]
  },
  {
   "cell_type": "markdown",
   "id": "db86e27b",
   "metadata": {
    "deletable": false,
    "editable": false,
    "id": "db86e27b",
    "tags": [
     "start_task"
    ]
   },
   "source": [
    "**Задание 5. В двух столбцах есть пропущенные значения. Один из них — `days_employed`. Пропуски в этом столбце вы обработаете на следующем этапе. Другой столбец с пропущенными значениями — `total_income` — хранит данные о доходах. На сумму дохода сильнее всего влияет тип занятости, поэтому заполнить пропуски в этом столбце нужно медианным значением по каждому типу из столбца `income_type`. Например, у человека с типом занятости `сотрудник` пропуск в столбце `total_income` должен быть заполнен медианным доходом среди всех записей с тем же типом.**"
   ]
  },
  {
   "cell_type": "code",
   "execution_count": 5,
   "id": "42006a93",
   "metadata": {
    "id": "42006a93"
   },
   "outputs": [],
   "source": [
    "for d in data['income_type'].unique():\n",
    "    data.loc[(data['income_type'] == d) & (data['total_income'].isna()),'total_income']=\\\n",
    "    data.loc[(data['income_type'] == d),'total_income'].median()\n",
    "  "
   ]
  },
  {
   "cell_type": "markdown",
   "id": "89da5ece",
   "metadata": {
    "deletable": false,
    "editable": false,
    "id": "89da5ece"
   },
   "source": [
    "### Обработка аномальных значений"
   ]
  },
  {
   "cell_type": "markdown",
   "id": "57964554",
   "metadata": {
    "deletable": false,
    "editable": false,
    "id": "57964554",
    "tags": [
     "start_task"
    ]
   },
   "source": [
    "**Задание 6. В данных могут встречаться артефакты (аномалии) — значения, которые не отражают действительность и появились по какой-то ошибке. Таким артефактом будет отрицательное количество дней трудового стажа в столбце `days_employed`. Для реальных данных это нормально. Обработайте значения в этом столбце: замените все отрицательные значения положительными с помощью метода `abs()`.**"
   ]
  },
  {
   "cell_type": "code",
   "execution_count": 6,
   "id": "f6f055bf",
   "metadata": {
    "id": "f6f055bf"
   },
   "outputs": [],
   "source": [
    "data['days_employed'] = data['days_employed'].abs()"
   ]
  },
  {
   "cell_type": "markdown",
   "id": "6107dd2f",
   "metadata": {
    "deletable": false,
    "editable": false,
    "id": "6107dd2f",
    "tags": [
     "start_task"
    ]
   },
   "source": [
    "**Задание 7. Для каждого типа занятости выведите медианное значение трудового стажа `days_employed` в днях.**"
   ]
  },
  {
   "cell_type": "code",
   "execution_count": 7,
   "id": "85a5faf6",
   "metadata": {
    "id": "85a5faf6"
   },
   "outputs": [
    {
     "data": {
      "text/plain": [
       "income_type\n",
       "безработный        366413.652744\n",
       "в декрете            3296.759962\n",
       "госслужащий          2689.368353\n",
       "компаньон            1547.382223\n",
       "пенсионер          365213.306266\n",
       "предприниматель       520.848083\n",
       "сотрудник            1574.202821\n",
       "студент               578.751554\n",
       "Name: days_employed, dtype: float64"
      ]
     },
     "execution_count": 7,
     "metadata": {},
     "output_type": "execute_result"
    }
   ],
   "source": [
    "data.groupby('income_type')['days_employed'].median()"
   ]
  },
  {
   "cell_type": "markdown",
   "id": "38d1a030",
   "metadata": {
    "deletable": false,
    "editable": false,
    "id": "38d1a030"
   },
   "source": [
    "У двух типов (безработные и пенсионеры) получатся аномально большие значения. Исправить такие значения сложно, поэтому оставьте их как есть. Тем более этот столбец не понадобится вам для исследования."
   ]
  },
  {
   "cell_type": "markdown",
   "id": "d8a9f147",
   "metadata": {
    "deletable": false,
    "editable": false,
    "id": "d8a9f147",
    "tags": [
     "start_task"
    ]
   },
   "source": [
    "**Задание 8. Выведите перечень уникальных значений столбца `children`.**"
   ]
  },
  {
   "cell_type": "code",
   "execution_count": 8,
   "id": "ef5056eb",
   "metadata": {
    "id": "ef5056eb"
   },
   "outputs": [
    {
     "data": {
      "text/plain": [
       "array([ 1,  0,  3,  2, -1,  4, 20,  5])"
      ]
     },
     "execution_count": 8,
     "metadata": {},
     "output_type": "execute_result"
    }
   ],
   "source": [
    "data['children'].unique()"
   ]
  },
  {
   "cell_type": "markdown",
   "id": "40b9ebf2",
   "metadata": {
    "deletable": false,
    "editable": false,
    "id": "40b9ebf2",
    "tags": [
     "start_task"
    ]
   },
   "source": [
    "**Задание 9. В столбце `children` есть два аномальных значения. Удалите строки, в которых встречаются такие аномальные значения из датафрейма `data`.**"
   ]
  },
  {
   "cell_type": "code",
   "execution_count": 9,
   "id": "3ff9801d",
   "metadata": {
    "id": "3ff9801d"
   },
   "outputs": [],
   "source": [
    "data=data[(data['children'] != -1)&(data['children'] != 20)]# ваш код здесь"
   ]
  },
  {
   "cell_type": "markdown",
   "id": "bbc4d0ce",
   "metadata": {
    "deletable": false,
    "editable": false,
    "id": "bbc4d0ce",
    "tags": [
     "start_task"
    ]
   },
   "source": [
    "**Задание 10. Ещё раз выведите перечень уникальных значений столбца `children`, чтобы убедиться, что артефакты удалены.**"
   ]
  },
  {
   "cell_type": "code",
   "execution_count": 10,
   "id": "ad4fa8b7",
   "metadata": {
    "id": "ad4fa8b7"
   },
   "outputs": [
    {
     "data": {
      "text/plain": [
       "array([1, 0, 3, 2, 4, 5])"
      ]
     },
     "execution_count": 10,
     "metadata": {},
     "output_type": "execute_result"
    }
   ],
   "source": [
    "data['children'].unique()"
   ]
  },
  {
   "cell_type": "markdown",
   "id": "75440b63",
   "metadata": {
    "deletable": false,
    "editable": false,
    "id": "75440b63"
   },
   "source": [
    "### Удаление пропусков (продолжение)"
   ]
  },
  {
   "cell_type": "markdown",
   "id": "f4ea573f",
   "metadata": {
    "deletable": false,
    "editable": false,
    "id": "f4ea573f",
    "tags": [
     "start_task"
    ]
   },
   "source": [
    "**Задание 11. Заполните пропуски в столбце `days_employed` медианными значениями по каждому типу занятости `income_type`.**"
   ]
  },
  {
   "cell_type": "code",
   "execution_count": 11,
   "id": "af6b1a7e",
   "metadata": {
    "id": "af6b1a7e"
   },
   "outputs": [],
   "source": [
    "for d in data['income_type'].unique():\n",
    "    data.loc[(data['income_type'] == d) & (data['days_employed'].isna()),'days_employed']=\\\n",
    "    data.loc[(data['income_type'] == d),'days_employed'].median()"
   ]
  },
  {
   "cell_type": "markdown",
   "id": "2753f40d",
   "metadata": {
    "deletable": false,
    "editable": false,
    "id": "2753f40d",
    "tags": [
     "start_task"
    ]
   },
   "source": [
    "**Задание 12. Убедитесь, что все пропуски заполнены. Проверьте себя и ещё раз выведите количество пропущенных значений для каждого столбца с помощью двух методов.**"
   ]
  },
  {
   "cell_type": "code",
   "execution_count": 12,
   "id": "55f78bc2",
   "metadata": {
    "id": "55f78bc2"
   },
   "outputs": [
    {
     "data": {
      "text/plain": [
       "children            0\n",
       "days_employed       0\n",
       "dob_years           0\n",
       "education           0\n",
       "education_id        0\n",
       "family_status       0\n",
       "family_status_id    0\n",
       "gender              0\n",
       "income_type         0\n",
       "debt                0\n",
       "total_income        0\n",
       "purpose             0\n",
       "dtype: int64"
      ]
     },
     "execution_count": 12,
     "metadata": {},
     "output_type": "execute_result"
    }
   ],
   "source": [
    "data.isna().sum()"
   ]
  },
  {
   "cell_type": "markdown",
   "id": "ddc81e43",
   "metadata": {
    "deletable": false,
    "editable": false,
    "id": "ddc81e43"
   },
   "source": [
    "### Изменение типов данных"
   ]
  },
  {
   "cell_type": "markdown",
   "id": "42d19d24",
   "metadata": {
    "deletable": false,
    "editable": false,
    "id": "42d19d24",
    "tags": [
     "start_task"
    ]
   },
   "source": [
    "**Задание 13. Замените вещественный тип данных в столбце `total_income` на целочисленный с помощью метода `astype()`.**"
   ]
  },
  {
   "cell_type": "code",
   "execution_count": 13,
   "id": "920b65ad",
   "metadata": {
    "id": "920b65ad"
   },
   "outputs": [],
   "source": [
    "data['total_income'] = data['total_income'].astype('int')"
   ]
  },
  {
   "cell_type": "markdown",
   "id": "80c420ba",
   "metadata": {
    "deletable": false,
    "editable": false,
    "id": "80c420ba"
   },
   "source": [
    "### Обработка дубликатов"
   ]
  },
  {
   "cell_type": "markdown",
   "id": "dc587695",
   "metadata": {
    "deletable": false,
    "editable": false,
    "id": "dc587695",
    "tags": [
     "start_task"
    ]
   },
   "source": [
    "**Задание 14. Обработайте неявные дубликаты в столбце `education`. В этом столбце есть одни и те же значения, но записанные по-разному: с использованием заглавных и строчных букв. Приведите их к нижнему регистру.**"
   ]
  },
  {
   "cell_type": "code",
   "execution_count": 14,
   "id": "a9f8e2bf",
   "metadata": {
    "id": "a9f8e2bf"
   },
   "outputs": [],
   "source": [
    "data['education'] = data['education'].str.lower()\n"
   ]
  },
  {
   "cell_type": "markdown",
   "id": "9771a76c",
   "metadata": {
    "deletable": false,
    "editable": false,
    "id": "9771a76c",
    "tags": [
     "start_task"
    ]
   },
   "source": [
    "**Задание 15. Выведите на экран количество строк-дубликатов в данных. Если такие строки присутствуют, удалите их. Сбрасывать индексы после удаления строк дубликатов с помощью `reset_index(drop=True)` здесь не требуется.**"
   ]
  },
  {
   "cell_type": "code",
   "execution_count": 15,
   "id": "3ee445e4",
   "metadata": {
    "id": "3ee445e4"
   },
   "outputs": [
    {
     "data": {
      "text/plain": [
       "21397"
      ]
     },
     "execution_count": 15,
     "metadata": {},
     "output_type": "execute_result"
    }
   ],
   "source": [
    "data['education'].duplicated().sum()  "
   ]
  },
  {
   "cell_type": "code",
   "execution_count": 16,
   "id": "8575fe05",
   "metadata": {
    "id": "8575fe05"
   },
   "outputs": [
    {
     "data": {
      "text/plain": [
       "0                    высшее\n",
       "1                   среднее\n",
       "13      неоконченное высшее\n",
       "31                начальное\n",
       "2963         ученая степень\n",
       "Name: education, dtype: object"
      ]
     },
     "execution_count": 16,
     "metadata": {},
     "output_type": "execute_result"
    }
   ],
   "source": [
    "data['education'].drop_duplicates()"
   ]
  },
  {
   "cell_type": "markdown",
   "id": "9904cf55",
   "metadata": {
    "deletable": false,
    "editable": false,
    "id": "9904cf55"
   },
   "source": [
    "### Категоризация данных"
   ]
  },
  {
   "cell_type": "markdown",
   "id": "72fcc8a2",
   "metadata": {
    "deletable": false,
    "editable": false,
    "id": "72fcc8a2",
    "tags": [
     "start_task"
    ]
   },
   "source": [
    "**Задание 16. На основании диапазонов, указанных ниже, создайте в датафрейме `data` столбец `total_income_category` с категориями:**\n",
    "\n",
    "- 0–30000 — `'E'`;\n",
    "- 30001–50000 — `'D'`;\n",
    "- 50001–200000 — `'C'`;\n",
    "- 200001–1000000 — `'B'`;\n",
    "- 1000001 и выше — `'A'`.\n",
    "\n",
    "\n",
    "**Например, кредитополучателю с доходом 25000 нужно назначить категорию `'E'`, а клиенту, получающему 235000, — `'B'`. Используйте собственную функцию с именем `categorize_income()` и метод `apply()`.**"
   ]
  },
  {
   "cell_type": "code",
   "execution_count": 17,
   "id": "e1771346",
   "metadata": {
    "id": "e1771346"
   },
   "outputs": [],
   "source": [
    "# создадим функцию categorize_income()\n",
    "def categorize_income(total_income):\n",
    "    \n",
    "    if 0<= total_income <= 30000:\n",
    "        return 'E' \n",
    "    elif 30001<= total_income <= 50000:\n",
    "        return 'D'  \n",
    "    elif 50001<= total_income <= 200000:\n",
    "        return 'C'  \n",
    "    elif 200001<= total_income <= 1000000:\n",
    "        return 'B'    \n",
    "    elif total_income >= 1000001:\n",
    "        return 'A'\n",
    "        "
   ]
  },
  {
   "cell_type": "code",
   "execution_count": 18,
   "id": "d5f3586d",
   "metadata": {
    "id": "d5f3586d"
   },
   "outputs": [],
   "source": [
    "# применим функцию методом apply()\n",
    "data['total_income_category']= data['total_income'].apply(categorize_income)"
   ]
  },
  {
   "cell_type": "markdown",
   "id": "dde49b5c",
   "metadata": {
    "deletable": false,
    "editable": false,
    "id": "dde49b5c",
    "tags": [
     "start_task"
    ]
   },
   "source": [
    "**Задание 17. Выведите на экран перечень уникальных целей взятия кредита из столбца `purpose`.**"
   ]
  },
  {
   "cell_type": "code",
   "execution_count": 19,
   "id": "f67ce9b3",
   "metadata": {
    "id": "f67ce9b3"
   },
   "outputs": [
    {
     "data": {
      "text/plain": [
       "array(['покупка жилья', 'приобретение автомобиля',\n",
       "       'дополнительное образование', 'сыграть свадьбу',\n",
       "       'операции с жильем', 'образование', 'на проведение свадьбы',\n",
       "       'покупка жилья для семьи', 'покупка недвижимости',\n",
       "       'покупка коммерческой недвижимости', 'покупка жилой недвижимости',\n",
       "       'строительство собственной недвижимости', 'недвижимость',\n",
       "       'строительство недвижимости', 'на покупку подержанного автомобиля',\n",
       "       'на покупку своего автомобиля',\n",
       "       'операции с коммерческой недвижимостью',\n",
       "       'строительство жилой недвижимости', 'жилье',\n",
       "       'операции со своей недвижимостью', 'автомобили',\n",
       "       'заняться образованием', 'сделка с подержанным автомобилем',\n",
       "       'получение образования', 'автомобиль', 'свадьба',\n",
       "       'получение дополнительного образования', 'покупка своего жилья',\n",
       "       'операции с недвижимостью', 'получение высшего образования',\n",
       "       'свой автомобиль', 'сделка с автомобилем',\n",
       "       'профильное образование', 'высшее образование',\n",
       "       'покупка жилья для сдачи', 'на покупку автомобиля', 'ремонт жилью',\n",
       "       'заняться высшим образованием'], dtype=object)"
      ]
     },
     "execution_count": 19,
     "metadata": {},
     "output_type": "execute_result"
    }
   ],
   "source": [
    "data['purpose'].unique()"
   ]
  },
  {
   "cell_type": "markdown",
   "id": "85d0aef0",
   "metadata": {
    "deletable": false,
    "editable": false,
    "id": "85d0aef0",
    "tags": [
     "start_task"
    ]
   },
   "source": [
    "**Задание 18. Создайте функцию, которая на основании данных из столбца `purpose` сформирует новый столбец `purpose_category`, в который войдут следующие категории:**\n",
    "\n",
    "- `'операции с автомобилем'`,\n",
    "- `'операции с недвижимостью'`,\n",
    "- `'проведение свадьбы'`,\n",
    "- `'получение образования'`.\n",
    "\n",
    "**Например, если в столбце `purpose` находится подстрока `'на покупку автомобиля'`, то в столбце `purpose_category` должна появиться строка `'операции с автомобилем'`.**\n",
    "\n",
    "**Используйте собственную функцию с именем `categorize_purpose()` и метод `apply()`. Изучите данные в столбце `purpose` и определите, какие подстроки помогут вам правильно определить категорию.**"
   ]
  },
  {
   "cell_type": "code",
   "execution_count": 20,
   "id": "e149fab4",
   "metadata": {
    "id": "e149fab4"
   },
   "outputs": [],
   "source": [
    "\n",
    "def categorize_purpose(purpose):\n",
    "   \n",
    "    if 'образ' in purpose:\n",
    "        return 'получение образования'\n",
    "    if 'свадь' in purpose:\n",
    "        return 'проведение свадьбы'\n",
    "    if 'авто' in purpose:\n",
    "        return 'операции с автомобилем'\n",
    "    if 'недвиж' or 'жиль' in purpose:\n",
    "        return 'операции с недвижимостью'\n",
    "    if 'свадь' in purpose:\n",
    "        return 'проведение свадьбы'"
   ]
  },
  {
   "cell_type": "code",
   "execution_count": 21,
   "id": "bf36e69b",
   "metadata": {
    "id": "bf36e69b"
   },
   "outputs": [
    {
     "data": {
      "text/plain": [
       "array(['операции с недвижимостью', 'операции с автомобилем',\n",
       "       'получение образования', 'проведение свадьбы'], dtype=object)"
      ]
     },
     "execution_count": 21,
     "metadata": {},
     "output_type": "execute_result"
    }
   ],
   "source": [
    "\n",
    "data['purpose_category'] = data['purpose'].apply(categorize_purpose)\n",
    "data['purpose_category']. unique()"
   ]
  },
  {
   "cell_type": "markdown",
   "id": "ea4b1ca2",
   "metadata": {},
   "source": [
    "**Задание 19. Есть ли зависимость между количеством детей и возвратом кредита в срок?**"
   ]
  },
  {
   "cell_type": "code",
   "execution_count": 38,
   "id": "c014e747",
   "metadata": {},
   "outputs": [
    {
     "data": {
      "text/html": [
       "<div>\n",
       "<style scoped>\n",
       "    .dataframe tbody tr th:only-of-type {\n",
       "        vertical-align: middle;\n",
       "    }\n",
       "\n",
       "    .dataframe tbody tr th {\n",
       "        vertical-align: top;\n",
       "    }\n",
       "\n",
       "    .dataframe thead th {\n",
       "        text-align: right;\n",
       "    }\n",
       "</style>\n",
       "<table border=\"1\" class=\"dataframe\">\n",
       "  <thead>\n",
       "    <tr style=\"text-align: right;\">\n",
       "      <th></th>\n",
       "      <th>children</th>\n",
       "      <th>days_employed</th>\n",
       "      <th>dob_years</th>\n",
       "      <th>education</th>\n",
       "      <th>education_id</th>\n",
       "      <th>family_status</th>\n",
       "      <th>family_status_id</th>\n",
       "      <th>gender</th>\n",
       "      <th>income_type</th>\n",
       "      <th>debt</th>\n",
       "      <th>total_income</th>\n",
       "      <th>purpose</th>\n",
       "      <th>total_income_category</th>\n",
       "      <th>purpose_category</th>\n",
       "      <th>children_category</th>\n",
       "    </tr>\n",
       "  </thead>\n",
       "  <tbody>\n",
       "    <tr>\n",
       "      <th>0</th>\n",
       "      <td>1</td>\n",
       "      <td>8437.673028</td>\n",
       "      <td>42</td>\n",
       "      <td>высшее</td>\n",
       "      <td>0</td>\n",
       "      <td>женат / замужем</td>\n",
       "      <td>0</td>\n",
       "      <td>F</td>\n",
       "      <td>сотрудник</td>\n",
       "      <td>0</td>\n",
       "      <td>253875</td>\n",
       "      <td>покупка жилья</td>\n",
       "      <td>B</td>\n",
       "      <td>операции с недвижимостью</td>\n",
       "      <td>один ребенок</td>\n",
       "    </tr>\n",
       "    <tr>\n",
       "      <th>1</th>\n",
       "      <td>1</td>\n",
       "      <td>4024.803754</td>\n",
       "      <td>36</td>\n",
       "      <td>среднее</td>\n",
       "      <td>1</td>\n",
       "      <td>женат / замужем</td>\n",
       "      <td>0</td>\n",
       "      <td>F</td>\n",
       "      <td>сотрудник</td>\n",
       "      <td>0</td>\n",
       "      <td>112080</td>\n",
       "      <td>приобретение автомобиля</td>\n",
       "      <td>C</td>\n",
       "      <td>операции с автомобилем</td>\n",
       "      <td>один ребенок</td>\n",
       "    </tr>\n",
       "    <tr>\n",
       "      <th>2</th>\n",
       "      <td>0</td>\n",
       "      <td>5623.422610</td>\n",
       "      <td>33</td>\n",
       "      <td>среднее</td>\n",
       "      <td>1</td>\n",
       "      <td>женат / замужем</td>\n",
       "      <td>0</td>\n",
       "      <td>M</td>\n",
       "      <td>сотрудник</td>\n",
       "      <td>0</td>\n",
       "      <td>145885</td>\n",
       "      <td>покупка жилья</td>\n",
       "      <td>C</td>\n",
       "      <td>операции с недвижимостью</td>\n",
       "      <td>многодетные заемщики</td>\n",
       "    </tr>\n",
       "    <tr>\n",
       "      <th>3</th>\n",
       "      <td>3</td>\n",
       "      <td>4124.747207</td>\n",
       "      <td>32</td>\n",
       "      <td>среднее</td>\n",
       "      <td>1</td>\n",
       "      <td>женат / замужем</td>\n",
       "      <td>0</td>\n",
       "      <td>M</td>\n",
       "      <td>сотрудник</td>\n",
       "      <td>0</td>\n",
       "      <td>267628</td>\n",
       "      <td>дополнительное образование</td>\n",
       "      <td>B</td>\n",
       "      <td>получение образования</td>\n",
       "      <td>многодетные заемщики</td>\n",
       "    </tr>\n",
       "    <tr>\n",
       "      <th>4</th>\n",
       "      <td>0</td>\n",
       "      <td>340266.072047</td>\n",
       "      <td>53</td>\n",
       "      <td>среднее</td>\n",
       "      <td>1</td>\n",
       "      <td>гражданский брак</td>\n",
       "      <td>1</td>\n",
       "      <td>F</td>\n",
       "      <td>пенсионер</td>\n",
       "      <td>0</td>\n",
       "      <td>158616</td>\n",
       "      <td>сыграть свадьбу</td>\n",
       "      <td>C</td>\n",
       "      <td>проведение свадьбы</td>\n",
       "      <td>многодетные заемщики</td>\n",
       "    </tr>\n",
       "    <tr>\n",
       "      <th>...</th>\n",
       "      <td>...</td>\n",
       "      <td>...</td>\n",
       "      <td>...</td>\n",
       "      <td>...</td>\n",
       "      <td>...</td>\n",
       "      <td>...</td>\n",
       "      <td>...</td>\n",
       "      <td>...</td>\n",
       "      <td>...</td>\n",
       "      <td>...</td>\n",
       "      <td>...</td>\n",
       "      <td>...</td>\n",
       "      <td>...</td>\n",
       "      <td>...</td>\n",
       "      <td>...</td>\n",
       "    </tr>\n",
       "    <tr>\n",
       "      <th>21520</th>\n",
       "      <td>1</td>\n",
       "      <td>4529.316663</td>\n",
       "      <td>43</td>\n",
       "      <td>среднее</td>\n",
       "      <td>1</td>\n",
       "      <td>гражданский брак</td>\n",
       "      <td>1</td>\n",
       "      <td>F</td>\n",
       "      <td>компаньон</td>\n",
       "      <td>0</td>\n",
       "      <td>224791</td>\n",
       "      <td>операции с жильем</td>\n",
       "      <td>B</td>\n",
       "      <td>операции с недвижимостью</td>\n",
       "      <td>один ребенок</td>\n",
       "    </tr>\n",
       "    <tr>\n",
       "      <th>21521</th>\n",
       "      <td>0</td>\n",
       "      <td>343937.404131</td>\n",
       "      <td>67</td>\n",
       "      <td>среднее</td>\n",
       "      <td>1</td>\n",
       "      <td>женат / замужем</td>\n",
       "      <td>0</td>\n",
       "      <td>F</td>\n",
       "      <td>пенсионер</td>\n",
       "      <td>0</td>\n",
       "      <td>155999</td>\n",
       "      <td>сделка с автомобилем</td>\n",
       "      <td>C</td>\n",
       "      <td>операции с автомобилем</td>\n",
       "      <td>многодетные заемщики</td>\n",
       "    </tr>\n",
       "    <tr>\n",
       "      <th>21522</th>\n",
       "      <td>1</td>\n",
       "      <td>2113.346888</td>\n",
       "      <td>38</td>\n",
       "      <td>среднее</td>\n",
       "      <td>1</td>\n",
       "      <td>гражданский брак</td>\n",
       "      <td>1</td>\n",
       "      <td>M</td>\n",
       "      <td>сотрудник</td>\n",
       "      <td>1</td>\n",
       "      <td>89672</td>\n",
       "      <td>недвижимость</td>\n",
       "      <td>C</td>\n",
       "      <td>операции с недвижимостью</td>\n",
       "      <td>один ребенок</td>\n",
       "    </tr>\n",
       "    <tr>\n",
       "      <th>21523</th>\n",
       "      <td>3</td>\n",
       "      <td>3112.481705</td>\n",
       "      <td>38</td>\n",
       "      <td>среднее</td>\n",
       "      <td>1</td>\n",
       "      <td>женат / замужем</td>\n",
       "      <td>0</td>\n",
       "      <td>M</td>\n",
       "      <td>сотрудник</td>\n",
       "      <td>1</td>\n",
       "      <td>244093</td>\n",
       "      <td>на покупку своего автомобиля</td>\n",
       "      <td>B</td>\n",
       "      <td>операции с автомобилем</td>\n",
       "      <td>многодетные заемщики</td>\n",
       "    </tr>\n",
       "    <tr>\n",
       "      <th>21524</th>\n",
       "      <td>2</td>\n",
       "      <td>1984.507589</td>\n",
       "      <td>40</td>\n",
       "      <td>среднее</td>\n",
       "      <td>1</td>\n",
       "      <td>женат / замужем</td>\n",
       "      <td>0</td>\n",
       "      <td>F</td>\n",
       "      <td>сотрудник</td>\n",
       "      <td>0</td>\n",
       "      <td>82047</td>\n",
       "      <td>на покупку автомобиля</td>\n",
       "      <td>C</td>\n",
       "      <td>операции с автомобилем</td>\n",
       "      <td>два ребенка</td>\n",
       "    </tr>\n",
       "  </tbody>\n",
       "</table>\n",
       "<p>21402 rows × 15 columns</p>\n",
       "</div>"
      ],
      "text/plain": [
       "       children  days_employed  dob_years education  education_id  \\\n",
       "0             1    8437.673028         42    высшее             0   \n",
       "1             1    4024.803754         36   среднее             1   \n",
       "2             0    5623.422610         33   среднее             1   \n",
       "3             3    4124.747207         32   среднее             1   \n",
       "4             0  340266.072047         53   среднее             1   \n",
       "...         ...            ...        ...       ...           ...   \n",
       "21520         1    4529.316663         43   среднее             1   \n",
       "21521         0  343937.404131         67   среднее             1   \n",
       "21522         1    2113.346888         38   среднее             1   \n",
       "21523         3    3112.481705         38   среднее             1   \n",
       "21524         2    1984.507589         40   среднее             1   \n",
       "\n",
       "          family_status  family_status_id gender income_type  debt  \\\n",
       "0       женат / замужем                 0      F   сотрудник     0   \n",
       "1       женат / замужем                 0      F   сотрудник     0   \n",
       "2       женат / замужем                 0      M   сотрудник     0   \n",
       "3       женат / замужем                 0      M   сотрудник     0   \n",
       "4      гражданский брак                 1      F   пенсионер     0   \n",
       "...                 ...               ...    ...         ...   ...   \n",
       "21520  гражданский брак                 1      F   компаньон     0   \n",
       "21521   женат / замужем                 0      F   пенсионер     0   \n",
       "21522  гражданский брак                 1      M   сотрудник     1   \n",
       "21523   женат / замужем                 0      M   сотрудник     1   \n",
       "21524   женат / замужем                 0      F   сотрудник     0   \n",
       "\n",
       "       total_income                       purpose total_income_category  \\\n",
       "0            253875                 покупка жилья                     B   \n",
       "1            112080       приобретение автомобиля                     C   \n",
       "2            145885                 покупка жилья                     C   \n",
       "3            267628    дополнительное образование                     B   \n",
       "4            158616               сыграть свадьбу                     C   \n",
       "...             ...                           ...                   ...   \n",
       "21520        224791             операции с жильем                     B   \n",
       "21521        155999          сделка с автомобилем                     C   \n",
       "21522         89672                  недвижимость                     C   \n",
       "21523        244093  на покупку своего автомобиля                     B   \n",
       "21524         82047         на покупку автомобиля                     C   \n",
       "\n",
       "               purpose_category     children_category  \n",
       "0      операции с недвижимостью          один ребенок  \n",
       "1        операции с автомобилем          один ребенок  \n",
       "2      операции с недвижимостью  многодетные заемщики  \n",
       "3         получение образования  многодетные заемщики  \n",
       "4            проведение свадьбы  многодетные заемщики  \n",
       "...                         ...                   ...  \n",
       "21520  операции с недвижимостью          один ребенок  \n",
       "21521    операции с автомобилем  многодетные заемщики  \n",
       "21522  операции с недвижимостью          один ребенок  \n",
       "21523    операции с автомобилем  многодетные заемщики  \n",
       "21524    операции с автомобилем           два ребенка  \n",
       "\n",
       "[21402 rows x 15 columns]"
      ]
     },
     "execution_count": 38,
     "metadata": {},
     "output_type": "execute_result"
    }
   ],
   "source": [
    "def children_in_category(row):\n",
    "    row=row['children']\n",
    "    if row == 1:\n",
    "        return 'один ребенок'\n",
    "    if row == 2:\n",
    "        return 'два ребенка'\n",
    "    else:\n",
    "        return 'многодетные заемщики'\n",
    "data['children_category'] = data.apply(children_in_category, axis=1)    \n",
    "data"
   ]
  },
  {
   "cell_type": "code",
   "execution_count": 24,
   "id": "39bea4f1",
   "metadata": {},
   "outputs": [],
   "source": [
    "Children_dependence = data.groupby('children_category')['debt'].agg(['count','sum','mean'])"
   ]
  },
  {
   "cell_type": "code",
   "execution_count": 25,
   "id": "58abaeb6",
   "metadata": {},
   "outputs": [],
   "source": [
    "Children_dependence.rename(columns={'count': 'Всего заемщиков', 'sum': 'Количество должников','mean': 'Доля должников'},inplace=True)"
   ]
  },
  {
   "cell_type": "code",
   "execution_count": 26,
   "id": "f6105985",
   "metadata": {
    "scrolled": true
   },
   "outputs": [
    {
     "data": {
      "text/html": [
       "<div>\n",
       "<style scoped>\n",
       "    .dataframe tbody tr th:only-of-type {\n",
       "        vertical-align: middle;\n",
       "    }\n",
       "\n",
       "    .dataframe tbody tr th {\n",
       "        vertical-align: top;\n",
       "    }\n",
       "\n",
       "    .dataframe thead th {\n",
       "        text-align: right;\n",
       "    }\n",
       "</style>\n",
       "<table border=\"1\" class=\"dataframe\">\n",
       "  <thead>\n",
       "    <tr style=\"text-align: right;\">\n",
       "      <th></th>\n",
       "      <th>Всего заемщиков</th>\n",
       "      <th>Количество должников</th>\n",
       "      <th>Доля должников</th>\n",
       "    </tr>\n",
       "    <tr>\n",
       "      <th>children_category</th>\n",
       "      <th></th>\n",
       "      <th></th>\n",
       "      <th></th>\n",
       "    </tr>\n",
       "  </thead>\n",
       "  <tbody>\n",
       "    <tr>\n",
       "      <th>два ребенка</th>\n",
       "      <td>2055</td>\n",
       "      <td>194</td>\n",
       "      <td>0.094404</td>\n",
       "    </tr>\n",
       "    <tr>\n",
       "      <th>многодетные заемщики</th>\n",
       "      <td>14529</td>\n",
       "      <td>1094</td>\n",
       "      <td>0.075298</td>\n",
       "    </tr>\n",
       "    <tr>\n",
       "      <th>один ребенок</th>\n",
       "      <td>4818</td>\n",
       "      <td>444</td>\n",
       "      <td>0.092154</td>\n",
       "    </tr>\n",
       "  </tbody>\n",
       "</table>\n",
       "</div>"
      ],
      "text/plain": [
       "                      Всего заемщиков  Количество должников  Доля должников\n",
       "children_category                                                          \n",
       "два ребенка                      2055                   194        0.094404\n",
       "многодетные заемщики            14529                  1094        0.075298\n",
       "один ребенок                     4818                   444        0.092154"
      ]
     },
     "execution_count": 26,
     "metadata": {},
     "output_type": "execute_result"
    }
   ],
   "source": [
    "Children_dependence"
   ]
  },
  {
   "cell_type": "markdown",
   "id": "308f6d89",
   "metadata": {},
   "source": [
    "**Задание 20. Есть ли зависимость между семейным положением и возвратом кредита в срок?**"
   ]
  },
  {
   "cell_type": "code",
   "execution_count": 27,
   "id": "961a381d",
   "metadata": {},
   "outputs": [],
   "source": [
    "Family_st_dependence = data.groupby('family_status')['debt'].agg(['count','sum','mean'])"
   ]
  },
  {
   "cell_type": "code",
   "execution_count": 28,
   "id": "f3ccb1a9",
   "metadata": {},
   "outputs": [],
   "source": [
    "Family_st_dependence.rename(columns={'count': 'Всего заемщиков', 'sum': 'Количество должников','mean': 'Доля должников'},inplace=True)"
   ]
  },
  {
   "cell_type": "code",
   "execution_count": 81,
   "id": "b508aa7a",
   "metadata": {},
   "outputs": [
    {
     "data": {
      "text/html": [
       "<div>\n",
       "<style scoped>\n",
       "    .dataframe tbody tr th:only-of-type {\n",
       "        vertical-align: middle;\n",
       "    }\n",
       "\n",
       "    .dataframe tbody tr th {\n",
       "        vertical-align: top;\n",
       "    }\n",
       "\n",
       "    .dataframe thead th {\n",
       "        text-align: right;\n",
       "    }\n",
       "</style>\n",
       "<table border=\"1\" class=\"dataframe\">\n",
       "  <thead>\n",
       "    <tr style=\"text-align: right;\">\n",
       "      <th></th>\n",
       "      <th>Всего заемщиков</th>\n",
       "      <th>Количество должников</th>\n",
       "      <th>Доля должников</th>\n",
       "    </tr>\n",
       "    <tr>\n",
       "      <th>family_status</th>\n",
       "      <th></th>\n",
       "      <th></th>\n",
       "      <th></th>\n",
       "    </tr>\n",
       "  </thead>\n",
       "  <tbody>\n",
       "    <tr>\n",
       "      <th>Не женат / не замужем</th>\n",
       "      <td>2799</td>\n",
       "      <td>273</td>\n",
       "      <td>0.097535</td>\n",
       "    </tr>\n",
       "    <tr>\n",
       "      <th>в разводе</th>\n",
       "      <td>1189</td>\n",
       "      <td>84</td>\n",
       "      <td>0.070648</td>\n",
       "    </tr>\n",
       "    <tr>\n",
       "      <th>вдовец / вдова</th>\n",
       "      <td>952</td>\n",
       "      <td>63</td>\n",
       "      <td>0.066176</td>\n",
       "    </tr>\n",
       "    <tr>\n",
       "      <th>гражданский брак</th>\n",
       "      <td>4160</td>\n",
       "      <td>385</td>\n",
       "      <td>0.092548</td>\n",
       "    </tr>\n",
       "    <tr>\n",
       "      <th>женат / замужем</th>\n",
       "      <td>12302</td>\n",
       "      <td>927</td>\n",
       "      <td>0.075354</td>\n",
       "    </tr>\n",
       "  </tbody>\n",
       "</table>\n",
       "</div>"
      ],
      "text/plain": [
       "                       Всего заемщиков  Количество должников  Доля должников\n",
       "family_status                                                               \n",
       "Не женат / не замужем             2799                   273        0.097535\n",
       "в разводе                         1189                    84        0.070648\n",
       "вдовец / вдова                     952                    63        0.066176\n",
       "гражданский брак                  4160                   385        0.092548\n",
       "женат / замужем                  12302                   927        0.075354"
      ]
     },
     "execution_count": 81,
     "metadata": {},
     "output_type": "execute_result"
    }
   ],
   "source": [
    "Family_st_dependence"
   ]
  },
  {
   "cell_type": "markdown",
   "id": "8ffac313",
   "metadata": {},
   "source": [
    "**Задание 21. Есть ли зависимость между уровнем дохода и возвратом кредита в срок?**"
   ]
  },
  {
   "cell_type": "code",
   "execution_count": 35,
   "id": "53b3d636",
   "metadata": {},
   "outputs": [],
   "source": [
    "Total_income_dependence = data.groupby('total_income_category')['debt'].agg(['count','sum','mean'])"
   ]
  },
  {
   "cell_type": "code",
   "execution_count": 36,
   "id": "ba717b87",
   "metadata": {},
   "outputs": [],
   "source": [
    "Total_income_dependence.rename(columns={'count': 'Всего заемщиков', 'sum': 'Количество должников','mean': 'Доля должников'},inplace=True)"
   ]
  },
  {
   "cell_type": "code",
   "execution_count": 37,
   "id": "1af437f0",
   "metadata": {},
   "outputs": [
    {
     "data": {
      "text/html": [
       "<div>\n",
       "<style scoped>\n",
       "    .dataframe tbody tr th:only-of-type {\n",
       "        vertical-align: middle;\n",
       "    }\n",
       "\n",
       "    .dataframe tbody tr th {\n",
       "        vertical-align: top;\n",
       "    }\n",
       "\n",
       "    .dataframe thead th {\n",
       "        text-align: right;\n",
       "    }\n",
       "</style>\n",
       "<table border=\"1\" class=\"dataframe\">\n",
       "  <thead>\n",
       "    <tr style=\"text-align: right;\">\n",
       "      <th></th>\n",
       "      <th>Всего заемщиков</th>\n",
       "      <th>Количество должников</th>\n",
       "      <th>Доля должников</th>\n",
       "    </tr>\n",
       "    <tr>\n",
       "      <th>total_income_category</th>\n",
       "      <th></th>\n",
       "      <th></th>\n",
       "      <th></th>\n",
       "    </tr>\n",
       "  </thead>\n",
       "  <tbody>\n",
       "    <tr>\n",
       "      <th>A</th>\n",
       "      <td>25</td>\n",
       "      <td>2</td>\n",
       "      <td>0.080000</td>\n",
       "    </tr>\n",
       "    <tr>\n",
       "      <th>B</th>\n",
       "      <td>5014</td>\n",
       "      <td>354</td>\n",
       "      <td>0.070602</td>\n",
       "    </tr>\n",
       "    <tr>\n",
       "      <th>C</th>\n",
       "      <td>15992</td>\n",
       "      <td>1353</td>\n",
       "      <td>0.084605</td>\n",
       "    </tr>\n",
       "    <tr>\n",
       "      <th>D</th>\n",
       "      <td>349</td>\n",
       "      <td>21</td>\n",
       "      <td>0.060172</td>\n",
       "    </tr>\n",
       "    <tr>\n",
       "      <th>E</th>\n",
       "      <td>22</td>\n",
       "      <td>2</td>\n",
       "      <td>0.090909</td>\n",
       "    </tr>\n",
       "  </tbody>\n",
       "</table>\n",
       "</div>"
      ],
      "text/plain": [
       "                       Всего заемщиков  Количество должников  Доля должников\n",
       "total_income_category                                                       \n",
       "A                                   25                     2        0.080000\n",
       "B                                 5014                   354        0.070602\n",
       "C                                15992                  1353        0.084605\n",
       "D                                  349                    21        0.060172\n",
       "E                                   22                     2        0.090909"
      ]
     },
     "execution_count": 37,
     "metadata": {},
     "output_type": "execute_result"
    }
   ],
   "source": [
    "Total_income_dependence"
   ]
  },
  {
   "cell_type": "markdown",
   "id": "42e6bde0",
   "metadata": {},
   "source": [
    "**Задание 22. Как разные цели кредита влияют на его возврат в срок?**"
   ]
  },
  {
   "cell_type": "code",
   "execution_count": 32,
   "id": "8d18605d",
   "metadata": {},
   "outputs": [],
   "source": [
    "Purpose_dependence = data.groupby('purpose_category')['debt'].agg(['count','sum','mean'])"
   ]
  },
  {
   "cell_type": "code",
   "execution_count": 33,
   "id": "fdf4c933",
   "metadata": {},
   "outputs": [],
   "source": [
    "Purpose_dependence.rename(columns={'count': 'Всего заемщиков', 'sum': 'Количество должников','mean': 'Доля должников'},inplace=True)"
   ]
  },
  {
   "cell_type": "code",
   "execution_count": 34,
   "id": "94348f45",
   "metadata": {
    "scrolled": false
   },
   "outputs": [
    {
     "data": {
      "text/html": [
       "<div>\n",
       "<style scoped>\n",
       "    .dataframe tbody tr th:only-of-type {\n",
       "        vertical-align: middle;\n",
       "    }\n",
       "\n",
       "    .dataframe tbody tr th {\n",
       "        vertical-align: top;\n",
       "    }\n",
       "\n",
       "    .dataframe thead th {\n",
       "        text-align: right;\n",
       "    }\n",
       "</style>\n",
       "<table border=\"1\" class=\"dataframe\">\n",
       "  <thead>\n",
       "    <tr style=\"text-align: right;\">\n",
       "      <th></th>\n",
       "      <th>Всего заемщиков</th>\n",
       "      <th>Количество должников</th>\n",
       "      <th>Доля должников</th>\n",
       "    </tr>\n",
       "    <tr>\n",
       "      <th>purpose_category</th>\n",
       "      <th></th>\n",
       "      <th></th>\n",
       "      <th></th>\n",
       "    </tr>\n",
       "  </thead>\n",
       "  <tbody>\n",
       "    <tr>\n",
       "      <th>операции с автомобилем</th>\n",
       "      <td>4288</td>\n",
       "      <td>400</td>\n",
       "      <td>0.093284</td>\n",
       "    </tr>\n",
       "    <tr>\n",
       "      <th>операции с недвижимостью</th>\n",
       "      <td>10780</td>\n",
       "      <td>780</td>\n",
       "      <td>0.072356</td>\n",
       "    </tr>\n",
       "    <tr>\n",
       "      <th>получение образования</th>\n",
       "      <td>3997</td>\n",
       "      <td>369</td>\n",
       "      <td>0.092319</td>\n",
       "    </tr>\n",
       "    <tr>\n",
       "      <th>проведение свадьбы</th>\n",
       "      <td>2337</td>\n",
       "      <td>183</td>\n",
       "      <td>0.078306</td>\n",
       "    </tr>\n",
       "  </tbody>\n",
       "</table>\n",
       "</div>"
      ],
      "text/plain": [
       "                          Всего заемщиков  Количество должников  \\\n",
       "purpose_category                                                  \n",
       "операции с автомобилем               4288                   400   \n",
       "операции с недвижимостью            10780                   780   \n",
       "получение образования                3997                   369   \n",
       "проведение свадьбы                   2337                   183   \n",
       "\n",
       "                          Доля должников  \n",
       "purpose_category                          \n",
       "операции с автомобилем          0.093284  \n",
       "операции с недвижимостью        0.072356  \n",
       "получение образования           0.092319  \n",
       "проведение свадьбы              0.078306  "
      ]
     },
     "execution_count": 34,
     "metadata": {},
     "output_type": "execute_result"
    }
   ],
   "source": [
    "Purpose_dependence"
   ]
  },
  {
   "cell_type": "markdown",
   "id": "0dd7b322",
   "metadata": {},
   "source": [
    "**Вывод:**"
   ]
  },
  {
   "cell_type": "markdown",
   "id": "21ac5d68",
   "metadata": {},
   "source": [
    "По результатам исследования можно сделать следующие выводы:\n",
    "\n",
    "1.Наблюдается зависимость между количеством детей и возвратом кредита в срок.\n",
    "\n",
    "Люди, имеющие 1,2 ребенка имеют самую большую долю по просрочке 0.092-0.094! Я думаю это связано с тем, что они часто прибегают к различным кредитам(образование детей,потребительские кредиты).\n",
    "\n",
    "Доля людей не имеющих детей составляет 0.075, думаю это связано с другой финансовой нагрузкой.\n",
    "\n",
    "У людей имеющих более 3х детей, доля просрочек меньше 0.075,скорее всего это связано с тем, что эта категория рассматривается банком как нежелательные заемщики и им отказывают в выдаче кредитов.\n",
    "\n",
    "2.Зависимость между семейным положением и возвратом кредита в срок.\n",
    "\n",
    "Самая большая доля просрочки у людей не женатых/ не замужем(0.098) и живущих в гражданском браке (0.093). Я думаю это связано с тем, что это относительно молодая, по возрасту группа людей, который часто берут кредиты, но еще не умеют граммотно планировать свои доходы и расходы.\n",
    "\n",
    "Доля должников среди людей в разводе (0.071) и вдова/вдовец (0.066). Думаю это люди, который умеют хорошо планировать свои доходы и расходы и подходят к взятию кредитов более ответственно.\n",
    "\n",
    "3.Зависимость между уровнем дохода и возвратом кредита в срок.\n",
    "\n",
    "Исследование показала, что люди с высокими доходами не имеют просрочек, думаю это связано с тем, что у них нет причин для взятия кредитов. Доля людей с низкими доходами тоже не высока, из-за того что банки могут отказать им в выдаче кредитов.\n",
    "\n",
    "4.Как разные цели кредита влияют на его возврат в срок.\n",
    "\n",
    "Самая больщая доля просрочек по кредитам приходится на категории образования (0.095) и автомобили (0.092). Скорее всего это связано с тем, что это самые частые причины по которым люди берут кредиты и банки предлагают по ним выгодные условия.\n",
    "Небольшую долю просрочек состовляют кредиты, связанные с покупкой жилья (0.055),причина может быть в том, что банки предъявляют к этой категории больше требований и не всем одобряют такие кредиты. \n"
   ]
  }
 ],
 "metadata": {
  "ExecuteTimeLog": [
   {
    "duration": 558,
    "start_time": "2022-11-17T16:58:37.878Z"
   },
   {
    "duration": 333,
    "start_time": "2022-11-17T16:59:25.246Z"
   },
   {
    "duration": 79,
    "start_time": "2022-11-17T17:00:28.411Z"
   },
   {
    "duration": 31,
    "start_time": "2022-11-17T17:00:39.384Z"
   },
   {
    "duration": 25,
    "start_time": "2022-11-17T17:02:06.871Z"
   },
   {
    "duration": 11,
    "start_time": "2022-11-17T17:12:38.870Z"
   },
   {
    "duration": 967,
    "start_time": "2022-11-17T21:14:22.645Z"
   },
   {
    "duration": 26,
    "start_time": "2022-11-17T21:17:19.211Z"
   },
   {
    "duration": 3,
    "start_time": "2022-11-17T21:17:36.139Z"
   },
   {
    "duration": 78,
    "start_time": "2022-11-17T21:17:37.486Z"
   },
   {
    "duration": 15,
    "start_time": "2022-11-17T21:17:40.581Z"
   },
   {
    "duration": 19,
    "start_time": "2022-11-17T21:17:45.816Z"
   },
   {
    "duration": 12,
    "start_time": "2022-11-17T21:17:50.060Z"
   },
   {
    "duration": 34,
    "start_time": "2022-11-17T21:17:53.959Z"
   },
   {
    "duration": 4,
    "start_time": "2022-11-17T21:21:02.235Z"
   },
   {
    "duration": 12,
    "start_time": "2022-11-17T21:35:01.342Z"
   },
   {
    "duration": 5,
    "start_time": "2022-11-17T21:36:30.274Z"
   },
   {
    "duration": 6,
    "start_time": "2022-11-17T21:43:22.141Z"
   },
   {
    "duration": 5,
    "start_time": "2022-11-17T21:44:03.830Z"
   },
   {
    "duration": 413,
    "start_time": "2022-11-18T06:25:19.172Z"
   },
   {
    "duration": 325,
    "start_time": "2022-11-18T06:25:20.019Z"
   },
   {
    "duration": 21,
    "start_time": "2022-11-18T06:25:22.950Z"
   },
   {
    "duration": 17,
    "start_time": "2022-11-18T06:25:27.952Z"
   },
   {
    "duration": 11,
    "start_time": "2022-11-18T06:25:35.472Z"
   },
   {
    "duration": 35,
    "start_time": "2022-11-18T06:25:43.143Z"
   },
   {
    "duration": 3,
    "start_time": "2022-11-18T06:25:52.124Z"
   },
   {
    "duration": 6,
    "start_time": "2022-11-18T06:25:56.133Z"
   },
   {
    "duration": 5,
    "start_time": "2022-11-18T06:26:00.499Z"
   },
   {
    "duration": 9,
    "start_time": "2022-11-18T06:26:06.397Z"
   },
   {
    "duration": 4,
    "start_time": "2022-11-18T06:26:09.816Z"
   },
   {
    "duration": 7,
    "start_time": "2022-11-18T06:26:18.620Z"
   },
   {
    "duration": 65,
    "start_time": "2022-11-18T06:27:30.089Z"
   },
   {
    "duration": 9,
    "start_time": "2022-11-18T06:27:38.244Z"
   },
   {
    "duration": 2,
    "start_time": "2022-11-18T06:28:05.428Z"
   },
   {
    "duration": 73,
    "start_time": "2022-11-18T06:28:06.352Z"
   },
   {
    "duration": 16,
    "start_time": "2022-11-18T06:28:09.798Z"
   },
   {
    "duration": 25,
    "start_time": "2022-11-18T06:28:14.657Z"
   },
   {
    "duration": 10,
    "start_time": "2022-11-18T06:28:18.418Z"
   },
   {
    "duration": 34,
    "start_time": "2022-11-18T06:28:21.797Z"
   },
   {
    "duration": 3,
    "start_time": "2022-11-18T06:28:29.002Z"
   },
   {
    "duration": 8,
    "start_time": "2022-11-18T06:28:32.149Z"
   },
   {
    "duration": 5,
    "start_time": "2022-11-18T06:28:38.804Z"
   },
   {
    "duration": 6,
    "start_time": "2022-11-18T06:28:41.969Z"
   },
   {
    "duration": 5,
    "start_time": "2022-11-18T06:28:44.498Z"
   },
   {
    "duration": 33,
    "start_time": "2022-11-18T06:34:53.681Z"
   },
   {
    "duration": 10,
    "start_time": "2022-11-18T06:36:17.254Z"
   },
   {
    "duration": 85,
    "start_time": "2022-11-18T10:40:44.444Z"
   },
   {
    "duration": 404,
    "start_time": "2022-11-18T10:40:54.578Z"
   },
   {
    "duration": 130,
    "start_time": "2022-11-18T10:40:55.338Z"
   },
   {
    "duration": 21,
    "start_time": "2022-11-18T10:40:57.993Z"
   },
   {
    "duration": 15,
    "start_time": "2022-11-18T10:41:02.648Z"
   },
   {
    "duration": 11,
    "start_time": "2022-11-18T10:41:06.866Z"
   },
   {
    "duration": 38,
    "start_time": "2022-11-18T10:41:10.605Z"
   },
   {
    "duration": 4,
    "start_time": "2022-11-18T10:41:13.797Z"
   },
   {
    "duration": 8,
    "start_time": "2022-11-18T10:41:16.792Z"
   },
   {
    "duration": 4,
    "start_time": "2022-11-18T10:41:20.430Z"
   },
   {
    "duration": 7,
    "start_time": "2022-11-18T10:41:23.150Z"
   },
   {
    "duration": 5,
    "start_time": "2022-11-18T10:41:26.137Z"
   },
   {
    "duration": 34,
    "start_time": "2022-11-18T10:41:28.953Z"
   },
   {
    "duration": 10,
    "start_time": "2022-11-18T10:41:32.256Z"
   },
   {
    "duration": 77,
    "start_time": "2022-11-18T10:41:35.450Z"
   },
   {
    "duration": 87,
    "start_time": "2022-11-18T10:41:45.191Z"
   },
   {
    "duration": 6,
    "start_time": "2022-11-18T10:42:11.772Z"
   },
   {
    "duration": 3,
    "start_time": "2022-11-18T10:43:37.971Z"
   },
   {
    "duration": 3,
    "start_time": "2022-11-18T10:43:41.264Z"
   },
   {
    "duration": 3,
    "start_time": "2022-11-18T10:43:51.253Z"
   },
   {
    "duration": 12,
    "start_time": "2022-11-18T10:46:13.489Z"
   },
   {
    "duration": 13,
    "start_time": "2022-11-18T10:46:16.299Z"
   },
   {
    "duration": 15,
    "start_time": "2022-11-18T10:46:34.316Z"
   },
   {
    "duration": 6,
    "start_time": "2022-11-18T10:48:41.935Z"
   },
   {
    "duration": 7,
    "start_time": "2022-11-18T10:50:28.109Z"
   },
   {
    "duration": 71,
    "start_time": "2022-11-18T10:51:57.800Z"
   },
   {
    "duration": 74,
    "start_time": "2022-11-18T10:52:20.507Z"
   },
   {
    "duration": 4,
    "start_time": "2022-11-18T11:01:51.137Z"
   },
   {
    "duration": 9,
    "start_time": "2022-11-18T11:03:52.823Z"
   },
   {
    "duration": 4,
    "start_time": "2022-11-18T11:04:47.113Z"
   },
   {
    "duration": 10,
    "start_time": "2022-11-18T11:04:48.444Z"
   },
   {
    "duration": 3,
    "start_time": "2022-11-18T11:12:38.925Z"
   },
   {
    "duration": 82,
    "start_time": "2022-11-18T11:12:39.669Z"
   },
   {
    "duration": 16,
    "start_time": "2022-11-18T11:12:42.517Z"
   },
   {
    "duration": 13,
    "start_time": "2022-11-18T11:12:45.246Z"
   },
   {
    "duration": 10,
    "start_time": "2022-11-18T11:12:48.061Z"
   },
   {
    "duration": 32,
    "start_time": "2022-11-18T11:12:49.944Z"
   },
   {
    "duration": 3,
    "start_time": "2022-11-18T11:12:52.559Z"
   },
   {
    "duration": 7,
    "start_time": "2022-11-18T11:12:55.291Z"
   },
   {
    "duration": 7,
    "start_time": "2022-11-18T11:12:58.327Z"
   },
   {
    "duration": 5,
    "start_time": "2022-11-18T11:13:00.471Z"
   },
   {
    "duration": 4,
    "start_time": "2022-11-18T11:13:04.915Z"
   },
   {
    "duration": 33,
    "start_time": "2022-11-18T11:13:08.587Z"
   },
   {
    "duration": 10,
    "start_time": "2022-11-18T11:13:12.395Z"
   },
   {
    "duration": 4,
    "start_time": "2022-11-18T11:13:17.478Z"
   },
   {
    "duration": 10,
    "start_time": "2022-11-18T11:13:22.496Z"
   },
   {
    "duration": 7,
    "start_time": "2022-11-18T11:13:27.603Z"
   },
   {
    "duration": 7,
    "start_time": "2022-11-18T11:13:30.595Z"
   },
   {
    "duration": 3,
    "start_time": "2022-11-18T11:13:35.325Z"
   },
   {
    "duration": 10,
    "start_time": "2022-11-18T11:13:37.909Z"
   },
   {
    "duration": 9,
    "start_time": "2022-11-18T12:39:19.600Z"
   },
   {
    "duration": 43,
    "start_time": "2022-11-18T12:39:20.946Z"
   },
   {
    "duration": 415,
    "start_time": "2022-11-18T12:40:00.177Z"
   },
   {
    "duration": 342,
    "start_time": "2022-11-18T12:40:01.203Z"
   },
   {
    "duration": 22,
    "start_time": "2022-11-18T12:40:03.985Z"
   },
   {
    "duration": 17,
    "start_time": "2022-11-18T12:40:08.777Z"
   },
   {
    "duration": 12,
    "start_time": "2022-11-18T12:40:12.550Z"
   },
   {
    "duration": 33,
    "start_time": "2022-11-18T12:40:15.847Z"
   },
   {
    "duration": 4,
    "start_time": "2022-11-18T12:40:18.623Z"
   },
   {
    "duration": 8,
    "start_time": "2022-11-18T12:40:22.026Z"
   },
   {
    "duration": 5,
    "start_time": "2022-11-18T12:40:25.196Z"
   },
   {
    "duration": 7,
    "start_time": "2022-11-18T12:40:27.620Z"
   },
   {
    "duration": 5,
    "start_time": "2022-11-18T12:40:30.876Z"
   },
   {
    "duration": 36,
    "start_time": "2022-11-18T12:40:34.397Z"
   },
   {
    "duration": 10,
    "start_time": "2022-11-18T12:40:37.180Z"
   },
   {
    "duration": 4,
    "start_time": "2022-11-18T12:40:40.994Z"
   },
   {
    "duration": 11,
    "start_time": "2022-11-18T12:40:44.070Z"
   },
   {
    "duration": 6,
    "start_time": "2022-11-18T12:40:46.521Z"
   },
   {
    "duration": 6,
    "start_time": "2022-11-18T12:40:49.289Z"
   },
   {
    "duration": 4,
    "start_time": "2022-11-18T12:40:53.051Z"
   },
   {
    "duration": 19,
    "start_time": "2022-11-18T12:40:56.432Z"
   },
   {
    "duration": 4,
    "start_time": "2022-11-18T12:42:09.387Z"
   },
   {
    "duration": 11,
    "start_time": "2022-11-18T12:42:10.847Z"
   },
   {
    "duration": 3,
    "start_time": "2022-11-18T12:43:53.446Z"
   },
   {
    "duration": 9,
    "start_time": "2022-11-18T12:43:54.580Z"
   },
   {
    "duration": 7,
    "start_time": "2022-11-18T12:44:45.297Z"
   },
   {
    "duration": 4,
    "start_time": "2022-11-18T13:02:32.552Z"
   },
   {
    "duration": 9,
    "start_time": "2022-11-18T13:02:33.554Z"
   },
   {
    "duration": 4,
    "start_time": "2022-11-18T13:04:15.862Z"
   },
   {
    "duration": 7,
    "start_time": "2022-11-18T13:04:16.614Z"
   },
   {
    "duration": 5,
    "start_time": "2022-11-18T13:05:44.586Z"
   },
   {
    "duration": 9,
    "start_time": "2022-11-18T13:06:55.065Z"
   },
   {
    "duration": 64,
    "start_time": "2022-11-18T13:13:07.725Z"
   },
   {
    "duration": 39,
    "start_time": "2022-11-18T13:14:54.456Z"
   },
   {
    "duration": 102,
    "start_time": "2022-11-18T13:14:55.416Z"
   },
   {
    "duration": 53,
    "start_time": "2022-11-18T13:16:12.694Z"
   },
   {
    "duration": 3,
    "start_time": "2022-11-18T13:16:43.546Z"
   },
   {
    "duration": 49,
    "start_time": "2022-11-18T13:16:45.098Z"
   },
   {
    "duration": 19,
    "start_time": "2022-11-18T13:17:28.945Z"
   },
   {
    "duration": 3,
    "start_time": "2022-11-18T13:17:33.289Z"
   },
   {
    "duration": 12,
    "start_time": "2022-11-18T13:17:38.732Z"
   },
   {
    "duration": 8,
    "start_time": "2022-11-18T13:17:49.876Z"
   },
   {
    "duration": 3,
    "start_time": "2022-11-18T13:18:26.449Z"
   },
   {
    "duration": 3,
    "start_time": "2022-11-18T13:33:14.454Z"
   },
   {
    "duration": 11,
    "start_time": "2022-11-18T13:33:17.658Z"
   },
   {
    "duration": 3,
    "start_time": "2022-11-18T13:33:39.014Z"
   },
   {
    "duration": 10,
    "start_time": "2022-11-18T13:33:39.820Z"
   },
   {
    "duration": 46,
    "start_time": "2022-11-23T06:24:20.943Z"
   },
   {
    "duration": 388,
    "start_time": "2022-11-23T06:24:33.248Z"
   },
   {
    "duration": 123,
    "start_time": "2022-11-23T06:24:33.946Z"
   },
   {
    "duration": 24,
    "start_time": "2022-11-23T06:24:36.695Z"
   },
   {
    "duration": 13,
    "start_time": "2022-11-23T06:24:40.568Z"
   },
   {
    "duration": 10,
    "start_time": "2022-11-23T06:24:43.673Z"
   },
   {
    "duration": 41,
    "start_time": "2022-11-23T06:24:46.476Z"
   },
   {
    "duration": 4,
    "start_time": "2022-11-23T06:24:50.102Z"
   },
   {
    "duration": 7,
    "start_time": "2022-11-23T06:24:52.056Z"
   },
   {
    "duration": 4,
    "start_time": "2022-11-23T06:24:54.876Z"
   },
   {
    "duration": 6,
    "start_time": "2022-11-23T06:24:56.884Z"
   },
   {
    "duration": 5,
    "start_time": "2022-11-23T06:24:58.783Z"
   },
   {
    "duration": 32,
    "start_time": "2022-11-23T06:25:01.431Z"
   },
   {
    "duration": 10,
    "start_time": "2022-11-23T06:25:03.373Z"
   },
   {
    "duration": 3,
    "start_time": "2022-11-23T06:25:08.030Z"
   },
   {
    "duration": 11,
    "start_time": "2022-11-23T06:25:10.640Z"
   },
   {
    "duration": 6,
    "start_time": "2022-11-23T06:25:12.687Z"
   },
   {
    "duration": 6,
    "start_time": "2022-11-23T06:25:14.290Z"
   },
   {
    "duration": 4,
    "start_time": "2022-11-23T06:25:17.581Z"
   },
   {
    "duration": 5,
    "start_time": "2022-11-23T06:25:20.918Z"
   },
   {
    "duration": 3,
    "start_time": "2022-11-23T06:25:24.533Z"
   },
   {
    "duration": 11,
    "start_time": "2022-11-23T06:25:26.291Z"
   },
   {
    "duration": 7,
    "start_time": "2022-11-23T06:25:29.350Z"
   },
   {
    "duration": 29,
    "start_time": "2022-11-23T06:29:20.569Z"
   },
   {
    "duration": 7,
    "start_time": "2022-11-23T06:29:28.210Z"
   },
   {
    "duration": 3,
    "start_time": "2022-11-23T06:29:52.059Z"
   },
   {
    "duration": 8,
    "start_time": "2022-11-23T06:29:53.859Z"
   },
   {
    "duration": 9,
    "start_time": "2022-11-23T06:32:32.251Z"
   },
   {
    "duration": 4,
    "start_time": "2022-11-23T06:33:29.175Z"
   },
   {
    "duration": 7,
    "start_time": "2022-11-23T06:33:36.328Z"
   },
   {
    "duration": 4,
    "start_time": "2022-11-23T06:35:33.579Z"
   },
   {
    "duration": 11,
    "start_time": "2022-11-23T06:38:24.236Z"
   },
   {
    "duration": 3,
    "start_time": "2022-11-23T06:39:43.172Z"
   },
   {
    "duration": 10,
    "start_time": "2022-11-23T06:39:51.837Z"
   },
   {
    "duration": 10,
    "start_time": "2022-11-23T06:42:26.001Z"
   },
   {
    "duration": 4,
    "start_time": "2022-11-23T06:43:01.976Z"
   },
   {
    "duration": 9,
    "start_time": "2022-11-23T06:43:07.190Z"
   },
   {
    "duration": 7,
    "start_time": "2022-11-23T06:45:52.921Z"
   },
   {
    "duration": 10,
    "start_time": "2022-11-23T06:46:55.023Z"
   },
   {
    "duration": 6,
    "start_time": "2022-11-23T06:47:10.020Z"
   },
   {
    "duration": 10,
    "start_time": "2022-11-23T06:47:17.073Z"
   },
   {
    "duration": 8,
    "start_time": "2022-11-23T06:48:44.951Z"
   },
   {
    "duration": 10,
    "start_time": "2022-11-23T06:49:33.800Z"
   },
   {
    "duration": 10,
    "start_time": "2022-11-23T06:49:53.486Z"
   },
   {
    "duration": 8,
    "start_time": "2022-11-23T06:50:50.706Z"
   },
   {
    "duration": 11,
    "start_time": "2022-11-23T06:51:01.543Z"
   },
   {
    "duration": 11,
    "start_time": "2022-11-23T06:51:18.872Z"
   },
   {
    "duration": 4,
    "start_time": "2022-11-23T08:09:54.485Z"
   },
   {
    "duration": 8,
    "start_time": "2022-11-23T08:09:57.548Z"
   },
   {
    "duration": 4,
    "start_time": "2022-11-23T08:10:08.270Z"
   },
   {
    "duration": 7,
    "start_time": "2022-11-23T08:10:09.118Z"
   },
   {
    "duration": 4,
    "start_time": "2022-11-23T08:11:01.632Z"
   },
   {
    "duration": 7,
    "start_time": "2022-11-23T08:11:03.995Z"
   },
   {
    "duration": 2,
    "start_time": "2022-11-23T08:11:21.163Z"
   },
   {
    "duration": 73,
    "start_time": "2022-11-23T08:11:21.745Z"
   },
   {
    "duration": 20,
    "start_time": "2022-11-23T08:11:24.545Z"
   },
   {
    "duration": 14,
    "start_time": "2022-11-23T08:11:28.166Z"
   },
   {
    "duration": 10,
    "start_time": "2022-11-23T08:11:33.407Z"
   },
   {
    "duration": 36,
    "start_time": "2022-11-23T08:11:36.941Z"
   },
   {
    "duration": 4,
    "start_time": "2022-11-23T08:11:39.262Z"
   },
   {
    "duration": 7,
    "start_time": "2022-11-23T08:11:42.076Z"
   },
   {
    "duration": 4,
    "start_time": "2022-11-23T08:11:44.464Z"
   },
   {
    "duration": 5,
    "start_time": "2022-11-23T08:11:46.781Z"
   },
   {
    "duration": 5,
    "start_time": "2022-11-23T08:11:49.174Z"
   },
   {
    "duration": 32,
    "start_time": "2022-11-23T08:11:52.105Z"
   },
   {
    "duration": 10,
    "start_time": "2022-11-23T08:11:54.404Z"
   },
   {
    "duration": 4,
    "start_time": "2022-11-23T08:11:57.576Z"
   },
   {
    "duration": 11,
    "start_time": "2022-11-23T08:12:00.488Z"
   },
   {
    "duration": 7,
    "start_time": "2022-11-23T08:12:02.852Z"
   },
   {
    "duration": 7,
    "start_time": "2022-11-23T08:12:03.981Z"
   },
   {
    "duration": 3,
    "start_time": "2022-11-23T08:12:07.537Z"
   },
   {
    "duration": 10,
    "start_time": "2022-11-23T08:12:09.695Z"
   },
   {
    "duration": 6,
    "start_time": "2022-11-23T08:12:16.520Z"
   },
   {
    "duration": 3,
    "start_time": "2022-11-23T08:12:19.797Z"
   },
   {
    "duration": 12,
    "start_time": "2022-11-23T08:12:20.851Z"
   },
   {
    "duration": 8,
    "start_time": "2022-11-23T08:12:26.231Z"
   },
   {
    "duration": 4,
    "start_time": "2022-11-23T08:12:26.916Z"
   },
   {
    "duration": 7,
    "start_time": "2022-11-23T08:12:28.315Z"
   },
   {
    "duration": 7,
    "start_time": "2022-11-23T08:12:40.246Z"
   },
   {
    "duration": 4,
    "start_time": "2022-11-23T08:12:40.859Z"
   },
   {
    "duration": 7,
    "start_time": "2022-11-23T08:12:41.504Z"
   },
   {
    "duration": 12,
    "start_time": "2022-11-23T08:12:46.302Z"
   },
   {
    "duration": 3,
    "start_time": "2022-11-23T08:12:46.847Z"
   },
   {
    "duration": 10,
    "start_time": "2022-11-23T08:12:47.928Z"
   },
   {
    "duration": 8,
    "start_time": "2022-11-23T08:12:51.279Z"
   },
   {
    "duration": 3,
    "start_time": "2022-11-23T08:12:51.804Z"
   },
   {
    "duration": 10,
    "start_time": "2022-11-23T08:12:53.850Z"
   },
   {
    "duration": 394,
    "start_time": "2022-11-23T17:31:56.995Z"
   },
   {
    "duration": 71,
    "start_time": "2022-11-23T17:31:57.479Z"
   },
   {
    "duration": 16,
    "start_time": "2022-11-23T17:32:06.364Z"
   },
   {
    "duration": 15,
    "start_time": "2022-11-23T17:32:09.134Z"
   },
   {
    "duration": 33,
    "start_time": "2022-11-23T17:32:12.069Z"
   },
   {
    "duration": 3,
    "start_time": "2022-11-23T17:32:14.702Z"
   },
   {
    "duration": 8,
    "start_time": "2022-11-23T17:32:16.758Z"
   },
   {
    "duration": 5,
    "start_time": "2022-11-23T17:32:20.347Z"
   },
   {
    "duration": 7,
    "start_time": "2022-11-23T17:32:22.765Z"
   },
   {
    "duration": 5,
    "start_time": "2022-11-23T17:32:25.158Z"
   },
   {
    "duration": 31,
    "start_time": "2022-11-23T17:32:27.773Z"
   },
   {
    "duration": 15,
    "start_time": "2022-11-23T17:32:30.158Z"
   },
   {
    "duration": 4,
    "start_time": "2022-11-23T17:32:33.235Z"
   },
   {
    "duration": 11,
    "start_time": "2022-11-23T17:32:35.652Z"
   },
   {
    "duration": 6,
    "start_time": "2022-11-23T17:32:37.718Z"
   },
   {
    "duration": 6,
    "start_time": "2022-11-23T17:32:39.678Z"
   },
   {
    "duration": 3,
    "start_time": "2022-11-23T17:32:42.485Z"
   },
   {
    "duration": 10,
    "start_time": "2022-11-23T17:32:44.755Z"
   },
   {
    "duration": 7,
    "start_time": "2022-11-23T17:32:47.229Z"
   },
   {
    "duration": 4,
    "start_time": "2022-11-23T17:32:51.035Z"
   },
   {
    "duration": 10,
    "start_time": "2022-11-23T17:32:53.376Z"
   },
   {
    "duration": 163,
    "start_time": "2022-11-23T17:32:55.850Z"
   },
   {
    "duration": 173,
    "start_time": "2022-11-23T17:32:59.878Z"
   },
   {
    "duration": 8,
    "start_time": "2022-11-23T17:33:03.613Z"
   },
   {
    "duration": 4,
    "start_time": "2022-11-23T17:33:04.675Z"
   },
   {
    "duration": 9,
    "start_time": "2022-11-23T17:33:06.444Z"
   },
   {
    "duration": 8,
    "start_time": "2022-11-23T17:33:12.690Z"
   },
   {
    "duration": 4,
    "start_time": "2022-11-23T17:33:13.718Z"
   },
   {
    "duration": 11,
    "start_time": "2022-11-23T17:33:18.051Z"
   },
   {
    "duration": 4,
    "start_time": "2022-11-23T17:33:18.823Z"
   },
   {
    "duration": 13,
    "start_time": "2022-11-23T17:33:20.324Z"
   },
   {
    "duration": 9,
    "start_time": "2022-11-23T17:33:23.303Z"
   },
   {
    "duration": 4,
    "start_time": "2022-11-23T17:33:24.080Z"
   },
   {
    "duration": 7,
    "start_time": "2022-11-23T17:33:25.543Z"
   },
   {
    "duration": 10,
    "start_time": "2022-11-23T17:35:06.203Z"
   },
   {
    "duration": 3,
    "start_time": "2022-11-23T17:35:06.924Z"
   },
   {
    "duration": 8,
    "start_time": "2022-11-23T17:35:07.765Z"
   },
   {
    "duration": 165,
    "start_time": "2022-11-23T17:36:50.351Z"
   },
   {
    "duration": 397,
    "start_time": "2023-03-24T14:15:34.247Z"
   }
  ],
  "colab": {
   "provenance": []
  },
  "kernelspec": {
   "display_name": "Python 3 (ipykernel)",
   "language": "python",
   "name": "python3"
  },
  "language_info": {
   "codemirror_mode": {
    "name": "ipython",
    "version": 3
   },
   "file_extension": ".py",
   "mimetype": "text/x-python",
   "name": "python",
   "nbconvert_exporter": "python",
   "pygments_lexer": "ipython3",
   "version": "3.9.5"
  },
  "toc": {
   "base_numbering": 1,
   "nav_menu": {},
   "number_sections": true,
   "sideBar": true,
   "skip_h1_title": true,
   "title_cell": "Table of Contents",
   "title_sidebar": "Contents",
   "toc_cell": false,
   "toc_position": {},
   "toc_section_display": true,
   "toc_window_display": false
  }
 },
 "nbformat": 4,
 "nbformat_minor": 5
}
