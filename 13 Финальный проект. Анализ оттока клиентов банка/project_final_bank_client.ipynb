{
 "cells": [
  {
   "cell_type": "markdown",
   "id": "407e2941",
   "metadata": {},
   "source": [
    "**МАТЕРИАЛЫ:**\n",
    "\n",
    "1. Презентация: https://disk.yandex.ru/i/63nxpZS1saawHQ\n",
    "\n",
    "\n",
    "2. Дашборд: https://public.tableau.com/app/profile/irina.nikolskaya/viz/Bankproducts/Dashboardbankproducts?publish=yes"
   ]
  },
  {
   "cell_type": "markdown",
   "id": "90740b4d",
   "metadata": {},
   "source": [
    "# Банки - Анализ оттока клиентов"
   ]
  },
  {
   "cell_type": "markdown",
   "id": "c03d57a7",
   "metadata": {},
   "source": [
    "**ВВЕДЕНИЕ:**\n",
    "\n",
    "Настоящее исследование представляет собой анализ клиентов банка \"Метанпром\", их сегментирование и проверку гипотез.\n",
    "\n",
    "**Цель проекта:**\n",
    "Анализ оттока клиентов, поиск тех сегментов клиентов, которые в наибольшей степени склонны уходить из банка, а также подготовка рекомендаций для отдела маркетинга.\n",
    "\n",
    "**Задачи проекта:**\n",
    "\n",
    "- Исследование данных, поиск различных корреляций;\n",
    "- Составление портретов клиентов;\n",
    "- Проверка статистических гипотез;\n",
    "- Составление сегментов клиентов, приоритизация их в соответствии со степенью подверженности оттоку из банка;\n",
    "- Подготовка выводов и рекомендаций для отдела маркетинга.\n",
    "\n",
    "**Декомпозиция проекта:**\n",
    "\n",
    "1. Загрузка данных и импорт необходимых библиотек.\n",
    "\n",
    "\n",
    "2. Предобработка данных:\n",
    "\n",
    "- приведение к корректному типу данных;\n",
    "- проверка на корректность наименований колонок\n",
    "- проверка на наличие пропусков;\n",
    "- проверка на наличие дубликатов;\n",
    "- кодирование данных.\n",
    "\n",
    "3. Исследовательский анализ данных:\n",
    "\n",
    "- анализ отточных клиентов в разрезе различных параметров (город, пол, возраст и т.д.);\n",
    "- составление портретов уходящих клиентов\n",
    "\n",
    "4. Статистический анализ данных:\n",
    "\n",
    "- выдвижение первой гипотезы и ее проверка\n",
    "- выдвижение второй гипотезы и ее проверка\n",
    "- выдвижение третей гипотезы и ее проверка\n",
    "- формулирование промежуточных выводов на основе статистического анализа\n",
    "\n",
    "5. Сегментация пользователей и их приоритизация\n",
    "\n",
    "\n",
    "6. Итоговые выводы и рекомендации для отдела маркетинга."
   ]
  },
  {
   "cell_type": "markdown",
   "id": "8b166199",
   "metadata": {},
   "source": [
    "## Загрузка данных и импорт библиотек"
   ]
  },
  {
   "cell_type": "code",
   "execution_count": 1,
   "id": "ff30fee6",
   "metadata": {},
   "outputs": [],
   "source": [
    "import pandas as pd\n",
    "import numpy as np\n",
    "import seaborn as sns\n",
    "import matplotlib.pyplot as plt\n",
    "%matplotlib inline\n",
    "from scipy import stats as st\n",
    "import math as mth\n",
    "import warnings\n",
    "warnings.filterwarnings(\"ignore\")\n",
    "\n",
    "#столбцы и строки полностью, формат округлен\n",
    "pd.set_option('display.max_columns', None)\n",
    "pd.options.display.float_format = '{:,.2f}'.format\n",
    "#вывод значений без сокращений\n",
    "pd.set_option('display.max_colwidth', -1)"
   ]
  },
  {
   "cell_type": "code",
   "execution_count": 2,
   "id": "0b0662e8",
   "metadata": {},
   "outputs": [],
   "source": [
    "# чтение файла bank_scrooge.csv с данными и сохранение его в переменную \n",
    "path = \"https://drive.google.com/uc?export=download&id=1-U61mhTz_N1ARjy2XSAZ7IlQqGjeqP0F\" \n",
    "df = pd.read_csv(path)"
   ]
  },
  {
   "cell_type": "code",
   "execution_count": 3,
   "id": "e7d54fbf",
   "metadata": {},
   "outputs": [
    {
     "data": {
      "text/html": [
       "<div>\n",
       "<style scoped>\n",
       "    .dataframe tbody tr th:only-of-type {\n",
       "        vertical-align: middle;\n",
       "    }\n",
       "\n",
       "    .dataframe tbody tr th {\n",
       "        vertical-align: top;\n",
       "    }\n",
       "\n",
       "    .dataframe thead th {\n",
       "        text-align: right;\n",
       "    }\n",
       "</style>\n",
       "<table border=\"1\" class=\"dataframe\">\n",
       "  <thead>\n",
       "    <tr style=\"text-align: right;\">\n",
       "      <th></th>\n",
       "      <th>USERID</th>\n",
       "      <th>score</th>\n",
       "      <th>city</th>\n",
       "      <th>gender</th>\n",
       "      <th>age</th>\n",
       "      <th>equity</th>\n",
       "      <th>balance</th>\n",
       "      <th>products</th>\n",
       "      <th>credit_card</th>\n",
       "      <th>last_activity</th>\n",
       "      <th>EST_SALARY</th>\n",
       "      <th>churn</th>\n",
       "    </tr>\n",
       "  </thead>\n",
       "  <tbody>\n",
       "    <tr>\n",
       "      <th>0</th>\n",
       "      <td>183012</td>\n",
       "      <td>850.00</td>\n",
       "      <td>Рыбинск</td>\n",
       "      <td>Ж</td>\n",
       "      <td>25.00</td>\n",
       "      <td>1</td>\n",
       "      <td>59,214.82</td>\n",
       "      <td>2</td>\n",
       "      <td>0</td>\n",
       "      <td>1</td>\n",
       "      <td>75,719.14</td>\n",
       "      <td>1</td>\n",
       "    </tr>\n",
       "    <tr>\n",
       "      <th>1</th>\n",
       "      <td>146556</td>\n",
       "      <td>861.00</td>\n",
       "      <td>Рыбинск</td>\n",
       "      <td>Ж</td>\n",
       "      <td>37.00</td>\n",
       "      <td>5</td>\n",
       "      <td>850,594.33</td>\n",
       "      <td>3</td>\n",
       "      <td>1</td>\n",
       "      <td>0</td>\n",
       "      <td>86,621.77</td>\n",
       "      <td>0</td>\n",
       "    </tr>\n",
       "    <tr>\n",
       "      <th>2</th>\n",
       "      <td>120722</td>\n",
       "      <td>892.00</td>\n",
       "      <td>Рыбинск</td>\n",
       "      <td>Ж</td>\n",
       "      <td>30.00</td>\n",
       "      <td>0</td>\n",
       "      <td>NaN</td>\n",
       "      <td>1</td>\n",
       "      <td>1</td>\n",
       "      <td>1</td>\n",
       "      <td>107,683.34</td>\n",
       "      <td>0</td>\n",
       "    </tr>\n",
       "    <tr>\n",
       "      <th>3</th>\n",
       "      <td>225363</td>\n",
       "      <td>866.00</td>\n",
       "      <td>Ярославль</td>\n",
       "      <td>Ж</td>\n",
       "      <td>51.00</td>\n",
       "      <td>5</td>\n",
       "      <td>1,524,746.26</td>\n",
       "      <td>2</td>\n",
       "      <td>0</td>\n",
       "      <td>1</td>\n",
       "      <td>174,423.53</td>\n",
       "      <td>1</td>\n",
       "    </tr>\n",
       "    <tr>\n",
       "      <th>4</th>\n",
       "      <td>157978</td>\n",
       "      <td>730.00</td>\n",
       "      <td>Ярославль</td>\n",
       "      <td>М</td>\n",
       "      <td>34.00</td>\n",
       "      <td>5</td>\n",
       "      <td>174.00</td>\n",
       "      <td>1</td>\n",
       "      <td>1</td>\n",
       "      <td>0</td>\n",
       "      <td>67,353.16</td>\n",
       "      <td>1</td>\n",
       "    </tr>\n",
       "    <tr>\n",
       "      <th>5</th>\n",
       "      <td>202305</td>\n",
       "      <td>856.00</td>\n",
       "      <td>Рыбинск</td>\n",
       "      <td>М</td>\n",
       "      <td>56.00</td>\n",
       "      <td>4</td>\n",
       "      <td>863,687.24</td>\n",
       "      <td>3</td>\n",
       "      <td>1</td>\n",
       "      <td>0</td>\n",
       "      <td>156,619.80</td>\n",
       "      <td>0</td>\n",
       "    </tr>\n",
       "    <tr>\n",
       "      <th>6</th>\n",
       "      <td>177259</td>\n",
       "      <td>807.00</td>\n",
       "      <td>Ярославль</td>\n",
       "      <td>Ж</td>\n",
       "      <td>39.00</td>\n",
       "      <td>3</td>\n",
       "      <td>405,042.44</td>\n",
       "      <td>3</td>\n",
       "      <td>0</td>\n",
       "      <td>1</td>\n",
       "      <td>103,838.32</td>\n",
       "      <td>0</td>\n",
       "    </tr>\n",
       "    <tr>\n",
       "      <th>7</th>\n",
       "      <td>218868</td>\n",
       "      <td>825.00</td>\n",
       "      <td>Ярославль</td>\n",
       "      <td>Ж</td>\n",
       "      <td>38.00</td>\n",
       "      <td>4</td>\n",
       "      <td>458,145.40</td>\n",
       "      <td>2</td>\n",
       "      <td>1</td>\n",
       "      <td>1</td>\n",
       "      <td>68,085.48</td>\n",
       "      <td>0</td>\n",
       "    </tr>\n",
       "    <tr>\n",
       "      <th>8</th>\n",
       "      <td>211686</td>\n",
       "      <td>923.00</td>\n",
       "      <td>Ярославль</td>\n",
       "      <td>М</td>\n",
       "      <td>54.00</td>\n",
       "      <td>5</td>\n",
       "      <td>1,206,337.87</td>\n",
       "      <td>2</td>\n",
       "      <td>1</td>\n",
       "      <td>0</td>\n",
       "      <td>155,371.79</td>\n",
       "      <td>0</td>\n",
       "    </tr>\n",
       "    <tr>\n",
       "      <th>9</th>\n",
       "      <td>133130</td>\n",
       "      <td>906.00</td>\n",
       "      <td>Ярославль</td>\n",
       "      <td>Ж</td>\n",
       "      <td>67.00</td>\n",
       "      <td>0</td>\n",
       "      <td>NaN</td>\n",
       "      <td>1</td>\n",
       "      <td>0</td>\n",
       "      <td>1</td>\n",
       "      <td>238,055.53</td>\n",
       "      <td>0</td>\n",
       "    </tr>\n",
       "  </tbody>\n",
       "</table>\n",
       "</div>"
      ],
      "text/plain": [
       "   USERID  score       city gender   age  equity      balance  products  \\\n",
       "0  183012 850.00  Рыбинск    Ж     25.00  1      59,214.82     2          \n",
       "1  146556 861.00  Рыбинск    Ж     37.00  5      850,594.33    3          \n",
       "2  120722 892.00  Рыбинск    Ж     30.00  0      NaN           1          \n",
       "3  225363 866.00  Ярославль  Ж     51.00  5      1,524,746.26  2          \n",
       "4  157978 730.00  Ярославль  М     34.00  5      174.00        1          \n",
       "5  202305 856.00  Рыбинск    М     56.00  4      863,687.24    3          \n",
       "6  177259 807.00  Ярославль  Ж     39.00  3      405,042.44    3          \n",
       "7  218868 825.00  Ярославль  Ж     38.00  4      458,145.40    2          \n",
       "8  211686 923.00  Ярославль  М     54.00  5      1,206,337.87  2          \n",
       "9  133130 906.00  Ярославль  Ж     67.00  0      NaN           1          \n",
       "\n",
       "   credit_card  last_activity  EST_SALARY  churn  \n",
       "0  0            1             75,719.14    1      \n",
       "1  1            0             86,621.77    0      \n",
       "2  1            1             107,683.34   0      \n",
       "3  0            1             174,423.53   1      \n",
       "4  1            0             67,353.16    1      \n",
       "5  1            0             156,619.80   0      \n",
       "6  0            1             103,838.32   0      \n",
       "7  1            1             68,085.48    0      \n",
       "8  1            0             155,371.79   0      \n",
       "9  0            1             238,055.53   0      "
      ]
     },
     "execution_count": 3,
     "metadata": {},
     "output_type": "execute_result"
    }
   ],
   "source": [
    "df.head(10)"
   ]
  },
  {
   "cell_type": "code",
   "execution_count": 4,
   "id": "13b0216a",
   "metadata": {},
   "outputs": [
    {
     "name": "stdout",
     "output_type": "stream",
     "text": [
      "<class 'pandas.core.frame.DataFrame'>\n",
      "RangeIndex: 10000 entries, 0 to 9999\n",
      "Data columns (total 12 columns):\n",
      " #   Column         Non-Null Count  Dtype  \n",
      "---  ------         --------------  -----  \n",
      " 0   USERID         10000 non-null  int64  \n",
      " 1   score          10000 non-null  float64\n",
      " 2   city           10000 non-null  object \n",
      " 3   gender         10000 non-null  object \n",
      " 4   age            9974 non-null   float64\n",
      " 5   equity         10000 non-null  int64  \n",
      " 6   balance        7705 non-null   float64\n",
      " 7   products       10000 non-null  int64  \n",
      " 8   credit_card    10000 non-null  int64  \n",
      " 9   last_activity  10000 non-null  int64  \n",
      " 10  EST_SALARY     10000 non-null  float64\n",
      " 11  churn          10000 non-null  int64  \n",
      "dtypes: float64(4), int64(6), object(2)\n",
      "memory usage: 937.6+ KB\n"
     ]
    }
   ],
   "source": [
    "df.info()"
   ]
  },
  {
   "cell_type": "markdown",
   "id": "19a79d0d",
   "metadata": {},
   "source": [
    "**Вывод:**\n",
    "\n",
    "После загрузки и ознакомлении с данными мы видим, что названия некоторых столбцов написаны заглавными буквами их необходимо привести к нижнему регистру, также добавим \"змеиный регистр\" для столбца USERID и EST_SALARY . В столбцах age и  balance присутствуют пропуски.Тип данных соответствует, переходим к предобработке данных."
   ]
  },
  {
   "cell_type": "markdown",
   "id": "3e7ac2fd",
   "metadata": {},
   "source": [
    "## Предобработка данных"
   ]
  },
  {
   "cell_type": "code",
   "execution_count": 5,
   "id": "5b9d3d76",
   "metadata": {},
   "outputs": [
    {
     "data": {
      "text/html": [
       "<div>\n",
       "<style scoped>\n",
       "    .dataframe tbody tr th:only-of-type {\n",
       "        vertical-align: middle;\n",
       "    }\n",
       "\n",
       "    .dataframe tbody tr th {\n",
       "        vertical-align: top;\n",
       "    }\n",
       "\n",
       "    .dataframe thead th {\n",
       "        text-align: right;\n",
       "    }\n",
       "</style>\n",
       "<table border=\"1\" class=\"dataframe\">\n",
       "  <thead>\n",
       "    <tr style=\"text-align: right;\">\n",
       "      <th></th>\n",
       "      <th>user_id</th>\n",
       "      <th>score</th>\n",
       "      <th>city</th>\n",
       "      <th>gender</th>\n",
       "      <th>age</th>\n",
       "      <th>equity</th>\n",
       "      <th>balance</th>\n",
       "      <th>products</th>\n",
       "      <th>credit_card</th>\n",
       "      <th>last_activity</th>\n",
       "      <th>est_salary</th>\n",
       "      <th>churn</th>\n",
       "    </tr>\n",
       "  </thead>\n",
       "  <tbody>\n",
       "    <tr>\n",
       "      <th>0</th>\n",
       "      <td>183012</td>\n",
       "      <td>850.00</td>\n",
       "      <td>Рыбинск</td>\n",
       "      <td>Ж</td>\n",
       "      <td>25.00</td>\n",
       "      <td>1</td>\n",
       "      <td>59,214.82</td>\n",
       "      <td>2</td>\n",
       "      <td>0</td>\n",
       "      <td>1</td>\n",
       "      <td>75,719.14</td>\n",
       "      <td>1</td>\n",
       "    </tr>\n",
       "    <tr>\n",
       "      <th>1</th>\n",
       "      <td>146556</td>\n",
       "      <td>861.00</td>\n",
       "      <td>Рыбинск</td>\n",
       "      <td>Ж</td>\n",
       "      <td>37.00</td>\n",
       "      <td>5</td>\n",
       "      <td>850,594.33</td>\n",
       "      <td>3</td>\n",
       "      <td>1</td>\n",
       "      <td>0</td>\n",
       "      <td>86,621.77</td>\n",
       "      <td>0</td>\n",
       "    </tr>\n",
       "    <tr>\n",
       "      <th>2</th>\n",
       "      <td>120722</td>\n",
       "      <td>892.00</td>\n",
       "      <td>Рыбинск</td>\n",
       "      <td>Ж</td>\n",
       "      <td>30.00</td>\n",
       "      <td>0</td>\n",
       "      <td>NaN</td>\n",
       "      <td>1</td>\n",
       "      <td>1</td>\n",
       "      <td>1</td>\n",
       "      <td>107,683.34</td>\n",
       "      <td>0</td>\n",
       "    </tr>\n",
       "    <tr>\n",
       "      <th>3</th>\n",
       "      <td>225363</td>\n",
       "      <td>866.00</td>\n",
       "      <td>Ярославль</td>\n",
       "      <td>Ж</td>\n",
       "      <td>51.00</td>\n",
       "      <td>5</td>\n",
       "      <td>1,524,746.26</td>\n",
       "      <td>2</td>\n",
       "      <td>0</td>\n",
       "      <td>1</td>\n",
       "      <td>174,423.53</td>\n",
       "      <td>1</td>\n",
       "    </tr>\n",
       "    <tr>\n",
       "      <th>4</th>\n",
       "      <td>157978</td>\n",
       "      <td>730.00</td>\n",
       "      <td>Ярославль</td>\n",
       "      <td>М</td>\n",
       "      <td>34.00</td>\n",
       "      <td>5</td>\n",
       "      <td>174.00</td>\n",
       "      <td>1</td>\n",
       "      <td>1</td>\n",
       "      <td>0</td>\n",
       "      <td>67,353.16</td>\n",
       "      <td>1</td>\n",
       "    </tr>\n",
       "    <tr>\n",
       "      <th>...</th>\n",
       "      <td>...</td>\n",
       "      <td>...</td>\n",
       "      <td>...</td>\n",
       "      <td>...</td>\n",
       "      <td>...</td>\n",
       "      <td>...</td>\n",
       "      <td>...</td>\n",
       "      <td>...</td>\n",
       "      <td>...</td>\n",
       "      <td>...</td>\n",
       "      <td>...</td>\n",
       "      <td>...</td>\n",
       "    </tr>\n",
       "    <tr>\n",
       "      <th>9995</th>\n",
       "      <td>120553</td>\n",
       "      <td>814.00</td>\n",
       "      <td>Рыбинск</td>\n",
       "      <td>М</td>\n",
       "      <td>27.00</td>\n",
       "      <td>1</td>\n",
       "      <td>78,144.65</td>\n",
       "      <td>1</td>\n",
       "      <td>0</td>\n",
       "      <td>1</td>\n",
       "      <td>18,943.64</td>\n",
       "      <td>0</td>\n",
       "    </tr>\n",
       "    <tr>\n",
       "      <th>9996</th>\n",
       "      <td>139170</td>\n",
       "      <td>894.00</td>\n",
       "      <td>Ярославль</td>\n",
       "      <td>М</td>\n",
       "      <td>46.00</td>\n",
       "      <td>0</td>\n",
       "      <td>NaN</td>\n",
       "      <td>1</td>\n",
       "      <td>1</td>\n",
       "      <td>0</td>\n",
       "      <td>196,898.29</td>\n",
       "      <td>0</td>\n",
       "    </tr>\n",
       "    <tr>\n",
       "      <th>9997</th>\n",
       "      <td>115639</td>\n",
       "      <td>903.00</td>\n",
       "      <td>Ярославль</td>\n",
       "      <td>М</td>\n",
       "      <td>24.00</td>\n",
       "      <td>0</td>\n",
       "      <td>NaN</td>\n",
       "      <td>2</td>\n",
       "      <td>1</td>\n",
       "      <td>1</td>\n",
       "      <td>108,905.09</td>\n",
       "      <td>0</td>\n",
       "    </tr>\n",
       "    <tr>\n",
       "      <th>9998</th>\n",
       "      <td>148700</td>\n",
       "      <td>777.00</td>\n",
       "      <td>Ярославль</td>\n",
       "      <td>Ж</td>\n",
       "      <td>68.00</td>\n",
       "      <td>3</td>\n",
       "      <td>865,457.97</td>\n",
       "      <td>3</td>\n",
       "      <td>0</td>\n",
       "      <td>1</td>\n",
       "      <td>86,874.90</td>\n",
       "      <td>0</td>\n",
       "    </tr>\n",
       "    <tr>\n",
       "      <th>9999</th>\n",
       "      <td>96267</td>\n",
       "      <td>828.00</td>\n",
       "      <td>Рыбинск</td>\n",
       "      <td>Ж</td>\n",
       "      <td>58.00</td>\n",
       "      <td>3</td>\n",
       "      <td>1,180,886.70</td>\n",
       "      <td>4</td>\n",
       "      <td>0</td>\n",
       "      <td>1</td>\n",
       "      <td>21,422.37</td>\n",
       "      <td>0</td>\n",
       "    </tr>\n",
       "  </tbody>\n",
       "</table>\n",
       "<p>10000 rows × 12 columns</p>\n",
       "</div>"
      ],
      "text/plain": [
       "      user_id  score       city gender   age  equity      balance  products  \\\n",
       "0     183012  850.00  Рыбинск    Ж     25.00  1      59,214.82     2          \n",
       "1     146556  861.00  Рыбинск    Ж     37.00  5      850,594.33    3          \n",
       "2     120722  892.00  Рыбинск    Ж     30.00  0      NaN           1          \n",
       "3     225363  866.00  Ярославль  Ж     51.00  5      1,524,746.26  2          \n",
       "4     157978  730.00  Ярославль  М     34.00  5      174.00        1          \n",
       "...      ...     ...        ... ..       ... ..         ...       ..          \n",
       "9995  120553  814.00  Рыбинск    М     27.00  1      78,144.65     1          \n",
       "9996  139170  894.00  Ярославль  М     46.00  0      NaN           1          \n",
       "9997  115639  903.00  Ярославль  М     24.00  0      NaN           2          \n",
       "9998  148700  777.00  Ярославль  Ж     68.00  3      865,457.97    3          \n",
       "9999  96267   828.00  Рыбинск    Ж     58.00  3      1,180,886.70  4          \n",
       "\n",
       "      credit_card  last_activity  est_salary  churn  \n",
       "0     0            1             75,719.14    1      \n",
       "1     1            0             86,621.77    0      \n",
       "2     1            1             107,683.34   0      \n",
       "3     0            1             174,423.53   1      \n",
       "4     1            0             67,353.16    1      \n",
       "...  ..           ..                   ...   ..      \n",
       "9995  0            1             18,943.64    0      \n",
       "9996  1            0             196,898.29   0      \n",
       "9997  1            1             108,905.09   0      \n",
       "9998  0            1             86,874.90    0      \n",
       "9999  0            1             21,422.37    0      \n",
       "\n",
       "[10000 rows x 12 columns]"
      ]
     },
     "execution_count": 5,
     "metadata": {},
     "output_type": "execute_result"
    }
   ],
   "source": [
    "# приведем названия столбцов к нижнему и \"змеиному\" регистрам:\n",
    "\n",
    "df = df.rename (columns = {'USERID':'user_id', 'EST_SALARY':'est_salary'})\n",
    "df"
   ]
  },
  {
   "cell_type": "code",
   "execution_count": 6,
   "id": "aa560cd6",
   "metadata": {},
   "outputs": [
    {
     "data": {
      "text/plain": [
       "Index(['user_id', 'score', 'city', 'gender', 'age', 'equity', 'balance',\n",
       "       'products', 'credit_card', 'last_activity', 'est_salary', 'churn'],\n",
       "      dtype='object')"
      ]
     },
     "execution_count": 6,
     "metadata": {},
     "output_type": "execute_result"
    }
   ],
   "source": [
    "df.columns = df.columns.str.lower()\n",
    "df.columns "
   ]
  },
  {
   "cell_type": "markdown",
   "id": "d8b8c099",
   "metadata": {},
   "source": [
    "Определим процент пропущенных значений в столбце balance и age:"
   ]
  },
  {
   "cell_type": "code",
   "execution_count": 7,
   "id": "7252c835",
   "metadata": {},
   "outputs": [
    {
     "data": {
      "text/plain": [
       "0.2295"
      ]
     },
     "execution_count": 7,
     "metadata": {},
     "output_type": "execute_result"
    }
   ],
   "source": [
    "\n",
    "df['balance'].isna().sum()/len(df)"
   ]
  },
  {
   "cell_type": "code",
   "execution_count": 8,
   "id": "46e94667",
   "metadata": {},
   "outputs": [
    {
     "data": {
      "text/plain": [
       "0.0026"
      ]
     },
     "execution_count": 8,
     "metadata": {},
     "output_type": "execute_result"
    }
   ],
   "source": [
    "df['age'].isna().sum()/len(df)"
   ]
  },
  {
   "cell_type": "markdown",
   "id": "ff1acbaf",
   "metadata": {},
   "source": [
    "Пропуски в столбце balancе составляют 23%, поэтому удалять их было бы некорректно. Можно заменить средним или медианой, однако это может повлиять на результаты дальнейшего анализа, поэтому попробуем исследовать природу этих пропусков. Пропусков в столбце age мало удалим  их, они могут быть связаны с тем , что клиент не захотел заполнять эту графу."
   ]
  },
  {
   "cell_type": "code",
   "execution_count": 9,
   "id": "e959d7da",
   "metadata": {},
   "outputs": [],
   "source": [
    "df=df.dropna(subset=['age'])"
   ]
  },
  {
   "cell_type": "code",
   "execution_count": 10,
   "id": "66ba54a6",
   "metadata": {},
   "outputs": [
    {
     "data": {
      "text/plain": [
       "0       25\n",
       "1       37\n",
       "2       30\n",
       "3       51\n",
       "4       34\n",
       "        ..\n",
       "9995    27\n",
       "9996    46\n",
       "9997    24\n",
       "9998    68\n",
       "9999    58\n",
       "Name: age, Length: 9974, dtype: int64"
      ]
     },
     "execution_count": 10,
     "metadata": {},
     "output_type": "execute_result"
    }
   ],
   "source": [
    "#переведем значения в целочисленный тип \n",
    "df['age']= df['age'].astype('int')\n",
    "df['age']"
   ]
  },
  {
   "cell_type": "markdown",
   "id": "bf892df3",
   "metadata": {},
   "source": [
    "**Работа с пропусками в столбце balance:**"
   ]
  },
  {
   "cell_type": "code",
   "execution_count": 11,
   "id": "13cf0ce0",
   "metadata": {
    "scrolled": true
   },
   "outputs": [
    {
     "data": {
      "text/plain": [
       "0    2266\n",
       "1    13  \n",
       "Name: churn, dtype: int64"
      ]
     },
     "execution_count": 11,
     "metadata": {},
     "output_type": "execute_result"
    }
   ],
   "source": [
    "# Посмотрим, связаны ли пропуски в столбце balance с фактом оттока клиента из банка:\n",
    "\n",
    "df[df['balance'].isna()]['churn'].value_counts()"
   ]
  },
  {
   "cell_type": "markdown",
   "id": "35d7088e",
   "metadata": {},
   "source": [
    "Как мы видим, лишь в 13 случаях пропуск мог быть связан с тем, что клиент ушел из банка, так что предположение о том, что пропуски связаны с оттоком, не подтвердилось."
   ]
  },
  {
   "cell_type": "code",
   "execution_count": 12,
   "id": "8b021de7",
   "metadata": {},
   "outputs": [
    {
     "data": {
      "text/plain": [
       "city\n",
       "Ростов       235 \n",
       "Рыбинск      586 \n",
       "Ярославль    1458\n",
       "Name: city, dtype: int64"
      ]
     },
     "execution_count": 12,
     "metadata": {},
     "output_type": "execute_result"
    }
   ],
   "source": [
    "df.query('balance.isna()').groupby('city')['city'].count()"
   ]
  },
  {
   "cell_type": "markdown",
   "id": "f87ba383",
   "metadata": {},
   "source": [
    "Пропуски есть во всех городах"
   ]
  },
  {
   "cell_type": "markdown",
   "id": "9198f2be",
   "metadata": {},
   "source": [
    "Так как нам не удалось однозначно определить природу пропусков, лучше оставить их."
   ]
  },
  {
   "cell_type": "code",
   "execution_count": 13,
   "id": "34096630",
   "metadata": {},
   "outputs": [
    {
     "data": {
      "text/plain": [
       "0"
      ]
     },
     "execution_count": 13,
     "metadata": {},
     "output_type": "execute_result"
    }
   ],
   "source": [
    "#проверка на наличие дубликатов\n",
    "df.duplicated().sum()"
   ]
  },
  {
   "cell_type": "markdown",
   "id": "0a40266b",
   "metadata": {},
   "source": [
    "Проверим на наличие дубликатов столбцы, где все значения должны быть уникальными (в нашем случае это столбец user_id)."
   ]
  },
  {
   "cell_type": "code",
   "execution_count": 14,
   "id": "8756377b",
   "metadata": {},
   "outputs": [
    {
     "data": {
      "text/plain": [
       "50"
      ]
     },
     "execution_count": 14,
     "metadata": {},
     "output_type": "execute_result"
    }
   ],
   "source": [
    "# найдем дубликаты в столбце user_id:\n",
    "\n",
    "df['user_id'].duplicated().sum()"
   ]
  },
  {
   "cell_type": "code",
   "execution_count": 15,
   "id": "680e84e0",
   "metadata": {},
   "outputs": [],
   "source": [
    "df['user_id'] = df['user_id'].drop_duplicates().reset_index(drop=True)"
   ]
  },
  {
   "cell_type": "code",
   "execution_count": 16,
   "id": "3fad6362",
   "metadata": {},
   "outputs": [
    {
     "data": {
      "text/plain": [
       "array(['Рыбинск', 'Ярославль', 'Ростов'], dtype=object)"
      ]
     },
     "execution_count": 16,
     "metadata": {},
     "output_type": "execute_result"
    }
   ],
   "source": [
    "# проверим уникальные значения в столбце city\n",
    "\n",
    "df['city'].unique()"
   ]
  },
  {
   "cell_type": "code",
   "execution_count": 17,
   "id": "66b956fa",
   "metadata": {},
   "outputs": [
    {
     "data": {
      "text/plain": [
       "array(['Ж', 'М'], dtype=object)"
      ]
     },
     "execution_count": 17,
     "metadata": {},
     "output_type": "execute_result"
    }
   ],
   "source": [
    "# проверим уникальные значения в столбце gender:\n",
    "\n",
    "df['gender'].unique()"
   ]
  },
  {
   "cell_type": "code",
   "execution_count": 18,
   "id": "47f4131b",
   "metadata": {},
   "outputs": [
    {
     "data": {
      "text/plain": [
       "array([0, 1])"
      ]
     },
     "execution_count": 18,
     "metadata": {},
     "output_type": "execute_result"
    }
   ],
   "source": [
    "# проверим уникальные значения в столбце credit_card:\n",
    "\n",
    "df['credit_card'].unique()"
   ]
  },
  {
   "cell_type": "code",
   "execution_count": 19,
   "id": "bda0e9fa",
   "metadata": {},
   "outputs": [
    {
     "data": {
      "text/plain": [
       "array([1, 0])"
      ]
     },
     "execution_count": 19,
     "metadata": {},
     "output_type": "execute_result"
    }
   ],
   "source": [
    "# проверим уникальные значения в столбце last_activity:\n",
    "\n",
    "df['last_activity'].unique()"
   ]
  },
  {
   "cell_type": "code",
   "execution_count": 20,
   "id": "4225be07",
   "metadata": {},
   "outputs": [
    {
     "data": {
      "text/plain": [
       "array([1, 0])"
      ]
     },
     "execution_count": 20,
     "metadata": {},
     "output_type": "execute_result"
    }
   ],
   "source": [
    "# проверим уникальные значения в столбце churn:\n",
    "\n",
    "df['churn'].unique()"
   ]
  },
  {
   "cell_type": "markdown",
   "id": "c2ee1e1e",
   "metadata": {},
   "source": [
    "**Кодирование данных:**"
   ]
  },
  {
   "cell_type": "markdown",
   "id": "ec726521",
   "metadata": {},
   "source": [
    "Для дальнейшего анализа нам необходимо будет кодировать некоторые столбцы, то есть перевести категориальные значения в бинарные."
   ]
  },
  {
   "cell_type": "code",
   "execution_count": 21,
   "id": "870dd43d",
   "metadata": {},
   "outputs": [
    {
     "data": {
      "text/html": [
       "<div>\n",
       "<style scoped>\n",
       "    .dataframe tbody tr th:only-of-type {\n",
       "        vertical-align: middle;\n",
       "    }\n",
       "\n",
       "    .dataframe tbody tr th {\n",
       "        vertical-align: top;\n",
       "    }\n",
       "\n",
       "    .dataframe thead th {\n",
       "        text-align: right;\n",
       "    }\n",
       "</style>\n",
       "<table border=\"1\" class=\"dataframe\">\n",
       "  <thead>\n",
       "    <tr style=\"text-align: right;\">\n",
       "      <th></th>\n",
       "      <th>user_id</th>\n",
       "      <th>score</th>\n",
       "      <th>city</th>\n",
       "      <th>gender</th>\n",
       "      <th>age</th>\n",
       "      <th>equity</th>\n",
       "      <th>balance</th>\n",
       "      <th>products</th>\n",
       "      <th>credit_card</th>\n",
       "      <th>last_activity</th>\n",
       "      <th>est_salary</th>\n",
       "      <th>churn</th>\n",
       "      <th>city_2</th>\n",
       "      <th>gender_2</th>\n",
       "    </tr>\n",
       "  </thead>\n",
       "  <tbody>\n",
       "    <tr>\n",
       "      <th>0</th>\n",
       "      <td>183,012.00</td>\n",
       "      <td>850.00</td>\n",
       "      <td>Рыбинск</td>\n",
       "      <td>Ж</td>\n",
       "      <td>25</td>\n",
       "      <td>1</td>\n",
       "      <td>59,214.82</td>\n",
       "      <td>2</td>\n",
       "      <td>0</td>\n",
       "      <td>1</td>\n",
       "      <td>75,719.14</td>\n",
       "      <td>1</td>\n",
       "      <td>Рыбинск</td>\n",
       "      <td>Ж</td>\n",
       "    </tr>\n",
       "    <tr>\n",
       "      <th>1</th>\n",
       "      <td>146,556.00</td>\n",
       "      <td>861.00</td>\n",
       "      <td>Рыбинск</td>\n",
       "      <td>Ж</td>\n",
       "      <td>37</td>\n",
       "      <td>5</td>\n",
       "      <td>850,594.33</td>\n",
       "      <td>3</td>\n",
       "      <td>1</td>\n",
       "      <td>0</td>\n",
       "      <td>86,621.77</td>\n",
       "      <td>0</td>\n",
       "      <td>Рыбинск</td>\n",
       "      <td>Ж</td>\n",
       "    </tr>\n",
       "    <tr>\n",
       "      <th>2</th>\n",
       "      <td>120,722.00</td>\n",
       "      <td>892.00</td>\n",
       "      <td>Рыбинск</td>\n",
       "      <td>Ж</td>\n",
       "      <td>30</td>\n",
       "      <td>0</td>\n",
       "      <td>NaN</td>\n",
       "      <td>1</td>\n",
       "      <td>1</td>\n",
       "      <td>1</td>\n",
       "      <td>107,683.34</td>\n",
       "      <td>0</td>\n",
       "      <td>Рыбинск</td>\n",
       "      <td>Ж</td>\n",
       "    </tr>\n",
       "    <tr>\n",
       "      <th>3</th>\n",
       "      <td>225,363.00</td>\n",
       "      <td>866.00</td>\n",
       "      <td>Ярославль</td>\n",
       "      <td>Ж</td>\n",
       "      <td>51</td>\n",
       "      <td>5</td>\n",
       "      <td>1,524,746.26</td>\n",
       "      <td>2</td>\n",
       "      <td>0</td>\n",
       "      <td>1</td>\n",
       "      <td>174,423.53</td>\n",
       "      <td>1</td>\n",
       "      <td>Ярославль</td>\n",
       "      <td>Ж</td>\n",
       "    </tr>\n",
       "    <tr>\n",
       "      <th>4</th>\n",
       "      <td>157,978.00</td>\n",
       "      <td>730.00</td>\n",
       "      <td>Ярославль</td>\n",
       "      <td>М</td>\n",
       "      <td>34</td>\n",
       "      <td>5</td>\n",
       "      <td>174.00</td>\n",
       "      <td>1</td>\n",
       "      <td>1</td>\n",
       "      <td>0</td>\n",
       "      <td>67,353.16</td>\n",
       "      <td>1</td>\n",
       "      <td>Ярославль</td>\n",
       "      <td>М</td>\n",
       "    </tr>\n",
       "  </tbody>\n",
       "</table>\n",
       "</div>"
      ],
      "text/plain": [
       "     user_id  score       city gender  age  equity      balance  products  \\\n",
       "0 183,012.00 850.00  Рыбинск    Ж      25   1      59,214.82     2          \n",
       "1 146,556.00 861.00  Рыбинск    Ж      37   5      850,594.33    3          \n",
       "2 120,722.00 892.00  Рыбинск    Ж      30   0      NaN           1          \n",
       "3 225,363.00 866.00  Ярославль  Ж      51   5      1,524,746.26  2          \n",
       "4 157,978.00 730.00  Ярославль  М      34   5      174.00        1          \n",
       "\n",
       "   credit_card  last_activity  est_salary  churn     city_2 gender_2  \n",
       "0  0            1             75,719.14    1      Рыбинск    Ж        \n",
       "1  1            0             86,621.77    0      Рыбинск    Ж        \n",
       "2  1            1             107,683.34   0      Рыбинск    Ж        \n",
       "3  0            1             174,423.53   1      Ярославль  Ж        \n",
       "4  1            0             67,353.16    1      Ярославль  М        "
      ]
     },
     "execution_count": 21,
     "metadata": {},
     "output_type": "execute_result"
    }
   ],
   "source": [
    "# создаем копии столбцов city и gender:\n",
    "\n",
    "df['city_2']=df['city']\n",
    "df['gender_2']=df['gender']\n",
    "df.head()"
   ]
  },
  {
   "cell_type": "code",
   "execution_count": 22,
   "id": "ec968b47",
   "metadata": {},
   "outputs": [
    {
     "data": {
      "text/html": [
       "<div>\n",
       "<style scoped>\n",
       "    .dataframe tbody tr th:only-of-type {\n",
       "        vertical-align: middle;\n",
       "    }\n",
       "\n",
       "    .dataframe tbody tr th {\n",
       "        vertical-align: top;\n",
       "    }\n",
       "\n",
       "    .dataframe thead th {\n",
       "        text-align: right;\n",
       "    }\n",
       "</style>\n",
       "<table border=\"1\" class=\"dataframe\">\n",
       "  <thead>\n",
       "    <tr style=\"text-align: right;\">\n",
       "      <th></th>\n",
       "      <th>user_id</th>\n",
       "      <th>score</th>\n",
       "      <th>city</th>\n",
       "      <th>gender</th>\n",
       "      <th>age</th>\n",
       "      <th>equity</th>\n",
       "      <th>balance</th>\n",
       "      <th>products</th>\n",
       "      <th>credit_card</th>\n",
       "      <th>last_activity</th>\n",
       "      <th>est_salary</th>\n",
       "      <th>churn</th>\n",
       "      <th>Ростов</th>\n",
       "      <th>Рыбинск</th>\n",
       "      <th>Ярославль</th>\n",
       "      <th>female</th>\n",
       "      <th>male</th>\n",
       "    </tr>\n",
       "  </thead>\n",
       "  <tbody>\n",
       "    <tr>\n",
       "      <th>0</th>\n",
       "      <td>183,012.00</td>\n",
       "      <td>850.00</td>\n",
       "      <td>Рыбинск</td>\n",
       "      <td>Ж</td>\n",
       "      <td>25</td>\n",
       "      <td>1</td>\n",
       "      <td>59,214.82</td>\n",
       "      <td>2</td>\n",
       "      <td>0</td>\n",
       "      <td>1</td>\n",
       "      <td>75,719.14</td>\n",
       "      <td>1</td>\n",
       "      <td>0</td>\n",
       "      <td>1</td>\n",
       "      <td>0</td>\n",
       "      <td>1</td>\n",
       "      <td>0</td>\n",
       "    </tr>\n",
       "    <tr>\n",
       "      <th>1</th>\n",
       "      <td>146,556.00</td>\n",
       "      <td>861.00</td>\n",
       "      <td>Рыбинск</td>\n",
       "      <td>Ж</td>\n",
       "      <td>37</td>\n",
       "      <td>5</td>\n",
       "      <td>850,594.33</td>\n",
       "      <td>3</td>\n",
       "      <td>1</td>\n",
       "      <td>0</td>\n",
       "      <td>86,621.77</td>\n",
       "      <td>0</td>\n",
       "      <td>0</td>\n",
       "      <td>1</td>\n",
       "      <td>0</td>\n",
       "      <td>1</td>\n",
       "      <td>0</td>\n",
       "    </tr>\n",
       "    <tr>\n",
       "      <th>2</th>\n",
       "      <td>120,722.00</td>\n",
       "      <td>892.00</td>\n",
       "      <td>Рыбинск</td>\n",
       "      <td>Ж</td>\n",
       "      <td>30</td>\n",
       "      <td>0</td>\n",
       "      <td>NaN</td>\n",
       "      <td>1</td>\n",
       "      <td>1</td>\n",
       "      <td>1</td>\n",
       "      <td>107,683.34</td>\n",
       "      <td>0</td>\n",
       "      <td>0</td>\n",
       "      <td>1</td>\n",
       "      <td>0</td>\n",
       "      <td>1</td>\n",
       "      <td>0</td>\n",
       "    </tr>\n",
       "    <tr>\n",
       "      <th>3</th>\n",
       "      <td>225,363.00</td>\n",
       "      <td>866.00</td>\n",
       "      <td>Ярославль</td>\n",
       "      <td>Ж</td>\n",
       "      <td>51</td>\n",
       "      <td>5</td>\n",
       "      <td>1,524,746.26</td>\n",
       "      <td>2</td>\n",
       "      <td>0</td>\n",
       "      <td>1</td>\n",
       "      <td>174,423.53</td>\n",
       "      <td>1</td>\n",
       "      <td>0</td>\n",
       "      <td>0</td>\n",
       "      <td>1</td>\n",
       "      <td>1</td>\n",
       "      <td>0</td>\n",
       "    </tr>\n",
       "    <tr>\n",
       "      <th>4</th>\n",
       "      <td>157,978.00</td>\n",
       "      <td>730.00</td>\n",
       "      <td>Ярославль</td>\n",
       "      <td>М</td>\n",
       "      <td>34</td>\n",
       "      <td>5</td>\n",
       "      <td>174.00</td>\n",
       "      <td>1</td>\n",
       "      <td>1</td>\n",
       "      <td>0</td>\n",
       "      <td>67,353.16</td>\n",
       "      <td>1</td>\n",
       "      <td>0</td>\n",
       "      <td>0</td>\n",
       "      <td>1</td>\n",
       "      <td>0</td>\n",
       "      <td>1</td>\n",
       "    </tr>\n",
       "  </tbody>\n",
       "</table>\n",
       "</div>"
      ],
      "text/plain": [
       "     user_id  score       city gender  age  equity      balance  products  \\\n",
       "0 183,012.00 850.00  Рыбинск    Ж      25   1      59,214.82     2          \n",
       "1 146,556.00 861.00  Рыбинск    Ж      37   5      850,594.33    3          \n",
       "2 120,722.00 892.00  Рыбинск    Ж      30   0      NaN           1          \n",
       "3 225,363.00 866.00  Ярославль  Ж      51   5      1,524,746.26  2          \n",
       "4 157,978.00 730.00  Ярославль  М      34   5      174.00        1          \n",
       "\n",
       "   credit_card  last_activity  est_salary  churn  Ростов  Рыбинск  Ярославль  \\\n",
       "0  0            1             75,719.14    1      0       1        0           \n",
       "1  1            0             86,621.77    0      0       1        0           \n",
       "2  1            1             107,683.34   0      0       1        0           \n",
       "3  0            1             174,423.53   1      0       0        1           \n",
       "4  1            0             67,353.16    1      0       0        1           \n",
       "\n",
       "   female  male  \n",
       "0  1       0     \n",
       "1  1       0     \n",
       "2  1       0     \n",
       "3  1       0     \n",
       "4  0       1     "
      ]
     },
     "metadata": {},
     "output_type": "display_data"
    }
   ],
   "source": [
    "# кодируем данные в столбцах city_2 и gender_2:\n",
    "\n",
    "df = pd.get_dummies(df, columns = ['city_2', 'gender_2'])\n",
    "df = df.rename (\n",
    "    columns = ({\n",
    "        'city_2_Ростов':'Ростов', 'city_2_Рыбинск':'Рыбинск','city_2_Ярославль':'Ярославль', \n",
    "        'gender_2_Ж':'female', 'gender_2_М':'male'}))\n",
    "display (df.head())"
   ]
  },
  {
   "cell_type": "code",
   "execution_count": 23,
   "id": "efc37d59",
   "metadata": {},
   "outputs": [
    {
     "data": {
      "text/html": [
       "<div>\n",
       "<style scoped>\n",
       "    .dataframe tbody tr th:only-of-type {\n",
       "        vertical-align: middle;\n",
       "    }\n",
       "\n",
       "    .dataframe tbody tr th {\n",
       "        vertical-align: top;\n",
       "    }\n",
       "\n",
       "    .dataframe thead th {\n",
       "        text-align: right;\n",
       "    }\n",
       "</style>\n",
       "<table border=\"1\" class=\"dataframe\">\n",
       "  <thead>\n",
       "    <tr style=\"text-align: right;\">\n",
       "      <th></th>\n",
       "      <th>count</th>\n",
       "      <th>mean</th>\n",
       "      <th>std</th>\n",
       "      <th>min</th>\n",
       "      <th>25%</th>\n",
       "      <th>50%</th>\n",
       "      <th>75%</th>\n",
       "      <th>max</th>\n",
       "    </tr>\n",
       "  </thead>\n",
       "  <tbody>\n",
       "    <tr>\n",
       "      <th>user_id</th>\n",
       "      <td>9,898.00</td>\n",
       "      <td>171,745.27</td>\n",
       "      <td>33,699.06</td>\n",
       "      <td>94,561.00</td>\n",
       "      <td>142,730.25</td>\n",
       "      <td>172,643.00</td>\n",
       "      <td>201,163.75</td>\n",
       "      <td>229,145.00</td>\n",
       "    </tr>\n",
       "    <tr>\n",
       "      <th>score</th>\n",
       "      <td>9,974.00</td>\n",
       "      <td>848.68</td>\n",
       "      <td>65.40</td>\n",
       "      <td>642.00</td>\n",
       "      <td>802.00</td>\n",
       "      <td>853.00</td>\n",
       "      <td>900.00</td>\n",
       "      <td>1,000.00</td>\n",
       "    </tr>\n",
       "    <tr>\n",
       "      <th>age</th>\n",
       "      <td>9,974.00</td>\n",
       "      <td>42.73</td>\n",
       "      <td>12.18</td>\n",
       "      <td>18.00</td>\n",
       "      <td>33.00</td>\n",
       "      <td>40.00</td>\n",
       "      <td>51.00</td>\n",
       "      <td>86.00</td>\n",
       "    </tr>\n",
       "    <tr>\n",
       "      <th>equity</th>\n",
       "      <td>9,974.00</td>\n",
       "      <td>2.63</td>\n",
       "      <td>1.98</td>\n",
       "      <td>0.00</td>\n",
       "      <td>0.00</td>\n",
       "      <td>3.00</td>\n",
       "      <td>4.00</td>\n",
       "      <td>9.00</td>\n",
       "    </tr>\n",
       "    <tr>\n",
       "      <th>balance</th>\n",
       "      <td>7,695.00</td>\n",
       "      <td>827,245.59</td>\n",
       "      <td>1,980,327.41</td>\n",
       "      <td>0.00</td>\n",
       "      <td>295,698.71</td>\n",
       "      <td>524,295.33</td>\n",
       "      <td>980,051.21</td>\n",
       "      <td>119,113,552.01</td>\n",
       "    </tr>\n",
       "    <tr>\n",
       "      <th>products</th>\n",
       "      <td>9,974.00</td>\n",
       "      <td>1.87</td>\n",
       "      <td>0.79</td>\n",
       "      <td>0.00</td>\n",
       "      <td>1.00</td>\n",
       "      <td>2.00</td>\n",
       "      <td>2.00</td>\n",
       "      <td>5.00</td>\n",
       "    </tr>\n",
       "    <tr>\n",
       "      <th>credit_card</th>\n",
       "      <td>9,974.00</td>\n",
       "      <td>0.68</td>\n",
       "      <td>0.47</td>\n",
       "      <td>0.00</td>\n",
       "      <td>0.00</td>\n",
       "      <td>1.00</td>\n",
       "      <td>1.00</td>\n",
       "      <td>1.00</td>\n",
       "    </tr>\n",
       "    <tr>\n",
       "      <th>last_activity</th>\n",
       "      <td>9,974.00</td>\n",
       "      <td>0.52</td>\n",
       "      <td>0.50</td>\n",
       "      <td>0.00</td>\n",
       "      <td>0.00</td>\n",
       "      <td>1.00</td>\n",
       "      <td>1.00</td>\n",
       "      <td>1.00</td>\n",
       "    </tr>\n",
       "    <tr>\n",
       "      <th>est_salary</th>\n",
       "      <td>9,974.00</td>\n",
       "      <td>147,786.81</td>\n",
       "      <td>139,285.51</td>\n",
       "      <td>2,546.30</td>\n",
       "      <td>75,251.66</td>\n",
       "      <td>119,626.79</td>\n",
       "      <td>174,499.81</td>\n",
       "      <td>1,395,064.45</td>\n",
       "    </tr>\n",
       "    <tr>\n",
       "      <th>churn</th>\n",
       "      <td>9,974.00</td>\n",
       "      <td>0.18</td>\n",
       "      <td>0.39</td>\n",
       "      <td>0.00</td>\n",
       "      <td>0.00</td>\n",
       "      <td>0.00</td>\n",
       "      <td>0.00</td>\n",
       "      <td>1.00</td>\n",
       "    </tr>\n",
       "    <tr>\n",
       "      <th>Ростов</th>\n",
       "      <td>9,974.00</td>\n",
       "      <td>0.14</td>\n",
       "      <td>0.35</td>\n",
       "      <td>0.00</td>\n",
       "      <td>0.00</td>\n",
       "      <td>0.00</td>\n",
       "      <td>0.00</td>\n",
       "      <td>1.00</td>\n",
       "    </tr>\n",
       "    <tr>\n",
       "      <th>Рыбинск</th>\n",
       "      <td>9,974.00</td>\n",
       "      <td>0.27</td>\n",
       "      <td>0.44</td>\n",
       "      <td>0.00</td>\n",
       "      <td>0.00</td>\n",
       "      <td>0.00</td>\n",
       "      <td>1.00</td>\n",
       "      <td>1.00</td>\n",
       "    </tr>\n",
       "    <tr>\n",
       "      <th>Ярославль</th>\n",
       "      <td>9,974.00</td>\n",
       "      <td>0.59</td>\n",
       "      <td>0.49</td>\n",
       "      <td>0.00</td>\n",
       "      <td>0.00</td>\n",
       "      <td>1.00</td>\n",
       "      <td>1.00</td>\n",
       "      <td>1.00</td>\n",
       "    </tr>\n",
       "    <tr>\n",
       "      <th>female</th>\n",
       "      <td>9,974.00</td>\n",
       "      <td>0.50</td>\n",
       "      <td>0.50</td>\n",
       "      <td>0.00</td>\n",
       "      <td>0.00</td>\n",
       "      <td>0.00</td>\n",
       "      <td>1.00</td>\n",
       "      <td>1.00</td>\n",
       "    </tr>\n",
       "    <tr>\n",
       "      <th>male</th>\n",
       "      <td>9,974.00</td>\n",
       "      <td>0.50</td>\n",
       "      <td>0.50</td>\n",
       "      <td>0.00</td>\n",
       "      <td>0.00</td>\n",
       "      <td>1.00</td>\n",
       "      <td>1.00</td>\n",
       "      <td>1.00</td>\n",
       "    </tr>\n",
       "  </tbody>\n",
       "</table>\n",
       "</div>"
      ],
      "text/plain": [
       "                 count       mean          std       min        25%  \\\n",
       "user_id       9,898.00 171,745.27 33,699.06    94,561.00 142,730.25   \n",
       "score         9,974.00 848.68     65.40        642.00    802.00       \n",
       "age           9,974.00 42.73      12.18        18.00     33.00        \n",
       "equity        9,974.00 2.63       1.98         0.00      0.00         \n",
       "balance       7,695.00 827,245.59 1,980,327.41 0.00      295,698.71   \n",
       "products      9,974.00 1.87       0.79         0.00      1.00         \n",
       "credit_card   9,974.00 0.68       0.47         0.00      0.00         \n",
       "last_activity 9,974.00 0.52       0.50         0.00      0.00         \n",
       "est_salary    9,974.00 147,786.81 139,285.51   2,546.30  75,251.66    \n",
       "churn         9,974.00 0.18       0.39         0.00      0.00         \n",
       "Ростов        9,974.00 0.14       0.35         0.00      0.00         \n",
       "Рыбинск       9,974.00 0.27       0.44         0.00      0.00         \n",
       "Ярославль     9,974.00 0.59       0.49         0.00      0.00         \n",
       "female        9,974.00 0.50       0.50         0.00      0.00         \n",
       "male          9,974.00 0.50       0.50         0.00      0.00         \n",
       "\n",
       "                     50%        75%            max  \n",
       "user_id       172,643.00 201,163.75 229,145.00      \n",
       "score         853.00     900.00     1,000.00        \n",
       "age           40.00      51.00      86.00           \n",
       "equity        3.00       4.00       9.00            \n",
       "balance       524,295.33 980,051.21 119,113,552.01  \n",
       "products      2.00       2.00       5.00            \n",
       "credit_card   1.00       1.00       1.00            \n",
       "last_activity 1.00       1.00       1.00            \n",
       "est_salary    119,626.79 174,499.81 1,395,064.45    \n",
       "churn         0.00       0.00       1.00            \n",
       "Ростов        0.00       0.00       1.00            \n",
       "Рыбинск       0.00       1.00       1.00            \n",
       "Ярославль     1.00       1.00       1.00            \n",
       "female        0.00       1.00       1.00            \n",
       "male          1.00       1.00       1.00            "
      ]
     },
     "execution_count": 23,
     "metadata": {},
     "output_type": "execute_result"
    }
   ],
   "source": [
    "df.describe().T"
   ]
  },
  {
   "cell_type": "markdown",
   "id": "55b5bc37",
   "metadata": {},
   "source": [
    "При ознакомлении мы видим минимальное значение в столбце products - 0. Если человек является клиентом банка, то значит он пользуется как минимум одним продуктом."
   ]
  },
  {
   "cell_type": "code",
   "execution_count": 24,
   "id": "3dd10a6e",
   "metadata": {},
   "outputs": [
    {
     "data": {
      "text/html": [
       "<div>\n",
       "<style scoped>\n",
       "    .dataframe tbody tr th:only-of-type {\n",
       "        vertical-align: middle;\n",
       "    }\n",
       "\n",
       "    .dataframe tbody tr th {\n",
       "        vertical-align: top;\n",
       "    }\n",
       "\n",
       "    .dataframe thead th {\n",
       "        text-align: right;\n",
       "    }\n",
       "</style>\n",
       "<table border=\"1\" class=\"dataframe\">\n",
       "  <thead>\n",
       "    <tr style=\"text-align: right;\">\n",
       "      <th></th>\n",
       "      <th>user_id</th>\n",
       "      <th>score</th>\n",
       "      <th>city</th>\n",
       "      <th>gender</th>\n",
       "      <th>age</th>\n",
       "      <th>equity</th>\n",
       "      <th>balance</th>\n",
       "      <th>products</th>\n",
       "      <th>credit_card</th>\n",
       "      <th>last_activity</th>\n",
       "      <th>est_salary</th>\n",
       "      <th>churn</th>\n",
       "      <th>Ростов</th>\n",
       "      <th>Рыбинск</th>\n",
       "      <th>Ярославль</th>\n",
       "      <th>female</th>\n",
       "      <th>male</th>\n",
       "    </tr>\n",
       "  </thead>\n",
       "  <tbody>\n",
       "    <tr>\n",
       "      <th>8957</th>\n",
       "      <td>152,499.00</td>\n",
       "      <td>962.00</td>\n",
       "      <td>Рыбинск</td>\n",
       "      <td>Ж</td>\n",
       "      <td>79</td>\n",
       "      <td>3</td>\n",
       "      <td>NaN</td>\n",
       "      <td>0</td>\n",
       "      <td>0</td>\n",
       "      <td>0</td>\n",
       "      <td>25,063.96</td>\n",
       "      <td>1</td>\n",
       "      <td>0</td>\n",
       "      <td>1</td>\n",
       "      <td>0</td>\n",
       "      <td>1</td>\n",
       "      <td>0</td>\n",
       "    </tr>\n",
       "  </tbody>\n",
       "</table>\n",
       "</div>"
      ],
      "text/plain": [
       "        user_id  score     city gender  age  equity  balance  products  \\\n",
       "8957 152,499.00 962.00  Рыбинск  Ж      79   3      NaN       0          \n",
       "\n",
       "      credit_card  last_activity  est_salary  churn  Ростов  Рыбинск  \\\n",
       "8957  0            0             25,063.96    1      0       1         \n",
       "\n",
       "      Ярославль  female  male  \n",
       "8957  0          1       0     "
      ]
     },
     "execution_count": 24,
     "metadata": {},
     "output_type": "execute_result"
    }
   ],
   "source": [
    "#посмотрим на эту строку\n",
    "df[df['products']==0]"
   ]
  },
  {
   "cell_type": "markdown",
   "id": "b7661ead",
   "metadata": {},
   "source": [
    "Судя по всему, 0 в столбце products появился потому что этот клиент ушел из банка и теперь действительно больше не пользуется банковскими продуктами."
   ]
  },
  {
   "cell_type": "markdown",
   "id": "41209d8f",
   "metadata": {},
   "source": [
    "**Предварительно, можно сделать следующие выводы:**\n",
    "\n",
    "- возраст клиентов колеблется от 18 до 86 лет;\n",
    "- клиент может как не иметь недвижимость в собственности так и владеть 9 объектами;\n",
    "- есть клиенты,которые не пользуются продуктами банка,они ушли из банка, а есть те кто пользуется пятью;\n",
    "- 68% клиентов пользуется кредитной картой банка;\n",
    "- почти половина клиентов не является активными пользователями продуктов;\n",
    "- отток составляет 18%."
   ]
  },
  {
   "cell_type": "markdown",
   "id": "42432356",
   "metadata": {},
   "source": [
    "## Исследовательский анализ данных"
   ]
  },
  {
   "cell_type": "markdown",
   "id": "c9d55fd9",
   "metadata": {},
   "source": [
    "Построим графики распределения признаков из нашей таблицы:"
   ]
  },
  {
   "cell_type": "code",
   "execution_count": 25,
   "id": "c9b260b0",
   "metadata": {},
   "outputs": [],
   "source": [
    "#функция для формирования графиков распределения:\n",
    "#df - датафрейм, на основе которого строится распределение\n",
    "#hue- признак, по которому мы хотим увидеть детализацию данных\n",
    "\n",
    "def tables(data, hue=None):\n",
    "    #дискретные значения\n",
    "    for column in ['city','gender', 'credit_card', 'last_activity', 'equity', 'products', 'churn']:\n",
    "        ax = sns.countplot(data=data, x=column, hue=hue);\n",
    "        plt.title(f'Распределение клиентов по признаку {column}', fontsize = 16, color = 'black')\n",
    "        plt.show()\n",
    "    \n",
    "    plt.figure(figsize=(16,7))\n",
    "    sns.countplot(data=data, x='age', hue=hue);\n",
    "    plt.title('Распределение клиентов по признаку age', fontsize = 16, color = 'black')\n",
    "    plt.xticks(rotation = 45)\n",
    "    plt.show()\n",
    "\n",
    "    #непрерывные значения\n",
    "    for column in ['score',  'balance', 'est_salary']:\n",
    "        sns.kdeplot(data=data, x=column, hue=hue);\n",
    "        plt.title(f'Распределение клиентов по признаку {column}', fontsize = 16, color = 'black')\n",
    "        plt.show()"
   ]
  },
  {
   "cell_type": "code",
   "execution_count": 26,
   "id": "b74dda11",
   "metadata": {
    "scrolled": false
   },
   "outputs": [
    {
     "data": {
      "image/png": "[encoded data removed]",
      "text/plain": [
       "<Figure size 432x288 with 1 Axes>"
      ]
     },
     "metadata": {
      "needs_background": "light"
     },
     "output_type": "display_data"
    },
    {
     "data": {
      "image/png": "[encoded data removed]",
      "text/plain": [
       "<Figure size 432x288 with 1 Axes>"
      ]
     },
     "metadata": {
      "needs_background": "light"
     },
     "output_type": "display_data"
    },
    {
     "data": {
      "image/png": "[encoded data removed]",
      "text/plain": [
       "<Figure size 432x288 with 1 Axes>"
      ]
     },
     "metadata": {
      "needs_background": "light"
     },
     "output_type": "display_data"
    },
    {
     "data": {
      "image/png": "[encoded data removed]",
      "text/plain": [
       "<Figure size 432x288 with 1 Axes>"
      ]
     },
     "metadata": {
      "needs_background": "light"
     },
     "output_type": "display_data"
    },
    {
     "data": {
      "image/png": "[encoded data removed]",
      "text/plain": [
       "<Figure size 432x288 with 1 Axes>"
      ]
     },
     "metadata": {
      "needs_background": "light"
     },
     "output_type": "display_data"
    },
    {
     "data": {
      "image/png": "[encoded data removed]",
      "text/plain": [
       "<Figure size 432x288 with 1 Axes>"
      ]
     },
     "metadata": {
      "needs_background": "light"
     },
     "output_type": "display_data"
    },
    {
     "data": {
      "image/png": "[encoded data removed]",
      "text/plain": [
       "<Figure size 432x288 with 1 Axes>"
      ]
     },
     "metadata": {
      "needs_background": "light"
     },
     "output_type": "display_data"
    },
    {
     "data": {
      "image/png": "[encoded data removed]",
      "text/plain": [
       "<Figure size 1152x504 with 1 Axes>"
      ]
     },
     "metadata": {
      "needs_background": "light"
     },
     "output_type": "display_data"
    },
    {
     "data": {
      "image/png": "[encoded data removed]",
      "text/plain": [
       "<Figure size 432x288 with 1 Axes>"
      ]
     },
     "metadata": {
      "needs_background": "light"
     },
     "output_type": "display_data"
    },
    {
     "data": {
      "image/png": "[encoded data removed]",
      "text/plain": [
       "<Figure size 432x288 with 1 Axes>"
      ]
     },
     "metadata": {
      "needs_background": "light"
     },
     "output_type": "display_data"
    },
    {
     "data": {
      "image/png": "[encoded data removed]",
      "text/plain": [
       "<Figure size 432x288 with 1 Axes>"
      ]
     },
     "metadata": {
      "needs_background": "light"
     },
     "output_type": "display_data"
    }
   ],
   "source": [
    "#формируем визуализацию\n",
    "tables(df, hue=None) "
   ]
  },
  {
   "cell_type": "markdown",
   "id": "da32f2dc",
   "metadata": {},
   "source": [
    "**Из приведенных графиков видно, что:**\n",
    "\n",
    "1. В Ярославле находится самый крупный филиал банка, там обслуживается около 6000 клиентов;\n",
    "2. Среди клиентов женщин и мужчин  одинаковое количество;\n",
    "3. Кредитными картами пользуется большая часть клиентов;\n",
    "4. Активных клиентов немного больше, чем не активных;\n",
    "5. Количество объектов в собственности распределено неравномерно, много клиентов без всякой собственности, около 2 тыс. клиентов имеют в собственности 4-5 объектов;\n",
    "6. Подавляющее количество клиентов пользуются 2 продуктами."
   ]
  },
  {
   "cell_type": "markdown",
   "id": "ef87618d",
   "metadata": {},
   "source": [
    "Посмотрим, коррелируют ли какие-либо признаки между собой:"
   ]
  },
  {
   "cell_type": "code",
   "execution_count": 27,
   "id": "620a2783",
   "metadata": {},
   "outputs": [
    {
     "data": {
      "image/png": "[encoded data removed]",
      "text/plain": [
       "<Figure size 1152x576 with 2 Axes>"
      ]
     },
     "metadata": {
      "needs_background": "light"
     },
     "output_type": "display_data"
    }
   ],
   "source": [
    "# вызовем метод corr(), чтобы найти коэффициент корреляции для всех столбцов, и построим тепловую карту:\n",
    "\n",
    "plt.figure(figsize=(16,8))\n",
    "sns.heatmap (df.corr(), annot=True, vmin=-1, vmax=1, center= 0, cmap= 'coolwarm', linewidths=1);"
   ]
  },
  {
   "cell_type": "markdown",
   "id": "5d260b0a",
   "metadata": {},
   "source": [
    "По таблице видно, что признаки не коррелируют между собой либо корреляция слабая:\n",
    "\n",
    "- оценка объектов собственности клиента (столбец equity) и количество продуктов(products) 43%,\n",
    "- оценка объектов собственности клиента (столбец equity) и churn 27%\n",
    "- скоринговый рейтинг клиента (столбец score)  и balance 24%,\n",
    "- количество продуктов, которыми пользуется клиент (столбец products) и  churn 30%,\n",
    "- наличие кредитной карты (столбец credit_card) и products имеют отрицательную корреляцию (-25%),\n",
    "- пол пользователя (столбцы female и male) и возраст ( у женщин 21% у мужчин -21%)\n"
   ]
  },
  {
   "cell_type": "markdown",
   "id": "d7dc0aac",
   "metadata": {},
   "source": [
    "### Распределение признаков относительно оттока клиентов\n",
    "Общее количество клиентов по признаку оттока:"
   ]
  },
  {
   "cell_type": "code",
   "execution_count": 28,
   "id": "0d0f6385",
   "metadata": {},
   "outputs": [
    {
     "data": {
      "text/plain": [
       "churn\n",
       "0    8155\n",
       "1    1819\n",
       "Name: churn, dtype: int64"
      ]
     },
     "execution_count": 28,
     "metadata": {},
     "output_type": "execute_result"
    }
   ],
   "source": [
    "churn_group = df.groupby('churn')['churn'].count()\n",
    "churn_group.columns = ['churn_cnt']\n",
    "churn_group"
   ]
  },
  {
   "cell_type": "code",
   "execution_count": 29,
   "id": "446b3d6c",
   "metadata": {},
   "outputs": [
    {
     "data": {
      "image/png": "[encoded data removed]",
      "text/plain": [
       "<Figure size 432x432 with 1 Axes>"
      ]
     },
     "metadata": {},
     "output_type": "display_data"
    }
   ],
   "source": [
    "#строим круговую диаграмму\n",
    "churn_group.plot(kind = 'pie', y ='churn_cnt', autopct='%1.1f%%', figsize= (6,6),\n",
    "                       );\n",
    "plt.title('Доля клиентов в разрезе признака оттока', fontsize = 16)\n",
    "plt.legend(['остались', 'ушли'])\n",
    "plt.show()"
   ]
  },
  {
   "cell_type": "markdown",
   "id": "1ac1f10f",
   "metadata": {},
   "source": [
    "Посмотрим на средние значения признаков в двух группах — тех, кто ушел в отток (1) и тех, кто остался (0)."
   ]
  },
  {
   "cell_type": "code",
   "execution_count": 30,
   "id": "ccc5b537",
   "metadata": {},
   "outputs": [
    {
     "data": {
      "text/html": [
       "<div>\n",
       "<style scoped>\n",
       "    .dataframe tbody tr th:only-of-type {\n",
       "        vertical-align: middle;\n",
       "    }\n",
       "\n",
       "    .dataframe tbody tr th {\n",
       "        vertical-align: top;\n",
       "    }\n",
       "\n",
       "    .dataframe thead th {\n",
       "        text-align: right;\n",
       "    }\n",
       "</style>\n",
       "<table border=\"1\" class=\"dataframe\">\n",
       "  <thead>\n",
       "    <tr style=\"text-align: right;\">\n",
       "      <th></th>\n",
       "      <th>score</th>\n",
       "      <th>age</th>\n",
       "      <th>equity</th>\n",
       "      <th>balance</th>\n",
       "      <th>products</th>\n",
       "      <th>credit_card</th>\n",
       "      <th>last_activity</th>\n",
       "      <th>est_salary</th>\n",
       "      <th>churn</th>\n",
       "    </tr>\n",
       "    <tr>\n",
       "      <th>churn</th>\n",
       "      <th></th>\n",
       "      <th></th>\n",
       "      <th></th>\n",
       "      <th></th>\n",
       "      <th></th>\n",
       "      <th></th>\n",
       "      <th></th>\n",
       "      <th></th>\n",
       "      <th></th>\n",
       "    </tr>\n",
       "  </thead>\n",
       "  <tbody>\n",
       "    <tr>\n",
       "      <th>0</th>\n",
       "      <td>845.40</td>\n",
       "      <td>43.02</td>\n",
       "      <td>2.38</td>\n",
       "      <td>733,031.63</td>\n",
       "      <td>1.76</td>\n",
       "      <td>0.71</td>\n",
       "      <td>0.48</td>\n",
       "      <td>147,674.64</td>\n",
       "      <td>0.00</td>\n",
       "    </tr>\n",
       "    <tr>\n",
       "      <th>1</th>\n",
       "      <td>863.42</td>\n",
       "      <td>41.45</td>\n",
       "      <td>3.76</td>\n",
       "      <td>1,134,458.21</td>\n",
       "      <td>2.38</td>\n",
       "      <td>0.55</td>\n",
       "      <td>0.70</td>\n",
       "      <td>148,289.70</td>\n",
       "      <td>1.00</td>\n",
       "    </tr>\n",
       "  </tbody>\n",
       "</table>\n",
       "</div>"
      ],
      "text/plain": [
       "       score   age  equity      balance  products  credit_card  last_activity  \\\n",
       "churn                                                                           \n",
       "0     845.40 43.02 2.38    733,031.63   1.76      0.71         0.48             \n",
       "1     863.42 41.45 3.76    1,134,458.21 2.38      0.55         0.70             \n",
       "\n",
       "       est_salary  churn  \n",
       "churn                     \n",
       "0     147,674.64  0.00    \n",
       "1     148,289.70  1.00    "
      ]
     },
     "execution_count": 30,
     "metadata": {},
     "output_type": "execute_result"
    }
   ],
   "source": [
    "df.groupby(['churn'])['score', 'city', 'gender', 'age', 'equity', 'balance',\n",
    "       'products', 'credit_card', 'last_activity', 'est_salary', 'churn'].mean()"
   ]
  },
  {
   "cell_type": "markdown",
   "id": "69e48938",
   "metadata": {},
   "source": [
    "1. У тех, кто остался, баллы кредитного скоринга ниже (но не сильно);\n",
    "2. Средний возраст клиентов, попавших в отток, - 41 год, у оставшихся - 43 года;\n",
    "3. Количество объектов собственности у оставшихся клиентов ниже почти в 2 раза;\n",
    "4. Баланс на счете у клиентов попавших в отток больше на 30%\n",
    "5. Активные клиенты в 2 раза чаще попадают в отток.\n",
    "6. Количество используемых продуктов,наличие кредитной карты, ЗП на отток существенного влияния не оказывают (в обеих группах показатели практически одинаковые)."
   ]
  },
  {
   "cell_type": "markdown",
   "id": "7bffbad1",
   "metadata": {},
   "source": [
    "### Рассмотрим эти параметры по отдельности."
   ]
  },
  {
   "cell_type": "markdown",
   "id": "5dcb87b8",
   "metadata": {},
   "source": [
    "#### Баллы кредитного скоринга клиента"
   ]
  },
  {
   "cell_type": "code",
   "execution_count": 31,
   "id": "a87e73da",
   "metadata": {},
   "outputs": [
    {
     "data": {
      "text/html": [
       "<div>\n",
       "<style scoped>\n",
       "    .dataframe tbody tr th:only-of-type {\n",
       "        vertical-align: middle;\n",
       "    }\n",
       "\n",
       "    .dataframe tbody tr th {\n",
       "        vertical-align: top;\n",
       "    }\n",
       "\n",
       "    .dataframe thead th {\n",
       "        text-align: right;\n",
       "    }\n",
       "</style>\n",
       "<table border=\"1\" class=\"dataframe\">\n",
       "  <thead>\n",
       "    <tr style=\"text-align: right;\">\n",
       "      <th></th>\n",
       "      <th>sum</th>\n",
       "      <th>count</th>\n",
       "      <th>perc</th>\n",
       "    </tr>\n",
       "    <tr>\n",
       "      <th>score</th>\n",
       "      <th></th>\n",
       "      <th></th>\n",
       "      <th></th>\n",
       "    </tr>\n",
       "  </thead>\n",
       "  <tbody>\n",
       "    <tr>\n",
       "      <th>706.00</th>\n",
       "      <td>1</td>\n",
       "      <td>11</td>\n",
       "      <td>9.09</td>\n",
       "    </tr>\n",
       "    <tr>\n",
       "      <th>707.00</th>\n",
       "      <td>1</td>\n",
       "      <td>6</td>\n",
       "      <td>16.67</td>\n",
       "    </tr>\n",
       "    <tr>\n",
       "      <th>727.00</th>\n",
       "      <td>1</td>\n",
       "      <td>12</td>\n",
       "      <td>8.33</td>\n",
       "    </tr>\n",
       "    <tr>\n",
       "      <th>728.00</th>\n",
       "      <td>1</td>\n",
       "      <td>9</td>\n",
       "      <td>11.11</td>\n",
       "    </tr>\n",
       "    <tr>\n",
       "      <th>730.00</th>\n",
       "      <td>1</td>\n",
       "      <td>8</td>\n",
       "      <td>12.50</td>\n",
       "    </tr>\n",
       "    <tr>\n",
       "      <th>733.00</th>\n",
       "      <td>1</td>\n",
       "      <td>14</td>\n",
       "      <td>7.14</td>\n",
       "    </tr>\n",
       "    <tr>\n",
       "      <th>736.00</th>\n",
       "      <td>1</td>\n",
       "      <td>8</td>\n",
       "      <td>12.50</td>\n",
       "    </tr>\n",
       "    <tr>\n",
       "      <th>737.00</th>\n",
       "      <td>1</td>\n",
       "      <td>13</td>\n",
       "      <td>7.69</td>\n",
       "    </tr>\n",
       "    <tr>\n",
       "      <th>739.00</th>\n",
       "      <td>1</td>\n",
       "      <td>15</td>\n",
       "      <td>6.67</td>\n",
       "    </tr>\n",
       "    <tr>\n",
       "      <th>740.00</th>\n",
       "      <td>1</td>\n",
       "      <td>11</td>\n",
       "      <td>9.09</td>\n",
       "    </tr>\n",
       "    <tr>\n",
       "      <th>743.00</th>\n",
       "      <td>1</td>\n",
       "      <td>19</td>\n",
       "      <td>5.26</td>\n",
       "    </tr>\n",
       "    <tr>\n",
       "      <th>745.00</th>\n",
       "      <td>1</td>\n",
       "      <td>13</td>\n",
       "      <td>7.69</td>\n",
       "    </tr>\n",
       "    <tr>\n",
       "      <th>747.00</th>\n",
       "      <td>1</td>\n",
       "      <td>15</td>\n",
       "      <td>6.67</td>\n",
       "    </tr>\n",
       "    <tr>\n",
       "      <th>749.00</th>\n",
       "      <td>1</td>\n",
       "      <td>11</td>\n",
       "      <td>9.09</td>\n",
       "    </tr>\n",
       "    <tr>\n",
       "      <th>750.00</th>\n",
       "      <td>1</td>\n",
       "      <td>12</td>\n",
       "      <td>8.33</td>\n",
       "    </tr>\n",
       "    <tr>\n",
       "      <th>754.00</th>\n",
       "      <td>1</td>\n",
       "      <td>23</td>\n",
       "      <td>4.35</td>\n",
       "    </tr>\n",
       "    <tr>\n",
       "      <th>756.00</th>\n",
       "      <td>1</td>\n",
       "      <td>18</td>\n",
       "      <td>5.56</td>\n",
       "    </tr>\n",
       "    <tr>\n",
       "      <th>760.00</th>\n",
       "      <td>1</td>\n",
       "      <td>24</td>\n",
       "      <td>4.17</td>\n",
       "    </tr>\n",
       "    <tr>\n",
       "      <th>764.00</th>\n",
       "      <td>1</td>\n",
       "      <td>27</td>\n",
       "      <td>3.70</td>\n",
       "    </tr>\n",
       "    <tr>\n",
       "      <th>769.00</th>\n",
       "      <td>1</td>\n",
       "      <td>34</td>\n",
       "      <td>2.94</td>\n",
       "    </tr>\n",
       "    <tr>\n",
       "      <th>770.00</th>\n",
       "      <td>1</td>\n",
       "      <td>24</td>\n",
       "      <td>4.17</td>\n",
       "    </tr>\n",
       "    <tr>\n",
       "      <th>771.00</th>\n",
       "      <td>1</td>\n",
       "      <td>31</td>\n",
       "      <td>3.23</td>\n",
       "    </tr>\n",
       "    <tr>\n",
       "      <th>945.00</th>\n",
       "      <td>1</td>\n",
       "      <td>17</td>\n",
       "      <td>5.88</td>\n",
       "    </tr>\n",
       "    <tr>\n",
       "      <th>947.00</th>\n",
       "      <td>1</td>\n",
       "      <td>19</td>\n",
       "      <td>5.26</td>\n",
       "    </tr>\n",
       "    <tr>\n",
       "      <th>955.00</th>\n",
       "      <td>1</td>\n",
       "      <td>12</td>\n",
       "      <td>8.33</td>\n",
       "    </tr>\n",
       "    <tr>\n",
       "      <th>958.00</th>\n",
       "      <td>1</td>\n",
       "      <td>13</td>\n",
       "      <td>7.69</td>\n",
       "    </tr>\n",
       "    <tr>\n",
       "      <th>963.00</th>\n",
       "      <td>1</td>\n",
       "      <td>10</td>\n",
       "      <td>10.00</td>\n",
       "    </tr>\n",
       "    <tr>\n",
       "      <th>970.00</th>\n",
       "      <td>1</td>\n",
       "      <td>4</td>\n",
       "      <td>25.00</td>\n",
       "    </tr>\n",
       "    <tr>\n",
       "      <th>972.00</th>\n",
       "      <td>1</td>\n",
       "      <td>8</td>\n",
       "      <td>12.50</td>\n",
       "    </tr>\n",
       "    <tr>\n",
       "      <th>974.00</th>\n",
       "      <td>1</td>\n",
       "      <td>5</td>\n",
       "      <td>20.00</td>\n",
       "    </tr>\n",
       "    <tr>\n",
       "      <th>980.00</th>\n",
       "      <td>1</td>\n",
       "      <td>4</td>\n",
       "      <td>25.00</td>\n",
       "    </tr>\n",
       "    <tr>\n",
       "      <th>984.00</th>\n",
       "      <td>1</td>\n",
       "      <td>3</td>\n",
       "      <td>33.33</td>\n",
       "    </tr>\n",
       "    <tr>\n",
       "      <th>988.00</th>\n",
       "      <td>1</td>\n",
       "      <td>6</td>\n",
       "      <td>16.67</td>\n",
       "    </tr>\n",
       "    <tr>\n",
       "      <th>990.00</th>\n",
       "      <td>1</td>\n",
       "      <td>7</td>\n",
       "      <td>14.29</td>\n",
       "    </tr>\n",
       "    <tr>\n",
       "      <th>999.00</th>\n",
       "      <td>1</td>\n",
       "      <td>2</td>\n",
       "      <td>50.00</td>\n",
       "    </tr>\n",
       "    <tr>\n",
       "      <th>1,000.00</th>\n",
       "      <td>1</td>\n",
       "      <td>6</td>\n",
       "      <td>16.67</td>\n",
       "    </tr>\n",
       "  </tbody>\n",
       "</table>\n",
       "</div>"
      ],
      "text/plain": [
       "          sum  count  perc\n",
       "score                     \n",
       "706.00    1    11    9.09 \n",
       "707.00    1    6     16.67\n",
       "727.00    1    12    8.33 \n",
       "728.00    1    9     11.11\n",
       "730.00    1    8     12.50\n",
       "733.00    1    14    7.14 \n",
       "736.00    1    8     12.50\n",
       "737.00    1    13    7.69 \n",
       "739.00    1    15    6.67 \n",
       "740.00    1    11    9.09 \n",
       "743.00    1    19    5.26 \n",
       "745.00    1    13    7.69 \n",
       "747.00    1    15    6.67 \n",
       "749.00    1    11    9.09 \n",
       "750.00    1    12    8.33 \n",
       "754.00    1    23    4.35 \n",
       "756.00    1    18    5.56 \n",
       "760.00    1    24    4.17 \n",
       "764.00    1    27    3.70 \n",
       "769.00    1    34    2.94 \n",
       "770.00    1    24    4.17 \n",
       "771.00    1    31    3.23 \n",
       "945.00    1    17    5.88 \n",
       "947.00    1    19    5.26 \n",
       "955.00    1    12    8.33 \n",
       "958.00    1    13    7.69 \n",
       "963.00    1    10    10.00\n",
       "970.00    1    4     25.00\n",
       "972.00    1    8     12.50\n",
       "974.00    1    5     20.00\n",
       "980.00    1    4     25.00\n",
       "984.00    1    3     33.33\n",
       "988.00    1    6     16.67\n",
       "990.00    1    7     14.29\n",
       "999.00    1    2     50.00\n",
       "1,000.00  1    6     16.67"
      ]
     },
     "execution_count": 31,
     "metadata": {},
     "output_type": "execute_result"
    }
   ],
   "source": [
    "# Рассчитаем процент ушедших клиентов в разбивке по баллам кредитного скоринга от общего числа:\n",
    "\n",
    "score_churn = df.pivot_table (index = 'score', values = 'churn', aggfunc =['sum', 'count'])\n",
    "score_churn.columns = score_churn.columns.droplevel(level=1)\n",
    "score_churn ['perc'] = score_churn['sum']/score_churn['count']*100\n",
    "score_churn = score_churn [score_churn['sum']==1]\n",
    "\n",
    "score_churn"
   ]
  },
  {
   "cell_type": "markdown",
   "id": "2bef8bc8",
   "metadata": {},
   "source": [
    "До значениями баллов кредитного скоринга равного 750, наблюдалась тенденция к снижению вероятности ухода клиента, однако после процент ушедших клиентов вновь стал расти."
   ]
  },
  {
   "cell_type": "markdown",
   "id": "fe2db371",
   "metadata": {},
   "source": [
    "#### Возраст пользователей"
   ]
  },
  {
   "cell_type": "code",
   "execution_count": 32,
   "id": "c526129e",
   "metadata": {},
   "outputs": [
    {
     "data": {
      "text/html": [
       "<div>\n",
       "<style scoped>\n",
       "    .dataframe tbody tr th:only-of-type {\n",
       "        vertical-align: middle;\n",
       "    }\n",
       "\n",
       "    .dataframe tbody tr th {\n",
       "        vertical-align: top;\n",
       "    }\n",
       "\n",
       "    .dataframe thead th {\n",
       "        text-align: right;\n",
       "    }\n",
       "</style>\n",
       "<table border=\"1\" class=\"dataframe\">\n",
       "  <thead>\n",
       "    <tr style=\"text-align: right;\">\n",
       "      <th></th>\n",
       "      <th>sum</th>\n",
       "      <th>count</th>\n",
       "      <th>perc</th>\n",
       "    </tr>\n",
       "    <tr>\n",
       "      <th>age</th>\n",
       "      <th></th>\n",
       "      <th></th>\n",
       "      <th></th>\n",
       "    </tr>\n",
       "  </thead>\n",
       "  <tbody>\n",
       "    <tr>\n",
       "      <th>18</th>\n",
       "      <td>1</td>\n",
       "      <td>13</td>\n",
       "      <td>7.69</td>\n",
       "    </tr>\n",
       "    <tr>\n",
       "      <th>19</th>\n",
       "      <td>1</td>\n",
       "      <td>16</td>\n",
       "      <td>6.25</td>\n",
       "    </tr>\n",
       "    <tr>\n",
       "      <th>20</th>\n",
       "      <td>3</td>\n",
       "      <td>23</td>\n",
       "      <td>13.04</td>\n",
       "    </tr>\n",
       "    <tr>\n",
       "      <th>21</th>\n",
       "      <td>4</td>\n",
       "      <td>15</td>\n",
       "      <td>26.67</td>\n",
       "    </tr>\n",
       "    <tr>\n",
       "      <th>22</th>\n",
       "      <td>4</td>\n",
       "      <td>27</td>\n",
       "      <td>14.81</td>\n",
       "    </tr>\n",
       "    <tr>\n",
       "      <th>...</th>\n",
       "      <td>...</td>\n",
       "      <td>...</td>\n",
       "      <td>...</td>\n",
       "    </tr>\n",
       "    <tr>\n",
       "      <th>81</th>\n",
       "      <td>0</td>\n",
       "      <td>4</td>\n",
       "      <td>0.00</td>\n",
       "    </tr>\n",
       "    <tr>\n",
       "      <th>82</th>\n",
       "      <td>0</td>\n",
       "      <td>2</td>\n",
       "      <td>0.00</td>\n",
       "    </tr>\n",
       "    <tr>\n",
       "      <th>83</th>\n",
       "      <td>0</td>\n",
       "      <td>3</td>\n",
       "      <td>0.00</td>\n",
       "    </tr>\n",
       "    <tr>\n",
       "      <th>84</th>\n",
       "      <td>0</td>\n",
       "      <td>2</td>\n",
       "      <td>0.00</td>\n",
       "    </tr>\n",
       "    <tr>\n",
       "      <th>86</th>\n",
       "      <td>0</td>\n",
       "      <td>2</td>\n",
       "      <td>0.00</td>\n",
       "    </tr>\n",
       "  </tbody>\n",
       "</table>\n",
       "<p>68 rows × 3 columns</p>\n",
       "</div>"
      ],
      "text/plain": [
       "     sum  count  perc\n",
       "age                  \n",
       "18   1    13    7.69 \n",
       "19   1    16    6.25 \n",
       "20   3    23    13.04\n",
       "21   4    15    26.67\n",
       "22   4    27    14.81\n",
       "..  ..    ..      ...\n",
       "81   0    4     0.00 \n",
       "82   0    2     0.00 \n",
       "83   0    3     0.00 \n",
       "84   0    2     0.00 \n",
       "86   0    2     0.00 \n",
       "\n",
       "[68 rows x 3 columns]"
      ]
     },
     "execution_count": 32,
     "metadata": {},
     "output_type": "execute_result"
    }
   ],
   "source": [
    "# Рассчитаем процент ушедших клиентов в разбивке по возрасту от общего числа:\n",
    "\n",
    "age_churn = df.pivot_table (index = 'age', values = 'churn', aggfunc =['sum', 'count'])\n",
    "age_churn.columns = age_churn.columns.droplevel(level=1)\n",
    "age_churn ['perc'] = age_churn['sum']/age_churn['count']*100\n",
    "\n",
    "age_churn"
   ]
  },
  {
   "cell_type": "markdown",
   "id": "6b0d15b5",
   "metadata": {},
   "source": [
    "Большинство по оттоку - пользователи в возрасте от 25-45 лет и  от 46 до 62 лет, среди них более 20-30 % отточных. "
   ]
  },
  {
   "cell_type": "markdown",
   "id": "a450088f",
   "metadata": {},
   "source": [
    "#### Оценка объектов собственности"
   ]
  },
  {
   "cell_type": "code",
   "execution_count": 33,
   "id": "c6593c27",
   "metadata": {},
   "outputs": [
    {
     "data": {
      "text/html": [
       "<div>\n",
       "<style scoped>\n",
       "    .dataframe tbody tr th:only-of-type {\n",
       "        vertical-align: middle;\n",
       "    }\n",
       "\n",
       "    .dataframe tbody tr th {\n",
       "        vertical-align: top;\n",
       "    }\n",
       "\n",
       "    .dataframe thead th {\n",
       "        text-align: right;\n",
       "    }\n",
       "</style>\n",
       "<table border=\"1\" class=\"dataframe\">\n",
       "  <thead>\n",
       "    <tr style=\"text-align: right;\">\n",
       "      <th></th>\n",
       "      <th>sum</th>\n",
       "      <th>count</th>\n",
       "      <th>perc</th>\n",
       "    </tr>\n",
       "    <tr>\n",
       "      <th>equity</th>\n",
       "      <th></th>\n",
       "      <th></th>\n",
       "      <th></th>\n",
       "    </tr>\n",
       "  </thead>\n",
       "  <tbody>\n",
       "    <tr>\n",
       "      <th>0</th>\n",
       "      <td>90</td>\n",
       "      <td>2576</td>\n",
       "      <td>3.49</td>\n",
       "    </tr>\n",
       "    <tr>\n",
       "      <th>1</th>\n",
       "      <td>93</td>\n",
       "      <td>773</td>\n",
       "      <td>12.03</td>\n",
       "    </tr>\n",
       "    <tr>\n",
       "      <th>2</th>\n",
       "      <td>166</td>\n",
       "      <td>1051</td>\n",
       "      <td>15.79</td>\n",
       "    </tr>\n",
       "    <tr>\n",
       "      <th>3</th>\n",
       "      <td>322</td>\n",
       "      <td>1541</td>\n",
       "      <td>20.90</td>\n",
       "    </tr>\n",
       "    <tr>\n",
       "      <th>4</th>\n",
       "      <td>464</td>\n",
       "      <td>1847</td>\n",
       "      <td>25.12</td>\n",
       "    </tr>\n",
       "    <tr>\n",
       "      <th>5</th>\n",
       "      <td>576</td>\n",
       "      <td>1915</td>\n",
       "      <td>30.08</td>\n",
       "    </tr>\n",
       "    <tr>\n",
       "      <th>6</th>\n",
       "      <td>58</td>\n",
       "      <td>161</td>\n",
       "      <td>36.02</td>\n",
       "    </tr>\n",
       "    <tr>\n",
       "      <th>7</th>\n",
       "      <td>37</td>\n",
       "      <td>80</td>\n",
       "      <td>46.25</td>\n",
       "    </tr>\n",
       "    <tr>\n",
       "      <th>8</th>\n",
       "      <td>6</td>\n",
       "      <td>17</td>\n",
       "      <td>35.29</td>\n",
       "    </tr>\n",
       "    <tr>\n",
       "      <th>9</th>\n",
       "      <td>7</td>\n",
       "      <td>13</td>\n",
       "      <td>53.85</td>\n",
       "    </tr>\n",
       "  </tbody>\n",
       "</table>\n",
       "</div>"
      ],
      "text/plain": [
       "        sum  count  perc\n",
       "equity                  \n",
       "0       90   2576  3.49 \n",
       "1       93   773   12.03\n",
       "2       166  1051  15.79\n",
       "3       322  1541  20.90\n",
       "4       464  1847  25.12\n",
       "5       576  1915  30.08\n",
       "6       58   161   36.02\n",
       "7       37   80    46.25\n",
       "8       6    17    35.29\n",
       "9       7    13    53.85"
      ]
     },
     "execution_count": 33,
     "metadata": {},
     "output_type": "execute_result"
    }
   ],
   "source": [
    "# Рассчитаем процент ушедших клиентов в разбивке по количеству баллов собственности от общего числа:\n",
    "\n",
    "equity_churn = df.pivot_table (index = 'equity', values = 'churn', aggfunc = ['sum', 'count'])\n",
    "equity_churn.columns = equity_churn.columns.droplevel(level=1)\n",
    "equity_churn ['perc'] = equity_churn['sum']/equity_churn['count']*100\n",
    "\n",
    "equity_churn"
   ]
  },
  {
   "cell_type": "markdown",
   "id": "c53b311d",
   "metadata": {},
   "source": [
    "Чем выше количество баллов собственности, тем больше процент отточных клиентов (от 3,5% для оценки 0 до почти 54% для оценки 9)"
   ]
  },
  {
   "cell_type": "markdown",
   "id": "a539463a",
   "metadata": {},
   "source": [
    "#### Количество используемых продуктов"
   ]
  },
  {
   "cell_type": "code",
   "execution_count": 34,
   "id": "fac5317d",
   "metadata": {},
   "outputs": [
    {
     "data": {
      "text/html": [
       "<div>\n",
       "<style scoped>\n",
       "    .dataframe tbody tr th:only-of-type {\n",
       "        vertical-align: middle;\n",
       "    }\n",
       "\n",
       "    .dataframe tbody tr th {\n",
       "        vertical-align: top;\n",
       "    }\n",
       "\n",
       "    .dataframe thead th {\n",
       "        text-align: right;\n",
       "    }\n",
       "</style>\n",
       "<table border=\"1\" class=\"dataframe\">\n",
       "  <thead>\n",
       "    <tr style=\"text-align: right;\">\n",
       "      <th></th>\n",
       "      <th>sum</th>\n",
       "      <th>count</th>\n",
       "      <th>perc</th>\n",
       "    </tr>\n",
       "    <tr>\n",
       "      <th>products</th>\n",
       "      <th></th>\n",
       "      <th></th>\n",
       "      <th></th>\n",
       "    </tr>\n",
       "  </thead>\n",
       "  <tbody>\n",
       "    <tr>\n",
       "      <th>0</th>\n",
       "      <td>1</td>\n",
       "      <td>1</td>\n",
       "      <td>100.00</td>\n",
       "    </tr>\n",
       "    <tr>\n",
       "      <th>1</th>\n",
       "      <td>235</td>\n",
       "      <td>3323</td>\n",
       "      <td>7.07</td>\n",
       "    </tr>\n",
       "    <tr>\n",
       "      <th>2</th>\n",
       "      <td>978</td>\n",
       "      <td>5119</td>\n",
       "      <td>19.11</td>\n",
       "    </tr>\n",
       "    <tr>\n",
       "      <th>3</th>\n",
       "      <td>297</td>\n",
       "      <td>1038</td>\n",
       "      <td>28.61</td>\n",
       "    </tr>\n",
       "    <tr>\n",
       "      <th>4</th>\n",
       "      <td>300</td>\n",
       "      <td>474</td>\n",
       "      <td>63.29</td>\n",
       "    </tr>\n",
       "    <tr>\n",
       "      <th>5</th>\n",
       "      <td>8</td>\n",
       "      <td>19</td>\n",
       "      <td>42.11</td>\n",
       "    </tr>\n",
       "  </tbody>\n",
       "</table>\n",
       "</div>"
      ],
      "text/plain": [
       "          sum  count   perc\n",
       "products                   \n",
       "0         1    1     100.00\n",
       "1         235  3323  7.07  \n",
       "2         978  5119  19.11 \n",
       "3         297  1038  28.61 \n",
       "4         300  474   63.29 \n",
       "5         8    19    42.11 "
      ]
     },
     "execution_count": 34,
     "metadata": {},
     "output_type": "execute_result"
    }
   ],
   "source": [
    "# Рассчитаем процент ушедших клиентов в разбивке по количеству используемых продуктов от общего числа:\n",
    "\n",
    "products_churn = df.pivot_table (index = 'products', values = 'churn', aggfunc = ['sum', 'count'])\n",
    "products_churn.columns = products_churn.columns.droplevel(level=1)\n",
    "products_churn ['perc'] = products_churn['sum']/products_churn['count']*100\n",
    "\n",
    "products_churn"
   ]
  },
  {
   "cell_type": "markdown",
   "id": "3de149db",
   "metadata": {},
   "source": [
    " 63% клиентов, использовавших 4 продукта, ушли из банка. Среди клиентов, использовавших 5 продуктов доля отточных составляет 40%, для клиентов, использовавших 2-3 продукта отток составил 20-30%, 1 продукт - менее 10%."
   ]
  },
  {
   "cell_type": "markdown",
   "id": "3e31d0d5",
   "metadata": {},
   "source": [
    "#### Наличие кредитной карты"
   ]
  },
  {
   "cell_type": "code",
   "execution_count": 35,
   "id": "17838384",
   "metadata": {},
   "outputs": [
    {
     "data": {
      "text/html": [
       "<div>\n",
       "<style scoped>\n",
       "    .dataframe tbody tr th:only-of-type {\n",
       "        vertical-align: middle;\n",
       "    }\n",
       "\n",
       "    .dataframe tbody tr th {\n",
       "        vertical-align: top;\n",
       "    }\n",
       "\n",
       "    .dataframe thead th {\n",
       "        text-align: right;\n",
       "    }\n",
       "</style>\n",
       "<table border=\"1\" class=\"dataframe\">\n",
       "  <thead>\n",
       "    <tr style=\"text-align: right;\">\n",
       "      <th></th>\n",
       "      <th>sum</th>\n",
       "      <th>count</th>\n",
       "      <th>perc</th>\n",
       "    </tr>\n",
       "    <tr>\n",
       "      <th>credit_card</th>\n",
       "      <th></th>\n",
       "      <th></th>\n",
       "      <th></th>\n",
       "    </tr>\n",
       "  </thead>\n",
       "  <tbody>\n",
       "    <tr>\n",
       "      <th>0</th>\n",
       "      <td>816</td>\n",
       "      <td>3190</td>\n",
       "      <td>25.58</td>\n",
       "    </tr>\n",
       "    <tr>\n",
       "      <th>1</th>\n",
       "      <td>1003</td>\n",
       "      <td>6784</td>\n",
       "      <td>14.78</td>\n",
       "    </tr>\n",
       "  </tbody>\n",
       "</table>\n",
       "</div>"
      ],
      "text/plain": [
       "              sum  count  perc\n",
       "credit_card                   \n",
       "0            816   3190  25.58\n",
       "1            1003  6784  14.78"
      ]
     },
     "execution_count": 35,
     "metadata": {},
     "output_type": "execute_result"
    }
   ],
   "source": [
    "# Рассчитаем процент ушедших клиентов в разбивке по наличию или отсутствию кредитной карты:\n",
    "\n",
    "credit_card_churn = df.pivot_table (index = 'credit_card', values = 'churn', aggfunc = ['sum', 'count'])\n",
    "credit_card_churn.columns = credit_card_churn.columns.droplevel(level=1)\n",
    "credit_card_churn ['perc'] = credit_card_churn['sum']/credit_card_churn['count']*100\n",
    "\n",
    "credit_card_churn"
   ]
  },
  {
   "cell_type": "markdown",
   "id": "7f85f7ec",
   "metadata": {},
   "source": [
    "Среди клиентов, у которых есть кредитная карта, отток почти в 2 раза меньше (15%), против (26%) среди тех, у кого кредитной карты нет."
   ]
  },
  {
   "cell_type": "markdown",
   "id": "8731b34c",
   "metadata": {},
   "source": [
    "#### Пользовательская активность"
   ]
  },
  {
   "cell_type": "code",
   "execution_count": 36,
   "id": "ac3723f3",
   "metadata": {},
   "outputs": [
    {
     "data": {
      "text/html": [
       "<div>\n",
       "<style scoped>\n",
       "    .dataframe tbody tr th:only-of-type {\n",
       "        vertical-align: middle;\n",
       "    }\n",
       "\n",
       "    .dataframe tbody tr th {\n",
       "        vertical-align: top;\n",
       "    }\n",
       "\n",
       "    .dataframe thead th {\n",
       "        text-align: right;\n",
       "    }\n",
       "</style>\n",
       "<table border=\"1\" class=\"dataframe\">\n",
       "  <thead>\n",
       "    <tr style=\"text-align: right;\">\n",
       "      <th></th>\n",
       "      <th>sum</th>\n",
       "      <th>count</th>\n",
       "      <th>perc</th>\n",
       "    </tr>\n",
       "    <tr>\n",
       "      <th>last_activity</th>\n",
       "      <th></th>\n",
       "      <th></th>\n",
       "      <th></th>\n",
       "    </tr>\n",
       "  </thead>\n",
       "  <tbody>\n",
       "    <tr>\n",
       "      <th>0</th>\n",
       "      <td>542</td>\n",
       "      <td>4759</td>\n",
       "      <td>11.39</td>\n",
       "    </tr>\n",
       "    <tr>\n",
       "      <th>1</th>\n",
       "      <td>1277</td>\n",
       "      <td>5215</td>\n",
       "      <td>24.49</td>\n",
       "    </tr>\n",
       "  </tbody>\n",
       "</table>\n",
       "</div>"
      ],
      "text/plain": [
       "                sum  count  perc\n",
       "last_activity                   \n",
       "0              542   4759  11.39\n",
       "1              1277  5215  24.49"
      ]
     },
     "execution_count": 36,
     "metadata": {},
     "output_type": "execute_result"
    }
   ],
   "source": [
    "# Рассчитаем процент ушедших клиентов в разбивке по активности от общего числа:\n",
    "\n",
    "activity_churn = df.pivot_table (index = 'last_activity', values = 'churn', aggfunc = ['sum', 'count'])\n",
    "activity_churn.columns = activity_churn.columns.droplevel(level=1)\n",
    "activity_churn ['perc'] = activity_churn['sum']/activity_churn['count']*100\n",
    "\n",
    "activity_churn"
   ]
  },
  {
   "cell_type": "markdown",
   "id": "8e0bcd35",
   "metadata": {},
   "source": [
    "У активных клиентов риск оттока более чем в 2 раза больше (24%), чем у неактивных (11%). Возможно это связано с тем, что активное использование банковских продуктов повышает вероятность получения негативного опыта от взаимодействия с банком, и, как следствие - принятию решения об отказе от услуг банка."
   ]
  },
  {
   "cell_type": "markdown",
   "id": "695e7371",
   "metadata": {},
   "source": [
    "#### Пол пользователя"
   ]
  },
  {
   "cell_type": "code",
   "execution_count": 37,
   "id": "5291ee36",
   "metadata": {},
   "outputs": [
    {
     "data": {
      "text/html": [
       "<div>\n",
       "<style scoped>\n",
       "    .dataframe tbody tr th:only-of-type {\n",
       "        vertical-align: middle;\n",
       "    }\n",
       "\n",
       "    .dataframe tbody tr th {\n",
       "        vertical-align: top;\n",
       "    }\n",
       "\n",
       "    .dataframe thead th {\n",
       "        text-align: right;\n",
       "    }\n",
       "</style>\n",
       "<table border=\"1\" class=\"dataframe\">\n",
       "  <thead>\n",
       "    <tr style=\"text-align: right;\">\n",
       "      <th></th>\n",
       "      <th>sum</th>\n",
       "      <th>count</th>\n",
       "      <th>perc</th>\n",
       "    </tr>\n",
       "    <tr>\n",
       "      <th>gender</th>\n",
       "      <th></th>\n",
       "      <th></th>\n",
       "      <th></th>\n",
       "    </tr>\n",
       "  </thead>\n",
       "  <tbody>\n",
       "    <tr>\n",
       "      <th>Ж</th>\n",
       "      <td>636</td>\n",
       "      <td>4983</td>\n",
       "      <td>12.76</td>\n",
       "    </tr>\n",
       "    <tr>\n",
       "      <th>М</th>\n",
       "      <td>1183</td>\n",
       "      <td>4991</td>\n",
       "      <td>23.70</td>\n",
       "    </tr>\n",
       "  </tbody>\n",
       "</table>\n",
       "</div>"
      ],
      "text/plain": [
       "         sum  count  perc\n",
       "gender                   \n",
       "Ж       636   4983  12.76\n",
       "М       1183  4991  23.70"
      ]
     },
     "execution_count": 37,
     "metadata": {},
     "output_type": "execute_result"
    }
   ],
   "source": [
    "# Рассчитаем процент ушедших клиентов в разбивке по полу от общего числа:\n",
    "\n",
    "gender_churn = df.pivot_table (index = 'gender', values = 'churn', aggfunc = ['sum', 'count'])\n",
    "gender_churn.columns = gender_churn.columns.droplevel(level=1)\n",
    "gender_churn ['perc'] = gender_churn['sum']/gender_churn['count']*100\n",
    "\n",
    "\n",
    "gender_churn"
   ]
  },
  {
   "cell_type": "markdown",
   "id": "2c0f1c02",
   "metadata": {},
   "source": [
    "Среди мужчин доля отточных клиентов почти в два раз выше (24%), чем среди женщин (13%). "
   ]
  },
  {
   "cell_type": "markdown",
   "id": "a17ae2e2",
   "metadata": {},
   "source": [
    "#### Город"
   ]
  },
  {
   "cell_type": "code",
   "execution_count": 38,
   "id": "36cd5036",
   "metadata": {
    "scrolled": true
   },
   "outputs": [
    {
     "data": {
      "text/html": [
       "<div>\n",
       "<style scoped>\n",
       "    .dataframe tbody tr th:only-of-type {\n",
       "        vertical-align: middle;\n",
       "    }\n",
       "\n",
       "    .dataframe tbody tr th {\n",
       "        vertical-align: top;\n",
       "    }\n",
       "\n",
       "    .dataframe thead th {\n",
       "        text-align: right;\n",
       "    }\n",
       "</style>\n",
       "<table border=\"1\" class=\"dataframe\">\n",
       "  <thead>\n",
       "    <tr style=\"text-align: right;\">\n",
       "      <th></th>\n",
       "      <th>sum</th>\n",
       "      <th>count</th>\n",
       "      <th>perc</th>\n",
       "    </tr>\n",
       "    <tr>\n",
       "      <th>city</th>\n",
       "      <th></th>\n",
       "      <th></th>\n",
       "      <th></th>\n",
       "    </tr>\n",
       "  </thead>\n",
       "  <tbody>\n",
       "    <tr>\n",
       "      <th>Ростов</th>\n",
       "      <td>265</td>\n",
       "      <td>1416</td>\n",
       "      <td>18.71</td>\n",
       "    </tr>\n",
       "    <tr>\n",
       "      <th>Рыбинск</th>\n",
       "      <td>437</td>\n",
       "      <td>2683</td>\n",
       "      <td>16.29</td>\n",
       "    </tr>\n",
       "    <tr>\n",
       "      <th>Ярославль</th>\n",
       "      <td>1117</td>\n",
       "      <td>5875</td>\n",
       "      <td>19.01</td>\n",
       "    </tr>\n",
       "  </tbody>\n",
       "</table>\n",
       "</div>"
      ],
      "text/plain": [
       "            sum  count  perc\n",
       "city                        \n",
       "Ростов     265   1416  18.71\n",
       "Рыбинск    437   2683  16.29\n",
       "Ярославль  1117  5875  19.01"
      ]
     },
     "execution_count": 38,
     "metadata": {},
     "output_type": "execute_result"
    }
   ],
   "source": [
    "# Рассчитаем процент ушедших клиентов в разбивке по городам от общего числа:\n",
    "\n",
    "city_churn = df.pivot_table (index = 'city', values = 'churn', aggfunc =['sum', 'count'])\n",
    "city_churn.columns = city_churn.columns.droplevel(level=1)\n",
    "city_churn ['perc'] = city_churn['sum']/city_churn['count']*100\n",
    "\n",
    "city_churn"
   ]
  },
  {
   "cell_type": "markdown",
   "id": "011c545d",
   "metadata": {},
   "source": [
    "Различие в долях ушедших клиентов между городами незначительное, можно предположить, что отток клиентов между городами происходил равномерно."
   ]
  },
  {
   "cell_type": "markdown",
   "id": "3f848f67",
   "metadata": {},
   "source": [
    "**Теперь сделаем визуализвцию наших признаков:**"
   ]
  },
  {
   "cell_type": "code",
   "execution_count": 39,
   "id": "4546cead",
   "metadata": {
    "scrolled": false
   },
   "outputs": [
    {
     "data": {
      "image/png": "[encoded data removed]",
      "text/plain": [
       "<Figure size 432x288 with 1 Axes>"
      ]
     },
     "metadata": {
      "needs_background": "light"
     },
     "output_type": "display_data"
    },
    {
     "data": {
      "image/png": "[encoded data removed]",
      "text/plain": [
       "<Figure size 432x288 with 1 Axes>"
      ]
     },
     "metadata": {
      "needs_background": "light"
     },
     "output_type": "display_data"
    },
    {
     "data": {
      "image/png": "[encoded data removed]",
      "text/plain": [
       "<Figure size 432x288 with 1 Axes>"
      ]
     },
     "metadata": {
      "needs_background": "light"
     },
     "output_type": "display_data"
    },
    {
     "data": {
      "image/png": "[encoded data removed]",
      "text/plain": [
       "<Figure size 432x288 with 1 Axes>"
      ]
     },
     "metadata": {
      "needs_background": "light"
     },
     "output_type": "display_data"
    },
    {
     "data": {
      "image/png": "[encoded data removed]",
      "text/plain": [
       "<Figure size 432x288 with 1 Axes>"
      ]
     },
     "metadata": {
      "needs_background": "light"
     },
     "output_type": "display_data"
    },
    {
     "data": {
      "image/png": "[encoded data removed]",
      "text/plain": [
       "<Figure size 432x288 with 1 Axes>"
      ]
     },
     "metadata": {
      "needs_background": "light"
     },
     "output_type": "display_data"
    },
    {
     "data": {
      "image/png": "[encoded data removed]",
      "text/plain": [
       "<Figure size 432x288 with 1 Axes>"
      ]
     },
     "metadata": {
      "needs_background": "light"
     },
     "output_type": "display_data"
    },
    {
     "data": {
      "image/png": "[encoded data removed]",
      "text/plain": [
       "<Figure size 1152x504 with 1 Axes>"
      ]
     },
     "metadata": {
      "needs_background": "light"
     },
     "output_type": "display_data"
    },
    {
     "data": {
      "image/png": "[encoded data removed]",
      "text/plain": [
       "<Figure size 432x288 with 1 Axes>"
      ]
     },
     "metadata": {
      "needs_background": "light"
     },
     "output_type": "display_data"
    },
    {
     "data": {
      "image/png": "[encoded data removed]",
      "text/plain": [
       "<Figure size 432x288 with 1 Axes>"
      ]
     },
     "metadata": {
      "needs_background": "light"
     },
     "output_type": "display_data"
    },
    {
     "data": {
      "image/png": "[encoded data removed]",
      "text/plain": [
       "<Figure size 432x288 with 1 Axes>"
      ]
     },
     "metadata": {
      "needs_background": "light"
     },
     "output_type": "display_data"
    }
   ],
   "source": [
    "tables(df, hue='churn')    "
   ]
  },
  {
   "cell_type": "markdown",
   "id": "d9422b3b",
   "metadata": {},
   "source": [
    "**Вывод:**\n",
    "\n",
    "1. Различие в долях ушедших клиентов между городами незначительное.\n",
    "\n",
    "2. Среди мужчин доля отточных клиентов почти в два раз выше (24%), чем среди женщин (13%).\n",
    "\n",
    "3. Среди клиентов, у которых есть кредитная карта, отток почти в 2 раза меньше (15%), против (26%) среди тех, у кого кредитной карты нет.\n",
    "\n",
    "4. У активных клиентов процент оттока более чем в 2 раза больше (24%), чем у неактивных (11%).\n",
    "\n",
    "5. Чем больше количество баллов собственности, тем больше процент отточных клиентов(от 3,5% для оценки 0 до почти 54% для оценки 9).\n",
    "\n",
    "6. 63% клиентов, использовавших 4 продукта, ушли из банка. Среди клиентов, использовавших 2-3 продукта отток составил 20-30%, 1 продукт - менее 10%.\n",
    "\n",
    "7. Общая доля оттока составляет 18% от общего количества пользователей.\n",
    "\n",
    "8. Большинство по оттоку - пользователи в возрасте от 25-45 лет и от 46 до 62 лет, среди них более 20-30 % отточных.\n",
    "\n",
    "9. До значениями баллов кредитного скоринга равного 750, наблюдалась тенденция к снижению вероятности ухода клиента, однако после процент ушедших клиентов вновь стал расти."
   ]
  },
  {
   "cell_type": "markdown",
   "id": "be945c15",
   "metadata": {},
   "source": [
    "### Составление портретов уходящих клиентов"
   ]
  },
  {
   "cell_type": "markdown",
   "id": "1acbdd46",
   "metadata": {},
   "source": [
    "По результатам нашего анализа и расчетов корреляции мы можем выделить несколько портретов отточных пользователей:"
   ]
  },
  {
   "cell_type": "markdown",
   "id": "d805f50b",
   "metadata": {},
   "source": [
    "**Портрет №1**\n",
    "\n",
    "Пол: мужской\n",
    "\n",
    "Возраст: 46-62\n",
    "\n",
    "Город: любой\n",
    "\n",
    "Количество баллов собственности: 5 и выше\n",
    "\n",
    "Баллы кредитного скоринга: 750 и выше\n",
    "\n",
    "Количество используемых продуктов: 3 и больше\n",
    "\n",
    "Наличие кредитной карты: нет\n",
    "\n",
    "Пользовательская активность: да\n",
    "\n",
    "Теперь найдем всех клиентов, удовлетворяющих этим критериям:"
   ]
  },
  {
   "cell_type": "code",
   "execution_count": 40,
   "id": "4729631a",
   "metadata": {},
   "outputs": [
    {
     "data": {
      "text/html": [
       "<div>\n",
       "<style scoped>\n",
       "    .dataframe tbody tr th:only-of-type {\n",
       "        vertical-align: middle;\n",
       "    }\n",
       "\n",
       "    .dataframe tbody tr th {\n",
       "        vertical-align: top;\n",
       "    }\n",
       "\n",
       "    .dataframe thead th {\n",
       "        text-align: right;\n",
       "    }\n",
       "</style>\n",
       "<table border=\"1\" class=\"dataframe\">\n",
       "  <thead>\n",
       "    <tr style=\"text-align: right;\">\n",
       "      <th></th>\n",
       "      <th>user_id</th>\n",
       "      <th>score</th>\n",
       "      <th>city</th>\n",
       "      <th>gender</th>\n",
       "      <th>age</th>\n",
       "      <th>equity</th>\n",
       "      <th>balance</th>\n",
       "      <th>products</th>\n",
       "      <th>credit_card</th>\n",
       "      <th>last_activity</th>\n",
       "      <th>est_salary</th>\n",
       "      <th>churn</th>\n",
       "      <th>Ростов</th>\n",
       "      <th>Рыбинск</th>\n",
       "      <th>Ярославль</th>\n",
       "      <th>female</th>\n",
       "      <th>male</th>\n",
       "    </tr>\n",
       "  </thead>\n",
       "  <tbody>\n",
       "    <tr>\n",
       "      <th>399</th>\n",
       "      <td>212,030.00</td>\n",
       "      <td>867.00</td>\n",
       "      <td>Ярославль</td>\n",
       "      <td>М</td>\n",
       "      <td>59</td>\n",
       "      <td>5</td>\n",
       "      <td>851,896.68</td>\n",
       "      <td>3</td>\n",
       "      <td>0</td>\n",
       "      <td>1</td>\n",
       "      <td>50,771.03</td>\n",
       "      <td>1</td>\n",
       "      <td>0</td>\n",
       "      <td>0</td>\n",
       "      <td>1</td>\n",
       "      <td>0</td>\n",
       "      <td>1</td>\n",
       "    </tr>\n",
       "    <tr>\n",
       "      <th>1292</th>\n",
       "      <td>119,694.00</td>\n",
       "      <td>826.00</td>\n",
       "      <td>Ярославль</td>\n",
       "      <td>М</td>\n",
       "      <td>60</td>\n",
       "      <td>5</td>\n",
       "      <td>737,821.34</td>\n",
       "      <td>3</td>\n",
       "      <td>0</td>\n",
       "      <td>1</td>\n",
       "      <td>98,134.05</td>\n",
       "      <td>1</td>\n",
       "      <td>0</td>\n",
       "      <td>0</td>\n",
       "      <td>1</td>\n",
       "      <td>0</td>\n",
       "      <td>1</td>\n",
       "    </tr>\n",
       "    <tr>\n",
       "      <th>1420</th>\n",
       "      <td>140,006.00</td>\n",
       "      <td>899.00</td>\n",
       "      <td>Ярославль</td>\n",
       "      <td>М</td>\n",
       "      <td>59</td>\n",
       "      <td>5</td>\n",
       "      <td>1,682,723.25</td>\n",
       "      <td>3</td>\n",
       "      <td>0</td>\n",
       "      <td>1</td>\n",
       "      <td>866,547.65</td>\n",
       "      <td>1</td>\n",
       "      <td>0</td>\n",
       "      <td>0</td>\n",
       "      <td>1</td>\n",
       "      <td>0</td>\n",
       "      <td>1</td>\n",
       "    </tr>\n",
       "    <tr>\n",
       "      <th>1711</th>\n",
       "      <td>136,965.00</td>\n",
       "      <td>870.00</td>\n",
       "      <td>Ярославль</td>\n",
       "      <td>М</td>\n",
       "      <td>52</td>\n",
       "      <td>5</td>\n",
       "      <td>775,269.74</td>\n",
       "      <td>3</td>\n",
       "      <td>0</td>\n",
       "      <td>1</td>\n",
       "      <td>114,384.63</td>\n",
       "      <td>1</td>\n",
       "      <td>0</td>\n",
       "      <td>0</td>\n",
       "      <td>1</td>\n",
       "      <td>0</td>\n",
       "      <td>1</td>\n",
       "    </tr>\n",
       "    <tr>\n",
       "      <th>2623</th>\n",
       "      <td>221,218.00</td>\n",
       "      <td>978.00</td>\n",
       "      <td>Рыбинск</td>\n",
       "      <td>М</td>\n",
       "      <td>53</td>\n",
       "      <td>6</td>\n",
       "      <td>2,582,959.96</td>\n",
       "      <td>4</td>\n",
       "      <td>0</td>\n",
       "      <td>1</td>\n",
       "      <td>337,094.41</td>\n",
       "      <td>1</td>\n",
       "      <td>0</td>\n",
       "      <td>1</td>\n",
       "      <td>0</td>\n",
       "      <td>0</td>\n",
       "      <td>1</td>\n",
       "    </tr>\n",
       "    <tr>\n",
       "      <th>2688</th>\n",
       "      <td>203,563.00</td>\n",
       "      <td>832.00</td>\n",
       "      <td>Ярославль</td>\n",
       "      <td>М</td>\n",
       "      <td>55</td>\n",
       "      <td>5</td>\n",
       "      <td>585,528.59</td>\n",
       "      <td>3</td>\n",
       "      <td>0</td>\n",
       "      <td>1</td>\n",
       "      <td>56,980.75</td>\n",
       "      <td>1</td>\n",
       "      <td>0</td>\n",
       "      <td>0</td>\n",
       "      <td>1</td>\n",
       "      <td>0</td>\n",
       "      <td>1</td>\n",
       "    </tr>\n",
       "    <tr>\n",
       "      <th>2822</th>\n",
       "      <td>159,768.00</td>\n",
       "      <td>920.00</td>\n",
       "      <td>Ярославль</td>\n",
       "      <td>М</td>\n",
       "      <td>61</td>\n",
       "      <td>5</td>\n",
       "      <td>1,821,523.00</td>\n",
       "      <td>3</td>\n",
       "      <td>0</td>\n",
       "      <td>1</td>\n",
       "      <td>202,960.63</td>\n",
       "      <td>1</td>\n",
       "      <td>0</td>\n",
       "      <td>0</td>\n",
       "      <td>1</td>\n",
       "      <td>0</td>\n",
       "      <td>1</td>\n",
       "    </tr>\n",
       "    <tr>\n",
       "      <th>3267</th>\n",
       "      <td>193,795.00</td>\n",
       "      <td>890.00</td>\n",
       "      <td>Ярославль</td>\n",
       "      <td>М</td>\n",
       "      <td>54</td>\n",
       "      <td>5</td>\n",
       "      <td>3,582,411.37</td>\n",
       "      <td>3</td>\n",
       "      <td>0</td>\n",
       "      <td>1</td>\n",
       "      <td>96,882.21</td>\n",
       "      <td>1</td>\n",
       "      <td>0</td>\n",
       "      <td>0</td>\n",
       "      <td>1</td>\n",
       "      <td>0</td>\n",
       "      <td>1</td>\n",
       "    </tr>\n",
       "    <tr>\n",
       "      <th>3861</th>\n",
       "      <td>114,000.00</td>\n",
       "      <td>924.00</td>\n",
       "      <td>Ярославль</td>\n",
       "      <td>М</td>\n",
       "      <td>55</td>\n",
       "      <td>5</td>\n",
       "      <td>1,675,198.33</td>\n",
       "      <td>3</td>\n",
       "      <td>0</td>\n",
       "      <td>1</td>\n",
       "      <td>89,820.72</td>\n",
       "      <td>1</td>\n",
       "      <td>0</td>\n",
       "      <td>0</td>\n",
       "      <td>1</td>\n",
       "      <td>0</td>\n",
       "      <td>1</td>\n",
       "    </tr>\n",
       "    <tr>\n",
       "      <th>4083</th>\n",
       "      <td>170,917.00</td>\n",
       "      <td>927.00</td>\n",
       "      <td>Ярославль</td>\n",
       "      <td>М</td>\n",
       "      <td>57</td>\n",
       "      <td>7</td>\n",
       "      <td>3,134,542.35</td>\n",
       "      <td>3</td>\n",
       "      <td>0</td>\n",
       "      <td>1</td>\n",
       "      <td>93,364.21</td>\n",
       "      <td>1</td>\n",
       "      <td>0</td>\n",
       "      <td>0</td>\n",
       "      <td>1</td>\n",
       "      <td>0</td>\n",
       "      <td>1</td>\n",
       "    </tr>\n",
       "    <tr>\n",
       "      <th>6041</th>\n",
       "      <td>171,914.00</td>\n",
       "      <td>895.00</td>\n",
       "      <td>Ярославль</td>\n",
       "      <td>М</td>\n",
       "      <td>48</td>\n",
       "      <td>6</td>\n",
       "      <td>2,917,343.54</td>\n",
       "      <td>3</td>\n",
       "      <td>0</td>\n",
       "      <td>1</td>\n",
       "      <td>156,805.14</td>\n",
       "      <td>1</td>\n",
       "      <td>0</td>\n",
       "      <td>0</td>\n",
       "      <td>1</td>\n",
       "      <td>0</td>\n",
       "      <td>1</td>\n",
       "    </tr>\n",
       "    <tr>\n",
       "      <th>6162</th>\n",
       "      <td>195,444.00</td>\n",
       "      <td>909.00</td>\n",
       "      <td>Ярославль</td>\n",
       "      <td>М</td>\n",
       "      <td>54</td>\n",
       "      <td>5</td>\n",
       "      <td>884,462.90</td>\n",
       "      <td>3</td>\n",
       "      <td>0</td>\n",
       "      <td>1</td>\n",
       "      <td>874,974.77</td>\n",
       "      <td>1</td>\n",
       "      <td>0</td>\n",
       "      <td>0</td>\n",
       "      <td>1</td>\n",
       "      <td>0</td>\n",
       "      <td>1</td>\n",
       "    </tr>\n",
       "    <tr>\n",
       "      <th>6254</th>\n",
       "      <td>142,073.00</td>\n",
       "      <td>826.00</td>\n",
       "      <td>Ростов</td>\n",
       "      <td>М</td>\n",
       "      <td>60</td>\n",
       "      <td>5</td>\n",
       "      <td>1,333,343.17</td>\n",
       "      <td>4</td>\n",
       "      <td>0</td>\n",
       "      <td>1</td>\n",
       "      <td>89,817.02</td>\n",
       "      <td>1</td>\n",
       "      <td>1</td>\n",
       "      <td>0</td>\n",
       "      <td>0</td>\n",
       "      <td>0</td>\n",
       "      <td>1</td>\n",
       "    </tr>\n",
       "    <tr>\n",
       "      <th>6486</th>\n",
       "      <td>187,670.00</td>\n",
       "      <td>860.00</td>\n",
       "      <td>Ярославль</td>\n",
       "      <td>М</td>\n",
       "      <td>52</td>\n",
       "      <td>8</td>\n",
       "      <td>947,578.39</td>\n",
       "      <td>4</td>\n",
       "      <td>0</td>\n",
       "      <td>1</td>\n",
       "      <td>109,984.16</td>\n",
       "      <td>1</td>\n",
       "      <td>0</td>\n",
       "      <td>0</td>\n",
       "      <td>1</td>\n",
       "      <td>0</td>\n",
       "      <td>1</td>\n",
       "    </tr>\n",
       "    <tr>\n",
       "      <th>8244</th>\n",
       "      <td>155,801.00</td>\n",
       "      <td>891.00</td>\n",
       "      <td>Ярославль</td>\n",
       "      <td>М</td>\n",
       "      <td>54</td>\n",
       "      <td>5</td>\n",
       "      <td>443,851.94</td>\n",
       "      <td>3</td>\n",
       "      <td>0</td>\n",
       "      <td>1</td>\n",
       "      <td>123,437.91</td>\n",
       "      <td>1</td>\n",
       "      <td>0</td>\n",
       "      <td>0</td>\n",
       "      <td>1</td>\n",
       "      <td>0</td>\n",
       "      <td>1</td>\n",
       "    </tr>\n",
       "    <tr>\n",
       "      <th>8335</th>\n",
       "      <td>200,744.00</td>\n",
       "      <td>817.00</td>\n",
       "      <td>Ярославль</td>\n",
       "      <td>М</td>\n",
       "      <td>49</td>\n",
       "      <td>5</td>\n",
       "      <td>2,616,800.01</td>\n",
       "      <td>4</td>\n",
       "      <td>0</td>\n",
       "      <td>1</td>\n",
       "      <td>187,543.47</td>\n",
       "      <td>1</td>\n",
       "      <td>0</td>\n",
       "      <td>0</td>\n",
       "      <td>1</td>\n",
       "      <td>0</td>\n",
       "      <td>1</td>\n",
       "    </tr>\n",
       "    <tr>\n",
       "      <th>8727</th>\n",
       "      <td>148,939.00</td>\n",
       "      <td>916.00</td>\n",
       "      <td>Ярославль</td>\n",
       "      <td>М</td>\n",
       "      <td>53</td>\n",
       "      <td>5</td>\n",
       "      <td>1,822,496.40</td>\n",
       "      <td>3</td>\n",
       "      <td>0</td>\n",
       "      <td>1</td>\n",
       "      <td>118,350.85</td>\n",
       "      <td>1</td>\n",
       "      <td>0</td>\n",
       "      <td>0</td>\n",
       "      <td>1</td>\n",
       "      <td>0</td>\n",
       "      <td>1</td>\n",
       "    </tr>\n",
       "    <tr>\n",
       "      <th>9772</th>\n",
       "      <td>164,208.00</td>\n",
       "      <td>925.00</td>\n",
       "      <td>Ростов</td>\n",
       "      <td>М</td>\n",
       "      <td>58</td>\n",
       "      <td>5</td>\n",
       "      <td>2,664,421.66</td>\n",
       "      <td>4</td>\n",
       "      <td>0</td>\n",
       "      <td>1</td>\n",
       "      <td>195,985.93</td>\n",
       "      <td>1</td>\n",
       "      <td>1</td>\n",
       "      <td>0</td>\n",
       "      <td>0</td>\n",
       "      <td>0</td>\n",
       "      <td>1</td>\n",
       "    </tr>\n",
       "  </tbody>\n",
       "</table>\n",
       "</div>"
      ],
      "text/plain": [
       "        user_id  score       city gender  age  equity      balance  products  \\\n",
       "399  212,030.00 867.00  Ярославль  М      59   5      851,896.68    3          \n",
       "1292 119,694.00 826.00  Ярославль  М      60   5      737,821.34    3          \n",
       "1420 140,006.00 899.00  Ярославль  М      59   5      1,682,723.25  3          \n",
       "1711 136,965.00 870.00  Ярославль  М      52   5      775,269.74    3          \n",
       "2623 221,218.00 978.00  Рыбинск    М      53   6      2,582,959.96  4          \n",
       "2688 203,563.00 832.00  Ярославль  М      55   5      585,528.59    3          \n",
       "2822 159,768.00 920.00  Ярославль  М      61   5      1,821,523.00  3          \n",
       "3267 193,795.00 890.00  Ярославль  М      54   5      3,582,411.37  3          \n",
       "3861 114,000.00 924.00  Ярославль  М      55   5      1,675,198.33  3          \n",
       "4083 170,917.00 927.00  Ярославль  М      57   7      3,134,542.35  3          \n",
       "6041 171,914.00 895.00  Ярославль  М      48   6      2,917,343.54  3          \n",
       "6162 195,444.00 909.00  Ярославль  М      54   5      884,462.90    3          \n",
       "6254 142,073.00 826.00  Ростов     М      60   5      1,333,343.17  4          \n",
       "6486 187,670.00 860.00  Ярославль  М      52   8      947,578.39    4          \n",
       "8244 155,801.00 891.00  Ярославль  М      54   5      443,851.94    3          \n",
       "8335 200,744.00 817.00  Ярославль  М      49   5      2,616,800.01  4          \n",
       "8727 148,939.00 916.00  Ярославль  М      53   5      1,822,496.40  3          \n",
       "9772 164,208.00 925.00  Ростов     М      58   5      2,664,421.66  4          \n",
       "\n",
       "      credit_card  last_activity  est_salary  churn  Ростов  Рыбинск  \\\n",
       "399   0            1             50,771.03    1      0       0         \n",
       "1292  0            1             98,134.05    1      0       0         \n",
       "1420  0            1             866,547.65   1      0       0         \n",
       "1711  0            1             114,384.63   1      0       0         \n",
       "2623  0            1             337,094.41   1      0       1         \n",
       "2688  0            1             56,980.75    1      0       0         \n",
       "2822  0            1             202,960.63   1      0       0         \n",
       "3267  0            1             96,882.21    1      0       0         \n",
       "3861  0            1             89,820.72    1      0       0         \n",
       "4083  0            1             93,364.21    1      0       0         \n",
       "6041  0            1             156,805.14   1      0       0         \n",
       "6162  0            1             874,974.77   1      0       0         \n",
       "6254  0            1             89,817.02    1      1       0         \n",
       "6486  0            1             109,984.16   1      0       0         \n",
       "8244  0            1             123,437.91   1      0       0         \n",
       "8335  0            1             187,543.47   1      0       0         \n",
       "8727  0            1             118,350.85   1      0       0         \n",
       "9772  0            1             195,985.93   1      1       0         \n",
       "\n",
       "      Ярославль  female  male  \n",
       "399   1          0       1     \n",
       "1292  1          0       1     \n",
       "1420  1          0       1     \n",
       "1711  1          0       1     \n",
       "2623  0          0       1     \n",
       "2688  1          0       1     \n",
       "2822  1          0       1     \n",
       "3267  1          0       1     \n",
       "3861  1          0       1     \n",
       "4083  1          0       1     \n",
       "6041  1          0       1     \n",
       "6162  1          0       1     \n",
       "6254  0          0       1     \n",
       "6486  1          0       1     \n",
       "8244  1          0       1     \n",
       "8335  1          0       1     \n",
       "8727  1          0       1     \n",
       "9772  0          0       1     "
      ]
     },
     "execution_count": 40,
     "metadata": {},
     "output_type": "execute_result"
    }
   ],
   "source": [
    "portrait_1 = df.query (\n",
    "    'male==1 and equity>=5 and score >= 750 and credit_card==0 and last_activity==1 and age>46 \\\n",
    "    and age<= 62 and products >= 3 and churn==1') \n",
    "portrait_1"
   ]
  },
  {
   "cell_type": "markdown",
   "id": "9f31dc1c",
   "metadata": {},
   "source": [
    "**Портрет №2**\n",
    "\n",
    "Пол: женский\n",
    "\n",
    "Возраст: 46-62\n",
    "\n",
    "Город: любой\n",
    "\n",
    "Количество баллов собственности: 5 и выше\n",
    "\n",
    "Баллы кредитного скоринга: 750 и выше\n",
    "\n",
    "Количество используемых продуктов: 3 и больше\n",
    "\n",
    "Наличие кредитной карты: нет\n",
    "\n",
    "Пользовательская активность: да"
   ]
  },
  {
   "cell_type": "code",
   "execution_count": 41,
   "id": "62fbfa52",
   "metadata": {},
   "outputs": [
    {
     "data": {
      "text/html": [
       "<div>\n",
       "<style scoped>\n",
       "    .dataframe tbody tr th:only-of-type {\n",
       "        vertical-align: middle;\n",
       "    }\n",
       "\n",
       "    .dataframe tbody tr th {\n",
       "        vertical-align: top;\n",
       "    }\n",
       "\n",
       "    .dataframe thead th {\n",
       "        text-align: right;\n",
       "    }\n",
       "</style>\n",
       "<table border=\"1\" class=\"dataframe\">\n",
       "  <thead>\n",
       "    <tr style=\"text-align: right;\">\n",
       "      <th></th>\n",
       "      <th>user_id</th>\n",
       "      <th>score</th>\n",
       "      <th>city</th>\n",
       "      <th>gender</th>\n",
       "      <th>age</th>\n",
       "      <th>equity</th>\n",
       "      <th>balance</th>\n",
       "      <th>products</th>\n",
       "      <th>credit_card</th>\n",
       "      <th>last_activity</th>\n",
       "      <th>est_salary</th>\n",
       "      <th>churn</th>\n",
       "      <th>Ростов</th>\n",
       "      <th>Рыбинск</th>\n",
       "      <th>Ярославль</th>\n",
       "      <th>female</th>\n",
       "      <th>male</th>\n",
       "    </tr>\n",
       "  </thead>\n",
       "  <tbody>\n",
       "    <tr>\n",
       "      <th>148</th>\n",
       "      <td>122,769.00</td>\n",
       "      <td>868.00</td>\n",
       "      <td>Ростов</td>\n",
       "      <td>Ж</td>\n",
       "      <td>58</td>\n",
       "      <td>5</td>\n",
       "      <td>1,334,745.59</td>\n",
       "      <td>4</td>\n",
       "      <td>0</td>\n",
       "      <td>1</td>\n",
       "      <td>63,049.60</td>\n",
       "      <td>1</td>\n",
       "      <td>1</td>\n",
       "      <td>0</td>\n",
       "      <td>0</td>\n",
       "      <td>1</td>\n",
       "      <td>0</td>\n",
       "    </tr>\n",
       "    <tr>\n",
       "      <th>859</th>\n",
       "      <td>177,840.00</td>\n",
       "      <td>802.00</td>\n",
       "      <td>Рыбинск</td>\n",
       "      <td>Ж</td>\n",
       "      <td>51</td>\n",
       "      <td>5</td>\n",
       "      <td>1,146,872.86</td>\n",
       "      <td>3</td>\n",
       "      <td>0</td>\n",
       "      <td>1</td>\n",
       "      <td>77,888.51</td>\n",
       "      <td>1</td>\n",
       "      <td>0</td>\n",
       "      <td>1</td>\n",
       "      <td>0</td>\n",
       "      <td>1</td>\n",
       "      <td>0</td>\n",
       "    </tr>\n",
       "    <tr>\n",
       "      <th>1205</th>\n",
       "      <td>213,664.00</td>\n",
       "      <td>807.00</td>\n",
       "      <td>Ярославль</td>\n",
       "      <td>Ж</td>\n",
       "      <td>54</td>\n",
       "      <td>5</td>\n",
       "      <td>478,592.43</td>\n",
       "      <td>3</td>\n",
       "      <td>0</td>\n",
       "      <td>1</td>\n",
       "      <td>64,332.46</td>\n",
       "      <td>1</td>\n",
       "      <td>0</td>\n",
       "      <td>0</td>\n",
       "      <td>1</td>\n",
       "      <td>1</td>\n",
       "      <td>0</td>\n",
       "    </tr>\n",
       "    <tr>\n",
       "      <th>3718</th>\n",
       "      <td>215,065.00</td>\n",
       "      <td>889.00</td>\n",
       "      <td>Ярославль</td>\n",
       "      <td>Ж</td>\n",
       "      <td>60</td>\n",
       "      <td>5</td>\n",
       "      <td>725,760.89</td>\n",
       "      <td>4</td>\n",
       "      <td>0</td>\n",
       "      <td>1</td>\n",
       "      <td>65,348.47</td>\n",
       "      <td>1</td>\n",
       "      <td>0</td>\n",
       "      <td>0</td>\n",
       "      <td>1</td>\n",
       "      <td>1</td>\n",
       "      <td>0</td>\n",
       "    </tr>\n",
       "    <tr>\n",
       "      <th>4134</th>\n",
       "      <td>129,750.00</td>\n",
       "      <td>856.00</td>\n",
       "      <td>Ярославль</td>\n",
       "      <td>Ж</td>\n",
       "      <td>52</td>\n",
       "      <td>5</td>\n",
       "      <td>1,700,165.08</td>\n",
       "      <td>4</td>\n",
       "      <td>0</td>\n",
       "      <td>1</td>\n",
       "      <td>153,066.02</td>\n",
       "      <td>1</td>\n",
       "      <td>0</td>\n",
       "      <td>0</td>\n",
       "      <td>1</td>\n",
       "      <td>1</td>\n",
       "      <td>0</td>\n",
       "    </tr>\n",
       "    <tr>\n",
       "      <th>4514</th>\n",
       "      <td>153,823.00</td>\n",
       "      <td>936.00</td>\n",
       "      <td>Ярославль</td>\n",
       "      <td>Ж</td>\n",
       "      <td>61</td>\n",
       "      <td>5</td>\n",
       "      <td>3,301,164.33</td>\n",
       "      <td>4</td>\n",
       "      <td>0</td>\n",
       "      <td>1</td>\n",
       "      <td>221,264.13</td>\n",
       "      <td>1</td>\n",
       "      <td>0</td>\n",
       "      <td>0</td>\n",
       "      <td>1</td>\n",
       "      <td>1</td>\n",
       "      <td>0</td>\n",
       "    </tr>\n",
       "    <tr>\n",
       "      <th>5016</th>\n",
       "      <td>140,474.00</td>\n",
       "      <td>885.00</td>\n",
       "      <td>Ярославль</td>\n",
       "      <td>Ж</td>\n",
       "      <td>55</td>\n",
       "      <td>5</td>\n",
       "      <td>1,316,966.94</td>\n",
       "      <td>3</td>\n",
       "      <td>0</td>\n",
       "      <td>1</td>\n",
       "      <td>97,938.30</td>\n",
       "      <td>1</td>\n",
       "      <td>0</td>\n",
       "      <td>0</td>\n",
       "      <td>1</td>\n",
       "      <td>1</td>\n",
       "      <td>0</td>\n",
       "    </tr>\n",
       "    <tr>\n",
       "      <th>6105</th>\n",
       "      <td>128,624.00</td>\n",
       "      <td>868.00</td>\n",
       "      <td>Ярославль</td>\n",
       "      <td>Ж</td>\n",
       "      <td>59</td>\n",
       "      <td>5</td>\n",
       "      <td>1,548,910.65</td>\n",
       "      <td>3</td>\n",
       "      <td>0</td>\n",
       "      <td>1</td>\n",
       "      <td>122,215.94</td>\n",
       "      <td>1</td>\n",
       "      <td>0</td>\n",
       "      <td>0</td>\n",
       "      <td>1</td>\n",
       "      <td>1</td>\n",
       "      <td>0</td>\n",
       "    </tr>\n",
       "    <tr>\n",
       "      <th>6697</th>\n",
       "      <td>217,564.00</td>\n",
       "      <td>751.00</td>\n",
       "      <td>Ярославль</td>\n",
       "      <td>Ж</td>\n",
       "      <td>58</td>\n",
       "      <td>5</td>\n",
       "      <td>364,867.65</td>\n",
       "      <td>3</td>\n",
       "      <td>0</td>\n",
       "      <td>1</td>\n",
       "      <td>68,001.69</td>\n",
       "      <td>1</td>\n",
       "      <td>0</td>\n",
       "      <td>0</td>\n",
       "      <td>1</td>\n",
       "      <td>1</td>\n",
       "      <td>0</td>\n",
       "    </tr>\n",
       "    <tr>\n",
       "      <th>7047</th>\n",
       "      <td>136,469.00</td>\n",
       "      <td>774.00</td>\n",
       "      <td>Ярославль</td>\n",
       "      <td>Ж</td>\n",
       "      <td>51</td>\n",
       "      <td>5</td>\n",
       "      <td>1,620,179.14</td>\n",
       "      <td>3</td>\n",
       "      <td>0</td>\n",
       "      <td>1</td>\n",
       "      <td>100,706.50</td>\n",
       "      <td>1</td>\n",
       "      <td>0</td>\n",
       "      <td>0</td>\n",
       "      <td>1</td>\n",
       "      <td>1</td>\n",
       "      <td>0</td>\n",
       "    </tr>\n",
       "    <tr>\n",
       "      <th>7328</th>\n",
       "      <td>137,543.00</td>\n",
       "      <td>862.00</td>\n",
       "      <td>Ярославль</td>\n",
       "      <td>Ж</td>\n",
       "      <td>56</td>\n",
       "      <td>5</td>\n",
       "      <td>942,423.50</td>\n",
       "      <td>3</td>\n",
       "      <td>0</td>\n",
       "      <td>1</td>\n",
       "      <td>63,417.52</td>\n",
       "      <td>1</td>\n",
       "      <td>0</td>\n",
       "      <td>0</td>\n",
       "      <td>1</td>\n",
       "      <td>1</td>\n",
       "      <td>0</td>\n",
       "    </tr>\n",
       "    <tr>\n",
       "      <th>7920</th>\n",
       "      <td>115,989.00</td>\n",
       "      <td>897.00</td>\n",
       "      <td>Ярославль</td>\n",
       "      <td>Ж</td>\n",
       "      <td>55</td>\n",
       "      <td>5</td>\n",
       "      <td>1,847,675.01</td>\n",
       "      <td>3</td>\n",
       "      <td>0</td>\n",
       "      <td>1</td>\n",
       "      <td>132,865.53</td>\n",
       "      <td>1</td>\n",
       "      <td>0</td>\n",
       "      <td>0</td>\n",
       "      <td>1</td>\n",
       "      <td>1</td>\n",
       "      <td>0</td>\n",
       "    </tr>\n",
       "    <tr>\n",
       "      <th>8057</th>\n",
       "      <td>205,634.00</td>\n",
       "      <td>933.00</td>\n",
       "      <td>Ярославль</td>\n",
       "      <td>Ж</td>\n",
       "      <td>51</td>\n",
       "      <td>5</td>\n",
       "      <td>1,449,619.59</td>\n",
       "      <td>3</td>\n",
       "      <td>0</td>\n",
       "      <td>1</td>\n",
       "      <td>306,330.62</td>\n",
       "      <td>1</td>\n",
       "      <td>0</td>\n",
       "      <td>0</td>\n",
       "      <td>1</td>\n",
       "      <td>1</td>\n",
       "      <td>0</td>\n",
       "    </tr>\n",
       "    <tr>\n",
       "      <th>8527</th>\n",
       "      <td>203,939.00</td>\n",
       "      <td>913.00</td>\n",
       "      <td>Ярославль</td>\n",
       "      <td>Ж</td>\n",
       "      <td>55</td>\n",
       "      <td>5</td>\n",
       "      <td>2,120,761.57</td>\n",
       "      <td>3</td>\n",
       "      <td>0</td>\n",
       "      <td>1</td>\n",
       "      <td>223,970.16</td>\n",
       "      <td>1</td>\n",
       "      <td>0</td>\n",
       "      <td>0</td>\n",
       "      <td>1</td>\n",
       "      <td>1</td>\n",
       "      <td>0</td>\n",
       "    </tr>\n",
       "    <tr>\n",
       "      <th>8591</th>\n",
       "      <td>129,511.00</td>\n",
       "      <td>923.00</td>\n",
       "      <td>Ярославль</td>\n",
       "      <td>Ж</td>\n",
       "      <td>59</td>\n",
       "      <td>5</td>\n",
       "      <td>1,411,835.48</td>\n",
       "      <td>3</td>\n",
       "      <td>0</td>\n",
       "      <td>1</td>\n",
       "      <td>128,120.37</td>\n",
       "      <td>1</td>\n",
       "      <td>0</td>\n",
       "      <td>0</td>\n",
       "      <td>1</td>\n",
       "      <td>1</td>\n",
       "      <td>0</td>\n",
       "    </tr>\n",
       "    <tr>\n",
       "      <th>8777</th>\n",
       "      <td>158,201.00</td>\n",
       "      <td>899.00</td>\n",
       "      <td>Рыбинск</td>\n",
       "      <td>Ж</td>\n",
       "      <td>50</td>\n",
       "      <td>5</td>\n",
       "      <td>1,347,272.29</td>\n",
       "      <td>4</td>\n",
       "      <td>0</td>\n",
       "      <td>1</td>\n",
       "      <td>149,392.35</td>\n",
       "      <td>1</td>\n",
       "      <td>0</td>\n",
       "      <td>1</td>\n",
       "      <td>0</td>\n",
       "      <td>1</td>\n",
       "      <td>0</td>\n",
       "    </tr>\n",
       "    <tr>\n",
       "      <th>9066</th>\n",
       "      <td>175,930.00</td>\n",
       "      <td>901.00</td>\n",
       "      <td>Ярославль</td>\n",
       "      <td>Ж</td>\n",
       "      <td>56</td>\n",
       "      <td>5</td>\n",
       "      <td>2,137,524.35</td>\n",
       "      <td>3</td>\n",
       "      <td>0</td>\n",
       "      <td>1</td>\n",
       "      <td>148,153.92</td>\n",
       "      <td>1</td>\n",
       "      <td>0</td>\n",
       "      <td>0</td>\n",
       "      <td>1</td>\n",
       "      <td>1</td>\n",
       "      <td>0</td>\n",
       "    </tr>\n",
       "  </tbody>\n",
       "</table>\n",
       "</div>"
      ],
      "text/plain": [
       "        user_id  score       city gender  age  equity      balance  products  \\\n",
       "148  122,769.00 868.00  Ростов     Ж      58   5      1,334,745.59  4          \n",
       "859  177,840.00 802.00  Рыбинск    Ж      51   5      1,146,872.86  3          \n",
       "1205 213,664.00 807.00  Ярославль  Ж      54   5      478,592.43    3          \n",
       "3718 215,065.00 889.00  Ярославль  Ж      60   5      725,760.89    4          \n",
       "4134 129,750.00 856.00  Ярославль  Ж      52   5      1,700,165.08  4          \n",
       "4514 153,823.00 936.00  Ярославль  Ж      61   5      3,301,164.33  4          \n",
       "5016 140,474.00 885.00  Ярославль  Ж      55   5      1,316,966.94  3          \n",
       "6105 128,624.00 868.00  Ярославль  Ж      59   5      1,548,910.65  3          \n",
       "6697 217,564.00 751.00  Ярославль  Ж      58   5      364,867.65    3          \n",
       "7047 136,469.00 774.00  Ярославль  Ж      51   5      1,620,179.14  3          \n",
       "7328 137,543.00 862.00  Ярославль  Ж      56   5      942,423.50    3          \n",
       "7920 115,989.00 897.00  Ярославль  Ж      55   5      1,847,675.01  3          \n",
       "8057 205,634.00 933.00  Ярославль  Ж      51   5      1,449,619.59  3          \n",
       "8527 203,939.00 913.00  Ярославль  Ж      55   5      2,120,761.57  3          \n",
       "8591 129,511.00 923.00  Ярославль  Ж      59   5      1,411,835.48  3          \n",
       "8777 158,201.00 899.00  Рыбинск    Ж      50   5      1,347,272.29  4          \n",
       "9066 175,930.00 901.00  Ярославль  Ж      56   5      2,137,524.35  3          \n",
       "\n",
       "      credit_card  last_activity  est_salary  churn  Ростов  Рыбинск  \\\n",
       "148   0            1             63,049.60    1      1       0         \n",
       "859   0            1             77,888.51    1      0       1         \n",
       "1205  0            1             64,332.46    1      0       0         \n",
       "3718  0            1             65,348.47    1      0       0         \n",
       "4134  0            1             153,066.02   1      0       0         \n",
       "4514  0            1             221,264.13   1      0       0         \n",
       "5016  0            1             97,938.30    1      0       0         \n",
       "6105  0            1             122,215.94   1      0       0         \n",
       "6697  0            1             68,001.69    1      0       0         \n",
       "7047  0            1             100,706.50   1      0       0         \n",
       "7328  0            1             63,417.52    1      0       0         \n",
       "7920  0            1             132,865.53   1      0       0         \n",
       "8057  0            1             306,330.62   1      0       0         \n",
       "8527  0            1             223,970.16   1      0       0         \n",
       "8591  0            1             128,120.37   1      0       0         \n",
       "8777  0            1             149,392.35   1      0       1         \n",
       "9066  0            1             148,153.92   1      0       0         \n",
       "\n",
       "      Ярославль  female  male  \n",
       "148   0          1       0     \n",
       "859   0          1       0     \n",
       "1205  1          1       0     \n",
       "3718  1          1       0     \n",
       "4134  1          1       0     \n",
       "4514  1          1       0     \n",
       "5016  1          1       0     \n",
       "6105  1          1       0     \n",
       "6697  1          1       0     \n",
       "7047  1          1       0     \n",
       "7328  1          1       0     \n",
       "7920  1          1       0     \n",
       "8057  1          1       0     \n",
       "8527  1          1       0     \n",
       "8591  1          1       0     \n",
       "8777  0          1       0     \n",
       "9066  1          1       0     "
      ]
     },
     "execution_count": 41,
     "metadata": {},
     "output_type": "execute_result"
    }
   ],
   "source": [
    "portrait_2 = df.query (\n",
    "    'female==1 and equity>=5 and score >= 750 and credit_card==0 and last_activity==1 and age>46 \\\n",
    "    and age<= 62 and products >= 3 and churn==1') \n",
    "portrait_2"
   ]
  },
  {
   "cell_type": "markdown",
   "id": "cba11b7d",
   "metadata": {},
   "source": [
    "**Портрет №3**\n",
    "\n",
    "Пол: любой\n",
    "\n",
    "Возраст: от 46 до 62\n",
    "\n",
    "Город: любой\n",
    "\n",
    "Количество баллов собственности: менее 5\n",
    "\n",
    "Баллы кредитного скоринга: 750 и выше\n",
    "\n",
    "Количество используемых продуктов: 3 и больше\n",
    "\n",
    "Наличие кредитной карты: нет\n",
    "\n",
    "Пользовательская активность: да"
   ]
  },
  {
   "cell_type": "code",
   "execution_count": 42,
   "id": "656c4d86",
   "metadata": {},
   "outputs": [
    {
     "data": {
      "text/html": [
       "<div>\n",
       "<style scoped>\n",
       "    .dataframe tbody tr th:only-of-type {\n",
       "        vertical-align: middle;\n",
       "    }\n",
       "\n",
       "    .dataframe tbody tr th {\n",
       "        vertical-align: top;\n",
       "    }\n",
       "\n",
       "    .dataframe thead th {\n",
       "        text-align: right;\n",
       "    }\n",
       "</style>\n",
       "<table border=\"1\" class=\"dataframe\">\n",
       "  <thead>\n",
       "    <tr style=\"text-align: right;\">\n",
       "      <th></th>\n",
       "      <th>user_id</th>\n",
       "      <th>score</th>\n",
       "      <th>city</th>\n",
       "      <th>gender</th>\n",
       "      <th>age</th>\n",
       "      <th>equity</th>\n",
       "      <th>balance</th>\n",
       "      <th>products</th>\n",
       "      <th>credit_card</th>\n",
       "      <th>last_activity</th>\n",
       "      <th>est_salary</th>\n",
       "      <th>churn</th>\n",
       "      <th>Ростов</th>\n",
       "      <th>Рыбинск</th>\n",
       "      <th>Ярославль</th>\n",
       "      <th>female</th>\n",
       "      <th>male</th>\n",
       "    </tr>\n",
       "  </thead>\n",
       "  <tbody>\n",
       "    <tr>\n",
       "      <th>927</th>\n",
       "      <td>142,574.00</td>\n",
       "      <td>908.00</td>\n",
       "      <td>Ярославль</td>\n",
       "      <td>Ж</td>\n",
       "      <td>56</td>\n",
       "      <td>4</td>\n",
       "      <td>1,169,266.23</td>\n",
       "      <td>3</td>\n",
       "      <td>0</td>\n",
       "      <td>1</td>\n",
       "      <td>195,082.49</td>\n",
       "      <td>1</td>\n",
       "      <td>0</td>\n",
       "      <td>0</td>\n",
       "      <td>1</td>\n",
       "      <td>1</td>\n",
       "      <td>0</td>\n",
       "    </tr>\n",
       "    <tr>\n",
       "      <th>1359</th>\n",
       "      <td>186,222.00</td>\n",
       "      <td>833.00</td>\n",
       "      <td>Ярославль</td>\n",
       "      <td>М</td>\n",
       "      <td>55</td>\n",
       "      <td>3</td>\n",
       "      <td>1,231,184.90</td>\n",
       "      <td>4</td>\n",
       "      <td>0</td>\n",
       "      <td>1</td>\n",
       "      <td>187,758.38</td>\n",
       "      <td>1</td>\n",
       "      <td>0</td>\n",
       "      <td>0</td>\n",
       "      <td>1</td>\n",
       "      <td>0</td>\n",
       "      <td>1</td>\n",
       "    </tr>\n",
       "    <tr>\n",
       "      <th>1748</th>\n",
       "      <td>162,532.00</td>\n",
       "      <td>832.00</td>\n",
       "      <td>Ярославль</td>\n",
       "      <td>Ж</td>\n",
       "      <td>46</td>\n",
       "      <td>2</td>\n",
       "      <td>395,500.59</td>\n",
       "      <td>3</td>\n",
       "      <td>0</td>\n",
       "      <td>1</td>\n",
       "      <td>137,406.75</td>\n",
       "      <td>1</td>\n",
       "      <td>0</td>\n",
       "      <td>0</td>\n",
       "      <td>1</td>\n",
       "      <td>1</td>\n",
       "      <td>0</td>\n",
       "    </tr>\n",
       "    <tr>\n",
       "      <th>1851</th>\n",
       "      <td>156,107.00</td>\n",
       "      <td>837.00</td>\n",
       "      <td>Ярославль</td>\n",
       "      <td>М</td>\n",
       "      <td>53</td>\n",
       "      <td>3</td>\n",
       "      <td>1,404,105.68</td>\n",
       "      <td>3</td>\n",
       "      <td>0</td>\n",
       "      <td>1</td>\n",
       "      <td>174,439.78</td>\n",
       "      <td>1</td>\n",
       "      <td>0</td>\n",
       "      <td>0</td>\n",
       "      <td>1</td>\n",
       "      <td>0</td>\n",
       "      <td>1</td>\n",
       "    </tr>\n",
       "    <tr>\n",
       "      <th>1893</th>\n",
       "      <td>214,292.00</td>\n",
       "      <td>883.00</td>\n",
       "      <td>Рыбинск</td>\n",
       "      <td>Ж</td>\n",
       "      <td>55</td>\n",
       "      <td>1</td>\n",
       "      <td>362,756.49</td>\n",
       "      <td>3</td>\n",
       "      <td>0</td>\n",
       "      <td>1</td>\n",
       "      <td>175,920.48</td>\n",
       "      <td>1</td>\n",
       "      <td>0</td>\n",
       "      <td>1</td>\n",
       "      <td>0</td>\n",
       "      <td>1</td>\n",
       "      <td>0</td>\n",
       "    </tr>\n",
       "    <tr>\n",
       "      <th>2236</th>\n",
       "      <td>168,914.00</td>\n",
       "      <td>810.00</td>\n",
       "      <td>Ярославль</td>\n",
       "      <td>М</td>\n",
       "      <td>54</td>\n",
       "      <td>4</td>\n",
       "      <td>761,640.30</td>\n",
       "      <td>3</td>\n",
       "      <td>0</td>\n",
       "      <td>1</td>\n",
       "      <td>37,346.60</td>\n",
       "      <td>1</td>\n",
       "      <td>0</td>\n",
       "      <td>0</td>\n",
       "      <td>1</td>\n",
       "      <td>0</td>\n",
       "      <td>1</td>\n",
       "    </tr>\n",
       "    <tr>\n",
       "      <th>2594</th>\n",
       "      <td>225,743.00</td>\n",
       "      <td>804.00</td>\n",
       "      <td>Ярославль</td>\n",
       "      <td>Ж</td>\n",
       "      <td>48</td>\n",
       "      <td>4</td>\n",
       "      <td>911,148.51</td>\n",
       "      <td>3</td>\n",
       "      <td>0</td>\n",
       "      <td>1</td>\n",
       "      <td>81,718.23</td>\n",
       "      <td>1</td>\n",
       "      <td>0</td>\n",
       "      <td>0</td>\n",
       "      <td>1</td>\n",
       "      <td>1</td>\n",
       "      <td>0</td>\n",
       "    </tr>\n",
       "    <tr>\n",
       "      <th>2911</th>\n",
       "      <td>162,662.00</td>\n",
       "      <td>905.00</td>\n",
       "      <td>Ярославль</td>\n",
       "      <td>Ж</td>\n",
       "      <td>52</td>\n",
       "      <td>3</td>\n",
       "      <td>1,383,614.66</td>\n",
       "      <td>4</td>\n",
       "      <td>0</td>\n",
       "      <td>1</td>\n",
       "      <td>124,762.54</td>\n",
       "      <td>1</td>\n",
       "      <td>0</td>\n",
       "      <td>0</td>\n",
       "      <td>1</td>\n",
       "      <td>1</td>\n",
       "      <td>0</td>\n",
       "    </tr>\n",
       "    <tr>\n",
       "      <th>3020</th>\n",
       "      <td>121,287.00</td>\n",
       "      <td>926.00</td>\n",
       "      <td>Ярославль</td>\n",
       "      <td>Ж</td>\n",
       "      <td>52</td>\n",
       "      <td>4</td>\n",
       "      <td>2,488,753.54</td>\n",
       "      <td>3</td>\n",
       "      <td>0</td>\n",
       "      <td>1</td>\n",
       "      <td>156,934.62</td>\n",
       "      <td>1</td>\n",
       "      <td>0</td>\n",
       "      <td>0</td>\n",
       "      <td>1</td>\n",
       "      <td>1</td>\n",
       "      <td>0</td>\n",
       "    </tr>\n",
       "    <tr>\n",
       "      <th>3035</th>\n",
       "      <td>120,417.00</td>\n",
       "      <td>881.00</td>\n",
       "      <td>Ярославль</td>\n",
       "      <td>Ж</td>\n",
       "      <td>50</td>\n",
       "      <td>4</td>\n",
       "      <td>511,237.34</td>\n",
       "      <td>3</td>\n",
       "      <td>0</td>\n",
       "      <td>1</td>\n",
       "      <td>161,387.90</td>\n",
       "      <td>1</td>\n",
       "      <td>0</td>\n",
       "      <td>0</td>\n",
       "      <td>1</td>\n",
       "      <td>1</td>\n",
       "      <td>0</td>\n",
       "    </tr>\n",
       "    <tr>\n",
       "      <th>3135</th>\n",
       "      <td>211,270.00</td>\n",
       "      <td>889.00</td>\n",
       "      <td>Рыбинск</td>\n",
       "      <td>Ж</td>\n",
       "      <td>55</td>\n",
       "      <td>4</td>\n",
       "      <td>1,792,087.10</td>\n",
       "      <td>4</td>\n",
       "      <td>0</td>\n",
       "      <td>1</td>\n",
       "      <td>148,419.59</td>\n",
       "      <td>1</td>\n",
       "      <td>0</td>\n",
       "      <td>1</td>\n",
       "      <td>0</td>\n",
       "      <td>1</td>\n",
       "      <td>0</td>\n",
       "    </tr>\n",
       "    <tr>\n",
       "      <th>3447</th>\n",
       "      <td>208,693.00</td>\n",
       "      <td>796.00</td>\n",
       "      <td>Ярославль</td>\n",
       "      <td>Ж</td>\n",
       "      <td>58</td>\n",
       "      <td>3</td>\n",
       "      <td>289,006.45</td>\n",
       "      <td>3</td>\n",
       "      <td>0</td>\n",
       "      <td>1</td>\n",
       "      <td>66,488.64</td>\n",
       "      <td>1</td>\n",
       "      <td>0</td>\n",
       "      <td>0</td>\n",
       "      <td>1</td>\n",
       "      <td>1</td>\n",
       "      <td>0</td>\n",
       "    </tr>\n",
       "    <tr>\n",
       "      <th>4251</th>\n",
       "      <td>156,013.00</td>\n",
       "      <td>864.00</td>\n",
       "      <td>Ярославль</td>\n",
       "      <td>М</td>\n",
       "      <td>58</td>\n",
       "      <td>3</td>\n",
       "      <td>1,500,606.59</td>\n",
       "      <td>3</td>\n",
       "      <td>0</td>\n",
       "      <td>1</td>\n",
       "      <td>77,596.79</td>\n",
       "      <td>1</td>\n",
       "      <td>0</td>\n",
       "      <td>0</td>\n",
       "      <td>1</td>\n",
       "      <td>0</td>\n",
       "      <td>1</td>\n",
       "    </tr>\n",
       "    <tr>\n",
       "      <th>4453</th>\n",
       "      <td>227,618.00</td>\n",
       "      <td>855.00</td>\n",
       "      <td>Ярославль</td>\n",
       "      <td>Ж</td>\n",
       "      <td>57</td>\n",
       "      <td>4</td>\n",
       "      <td>1,424,358.89</td>\n",
       "      <td>3</td>\n",
       "      <td>0</td>\n",
       "      <td>1</td>\n",
       "      <td>151,093.73</td>\n",
       "      <td>1</td>\n",
       "      <td>0</td>\n",
       "      <td>0</td>\n",
       "      <td>1</td>\n",
       "      <td>1</td>\n",
       "      <td>0</td>\n",
       "    </tr>\n",
       "    <tr>\n",
       "      <th>4495</th>\n",
       "      <td>174,768.00</td>\n",
       "      <td>825.00</td>\n",
       "      <td>Ярославль</td>\n",
       "      <td>Ж</td>\n",
       "      <td>51</td>\n",
       "      <td>4</td>\n",
       "      <td>1,358,259.18</td>\n",
       "      <td>3</td>\n",
       "      <td>0</td>\n",
       "      <td>1</td>\n",
       "      <td>68,801.38</td>\n",
       "      <td>1</td>\n",
       "      <td>0</td>\n",
       "      <td>0</td>\n",
       "      <td>1</td>\n",
       "      <td>1</td>\n",
       "      <td>0</td>\n",
       "    </tr>\n",
       "    <tr>\n",
       "      <th>4702</th>\n",
       "      <td>100,300.00</td>\n",
       "      <td>859.00</td>\n",
       "      <td>Ярославль</td>\n",
       "      <td>Ж</td>\n",
       "      <td>48</td>\n",
       "      <td>4</td>\n",
       "      <td>1,913,593.94</td>\n",
       "      <td>3</td>\n",
       "      <td>0</td>\n",
       "      <td>1</td>\n",
       "      <td>135,302.56</td>\n",
       "      <td>1</td>\n",
       "      <td>0</td>\n",
       "      <td>0</td>\n",
       "      <td>1</td>\n",
       "      <td>1</td>\n",
       "      <td>0</td>\n",
       "    </tr>\n",
       "    <tr>\n",
       "      <th>4716</th>\n",
       "      <td>185,337.00</td>\n",
       "      <td>862.00</td>\n",
       "      <td>Ярославль</td>\n",
       "      <td>Ж</td>\n",
       "      <td>53</td>\n",
       "      <td>2</td>\n",
       "      <td>538,311.23</td>\n",
       "      <td>3</td>\n",
       "      <td>0</td>\n",
       "      <td>1</td>\n",
       "      <td>125,422.54</td>\n",
       "      <td>1</td>\n",
       "      <td>0</td>\n",
       "      <td>0</td>\n",
       "      <td>1</td>\n",
       "      <td>1</td>\n",
       "      <td>0</td>\n",
       "    </tr>\n",
       "    <tr>\n",
       "      <th>4792</th>\n",
       "      <td>166,914.00</td>\n",
       "      <td>924.00</td>\n",
       "      <td>Ярославль</td>\n",
       "      <td>М</td>\n",
       "      <td>61</td>\n",
       "      <td>4</td>\n",
       "      <td>3,658,259.74</td>\n",
       "      <td>3</td>\n",
       "      <td>0</td>\n",
       "      <td>1</td>\n",
       "      <td>189,065.93</td>\n",
       "      <td>1</td>\n",
       "      <td>0</td>\n",
       "      <td>0</td>\n",
       "      <td>1</td>\n",
       "      <td>0</td>\n",
       "      <td>1</td>\n",
       "    </tr>\n",
       "    <tr>\n",
       "      <th>5464</th>\n",
       "      <td>213,516.00</td>\n",
       "      <td>841.00</td>\n",
       "      <td>Ярославль</td>\n",
       "      <td>М</td>\n",
       "      <td>52</td>\n",
       "      <td>4</td>\n",
       "      <td>587,295.99</td>\n",
       "      <td>4</td>\n",
       "      <td>0</td>\n",
       "      <td>1</td>\n",
       "      <td>70,664.20</td>\n",
       "      <td>1</td>\n",
       "      <td>0</td>\n",
       "      <td>0</td>\n",
       "      <td>1</td>\n",
       "      <td>0</td>\n",
       "      <td>1</td>\n",
       "    </tr>\n",
       "    <tr>\n",
       "      <th>5764</th>\n",
       "      <td>152,085.00</td>\n",
       "      <td>875.00</td>\n",
       "      <td>Ярославль</td>\n",
       "      <td>М</td>\n",
       "      <td>54</td>\n",
       "      <td>4</td>\n",
       "      <td>3,680,351.98</td>\n",
       "      <td>3</td>\n",
       "      <td>0</td>\n",
       "      <td>1</td>\n",
       "      <td>173,790.63</td>\n",
       "      <td>1</td>\n",
       "      <td>0</td>\n",
       "      <td>0</td>\n",
       "      <td>1</td>\n",
       "      <td>0</td>\n",
       "      <td>1</td>\n",
       "    </tr>\n",
       "    <tr>\n",
       "      <th>6469</th>\n",
       "      <td>141,117.00</td>\n",
       "      <td>857.00</td>\n",
       "      <td>Ярославль</td>\n",
       "      <td>М</td>\n",
       "      <td>60</td>\n",
       "      <td>4</td>\n",
       "      <td>1,346,008.00</td>\n",
       "      <td>3</td>\n",
       "      <td>0</td>\n",
       "      <td>1</td>\n",
       "      <td>149,902.20</td>\n",
       "      <td>1</td>\n",
       "      <td>0</td>\n",
       "      <td>0</td>\n",
       "      <td>1</td>\n",
       "      <td>0</td>\n",
       "      <td>1</td>\n",
       "    </tr>\n",
       "    <tr>\n",
       "      <th>6622</th>\n",
       "      <td>123,325.00</td>\n",
       "      <td>831.00</td>\n",
       "      <td>Ярославль</td>\n",
       "      <td>Ж</td>\n",
       "      <td>60</td>\n",
       "      <td>3</td>\n",
       "      <td>346,457.77</td>\n",
       "      <td>3</td>\n",
       "      <td>0</td>\n",
       "      <td>1</td>\n",
       "      <td>75,518.63</td>\n",
       "      <td>1</td>\n",
       "      <td>0</td>\n",
       "      <td>0</td>\n",
       "      <td>1</td>\n",
       "      <td>1</td>\n",
       "      <td>0</td>\n",
       "    </tr>\n",
       "    <tr>\n",
       "      <th>6733</th>\n",
       "      <td>150,990.00</td>\n",
       "      <td>842.00</td>\n",
       "      <td>Ярославль</td>\n",
       "      <td>Ж</td>\n",
       "      <td>46</td>\n",
       "      <td>3</td>\n",
       "      <td>608,998.96</td>\n",
       "      <td>3</td>\n",
       "      <td>0</td>\n",
       "      <td>1</td>\n",
       "      <td>139,348.81</td>\n",
       "      <td>1</td>\n",
       "      <td>0</td>\n",
       "      <td>0</td>\n",
       "      <td>1</td>\n",
       "      <td>1</td>\n",
       "      <td>0</td>\n",
       "    </tr>\n",
       "    <tr>\n",
       "      <th>7016</th>\n",
       "      <td>139,950.00</td>\n",
       "      <td>844.00</td>\n",
       "      <td>Ярославль</td>\n",
       "      <td>Ж</td>\n",
       "      <td>49</td>\n",
       "      <td>3</td>\n",
       "      <td>415,599.26</td>\n",
       "      <td>3</td>\n",
       "      <td>0</td>\n",
       "      <td>1</td>\n",
       "      <td>162,015.50</td>\n",
       "      <td>1</td>\n",
       "      <td>0</td>\n",
       "      <td>0</td>\n",
       "      <td>1</td>\n",
       "      <td>1</td>\n",
       "      <td>0</td>\n",
       "    </tr>\n",
       "    <tr>\n",
       "      <th>8165</th>\n",
       "      <td>207,327.00</td>\n",
       "      <td>877.00</td>\n",
       "      <td>Ярославль</td>\n",
       "      <td>М</td>\n",
       "      <td>57</td>\n",
       "      <td>3</td>\n",
       "      <td>2,097,428.99</td>\n",
       "      <td>3</td>\n",
       "      <td>0</td>\n",
       "      <td>1</td>\n",
       "      <td>143,016.48</td>\n",
       "      <td>1</td>\n",
       "      <td>0</td>\n",
       "      <td>0</td>\n",
       "      <td>1</td>\n",
       "      <td>0</td>\n",
       "      <td>1</td>\n",
       "    </tr>\n",
       "    <tr>\n",
       "      <th>8524</th>\n",
       "      <td>213,194.00</td>\n",
       "      <td>802.00</td>\n",
       "      <td>Рыбинск</td>\n",
       "      <td>Ж</td>\n",
       "      <td>48</td>\n",
       "      <td>0</td>\n",
       "      <td>191,193.64</td>\n",
       "      <td>4</td>\n",
       "      <td>0</td>\n",
       "      <td>1</td>\n",
       "      <td>76,021.70</td>\n",
       "      <td>1</td>\n",
       "      <td>0</td>\n",
       "      <td>1</td>\n",
       "      <td>0</td>\n",
       "      <td>1</td>\n",
       "      <td>0</td>\n",
       "    </tr>\n",
       "    <tr>\n",
       "      <th>8633</th>\n",
       "      <td>226,713.00</td>\n",
       "      <td>858.00</td>\n",
       "      <td>Ярославль</td>\n",
       "      <td>Ж</td>\n",
       "      <td>58</td>\n",
       "      <td>3</td>\n",
       "      <td>749,256.43</td>\n",
       "      <td>3</td>\n",
       "      <td>0</td>\n",
       "      <td>1</td>\n",
       "      <td>171,476.20</td>\n",
       "      <td>1</td>\n",
       "      <td>0</td>\n",
       "      <td>0</td>\n",
       "      <td>1</td>\n",
       "      <td>1</td>\n",
       "      <td>0</td>\n",
       "    </tr>\n",
       "    <tr>\n",
       "      <th>8846</th>\n",
       "      <td>129,221.00</td>\n",
       "      <td>869.00</td>\n",
       "      <td>Ярославль</td>\n",
       "      <td>М</td>\n",
       "      <td>53</td>\n",
       "      <td>4</td>\n",
       "      <td>3,821,282.25</td>\n",
       "      <td>3</td>\n",
       "      <td>0</td>\n",
       "      <td>1</td>\n",
       "      <td>102,345.51</td>\n",
       "      <td>1</td>\n",
       "      <td>0</td>\n",
       "      <td>0</td>\n",
       "      <td>1</td>\n",
       "      <td>0</td>\n",
       "      <td>1</td>\n",
       "    </tr>\n",
       "    <tr>\n",
       "      <th>9053</th>\n",
       "      <td>134,847.00</td>\n",
       "      <td>908.00</td>\n",
       "      <td>Ярославль</td>\n",
       "      <td>Ж</td>\n",
       "      <td>61</td>\n",
       "      <td>4</td>\n",
       "      <td>727,516.28</td>\n",
       "      <td>3</td>\n",
       "      <td>0</td>\n",
       "      <td>1</td>\n",
       "      <td>121,542.35</td>\n",
       "      <td>1</td>\n",
       "      <td>0</td>\n",
       "      <td>0</td>\n",
       "      <td>1</td>\n",
       "      <td>1</td>\n",
       "      <td>0</td>\n",
       "    </tr>\n",
       "    <tr>\n",
       "      <th>9242</th>\n",
       "      <td>168,360.00</td>\n",
       "      <td>847.00</td>\n",
       "      <td>Ярославль</td>\n",
       "      <td>М</td>\n",
       "      <td>60</td>\n",
       "      <td>4</td>\n",
       "      <td>572,145.74</td>\n",
       "      <td>3</td>\n",
       "      <td>0</td>\n",
       "      <td>1</td>\n",
       "      <td>76,956.72</td>\n",
       "      <td>1</td>\n",
       "      <td>0</td>\n",
       "      <td>0</td>\n",
       "      <td>1</td>\n",
       "      <td>0</td>\n",
       "      <td>1</td>\n",
       "    </tr>\n",
       "  </tbody>\n",
       "</table>\n",
       "</div>"
      ],
      "text/plain": [
       "        user_id  score       city gender  age  equity      balance  products  \\\n",
       "927  142,574.00 908.00  Ярославль  Ж      56   4      1,169,266.23  3          \n",
       "1359 186,222.00 833.00  Ярославль  М      55   3      1,231,184.90  4          \n",
       "1748 162,532.00 832.00  Ярославль  Ж      46   2      395,500.59    3          \n",
       "1851 156,107.00 837.00  Ярославль  М      53   3      1,404,105.68  3          \n",
       "1893 214,292.00 883.00  Рыбинск    Ж      55   1      362,756.49    3          \n",
       "2236 168,914.00 810.00  Ярославль  М      54   4      761,640.30    3          \n",
       "2594 225,743.00 804.00  Ярославль  Ж      48   4      911,148.51    3          \n",
       "2911 162,662.00 905.00  Ярославль  Ж      52   3      1,383,614.66  4          \n",
       "3020 121,287.00 926.00  Ярославль  Ж      52   4      2,488,753.54  3          \n",
       "3035 120,417.00 881.00  Ярославль  Ж      50   4      511,237.34    3          \n",
       "3135 211,270.00 889.00  Рыбинск    Ж      55   4      1,792,087.10  4          \n",
       "3447 208,693.00 796.00  Ярославль  Ж      58   3      289,006.45    3          \n",
       "4251 156,013.00 864.00  Ярославль  М      58   3      1,500,606.59  3          \n",
       "4453 227,618.00 855.00  Ярославль  Ж      57   4      1,424,358.89  3          \n",
       "4495 174,768.00 825.00  Ярославль  Ж      51   4      1,358,259.18  3          \n",
       "4702 100,300.00 859.00  Ярославль  Ж      48   4      1,913,593.94  3          \n",
       "4716 185,337.00 862.00  Ярославль  Ж      53   2      538,311.23    3          \n",
       "4792 166,914.00 924.00  Ярославль  М      61   4      3,658,259.74  3          \n",
       "5464 213,516.00 841.00  Ярославль  М      52   4      587,295.99    4          \n",
       "5764 152,085.00 875.00  Ярославль  М      54   4      3,680,351.98  3          \n",
       "6469 141,117.00 857.00  Ярославль  М      60   4      1,346,008.00  3          \n",
       "6622 123,325.00 831.00  Ярославль  Ж      60   3      346,457.77    3          \n",
       "6733 150,990.00 842.00  Ярославль  Ж      46   3      608,998.96    3          \n",
       "7016 139,950.00 844.00  Ярославль  Ж      49   3      415,599.26    3          \n",
       "8165 207,327.00 877.00  Ярославль  М      57   3      2,097,428.99  3          \n",
       "8524 213,194.00 802.00  Рыбинск    Ж      48   0      191,193.64    4          \n",
       "8633 226,713.00 858.00  Ярославль  Ж      58   3      749,256.43    3          \n",
       "8846 129,221.00 869.00  Ярославль  М      53   4      3,821,282.25  3          \n",
       "9053 134,847.00 908.00  Ярославль  Ж      61   4      727,516.28    3          \n",
       "9242 168,360.00 847.00  Ярославль  М      60   4      572,145.74    3          \n",
       "\n",
       "      credit_card  last_activity  est_salary  churn  Ростов  Рыбинск  \\\n",
       "927   0            1             195,082.49   1      0       0         \n",
       "1359  0            1             187,758.38   1      0       0         \n",
       "1748  0            1             137,406.75   1      0       0         \n",
       "1851  0            1             174,439.78   1      0       0         \n",
       "1893  0            1             175,920.48   1      0       1         \n",
       "2236  0            1             37,346.60    1      0       0         \n",
       "2594  0            1             81,718.23    1      0       0         \n",
       "2911  0            1             124,762.54   1      0       0         \n",
       "3020  0            1             156,934.62   1      0       0         \n",
       "3035  0            1             161,387.90   1      0       0         \n",
       "3135  0            1             148,419.59   1      0       1         \n",
       "3447  0            1             66,488.64    1      0       0         \n",
       "4251  0            1             77,596.79    1      0       0         \n",
       "4453  0            1             151,093.73   1      0       0         \n",
       "4495  0            1             68,801.38    1      0       0         \n",
       "4702  0            1             135,302.56   1      0       0         \n",
       "4716  0            1             125,422.54   1      0       0         \n",
       "4792  0            1             189,065.93   1      0       0         \n",
       "5464  0            1             70,664.20    1      0       0         \n",
       "5764  0            1             173,790.63   1      0       0         \n",
       "6469  0            1             149,902.20   1      0       0         \n",
       "6622  0            1             75,518.63    1      0       0         \n",
       "6733  0            1             139,348.81   1      0       0         \n",
       "7016  0            1             162,015.50   1      0       0         \n",
       "8165  0            1             143,016.48   1      0       0         \n",
       "8524  0            1             76,021.70    1      0       1         \n",
       "8633  0            1             171,476.20   1      0       0         \n",
       "8846  0            1             102,345.51   1      0       0         \n",
       "9053  0            1             121,542.35   1      0       0         \n",
       "9242  0            1             76,956.72    1      0       0         \n",
       "\n",
       "      Ярославль  female  male  \n",
       "927   1          1       0     \n",
       "1359  1          0       1     \n",
       "1748  1          1       0     \n",
       "1851  1          0       1     \n",
       "1893  0          1       0     \n",
       "2236  1          0       1     \n",
       "2594  1          1       0     \n",
       "2911  1          1       0     \n",
       "3020  1          1       0     \n",
       "3035  1          1       0     \n",
       "3135  0          1       0     \n",
       "3447  1          1       0     \n",
       "4251  1          0       1     \n",
       "4453  1          1       0     \n",
       "4495  1          1       0     \n",
       "4702  1          1       0     \n",
       "4716  1          1       0     \n",
       "4792  1          0       1     \n",
       "5464  1          0       1     \n",
       "5764  1          0       1     \n",
       "6469  1          0       1     \n",
       "6622  1          1       0     \n",
       "6733  1          1       0     \n",
       "7016  1          1       0     \n",
       "8165  1          0       1     \n",
       "8524  0          1       0     \n",
       "8633  1          1       0     \n",
       "8846  1          0       1     \n",
       "9053  1          1       0     \n",
       "9242  1          0       1     "
      ]
     },
     "execution_count": 42,
     "metadata": {},
     "output_type": "execute_result"
    }
   ],
   "source": [
    "portrait_3 = df.query (\n",
    "    'score >= 750 and credit_card==0 and equity < 5 and last_activity==1 and age>=46 \\\n",
    "    and age <62 and products >= 3 and churn==1') \n",
    "portrait_3"
   ]
  },
  {
   "cell_type": "markdown",
   "id": "972b4968",
   "metadata": {},
   "source": [
    "**Портрет №4**\n",
    "\n",
    "Пол: любой\n",
    "\n",
    "Возраст: от 25 до 45\n",
    "\n",
    "Город: любой\n",
    "\n",
    "Количество баллов собственности: 5 и выше\n",
    "\n",
    "Баллы кредитного скоринга: 750 и выше\n",
    "\n",
    "Количество используемых продуктов: 3 и больше\n",
    "\n",
    "Наличие кредитной карты: нет\n",
    "\n",
    "Пользовательская активность: да"
   ]
  },
  {
   "cell_type": "code",
   "execution_count": 43,
   "id": "21ef4a41",
   "metadata": {},
   "outputs": [
    {
     "data": {
      "text/html": [
       "<div>\n",
       "<style scoped>\n",
       "    .dataframe tbody tr th:only-of-type {\n",
       "        vertical-align: middle;\n",
       "    }\n",
       "\n",
       "    .dataframe tbody tr th {\n",
       "        vertical-align: top;\n",
       "    }\n",
       "\n",
       "    .dataframe thead th {\n",
       "        text-align: right;\n",
       "    }\n",
       "</style>\n",
       "<table border=\"1\" class=\"dataframe\">\n",
       "  <thead>\n",
       "    <tr style=\"text-align: right;\">\n",
       "      <th></th>\n",
       "      <th>user_id</th>\n",
       "      <th>score</th>\n",
       "      <th>city</th>\n",
       "      <th>gender</th>\n",
       "      <th>age</th>\n",
       "      <th>equity</th>\n",
       "      <th>balance</th>\n",
       "      <th>products</th>\n",
       "      <th>credit_card</th>\n",
       "      <th>last_activity</th>\n",
       "      <th>est_salary</th>\n",
       "      <th>churn</th>\n",
       "      <th>Ростов</th>\n",
       "      <th>Рыбинск</th>\n",
       "      <th>Ярославль</th>\n",
       "      <th>female</th>\n",
       "      <th>male</th>\n",
       "    </tr>\n",
       "  </thead>\n",
       "  <tbody>\n",
       "    <tr>\n",
       "      <th>177</th>\n",
       "      <td>147,950.00</td>\n",
       "      <td>899.00</td>\n",
       "      <td>Ярославль</td>\n",
       "      <td>М</td>\n",
       "      <td>37</td>\n",
       "      <td>4</td>\n",
       "      <td>2,229,215.25</td>\n",
       "      <td>3</td>\n",
       "      <td>0</td>\n",
       "      <td>1</td>\n",
       "      <td>304,260.47</td>\n",
       "      <td>1</td>\n",
       "      <td>0</td>\n",
       "      <td>0</td>\n",
       "      <td>1</td>\n",
       "      <td>0</td>\n",
       "      <td>1</td>\n",
       "    </tr>\n",
       "    <tr>\n",
       "      <th>238</th>\n",
       "      <td>150,336.00</td>\n",
       "      <td>929.00</td>\n",
       "      <td>Рыбинск</td>\n",
       "      <td>Ж</td>\n",
       "      <td>34</td>\n",
       "      <td>4</td>\n",
       "      <td>1,514,214.91</td>\n",
       "      <td>4</td>\n",
       "      <td>0</td>\n",
       "      <td>1</td>\n",
       "      <td>137,713.02</td>\n",
       "      <td>1</td>\n",
       "      <td>0</td>\n",
       "      <td>1</td>\n",
       "      <td>0</td>\n",
       "      <td>1</td>\n",
       "      <td>0</td>\n",
       "    </tr>\n",
       "    <tr>\n",
       "      <th>790</th>\n",
       "      <td>170,312.00</td>\n",
       "      <td>901.00</td>\n",
       "      <td>Ярославль</td>\n",
       "      <td>М</td>\n",
       "      <td>33</td>\n",
       "      <td>4</td>\n",
       "      <td>3,276,783.93</td>\n",
       "      <td>3</td>\n",
       "      <td>0</td>\n",
       "      <td>1</td>\n",
       "      <td>358,700.96</td>\n",
       "      <td>1</td>\n",
       "      <td>0</td>\n",
       "      <td>0</td>\n",
       "      <td>1</td>\n",
       "      <td>0</td>\n",
       "      <td>1</td>\n",
       "    </tr>\n",
       "    <tr>\n",
       "      <th>1080</th>\n",
       "      <td>155,872.00</td>\n",
       "      <td>896.00</td>\n",
       "      <td>Ярославль</td>\n",
       "      <td>М</td>\n",
       "      <td>36</td>\n",
       "      <td>3</td>\n",
       "      <td>1,113,656.92</td>\n",
       "      <td>3</td>\n",
       "      <td>0</td>\n",
       "      <td>1</td>\n",
       "      <td>291,176.85</td>\n",
       "      <td>1</td>\n",
       "      <td>0</td>\n",
       "      <td>0</td>\n",
       "      <td>1</td>\n",
       "      <td>0</td>\n",
       "      <td>1</td>\n",
       "    </tr>\n",
       "    <tr>\n",
       "      <th>1154</th>\n",
       "      <td>120,353.00</td>\n",
       "      <td>917.00</td>\n",
       "      <td>Ярославль</td>\n",
       "      <td>Ж</td>\n",
       "      <td>35</td>\n",
       "      <td>4</td>\n",
       "      <td>1,140,820.67</td>\n",
       "      <td>3</td>\n",
       "      <td>0</td>\n",
       "      <td>1</td>\n",
       "      <td>179,686.61</td>\n",
       "      <td>1</td>\n",
       "      <td>0</td>\n",
       "      <td>0</td>\n",
       "      <td>1</td>\n",
       "      <td>1</td>\n",
       "      <td>0</td>\n",
       "    </tr>\n",
       "    <tr>\n",
       "      <th>1251</th>\n",
       "      <td>174,186.00</td>\n",
       "      <td>895.00</td>\n",
       "      <td>Ярославль</td>\n",
       "      <td>Ж</td>\n",
       "      <td>28</td>\n",
       "      <td>4</td>\n",
       "      <td>709,261.64</td>\n",
       "      <td>3</td>\n",
       "      <td>0</td>\n",
       "      <td>1</td>\n",
       "      <td>121,559.99</td>\n",
       "      <td>1</td>\n",
       "      <td>0</td>\n",
       "      <td>0</td>\n",
       "      <td>1</td>\n",
       "      <td>1</td>\n",
       "      <td>0</td>\n",
       "    </tr>\n",
       "    <tr>\n",
       "      <th>1307</th>\n",
       "      <td>150,578.00</td>\n",
       "      <td>874.00</td>\n",
       "      <td>Ярославль</td>\n",
       "      <td>М</td>\n",
       "      <td>40</td>\n",
       "      <td>4</td>\n",
       "      <td>1,391,610.04</td>\n",
       "      <td>3</td>\n",
       "      <td>0</td>\n",
       "      <td>1</td>\n",
       "      <td>241,242.16</td>\n",
       "      <td>1</td>\n",
       "      <td>0</td>\n",
       "      <td>0</td>\n",
       "      <td>1</td>\n",
       "      <td>0</td>\n",
       "      <td>1</td>\n",
       "    </tr>\n",
       "    <tr>\n",
       "      <th>1383</th>\n",
       "      <td>175,753.00</td>\n",
       "      <td>836.00</td>\n",
       "      <td>Ярославль</td>\n",
       "      <td>Ж</td>\n",
       "      <td>35</td>\n",
       "      <td>3</td>\n",
       "      <td>449,115.15</td>\n",
       "      <td>3</td>\n",
       "      <td>0</td>\n",
       "      <td>1</td>\n",
       "      <td>74,213.80</td>\n",
       "      <td>1</td>\n",
       "      <td>0</td>\n",
       "      <td>0</td>\n",
       "      <td>1</td>\n",
       "      <td>1</td>\n",
       "      <td>0</td>\n",
       "    </tr>\n",
       "    <tr>\n",
       "      <th>1406</th>\n",
       "      <td>220,449.00</td>\n",
       "      <td>861.00</td>\n",
       "      <td>Ярославль</td>\n",
       "      <td>Ж</td>\n",
       "      <td>38</td>\n",
       "      <td>2</td>\n",
       "      <td>759,193.77</td>\n",
       "      <td>3</td>\n",
       "      <td>0</td>\n",
       "      <td>1</td>\n",
       "      <td>157,004.47</td>\n",
       "      <td>1</td>\n",
       "      <td>0</td>\n",
       "      <td>0</td>\n",
       "      <td>1</td>\n",
       "      <td>1</td>\n",
       "      <td>0</td>\n",
       "    </tr>\n",
       "    <tr>\n",
       "      <th>1909</th>\n",
       "      <td>224,468.00</td>\n",
       "      <td>938.00</td>\n",
       "      <td>Ярославль</td>\n",
       "      <td>Ж</td>\n",
       "      <td>38</td>\n",
       "      <td>4</td>\n",
       "      <td>2,364,735.93</td>\n",
       "      <td>3</td>\n",
       "      <td>0</td>\n",
       "      <td>1</td>\n",
       "      <td>172,840.10</td>\n",
       "      <td>1</td>\n",
       "      <td>0</td>\n",
       "      <td>0</td>\n",
       "      <td>1</td>\n",
       "      <td>1</td>\n",
       "      <td>0</td>\n",
       "    </tr>\n",
       "    <tr>\n",
       "      <th>1925</th>\n",
       "      <td>123,228.00</td>\n",
       "      <td>757.00</td>\n",
       "      <td>Ярославль</td>\n",
       "      <td>М</td>\n",
       "      <td>34</td>\n",
       "      <td>0</td>\n",
       "      <td>97,038.10</td>\n",
       "      <td>3</td>\n",
       "      <td>0</td>\n",
       "      <td>1</td>\n",
       "      <td>118,221.85</td>\n",
       "      <td>1</td>\n",
       "      <td>0</td>\n",
       "      <td>0</td>\n",
       "      <td>1</td>\n",
       "      <td>0</td>\n",
       "      <td>1</td>\n",
       "    </tr>\n",
       "    <tr>\n",
       "      <th>2172</th>\n",
       "      <td>136,698.00</td>\n",
       "      <td>758.00</td>\n",
       "      <td>Ярославль</td>\n",
       "      <td>Ж</td>\n",
       "      <td>40</td>\n",
       "      <td>3</td>\n",
       "      <td>370,765.70</td>\n",
       "      <td>3</td>\n",
       "      <td>0</td>\n",
       "      <td>1</td>\n",
       "      <td>185,726.83</td>\n",
       "      <td>1</td>\n",
       "      <td>0</td>\n",
       "      <td>0</td>\n",
       "      <td>1</td>\n",
       "      <td>1</td>\n",
       "      <td>0</td>\n",
       "    </tr>\n",
       "    <tr>\n",
       "      <th>2378</th>\n",
       "      <td>116,530.00</td>\n",
       "      <td>865.00</td>\n",
       "      <td>Рыбинск</td>\n",
       "      <td>М</td>\n",
       "      <td>33</td>\n",
       "      <td>2</td>\n",
       "      <td>231,489.18</td>\n",
       "      <td>4</td>\n",
       "      <td>0</td>\n",
       "      <td>1</td>\n",
       "      <td>100,072.25</td>\n",
       "      <td>1</td>\n",
       "      <td>0</td>\n",
       "      <td>1</td>\n",
       "      <td>0</td>\n",
       "      <td>0</td>\n",
       "      <td>1</td>\n",
       "    </tr>\n",
       "    <tr>\n",
       "      <th>2548</th>\n",
       "      <td>211,022.00</td>\n",
       "      <td>933.00</td>\n",
       "      <td>Ярославль</td>\n",
       "      <td>Ж</td>\n",
       "      <td>34</td>\n",
       "      <td>4</td>\n",
       "      <td>1,445,425.64</td>\n",
       "      <td>4</td>\n",
       "      <td>0</td>\n",
       "      <td>1</td>\n",
       "      <td>205,389.82</td>\n",
       "      <td>1</td>\n",
       "      <td>0</td>\n",
       "      <td>0</td>\n",
       "      <td>1</td>\n",
       "      <td>1</td>\n",
       "      <td>0</td>\n",
       "    </tr>\n",
       "    <tr>\n",
       "      <th>2779</th>\n",
       "      <td>118,057.00</td>\n",
       "      <td>804.00</td>\n",
       "      <td>Ростов</td>\n",
       "      <td>М</td>\n",
       "      <td>40</td>\n",
       "      <td>4</td>\n",
       "      <td>746,099.06</td>\n",
       "      <td>4</td>\n",
       "      <td>0</td>\n",
       "      <td>1</td>\n",
       "      <td>104,425.17</td>\n",
       "      <td>1</td>\n",
       "      <td>1</td>\n",
       "      <td>0</td>\n",
       "      <td>0</td>\n",
       "      <td>0</td>\n",
       "      <td>1</td>\n",
       "    </tr>\n",
       "    <tr>\n",
       "      <th>3336</th>\n",
       "      <td>122,793.00</td>\n",
       "      <td>836.00</td>\n",
       "      <td>Ярославль</td>\n",
       "      <td>Ж</td>\n",
       "      <td>34</td>\n",
       "      <td>4</td>\n",
       "      <td>545,495.01</td>\n",
       "      <td>3</td>\n",
       "      <td>0</td>\n",
       "      <td>1</td>\n",
       "      <td>88,651.54</td>\n",
       "      <td>1</td>\n",
       "      <td>0</td>\n",
       "      <td>0</td>\n",
       "      <td>1</td>\n",
       "      <td>1</td>\n",
       "      <td>0</td>\n",
       "    </tr>\n",
       "    <tr>\n",
       "      <th>3418</th>\n",
       "      <td>163,998.00</td>\n",
       "      <td>860.00</td>\n",
       "      <td>Ростов</td>\n",
       "      <td>Ж</td>\n",
       "      <td>34</td>\n",
       "      <td>2</td>\n",
       "      <td>1,025,144.73</td>\n",
       "      <td>4</td>\n",
       "      <td>0</td>\n",
       "      <td>1</td>\n",
       "      <td>90,595.46</td>\n",
       "      <td>1</td>\n",
       "      <td>1</td>\n",
       "      <td>0</td>\n",
       "      <td>0</td>\n",
       "      <td>1</td>\n",
       "      <td>0</td>\n",
       "    </tr>\n",
       "    <tr>\n",
       "      <th>3837</th>\n",
       "      <td>199,617.00</td>\n",
       "      <td>848.00</td>\n",
       "      <td>Ярославль</td>\n",
       "      <td>Ж</td>\n",
       "      <td>32</td>\n",
       "      <td>3</td>\n",
       "      <td>2,441,321.45</td>\n",
       "      <td>4</td>\n",
       "      <td>0</td>\n",
       "      <td>1</td>\n",
       "      <td>279,570.21</td>\n",
       "      <td>1</td>\n",
       "      <td>0</td>\n",
       "      <td>0</td>\n",
       "      <td>1</td>\n",
       "      <td>1</td>\n",
       "      <td>0</td>\n",
       "    </tr>\n",
       "    <tr>\n",
       "      <th>3840</th>\n",
       "      <td>154,823.00</td>\n",
       "      <td>809.00</td>\n",
       "      <td>Ярославль</td>\n",
       "      <td>М</td>\n",
       "      <td>40</td>\n",
       "      <td>1</td>\n",
       "      <td>259,934.24</td>\n",
       "      <td>3</td>\n",
       "      <td>0</td>\n",
       "      <td>1</td>\n",
       "      <td>279,168.66</td>\n",
       "      <td>1</td>\n",
       "      <td>0</td>\n",
       "      <td>0</td>\n",
       "      <td>1</td>\n",
       "      <td>0</td>\n",
       "      <td>1</td>\n",
       "    </tr>\n",
       "    <tr>\n",
       "      <th>3959</th>\n",
       "      <td>226,352.00</td>\n",
       "      <td>910.00</td>\n",
       "      <td>Ярославль</td>\n",
       "      <td>М</td>\n",
       "      <td>30</td>\n",
       "      <td>3</td>\n",
       "      <td>2,822,986.18</td>\n",
       "      <td>3</td>\n",
       "      <td>0</td>\n",
       "      <td>1</td>\n",
       "      <td>228,445.65</td>\n",
       "      <td>1</td>\n",
       "      <td>0</td>\n",
       "      <td>0</td>\n",
       "      <td>1</td>\n",
       "      <td>0</td>\n",
       "      <td>1</td>\n",
       "    </tr>\n",
       "    <tr>\n",
       "      <th>3987</th>\n",
       "      <td>195,184.00</td>\n",
       "      <td>878.00</td>\n",
       "      <td>Ярославль</td>\n",
       "      <td>М</td>\n",
       "      <td>37</td>\n",
       "      <td>3</td>\n",
       "      <td>1,874,060.41</td>\n",
       "      <td>4</td>\n",
       "      <td>0</td>\n",
       "      <td>1</td>\n",
       "      <td>205,662.57</td>\n",
       "      <td>1</td>\n",
       "      <td>0</td>\n",
       "      <td>0</td>\n",
       "      <td>1</td>\n",
       "      <td>0</td>\n",
       "      <td>1</td>\n",
       "    </tr>\n",
       "    <tr>\n",
       "      <th>4109</th>\n",
       "      <td>183,444.00</td>\n",
       "      <td>891.00</td>\n",
       "      <td>Ярославль</td>\n",
       "      <td>Ж</td>\n",
       "      <td>33</td>\n",
       "      <td>3</td>\n",
       "      <td>446,111.25</td>\n",
       "      <td>3</td>\n",
       "      <td>0</td>\n",
       "      <td>1</td>\n",
       "      <td>171,380.32</td>\n",
       "      <td>1</td>\n",
       "      <td>0</td>\n",
       "      <td>0</td>\n",
       "      <td>1</td>\n",
       "      <td>1</td>\n",
       "      <td>0</td>\n",
       "    </tr>\n",
       "    <tr>\n",
       "      <th>4148</th>\n",
       "      <td>190,249.00</td>\n",
       "      <td>943.00</td>\n",
       "      <td>Ярославль</td>\n",
       "      <td>М</td>\n",
       "      <td>27</td>\n",
       "      <td>2</td>\n",
       "      <td>1,333,929.95</td>\n",
       "      <td>4</td>\n",
       "      <td>0</td>\n",
       "      <td>1</td>\n",
       "      <td>127,475.39</td>\n",
       "      <td>1</td>\n",
       "      <td>0</td>\n",
       "      <td>0</td>\n",
       "      <td>1</td>\n",
       "      <td>0</td>\n",
       "      <td>1</td>\n",
       "    </tr>\n",
       "    <tr>\n",
       "      <th>4554</th>\n",
       "      <td>117,719.00</td>\n",
       "      <td>836.00</td>\n",
       "      <td>Ярославль</td>\n",
       "      <td>Ж</td>\n",
       "      <td>40</td>\n",
       "      <td>2</td>\n",
       "      <td>333,821.02</td>\n",
       "      <td>3</td>\n",
       "      <td>0</td>\n",
       "      <td>1</td>\n",
       "      <td>176,050.29</td>\n",
       "      <td>1</td>\n",
       "      <td>0</td>\n",
       "      <td>0</td>\n",
       "      <td>1</td>\n",
       "      <td>1</td>\n",
       "      <td>0</td>\n",
       "    </tr>\n",
       "    <tr>\n",
       "      <th>4996</th>\n",
       "      <td>162,941.00</td>\n",
       "      <td>835.00</td>\n",
       "      <td>Ярославль</td>\n",
       "      <td>М</td>\n",
       "      <td>30</td>\n",
       "      <td>3</td>\n",
       "      <td>222,009.67</td>\n",
       "      <td>3</td>\n",
       "      <td>0</td>\n",
       "      <td>1</td>\n",
       "      <td>94,239.06</td>\n",
       "      <td>1</td>\n",
       "      <td>0</td>\n",
       "      <td>0</td>\n",
       "      <td>1</td>\n",
       "      <td>0</td>\n",
       "      <td>1</td>\n",
       "    </tr>\n",
       "    <tr>\n",
       "      <th>5153</th>\n",
       "      <td>129,850.00</td>\n",
       "      <td>961.00</td>\n",
       "      <td>Ярославль</td>\n",
       "      <td>М</td>\n",
       "      <td>25</td>\n",
       "      <td>4</td>\n",
       "      <td>2,479,585.60</td>\n",
       "      <td>4</td>\n",
       "      <td>0</td>\n",
       "      <td>1</td>\n",
       "      <td>331,024.71</td>\n",
       "      <td>1</td>\n",
       "      <td>0</td>\n",
       "      <td>0</td>\n",
       "      <td>1</td>\n",
       "      <td>0</td>\n",
       "      <td>1</td>\n",
       "    </tr>\n",
       "    <tr>\n",
       "      <th>5192</th>\n",
       "      <td>205,558.00</td>\n",
       "      <td>810.00</td>\n",
       "      <td>Ярославль</td>\n",
       "      <td>Ж</td>\n",
       "      <td>38</td>\n",
       "      <td>2</td>\n",
       "      <td>1,499,712.87</td>\n",
       "      <td>4</td>\n",
       "      <td>0</td>\n",
       "      <td>1</td>\n",
       "      <td>291,146.98</td>\n",
       "      <td>1</td>\n",
       "      <td>0</td>\n",
       "      <td>0</td>\n",
       "      <td>1</td>\n",
       "      <td>1</td>\n",
       "      <td>0</td>\n",
       "    </tr>\n",
       "    <tr>\n",
       "      <th>5270</th>\n",
       "      <td>120,838.00</td>\n",
       "      <td>790.00</td>\n",
       "      <td>Ярославль</td>\n",
       "      <td>М</td>\n",
       "      <td>41</td>\n",
       "      <td>1</td>\n",
       "      <td>128,894.18</td>\n",
       "      <td>3</td>\n",
       "      <td>0</td>\n",
       "      <td>1</td>\n",
       "      <td>152,608.72</td>\n",
       "      <td>1</td>\n",
       "      <td>0</td>\n",
       "      <td>0</td>\n",
       "      <td>1</td>\n",
       "      <td>0</td>\n",
       "      <td>1</td>\n",
       "    </tr>\n",
       "    <tr>\n",
       "      <th>5772</th>\n",
       "      <td>153,611.00</td>\n",
       "      <td>903.00</td>\n",
       "      <td>Ярославль</td>\n",
       "      <td>М</td>\n",
       "      <td>26</td>\n",
       "      <td>3</td>\n",
       "      <td>509,122.36</td>\n",
       "      <td>3</td>\n",
       "      <td>0</td>\n",
       "      <td>1</td>\n",
       "      <td>28,609.24</td>\n",
       "      <td>1</td>\n",
       "      <td>0</td>\n",
       "      <td>0</td>\n",
       "      <td>1</td>\n",
       "      <td>0</td>\n",
       "      <td>1</td>\n",
       "    </tr>\n",
       "    <tr>\n",
       "      <th>5827</th>\n",
       "      <td>182,782.00</td>\n",
       "      <td>879.00</td>\n",
       "      <td>Ярославль</td>\n",
       "      <td>Ж</td>\n",
       "      <td>37</td>\n",
       "      <td>4</td>\n",
       "      <td>1,417,133.26</td>\n",
       "      <td>3</td>\n",
       "      <td>0</td>\n",
       "      <td>1</td>\n",
       "      <td>123,823.34</td>\n",
       "      <td>1</td>\n",
       "      <td>0</td>\n",
       "      <td>0</td>\n",
       "      <td>1</td>\n",
       "      <td>1</td>\n",
       "      <td>0</td>\n",
       "    </tr>\n",
       "    <tr>\n",
       "      <th>5881</th>\n",
       "      <td>160,482.00</td>\n",
       "      <td>841.00</td>\n",
       "      <td>Ярославль</td>\n",
       "      <td>Ж</td>\n",
       "      <td>30</td>\n",
       "      <td>4</td>\n",
       "      <td>280,431.88</td>\n",
       "      <td>3</td>\n",
       "      <td>0</td>\n",
       "      <td>1</td>\n",
       "      <td>44,498.20</td>\n",
       "      <td>1</td>\n",
       "      <td>0</td>\n",
       "      <td>0</td>\n",
       "      <td>1</td>\n",
       "      <td>1</td>\n",
       "      <td>0</td>\n",
       "    </tr>\n",
       "    <tr>\n",
       "      <th>6122</th>\n",
       "      <td>154,092.00</td>\n",
       "      <td>872.00</td>\n",
       "      <td>Ярославль</td>\n",
       "      <td>Ж</td>\n",
       "      <td>31</td>\n",
       "      <td>4</td>\n",
       "      <td>967,335.90</td>\n",
       "      <td>3</td>\n",
       "      <td>0</td>\n",
       "      <td>1</td>\n",
       "      <td>96,500.01</td>\n",
       "      <td>1</td>\n",
       "      <td>0</td>\n",
       "      <td>0</td>\n",
       "      <td>1</td>\n",
       "      <td>1</td>\n",
       "      <td>0</td>\n",
       "    </tr>\n",
       "    <tr>\n",
       "      <th>6157</th>\n",
       "      <td>226,072.00</td>\n",
       "      <td>833.00</td>\n",
       "      <td>Ярославль</td>\n",
       "      <td>Ж</td>\n",
       "      <td>44</td>\n",
       "      <td>4</td>\n",
       "      <td>1,298,309.52</td>\n",
       "      <td>4</td>\n",
       "      <td>0</td>\n",
       "      <td>1</td>\n",
       "      <td>142,442.50</td>\n",
       "      <td>1</td>\n",
       "      <td>0</td>\n",
       "      <td>0</td>\n",
       "      <td>1</td>\n",
       "      <td>1</td>\n",
       "      <td>0</td>\n",
       "    </tr>\n",
       "    <tr>\n",
       "      <th>6166</th>\n",
       "      <td>131,435.00</td>\n",
       "      <td>791.00</td>\n",
       "      <td>Ростов</td>\n",
       "      <td>Ж</td>\n",
       "      <td>39</td>\n",
       "      <td>4</td>\n",
       "      <td>898,650.09</td>\n",
       "      <td>3</td>\n",
       "      <td>0</td>\n",
       "      <td>1</td>\n",
       "      <td>151,273.49</td>\n",
       "      <td>1</td>\n",
       "      <td>1</td>\n",
       "      <td>0</td>\n",
       "      <td>0</td>\n",
       "      <td>1</td>\n",
       "      <td>0</td>\n",
       "    </tr>\n",
       "    <tr>\n",
       "      <th>6323</th>\n",
       "      <td>225,283.00</td>\n",
       "      <td>827.00</td>\n",
       "      <td>Ярославль</td>\n",
       "      <td>Ж</td>\n",
       "      <td>38</td>\n",
       "      <td>3</td>\n",
       "      <td>568,625.06</td>\n",
       "      <td>3</td>\n",
       "      <td>0</td>\n",
       "      <td>1</td>\n",
       "      <td>118,896.41</td>\n",
       "      <td>1</td>\n",
       "      <td>0</td>\n",
       "      <td>0</td>\n",
       "      <td>1</td>\n",
       "      <td>1</td>\n",
       "      <td>0</td>\n",
       "    </tr>\n",
       "    <tr>\n",
       "      <th>6381</th>\n",
       "      <td>214,876.00</td>\n",
       "      <td>862.00</td>\n",
       "      <td>Ярославль</td>\n",
       "      <td>Ж</td>\n",
       "      <td>33</td>\n",
       "      <td>4</td>\n",
       "      <td>505,417.28</td>\n",
       "      <td>3</td>\n",
       "      <td>0</td>\n",
       "      <td>1</td>\n",
       "      <td>92,034.54</td>\n",
       "      <td>1</td>\n",
       "      <td>0</td>\n",
       "      <td>0</td>\n",
       "      <td>1</td>\n",
       "      <td>1</td>\n",
       "      <td>0</td>\n",
       "    </tr>\n",
       "    <tr>\n",
       "      <th>6803</th>\n",
       "      <td>170,311.00</td>\n",
       "      <td>894.00</td>\n",
       "      <td>Ярославль</td>\n",
       "      <td>Ж</td>\n",
       "      <td>27</td>\n",
       "      <td>0</td>\n",
       "      <td>109,330.45</td>\n",
       "      <td>3</td>\n",
       "      <td>0</td>\n",
       "      <td>1</td>\n",
       "      <td>114,609.93</td>\n",
       "      <td>1</td>\n",
       "      <td>0</td>\n",
       "      <td>0</td>\n",
       "      <td>1</td>\n",
       "      <td>1</td>\n",
       "      <td>0</td>\n",
       "    </tr>\n",
       "    <tr>\n",
       "      <th>6918</th>\n",
       "      <td>137,434.00</td>\n",
       "      <td>866.00</td>\n",
       "      <td>Ярославль</td>\n",
       "      <td>М</td>\n",
       "      <td>35</td>\n",
       "      <td>3</td>\n",
       "      <td>1,270,222.44</td>\n",
       "      <td>3</td>\n",
       "      <td>0</td>\n",
       "      <td>1</td>\n",
       "      <td>195,023.89</td>\n",
       "      <td>1</td>\n",
       "      <td>0</td>\n",
       "      <td>0</td>\n",
       "      <td>1</td>\n",
       "      <td>0</td>\n",
       "      <td>1</td>\n",
       "    </tr>\n",
       "    <tr>\n",
       "      <th>6931</th>\n",
       "      <td>114,255.00</td>\n",
       "      <td>837.00</td>\n",
       "      <td>Ярославль</td>\n",
       "      <td>Ж</td>\n",
       "      <td>29</td>\n",
       "      <td>3</td>\n",
       "      <td>385,371.75</td>\n",
       "      <td>3</td>\n",
       "      <td>0</td>\n",
       "      <td>1</td>\n",
       "      <td>63,549.94</td>\n",
       "      <td>1</td>\n",
       "      <td>0</td>\n",
       "      <td>0</td>\n",
       "      <td>1</td>\n",
       "      <td>1</td>\n",
       "      <td>0</td>\n",
       "    </tr>\n",
       "    <tr>\n",
       "      <th>7094</th>\n",
       "      <td>116,688.00</td>\n",
       "      <td>875.00</td>\n",
       "      <td>Ярославль</td>\n",
       "      <td>М</td>\n",
       "      <td>27</td>\n",
       "      <td>3</td>\n",
       "      <td>622,457.25</td>\n",
       "      <td>3</td>\n",
       "      <td>0</td>\n",
       "      <td>1</td>\n",
       "      <td>88,998.49</td>\n",
       "      <td>1</td>\n",
       "      <td>0</td>\n",
       "      <td>0</td>\n",
       "      <td>1</td>\n",
       "      <td>0</td>\n",
       "      <td>1</td>\n",
       "    </tr>\n",
       "    <tr>\n",
       "      <th>7140</th>\n",
       "      <td>180,741.00</td>\n",
       "      <td>840.00</td>\n",
       "      <td>Ярославль</td>\n",
       "      <td>Ж</td>\n",
       "      <td>38</td>\n",
       "      <td>4</td>\n",
       "      <td>316,163.18</td>\n",
       "      <td>3</td>\n",
       "      <td>0</td>\n",
       "      <td>1</td>\n",
       "      <td>158,242.09</td>\n",
       "      <td>1</td>\n",
       "      <td>0</td>\n",
       "      <td>0</td>\n",
       "      <td>1</td>\n",
       "      <td>1</td>\n",
       "      <td>0</td>\n",
       "    </tr>\n",
       "    <tr>\n",
       "      <th>7142</th>\n",
       "      <td>166,687.00</td>\n",
       "      <td>784.00</td>\n",
       "      <td>Ярославль</td>\n",
       "      <td>М</td>\n",
       "      <td>28</td>\n",
       "      <td>4</td>\n",
       "      <td>690,120.16</td>\n",
       "      <td>3</td>\n",
       "      <td>0</td>\n",
       "      <td>1</td>\n",
       "      <td>105,686.11</td>\n",
       "      <td>1</td>\n",
       "      <td>0</td>\n",
       "      <td>0</td>\n",
       "      <td>1</td>\n",
       "      <td>0</td>\n",
       "      <td>1</td>\n",
       "    </tr>\n",
       "    <tr>\n",
       "      <th>7155</th>\n",
       "      <td>163,617.00</td>\n",
       "      <td>853.00</td>\n",
       "      <td>Ярославль</td>\n",
       "      <td>Ж</td>\n",
       "      <td>25</td>\n",
       "      <td>3</td>\n",
       "      <td>219,386.95</td>\n",
       "      <td>3</td>\n",
       "      <td>0</td>\n",
       "      <td>1</td>\n",
       "      <td>121,740.43</td>\n",
       "      <td>1</td>\n",
       "      <td>0</td>\n",
       "      <td>0</td>\n",
       "      <td>1</td>\n",
       "      <td>1</td>\n",
       "      <td>0</td>\n",
       "    </tr>\n",
       "    <tr>\n",
       "      <th>7366</th>\n",
       "      <td>193,303.00</td>\n",
       "      <td>918.00</td>\n",
       "      <td>Ярославль</td>\n",
       "      <td>Ж</td>\n",
       "      <td>30</td>\n",
       "      <td>3</td>\n",
       "      <td>663,628.52</td>\n",
       "      <td>3</td>\n",
       "      <td>0</td>\n",
       "      <td>1</td>\n",
       "      <td>319,714.04</td>\n",
       "      <td>1</td>\n",
       "      <td>0</td>\n",
       "      <td>0</td>\n",
       "      <td>1</td>\n",
       "      <td>1</td>\n",
       "      <td>0</td>\n",
       "    </tr>\n",
       "    <tr>\n",
       "      <th>7561</th>\n",
       "      <td>147,896.00</td>\n",
       "      <td>915.00</td>\n",
       "      <td>Ярославль</td>\n",
       "      <td>Ж</td>\n",
       "      <td>34</td>\n",
       "      <td>4</td>\n",
       "      <td>789,300.20</td>\n",
       "      <td>3</td>\n",
       "      <td>0</td>\n",
       "      <td>1</td>\n",
       "      <td>100,557.01</td>\n",
       "      <td>1</td>\n",
       "      <td>0</td>\n",
       "      <td>0</td>\n",
       "      <td>1</td>\n",
       "      <td>1</td>\n",
       "      <td>0</td>\n",
       "    </tr>\n",
       "    <tr>\n",
       "      <th>7734</th>\n",
       "      <td>216,282.00</td>\n",
       "      <td>831.00</td>\n",
       "      <td>Ярославль</td>\n",
       "      <td>Ж</td>\n",
       "      <td>33</td>\n",
       "      <td>2</td>\n",
       "      <td>541,370.25</td>\n",
       "      <td>3</td>\n",
       "      <td>0</td>\n",
       "      <td>1</td>\n",
       "      <td>138,333.73</td>\n",
       "      <td>1</td>\n",
       "      <td>0</td>\n",
       "      <td>0</td>\n",
       "      <td>1</td>\n",
       "      <td>1</td>\n",
       "      <td>0</td>\n",
       "    </tr>\n",
       "    <tr>\n",
       "      <th>8090</th>\n",
       "      <td>160,737.00</td>\n",
       "      <td>875.00</td>\n",
       "      <td>Ярославль</td>\n",
       "      <td>М</td>\n",
       "      <td>36</td>\n",
       "      <td>3</td>\n",
       "      <td>1,278,803.00</td>\n",
       "      <td>3</td>\n",
       "      <td>0</td>\n",
       "      <td>1</td>\n",
       "      <td>209,766.61</td>\n",
       "      <td>1</td>\n",
       "      <td>0</td>\n",
       "      <td>0</td>\n",
       "      <td>1</td>\n",
       "      <td>0</td>\n",
       "      <td>1</td>\n",
       "    </tr>\n",
       "    <tr>\n",
       "      <th>8291</th>\n",
       "      <td>229,017.00</td>\n",
       "      <td>902.00</td>\n",
       "      <td>Ярославль</td>\n",
       "      <td>Ж</td>\n",
       "      <td>27</td>\n",
       "      <td>4</td>\n",
       "      <td>980,705.85</td>\n",
       "      <td>3</td>\n",
       "      <td>0</td>\n",
       "      <td>1</td>\n",
       "      <td>109,444.42</td>\n",
       "      <td>1</td>\n",
       "      <td>0</td>\n",
       "      <td>0</td>\n",
       "      <td>1</td>\n",
       "      <td>1</td>\n",
       "      <td>0</td>\n",
       "    </tr>\n",
       "    <tr>\n",
       "      <th>8345</th>\n",
       "      <td>218,824.00</td>\n",
       "      <td>825.00</td>\n",
       "      <td>Рыбинск</td>\n",
       "      <td>М</td>\n",
       "      <td>29</td>\n",
       "      <td>4</td>\n",
       "      <td>283,084.37</td>\n",
       "      <td>4</td>\n",
       "      <td>0</td>\n",
       "      <td>1</td>\n",
       "      <td>44,193.14</td>\n",
       "      <td>1</td>\n",
       "      <td>0</td>\n",
       "      <td>1</td>\n",
       "      <td>0</td>\n",
       "      <td>0</td>\n",
       "      <td>1</td>\n",
       "    </tr>\n",
       "    <tr>\n",
       "      <th>8560</th>\n",
       "      <td>177,765.00</td>\n",
       "      <td>870.00</td>\n",
       "      <td>Ярославль</td>\n",
       "      <td>М</td>\n",
       "      <td>31</td>\n",
       "      <td>4</td>\n",
       "      <td>997,899.19</td>\n",
       "      <td>3</td>\n",
       "      <td>0</td>\n",
       "      <td>1</td>\n",
       "      <td>95,623.40</td>\n",
       "      <td>1</td>\n",
       "      <td>0</td>\n",
       "      <td>0</td>\n",
       "      <td>1</td>\n",
       "      <td>0</td>\n",
       "      <td>1</td>\n",
       "    </tr>\n",
       "    <tr>\n",
       "      <th>8874</th>\n",
       "      <td>147,890.00</td>\n",
       "      <td>918.00</td>\n",
       "      <td>Ярославль</td>\n",
       "      <td>М</td>\n",
       "      <td>31</td>\n",
       "      <td>4</td>\n",
       "      <td>1,822,351.19</td>\n",
       "      <td>3</td>\n",
       "      <td>0</td>\n",
       "      <td>1</td>\n",
       "      <td>191,481.77</td>\n",
       "      <td>1</td>\n",
       "      <td>0</td>\n",
       "      <td>0</td>\n",
       "      <td>1</td>\n",
       "      <td>0</td>\n",
       "      <td>1</td>\n",
       "    </tr>\n",
       "    <tr>\n",
       "      <th>8929</th>\n",
       "      <td>152,995.00</td>\n",
       "      <td>868.00</td>\n",
       "      <td>Ярославль</td>\n",
       "      <td>М</td>\n",
       "      <td>33</td>\n",
       "      <td>3</td>\n",
       "      <td>1,797,759.02</td>\n",
       "      <td>3</td>\n",
       "      <td>0</td>\n",
       "      <td>1</td>\n",
       "      <td>168,280.41</td>\n",
       "      <td>1</td>\n",
       "      <td>0</td>\n",
       "      <td>0</td>\n",
       "      <td>1</td>\n",
       "      <td>0</td>\n",
       "      <td>1</td>\n",
       "    </tr>\n",
       "    <tr>\n",
       "      <th>9109</th>\n",
       "      <td>140,440.00</td>\n",
       "      <td>854.00</td>\n",
       "      <td>Ярославль</td>\n",
       "      <td>Ж</td>\n",
       "      <td>36</td>\n",
       "      <td>4</td>\n",
       "      <td>1,460,367.50</td>\n",
       "      <td>4</td>\n",
       "      <td>0</td>\n",
       "      <td>1</td>\n",
       "      <td>327,017.11</td>\n",
       "      <td>1</td>\n",
       "      <td>0</td>\n",
       "      <td>0</td>\n",
       "      <td>1</td>\n",
       "      <td>1</td>\n",
       "      <td>0</td>\n",
       "    </tr>\n",
       "    <tr>\n",
       "      <th>9240</th>\n",
       "      <td>211,611.00</td>\n",
       "      <td>855.00</td>\n",
       "      <td>Ярославль</td>\n",
       "      <td>Ж</td>\n",
       "      <td>44</td>\n",
       "      <td>1</td>\n",
       "      <td>715,778.05</td>\n",
       "      <td>3</td>\n",
       "      <td>0</td>\n",
       "      <td>1</td>\n",
       "      <td>177,072.33</td>\n",
       "      <td>1</td>\n",
       "      <td>0</td>\n",
       "      <td>0</td>\n",
       "      <td>1</td>\n",
       "      <td>1</td>\n",
       "      <td>0</td>\n",
       "    </tr>\n",
       "    <tr>\n",
       "      <th>9876</th>\n",
       "      <td>162,571.00</td>\n",
       "      <td>822.00</td>\n",
       "      <td>Ярославль</td>\n",
       "      <td>М</td>\n",
       "      <td>35</td>\n",
       "      <td>3</td>\n",
       "      <td>310,135.19</td>\n",
       "      <td>3</td>\n",
       "      <td>0</td>\n",
       "      <td>1</td>\n",
       "      <td>79,289.04</td>\n",
       "      <td>1</td>\n",
       "      <td>0</td>\n",
       "      <td>0</td>\n",
       "      <td>1</td>\n",
       "      <td>0</td>\n",
       "      <td>1</td>\n",
       "    </tr>\n",
       "  </tbody>\n",
       "</table>\n",
       "</div>"
      ],
      "text/plain": [
       "        user_id  score       city gender  age  equity      balance  products  \\\n",
       "177  147,950.00 899.00  Ярославль  М      37   4      2,229,215.25  3          \n",
       "238  150,336.00 929.00  Рыбинск    Ж      34   4      1,514,214.91  4          \n",
       "790  170,312.00 901.00  Ярославль  М      33   4      3,276,783.93  3          \n",
       "1080 155,872.00 896.00  Ярославль  М      36   3      1,113,656.92  3          \n",
       "1154 120,353.00 917.00  Ярославль  Ж      35   4      1,140,820.67  3          \n",
       "1251 174,186.00 895.00  Ярославль  Ж      28   4      709,261.64    3          \n",
       "1307 150,578.00 874.00  Ярославль  М      40   4      1,391,610.04  3          \n",
       "1383 175,753.00 836.00  Ярославль  Ж      35   3      449,115.15    3          \n",
       "1406 220,449.00 861.00  Ярославль  Ж      38   2      759,193.77    3          \n",
       "1909 224,468.00 938.00  Ярославль  Ж      38   4      2,364,735.93  3          \n",
       "1925 123,228.00 757.00  Ярославль  М      34   0      97,038.10     3          \n",
       "2172 136,698.00 758.00  Ярославль  Ж      40   3      370,765.70    3          \n",
       "2378 116,530.00 865.00  Рыбинск    М      33   2      231,489.18    4          \n",
       "2548 211,022.00 933.00  Ярославль  Ж      34   4      1,445,425.64  4          \n",
       "2779 118,057.00 804.00  Ростов     М      40   4      746,099.06    4          \n",
       "3336 122,793.00 836.00  Ярославль  Ж      34   4      545,495.01    3          \n",
       "3418 163,998.00 860.00  Ростов     Ж      34   2      1,025,144.73  4          \n",
       "3837 199,617.00 848.00  Ярославль  Ж      32   3      2,441,321.45  4          \n",
       "3840 154,823.00 809.00  Ярославль  М      40   1      259,934.24    3          \n",
       "3959 226,352.00 910.00  Ярославль  М      30   3      2,822,986.18  3          \n",
       "3987 195,184.00 878.00  Ярославль  М      37   3      1,874,060.41  4          \n",
       "4109 183,444.00 891.00  Ярославль  Ж      33   3      446,111.25    3          \n",
       "4148 190,249.00 943.00  Ярославль  М      27   2      1,333,929.95  4          \n",
       "4554 117,719.00 836.00  Ярославль  Ж      40   2      333,821.02    3          \n",
       "4996 162,941.00 835.00  Ярославль  М      30   3      222,009.67    3          \n",
       "5153 129,850.00 961.00  Ярославль  М      25   4      2,479,585.60  4          \n",
       "5192 205,558.00 810.00  Ярославль  Ж      38   2      1,499,712.87  4          \n",
       "5270 120,838.00 790.00  Ярославль  М      41   1      128,894.18    3          \n",
       "5772 153,611.00 903.00  Ярославль  М      26   3      509,122.36    3          \n",
       "5827 182,782.00 879.00  Ярославль  Ж      37   4      1,417,133.26  3          \n",
       "5881 160,482.00 841.00  Ярославль  Ж      30   4      280,431.88    3          \n",
       "6122 154,092.00 872.00  Ярославль  Ж      31   4      967,335.90    3          \n",
       "6157 226,072.00 833.00  Ярославль  Ж      44   4      1,298,309.52  4          \n",
       "6166 131,435.00 791.00  Ростов     Ж      39   4      898,650.09    3          \n",
       "6323 225,283.00 827.00  Ярославль  Ж      38   3      568,625.06    3          \n",
       "6381 214,876.00 862.00  Ярославль  Ж      33   4      505,417.28    3          \n",
       "6803 170,311.00 894.00  Ярославль  Ж      27   0      109,330.45    3          \n",
       "6918 137,434.00 866.00  Ярославль  М      35   3      1,270,222.44  3          \n",
       "6931 114,255.00 837.00  Ярославль  Ж      29   3      385,371.75    3          \n",
       "7094 116,688.00 875.00  Ярославль  М      27   3      622,457.25    3          \n",
       "7140 180,741.00 840.00  Ярославль  Ж      38   4      316,163.18    3          \n",
       "7142 166,687.00 784.00  Ярославль  М      28   4      690,120.16    3          \n",
       "7155 163,617.00 853.00  Ярославль  Ж      25   3      219,386.95    3          \n",
       "7366 193,303.00 918.00  Ярославль  Ж      30   3      663,628.52    3          \n",
       "7561 147,896.00 915.00  Ярославль  Ж      34   4      789,300.20    3          \n",
       "7734 216,282.00 831.00  Ярославль  Ж      33   2      541,370.25    3          \n",
       "8090 160,737.00 875.00  Ярославль  М      36   3      1,278,803.00  3          \n",
       "8291 229,017.00 902.00  Ярославль  Ж      27   4      980,705.85    3          \n",
       "8345 218,824.00 825.00  Рыбинск    М      29   4      283,084.37    4          \n",
       "8560 177,765.00 870.00  Ярославль  М      31   4      997,899.19    3          \n",
       "8874 147,890.00 918.00  Ярославль  М      31   4      1,822,351.19  3          \n",
       "8929 152,995.00 868.00  Ярославль  М      33   3      1,797,759.02  3          \n",
       "9109 140,440.00 854.00  Ярославль  Ж      36   4      1,460,367.50  4          \n",
       "9240 211,611.00 855.00  Ярославль  Ж      44   1      715,778.05    3          \n",
       "9876 162,571.00 822.00  Ярославль  М      35   3      310,135.19    3          \n",
       "\n",
       "      credit_card  last_activity  est_salary  churn  Ростов  Рыбинск  \\\n",
       "177   0            1             304,260.47   1      0       0         \n",
       "238   0            1             137,713.02   1      0       1         \n",
       "790   0            1             358,700.96   1      0       0         \n",
       "1080  0            1             291,176.85   1      0       0         \n",
       "1154  0            1             179,686.61   1      0       0         \n",
       "1251  0            1             121,559.99   1      0       0         \n",
       "1307  0            1             241,242.16   1      0       0         \n",
       "1383  0            1             74,213.80    1      0       0         \n",
       "1406  0            1             157,004.47   1      0       0         \n",
       "1909  0            1             172,840.10   1      0       0         \n",
       "1925  0            1             118,221.85   1      0       0         \n",
       "2172  0            1             185,726.83   1      0       0         \n",
       "2378  0            1             100,072.25   1      0       1         \n",
       "2548  0            1             205,389.82   1      0       0         \n",
       "2779  0            1             104,425.17   1      1       0         \n",
       "3336  0            1             88,651.54    1      0       0         \n",
       "3418  0            1             90,595.46    1      1       0         \n",
       "3837  0            1             279,570.21   1      0       0         \n",
       "3840  0            1             279,168.66   1      0       0         \n",
       "3959  0            1             228,445.65   1      0       0         \n",
       "3987  0            1             205,662.57   1      0       0         \n",
       "4109  0            1             171,380.32   1      0       0         \n",
       "4148  0            1             127,475.39   1      0       0         \n",
       "4554  0            1             176,050.29   1      0       0         \n",
       "4996  0            1             94,239.06    1      0       0         \n",
       "5153  0            1             331,024.71   1      0       0         \n",
       "5192  0            1             291,146.98   1      0       0         \n",
       "5270  0            1             152,608.72   1      0       0         \n",
       "5772  0            1             28,609.24    1      0       0         \n",
       "5827  0            1             123,823.34   1      0       0         \n",
       "5881  0            1             44,498.20    1      0       0         \n",
       "6122  0            1             96,500.01    1      0       0         \n",
       "6157  0            1             142,442.50   1      0       0         \n",
       "6166  0            1             151,273.49   1      1       0         \n",
       "6323  0            1             118,896.41   1      0       0         \n",
       "6381  0            1             92,034.54    1      0       0         \n",
       "6803  0            1             114,609.93   1      0       0         \n",
       "6918  0            1             195,023.89   1      0       0         \n",
       "6931  0            1             63,549.94    1      0       0         \n",
       "7094  0            1             88,998.49    1      0       0         \n",
       "7140  0            1             158,242.09   1      0       0         \n",
       "7142  0            1             105,686.11   1      0       0         \n",
       "7155  0            1             121,740.43   1      0       0         \n",
       "7366  0            1             319,714.04   1      0       0         \n",
       "7561  0            1             100,557.01   1      0       0         \n",
       "7734  0            1             138,333.73   1      0       0         \n",
       "8090  0            1             209,766.61   1      0       0         \n",
       "8291  0            1             109,444.42   1      0       0         \n",
       "8345  0            1             44,193.14    1      0       1         \n",
       "8560  0            1             95,623.40    1      0       0         \n",
       "8874  0            1             191,481.77   1      0       0         \n",
       "8929  0            1             168,280.41   1      0       0         \n",
       "9109  0            1             327,017.11   1      0       0         \n",
       "9240  0            1             177,072.33   1      0       0         \n",
       "9876  0            1             79,289.04    1      0       0         \n",
       "\n",
       "      Ярославль  female  male  \n",
       "177   1          0       1     \n",
       "238   0          1       0     \n",
       "790   1          0       1     \n",
       "1080  1          0       1     \n",
       "1154  1          1       0     \n",
       "1251  1          1       0     \n",
       "1307  1          0       1     \n",
       "1383  1          1       0     \n",
       "1406  1          1       0     \n",
       "1909  1          1       0     \n",
       "1925  1          0       1     \n",
       "2172  1          1       0     \n",
       "2378  0          0       1     \n",
       "2548  1          1       0     \n",
       "2779  0          0       1     \n",
       "3336  1          1       0     \n",
       "3418  0          1       0     \n",
       "3837  1          1       0     \n",
       "3840  1          0       1     \n",
       "3959  1          0       1     \n",
       "3987  1          0       1     \n",
       "4109  1          1       0     \n",
       "4148  1          0       1     \n",
       "4554  1          1       0     \n",
       "4996  1          0       1     \n",
       "5153  1          0       1     \n",
       "5192  1          1       0     \n",
       "5270  1          0       1     \n",
       "5772  1          0       1     \n",
       "5827  1          1       0     \n",
       "5881  1          1       0     \n",
       "6122  1          1       0     \n",
       "6157  1          1       0     \n",
       "6166  0          1       0     \n",
       "6323  1          1       0     \n",
       "6381  1          1       0     \n",
       "6803  1          1       0     \n",
       "6918  1          0       1     \n",
       "6931  1          1       0     \n",
       "7094  1          0       1     \n",
       "7140  1          1       0     \n",
       "7142  1          0       1     \n",
       "7155  1          1       0     \n",
       "7366  1          1       0     \n",
       "7561  1          1       0     \n",
       "7734  1          1       0     \n",
       "8090  1          0       1     \n",
       "8291  1          1       0     \n",
       "8345  0          0       1     \n",
       "8560  1          0       1     \n",
       "8874  1          0       1     \n",
       "8929  1          0       1     \n",
       "9109  1          1       0     \n",
       "9240  1          1       0     \n",
       "9876  1          0       1     "
      ]
     },
     "execution_count": 43,
     "metadata": {},
     "output_type": "execute_result"
    }
   ],
   "source": [
    "portrait_4 = df.query (\n",
    "    'score >= 750 and credit_card==0 and equity < 5 and last_activity==1 and age>=25 \\\n",
    "    and age <45 and products >= 3 and churn==1') \n",
    "portrait_4"
   ]
  },
  {
   "cell_type": "markdown",
   "id": "afed09d1",
   "metadata": {},
   "source": [
    "**Портрет №5**\n",
    "\n",
    "Пол: мужской\n",
    "\n",
    "Возраст: 25-45\n",
    "\n",
    "Город: любой\n",
    "\n",
    "Количество баллов собственности: 5 и выше\n",
    "\n",
    "Баллы кредитного скоринга: 750 и выше\n",
    "\n",
    "Количество используемых продуктов: 3 и больше\n",
    "\n",
    "Наличие кредитной карты: да\n",
    "\n",
    "Пользовательская активность: да"
   ]
  },
  {
   "cell_type": "code",
   "execution_count": 44,
   "id": "86237779",
   "metadata": {},
   "outputs": [
    {
     "data": {
      "text/html": [
       "<div>\n",
       "<style scoped>\n",
       "    .dataframe tbody tr th:only-of-type {\n",
       "        vertical-align: middle;\n",
       "    }\n",
       "\n",
       "    .dataframe tbody tr th {\n",
       "        vertical-align: top;\n",
       "    }\n",
       "\n",
       "    .dataframe thead th {\n",
       "        text-align: right;\n",
       "    }\n",
       "</style>\n",
       "<table border=\"1\" class=\"dataframe\">\n",
       "  <thead>\n",
       "    <tr style=\"text-align: right;\">\n",
       "      <th></th>\n",
       "      <th>user_id</th>\n",
       "      <th>score</th>\n",
       "      <th>city</th>\n",
       "      <th>gender</th>\n",
       "      <th>age</th>\n",
       "      <th>equity</th>\n",
       "      <th>balance</th>\n",
       "      <th>products</th>\n",
       "      <th>credit_card</th>\n",
       "      <th>last_activity</th>\n",
       "      <th>est_salary</th>\n",
       "      <th>churn</th>\n",
       "      <th>Ростов</th>\n",
       "      <th>Рыбинск</th>\n",
       "      <th>Ярославль</th>\n",
       "      <th>female</th>\n",
       "      <th>male</th>\n",
       "    </tr>\n",
       "  </thead>\n",
       "  <tbody>\n",
       "    <tr>\n",
       "      <th>370</th>\n",
       "      <td>221,249.00</td>\n",
       "      <td>803.00</td>\n",
       "      <td>Рыбинск</td>\n",
       "      <td>М</td>\n",
       "      <td>42</td>\n",
       "      <td>7</td>\n",
       "      <td>458,193.57</td>\n",
       "      <td>4</td>\n",
       "      <td>1</td>\n",
       "      <td>1</td>\n",
       "      <td>83,086.65</td>\n",
       "      <td>1</td>\n",
       "      <td>0</td>\n",
       "      <td>1</td>\n",
       "      <td>0</td>\n",
       "      <td>0</td>\n",
       "      <td>1</td>\n",
       "    </tr>\n",
       "    <tr>\n",
       "      <th>864</th>\n",
       "      <td>208,809.00</td>\n",
       "      <td>838.00</td>\n",
       "      <td>Ростов</td>\n",
       "      <td>М</td>\n",
       "      <td>32</td>\n",
       "      <td>6</td>\n",
       "      <td>239,613.03</td>\n",
       "      <td>4</td>\n",
       "      <td>1</td>\n",
       "      <td>1</td>\n",
       "      <td>111,325.78</td>\n",
       "      <td>1</td>\n",
       "      <td>1</td>\n",
       "      <td>0</td>\n",
       "      <td>0</td>\n",
       "      <td>0</td>\n",
       "      <td>1</td>\n",
       "    </tr>\n",
       "    <tr>\n",
       "      <th>928</th>\n",
       "      <td>220,254.00</td>\n",
       "      <td>838.00</td>\n",
       "      <td>Ярославль</td>\n",
       "      <td>М</td>\n",
       "      <td>35</td>\n",
       "      <td>5</td>\n",
       "      <td>1,284,094.43</td>\n",
       "      <td>4</td>\n",
       "      <td>1</td>\n",
       "      <td>1</td>\n",
       "      <td>179,323.18</td>\n",
       "      <td>1</td>\n",
       "      <td>0</td>\n",
       "      <td>0</td>\n",
       "      <td>1</td>\n",
       "      <td>0</td>\n",
       "      <td>1</td>\n",
       "    </tr>\n",
       "    <tr>\n",
       "      <th>1330</th>\n",
       "      <td>153,741.00</td>\n",
       "      <td>900.00</td>\n",
       "      <td>Ярославль</td>\n",
       "      <td>М</td>\n",
       "      <td>35</td>\n",
       "      <td>5</td>\n",
       "      <td>3,971,985.11</td>\n",
       "      <td>4</td>\n",
       "      <td>1</td>\n",
       "      <td>1</td>\n",
       "      <td>820,180.64</td>\n",
       "      <td>1</td>\n",
       "      <td>0</td>\n",
       "      <td>0</td>\n",
       "      <td>1</td>\n",
       "      <td>0</td>\n",
       "      <td>1</td>\n",
       "    </tr>\n",
       "    <tr>\n",
       "      <th>1539</th>\n",
       "      <td>136,049.00</td>\n",
       "      <td>890.00</td>\n",
       "      <td>Ярославль</td>\n",
       "      <td>М</td>\n",
       "      <td>32</td>\n",
       "      <td>5</td>\n",
       "      <td>1,938,963.26</td>\n",
       "      <td>4</td>\n",
       "      <td>1</td>\n",
       "      <td>1</td>\n",
       "      <td>158,240.78</td>\n",
       "      <td>1</td>\n",
       "      <td>0</td>\n",
       "      <td>0</td>\n",
       "      <td>1</td>\n",
       "      <td>0</td>\n",
       "      <td>1</td>\n",
       "    </tr>\n",
       "    <tr>\n",
       "      <th>1652</th>\n",
       "      <td>203,154.00</td>\n",
       "      <td>893.00</td>\n",
       "      <td>Рыбинск</td>\n",
       "      <td>М</td>\n",
       "      <td>26</td>\n",
       "      <td>5</td>\n",
       "      <td>703,073.41</td>\n",
       "      <td>4</td>\n",
       "      <td>1</td>\n",
       "      <td>1</td>\n",
       "      <td>74,090.92</td>\n",
       "      <td>1</td>\n",
       "      <td>0</td>\n",
       "      <td>1</td>\n",
       "      <td>0</td>\n",
       "      <td>0</td>\n",
       "      <td>1</td>\n",
       "    </tr>\n",
       "    <tr>\n",
       "      <th>1804</th>\n",
       "      <td>214,501.00</td>\n",
       "      <td>911.00</td>\n",
       "      <td>Рыбинск</td>\n",
       "      <td>М</td>\n",
       "      <td>44</td>\n",
       "      <td>5</td>\n",
       "      <td>1,515,849.26</td>\n",
       "      <td>4</td>\n",
       "      <td>1</td>\n",
       "      <td>1</td>\n",
       "      <td>213,884.72</td>\n",
       "      <td>1</td>\n",
       "      <td>0</td>\n",
       "      <td>1</td>\n",
       "      <td>0</td>\n",
       "      <td>0</td>\n",
       "      <td>1</td>\n",
       "    </tr>\n",
       "    <tr>\n",
       "      <th>1862</th>\n",
       "      <td>225,724.00</td>\n",
       "      <td>897.00</td>\n",
       "      <td>Ярославль</td>\n",
       "      <td>М</td>\n",
       "      <td>29</td>\n",
       "      <td>5</td>\n",
       "      <td>1,176,545.37</td>\n",
       "      <td>4</td>\n",
       "      <td>1</td>\n",
       "      <td>1</td>\n",
       "      <td>186,138.06</td>\n",
       "      <td>1</td>\n",
       "      <td>0</td>\n",
       "      <td>0</td>\n",
       "      <td>1</td>\n",
       "      <td>0</td>\n",
       "      <td>1</td>\n",
       "    </tr>\n",
       "    <tr>\n",
       "      <th>1970</th>\n",
       "      <td>167,309.00</td>\n",
       "      <td>845.00</td>\n",
       "      <td>Ярославль</td>\n",
       "      <td>М</td>\n",
       "      <td>29</td>\n",
       "      <td>5</td>\n",
       "      <td>733,098.45</td>\n",
       "      <td>4</td>\n",
       "      <td>1</td>\n",
       "      <td>1</td>\n",
       "      <td>41,443.01</td>\n",
       "      <td>1</td>\n",
       "      <td>0</td>\n",
       "      <td>0</td>\n",
       "      <td>1</td>\n",
       "      <td>0</td>\n",
       "      <td>1</td>\n",
       "    </tr>\n",
       "    <tr>\n",
       "      <th>2499</th>\n",
       "      <td>202,156.00</td>\n",
       "      <td>948.00</td>\n",
       "      <td>Ярославль</td>\n",
       "      <td>М</td>\n",
       "      <td>41</td>\n",
       "      <td>5</td>\n",
       "      <td>3,095,721.85</td>\n",
       "      <td>4</td>\n",
       "      <td>1</td>\n",
       "      <td>1</td>\n",
       "      <td>307,234.69</td>\n",
       "      <td>1</td>\n",
       "      <td>0</td>\n",
       "      <td>0</td>\n",
       "      <td>1</td>\n",
       "      <td>0</td>\n",
       "      <td>1</td>\n",
       "    </tr>\n",
       "    <tr>\n",
       "      <th>2772</th>\n",
       "      <td>109,529.00</td>\n",
       "      <td>804.00</td>\n",
       "      <td>Ярославль</td>\n",
       "      <td>М</td>\n",
       "      <td>42</td>\n",
       "      <td>5</td>\n",
       "      <td>1,376,983.64</td>\n",
       "      <td>4</td>\n",
       "      <td>1</td>\n",
       "      <td>1</td>\n",
       "      <td>261,452.95</td>\n",
       "      <td>1</td>\n",
       "      <td>0</td>\n",
       "      <td>0</td>\n",
       "      <td>1</td>\n",
       "      <td>0</td>\n",
       "      <td>1</td>\n",
       "    </tr>\n",
       "    <tr>\n",
       "      <th>3083</th>\n",
       "      <td>160,688.00</td>\n",
       "      <td>977.00</td>\n",
       "      <td>Рыбинск</td>\n",
       "      <td>М</td>\n",
       "      <td>40</td>\n",
       "      <td>5</td>\n",
       "      <td>4,827,195.67</td>\n",
       "      <td>4</td>\n",
       "      <td>1</td>\n",
       "      <td>1</td>\n",
       "      <td>920,024.89</td>\n",
       "      <td>1</td>\n",
       "      <td>0</td>\n",
       "      <td>1</td>\n",
       "      <td>0</td>\n",
       "      <td>0</td>\n",
       "      <td>1</td>\n",
       "    </tr>\n",
       "    <tr>\n",
       "      <th>3274</th>\n",
       "      <td>171,602.00</td>\n",
       "      <td>863.00</td>\n",
       "      <td>Ярославль</td>\n",
       "      <td>М</td>\n",
       "      <td>30</td>\n",
       "      <td>5</td>\n",
       "      <td>1,036,114.50</td>\n",
       "      <td>5</td>\n",
       "      <td>1</td>\n",
       "      <td>1</td>\n",
       "      <td>150,744.50</td>\n",
       "      <td>1</td>\n",
       "      <td>0</td>\n",
       "      <td>0</td>\n",
       "      <td>1</td>\n",
       "      <td>0</td>\n",
       "      <td>1</td>\n",
       "    </tr>\n",
       "    <tr>\n",
       "      <th>3319</th>\n",
       "      <td>136,745.00</td>\n",
       "      <td>857.00</td>\n",
       "      <td>Ярославль</td>\n",
       "      <td>М</td>\n",
       "      <td>36</td>\n",
       "      <td>7</td>\n",
       "      <td>718,066.40</td>\n",
       "      <td>4</td>\n",
       "      <td>1</td>\n",
       "      <td>1</td>\n",
       "      <td>123,661.21</td>\n",
       "      <td>1</td>\n",
       "      <td>0</td>\n",
       "      <td>0</td>\n",
       "      <td>1</td>\n",
       "      <td>0</td>\n",
       "      <td>1</td>\n",
       "    </tr>\n",
       "    <tr>\n",
       "      <th>3457</th>\n",
       "      <td>138,790.00</td>\n",
       "      <td>854.00</td>\n",
       "      <td>Ярославль</td>\n",
       "      <td>М</td>\n",
       "      <td>43</td>\n",
       "      <td>7</td>\n",
       "      <td>566,387.88</td>\n",
       "      <td>4</td>\n",
       "      <td>1</td>\n",
       "      <td>1</td>\n",
       "      <td>113,927.41</td>\n",
       "      <td>1</td>\n",
       "      <td>0</td>\n",
       "      <td>0</td>\n",
       "      <td>1</td>\n",
       "      <td>0</td>\n",
       "      <td>1</td>\n",
       "    </tr>\n",
       "    <tr>\n",
       "      <th>3676</th>\n",
       "      <td>187,214.00</td>\n",
       "      <td>886.00</td>\n",
       "      <td>Рыбинск</td>\n",
       "      <td>М</td>\n",
       "      <td>39</td>\n",
       "      <td>5</td>\n",
       "      <td>1,035,362.01</td>\n",
       "      <td>4</td>\n",
       "      <td>1</td>\n",
       "      <td>1</td>\n",
       "      <td>67,050.67</td>\n",
       "      <td>1</td>\n",
       "      <td>0</td>\n",
       "      <td>1</td>\n",
       "      <td>0</td>\n",
       "      <td>0</td>\n",
       "      <td>1</td>\n",
       "    </tr>\n",
       "    <tr>\n",
       "      <th>4116</th>\n",
       "      <td>129,175.00</td>\n",
       "      <td>786.00</td>\n",
       "      <td>Рыбинск</td>\n",
       "      <td>М</td>\n",
       "      <td>38</td>\n",
       "      <td>5</td>\n",
       "      <td>574,525.92</td>\n",
       "      <td>4</td>\n",
       "      <td>1</td>\n",
       "      <td>1</td>\n",
       "      <td>70,593.33</td>\n",
       "      <td>1</td>\n",
       "      <td>0</td>\n",
       "      <td>1</td>\n",
       "      <td>0</td>\n",
       "      <td>0</td>\n",
       "      <td>1</td>\n",
       "    </tr>\n",
       "    <tr>\n",
       "      <th>4171</th>\n",
       "      <td>162,834.00</td>\n",
       "      <td>929.00</td>\n",
       "      <td>Ростов</td>\n",
       "      <td>М</td>\n",
       "      <td>27</td>\n",
       "      <td>5</td>\n",
       "      <td>2,037,330.25</td>\n",
       "      <td>4</td>\n",
       "      <td>1</td>\n",
       "      <td>1</td>\n",
       "      <td>453,347.35</td>\n",
       "      <td>1</td>\n",
       "      <td>1</td>\n",
       "      <td>0</td>\n",
       "      <td>0</td>\n",
       "      <td>0</td>\n",
       "      <td>1</td>\n",
       "    </tr>\n",
       "    <tr>\n",
       "      <th>4183</th>\n",
       "      <td>190,827.00</td>\n",
       "      <td>913.00</td>\n",
       "      <td>Ярославль</td>\n",
       "      <td>М</td>\n",
       "      <td>40</td>\n",
       "      <td>5</td>\n",
       "      <td>1,392,227.00</td>\n",
       "      <td>5</td>\n",
       "      <td>1</td>\n",
       "      <td>1</td>\n",
       "      <td>142,818.22</td>\n",
       "      <td>1</td>\n",
       "      <td>0</td>\n",
       "      <td>0</td>\n",
       "      <td>1</td>\n",
       "      <td>0</td>\n",
       "      <td>1</td>\n",
       "    </tr>\n",
       "    <tr>\n",
       "      <th>4203</th>\n",
       "      <td>201,720.00</td>\n",
       "      <td>910.00</td>\n",
       "      <td>Ярославль</td>\n",
       "      <td>М</td>\n",
       "      <td>42</td>\n",
       "      <td>7</td>\n",
       "      <td>3,942,878.16</td>\n",
       "      <td>4</td>\n",
       "      <td>1</td>\n",
       "      <td>1</td>\n",
       "      <td>373,089.91</td>\n",
       "      <td>1</td>\n",
       "      <td>0</td>\n",
       "      <td>0</td>\n",
       "      <td>1</td>\n",
       "      <td>0</td>\n",
       "      <td>1</td>\n",
       "    </tr>\n",
       "    <tr>\n",
       "      <th>4620</th>\n",
       "      <td>201,547.00</td>\n",
       "      <td>924.00</td>\n",
       "      <td>Ярославль</td>\n",
       "      <td>М</td>\n",
       "      <td>31</td>\n",
       "      <td>5</td>\n",
       "      <td>927,300.68</td>\n",
       "      <td>4</td>\n",
       "      <td>1</td>\n",
       "      <td>1</td>\n",
       "      <td>100,253.77</td>\n",
       "      <td>1</td>\n",
       "      <td>0</td>\n",
       "      <td>0</td>\n",
       "      <td>1</td>\n",
       "      <td>0</td>\n",
       "      <td>1</td>\n",
       "    </tr>\n",
       "    <tr>\n",
       "      <th>5450</th>\n",
       "      <td>216,684.00</td>\n",
       "      <td>867.00</td>\n",
       "      <td>Ярославль</td>\n",
       "      <td>М</td>\n",
       "      <td>44</td>\n",
       "      <td>6</td>\n",
       "      <td>789,556.36</td>\n",
       "      <td>4</td>\n",
       "      <td>1</td>\n",
       "      <td>1</td>\n",
       "      <td>240,969.55</td>\n",
       "      <td>1</td>\n",
       "      <td>0</td>\n",
       "      <td>0</td>\n",
       "      <td>1</td>\n",
       "      <td>0</td>\n",
       "      <td>1</td>\n",
       "    </tr>\n",
       "    <tr>\n",
       "      <th>5825</th>\n",
       "      <td>214,280.00</td>\n",
       "      <td>796.00</td>\n",
       "      <td>Ярославль</td>\n",
       "      <td>М</td>\n",
       "      <td>41</td>\n",
       "      <td>5</td>\n",
       "      <td>1,310,180.51</td>\n",
       "      <td>4</td>\n",
       "      <td>1</td>\n",
       "      <td>1</td>\n",
       "      <td>230,116.85</td>\n",
       "      <td>1</td>\n",
       "      <td>0</td>\n",
       "      <td>0</td>\n",
       "      <td>1</td>\n",
       "      <td>0</td>\n",
       "      <td>1</td>\n",
       "    </tr>\n",
       "    <tr>\n",
       "      <th>5966</th>\n",
       "      <td>197,444.00</td>\n",
       "      <td>933.00</td>\n",
       "      <td>Ярославль</td>\n",
       "      <td>М</td>\n",
       "      <td>45</td>\n",
       "      <td>5</td>\n",
       "      <td>2,825,744.81</td>\n",
       "      <td>4</td>\n",
       "      <td>1</td>\n",
       "      <td>1</td>\n",
       "      <td>124,286.75</td>\n",
       "      <td>1</td>\n",
       "      <td>0</td>\n",
       "      <td>0</td>\n",
       "      <td>1</td>\n",
       "      <td>0</td>\n",
       "      <td>1</td>\n",
       "    </tr>\n",
       "    <tr>\n",
       "      <th>6053</th>\n",
       "      <td>128,466.00</td>\n",
       "      <td>849.00</td>\n",
       "      <td>Рыбинск</td>\n",
       "      <td>М</td>\n",
       "      <td>34</td>\n",
       "      <td>5</td>\n",
       "      <td>325,648.74</td>\n",
       "      <td>4</td>\n",
       "      <td>1</td>\n",
       "      <td>1</td>\n",
       "      <td>52,429.53</td>\n",
       "      <td>1</td>\n",
       "      <td>0</td>\n",
       "      <td>1</td>\n",
       "      <td>0</td>\n",
       "      <td>0</td>\n",
       "      <td>1</td>\n",
       "    </tr>\n",
       "    <tr>\n",
       "      <th>6342</th>\n",
       "      <td>163,209.00</td>\n",
       "      <td>821.00</td>\n",
       "      <td>Рыбинск</td>\n",
       "      <td>М</td>\n",
       "      <td>36</td>\n",
       "      <td>7</td>\n",
       "      <td>330,762.44</td>\n",
       "      <td>4</td>\n",
       "      <td>1</td>\n",
       "      <td>1</td>\n",
       "      <td>71,874.96</td>\n",
       "      <td>1</td>\n",
       "      <td>0</td>\n",
       "      <td>1</td>\n",
       "      <td>0</td>\n",
       "      <td>0</td>\n",
       "      <td>1</td>\n",
       "    </tr>\n",
       "    <tr>\n",
       "      <th>7119</th>\n",
       "      <td>134,330.00</td>\n",
       "      <td>869.00</td>\n",
       "      <td>Ростов</td>\n",
       "      <td>М</td>\n",
       "      <td>37</td>\n",
       "      <td>5</td>\n",
       "      <td>2,633,767.57</td>\n",
       "      <td>4</td>\n",
       "      <td>1</td>\n",
       "      <td>1</td>\n",
       "      <td>445,583.35</td>\n",
       "      <td>1</td>\n",
       "      <td>1</td>\n",
       "      <td>0</td>\n",
       "      <td>0</td>\n",
       "      <td>0</td>\n",
       "      <td>1</td>\n",
       "    </tr>\n",
       "    <tr>\n",
       "      <th>7254</th>\n",
       "      <td>135,337.00</td>\n",
       "      <td>920.00</td>\n",
       "      <td>Рыбинск</td>\n",
       "      <td>М</td>\n",
       "      <td>37</td>\n",
       "      <td>5</td>\n",
       "      <td>1,759,413.69</td>\n",
       "      <td>4</td>\n",
       "      <td>1</td>\n",
       "      <td>1</td>\n",
       "      <td>141,452.82</td>\n",
       "      <td>1</td>\n",
       "      <td>0</td>\n",
       "      <td>1</td>\n",
       "      <td>0</td>\n",
       "      <td>0</td>\n",
       "      <td>1</td>\n",
       "    </tr>\n",
       "    <tr>\n",
       "      <th>7545</th>\n",
       "      <td>190,143.00</td>\n",
       "      <td>893.00</td>\n",
       "      <td>Ярославль</td>\n",
       "      <td>М</td>\n",
       "      <td>29</td>\n",
       "      <td>5</td>\n",
       "      <td>867,727.78</td>\n",
       "      <td>5</td>\n",
       "      <td>1</td>\n",
       "      <td>1</td>\n",
       "      <td>144,983.66</td>\n",
       "      <td>1</td>\n",
       "      <td>0</td>\n",
       "      <td>0</td>\n",
       "      <td>1</td>\n",
       "      <td>0</td>\n",
       "      <td>1</td>\n",
       "    </tr>\n",
       "    <tr>\n",
       "      <th>7998</th>\n",
       "      <td>178,343.00</td>\n",
       "      <td>859.00</td>\n",
       "      <td>Рыбинск</td>\n",
       "      <td>М</td>\n",
       "      <td>28</td>\n",
       "      <td>8</td>\n",
       "      <td>196,999.67</td>\n",
       "      <td>4</td>\n",
       "      <td>1</td>\n",
       "      <td>1</td>\n",
       "      <td>116,895.91</td>\n",
       "      <td>1</td>\n",
       "      <td>0</td>\n",
       "      <td>1</td>\n",
       "      <td>0</td>\n",
       "      <td>0</td>\n",
       "      <td>1</td>\n",
       "    </tr>\n",
       "    <tr>\n",
       "      <th>8096</th>\n",
       "      <td>221,630.00</td>\n",
       "      <td>964.00</td>\n",
       "      <td>Ярославль</td>\n",
       "      <td>М</td>\n",
       "      <td>32</td>\n",
       "      <td>7</td>\n",
       "      <td>2,387,747.91</td>\n",
       "      <td>4</td>\n",
       "      <td>1</td>\n",
       "      <td>1</td>\n",
       "      <td>197,723.24</td>\n",
       "      <td>1</td>\n",
       "      <td>0</td>\n",
       "      <td>0</td>\n",
       "      <td>1</td>\n",
       "      <td>0</td>\n",
       "      <td>1</td>\n",
       "    </tr>\n",
       "    <tr>\n",
       "      <th>8399</th>\n",
       "      <td>196,315.00</td>\n",
       "      <td>918.00</td>\n",
       "      <td>Ярославль</td>\n",
       "      <td>М</td>\n",
       "      <td>35</td>\n",
       "      <td>5</td>\n",
       "      <td>1,169,452.38</td>\n",
       "      <td>4</td>\n",
       "      <td>1</td>\n",
       "      <td>1</td>\n",
       "      <td>93,495.06</td>\n",
       "      <td>1</td>\n",
       "      <td>0</td>\n",
       "      <td>0</td>\n",
       "      <td>1</td>\n",
       "      <td>0</td>\n",
       "      <td>1</td>\n",
       "    </tr>\n",
       "    <tr>\n",
       "      <th>8414</th>\n",
       "      <td>125,354.00</td>\n",
       "      <td>776.00</td>\n",
       "      <td>Рыбинск</td>\n",
       "      <td>М</td>\n",
       "      <td>33</td>\n",
       "      <td>5</td>\n",
       "      <td>800,652.42</td>\n",
       "      <td>3</td>\n",
       "      <td>1</td>\n",
       "      <td>1</td>\n",
       "      <td>42,275.21</td>\n",
       "      <td>1</td>\n",
       "      <td>0</td>\n",
       "      <td>1</td>\n",
       "      <td>0</td>\n",
       "      <td>0</td>\n",
       "      <td>1</td>\n",
       "    </tr>\n",
       "    <tr>\n",
       "      <th>8690</th>\n",
       "      <td>184,431.00</td>\n",
       "      <td>867.00</td>\n",
       "      <td>Ярославль</td>\n",
       "      <td>М</td>\n",
       "      <td>42</td>\n",
       "      <td>5</td>\n",
       "      <td>780,671.46</td>\n",
       "      <td>4</td>\n",
       "      <td>1</td>\n",
       "      <td>1</td>\n",
       "      <td>147,110.47</td>\n",
       "      <td>1</td>\n",
       "      <td>0</td>\n",
       "      <td>0</td>\n",
       "      <td>1</td>\n",
       "      <td>0</td>\n",
       "      <td>1</td>\n",
       "    </tr>\n",
       "    <tr>\n",
       "      <th>8787</th>\n",
       "      <td>173,799.00</td>\n",
       "      <td>799.00</td>\n",
       "      <td>Ярославль</td>\n",
       "      <td>М</td>\n",
       "      <td>41</td>\n",
       "      <td>5</td>\n",
       "      <td>1,511,194.05</td>\n",
       "      <td>3</td>\n",
       "      <td>1</td>\n",
       "      <td>1</td>\n",
       "      <td>88,923.03</td>\n",
       "      <td>1</td>\n",
       "      <td>0</td>\n",
       "      <td>0</td>\n",
       "      <td>1</td>\n",
       "      <td>0</td>\n",
       "      <td>1</td>\n",
       "    </tr>\n",
       "    <tr>\n",
       "      <th>8804</th>\n",
       "      <td>170,631.00</td>\n",
       "      <td>948.00</td>\n",
       "      <td>Рыбинск</td>\n",
       "      <td>М</td>\n",
       "      <td>42</td>\n",
       "      <td>5</td>\n",
       "      <td>2,130,302.29</td>\n",
       "      <td>4</td>\n",
       "      <td>1</td>\n",
       "      <td>1</td>\n",
       "      <td>202,287.61</td>\n",
       "      <td>1</td>\n",
       "      <td>0</td>\n",
       "      <td>1</td>\n",
       "      <td>0</td>\n",
       "      <td>0</td>\n",
       "      <td>1</td>\n",
       "    </tr>\n",
       "    <tr>\n",
       "      <th>8958</th>\n",
       "      <td>148,299.00</td>\n",
       "      <td>866.00</td>\n",
       "      <td>Рыбинск</td>\n",
       "      <td>М</td>\n",
       "      <td>34</td>\n",
       "      <td>5</td>\n",
       "      <td>1,435,780.21</td>\n",
       "      <td>3</td>\n",
       "      <td>1</td>\n",
       "      <td>1</td>\n",
       "      <td>263,846.81</td>\n",
       "      <td>1</td>\n",
       "      <td>0</td>\n",
       "      <td>1</td>\n",
       "      <td>0</td>\n",
       "      <td>0</td>\n",
       "      <td>1</td>\n",
       "    </tr>\n",
       "    <tr>\n",
       "      <th>8964</th>\n",
       "      <td>142,834.00</td>\n",
       "      <td>863.00</td>\n",
       "      <td>Ростов</td>\n",
       "      <td>М</td>\n",
       "      <td>27</td>\n",
       "      <td>5</td>\n",
       "      <td>155,609.82</td>\n",
       "      <td>4</td>\n",
       "      <td>1</td>\n",
       "      <td>1</td>\n",
       "      <td>53,270.44</td>\n",
       "      <td>1</td>\n",
       "      <td>1</td>\n",
       "      <td>0</td>\n",
       "      <td>0</td>\n",
       "      <td>0</td>\n",
       "      <td>1</td>\n",
       "    </tr>\n",
       "    <tr>\n",
       "      <th>9273</th>\n",
       "      <td>143,401.00</td>\n",
       "      <td>849.00</td>\n",
       "      <td>Рыбинск</td>\n",
       "      <td>М</td>\n",
       "      <td>39</td>\n",
       "      <td>5</td>\n",
       "      <td>255,958.81</td>\n",
       "      <td>4</td>\n",
       "      <td>1</td>\n",
       "      <td>1</td>\n",
       "      <td>179,475.08</td>\n",
       "      <td>1</td>\n",
       "      <td>0</td>\n",
       "      <td>1</td>\n",
       "      <td>0</td>\n",
       "      <td>0</td>\n",
       "      <td>1</td>\n",
       "    </tr>\n",
       "    <tr>\n",
       "      <th>9284</th>\n",
       "      <td>147,488.00</td>\n",
       "      <td>895.00</td>\n",
       "      <td>Ярославль</td>\n",
       "      <td>М</td>\n",
       "      <td>31</td>\n",
       "      <td>6</td>\n",
       "      <td>845,549.34</td>\n",
       "      <td>4</td>\n",
       "      <td>1</td>\n",
       "      <td>1</td>\n",
       "      <td>83,366.64</td>\n",
       "      <td>1</td>\n",
       "      <td>0</td>\n",
       "      <td>0</td>\n",
       "      <td>1</td>\n",
       "      <td>0</td>\n",
       "      <td>1</td>\n",
       "    </tr>\n",
       "    <tr>\n",
       "      <th>9896</th>\n",
       "      <td>150,126.00</td>\n",
       "      <td>919.00</td>\n",
       "      <td>Ярославль</td>\n",
       "      <td>М</td>\n",
       "      <td>42</td>\n",
       "      <td>5</td>\n",
       "      <td>2,183,175.39</td>\n",
       "      <td>4</td>\n",
       "      <td>1</td>\n",
       "      <td>1</td>\n",
       "      <td>206,343.23</td>\n",
       "      <td>1</td>\n",
       "      <td>0</td>\n",
       "      <td>0</td>\n",
       "      <td>1</td>\n",
       "      <td>0</td>\n",
       "      <td>1</td>\n",
       "    </tr>\n",
       "  </tbody>\n",
       "</table>\n",
       "</div>"
      ],
      "text/plain": [
       "        user_id  score       city gender  age  equity      balance  products  \\\n",
       "370  221,249.00 803.00  Рыбинск    М      42   7      458,193.57    4          \n",
       "864  208,809.00 838.00  Ростов     М      32   6      239,613.03    4          \n",
       "928  220,254.00 838.00  Ярославль  М      35   5      1,284,094.43  4          \n",
       "1330 153,741.00 900.00  Ярославль  М      35   5      3,971,985.11  4          \n",
       "1539 136,049.00 890.00  Ярославль  М      32   5      1,938,963.26  4          \n",
       "1652 203,154.00 893.00  Рыбинск    М      26   5      703,073.41    4          \n",
       "1804 214,501.00 911.00  Рыбинск    М      44   5      1,515,849.26  4          \n",
       "1862 225,724.00 897.00  Ярославль  М      29   5      1,176,545.37  4          \n",
       "1970 167,309.00 845.00  Ярославль  М      29   5      733,098.45    4          \n",
       "2499 202,156.00 948.00  Ярославль  М      41   5      3,095,721.85  4          \n",
       "2772 109,529.00 804.00  Ярославль  М      42   5      1,376,983.64  4          \n",
       "3083 160,688.00 977.00  Рыбинск    М      40   5      4,827,195.67  4          \n",
       "3274 171,602.00 863.00  Ярославль  М      30   5      1,036,114.50  5          \n",
       "3319 136,745.00 857.00  Ярославль  М      36   7      718,066.40    4          \n",
       "3457 138,790.00 854.00  Ярославль  М      43   7      566,387.88    4          \n",
       "3676 187,214.00 886.00  Рыбинск    М      39   5      1,035,362.01  4          \n",
       "4116 129,175.00 786.00  Рыбинск    М      38   5      574,525.92    4          \n",
       "4171 162,834.00 929.00  Ростов     М      27   5      2,037,330.25  4          \n",
       "4183 190,827.00 913.00  Ярославль  М      40   5      1,392,227.00  5          \n",
       "4203 201,720.00 910.00  Ярославль  М      42   7      3,942,878.16  4          \n",
       "4620 201,547.00 924.00  Ярославль  М      31   5      927,300.68    4          \n",
       "5450 216,684.00 867.00  Ярославль  М      44   6      789,556.36    4          \n",
       "5825 214,280.00 796.00  Ярославль  М      41   5      1,310,180.51  4          \n",
       "5966 197,444.00 933.00  Ярославль  М      45   5      2,825,744.81  4          \n",
       "6053 128,466.00 849.00  Рыбинск    М      34   5      325,648.74    4          \n",
       "6342 163,209.00 821.00  Рыбинск    М      36   7      330,762.44    4          \n",
       "7119 134,330.00 869.00  Ростов     М      37   5      2,633,767.57  4          \n",
       "7254 135,337.00 920.00  Рыбинск    М      37   5      1,759,413.69  4          \n",
       "7545 190,143.00 893.00  Ярославль  М      29   5      867,727.78    5          \n",
       "7998 178,343.00 859.00  Рыбинск    М      28   8      196,999.67    4          \n",
       "8096 221,630.00 964.00  Ярославль  М      32   7      2,387,747.91  4          \n",
       "8399 196,315.00 918.00  Ярославль  М      35   5      1,169,452.38  4          \n",
       "8414 125,354.00 776.00  Рыбинск    М      33   5      800,652.42    3          \n",
       "8690 184,431.00 867.00  Ярославль  М      42   5      780,671.46    4          \n",
       "8787 173,799.00 799.00  Ярославль  М      41   5      1,511,194.05  3          \n",
       "8804 170,631.00 948.00  Рыбинск    М      42   5      2,130,302.29  4          \n",
       "8958 148,299.00 866.00  Рыбинск    М      34   5      1,435,780.21  3          \n",
       "8964 142,834.00 863.00  Ростов     М      27   5      155,609.82    4          \n",
       "9273 143,401.00 849.00  Рыбинск    М      39   5      255,958.81    4          \n",
       "9284 147,488.00 895.00  Ярославль  М      31   6      845,549.34    4          \n",
       "9896 150,126.00 919.00  Ярославль  М      42   5      2,183,175.39  4          \n",
       "\n",
       "      credit_card  last_activity  est_salary  churn  Ростов  Рыбинск  \\\n",
       "370   1            1             83,086.65    1      0       1         \n",
       "864   1            1             111,325.78   1      1       0         \n",
       "928   1            1             179,323.18   1      0       0         \n",
       "1330  1            1             820,180.64   1      0       0         \n",
       "1539  1            1             158,240.78   1      0       0         \n",
       "1652  1            1             74,090.92    1      0       1         \n",
       "1804  1            1             213,884.72   1      0       1         \n",
       "1862  1            1             186,138.06   1      0       0         \n",
       "1970  1            1             41,443.01    1      0       0         \n",
       "2499  1            1             307,234.69   1      0       0         \n",
       "2772  1            1             261,452.95   1      0       0         \n",
       "3083  1            1             920,024.89   1      0       1         \n",
       "3274  1            1             150,744.50   1      0       0         \n",
       "3319  1            1             123,661.21   1      0       0         \n",
       "3457  1            1             113,927.41   1      0       0         \n",
       "3676  1            1             67,050.67    1      0       1         \n",
       "4116  1            1             70,593.33    1      0       1         \n",
       "4171  1            1             453,347.35   1      1       0         \n",
       "4183  1            1             142,818.22   1      0       0         \n",
       "4203  1            1             373,089.91   1      0       0         \n",
       "4620  1            1             100,253.77   1      0       0         \n",
       "5450  1            1             240,969.55   1      0       0         \n",
       "5825  1            1             230,116.85   1      0       0         \n",
       "5966  1            1             124,286.75   1      0       0         \n",
       "6053  1            1             52,429.53    1      0       1         \n",
       "6342  1            1             71,874.96    1      0       1         \n",
       "7119  1            1             445,583.35   1      1       0         \n",
       "7254  1            1             141,452.82   1      0       1         \n",
       "7545  1            1             144,983.66   1      0       0         \n",
       "7998  1            1             116,895.91   1      0       1         \n",
       "8096  1            1             197,723.24   1      0       0         \n",
       "8399  1            1             93,495.06    1      0       0         \n",
       "8414  1            1             42,275.21    1      0       1         \n",
       "8690  1            1             147,110.47   1      0       0         \n",
       "8787  1            1             88,923.03    1      0       0         \n",
       "8804  1            1             202,287.61   1      0       1         \n",
       "8958  1            1             263,846.81   1      0       1         \n",
       "8964  1            1             53,270.44    1      1       0         \n",
       "9273  1            1             179,475.08   1      0       1         \n",
       "9284  1            1             83,366.64    1      0       0         \n",
       "9896  1            1             206,343.23   1      0       0         \n",
       "\n",
       "      Ярославль  female  male  \n",
       "370   0          0       1     \n",
       "864   0          0       1     \n",
       "928   1          0       1     \n",
       "1330  1          0       1     \n",
       "1539  1          0       1     \n",
       "1652  0          0       1     \n",
       "1804  0          0       1     \n",
       "1862  1          0       1     \n",
       "1970  1          0       1     \n",
       "2499  1          0       1     \n",
       "2772  1          0       1     \n",
       "3083  0          0       1     \n",
       "3274  1          0       1     \n",
       "3319  1          0       1     \n",
       "3457  1          0       1     \n",
       "3676  0          0       1     \n",
       "4116  0          0       1     \n",
       "4171  0          0       1     \n",
       "4183  1          0       1     \n",
       "4203  1          0       1     \n",
       "4620  1          0       1     \n",
       "5450  1          0       1     \n",
       "5825  1          0       1     \n",
       "5966  1          0       1     \n",
       "6053  0          0       1     \n",
       "6342  0          0       1     \n",
       "7119  0          0       1     \n",
       "7254  0          0       1     \n",
       "7545  1          0       1     \n",
       "7998  0          0       1     \n",
       "8096  1          0       1     \n",
       "8399  1          0       1     \n",
       "8414  0          0       1     \n",
       "8690  1          0       1     \n",
       "8787  1          0       1     \n",
       "8804  0          0       1     \n",
       "8958  0          0       1     \n",
       "8964  0          0       1     \n",
       "9273  0          0       1     \n",
       "9284  1          0       1     \n",
       "9896  1          0       1     "
      ]
     },
     "execution_count": 44,
     "metadata": {},
     "output_type": "execute_result"
    }
   ],
   "source": [
    "portrait_5 = df.query (\n",
    "    'male==1 and equity>=5 and score >= 750 and credit_card==1 and last_activity==1 and age>=25 \\\n",
    "    and age<=45 and products >= 3 and churn==1') \n",
    "portrait_5"
   ]
  },
  {
   "cell_type": "markdown",
   "id": "dddd52f6",
   "metadata": {},
   "source": [
    "**Портрет №6**\n",
    "\n",
    "Пол: женский\n",
    "\n",
    "Возраст: 25-45\n",
    "\n",
    "Город: любой\n",
    "\n",
    "Количество баллов собственности: 5 и выше\n",
    "\n",
    "Баллы кредитного скоринга: 750 и выше\n",
    "\n",
    "Количество используемых продуктов: 3 и больше\n",
    "\n",
    "Наличие кредитной карты: да\n",
    "\n",
    "Пользовательская активность: да"
   ]
  },
  {
   "cell_type": "code",
   "execution_count": 45,
   "id": "5fd3f453",
   "metadata": {},
   "outputs": [
    {
     "data": {
      "text/html": [
       "<div>\n",
       "<style scoped>\n",
       "    .dataframe tbody tr th:only-of-type {\n",
       "        vertical-align: middle;\n",
       "    }\n",
       "\n",
       "    .dataframe tbody tr th {\n",
       "        vertical-align: top;\n",
       "    }\n",
       "\n",
       "    .dataframe thead th {\n",
       "        text-align: right;\n",
       "    }\n",
       "</style>\n",
       "<table border=\"1\" class=\"dataframe\">\n",
       "  <thead>\n",
       "    <tr style=\"text-align: right;\">\n",
       "      <th></th>\n",
       "      <th>user_id</th>\n",
       "      <th>score</th>\n",
       "      <th>city</th>\n",
       "      <th>gender</th>\n",
       "      <th>age</th>\n",
       "      <th>equity</th>\n",
       "      <th>balance</th>\n",
       "      <th>products</th>\n",
       "      <th>credit_card</th>\n",
       "      <th>last_activity</th>\n",
       "      <th>est_salary</th>\n",
       "      <th>churn</th>\n",
       "      <th>Ростов</th>\n",
       "      <th>Рыбинск</th>\n",
       "      <th>Ярославль</th>\n",
       "      <th>female</th>\n",
       "      <th>male</th>\n",
       "    </tr>\n",
       "  </thead>\n",
       "  <tbody>\n",
       "    <tr>\n",
       "      <th>385</th>\n",
       "      <td>114,349.00</td>\n",
       "      <td>898.00</td>\n",
       "      <td>Рыбинск</td>\n",
       "      <td>Ж</td>\n",
       "      <td>41</td>\n",
       "      <td>5</td>\n",
       "      <td>572,927.93</td>\n",
       "      <td>4</td>\n",
       "      <td>1</td>\n",
       "      <td>1</td>\n",
       "      <td>76,930.63</td>\n",
       "      <td>1</td>\n",
       "      <td>0</td>\n",
       "      <td>1</td>\n",
       "      <td>0</td>\n",
       "      <td>1</td>\n",
       "      <td>0</td>\n",
       "    </tr>\n",
       "    <tr>\n",
       "      <th>523</th>\n",
       "      <td>195,914.00</td>\n",
       "      <td>852.00</td>\n",
       "      <td>Ярославль</td>\n",
       "      <td>Ж</td>\n",
       "      <td>39</td>\n",
       "      <td>5</td>\n",
       "      <td>1,388,255.70</td>\n",
       "      <td>5</td>\n",
       "      <td>1</td>\n",
       "      <td>1</td>\n",
       "      <td>135,432.48</td>\n",
       "      <td>1</td>\n",
       "      <td>0</td>\n",
       "      <td>0</td>\n",
       "      <td>1</td>\n",
       "      <td>1</td>\n",
       "      <td>0</td>\n",
       "    </tr>\n",
       "    <tr>\n",
       "      <th>1382</th>\n",
       "      <td>143,947.00</td>\n",
       "      <td>906.00</td>\n",
       "      <td>Рыбинск</td>\n",
       "      <td>Ж</td>\n",
       "      <td>34</td>\n",
       "      <td>5</td>\n",
       "      <td>1,288,431.87</td>\n",
       "      <td>4</td>\n",
       "      <td>1</td>\n",
       "      <td>1</td>\n",
       "      <td>185,920.85</td>\n",
       "      <td>1</td>\n",
       "      <td>0</td>\n",
       "      <td>1</td>\n",
       "      <td>0</td>\n",
       "      <td>1</td>\n",
       "      <td>0</td>\n",
       "    </tr>\n",
       "    <tr>\n",
       "      <th>1784</th>\n",
       "      <td>220,800.00</td>\n",
       "      <td>910.00</td>\n",
       "      <td>Ярославль</td>\n",
       "      <td>Ж</td>\n",
       "      <td>38</td>\n",
       "      <td>5</td>\n",
       "      <td>2,117,755.34</td>\n",
       "      <td>4</td>\n",
       "      <td>1</td>\n",
       "      <td>1</td>\n",
       "      <td>242,409.75</td>\n",
       "      <td>1</td>\n",
       "      <td>0</td>\n",
       "      <td>0</td>\n",
       "      <td>1</td>\n",
       "      <td>1</td>\n",
       "      <td>0</td>\n",
       "    </tr>\n",
       "    <tr>\n",
       "      <th>2227</th>\n",
       "      <td>228,095.00</td>\n",
       "      <td>888.00</td>\n",
       "      <td>Ярославль</td>\n",
       "      <td>Ж</td>\n",
       "      <td>26</td>\n",
       "      <td>5</td>\n",
       "      <td>336,864.58</td>\n",
       "      <td>4</td>\n",
       "      <td>1</td>\n",
       "      <td>1</td>\n",
       "      <td>16,502.70</td>\n",
       "      <td>1</td>\n",
       "      <td>0</td>\n",
       "      <td>0</td>\n",
       "      <td>1</td>\n",
       "      <td>1</td>\n",
       "      <td>0</td>\n",
       "    </tr>\n",
       "    <tr>\n",
       "      <th>2800</th>\n",
       "      <td>133,896.00</td>\n",
       "      <td>797.00</td>\n",
       "      <td>Ярославль</td>\n",
       "      <td>Ж</td>\n",
       "      <td>33</td>\n",
       "      <td>5</td>\n",
       "      <td>1,053,977.67</td>\n",
       "      <td>4</td>\n",
       "      <td>1</td>\n",
       "      <td>1</td>\n",
       "      <td>92,072.17</td>\n",
       "      <td>1</td>\n",
       "      <td>0</td>\n",
       "      <td>0</td>\n",
       "      <td>1</td>\n",
       "      <td>1</td>\n",
       "      <td>0</td>\n",
       "    </tr>\n",
       "    <tr>\n",
       "      <th>2989</th>\n",
       "      <td>96,679.00</td>\n",
       "      <td>918.00</td>\n",
       "      <td>Ярославль</td>\n",
       "      <td>Ж</td>\n",
       "      <td>37</td>\n",
       "      <td>5</td>\n",
       "      <td>1,366,382.35</td>\n",
       "      <td>4</td>\n",
       "      <td>1</td>\n",
       "      <td>1</td>\n",
       "      <td>97,932.95</td>\n",
       "      <td>1</td>\n",
       "      <td>0</td>\n",
       "      <td>0</td>\n",
       "      <td>1</td>\n",
       "      <td>1</td>\n",
       "      <td>0</td>\n",
       "    </tr>\n",
       "    <tr>\n",
       "      <th>2990</th>\n",
       "      <td>225,234.00</td>\n",
       "      <td>934.00</td>\n",
       "      <td>Ярославль</td>\n",
       "      <td>Ж</td>\n",
       "      <td>37</td>\n",
       "      <td>5</td>\n",
       "      <td>2,894,230.30</td>\n",
       "      <td>4</td>\n",
       "      <td>1</td>\n",
       "      <td>1</td>\n",
       "      <td>252,071.75</td>\n",
       "      <td>1</td>\n",
       "      <td>0</td>\n",
       "      <td>0</td>\n",
       "      <td>1</td>\n",
       "      <td>1</td>\n",
       "      <td>0</td>\n",
       "    </tr>\n",
       "    <tr>\n",
       "      <th>3133</th>\n",
       "      <td>200,856.00</td>\n",
       "      <td>876.00</td>\n",
       "      <td>Ярославль</td>\n",
       "      <td>Ж</td>\n",
       "      <td>39</td>\n",
       "      <td>5</td>\n",
       "      <td>1,497,303.86</td>\n",
       "      <td>4</td>\n",
       "      <td>1</td>\n",
       "      <td>1</td>\n",
       "      <td>220,384.96</td>\n",
       "      <td>1</td>\n",
       "      <td>0</td>\n",
       "      <td>0</td>\n",
       "      <td>1</td>\n",
       "      <td>1</td>\n",
       "      <td>0</td>\n",
       "    </tr>\n",
       "    <tr>\n",
       "      <th>3842</th>\n",
       "      <td>155,694.00</td>\n",
       "      <td>864.00</td>\n",
       "      <td>Ярославль</td>\n",
       "      <td>Ж</td>\n",
       "      <td>32</td>\n",
       "      <td>5</td>\n",
       "      <td>1,930,019.02</td>\n",
       "      <td>4</td>\n",
       "      <td>1</td>\n",
       "      <td>1</td>\n",
       "      <td>304,020.85</td>\n",
       "      <td>1</td>\n",
       "      <td>0</td>\n",
       "      <td>0</td>\n",
       "      <td>1</td>\n",
       "      <td>1</td>\n",
       "      <td>0</td>\n",
       "    </tr>\n",
       "    <tr>\n",
       "      <th>3846</th>\n",
       "      <td>212,516.00</td>\n",
       "      <td>868.00</td>\n",
       "      <td>Рыбинск</td>\n",
       "      <td>Ж</td>\n",
       "      <td>42</td>\n",
       "      <td>5</td>\n",
       "      <td>546,456.02</td>\n",
       "      <td>4</td>\n",
       "      <td>1</td>\n",
       "      <td>1</td>\n",
       "      <td>192,022.20</td>\n",
       "      <td>1</td>\n",
       "      <td>0</td>\n",
       "      <td>1</td>\n",
       "      <td>0</td>\n",
       "      <td>1</td>\n",
       "      <td>0</td>\n",
       "    </tr>\n",
       "    <tr>\n",
       "      <th>4866</th>\n",
       "      <td>163,530.00</td>\n",
       "      <td>855.00</td>\n",
       "      <td>Рыбинск</td>\n",
       "      <td>Ж</td>\n",
       "      <td>32</td>\n",
       "      <td>6</td>\n",
       "      <td>1,036,832.93</td>\n",
       "      <td>4</td>\n",
       "      <td>1</td>\n",
       "      <td>1</td>\n",
       "      <td>107,792.71</td>\n",
       "      <td>1</td>\n",
       "      <td>0</td>\n",
       "      <td>1</td>\n",
       "      <td>0</td>\n",
       "      <td>1</td>\n",
       "      <td>0</td>\n",
       "    </tr>\n",
       "    <tr>\n",
       "      <th>5551</th>\n",
       "      <td>205,291.00</td>\n",
       "      <td>864.00</td>\n",
       "      <td>Ярославль</td>\n",
       "      <td>Ж</td>\n",
       "      <td>45</td>\n",
       "      <td>5</td>\n",
       "      <td>1,517,133.62</td>\n",
       "      <td>4</td>\n",
       "      <td>1</td>\n",
       "      <td>1</td>\n",
       "      <td>192,301.14</td>\n",
       "      <td>1</td>\n",
       "      <td>0</td>\n",
       "      <td>0</td>\n",
       "      <td>1</td>\n",
       "      <td>1</td>\n",
       "      <td>0</td>\n",
       "    </tr>\n",
       "    <tr>\n",
       "      <th>7041</th>\n",
       "      <td>124,781.00</td>\n",
       "      <td>805.00</td>\n",
       "      <td>Ростов</td>\n",
       "      <td>Ж</td>\n",
       "      <td>33</td>\n",
       "      <td>5</td>\n",
       "      <td>631,053.76</td>\n",
       "      <td>3</td>\n",
       "      <td>1</td>\n",
       "      <td>1</td>\n",
       "      <td>27,906.10</td>\n",
       "      <td>1</td>\n",
       "      <td>1</td>\n",
       "      <td>0</td>\n",
       "      <td>0</td>\n",
       "      <td>1</td>\n",
       "      <td>0</td>\n",
       "    </tr>\n",
       "    <tr>\n",
       "      <th>7753</th>\n",
       "      <td>210,538.00</td>\n",
       "      <td>846.00</td>\n",
       "      <td>Ярославль</td>\n",
       "      <td>Ж</td>\n",
       "      <td>32</td>\n",
       "      <td>7</td>\n",
       "      <td>216,764.74</td>\n",
       "      <td>4</td>\n",
       "      <td>1</td>\n",
       "      <td>1</td>\n",
       "      <td>77,100.85</td>\n",
       "      <td>1</td>\n",
       "      <td>0</td>\n",
       "      <td>0</td>\n",
       "      <td>1</td>\n",
       "      <td>1</td>\n",
       "      <td>0</td>\n",
       "    </tr>\n",
       "  </tbody>\n",
       "</table>\n",
       "</div>"
      ],
      "text/plain": [
       "        user_id  score       city gender  age  equity      balance  products  \\\n",
       "385  114,349.00 898.00  Рыбинск    Ж      41   5      572,927.93    4          \n",
       "523  195,914.00 852.00  Ярославль  Ж      39   5      1,388,255.70  5          \n",
       "1382 143,947.00 906.00  Рыбинск    Ж      34   5      1,288,431.87  4          \n",
       "1784 220,800.00 910.00  Ярославль  Ж      38   5      2,117,755.34  4          \n",
       "2227 228,095.00 888.00  Ярославль  Ж      26   5      336,864.58    4          \n",
       "2800 133,896.00 797.00  Ярославль  Ж      33   5      1,053,977.67  4          \n",
       "2989 96,679.00  918.00  Ярославль  Ж      37   5      1,366,382.35  4          \n",
       "2990 225,234.00 934.00  Ярославль  Ж      37   5      2,894,230.30  4          \n",
       "3133 200,856.00 876.00  Ярославль  Ж      39   5      1,497,303.86  4          \n",
       "3842 155,694.00 864.00  Ярославль  Ж      32   5      1,930,019.02  4          \n",
       "3846 212,516.00 868.00  Рыбинск    Ж      42   5      546,456.02    4          \n",
       "4866 163,530.00 855.00  Рыбинск    Ж      32   6      1,036,832.93  4          \n",
       "5551 205,291.00 864.00  Ярославль  Ж      45   5      1,517,133.62  4          \n",
       "7041 124,781.00 805.00  Ростов     Ж      33   5      631,053.76    3          \n",
       "7753 210,538.00 846.00  Ярославль  Ж      32   7      216,764.74    4          \n",
       "\n",
       "      credit_card  last_activity  est_salary  churn  Ростов  Рыбинск  \\\n",
       "385   1            1             76,930.63    1      0       1         \n",
       "523   1            1             135,432.48   1      0       0         \n",
       "1382  1            1             185,920.85   1      0       1         \n",
       "1784  1            1             242,409.75   1      0       0         \n",
       "2227  1            1             16,502.70    1      0       0         \n",
       "2800  1            1             92,072.17    1      0       0         \n",
       "2989  1            1             97,932.95    1      0       0         \n",
       "2990  1            1             252,071.75   1      0       0         \n",
       "3133  1            1             220,384.96   1      0       0         \n",
       "3842  1            1             304,020.85   1      0       0         \n",
       "3846  1            1             192,022.20   1      0       1         \n",
       "4866  1            1             107,792.71   1      0       1         \n",
       "5551  1            1             192,301.14   1      0       0         \n",
       "7041  1            1             27,906.10    1      1       0         \n",
       "7753  1            1             77,100.85    1      0       0         \n",
       "\n",
       "      Ярославль  female  male  \n",
       "385   0          1       0     \n",
       "523   1          1       0     \n",
       "1382  0          1       0     \n",
       "1784  1          1       0     \n",
       "2227  1          1       0     \n",
       "2800  1          1       0     \n",
       "2989  1          1       0     \n",
       "2990  1          1       0     \n",
       "3133  1          1       0     \n",
       "3842  1          1       0     \n",
       "3846  0          1       0     \n",
       "4866  0          1       0     \n",
       "5551  1          1       0     \n",
       "7041  0          1       0     \n",
       "7753  1          1       0     "
      ]
     },
     "execution_count": 45,
     "metadata": {},
     "output_type": "execute_result"
    }
   ],
   "source": [
    "portrait_6 = df.query (\n",
    "    'female==1 and equity>=5 and score >= 750 and credit_card==1 and last_activity==1 and age>=25 \\\n",
    "    and age<=45 and products >= 3 and churn==1') \n",
    "portrait_6"
   ]
  },
  {
   "cell_type": "markdown",
   "id": "b3d3285a",
   "metadata": {},
   "source": [
    "Составили предварительные портреты пользователей, склонных к оттоку. Для более точной сегментации пользователей, проведем статистический анализ и проверим нескольких гипотез."
   ]
  },
  {
   "cell_type": "markdown",
   "id": "afeb7f3f",
   "metadata": {},
   "source": [
    "##  Статистический анализ данных"
   ]
  },
  {
   "cell_type": "markdown",
   "id": "6195d08d",
   "metadata": {},
   "source": [
    "### Проверка гипотезы о различия дохода между теми клиентами, которые ушли и теми, которые остались."
   ]
  },
  {
   "cell_type": "markdown",
   "id": "dd755bf2",
   "metadata": {},
   "source": [
    "Сформулируем нулевую и альтернативную гипотезы:\n",
    "\n",
    "Н0: Между клиенатами, которые ушли и теми, которые остались нет статистически значимого различия доходов\n",
    "\n",
    "Н1: Между клиентами есть статистически значимое различие доходов"
   ]
  },
  {
   "cell_type": "code",
   "execution_count": 46,
   "id": "ed2f271b",
   "metadata": {},
   "outputs": [
    {
     "data": {
      "image/png": "[encoded data removed]",
      "text/plain": [
       "<Figure size 1440x216 with 2 Axes>"
      ]
     },
     "metadata": {
      "needs_background": "light"
     },
     "output_type": "display_data"
    }
   ],
   "source": [
    "# посмотрим на распределение выборок\n",
    "fig, (ax1, ax2) = plt.subplots(1,2,figsize=(20,3))\n",
    "\n",
    "sns.distplot(df.query('churn == 0')['est_salary'], kde=False, ax=ax1)\n",
    "ax1.set_title(\"Распределение доходов оставшихся клиентов\")\n",
    "\n",
    "sns.distplot(df.query('churn == 1')['est_salary'], kde=False, ax=ax2)\n",
    "ax2.set_title(\"Распределение доходов ушедших клиентов\")\n",
    "\n",
    "plt.show()"
   ]
  },
  {
   "cell_type": "markdown",
   "id": "aee537fa",
   "metadata": {},
   "source": [
    "В данном случае рассматривается гипотеза о равенстве между собой средних двух генеральных совокупностей. Значения в выборках распределены равномерно. Поэтому используем специальный метод для проверки гипотезы о равенстве среднего двух генеральных совокупностей по взятым из них выборкам ttest_ind"
   ]
  },
  {
   "cell_type": "code",
   "execution_count": 47,
   "id": "4e0afdc3",
   "metadata": {},
   "outputs": [
    {
     "name": "stdout",
     "output_type": "stream",
     "text": [
      "p-value =  0.8515799588935961\n",
      "Не получилось отвергнуть нулевую гипотезу\n"
     ]
    }
   ],
   "source": [
    "# results = вызов метода для проверки гипотезы\n",
    "\n",
    "results = st.ttest_ind (\n",
    "    df[df['churn']==0]['est_salary'],\n",
    "    df[df['churn']==1]['est_salary'], equal_var = False)\n",
    "\n",
    "alpha = 0.05 # уровень статистической значимости\n",
    "# если p-value окажется меньше него, отвергнем гипотезу\n",
    " \n",
    "print(\"p-value = \",results.pvalue)\n",
    "\n",
    "if results.pvalue < alpha:\n",
    "    print ('Отвергаем нулевую гипотезу')\n",
    "else:\n",
    "    print ('Не получилось отвергнуть нулевую гипотезу')\n",
    "       "
   ]
  },
  {
   "cell_type": "markdown",
   "id": "bd30f5b8",
   "metadata": {},
   "source": [
    "p-value значительно больше принятого уровня статической значимости (0.05), нулевая гипотеза не отвергнута, между клиенатами которые ушли и теми, которые остались нет статистически значимого различия доходов."
   ]
  },
  {
   "cell_type": "markdown",
   "id": "45f21f9c",
   "metadata": {},
   "source": [
    "### Проверка гипотезы о различие в количестве баллов собственности  отточных и оставшихся клиентов"
   ]
  },
  {
   "cell_type": "markdown",
   "id": "b8a34c85",
   "metadata": {},
   "source": [
    "Сформулируем нулевую и альтернативную гипотезы:\n",
    "\n",
    "H0: Между клиенатами, которые ушли и теми, которые остались нет статистически значимого различия в количестве баллов собственности\n",
    "\n",
    "H1: Между клиентами есть статистически значимое различие в количестве баллов собственности"
   ]
  },
  {
   "cell_type": "code",
   "execution_count": 48,
   "id": "ef9a6b48",
   "metadata": {},
   "outputs": [
    {
     "data": {
      "image/png": "[encoded data removed]",
      "text/plain": [
       "<Figure size 1440x216 with 2 Axes>"
      ]
     },
     "metadata": {
      "needs_background": "light"
     },
     "output_type": "display_data"
    }
   ],
   "source": [
    "# посмотрим на распределение выборок\n",
    "fig, (ax1, ax2) = plt.subplots(1,2,figsize=(20,3))\n",
    "\n",
    "sns.distplot(df.query('churn == 0')['equity'], kde=False, ax=ax1)\n",
    "ax1.set_title(\"Распределение количества баллов собственности оставшихся клиентов\")\n",
    "\n",
    "sns.distplot(df.query('churn == 1')['equity'], kde=False, ax=ax2)\n",
    "ax2.set_title(\"Распределение количества баллов собственности ушедших клиентов\")\n",
    "\n",
    "plt.show()"
   ]
  },
  {
   "cell_type": "code",
   "execution_count": 49,
   "id": "67c76a37",
   "metadata": {},
   "outputs": [
    {
     "name": "stdout",
     "output_type": "stream",
     "text": [
      "p-value =  2.0104399828205813e-196\n",
      "Отвергаем нулевую гипотезу\n"
     ]
    }
   ],
   "source": [
    "# results = вызов метода для проверки гипотезы\n",
    "\n",
    "results = st.ttest_ind (\n",
    "    df[df['churn']==0]['equity'],\n",
    "    df[df['churn']==1]['equity'], equal_var = False)\n",
    "\n",
    "alpha = 0.05 # уровень статистической значимости\n",
    "# если p-value окажется меньше него, отвергнем гипотезу\n",
    " \n",
    "print(\"p-value = \",results.pvalue)\n",
    "\n",
    "if results.pvalue < alpha:\n",
    "    print ('Отвергаем нулевую гипотезу')\n",
    "else:\n",
    "    print ('Не получилось отвергнуть нулевую гипотезу')\n",
    "       "
   ]
  },
  {
   "cell_type": "markdown",
   "id": "d93e9e92",
   "metadata": {},
   "source": [
    "p-value значительно меньше принятого уровня статической значимости (0.05), нулевая гипотеза отвергнута, между клиентами которые ушли и теми, которые остались есть статистически значимое различие в количестве баллов собственности.Эти результаты совпадают с результатами исследовательского анализа."
   ]
  },
  {
   "cell_type": "markdown",
   "id": "7f96dc19",
   "metadata": {},
   "source": [
    "### Проверка гипотезы о различии в количестве используемых банковских продуктов"
   ]
  },
  {
   "cell_type": "markdown",
   "id": "26673f49",
   "metadata": {},
   "source": [
    "Сформулируем нулевую и альтернативную гипотезы:\n",
    "\n",
    "H0: Между клиенатами, которые ушли и теми, которые остались нет статистически значимого различия в количестве используемых банковских продуктов\n",
    "\n",
    "H1: Между клиентами есть статистически значимое различие в количестве используемых банковских продуктов"
   ]
  },
  {
   "cell_type": "code",
   "execution_count": 50,
   "id": "f7874bcf",
   "metadata": {},
   "outputs": [
    {
     "data": {
      "image/png": "[encoded data removed]",
      "text/plain": [
       "<Figure size 1440x216 with 2 Axes>"
      ]
     },
     "metadata": {
      "needs_background": "light"
     },
     "output_type": "display_data"
    }
   ],
   "source": [
    "# посмотрим на распределение выборок\n",
    "fig, (ax1, ax2) = plt.subplots(1,2,figsize=(20,3))\n",
    "\n",
    "sns.distplot(df.query('churn == 0')['products'], kde=False, ax=ax1)\n",
    "ax1.set_title(\"Распределение количества банковских продуктов оставшихся клиентов\")\n",
    "\n",
    "sns.distplot(df.query('churn == 1')['products'], kde=False, ax=ax2)\n",
    "ax2.set_title(\"Распределение количества банковских продуктов ушедших клиентов\")\n",
    "\n",
    "plt.show()"
   ]
  },
  {
   "cell_type": "code",
   "execution_count": 51,
   "id": "cd226f5f",
   "metadata": {},
   "outputs": [
    {
     "name": "stdout",
     "output_type": "stream",
     "text": [
      "p-value =  7.537464337201273e-138\n",
      "Отвергаем нулевую гипотезу\n"
     ]
    }
   ],
   "source": [
    "# results = вызов метода для проверки гипотезы\n",
    "\n",
    "results = st.ttest_ind (\n",
    "    df[df['churn']==0]['products'],\n",
    "    df[df['churn']==1]['products'], equal_var = False)\n",
    "\n",
    "alpha = 0.05 # уровень статистической значимости\n",
    "# если p-value окажется меньше него, отвергнем гипотезу\n",
    " \n",
    "print(\"p-value = \",results.pvalue)\n",
    "\n",
    "if results.pvalue < alpha:\n",
    "    print ('Отвергаем нулевую гипотезу')\n",
    "else:\n",
    "    print ('Не получилось отвергнуть нулевую гипотезу')\n",
    "       "
   ]
  },
  {
   "cell_type": "markdown",
   "id": "a7ee52c6",
   "metadata": {},
   "source": [
    "p-value значительно меньше принятого уровня статической значимости (0.05), нулевая гипотеза отвергнута, между клиенатами, которые ушли и теми, которые остались есть статистически значимое различие в количестве используемых банковских продуктов.Эти результаты также совпадают с результатами исследовательского анализа."
   ]
  },
  {
   "cell_type": "markdown",
   "id": "de8304c3",
   "metadata": {},
   "source": [
    "### Вывод:\n",
    "\n",
    "По итогам проведенного статистического анализа можно выделим несколько высокоотточных сегментов пользователей.\n",
    "\n",
    "В качестве критериев для выделения выберем следующие параметры:\n",
    "\n",
    "- пол;\n",
    "- возраст;\n",
    "- количество баллов собственности;\n",
    "- количество используемых продуктов."
   ]
  },
  {
   "cell_type": "markdown",
   "id": "fe942d70",
   "metadata": {},
   "source": [
    "##  Сегментация пользователей и их приоритезация"
   ]
  },
  {
   "cell_type": "markdown",
   "id": "37c2aee3",
   "metadata": {},
   "source": [
    "**Сегмент №1**\n",
    "\n",
    "Пол: мужской\n",
    "\n",
    "Возраст: 46-62\n",
    "\n",
    "Количество баллов собственности: 5 и меньше\n"
   ]
  },
  {
   "cell_type": "code",
   "execution_count": 52,
   "id": "2415c82d",
   "metadata": {},
   "outputs": [
    {
     "name": "stdout",
     "output_type": "stream",
     "text": [
      "Общее число пользователей в сегменте №1: 932\n",
      "Число отточных пользователей в сегменте №1: 217\n",
      "Доля отточных пользователей в сегменте №1: 23.28\n"
     ]
    }
   ],
   "source": [
    "# Рассчитаем общее число пользователей в  сегменте:\n",
    "print ('Общее число пользователей в сегменте №1:', df.query (\n",
    "    'male==1 and equity<5 and  age>=46 \\\n",
    "    and age<=62 ')['user_id'].count() )\n",
    "\n",
    "\n",
    "# Рассчитаем число отточных пользователей в  сегменте:\n",
    "print ('Число отточных пользователей в сегменте №1:', df.query (\n",
    "    'male==1 and equity<5 and age>=46 \\\n",
    "    and age<=62 and  churn==1')['user_id'].count())\n",
    "\n",
    "#  Рассчитаем долю отточных пользователей:\n",
    "print ('Доля отточных пользователей в сегменте №1:',round(df.query (\n",
    "    'male==1 and equity<5 and  age>=46 \\\n",
    "    and age<=62 and  churn==1')['user_id'].count() / df.query (\n",
    "    'male==1  and equity<5 and age>=46 \\\n",
    "    and age<=62 ')['user_id'].count()*100,2))"
   ]
  },
  {
   "cell_type": "markdown",
   "id": "84c53470",
   "metadata": {},
   "source": [
    "**Сегмент №2**\n",
    "\n",
    "Пол: женский\n",
    "\n",
    "Возраст: 46-62\n",
    "\n",
    "Количество баллов собственности: 5 и менее\n"
   ]
  },
  {
   "cell_type": "code",
   "execution_count": 53,
   "id": "36653c17",
   "metadata": {},
   "outputs": [
    {
     "name": "stdout",
     "output_type": "stream",
     "text": [
      "Общее число пользователей в сегменте №2: 1170\n",
      "Число отточных пользователей в сегменте №2: 179\n",
      "Доля отточных пользователей в сегменте №2: 15.3\n"
     ]
    }
   ],
   "source": [
    "# Рассчитаем общее число пользователей в сегменте:\n",
    "print ('Общее число пользователей в сегменте №2:', df.query (\n",
    "    'female==1 and equity<5 and  age>=46 \\\n",
    "    and age<=62 ')['user_id'].count() )\n",
    "\n",
    "\n",
    "# Рассчитаем число отточных пользователей в сегменте:\n",
    "print ('Число отточных пользователей в сегменте №2:', df.query (\n",
    "    'female==1 and equity<5 and age>=46 \\\n",
    "    and age<=62 and churn==1')['user_id'].count())\n",
    "\n",
    "#  Рассчитаем долю отточных пользователей:\n",
    "print ('Доля отточных пользователей в сегменте №2:',round(df.query (\n",
    "    'female==1 and equity<5 and  age>=46 \\\n",
    "    and age<=62 and  churn==1')['user_id'].count() / df.query (\n",
    "    'female==1  and equity<5 and age>=46 \\\n",
    "    and age<=62  ')['user_id'].count()*100,2))"
   ]
  },
  {
   "cell_type": "markdown",
   "id": "6d66ee92",
   "metadata": {},
   "source": [
    "**Сегмент №3**\n",
    "\n",
    "Пол: мужской\n",
    "\n",
    "Возраст: от 46 до 62\n",
    "\n",
    "Количество используемых продуктов: менее 3\n"
   ]
  },
  {
   "cell_type": "code",
   "execution_count": 54,
   "id": "e297261b",
   "metadata": {},
   "outputs": [
    {
     "name": "stdout",
     "output_type": "stream",
     "text": [
      "Общее число пользователей в сегменте №3: 1016\n",
      "Число отточных пользователей в сегменте №3: 229\n",
      "Доля отточных пользователей в сегменте №3: 22.54\n"
     ]
    }
   ],
   "source": [
    "# Рассчитаем общее число пользователей в  сегменте:\n",
    "print ('Общее число пользователей в сегменте №3:', df.query (\n",
    "    'male==1 and  age>=46 \\\n",
    "    and age<=62 and products < 3')['user_id'].count() )\n",
    "\n",
    "\n",
    "# Рассчитаем число отточных пользователей в  сегменте:\n",
    "print ('Число отточных пользователей в сегменте №3:', df.query (\n",
    "    'male==1 and  age>=46 \\\n",
    "    and age<=62 and products < 3 and churn==1')['user_id'].count())\n",
    "\n",
    "#  Рассчитаем долю отточных пользователей:\n",
    "print ('Доля отточных пользователей в сегменте №3:',round(df.query (\n",
    "    'male==1 and  age>=46 \\\n",
    "    and age<=62 and products < 3 and churn==1')['user_id'].count() / df.query (\n",
    "    'male==1 and  age>=46 \\\n",
    "    and age<=62 and products < 3')['user_id'].count()*100,2))"
   ]
  },
  {
   "cell_type": "markdown",
   "id": "868e83e0",
   "metadata": {},
   "source": [
    "**Сегмент №4**\n",
    "\n",
    "Пол: мужской\n",
    "\n",
    "Возраст: от 25 до 45\n",
    "\n",
    "Количество баллов собственности: менее 5\n"
   ]
  },
  {
   "cell_type": "code",
   "execution_count": 55,
   "id": "a25db98b",
   "metadata": {},
   "outputs": [
    {
     "name": "stdout",
     "output_type": "stream",
     "text": [
      "Общее число пользователей в сегменте №4: 2671\n",
      "Число отточных пользователей в сегменте №4: 778\n",
      "Доля отточных пользователей в сегменте №4: 17.3\n"
     ]
    }
   ],
   "source": [
    "# Рассчитаем общее число пользователей в  сегменте:\n",
    "print ('Общее число пользователей в сегменте №4:', df.query (\n",
    "    'male==1 and equity<5 and  age>=25 \\\n",
    "    and age<=45 ')['user_id'].count() )\n",
    "\n",
    "\n",
    "# Рассчитаем число отточных пользователей в  сегменте:\n",
    "print ('Число отточных пользователей в сегменте №4:', df.query (\n",
    "    'male==1 and equity<55 and  age>=25 \\\n",
    "    and age<=45 and  churn==1')['user_id'].count())\n",
    "\n",
    "#  Рассчитаем долю отточных пользователей:\n",
    "print ('Доля отточных пользователей в сегменте №4:',round(df.query (\n",
    "    'male==1 and equity<5 and  age>=25 \\\n",
    "    and age<=45 and  churn==1')['user_id'].count() / df.query (\n",
    "    'male==1 and equity<5 and age>=25 \\\n",
    "    and age<=45 ')['user_id'].count()*100,2))"
   ]
  },
  {
   "cell_type": "markdown",
   "id": "e4f3bc9b",
   "metadata": {},
   "source": [
    "**Сегмент №5**\n",
    "\n",
    "Пол: мужской\n",
    "\n",
    "Возраст: от 25 до 45\n",
    "\n",
    "Количество используемых продуктов: больше 3\n"
   ]
  },
  {
   "cell_type": "code",
   "execution_count": 56,
   "id": "6e8191a5",
   "metadata": {},
   "outputs": [
    {
     "name": "stdout",
     "output_type": "stream",
     "text": [
      "Общее число пользователей в сегменте №5: 227\n",
      "Число отточных пользователей в сегменте №5: 148\n",
      "Доля отточных пользователей в сегменте №5: 65.2\n"
     ]
    }
   ],
   "source": [
    "# Рассчитаем общее число пользователей в сегменте:\n",
    "print ('Общее число пользователей в сегменте №5:', df.query (\n",
    "    'male==1  and age>=25 \\\n",
    "    and age<=45 and products > 3')['user_id'].count() )\n",
    "\n",
    "\n",
    "# Рассчитаем число отточных пользователей в сегменте:\n",
    "print ('Число отточных пользователей в сегменте №5:', df.query (\n",
    "    'male==1 and  age>=25 \\\n",
    "    and age<=45 and products > 3 and churn==1')['user_id'].count())\n",
    "\n",
    "#  Рассчитаем долю отточных пользователей:\n",
    "print ('Доля отточных пользователей в сегменте №5:',round(df.query (\n",
    "    'male==1 and   age>=25 \\\n",
    "    and age<=45 and  products > 3 and churn==1')['user_id'].count() / df.query (\n",
    "    'male==1 and   age>=25 \\\n",
    "    and age<=45 and products > 3 ')['user_id'].count()*100,2))"
   ]
  },
  {
   "cell_type": "markdown",
   "id": "86c84b79",
   "metadata": {},
   "source": [
    "**Сегмент №6**\n",
    "\n",
    "Пол: мужской\n",
    "\n",
    "Возраст: от 25 до 45\n",
    "\n",
    "Количество используемых продуктов: менее 3\n"
   ]
  },
  {
   "cell_type": "code",
   "execution_count": 57,
   "id": "5062ffe9",
   "metadata": {},
   "outputs": [
    {
     "name": "stdout",
     "output_type": "stream",
     "text": [
      "Общее число пользователей в сегменте №5: 2945\n",
      "Число отточных пользователей в сегменте №5: 537\n",
      "Доля отточных пользователей в сегменте №5: 18.23\n"
     ]
    }
   ],
   "source": [
    "# Рассчитаем общее число пользователей в сегменте:\n",
    "print ('Общее число пользователей в сегменте №5:', df.query (\n",
    "    'male==1  and age>=25 \\\n",
    "    and age<=45 and products < 3')['user_id'].count() )\n",
    "\n",
    "\n",
    "# Рассчитаем число отточных пользователей в сегменте:\n",
    "print ('Число отточных пользователей в сегменте №5:', df.query (\n",
    "    'male==1 and  age>=25 \\\n",
    "    and age<=45 and products < 3 and churn==1')['user_id'].count())\n",
    "\n",
    "#  Рассчитаем долю отточных пользователей:\n",
    "print ('Доля отточных пользователей в сегменте №5:',round(df.query (\n",
    "    'male==1 and   age>=25 \\\n",
    "    and age<=45 and  products < 3 and churn==1')['user_id'].count() / df.query (\n",
    "    'male==1 and   age>=25 \\\n",
    "    and age<=45 and products < 3 ')['user_id'].count()*100,2))"
   ]
  },
  {
   "cell_type": "markdown",
   "id": "019bca70",
   "metadata": {},
   "source": [
    "### Приоритизация сегментов\n"
   ]
  },
  {
   "cell_type": "markdown",
   "id": "d2dd1e55",
   "metadata": {},
   "source": [
    "1. Наиболее высокая доля отточных клиентов в **сегменте №5** почти **65%** \n",
    "\n",
    "Пол: мужской\n",
    "\n",
    "Возраст: от 25 до 45\n",
    "\n",
    "Количество используемых продуктов: больше 3"
   ]
  },
  {
   "cell_type": "markdown",
   "id": "3a378014",
   "metadata": {},
   "source": [
    "2. Далее идут **сегмент №1 и № 3** -  **23%** ушедших клиентов\n",
    "\n",
    "**№1** Пол: мужской\n",
    "\n",
    "Возраст: 46-62\n",
    "\n",
    "Количество баллов собственности: 5 и меньше\n",
    "\n",
    "\n",
    "\n",
    "**№3** Пол: мужской\n",
    "\n",
    "Возраст: от 46 до 62\n",
    "\n",
    "Количество используемых продуктов: менее 3\n"
   ]
  },
  {
   "cell_type": "markdown",
   "id": "ba280fbd",
   "metadata": {},
   "source": [
    "3. **Cегмент №6** почти **18%** отточных клиентов\n",
    "\n",
    "Пол: мужской\n",
    "\n",
    "Возраст: от 25 до 45\n",
    "\n",
    "Количество используемых продуктов: менее 3"
   ]
  },
  {
   "cell_type": "markdown",
   "id": "7af6202d",
   "metadata": {},
   "source": [
    "4. **Сегмент № 4** отточных клиентов **17%**\n",
    "\n",
    "Пол: мужской\n",
    "\n",
    "Возраст: от 25 до 45\n",
    "\n",
    "Количество баллов собственности: менее 5"
   ]
  },
  {
   "cell_type": "markdown",
   "id": "c6a0dceb",
   "metadata": {},
   "source": [
    "5. **Сегмент № 2** отточных клиентов **15%**\n",
    "\n",
    "Пол: женский\n",
    "\n",
    "Возраст: 46-62\n",
    "\n",
    "Количество баллов собственности: 5 и менее"
   ]
  },
  {
   "cell_type": "markdown",
   "id": "06a5f9a5",
   "metadata": {},
   "source": [
    "##  Итоговые выводы и рекомендации по каждому из сегментов\n"
   ]
  },
  {
   "cell_type": "markdown",
   "id": "7e24211b",
   "metadata": {},
   "source": [
    "###  Проведенное исследование показало, что между оттоком клиентов и некоторыми параметрами существует связь.\n",
    "\n",
    "**К параметрам, влияющим на отток, относятся:**\n",
    "\n",
    "- **пол пользователя:** мужчины более склонны уходить из банка, чем женщины;\n",
    "\n",
    "\n",
    "- **возраст пользователя:** наиболее отточные возрастные группы - 46-62 и 25-45;\n",
    "\n",
    "\n",
    "- **количество баллов собственности:** чем выше оценка собственности, тем больше процент отточных клиентов;\n",
    "\n",
    "\n",
    "- **баллы кредитного скоринга:** клиенты с баллами кредитного скоринга больше 750, имеют более высокий процент оттока;\n",
    "\n",
    "\n",
    "- **количество продуктов, которыми пользуется клиент:** клиенты, использовавшие 4 продукта, уходили из банка намного чаще, чем \n",
    "  другие;\n",
    "\n",
    "\n",
    "- **наличие кредитной карты:** отсутствие у клиента кредитной карты сильно повышало риск его оттока из банка;\n",
    "\n",
    "\n",
    "- **активность пользователя:** более активные клиенты покидали банк чаще, чем менее активные;\n",
    "\n",
    "\n",
    "###  Был проведен статистический анализ следующих гипотез:\n",
    "\n",
    "**Гипотеза №1 о различии дохода между теми клиентами, которые ушли и теми, которые остались:** нет статистически значимого различия доходов\n",
    "\n",
    "**Гипотеза №2 о различие в количестве баллов собственности отточных и оставшихся клиентов:** есть статистически значимое различие в количестве баллов собственности\n",
    "\n",
    "**Гипотеза №3 о различии в количестве используемых банковских продуктов оставшихся и отточных клиентов:** есть статистически значимое различие в количестве используемых банковских продуктов.\n",
    "\n",
    "\n",
    "###  Были выделены и приоритизированы сегменты, в наибольшей степени подверженные оттоку\n",
    "\n",
    "Процент клиентов, подверженных оттоку находится в пределах  от 18-65%."
   ]
  },
  {
   "cell_type": "markdown",
   "id": "c511159e",
   "metadata": {},
   "source": [
    "###  Рекомендации  для отдела маркетинга"
   ]
  },
  {
   "cell_type": "markdown",
   "id": "09a16353",
   "metadata": {},
   "source": [
    "1. Информировать о новых банковских продуктах, если в сегменте их меньше двух-трех.\n",
    "\n",
    "\n",
    "2. Предложить оформить кредитную карту тем у кого нет.\n",
    "\n",
    "\n",
    "3. Для клиентов пенсионного возраста - предложить льготные условия для перевода пенсии в этот банк.\n",
    "\n",
    "\n",
    "4. Для клиентов, получающих зарплату на карту другого банка - предложить выгодные условия для перевода зарплаты в этот банк.\n",
    "\n",
    "\n",
    "5. Предложить повышенный кешбэк на товары для спорта и отдыха (для мужчин) и на товары для дома, одежду и косметику (для   женщин).\n"
   ]
  }
 ],
 "metadata": {
  "ExecuteTimeLog": [
   {
    "duration": 1473,
    "start_time": "2023-05-05T08:47:25.477Z"
   },
   {
    "duration": 1602,
    "start_time": "2023-05-05T08:47:26.952Z"
   },
   {
    "duration": 16,
    "start_time": "2023-05-05T08:47:28.555Z"
   },
   {
    "duration": 12,
    "start_time": "2023-05-05T08:47:28.572Z"
   },
   {
    "duration": 19,
    "start_time": "2023-05-05T08:47:28.586Z"
   },
   {
    "duration": 4,
    "start_time": "2023-05-05T08:47:28.607Z"
   },
   {
    "duration": 6,
    "start_time": "2023-05-05T08:47:28.612Z"
   },
   {
    "duration": 34,
    "start_time": "2023-05-05T08:47:28.619Z"
   },
   {
    "duration": 12,
    "start_time": "2023-05-05T08:47:28.654Z"
   },
   {
    "duration": 10,
    "start_time": "2023-05-05T08:47:28.667Z"
   },
   {
    "duration": 4,
    "start_time": "2023-05-05T08:47:28.678Z"
   },
   {
    "duration": 10,
    "start_time": "2023-05-05T08:47:28.684Z"
   },
   {
    "duration": 5,
    "start_time": "2023-05-05T08:47:28.695Z"
   },
   {
    "duration": 3,
    "start_time": "2023-05-05T08:47:28.703Z"
   },
   {
    "duration": 12,
    "start_time": "2023-05-05T08:47:28.708Z"
   },
   {
    "duration": 35,
    "start_time": "2023-05-05T08:47:28.721Z"
   },
   {
    "duration": 8,
    "start_time": "2023-05-05T08:47:28.758Z"
   },
   {
    "duration": 13,
    "start_time": "2023-05-05T08:47:28.768Z"
   },
   {
    "duration": 20,
    "start_time": "2023-05-05T08:47:28.782Z"
   },
   {
    "duration": 62,
    "start_time": "2023-05-05T08:47:28.804Z"
   },
   {
    "duration": 12,
    "start_time": "2023-05-05T08:47:28.867Z"
   },
   {
    "duration": 7,
    "start_time": "2023-05-05T08:47:28.881Z"
   },
   {
    "duration": 2233,
    "start_time": "2023-05-05T08:47:28.889Z"
   },
   {
    "duration": 1444,
    "start_time": "2023-05-05T08:47:31.124Z"
   },
   {
    "duration": 7,
    "start_time": "2023-05-05T08:47:32.570Z"
   },
   {
    "duration": 169,
    "start_time": "2023-05-05T08:47:32.579Z"
   },
   {
    "duration": 13,
    "start_time": "2023-05-05T08:47:32.750Z"
   },
   {
    "duration": 21,
    "start_time": "2023-05-05T08:47:32.764Z"
   },
   {
    "duration": 20,
    "start_time": "2023-05-05T08:47:32.786Z"
   },
   {
    "duration": 45,
    "start_time": "2023-05-05T08:47:32.808Z"
   },
   {
    "duration": 18,
    "start_time": "2023-05-05T08:47:32.854Z"
   },
   {
    "duration": 19,
    "start_time": "2023-05-05T08:47:32.874Z"
   },
   {
    "duration": 19,
    "start_time": "2023-05-05T08:47:32.895Z"
   },
   {
    "duration": 51,
    "start_time": "2023-05-05T08:47:32.916Z"
   },
   {
    "duration": 21,
    "start_time": "2023-05-05T08:47:32.969Z"
   },
   {
    "duration": 2985,
    "start_time": "2023-05-05T08:47:32.992Z"
   },
   {
    "duration": 22,
    "start_time": "2023-05-05T08:47:35.979Z"
   },
   {
    "duration": 19,
    "start_time": "2023-05-05T08:47:36.002Z"
   },
   {
    "duration": 55,
    "start_time": "2023-05-05T08:47:36.023Z"
   },
   {
    "duration": 36,
    "start_time": "2023-05-05T08:47:36.083Z"
   },
   {
    "duration": 49,
    "start_time": "2023-05-05T08:47:36.124Z"
   },
   {
    "duration": 37,
    "start_time": "2023-05-05T08:47:36.176Z"
   },
   {
    "duration": 353,
    "start_time": "2023-05-05T08:47:36.216Z"
   },
   {
    "duration": 8,
    "start_time": "2023-05-05T08:47:36.570Z"
   },
   {
    "duration": 277,
    "start_time": "2023-05-05T08:47:36.579Z"
   },
   {
    "duration": 8,
    "start_time": "2023-05-05T08:47:36.858Z"
   },
   {
    "duration": 331,
    "start_time": "2023-05-05T08:47:36.867Z"
   },
   {
    "duration": 9,
    "start_time": "2023-05-05T08:47:37.200Z"
   },
   {
    "duration": 39,
    "start_time": "2023-05-05T08:47:37.211Z"
   },
   {
    "duration": 25,
    "start_time": "2023-05-05T08:47:37.252Z"
   },
   {
    "duration": 33,
    "start_time": "2023-05-05T08:47:37.279Z"
   },
   {
    "duration": 64,
    "start_time": "2023-05-05T08:47:37.315Z"
   },
   {
    "duration": 38,
    "start_time": "2023-05-05T08:47:37.381Z"
   },
   {
    "duration": 44,
    "start_time": "2023-05-05T08:47:37.420Z"
   },
   {
    "duration": 67,
    "start_time": "2023-05-05T13:25:44.218Z"
   },
   {
    "duration": 1573,
    "start_time": "2023-05-05T13:25:50.166Z"
   },
   {
    "duration": 1249,
    "start_time": "2023-05-05T13:25:51.741Z"
   },
   {
    "duration": 18,
    "start_time": "2023-05-05T13:25:52.992Z"
   },
   {
    "duration": 62,
    "start_time": "2023-05-05T13:25:53.012Z"
   },
   {
    "duration": 50,
    "start_time": "2023-05-05T13:25:53.077Z"
   },
   {
    "duration": 12,
    "start_time": "2023-05-05T13:25:53.128Z"
   },
   {
    "duration": 87,
    "start_time": "2023-05-05T13:25:53.142Z"
   },
   {
    "duration": 0,
    "start_time": "2023-05-05T13:25:53.233Z"
   },
   {
    "duration": 0,
    "start_time": "2023-05-05T13:25:53.234Z"
   },
   {
    "duration": 0,
    "start_time": "2023-05-05T13:25:53.236Z"
   },
   {
    "duration": 0,
    "start_time": "2023-05-05T13:25:53.238Z"
   },
   {
    "duration": 0,
    "start_time": "2023-05-05T13:25:53.240Z"
   },
   {
    "duration": 0,
    "start_time": "2023-05-05T13:25:53.241Z"
   },
   {
    "duration": 0,
    "start_time": "2023-05-05T13:25:53.242Z"
   },
   {
    "duration": 0,
    "start_time": "2023-05-05T13:25:53.244Z"
   },
   {
    "duration": 0,
    "start_time": "2023-05-05T13:25:53.245Z"
   },
   {
    "duration": 0,
    "start_time": "2023-05-05T13:25:53.247Z"
   },
   {
    "duration": 0,
    "start_time": "2023-05-05T13:25:53.248Z"
   },
   {
    "duration": 0,
    "start_time": "2023-05-05T13:25:53.250Z"
   },
   {
    "duration": 0,
    "start_time": "2023-05-05T13:25:53.284Z"
   },
   {
    "duration": 0,
    "start_time": "2023-05-05T13:25:53.286Z"
   },
   {
    "duration": 0,
    "start_time": "2023-05-05T13:25:53.288Z"
   },
   {
    "duration": 0,
    "start_time": "2023-05-05T13:25:53.289Z"
   },
   {
    "duration": 0,
    "start_time": "2023-05-05T13:25:53.290Z"
   },
   {
    "duration": 0,
    "start_time": "2023-05-05T13:25:53.291Z"
   },
   {
    "duration": 0,
    "start_time": "2023-05-05T13:25:53.293Z"
   },
   {
    "duration": 0,
    "start_time": "2023-05-05T13:25:53.295Z"
   },
   {
    "duration": 0,
    "start_time": "2023-05-05T13:25:53.296Z"
   },
   {
    "duration": 0,
    "start_time": "2023-05-05T13:25:53.298Z"
   },
   {
    "duration": 0,
    "start_time": "2023-05-05T13:25:53.299Z"
   },
   {
    "duration": 0,
    "start_time": "2023-05-05T13:25:53.300Z"
   },
   {
    "duration": 0,
    "start_time": "2023-05-05T13:25:53.302Z"
   },
   {
    "duration": 0,
    "start_time": "2023-05-05T13:25:53.303Z"
   },
   {
    "duration": 0,
    "start_time": "2023-05-05T13:25:53.305Z"
   },
   {
    "duration": 0,
    "start_time": "2023-05-05T13:25:53.306Z"
   },
   {
    "duration": 0,
    "start_time": "2023-05-05T13:25:53.308Z"
   },
   {
    "duration": 0,
    "start_time": "2023-05-05T13:25:53.311Z"
   },
   {
    "duration": 0,
    "start_time": "2023-05-05T13:25:53.313Z"
   },
   {
    "duration": 0,
    "start_time": "2023-05-05T13:25:53.314Z"
   },
   {
    "duration": 0,
    "start_time": "2023-05-05T13:25:53.316Z"
   },
   {
    "duration": 0,
    "start_time": "2023-05-05T13:25:53.318Z"
   },
   {
    "duration": 0,
    "start_time": "2023-05-05T13:25:53.319Z"
   },
   {
    "duration": 0,
    "start_time": "2023-05-05T13:25:53.321Z"
   },
   {
    "duration": 0,
    "start_time": "2023-05-05T13:25:53.322Z"
   },
   {
    "duration": 0,
    "start_time": "2023-05-05T13:25:53.384Z"
   },
   {
    "duration": 0,
    "start_time": "2023-05-05T13:25:53.386Z"
   },
   {
    "duration": 0,
    "start_time": "2023-05-05T13:25:53.387Z"
   },
   {
    "duration": 0,
    "start_time": "2023-05-05T13:25:53.389Z"
   },
   {
    "duration": 0,
    "start_time": "2023-05-05T13:25:53.391Z"
   },
   {
    "duration": 0,
    "start_time": "2023-05-05T13:25:53.392Z"
   },
   {
    "duration": 0,
    "start_time": "2023-05-05T13:25:53.393Z"
   },
   {
    "duration": 0,
    "start_time": "2023-05-05T13:25:53.394Z"
   },
   {
    "duration": 0,
    "start_time": "2023-05-05T13:25:53.395Z"
   },
   {
    "duration": 0,
    "start_time": "2023-05-05T13:25:53.396Z"
   },
   {
    "duration": 0,
    "start_time": "2023-05-05T13:25:53.398Z"
   },
   {
    "duration": 9,
    "start_time": "2023-05-05T13:26:28.969Z"
   },
   {
    "duration": 11,
    "start_time": "2023-05-05T13:27:11.577Z"
   },
   {
    "duration": 13,
    "start_time": "2023-05-05T13:27:39.007Z"
   },
   {
    "duration": 18,
    "start_time": "2023-05-05T13:27:50.581Z"
   },
   {
    "duration": 11,
    "start_time": "2023-05-05T13:30:10.867Z"
   },
   {
    "duration": 14,
    "start_time": "2023-05-05T13:30:27.609Z"
   },
   {
    "duration": 9,
    "start_time": "2023-05-05T13:30:35.496Z"
   },
   {
    "duration": 983,
    "start_time": "2023-05-05T13:30:35.507Z"
   },
   {
    "duration": 14,
    "start_time": "2023-05-05T13:30:36.492Z"
   },
   {
    "duration": 23,
    "start_time": "2023-05-05T13:30:36.509Z"
   },
   {
    "duration": 20,
    "start_time": "2023-05-05T13:30:36.535Z"
   },
   {
    "duration": 6,
    "start_time": "2023-05-05T13:30:36.585Z"
   },
   {
    "duration": 28,
    "start_time": "2023-05-05T13:30:36.593Z"
   },
   {
    "duration": 17,
    "start_time": "2023-05-05T13:30:36.622Z"
   },
   {
    "duration": 19,
    "start_time": "2023-05-05T13:30:36.641Z"
   },
   {
    "duration": 27,
    "start_time": "2023-05-05T13:30:36.664Z"
   },
   {
    "duration": 20,
    "start_time": "2023-05-05T13:30:36.693Z"
   },
   {
    "duration": 6,
    "start_time": "2023-05-05T13:30:36.715Z"
   },
   {
    "duration": 8,
    "start_time": "2023-05-05T13:30:36.723Z"
   },
   {
    "duration": 9,
    "start_time": "2023-05-05T13:30:36.733Z"
   },
   {
    "duration": 41,
    "start_time": "2023-05-05T13:30:36.744Z"
   },
   {
    "duration": 36,
    "start_time": "2023-05-05T13:30:36.787Z"
   },
   {
    "duration": 20,
    "start_time": "2023-05-05T13:30:36.825Z"
   },
   {
    "duration": 10,
    "start_time": "2023-05-05T13:30:36.847Z"
   },
   {
    "duration": 36,
    "start_time": "2023-05-05T13:30:36.859Z"
   },
   {
    "duration": 22,
    "start_time": "2023-05-05T13:30:36.898Z"
   },
   {
    "duration": 98,
    "start_time": "2023-05-05T13:30:36.923Z"
   },
   {
    "duration": 17,
    "start_time": "2023-05-05T13:30:37.023Z"
   },
   {
    "duration": 30,
    "start_time": "2023-05-05T13:30:37.042Z"
   },
   {
    "duration": 2854,
    "start_time": "2023-05-05T13:30:37.074Z"
   },
   {
    "duration": 1779,
    "start_time": "2023-05-05T13:30:39.931Z"
   },
   {
    "duration": 8,
    "start_time": "2023-05-05T13:30:41.714Z"
   },
   {
    "duration": 186,
    "start_time": "2023-05-05T13:30:41.723Z"
   },
   {
    "duration": 13,
    "start_time": "2023-05-05T13:30:41.914Z"
   },
   {
    "duration": 23,
    "start_time": "2023-05-05T13:30:41.929Z"
   },
   {
    "duration": 54,
    "start_time": "2023-05-05T13:30:41.954Z"
   },
   {
    "duration": 22,
    "start_time": "2023-05-05T13:30:42.010Z"
   },
   {
    "duration": 52,
    "start_time": "2023-05-05T13:30:42.035Z"
   },
   {
    "duration": 21,
    "start_time": "2023-05-05T13:30:42.088Z"
   },
   {
    "duration": 23,
    "start_time": "2023-05-05T13:30:42.111Z"
   },
   {
    "duration": 61,
    "start_time": "2023-05-05T13:30:42.136Z"
   },
   {
    "duration": 24,
    "start_time": "2023-05-05T13:30:42.199Z"
   },
   {
    "duration": 3191,
    "start_time": "2023-05-05T13:30:42.225Z"
   },
   {
    "duration": 34,
    "start_time": "2023-05-05T13:30:45.418Z"
   },
   {
    "duration": 55,
    "start_time": "2023-05-05T13:30:45.454Z"
   },
   {
    "duration": 44,
    "start_time": "2023-05-05T13:30:45.510Z"
   },
   {
    "duration": 50,
    "start_time": "2023-05-05T13:30:45.555Z"
   },
   {
    "duration": 37,
    "start_time": "2023-05-05T13:30:45.607Z"
   },
   {
    "duration": 59,
    "start_time": "2023-05-05T13:30:45.646Z"
   },
   {
    "duration": 419,
    "start_time": "2023-05-05T13:30:45.707Z"
   },
   {
    "duration": 9,
    "start_time": "2023-05-05T13:30:46.128Z"
   },
   {
    "duration": 402,
    "start_time": "2023-05-05T13:30:46.139Z"
   },
   {
    "duration": 12,
    "start_time": "2023-05-05T13:30:46.544Z"
   },
   {
    "duration": 385,
    "start_time": "2023-05-05T13:30:46.558Z"
   },
   {
    "duration": 10,
    "start_time": "2023-05-05T13:30:46.945Z"
   },
   {
    "duration": 54,
    "start_time": "2023-05-05T13:30:46.957Z"
   },
   {
    "duration": 45,
    "start_time": "2023-05-05T13:30:47.013Z"
   },
   {
    "duration": 52,
    "start_time": "2023-05-05T13:30:47.060Z"
   },
   {
    "duration": 66,
    "start_time": "2023-05-05T13:30:47.115Z"
   },
   {
    "duration": 41,
    "start_time": "2023-05-05T13:30:47.183Z"
   },
   {
    "duration": 52,
    "start_time": "2023-05-05T13:30:47.226Z"
   },
   {
    "duration": 258,
    "start_time": "2023-05-05T13:35:33.243Z"
   },
   {
    "duration": 9,
    "start_time": "2023-05-05T13:35:41.249Z"
   },
   {
    "duration": 2784,
    "start_time": "2023-05-05T13:35:41.261Z"
   },
   {
    "duration": 15,
    "start_time": "2023-05-05T13:35:44.048Z"
   },
   {
    "duration": 40,
    "start_time": "2023-05-05T13:35:44.065Z"
   },
   {
    "duration": 34,
    "start_time": "2023-05-05T13:35:44.108Z"
   },
   {
    "duration": 45,
    "start_time": "2023-05-05T13:35:44.145Z"
   },
   {
    "duration": 63,
    "start_time": "2023-05-05T13:35:44.192Z"
   },
   {
    "duration": 75,
    "start_time": "2023-05-05T13:35:44.258Z"
   },
   {
    "duration": 46,
    "start_time": "2023-05-05T13:35:44.335Z"
   },
   {
    "duration": 0,
    "start_time": "2023-05-05T13:35:44.386Z"
   },
   {
    "duration": 0,
    "start_time": "2023-05-05T13:35:44.388Z"
   },
   {
    "duration": 0,
    "start_time": "2023-05-05T13:35:44.389Z"
   },
   {
    "duration": 0,
    "start_time": "2023-05-05T13:35:44.391Z"
   },
   {
    "duration": 1,
    "start_time": "2023-05-05T13:35:44.392Z"
   },
   {
    "duration": 0,
    "start_time": "2023-05-05T13:35:44.394Z"
   },
   {
    "duration": 0,
    "start_time": "2023-05-05T13:35:44.395Z"
   },
   {
    "duration": 0,
    "start_time": "2023-05-05T13:35:44.397Z"
   },
   {
    "duration": 0,
    "start_time": "2023-05-05T13:35:44.399Z"
   },
   {
    "duration": 0,
    "start_time": "2023-05-05T13:35:44.401Z"
   },
   {
    "duration": 0,
    "start_time": "2023-05-05T13:35:44.403Z"
   },
   {
    "duration": 0,
    "start_time": "2023-05-05T13:35:44.405Z"
   },
   {
    "duration": 0,
    "start_time": "2023-05-05T13:35:44.407Z"
   },
   {
    "duration": 0,
    "start_time": "2023-05-05T13:35:44.409Z"
   },
   {
    "duration": 0,
    "start_time": "2023-05-05T13:35:44.412Z"
   },
   {
    "duration": 0,
    "start_time": "2023-05-05T13:35:44.414Z"
   },
   {
    "duration": 0,
    "start_time": "2023-05-05T13:35:44.416Z"
   },
   {
    "duration": 0,
    "start_time": "2023-05-05T13:35:44.419Z"
   },
   {
    "duration": 0,
    "start_time": "2023-05-05T13:35:44.420Z"
   },
   {
    "duration": 0,
    "start_time": "2023-05-05T13:35:44.422Z"
   },
   {
    "duration": 0,
    "start_time": "2023-05-05T13:35:44.423Z"
   },
   {
    "duration": 0,
    "start_time": "2023-05-05T13:35:44.425Z"
   },
   {
    "duration": 0,
    "start_time": "2023-05-05T13:35:44.427Z"
   },
   {
    "duration": 0,
    "start_time": "2023-05-05T13:35:44.428Z"
   },
   {
    "duration": 0,
    "start_time": "2023-05-05T13:35:44.430Z"
   },
   {
    "duration": 1,
    "start_time": "2023-05-05T13:35:44.431Z"
   },
   {
    "duration": 0,
    "start_time": "2023-05-05T13:35:44.434Z"
   },
   {
    "duration": 0,
    "start_time": "2023-05-05T13:35:44.483Z"
   },
   {
    "duration": 0,
    "start_time": "2023-05-05T13:35:44.485Z"
   },
   {
    "duration": 1,
    "start_time": "2023-05-05T13:35:44.486Z"
   },
   {
    "duration": 0,
    "start_time": "2023-05-05T13:35:44.488Z"
   },
   {
    "duration": 0,
    "start_time": "2023-05-05T13:35:44.489Z"
   },
   {
    "duration": 0,
    "start_time": "2023-05-05T13:35:44.491Z"
   },
   {
    "duration": 0,
    "start_time": "2023-05-05T13:35:44.492Z"
   },
   {
    "duration": 0,
    "start_time": "2023-05-05T13:35:44.494Z"
   },
   {
    "duration": 0,
    "start_time": "2023-05-05T13:35:44.495Z"
   },
   {
    "duration": 0,
    "start_time": "2023-05-05T13:35:44.496Z"
   },
   {
    "duration": 0,
    "start_time": "2023-05-05T13:35:44.499Z"
   },
   {
    "duration": 0,
    "start_time": "2023-05-05T13:35:44.500Z"
   },
   {
    "duration": 0,
    "start_time": "2023-05-05T13:35:44.502Z"
   },
   {
    "duration": 0,
    "start_time": "2023-05-05T13:35:44.503Z"
   },
   {
    "duration": 0,
    "start_time": "2023-05-05T13:35:44.505Z"
   },
   {
    "duration": 0,
    "start_time": "2023-05-05T13:35:44.507Z"
   },
   {
    "duration": 0,
    "start_time": "2023-05-05T13:35:44.508Z"
   },
   {
    "duration": 1,
    "start_time": "2023-05-05T13:35:44.509Z"
   },
   {
    "duration": 0,
    "start_time": "2023-05-05T13:35:44.512Z"
   },
   {
    "duration": 0,
    "start_time": "2023-05-05T13:35:44.513Z"
   },
   {
    "duration": 4,
    "start_time": "2023-05-05T13:36:42.963Z"
   },
   {
    "duration": 4,
    "start_time": "2023-05-05T13:36:48.019Z"
   },
   {
    "duration": 8,
    "start_time": "2023-05-05T13:36:57.793Z"
   },
   {
    "duration": 13,
    "start_time": "2023-05-05T13:37:04.917Z"
   },
   {
    "duration": 6,
    "start_time": "2023-05-05T13:42:25.463Z"
   },
   {
    "duration": 7,
    "start_time": "2023-05-05T13:42:32.550Z"
   },
   {
    "duration": 7,
    "start_time": "2023-05-05T13:42:38.826Z"
   },
   {
    "duration": 1581,
    "start_time": "2023-05-05T13:42:38.835Z"
   },
   {
    "duration": 12,
    "start_time": "2023-05-05T13:42:40.417Z"
   },
   {
    "duration": 14,
    "start_time": "2023-05-05T13:42:40.430Z"
   },
   {
    "duration": 18,
    "start_time": "2023-05-05T13:42:40.447Z"
   },
   {
    "duration": 18,
    "start_time": "2023-05-05T13:42:40.467Z"
   },
   {
    "duration": 12,
    "start_time": "2023-05-05T13:42:40.487Z"
   },
   {
    "duration": 13,
    "start_time": "2023-05-05T13:42:40.501Z"
   },
   {
    "duration": 18,
    "start_time": "2023-05-05T13:42:40.516Z"
   },
   {
    "duration": 27,
    "start_time": "2023-05-05T13:42:40.536Z"
   },
   {
    "duration": 31,
    "start_time": "2023-05-05T13:42:40.567Z"
   },
   {
    "duration": 15,
    "start_time": "2023-05-05T13:42:40.599Z"
   },
   {
    "duration": 26,
    "start_time": "2023-05-05T13:42:40.615Z"
   },
   {
    "duration": 1676,
    "start_time": "2023-05-05T13:42:40.643Z"
   },
   {
    "duration": 0,
    "start_time": "2023-05-05T13:42:42.322Z"
   },
   {
    "duration": 0,
    "start_time": "2023-05-05T13:42:42.324Z"
   },
   {
    "duration": 0,
    "start_time": "2023-05-05T13:42:42.325Z"
   },
   {
    "duration": 0,
    "start_time": "2023-05-05T13:42:42.327Z"
   },
   {
    "duration": 0,
    "start_time": "2023-05-05T13:42:42.328Z"
   },
   {
    "duration": 0,
    "start_time": "2023-05-05T13:42:42.329Z"
   },
   {
    "duration": 0,
    "start_time": "2023-05-05T13:42:42.330Z"
   },
   {
    "duration": 0,
    "start_time": "2023-05-05T13:42:42.332Z"
   },
   {
    "duration": 0,
    "start_time": "2023-05-05T13:42:42.333Z"
   },
   {
    "duration": 1,
    "start_time": "2023-05-05T13:42:42.334Z"
   },
   {
    "duration": 0,
    "start_time": "2023-05-05T13:42:42.336Z"
   },
   {
    "duration": 0,
    "start_time": "2023-05-05T13:42:42.338Z"
   },
   {
    "duration": 0,
    "start_time": "2023-05-05T13:42:42.339Z"
   },
   {
    "duration": 0,
    "start_time": "2023-05-05T13:42:42.340Z"
   },
   {
    "duration": 0,
    "start_time": "2023-05-05T13:42:42.341Z"
   },
   {
    "duration": 0,
    "start_time": "2023-05-05T13:42:42.342Z"
   },
   {
    "duration": 0,
    "start_time": "2023-05-05T13:42:42.343Z"
   },
   {
    "duration": 0,
    "start_time": "2023-05-05T13:42:42.344Z"
   },
   {
    "duration": 0,
    "start_time": "2023-05-05T13:42:42.345Z"
   },
   {
    "duration": 0,
    "start_time": "2023-05-05T13:42:42.347Z"
   },
   {
    "duration": 0,
    "start_time": "2023-05-05T13:42:42.348Z"
   },
   {
    "duration": 0,
    "start_time": "2023-05-05T13:42:42.349Z"
   },
   {
    "duration": 0,
    "start_time": "2023-05-05T13:42:42.350Z"
   },
   {
    "duration": 0,
    "start_time": "2023-05-05T13:42:42.351Z"
   },
   {
    "duration": 0,
    "start_time": "2023-05-05T13:42:42.353Z"
   },
   {
    "duration": 0,
    "start_time": "2023-05-05T13:42:42.354Z"
   },
   {
    "duration": 0,
    "start_time": "2023-05-05T13:42:42.356Z"
   },
   {
    "duration": 0,
    "start_time": "2023-05-05T13:42:42.383Z"
   },
   {
    "duration": 0,
    "start_time": "2023-05-05T13:42:42.385Z"
   },
   {
    "duration": 0,
    "start_time": "2023-05-05T13:42:42.386Z"
   },
   {
    "duration": 0,
    "start_time": "2023-05-05T13:42:42.387Z"
   },
   {
    "duration": 0,
    "start_time": "2023-05-05T13:42:42.389Z"
   },
   {
    "duration": 0,
    "start_time": "2023-05-05T13:42:42.389Z"
   },
   {
    "duration": 0,
    "start_time": "2023-05-05T13:42:42.390Z"
   },
   {
    "duration": 0,
    "start_time": "2023-05-05T13:42:42.391Z"
   },
   {
    "duration": 0,
    "start_time": "2023-05-05T13:42:42.392Z"
   },
   {
    "duration": 0,
    "start_time": "2023-05-05T13:42:42.394Z"
   },
   {
    "duration": 0,
    "start_time": "2023-05-05T13:42:42.395Z"
   },
   {
    "duration": 0,
    "start_time": "2023-05-05T13:42:42.396Z"
   },
   {
    "duration": 0,
    "start_time": "2023-05-05T13:42:42.398Z"
   },
   {
    "duration": 0,
    "start_time": "2023-05-05T13:42:42.399Z"
   },
   {
    "duration": 0,
    "start_time": "2023-05-05T13:42:42.401Z"
   },
   {
    "duration": 0,
    "start_time": "2023-05-05T13:42:42.402Z"
   },
   {
    "duration": 2984,
    "start_time": "2023-05-05T13:43:31.678Z"
   },
   {
    "duration": 1901,
    "start_time": "2023-05-05T13:46:59.711Z"
   },
   {
    "duration": 6,
    "start_time": "2023-05-05T13:47:14.099Z"
   },
   {
    "duration": 1301,
    "start_time": "2023-05-05T13:47:14.108Z"
   },
   {
    "duration": 12,
    "start_time": "2023-05-05T13:47:15.411Z"
   },
   {
    "duration": 35,
    "start_time": "2023-05-05T13:47:15.425Z"
   },
   {
    "duration": 17,
    "start_time": "2023-05-05T13:47:15.463Z"
   },
   {
    "duration": 16,
    "start_time": "2023-05-05T13:47:15.482Z"
   },
   {
    "duration": 23,
    "start_time": "2023-05-05T13:47:15.500Z"
   },
   {
    "duration": 24,
    "start_time": "2023-05-05T13:47:15.525Z"
   },
   {
    "duration": 19,
    "start_time": "2023-05-05T13:47:15.551Z"
   },
   {
    "duration": 20,
    "start_time": "2023-05-05T13:47:15.572Z"
   },
   {
    "duration": 22,
    "start_time": "2023-05-05T13:47:15.594Z"
   },
   {
    "duration": 31,
    "start_time": "2023-05-05T13:47:15.619Z"
   },
   {
    "duration": 20,
    "start_time": "2023-05-05T13:47:15.652Z"
   },
   {
    "duration": 2385,
    "start_time": "2023-05-05T13:47:15.677Z"
   },
   {
    "duration": 0,
    "start_time": "2023-05-05T13:47:18.065Z"
   },
   {
    "duration": 0,
    "start_time": "2023-05-05T13:47:18.067Z"
   },
   {
    "duration": 0,
    "start_time": "2023-05-05T13:47:18.069Z"
   },
   {
    "duration": 0,
    "start_time": "2023-05-05T13:47:18.071Z"
   },
   {
    "duration": 0,
    "start_time": "2023-05-05T13:47:18.072Z"
   },
   {
    "duration": 0,
    "start_time": "2023-05-05T13:47:18.074Z"
   },
   {
    "duration": 0,
    "start_time": "2023-05-05T13:47:18.075Z"
   },
   {
    "duration": 0,
    "start_time": "2023-05-05T13:47:18.076Z"
   },
   {
    "duration": 0,
    "start_time": "2023-05-05T13:47:18.077Z"
   },
   {
    "duration": 0,
    "start_time": "2023-05-05T13:47:18.078Z"
   },
   {
    "duration": 0,
    "start_time": "2023-05-05T13:47:18.080Z"
   },
   {
    "duration": 0,
    "start_time": "2023-05-05T13:47:18.082Z"
   },
   {
    "duration": 0,
    "start_time": "2023-05-05T13:47:18.083Z"
   },
   {
    "duration": 0,
    "start_time": "2023-05-05T13:47:18.085Z"
   },
   {
    "duration": 0,
    "start_time": "2023-05-05T13:47:18.086Z"
   },
   {
    "duration": 0,
    "start_time": "2023-05-05T13:47:18.087Z"
   },
   {
    "duration": 0,
    "start_time": "2023-05-05T13:47:18.092Z"
   },
   {
    "duration": 0,
    "start_time": "2023-05-05T13:47:18.093Z"
   },
   {
    "duration": 0,
    "start_time": "2023-05-05T13:47:18.095Z"
   },
   {
    "duration": 0,
    "start_time": "2023-05-05T13:47:18.097Z"
   },
   {
    "duration": 0,
    "start_time": "2023-05-05T13:47:18.099Z"
   },
   {
    "duration": 0,
    "start_time": "2023-05-05T13:47:18.101Z"
   },
   {
    "duration": 0,
    "start_time": "2023-05-05T13:47:18.102Z"
   },
   {
    "duration": 0,
    "start_time": "2023-05-05T13:47:18.103Z"
   },
   {
    "duration": 0,
    "start_time": "2023-05-05T13:47:18.104Z"
   },
   {
    "duration": 0,
    "start_time": "2023-05-05T13:47:18.105Z"
   },
   {
    "duration": 0,
    "start_time": "2023-05-05T13:47:18.106Z"
   },
   {
    "duration": 0,
    "start_time": "2023-05-05T13:47:18.108Z"
   },
   {
    "duration": 0,
    "start_time": "2023-05-05T13:47:18.109Z"
   },
   {
    "duration": 0,
    "start_time": "2023-05-05T13:47:18.110Z"
   },
   {
    "duration": 0,
    "start_time": "2023-05-05T13:47:18.111Z"
   },
   {
    "duration": 0,
    "start_time": "2023-05-05T13:47:18.112Z"
   },
   {
    "duration": 0,
    "start_time": "2023-05-05T13:47:18.114Z"
   },
   {
    "duration": 0,
    "start_time": "2023-05-05T13:47:18.115Z"
   },
   {
    "duration": 0,
    "start_time": "2023-05-05T13:47:18.116Z"
   },
   {
    "duration": 0,
    "start_time": "2023-05-05T13:47:18.117Z"
   },
   {
    "duration": 0,
    "start_time": "2023-05-05T13:47:18.118Z"
   },
   {
    "duration": 0,
    "start_time": "2023-05-05T13:47:18.119Z"
   },
   {
    "duration": 0,
    "start_time": "2023-05-05T13:47:18.120Z"
   },
   {
    "duration": 0,
    "start_time": "2023-05-05T13:47:18.122Z"
   },
   {
    "duration": 0,
    "start_time": "2023-05-05T13:47:18.183Z"
   },
   {
    "duration": 0,
    "start_time": "2023-05-05T13:47:18.185Z"
   },
   {
    "duration": 0,
    "start_time": "2023-05-05T13:47:18.186Z"
   },
   {
    "duration": 3,
    "start_time": "2023-05-05T13:48:29.363Z"
   },
   {
    "duration": 8,
    "start_time": "2023-05-05T13:48:39.295Z"
   },
   {
    "duration": 1150,
    "start_time": "2023-05-05T13:48:39.305Z"
   },
   {
    "duration": 12,
    "start_time": "2023-05-05T13:48:40.456Z"
   },
   {
    "duration": 32,
    "start_time": "2023-05-05T13:48:40.471Z"
   },
   {
    "duration": 9,
    "start_time": "2023-05-05T13:48:40.505Z"
   },
   {
    "duration": 16,
    "start_time": "2023-05-05T13:48:40.516Z"
   },
   {
    "duration": 31,
    "start_time": "2023-05-05T13:48:40.534Z"
   },
   {
    "duration": 24,
    "start_time": "2023-05-05T13:48:40.566Z"
   },
   {
    "duration": 11,
    "start_time": "2023-05-05T13:48:40.592Z"
   },
   {
    "duration": 35,
    "start_time": "2023-05-05T13:48:40.606Z"
   },
   {
    "duration": 26,
    "start_time": "2023-05-05T13:48:40.643Z"
   },
   {
    "duration": 94,
    "start_time": "2023-05-05T13:48:40.671Z"
   },
   {
    "duration": 26,
    "start_time": "2023-05-05T13:48:40.769Z"
   },
   {
    "duration": 17,
    "start_time": "2023-05-05T13:48:40.798Z"
   },
   {
    "duration": 19,
    "start_time": "2023-05-05T13:48:40.817Z"
   },
   {
    "duration": 52,
    "start_time": "2023-05-05T13:48:40.838Z"
   },
   {
    "duration": 27,
    "start_time": "2023-05-05T13:48:40.894Z"
   },
   {
    "duration": 22,
    "start_time": "2023-05-05T13:48:40.923Z"
   },
   {
    "duration": 27,
    "start_time": "2023-05-05T13:48:40.948Z"
   },
   {
    "duration": 26,
    "start_time": "2023-05-05T13:48:40.978Z"
   },
   {
    "duration": 27,
    "start_time": "2023-05-05T13:48:41.007Z"
   },
   {
    "duration": 49,
    "start_time": "2023-05-05T13:48:41.036Z"
   },
   {
    "duration": 68,
    "start_time": "2023-05-05T13:48:41.088Z"
   },
   {
    "duration": 34,
    "start_time": "2023-05-05T13:48:41.159Z"
   },
   {
    "duration": 12,
    "start_time": "2023-05-05T13:48:41.195Z"
   },
   {
    "duration": 2617,
    "start_time": "2023-05-05T13:48:41.209Z"
   },
   {
    "duration": 1797,
    "start_time": "2023-05-05T13:48:43.828Z"
   },
   {
    "duration": 7,
    "start_time": "2023-05-05T13:48:45.629Z"
   },
   {
    "duration": 186,
    "start_time": "2023-05-05T13:48:45.637Z"
   },
   {
    "duration": 19,
    "start_time": "2023-05-05T13:48:45.824Z"
   },
   {
    "duration": 47,
    "start_time": "2023-05-05T13:48:45.845Z"
   },
   {
    "duration": 38,
    "start_time": "2023-05-05T13:48:45.894Z"
   },
   {
    "duration": 28,
    "start_time": "2023-05-05T13:48:45.933Z"
   },
   {
    "duration": 42,
    "start_time": "2023-05-05T13:48:45.963Z"
   },
   {
    "duration": 43,
    "start_time": "2023-05-05T13:48:46.007Z"
   },
   {
    "duration": 34,
    "start_time": "2023-05-05T13:48:46.052Z"
   },
   {
    "duration": 47,
    "start_time": "2023-05-05T13:48:46.087Z"
   },
   {
    "duration": 38,
    "start_time": "2023-05-05T13:48:46.136Z"
   },
   {
    "duration": 3030,
    "start_time": "2023-05-05T13:48:46.176Z"
   },
   {
    "duration": 21,
    "start_time": "2023-05-05T13:48:49.208Z"
   },
   {
    "duration": 68,
    "start_time": "2023-05-05T13:48:49.231Z"
   },
   {
    "duration": 37,
    "start_time": "2023-05-05T13:48:49.301Z"
   },
   {
    "duration": 30,
    "start_time": "2023-05-05T13:48:49.340Z"
   },
   {
    "duration": 35,
    "start_time": "2023-05-05T13:48:49.372Z"
   },
   {
    "duration": 33,
    "start_time": "2023-05-05T13:48:49.409Z"
   },
   {
    "duration": 393,
    "start_time": "2023-05-05T13:48:49.444Z"
   },
   {
    "duration": 12,
    "start_time": "2023-05-05T13:48:49.838Z"
   },
   {
    "duration": 469,
    "start_time": "2023-05-05T13:48:49.851Z"
   },
   {
    "duration": 10,
    "start_time": "2023-05-05T13:48:50.321Z"
   },
   {
    "duration": 359,
    "start_time": "2023-05-05T13:48:50.333Z"
   },
   {
    "duration": 8,
    "start_time": "2023-05-05T13:48:50.694Z"
   },
   {
    "duration": 2047,
    "start_time": "2023-05-05T13:48:50.704Z"
   },
   {
    "duration": 0,
    "start_time": "2023-05-05T13:48:52.753Z"
   },
   {
    "duration": 0,
    "start_time": "2023-05-05T13:48:52.754Z"
   },
   {
    "duration": 0,
    "start_time": "2023-05-05T13:48:52.756Z"
   },
   {
    "duration": 0,
    "start_time": "2023-05-05T13:48:52.757Z"
   },
   {
    "duration": 0,
    "start_time": "2023-05-05T13:48:52.759Z"
   },
   {
    "duration": 7,
    "start_time": "2023-05-05T13:54:27.383Z"
   },
   {
    "duration": 1384,
    "start_time": "2023-05-05T13:54:27.392Z"
   },
   {
    "duration": 23,
    "start_time": "2023-05-05T13:54:28.778Z"
   },
   {
    "duration": 42,
    "start_time": "2023-05-05T13:54:28.804Z"
   },
   {
    "duration": 8,
    "start_time": "2023-05-05T13:54:28.849Z"
   },
   {
    "duration": 32,
    "start_time": "2023-05-05T13:54:28.860Z"
   },
   {
    "duration": 30,
    "start_time": "2023-05-05T13:54:28.894Z"
   },
   {
    "duration": 23,
    "start_time": "2023-05-05T13:54:28.928Z"
   },
   {
    "duration": 24,
    "start_time": "2023-05-05T13:54:28.953Z"
   },
   {
    "duration": 22,
    "start_time": "2023-05-05T13:54:28.979Z"
   },
   {
    "duration": 21,
    "start_time": "2023-05-05T13:54:29.004Z"
   },
   {
    "duration": 55,
    "start_time": "2023-05-05T13:54:29.027Z"
   },
   {
    "duration": 19,
    "start_time": "2023-05-05T13:54:29.087Z"
   },
   {
    "duration": 1519,
    "start_time": "2023-05-05T13:54:29.108Z"
   },
   {
    "duration": 0,
    "start_time": "2023-05-05T13:54:30.630Z"
   },
   {
    "duration": 0,
    "start_time": "2023-05-05T13:54:30.632Z"
   },
   {
    "duration": 0,
    "start_time": "2023-05-05T13:54:30.633Z"
   },
   {
    "duration": 0,
    "start_time": "2023-05-05T13:54:30.635Z"
   },
   {
    "duration": 0,
    "start_time": "2023-05-05T13:54:30.636Z"
   },
   {
    "duration": 0,
    "start_time": "2023-05-05T13:54:30.637Z"
   },
   {
    "duration": 0,
    "start_time": "2023-05-05T13:54:30.639Z"
   },
   {
    "duration": 0,
    "start_time": "2023-05-05T13:54:30.640Z"
   },
   {
    "duration": 0,
    "start_time": "2023-05-05T13:54:30.641Z"
   },
   {
    "duration": 0,
    "start_time": "2023-05-05T13:54:30.643Z"
   },
   {
    "duration": 0,
    "start_time": "2023-05-05T13:54:30.645Z"
   },
   {
    "duration": 0,
    "start_time": "2023-05-05T13:54:30.646Z"
   },
   {
    "duration": 0,
    "start_time": "2023-05-05T13:54:30.648Z"
   },
   {
    "duration": 0,
    "start_time": "2023-05-05T13:54:30.649Z"
   },
   {
    "duration": 0,
    "start_time": "2023-05-05T13:54:30.651Z"
   },
   {
    "duration": 0,
    "start_time": "2023-05-05T13:54:30.653Z"
   },
   {
    "duration": 0,
    "start_time": "2023-05-05T13:54:30.654Z"
   },
   {
    "duration": 0,
    "start_time": "2023-05-05T13:54:30.655Z"
   },
   {
    "duration": 0,
    "start_time": "2023-05-05T13:54:30.657Z"
   },
   {
    "duration": 0,
    "start_time": "2023-05-05T13:54:30.659Z"
   },
   {
    "duration": 0,
    "start_time": "2023-05-05T13:54:30.660Z"
   },
   {
    "duration": 0,
    "start_time": "2023-05-05T13:54:30.661Z"
   },
   {
    "duration": 0,
    "start_time": "2023-05-05T13:54:30.662Z"
   },
   {
    "duration": 0,
    "start_time": "2023-05-05T13:54:30.664Z"
   },
   {
    "duration": 0,
    "start_time": "2023-05-05T13:54:30.684Z"
   },
   {
    "duration": 0,
    "start_time": "2023-05-05T13:54:30.687Z"
   },
   {
    "duration": 0,
    "start_time": "2023-05-05T13:54:30.689Z"
   },
   {
    "duration": 0,
    "start_time": "2023-05-05T13:54:30.690Z"
   },
   {
    "duration": 0,
    "start_time": "2023-05-05T13:54:30.691Z"
   },
   {
    "duration": 0,
    "start_time": "2023-05-05T13:54:30.693Z"
   },
   {
    "duration": 0,
    "start_time": "2023-05-05T13:54:30.695Z"
   },
   {
    "duration": 0,
    "start_time": "2023-05-05T13:54:30.696Z"
   },
   {
    "duration": 0,
    "start_time": "2023-05-05T13:54:30.699Z"
   },
   {
    "duration": 0,
    "start_time": "2023-05-05T13:54:30.700Z"
   },
   {
    "duration": 0,
    "start_time": "2023-05-05T13:54:30.702Z"
   },
   {
    "duration": 0,
    "start_time": "2023-05-05T13:54:30.703Z"
   },
   {
    "duration": 0,
    "start_time": "2023-05-05T13:54:30.704Z"
   },
   {
    "duration": 0,
    "start_time": "2023-05-05T13:54:30.706Z"
   },
   {
    "duration": 0,
    "start_time": "2023-05-05T13:54:30.707Z"
   },
   {
    "duration": 0,
    "start_time": "2023-05-05T13:54:30.709Z"
   },
   {
    "duration": 0,
    "start_time": "2023-05-05T13:54:30.710Z"
   },
   {
    "duration": 0,
    "start_time": "2023-05-05T13:54:30.711Z"
   },
   {
    "duration": 0,
    "start_time": "2023-05-05T13:54:30.712Z"
   },
   {
    "duration": 9,
    "start_time": "2023-05-05T13:57:43.500Z"
   },
   {
    "duration": 7,
    "start_time": "2023-05-05T13:57:44.113Z"
   },
   {
    "duration": 4,
    "start_time": "2023-05-05T13:57:55.031Z"
   },
   {
    "duration": 7,
    "start_time": "2023-05-05T13:57:55.598Z"
   },
   {
    "duration": 6,
    "start_time": "2023-05-05T13:58:05.721Z"
   },
   {
    "duration": 1154,
    "start_time": "2023-05-05T13:58:05.729Z"
   },
   {
    "duration": 15,
    "start_time": "2023-05-05T13:58:06.885Z"
   },
   {
    "duration": 68,
    "start_time": "2023-05-05T13:58:06.903Z"
   },
   {
    "duration": 23,
    "start_time": "2023-05-05T13:58:06.972Z"
   },
   {
    "duration": 16,
    "start_time": "2023-05-05T13:58:06.996Z"
   },
   {
    "duration": 18,
    "start_time": "2023-05-05T13:58:07.014Z"
   },
   {
    "duration": 33,
    "start_time": "2023-05-05T13:58:07.034Z"
   },
   {
    "duration": 15,
    "start_time": "2023-05-05T13:58:07.069Z"
   },
   {
    "duration": 428,
    "start_time": "2023-05-05T13:58:07.088Z"
   },
   {
    "duration": 0,
    "start_time": "2023-05-05T13:58:07.520Z"
   },
   {
    "duration": 1,
    "start_time": "2023-05-05T13:58:07.520Z"
   },
   {
    "duration": 0,
    "start_time": "2023-05-05T13:58:07.521Z"
   },
   {
    "duration": 0,
    "start_time": "2023-05-05T13:58:07.523Z"
   },
   {
    "duration": 0,
    "start_time": "2023-05-05T13:58:07.524Z"
   },
   {
    "duration": 0,
    "start_time": "2023-05-05T13:58:07.525Z"
   },
   {
    "duration": 0,
    "start_time": "2023-05-05T13:58:07.527Z"
   },
   {
    "duration": 0,
    "start_time": "2023-05-05T13:58:07.528Z"
   },
   {
    "duration": 0,
    "start_time": "2023-05-05T13:58:07.529Z"
   },
   {
    "duration": 0,
    "start_time": "2023-05-05T13:58:07.530Z"
   },
   {
    "duration": 0,
    "start_time": "2023-05-05T13:58:07.531Z"
   },
   {
    "duration": 0,
    "start_time": "2023-05-05T13:58:07.532Z"
   },
   {
    "duration": 0,
    "start_time": "2023-05-05T13:58:07.533Z"
   },
   {
    "duration": 0,
    "start_time": "2023-05-05T13:58:07.535Z"
   },
   {
    "duration": 0,
    "start_time": "2023-05-05T13:58:07.536Z"
   },
   {
    "duration": 0,
    "start_time": "2023-05-05T13:58:07.537Z"
   },
   {
    "duration": 0,
    "start_time": "2023-05-05T13:58:07.538Z"
   },
   {
    "duration": 0,
    "start_time": "2023-05-05T13:58:07.540Z"
   },
   {
    "duration": 0,
    "start_time": "2023-05-05T13:58:07.540Z"
   },
   {
    "duration": 0,
    "start_time": "2023-05-05T13:58:07.542Z"
   },
   {
    "duration": 0,
    "start_time": "2023-05-05T13:58:07.543Z"
   },
   {
    "duration": 0,
    "start_time": "2023-05-05T13:58:07.544Z"
   },
   {
    "duration": 0,
    "start_time": "2023-05-05T13:58:07.545Z"
   },
   {
    "duration": 0,
    "start_time": "2023-05-05T13:58:07.546Z"
   },
   {
    "duration": 0,
    "start_time": "2023-05-05T13:58:07.547Z"
   },
   {
    "duration": 0,
    "start_time": "2023-05-05T13:58:07.549Z"
   },
   {
    "duration": 0,
    "start_time": "2023-05-05T13:58:07.550Z"
   },
   {
    "duration": 0,
    "start_time": "2023-05-05T13:58:07.552Z"
   },
   {
    "duration": 0,
    "start_time": "2023-05-05T13:58:07.553Z"
   },
   {
    "duration": 0,
    "start_time": "2023-05-05T13:58:07.554Z"
   },
   {
    "duration": 0,
    "start_time": "2023-05-05T13:58:07.555Z"
   },
   {
    "duration": 0,
    "start_time": "2023-05-05T13:58:07.555Z"
   },
   {
    "duration": 0,
    "start_time": "2023-05-05T13:58:07.556Z"
   },
   {
    "duration": 0,
    "start_time": "2023-05-05T13:58:07.586Z"
   },
   {
    "duration": 0,
    "start_time": "2023-05-05T13:58:07.587Z"
   },
   {
    "duration": 0,
    "start_time": "2023-05-05T13:58:07.589Z"
   },
   {
    "duration": 0,
    "start_time": "2023-05-05T13:58:07.591Z"
   },
   {
    "duration": 0,
    "start_time": "2023-05-05T13:58:07.592Z"
   },
   {
    "duration": 0,
    "start_time": "2023-05-05T13:58:07.594Z"
   },
   {
    "duration": 0,
    "start_time": "2023-05-05T13:58:07.595Z"
   },
   {
    "duration": 0,
    "start_time": "2023-05-05T13:58:07.596Z"
   },
   {
    "duration": 0,
    "start_time": "2023-05-05T13:58:07.597Z"
   },
   {
    "duration": 0,
    "start_time": "2023-05-05T13:58:07.599Z"
   },
   {
    "duration": 0,
    "start_time": "2023-05-05T13:58:07.602Z"
   },
   {
    "duration": 0,
    "start_time": "2023-05-05T13:58:07.603Z"
   },
   {
    "duration": 0,
    "start_time": "2023-05-05T13:58:07.605Z"
   },
   {
    "duration": 0,
    "start_time": "2023-05-05T13:58:07.606Z"
   },
   {
    "duration": 187,
    "start_time": "2023-05-05T14:00:25.952Z"
   },
   {
    "duration": 843,
    "start_time": "2023-05-05T14:00:26.595Z"
   },
   {
    "duration": 5,
    "start_time": "2023-05-05T14:00:38.057Z"
   },
   {
    "duration": 731,
    "start_time": "2023-05-05T14:00:38.543Z"
   },
   {
    "duration": 9,
    "start_time": "2023-05-05T14:01:25.216Z"
   },
   {
    "duration": 390,
    "start_time": "2023-05-05T14:01:25.807Z"
   },
   {
    "duration": 7,
    "start_time": "2023-05-05T14:01:41.815Z"
   },
   {
    "duration": 373,
    "start_time": "2023-05-05T14:01:42.833Z"
   },
   {
    "duration": 8,
    "start_time": "2023-05-05T14:01:51.680Z"
   },
   {
    "duration": 1398,
    "start_time": "2023-05-05T14:01:51.691Z"
   },
   {
    "duration": 14,
    "start_time": "2023-05-05T14:01:53.091Z"
   },
   {
    "duration": 31,
    "start_time": "2023-05-05T14:01:53.107Z"
   },
   {
    "duration": 3,
    "start_time": "2023-05-05T14:01:53.140Z"
   },
   {
    "duration": 18,
    "start_time": "2023-05-05T14:01:53.146Z"
   },
   {
    "duration": 21,
    "start_time": "2023-05-05T14:01:53.166Z"
   },
   {
    "duration": 9,
    "start_time": "2023-05-05T14:01:53.189Z"
   },
   {
    "duration": 11,
    "start_time": "2023-05-05T14:01:53.200Z"
   },
   {
    "duration": 25,
    "start_time": "2023-05-05T14:01:53.214Z"
   },
   {
    "duration": 14,
    "start_time": "2023-05-05T14:01:53.240Z"
   },
   {
    "duration": 10,
    "start_time": "2023-05-05T14:01:53.256Z"
   },
   {
    "duration": 11,
    "start_time": "2023-05-05T14:01:53.284Z"
   },
   {
    "duration": 1679,
    "start_time": "2023-05-05T14:01:53.296Z"
   },
   {
    "duration": 0,
    "start_time": "2023-05-05T14:01:54.978Z"
   },
   {
    "duration": 0,
    "start_time": "2023-05-05T14:01:54.980Z"
   },
   {
    "duration": 0,
    "start_time": "2023-05-05T14:01:54.981Z"
   },
   {
    "duration": 0,
    "start_time": "2023-05-05T14:01:54.983Z"
   },
   {
    "duration": 0,
    "start_time": "2023-05-05T14:01:54.984Z"
   },
   {
    "duration": 0,
    "start_time": "2023-05-05T14:01:54.985Z"
   },
   {
    "duration": 0,
    "start_time": "2023-05-05T14:01:54.987Z"
   },
   {
    "duration": 0,
    "start_time": "2023-05-05T14:01:54.989Z"
   },
   {
    "duration": 0,
    "start_time": "2023-05-05T14:01:54.990Z"
   },
   {
    "duration": 0,
    "start_time": "2023-05-05T14:01:54.992Z"
   },
   {
    "duration": 0,
    "start_time": "2023-05-05T14:01:54.993Z"
   },
   {
    "duration": 0,
    "start_time": "2023-05-05T14:01:54.994Z"
   },
   {
    "duration": 0,
    "start_time": "2023-05-05T14:01:54.996Z"
   },
   {
    "duration": 0,
    "start_time": "2023-05-05T14:01:54.997Z"
   },
   {
    "duration": 0,
    "start_time": "2023-05-05T14:01:54.998Z"
   },
   {
    "duration": 0,
    "start_time": "2023-05-05T14:01:55.000Z"
   },
   {
    "duration": 0,
    "start_time": "2023-05-05T14:01:55.001Z"
   },
   {
    "duration": 0,
    "start_time": "2023-05-05T14:01:55.005Z"
   },
   {
    "duration": 0,
    "start_time": "2023-05-05T14:01:55.007Z"
   },
   {
    "duration": 0,
    "start_time": "2023-05-05T14:01:55.008Z"
   },
   {
    "duration": 0,
    "start_time": "2023-05-05T14:01:55.010Z"
   },
   {
    "duration": 0,
    "start_time": "2023-05-05T14:01:55.012Z"
   },
   {
    "duration": 0,
    "start_time": "2023-05-05T14:01:55.013Z"
   },
   {
    "duration": 0,
    "start_time": "2023-05-05T14:01:55.015Z"
   },
   {
    "duration": 0,
    "start_time": "2023-05-05T14:01:55.016Z"
   },
   {
    "duration": 0,
    "start_time": "2023-05-05T14:01:55.017Z"
   },
   {
    "duration": 0,
    "start_time": "2023-05-05T14:01:55.019Z"
   },
   {
    "duration": 0,
    "start_time": "2023-05-05T14:01:55.020Z"
   },
   {
    "duration": 0,
    "start_time": "2023-05-05T14:01:55.022Z"
   },
   {
    "duration": 0,
    "start_time": "2023-05-05T14:01:55.023Z"
   },
   {
    "duration": 0,
    "start_time": "2023-05-05T14:01:55.084Z"
   },
   {
    "duration": 0,
    "start_time": "2023-05-05T14:01:55.086Z"
   },
   {
    "duration": 0,
    "start_time": "2023-05-05T14:01:55.088Z"
   },
   {
    "duration": 0,
    "start_time": "2023-05-05T14:01:55.089Z"
   },
   {
    "duration": 0,
    "start_time": "2023-05-05T14:01:55.091Z"
   },
   {
    "duration": 0,
    "start_time": "2023-05-05T14:01:55.092Z"
   },
   {
    "duration": 0,
    "start_time": "2023-05-05T14:01:55.095Z"
   },
   {
    "duration": 0,
    "start_time": "2023-05-05T14:01:55.096Z"
   },
   {
    "duration": 0,
    "start_time": "2023-05-05T14:01:55.097Z"
   },
   {
    "duration": 0,
    "start_time": "2023-05-05T14:01:55.099Z"
   },
   {
    "duration": 0,
    "start_time": "2023-05-05T14:01:55.100Z"
   },
   {
    "duration": 0,
    "start_time": "2023-05-05T14:01:55.101Z"
   },
   {
    "duration": 0,
    "start_time": "2023-05-05T14:01:55.103Z"
   },
   {
    "duration": 1642,
    "start_time": "2023-05-05T14:03:11.227Z"
   },
   {
    "duration": 1878,
    "start_time": "2023-05-05T14:04:02.562Z"
   },
   {
    "duration": 7,
    "start_time": "2023-05-05T14:04:15.181Z"
   },
   {
    "duration": 1045,
    "start_time": "2023-05-05T14:04:15.191Z"
   },
   {
    "duration": 13,
    "start_time": "2023-05-05T14:04:16.238Z"
   },
   {
    "duration": 20,
    "start_time": "2023-05-05T14:04:16.253Z"
   },
   {
    "duration": 3,
    "start_time": "2023-05-05T14:04:16.276Z"
   },
   {
    "duration": 12,
    "start_time": "2023-05-05T14:04:16.281Z"
   },
   {
    "duration": 8,
    "start_time": "2023-05-05T14:04:16.295Z"
   },
   {
    "duration": 10,
    "start_time": "2023-05-05T14:04:16.305Z"
   },
   {
    "duration": 8,
    "start_time": "2023-05-05T14:04:16.317Z"
   },
   {
    "duration": 9,
    "start_time": "2023-05-05T14:04:16.327Z"
   },
   {
    "duration": 52,
    "start_time": "2023-05-05T14:04:16.337Z"
   },
   {
    "duration": 14,
    "start_time": "2023-05-05T14:04:16.392Z"
   },
   {
    "duration": 12,
    "start_time": "2023-05-05T14:04:16.410Z"
   },
   {
    "duration": 1481,
    "start_time": "2023-05-05T14:04:16.424Z"
   },
   {
    "duration": 0,
    "start_time": "2023-05-05T14:04:17.907Z"
   },
   {
    "duration": 0,
    "start_time": "2023-05-05T14:04:17.908Z"
   },
   {
    "duration": 0,
    "start_time": "2023-05-05T14:04:17.910Z"
   },
   {
    "duration": 0,
    "start_time": "2023-05-05T14:04:17.911Z"
   },
   {
    "duration": 0,
    "start_time": "2023-05-05T14:04:17.913Z"
   },
   {
    "duration": 0,
    "start_time": "2023-05-05T14:04:17.915Z"
   },
   {
    "duration": 0,
    "start_time": "2023-05-05T14:04:17.916Z"
   },
   {
    "duration": 0,
    "start_time": "2023-05-05T14:04:17.917Z"
   },
   {
    "duration": 0,
    "start_time": "2023-05-05T14:04:17.919Z"
   },
   {
    "duration": 0,
    "start_time": "2023-05-05T14:04:17.921Z"
   },
   {
    "duration": 0,
    "start_time": "2023-05-05T14:04:17.922Z"
   },
   {
    "duration": 0,
    "start_time": "2023-05-05T14:04:17.924Z"
   },
   {
    "duration": 0,
    "start_time": "2023-05-05T14:04:17.925Z"
   },
   {
    "duration": 0,
    "start_time": "2023-05-05T14:04:17.927Z"
   },
   {
    "duration": 0,
    "start_time": "2023-05-05T14:04:17.928Z"
   },
   {
    "duration": 0,
    "start_time": "2023-05-05T14:04:17.930Z"
   },
   {
    "duration": 0,
    "start_time": "2023-05-05T14:04:17.931Z"
   },
   {
    "duration": 0,
    "start_time": "2023-05-05T14:04:17.933Z"
   },
   {
    "duration": 0,
    "start_time": "2023-05-05T14:04:17.934Z"
   },
   {
    "duration": 0,
    "start_time": "2023-05-05T14:04:17.936Z"
   },
   {
    "duration": 0,
    "start_time": "2023-05-05T14:04:17.937Z"
   },
   {
    "duration": 0,
    "start_time": "2023-05-05T14:04:17.939Z"
   },
   {
    "duration": 0,
    "start_time": "2023-05-05T14:04:17.940Z"
   },
   {
    "duration": 0,
    "start_time": "2023-05-05T14:04:17.942Z"
   },
   {
    "duration": 0,
    "start_time": "2023-05-05T14:04:17.943Z"
   },
   {
    "duration": 0,
    "start_time": "2023-05-05T14:04:17.945Z"
   },
   {
    "duration": 0,
    "start_time": "2023-05-05T14:04:17.984Z"
   },
   {
    "duration": 0,
    "start_time": "2023-05-05T14:04:17.986Z"
   },
   {
    "duration": 0,
    "start_time": "2023-05-05T14:04:17.987Z"
   },
   {
    "duration": 0,
    "start_time": "2023-05-05T14:04:17.989Z"
   },
   {
    "duration": 0,
    "start_time": "2023-05-05T14:04:17.990Z"
   },
   {
    "duration": 0,
    "start_time": "2023-05-05T14:04:17.992Z"
   },
   {
    "duration": 0,
    "start_time": "2023-05-05T14:04:17.994Z"
   },
   {
    "duration": 0,
    "start_time": "2023-05-05T14:04:17.995Z"
   },
   {
    "duration": 0,
    "start_time": "2023-05-05T14:04:17.997Z"
   },
   {
    "duration": 0,
    "start_time": "2023-05-05T14:04:17.998Z"
   },
   {
    "duration": 0,
    "start_time": "2023-05-05T14:04:18.000Z"
   },
   {
    "duration": 0,
    "start_time": "2023-05-05T14:04:18.001Z"
   },
   {
    "duration": 0,
    "start_time": "2023-05-05T14:04:18.002Z"
   },
   {
    "duration": 0,
    "start_time": "2023-05-05T14:04:18.004Z"
   },
   {
    "duration": 0,
    "start_time": "2023-05-05T14:04:18.006Z"
   },
   {
    "duration": 0,
    "start_time": "2023-05-05T14:04:18.007Z"
   },
   {
    "duration": 0,
    "start_time": "2023-05-05T14:04:18.008Z"
   },
   {
    "duration": 0,
    "start_time": "2023-05-05T14:04:18.009Z"
   },
   {
    "duration": 3,
    "start_time": "2023-05-05T14:04:39.373Z"
   },
   {
    "duration": 2162,
    "start_time": "2023-05-05T14:04:40.655Z"
   },
   {
    "duration": 6,
    "start_time": "2023-05-05T14:06:06.104Z"
   },
   {
    "duration": 1331,
    "start_time": "2023-05-05T14:06:06.112Z"
   },
   {
    "duration": 13,
    "start_time": "2023-05-05T14:06:07.445Z"
   },
   {
    "duration": 43,
    "start_time": "2023-05-05T14:06:07.459Z"
   },
   {
    "duration": 37,
    "start_time": "2023-05-05T14:06:07.504Z"
   },
   {
    "duration": 43,
    "start_time": "2023-05-05T14:06:07.543Z"
   },
   {
    "duration": 26,
    "start_time": "2023-05-05T14:06:07.589Z"
   },
   {
    "duration": 32,
    "start_time": "2023-05-05T14:06:07.617Z"
   },
   {
    "duration": 30,
    "start_time": "2023-05-05T14:06:07.652Z"
   },
   {
    "duration": 24,
    "start_time": "2023-05-05T14:06:07.684Z"
   },
   {
    "duration": 27,
    "start_time": "2023-05-05T14:06:07.710Z"
   },
   {
    "duration": 25,
    "start_time": "2023-05-05T14:06:07.739Z"
   },
   {
    "duration": 29,
    "start_time": "2023-05-05T14:06:07.767Z"
   },
   {
    "duration": 12,
    "start_time": "2023-05-05T14:06:07.798Z"
   },
   {
    "duration": 32,
    "start_time": "2023-05-05T14:06:07.812Z"
   },
   {
    "duration": 22,
    "start_time": "2023-05-05T14:06:07.845Z"
   },
   {
    "duration": 25,
    "start_time": "2023-05-05T14:06:07.870Z"
   },
   {
    "duration": 31,
    "start_time": "2023-05-05T14:06:07.897Z"
   },
   {
    "duration": 24,
    "start_time": "2023-05-05T14:06:07.930Z"
   },
   {
    "duration": 24,
    "start_time": "2023-05-05T14:06:07.956Z"
   },
   {
    "duration": 17,
    "start_time": "2023-05-05T14:06:07.982Z"
   },
   {
    "duration": 41,
    "start_time": "2023-05-05T14:06:08.000Z"
   },
   {
    "duration": 32,
    "start_time": "2023-05-05T14:06:08.042Z"
   },
   {
    "duration": 53,
    "start_time": "2023-05-05T14:06:08.075Z"
   },
   {
    "duration": 16,
    "start_time": "2023-05-05T14:06:08.131Z"
   },
   {
    "duration": 11,
    "start_time": "2023-05-05T14:06:08.149Z"
   },
   {
    "duration": 2790,
    "start_time": "2023-05-05T14:06:08.161Z"
   },
   {
    "duration": 1674,
    "start_time": "2023-05-05T14:06:10.953Z"
   },
   {
    "duration": 6,
    "start_time": "2023-05-05T14:06:12.629Z"
   },
   {
    "duration": 282,
    "start_time": "2023-05-05T14:06:12.637Z"
   },
   {
    "duration": 16,
    "start_time": "2023-05-05T14:06:12.920Z"
   },
   {
    "duration": 60,
    "start_time": "2023-05-05T14:06:12.938Z"
   },
   {
    "duration": 29,
    "start_time": "2023-05-05T14:06:13.000Z"
   },
   {
    "duration": 20,
    "start_time": "2023-05-05T14:06:13.030Z"
   },
   {
    "duration": 51,
    "start_time": "2023-05-05T14:06:13.052Z"
   },
   {
    "duration": 20,
    "start_time": "2023-05-05T14:06:13.105Z"
   },
   {
    "duration": 19,
    "start_time": "2023-05-05T14:06:13.129Z"
   },
   {
    "duration": 49,
    "start_time": "2023-05-05T14:06:13.150Z"
   },
   {
    "duration": 21,
    "start_time": "2023-05-05T14:06:13.201Z"
   },
   {
    "duration": 2981,
    "start_time": "2023-05-05T14:06:13.223Z"
   },
   {
    "duration": 21,
    "start_time": "2023-05-05T14:06:16.206Z"
   },
   {
    "duration": 19,
    "start_time": "2023-05-05T14:06:16.228Z"
   },
   {
    "duration": 53,
    "start_time": "2023-05-05T14:06:16.249Z"
   },
   {
    "duration": 31,
    "start_time": "2023-05-05T14:06:16.304Z"
   },
   {
    "duration": 79,
    "start_time": "2023-05-05T14:06:16.337Z"
   },
   {
    "duration": 29,
    "start_time": "2023-05-05T14:06:16.418Z"
   },
   {
    "duration": 424,
    "start_time": "2023-05-05T14:06:16.449Z"
   },
   {
    "duration": 15,
    "start_time": "2023-05-05T14:06:16.874Z"
   },
   {
    "duration": 297,
    "start_time": "2023-05-05T14:06:16.891Z"
   },
   {
    "duration": 9,
    "start_time": "2023-05-05T14:06:17.190Z"
   },
   {
    "duration": 327,
    "start_time": "2023-05-05T14:06:17.201Z"
   },
   {
    "duration": 10,
    "start_time": "2023-05-05T14:06:17.530Z"
   },
   {
    "duration": 49,
    "start_time": "2023-05-05T14:06:17.542Z"
   },
   {
    "duration": 34,
    "start_time": "2023-05-05T14:06:17.593Z"
   },
   {
    "duration": 25,
    "start_time": "2023-05-05T14:06:17.629Z"
   },
   {
    "duration": 49,
    "start_time": "2023-05-05T14:06:17.656Z"
   },
   {
    "duration": 39,
    "start_time": "2023-05-05T14:06:17.706Z"
   },
   {
    "duration": 48,
    "start_time": "2023-05-05T14:06:17.747Z"
   },
   {
    "duration": 6,
    "start_time": "2023-05-05T14:06:42.190Z"
   },
   {
    "duration": 6,
    "start_time": "2023-05-05T14:06:55.844Z"
   },
   {
    "duration": 1244,
    "start_time": "2023-05-05T14:06:55.852Z"
   },
   {
    "duration": 18,
    "start_time": "2023-05-05T14:06:57.098Z"
   },
   {
    "duration": 45,
    "start_time": "2023-05-05T14:06:57.118Z"
   },
   {
    "duration": 30,
    "start_time": "2023-05-05T14:06:57.166Z"
   },
   {
    "duration": 5,
    "start_time": "2023-05-05T14:06:57.198Z"
   },
   {
    "duration": 33,
    "start_time": "2023-05-05T14:06:57.205Z"
   },
   {
    "duration": 18,
    "start_time": "2023-05-05T14:06:57.239Z"
   },
   {
    "duration": 21,
    "start_time": "2023-05-05T14:06:57.259Z"
   },
   {
    "duration": 24,
    "start_time": "2023-05-05T14:06:57.282Z"
   },
   {
    "duration": 23,
    "start_time": "2023-05-05T14:06:57.308Z"
   },
   {
    "duration": 142,
    "start_time": "2023-05-05T14:06:57.332Z"
   },
   {
    "duration": 19,
    "start_time": "2023-05-05T14:06:57.484Z"
   },
   {
    "duration": 8,
    "start_time": "2023-05-05T14:06:57.507Z"
   },
   {
    "duration": 15,
    "start_time": "2023-05-05T14:06:57.517Z"
   },
   {
    "duration": 7,
    "start_time": "2023-05-05T14:06:57.533Z"
   },
   {
    "duration": 18,
    "start_time": "2023-05-05T14:06:57.542Z"
   },
   {
    "duration": 13,
    "start_time": "2023-05-05T14:06:57.561Z"
   },
   {
    "duration": 26,
    "start_time": "2023-05-05T14:06:57.583Z"
   },
   {
    "duration": 22,
    "start_time": "2023-05-05T14:06:57.611Z"
   },
   {
    "duration": 27,
    "start_time": "2023-05-05T14:06:57.635Z"
   },
   {
    "duration": 24,
    "start_time": "2023-05-05T14:06:57.664Z"
   },
   {
    "duration": 48,
    "start_time": "2023-05-05T14:06:57.690Z"
   },
   {
    "duration": 11,
    "start_time": "2023-05-05T14:06:57.739Z"
   },
   {
    "duration": 13,
    "start_time": "2023-05-05T14:06:57.751Z"
   },
   {
    "duration": 2369,
    "start_time": "2023-05-05T14:06:57.765Z"
   },
   {
    "duration": 1694,
    "start_time": "2023-05-05T14:07:00.137Z"
   },
   {
    "duration": 7,
    "start_time": "2023-05-05T14:07:01.832Z"
   },
   {
    "duration": 172,
    "start_time": "2023-05-05T14:07:01.840Z"
   },
   {
    "duration": 18,
    "start_time": "2023-05-05T14:07:02.014Z"
   },
   {
    "duration": 91,
    "start_time": "2023-05-05T14:07:02.035Z"
   },
   {
    "duration": 27,
    "start_time": "2023-05-05T14:07:02.128Z"
   },
   {
    "duration": 18,
    "start_time": "2023-05-05T14:07:02.157Z"
   },
   {
    "duration": 54,
    "start_time": "2023-05-05T14:07:02.177Z"
   },
   {
    "duration": 24,
    "start_time": "2023-05-05T14:07:02.232Z"
   },
   {
    "duration": 22,
    "start_time": "2023-05-05T14:07:02.257Z"
   },
   {
    "duration": 19,
    "start_time": "2023-05-05T14:07:02.281Z"
   },
   {
    "duration": 29,
    "start_time": "2023-05-05T14:07:02.301Z"
   },
   {
    "duration": 3016,
    "start_time": "2023-05-05T14:07:02.332Z"
   },
   {
    "duration": 34,
    "start_time": "2023-05-05T14:07:05.350Z"
   },
   {
    "duration": 21,
    "start_time": "2023-05-05T14:07:05.388Z"
   },
   {
    "duration": 23,
    "start_time": "2023-05-05T14:07:05.411Z"
   },
   {
    "duration": 63,
    "start_time": "2023-05-05T14:07:05.435Z"
   },
   {
    "duration": 31,
    "start_time": "2023-05-05T14:07:05.500Z"
   },
   {
    "duration": 53,
    "start_time": "2023-05-05T14:07:05.532Z"
   },
   {
    "duration": 377,
    "start_time": "2023-05-05T14:07:05.587Z"
   },
   {
    "duration": 19,
    "start_time": "2023-05-05T14:07:05.965Z"
   },
   {
    "duration": 406,
    "start_time": "2023-05-05T14:07:05.986Z"
   },
   {
    "duration": 9,
    "start_time": "2023-05-05T14:07:06.394Z"
   },
   {
    "duration": 338,
    "start_time": "2023-05-05T14:07:06.404Z"
   },
   {
    "duration": 11,
    "start_time": "2023-05-05T14:07:06.744Z"
   },
   {
    "duration": 53,
    "start_time": "2023-05-05T14:07:06.757Z"
   },
   {
    "duration": 25,
    "start_time": "2023-05-05T14:07:06.812Z"
   },
   {
    "duration": 47,
    "start_time": "2023-05-05T14:07:06.839Z"
   },
   {
    "duration": 24,
    "start_time": "2023-05-05T14:07:06.888Z"
   },
   {
    "duration": 35,
    "start_time": "2023-05-05T14:07:06.914Z"
   },
   {
    "duration": 60,
    "start_time": "2023-05-05T14:07:06.951Z"
   },
   {
    "duration": 21,
    "start_time": "2023-05-05T14:13:03.691Z"
   },
   {
    "duration": 23,
    "start_time": "2023-05-05T14:14:55.549Z"
   },
   {
    "duration": 29,
    "start_time": "2023-05-05T14:16:50.275Z"
   },
   {
    "duration": 23,
    "start_time": "2023-05-05T14:19:05.256Z"
   },
   {
    "duration": 22,
    "start_time": "2023-05-05T14:20:53.793Z"
   },
   {
    "duration": 22,
    "start_time": "2023-05-05T14:22:33.965Z"
   },
   {
    "duration": 20,
    "start_time": "2023-05-05T14:24:42.976Z"
   },
   {
    "duration": 22,
    "start_time": "2023-05-05T14:25:07.073Z"
   },
   {
    "duration": 21,
    "start_time": "2023-05-05T14:31:40.161Z"
   },
   {
    "duration": 21,
    "start_time": "2023-05-05T14:32:14.034Z"
   },
   {
    "duration": 19,
    "start_time": "2023-05-05T14:32:31.121Z"
   },
   {
    "duration": 50,
    "start_time": "2023-05-05T14:33:21.568Z"
   },
   {
    "duration": 20,
    "start_time": "2023-05-05T14:33:34.127Z"
   },
   {
    "duration": 22,
    "start_time": "2023-05-05T14:35:58.622Z"
   },
   {
    "duration": 23,
    "start_time": "2023-05-05T14:38:02.662Z"
   },
   {
    "duration": 23,
    "start_time": "2023-05-05T14:39:28.963Z"
   },
   {
    "duration": 22,
    "start_time": "2023-05-05T14:42:39.127Z"
   },
   {
    "duration": 35,
    "start_time": "2023-05-05T14:46:09.264Z"
   },
   {
    "duration": 30,
    "start_time": "2023-05-05T14:46:45.671Z"
   },
   {
    "duration": 34,
    "start_time": "2023-05-05T14:48:04.617Z"
   },
   {
    "duration": 29,
    "start_time": "2023-05-05T14:49:32.580Z"
   },
   {
    "duration": 22,
    "start_time": "2023-05-05T14:52:12.858Z"
   },
   {
    "duration": 21,
    "start_time": "2023-05-05T14:52:54.782Z"
   },
   {
    "duration": 22,
    "start_time": "2023-05-05T14:53:22.728Z"
   },
   {
    "duration": 18,
    "start_time": "2023-05-05T14:54:19.568Z"
   },
   {
    "duration": 22,
    "start_time": "2023-05-05T14:55:53.075Z"
   },
   {
    "duration": 21,
    "start_time": "2023-05-05T14:59:04.125Z"
   },
   {
    "duration": 23,
    "start_time": "2023-05-05T15:09:42.207Z"
   },
   {
    "duration": 20,
    "start_time": "2023-05-05T15:14:02.312Z"
   },
   {
    "duration": 21,
    "start_time": "2023-05-05T15:15:18.895Z"
   },
   {
    "duration": 23,
    "start_time": "2023-05-05T15:19:29.110Z"
   },
   {
    "duration": 31,
    "start_time": "2023-05-05T15:22:27.574Z"
   },
   {
    "duration": 32,
    "start_time": "2023-05-05T15:22:43.767Z"
   },
   {
    "duration": 32,
    "start_time": "2023-05-05T15:23:29.508Z"
   },
   {
    "duration": 30,
    "start_time": "2023-05-05T15:31:03.936Z"
   },
   {
    "duration": 62,
    "start_time": "2023-05-05T15:32:11.168Z"
   },
   {
    "duration": 22,
    "start_time": "2023-05-05T15:32:32.732Z"
   },
   {
    "duration": 29,
    "start_time": "2023-05-05T15:34:19.129Z"
   },
   {
    "duration": 24,
    "start_time": "2023-05-05T15:35:03.912Z"
   },
   {
    "duration": 68,
    "start_time": "2023-05-05T15:38:13.279Z"
   },
   {
    "duration": 22,
    "start_time": "2023-05-05T15:38:28.309Z"
   },
   {
    "duration": 20,
    "start_time": "2023-05-05T15:41:02.632Z"
   },
   {
    "duration": 29,
    "start_time": "2023-05-05T15:46:24.394Z"
   },
   {
    "duration": 32,
    "start_time": "2023-05-05T15:50:10.107Z"
   },
   {
    "duration": 29,
    "start_time": "2023-05-05T15:51:22.081Z"
   },
   {
    "duration": 23,
    "start_time": "2023-05-05T15:52:34.074Z"
   },
   {
    "duration": 37,
    "start_time": "2023-05-05T16:13:08.286Z"
   },
   {
    "duration": 27,
    "start_time": "2023-05-05T16:13:48.791Z"
   },
   {
    "duration": 5,
    "start_time": "2023-05-05T16:29:53.909Z"
   },
   {
    "duration": 6,
    "start_time": "2023-05-05T16:30:47.950Z"
   },
   {
    "duration": 1467,
    "start_time": "2023-05-05T16:30:47.960Z"
   },
   {
    "duration": 13,
    "start_time": "2023-05-05T16:30:49.430Z"
   },
   {
    "duration": 30,
    "start_time": "2023-05-05T16:30:49.445Z"
   },
   {
    "duration": 31,
    "start_time": "2023-05-05T16:30:49.477Z"
   },
   {
    "duration": 13,
    "start_time": "2023-05-05T16:30:49.510Z"
   },
   {
    "duration": 38,
    "start_time": "2023-05-05T16:30:49.525Z"
   },
   {
    "duration": 38,
    "start_time": "2023-05-05T16:30:49.565Z"
   },
   {
    "duration": 18,
    "start_time": "2023-05-05T16:30:49.605Z"
   },
   {
    "duration": 16,
    "start_time": "2023-05-05T16:30:49.625Z"
   },
   {
    "duration": 17,
    "start_time": "2023-05-05T16:30:49.644Z"
   },
   {
    "duration": 29,
    "start_time": "2023-05-05T16:30:49.663Z"
   },
   {
    "duration": 25,
    "start_time": "2023-05-05T16:30:49.694Z"
   },
   {
    "duration": 13,
    "start_time": "2023-05-05T16:30:49.721Z"
   },
   {
    "duration": 50,
    "start_time": "2023-05-05T16:30:49.737Z"
   },
   {
    "duration": 35,
    "start_time": "2023-05-05T16:30:49.789Z"
   },
   {
    "duration": 38,
    "start_time": "2023-05-05T16:30:49.826Z"
   },
   {
    "duration": 30,
    "start_time": "2023-05-05T16:30:49.866Z"
   },
   {
    "duration": 33,
    "start_time": "2023-05-05T16:30:49.897Z"
   },
   {
    "duration": 21,
    "start_time": "2023-05-05T16:30:49.933Z"
   },
   {
    "duration": 33,
    "start_time": "2023-05-05T16:30:49.956Z"
   },
   {
    "duration": 49,
    "start_time": "2023-05-05T16:30:49.991Z"
   },
   {
    "duration": 93,
    "start_time": "2023-05-05T16:30:50.043Z"
   },
   {
    "duration": 16,
    "start_time": "2023-05-05T16:30:50.138Z"
   },
   {
    "duration": 42,
    "start_time": "2023-05-05T16:30:50.156Z"
   },
   {
    "duration": 2564,
    "start_time": "2023-05-05T16:30:50.200Z"
   },
   {
    "duration": 1707,
    "start_time": "2023-05-05T16:30:52.766Z"
   },
   {
    "duration": 13,
    "start_time": "2023-05-05T16:30:54.475Z"
   },
   {
    "duration": 190,
    "start_time": "2023-05-05T16:30:54.493Z"
   },
   {
    "duration": 16,
    "start_time": "2023-05-05T16:30:54.685Z"
   },
   {
    "duration": 36,
    "start_time": "2023-05-05T16:30:54.704Z"
   },
   {
    "duration": 53,
    "start_time": "2023-05-05T16:30:54.743Z"
   },
   {
    "duration": 146,
    "start_time": "2023-05-05T16:30:54.798Z"
   },
   {
    "duration": 39,
    "start_time": "2023-05-05T16:30:54.946Z"
   },
   {
    "duration": 59,
    "start_time": "2023-05-05T16:30:54.987Z"
   },
   {
    "duration": 39,
    "start_time": "2023-05-05T16:30:55.048Z"
   },
   {
    "duration": 41,
    "start_time": "2023-05-05T16:30:55.089Z"
   },
   {
    "duration": 61,
    "start_time": "2023-05-05T16:30:55.132Z"
   },
   {
    "duration": 2830,
    "start_time": "2023-05-05T16:30:55.195Z"
   },
   {
    "duration": 25,
    "start_time": "2023-05-05T16:30:58.027Z"
   },
   {
    "duration": 53,
    "start_time": "2023-05-05T16:30:58.054Z"
   },
   {
    "duration": 48,
    "start_time": "2023-05-05T16:30:58.109Z"
   },
   {
    "duration": 46,
    "start_time": "2023-05-05T16:30:58.158Z"
   },
   {
    "duration": 55,
    "start_time": "2023-05-05T16:30:58.206Z"
   },
   {
    "duration": 28,
    "start_time": "2023-05-05T16:30:58.263Z"
   },
   {
    "duration": 402,
    "start_time": "2023-05-05T16:30:58.293Z"
   },
   {
    "duration": 10,
    "start_time": "2023-05-05T16:30:58.698Z"
   },
   {
    "duration": 296,
    "start_time": "2023-05-05T16:30:58.710Z"
   },
   {
    "duration": 10,
    "start_time": "2023-05-05T16:30:59.009Z"
   },
   {
    "duration": 365,
    "start_time": "2023-05-05T16:30:59.022Z"
   },
   {
    "duration": 9,
    "start_time": "2023-05-05T16:30:59.389Z"
   },
   {
    "duration": 44,
    "start_time": "2023-05-05T16:30:59.399Z"
   },
   {
    "duration": 56,
    "start_time": "2023-05-05T16:30:59.445Z"
   },
   {
    "duration": 20,
    "start_time": "2023-05-05T16:30:59.503Z"
   },
   {
    "duration": 49,
    "start_time": "2023-05-05T16:30:59.525Z"
   },
   {
    "duration": 35,
    "start_time": "2023-05-05T16:30:59.575Z"
   },
   {
    "duration": 55,
    "start_time": "2023-05-05T16:30:59.611Z"
   },
   {
    "duration": 61,
    "start_time": "2023-05-06T10:02:18.142Z"
   },
   {
    "duration": 3,
    "start_time": "2023-05-06T10:02:19.094Z"
   },
   {
    "duration": 23,
    "start_time": "2023-05-06T10:02:19.098Z"
   },
   {
    "duration": 1356,
    "start_time": "2023-05-06T10:02:27.057Z"
   },
   {
    "duration": 1267,
    "start_time": "2023-05-06T10:02:28.415Z"
   },
   {
    "duration": 18,
    "start_time": "2023-05-06T10:02:29.684Z"
   },
   {
    "duration": 15,
    "start_time": "2023-05-06T10:02:29.703Z"
   },
   {
    "duration": 32,
    "start_time": "2023-05-06T10:02:29.720Z"
   },
   {
    "duration": 26,
    "start_time": "2023-05-06T10:02:29.759Z"
   },
   {
    "duration": 20,
    "start_time": "2023-05-06T10:02:29.788Z"
   },
   {
    "duration": 8,
    "start_time": "2023-05-06T10:02:29.810Z"
   },
   {
    "duration": 64,
    "start_time": "2023-05-06T10:02:29.820Z"
   },
   {
    "duration": 9,
    "start_time": "2023-05-06T10:02:29.886Z"
   },
   {
    "duration": 8,
    "start_time": "2023-05-06T10:02:29.897Z"
   },
   {
    "duration": 13,
    "start_time": "2023-05-06T10:02:29.907Z"
   },
   {
    "duration": 28,
    "start_time": "2023-05-06T10:02:29.922Z"
   },
   {
    "duration": 35,
    "start_time": "2023-05-06T10:02:29.954Z"
   },
   {
    "duration": 9,
    "start_time": "2023-05-06T10:02:29.991Z"
   },
   {
    "duration": 36,
    "start_time": "2023-05-06T10:02:30.002Z"
   },
   {
    "duration": 41,
    "start_time": "2023-05-06T10:02:30.046Z"
   },
   {
    "duration": 19,
    "start_time": "2023-05-06T10:02:30.089Z"
   },
   {
    "duration": 10,
    "start_time": "2023-05-06T10:02:30.111Z"
   },
   {
    "duration": 51,
    "start_time": "2023-05-06T10:02:30.123Z"
   },
   {
    "duration": 36,
    "start_time": "2023-05-06T10:02:30.175Z"
   },
   {
    "duration": 74,
    "start_time": "2023-05-06T10:02:30.213Z"
   },
   {
    "duration": 83,
    "start_time": "2023-05-06T10:02:30.289Z"
   },
   {
    "duration": 54,
    "start_time": "2023-05-06T10:02:30.374Z"
   },
   {
    "duration": 71,
    "start_time": "2023-05-06T10:02:30.430Z"
   },
   {
    "duration": 2877,
    "start_time": "2023-05-06T10:02:30.503Z"
   },
   {
    "duration": 1936,
    "start_time": "2023-05-06T10:02:33.382Z"
   },
   {
    "duration": 6,
    "start_time": "2023-05-06T10:02:35.319Z"
   },
   {
    "duration": 231,
    "start_time": "2023-05-06T10:02:35.327Z"
   },
   {
    "duration": 19,
    "start_time": "2023-05-06T10:02:35.560Z"
   },
   {
    "duration": 32,
    "start_time": "2023-05-06T10:02:35.581Z"
   },
   {
    "duration": 38,
    "start_time": "2023-05-06T10:02:35.615Z"
   },
   {
    "duration": 40,
    "start_time": "2023-05-06T10:02:35.656Z"
   },
   {
    "duration": 24,
    "start_time": "2023-05-06T10:02:35.699Z"
   },
   {
    "duration": 37,
    "start_time": "2023-05-06T10:02:35.725Z"
   },
   {
    "duration": 31,
    "start_time": "2023-05-06T10:02:35.768Z"
   },
   {
    "duration": 21,
    "start_time": "2023-05-06T10:02:35.801Z"
   },
   {
    "duration": 45,
    "start_time": "2023-05-06T10:02:35.824Z"
   },
   {
    "duration": 3713,
    "start_time": "2023-05-06T10:02:35.873Z"
   },
   {
    "duration": 60,
    "start_time": "2023-05-06T10:02:39.588Z"
   },
   {
    "duration": 38,
    "start_time": "2023-05-06T10:02:39.660Z"
   },
   {
    "duration": 29,
    "start_time": "2023-05-06T10:02:39.700Z"
   },
   {
    "duration": 51,
    "start_time": "2023-05-06T10:02:39.731Z"
   },
   {
    "duration": 87,
    "start_time": "2023-05-06T10:02:39.785Z"
   },
   {
    "duration": 25,
    "start_time": "2023-05-06T10:02:39.878Z"
   },
   {
    "duration": 457,
    "start_time": "2023-05-06T10:02:39.905Z"
   },
   {
    "duration": 11,
    "start_time": "2023-05-06T10:02:40.366Z"
   },
   {
    "duration": 344,
    "start_time": "2023-05-06T10:02:40.379Z"
   },
   {
    "duration": 18,
    "start_time": "2023-05-06T10:02:40.725Z"
   },
   {
    "duration": 424,
    "start_time": "2023-05-06T10:02:40.746Z"
   },
   {
    "duration": 9,
    "start_time": "2023-05-06T10:02:41.177Z"
   },
   {
    "duration": 24,
    "start_time": "2023-05-06T10:02:41.188Z"
   },
   {
    "duration": 49,
    "start_time": "2023-05-06T10:02:41.214Z"
   },
   {
    "duration": 22,
    "start_time": "2023-05-06T10:02:41.273Z"
   },
   {
    "duration": 20,
    "start_time": "2023-05-06T10:02:41.298Z"
   },
   {
    "duration": 44,
    "start_time": "2023-05-06T10:02:41.321Z"
   },
   {
    "duration": 30,
    "start_time": "2023-05-06T10:02:41.373Z"
   },
   {
    "duration": 12,
    "start_time": "2023-05-06T10:02:41.405Z"
   },
   {
    "duration": 5,
    "start_time": "2023-05-06T10:02:41.418Z"
   },
   {
    "duration": 160,
    "start_time": "2023-05-06T10:02:41.424Z"
   },
   {
    "duration": 10,
    "start_time": "2023-05-06T10:09:59.613Z"
   },
   {
    "duration": 73,
    "start_time": "2023-05-06T10:10:14.232Z"
   },
   {
    "duration": 18,
    "start_time": "2023-05-06T10:10:14.664Z"
   },
   {
    "duration": 28,
    "start_time": "2023-05-06T10:12:02.075Z"
   },
   {
    "duration": 4,
    "start_time": "2023-05-06T10:40:20.624Z"
   },
   {
    "duration": 26,
    "start_time": "2023-05-06T10:40:37.359Z"
   },
   {
    "duration": 32,
    "start_time": "2023-05-06T10:44:34.015Z"
   },
   {
    "duration": 5,
    "start_time": "2023-05-06T10:45:22.578Z"
   },
   {
    "duration": 67,
    "start_time": "2023-05-06T10:45:43.834Z"
   },
   {
    "duration": 13,
    "start_time": "2023-05-06T10:47:17.457Z"
   },
   {
    "duration": 1374,
    "start_time": "2023-05-06T10:47:17.476Z"
   },
   {
    "duration": 16,
    "start_time": "2023-05-06T10:47:18.861Z"
   },
   {
    "duration": 12,
    "start_time": "2023-05-06T10:47:18.879Z"
   },
   {
    "duration": 19,
    "start_time": "2023-05-06T10:47:18.893Z"
   },
   {
    "duration": 5,
    "start_time": "2023-05-06T10:47:18.914Z"
   },
   {
    "duration": 30,
    "start_time": "2023-05-06T10:47:18.920Z"
   },
   {
    "duration": 24,
    "start_time": "2023-05-06T10:47:18.961Z"
   },
   {
    "duration": 10,
    "start_time": "2023-05-06T10:47:18.987Z"
   },
   {
    "duration": 12,
    "start_time": "2023-05-06T10:47:18.998Z"
   },
   {
    "duration": 13,
    "start_time": "2023-05-06T10:47:19.011Z"
   },
   {
    "duration": 14,
    "start_time": "2023-05-06T10:47:19.025Z"
   },
   {
    "duration": 41,
    "start_time": "2023-05-06T10:47:19.040Z"
   },
   {
    "duration": 4,
    "start_time": "2023-05-06T10:47:19.084Z"
   },
   {
    "duration": 7,
    "start_time": "2023-05-06T10:47:19.090Z"
   },
   {
    "duration": 6,
    "start_time": "2023-05-06T10:47:19.099Z"
   },
   {
    "duration": 6,
    "start_time": "2023-05-06T10:47:19.106Z"
   },
   {
    "duration": 6,
    "start_time": "2023-05-06T10:47:19.114Z"
   },
   {
    "duration": 9,
    "start_time": "2023-05-06T10:47:19.121Z"
   },
   {
    "duration": 49,
    "start_time": "2023-05-06T10:47:19.132Z"
   },
   {
    "duration": 15,
    "start_time": "2023-05-06T10:47:19.183Z"
   },
   {
    "duration": 22,
    "start_time": "2023-05-06T10:47:19.200Z"
   },
   {
    "duration": 56,
    "start_time": "2023-05-06T10:47:19.224Z"
   },
   {
    "duration": 12,
    "start_time": "2023-05-06T10:47:19.282Z"
   },
   {
    "duration": 8,
    "start_time": "2023-05-06T10:47:19.295Z"
   },
   {
    "duration": 2643,
    "start_time": "2023-05-06T10:47:19.304Z"
   },
   {
    "duration": 1913,
    "start_time": "2023-05-06T10:47:21.954Z"
   },
   {
    "duration": 9,
    "start_time": "2023-05-06T10:47:23.869Z"
   },
   {
    "duration": 177,
    "start_time": "2023-05-06T10:47:23.880Z"
   },
   {
    "duration": 18,
    "start_time": "2023-05-06T10:47:24.058Z"
   },
   {
    "duration": 47,
    "start_time": "2023-05-06T10:47:24.078Z"
   },
   {
    "duration": 49,
    "start_time": "2023-05-06T10:47:24.127Z"
   },
   {
    "duration": 27,
    "start_time": "2023-05-06T10:47:24.179Z"
   },
   {
    "duration": 46,
    "start_time": "2023-05-06T10:47:24.208Z"
   },
   {
    "duration": 45,
    "start_time": "2023-05-06T10:47:24.261Z"
   },
   {
    "duration": 20,
    "start_time": "2023-05-06T10:47:24.307Z"
   },
   {
    "duration": 41,
    "start_time": "2023-05-06T10:47:24.329Z"
   },
   {
    "duration": 34,
    "start_time": "2023-05-06T10:47:24.372Z"
   },
   {
    "duration": 3353,
    "start_time": "2023-05-06T10:47:24.407Z"
   },
   {
    "duration": 28,
    "start_time": "2023-05-06T10:47:27.762Z"
   },
   {
    "duration": 37,
    "start_time": "2023-05-06T10:47:27.795Z"
   },
   {
    "duration": 46,
    "start_time": "2023-05-06T10:47:27.836Z"
   },
   {
    "duration": 76,
    "start_time": "2023-05-06T10:47:27.884Z"
   },
   {
    "duration": 33,
    "start_time": "2023-05-06T10:47:27.962Z"
   },
   {
    "duration": 25,
    "start_time": "2023-05-06T10:47:27.998Z"
   },
   {
    "duration": 456,
    "start_time": "2023-05-06T10:47:28.025Z"
   },
   {
    "duration": 9,
    "start_time": "2023-05-06T10:47:28.483Z"
   },
   {
    "duration": 370,
    "start_time": "2023-05-06T10:47:28.494Z"
   },
   {
    "duration": 11,
    "start_time": "2023-05-06T10:47:28.873Z"
   },
   {
    "duration": 511,
    "start_time": "2023-05-06T10:47:28.886Z"
   },
   {
    "duration": 10,
    "start_time": "2023-05-06T10:47:29.400Z"
   },
   {
    "duration": 49,
    "start_time": "2023-05-06T10:47:29.412Z"
   },
   {
    "duration": 29,
    "start_time": "2023-05-06T10:47:29.471Z"
   },
   {
    "duration": 20,
    "start_time": "2023-05-06T10:47:29.501Z"
   },
   {
    "duration": 23,
    "start_time": "2023-05-06T10:47:29.523Z"
   },
   {
    "duration": 42,
    "start_time": "2023-05-06T10:47:29.548Z"
   },
   {
    "duration": 45,
    "start_time": "2023-05-06T10:47:29.592Z"
   },
   {
    "duration": 38,
    "start_time": "2023-05-06T10:47:29.644Z"
   },
   {
    "duration": 25,
    "start_time": "2023-05-06T10:48:19.371Z"
   },
   {
    "duration": 13,
    "start_time": "2023-05-06T10:49:14.992Z"
   },
   {
    "duration": 11,
    "start_time": "2023-05-06T10:50:20.069Z"
   },
   {
    "duration": 31,
    "start_time": "2023-05-06T10:50:51.227Z"
   },
   {
    "duration": 20,
    "start_time": "2023-05-06T10:50:52.623Z"
   },
   {
    "duration": 16,
    "start_time": "2023-05-06T10:51:18.987Z"
   },
   {
    "duration": 14,
    "start_time": "2023-05-06T10:53:54.977Z"
   },
   {
    "duration": 11,
    "start_time": "2023-05-06T10:59:46.791Z"
   },
   {
    "duration": 12,
    "start_time": "2023-05-06T11:00:01.826Z"
   },
   {
    "duration": 9,
    "start_time": "2023-05-06T11:00:06.614Z"
   },
   {
    "duration": 33,
    "start_time": "2023-05-06T11:00:07.023Z"
   },
   {
    "duration": 10,
    "start_time": "2023-05-06T11:00:22.472Z"
   },
   {
    "duration": 12,
    "start_time": "2023-05-06T11:00:39.763Z"
   },
   {
    "duration": 14,
    "start_time": "2023-05-06T11:00:40.961Z"
   },
   {
    "duration": 5,
    "start_time": "2023-05-06T16:35:44.256Z"
   },
   {
    "duration": 1284,
    "start_time": "2023-05-06T16:35:44.264Z"
   },
   {
    "duration": 14,
    "start_time": "2023-05-06T16:35:45.550Z"
   },
   {
    "duration": 19,
    "start_time": "2023-05-06T16:35:45.566Z"
   },
   {
    "duration": 20,
    "start_time": "2023-05-06T16:35:45.587Z"
   },
   {
    "duration": 7,
    "start_time": "2023-05-06T16:35:45.640Z"
   },
   {
    "duration": 9,
    "start_time": "2023-05-06T16:35:45.649Z"
   },
   {
    "duration": 10,
    "start_time": "2023-05-06T16:35:45.660Z"
   },
   {
    "duration": 9,
    "start_time": "2023-05-06T16:35:45.672Z"
   },
   {
    "duration": 11,
    "start_time": "2023-05-06T16:35:45.683Z"
   },
   {
    "duration": 8,
    "start_time": "2023-05-06T16:35:45.696Z"
   },
   {
    "duration": 15,
    "start_time": "2023-05-06T16:35:45.706Z"
   },
   {
    "duration": 17,
    "start_time": "2023-05-06T16:35:45.733Z"
   },
   {
    "duration": 10,
    "start_time": "2023-05-06T16:35:45.752Z"
   },
   {
    "duration": 11,
    "start_time": "2023-05-06T16:35:45.764Z"
   },
   {
    "duration": 18,
    "start_time": "2023-05-06T16:35:45.777Z"
   },
   {
    "duration": 9,
    "start_time": "2023-05-06T16:35:45.797Z"
   },
   {
    "duration": 13,
    "start_time": "2023-05-06T16:35:45.807Z"
   },
   {
    "duration": 19,
    "start_time": "2023-05-06T16:35:45.822Z"
   },
   {
    "duration": 17,
    "start_time": "2023-05-06T16:35:45.843Z"
   },
   {
    "duration": 18,
    "start_time": "2023-05-06T16:35:45.862Z"
   },
   {
    "duration": 19,
    "start_time": "2023-05-06T16:35:45.881Z"
   },
   {
    "duration": 52,
    "start_time": "2023-05-06T16:35:45.901Z"
   },
   {
    "duration": 10,
    "start_time": "2023-05-06T16:35:45.955Z"
   },
   {
    "duration": 6,
    "start_time": "2023-05-06T16:35:45.966Z"
   },
   {
    "duration": 2269,
    "start_time": "2023-05-06T16:35:45.973Z"
   },
   {
    "duration": 1509,
    "start_time": "2023-05-06T16:35:48.244Z"
   },
   {
    "duration": 6,
    "start_time": "2023-05-06T16:35:49.755Z"
   },
   {
    "duration": 153,
    "start_time": "2023-05-06T16:35:49.765Z"
   },
   {
    "duration": 26,
    "start_time": "2023-05-06T16:35:49.920Z"
   },
   {
    "duration": 23,
    "start_time": "2023-05-06T16:35:49.948Z"
   },
   {
    "duration": 18,
    "start_time": "2023-05-06T16:35:49.973Z"
   },
   {
    "duration": 17,
    "start_time": "2023-05-06T16:35:49.993Z"
   },
   {
    "duration": 37,
    "start_time": "2023-05-06T16:35:50.011Z"
   },
   {
    "duration": 25,
    "start_time": "2023-05-06T16:35:50.049Z"
   },
   {
    "duration": 15,
    "start_time": "2023-05-06T16:35:50.076Z"
   },
   {
    "duration": 18,
    "start_time": "2023-05-06T16:35:50.092Z"
   },
   {
    "duration": 40,
    "start_time": "2023-05-06T16:35:50.112Z"
   },
   {
    "duration": 2703,
    "start_time": "2023-05-06T16:35:50.154Z"
   },
   {
    "duration": 19,
    "start_time": "2023-05-06T16:35:52.858Z"
   },
   {
    "duration": 21,
    "start_time": "2023-05-06T16:35:52.878Z"
   },
   {
    "duration": 45,
    "start_time": "2023-05-06T16:35:52.900Z"
   },
   {
    "duration": 24,
    "start_time": "2023-05-06T16:35:52.949Z"
   },
   {
    "duration": 22,
    "start_time": "2023-05-06T16:35:52.975Z"
   },
   {
    "duration": 113,
    "start_time": "2023-05-06T16:35:52.998Z"
   },
   {
    "duration": 358,
    "start_time": "2023-05-06T16:35:53.113Z"
   },
   {
    "duration": 8,
    "start_time": "2023-05-06T16:35:53.472Z"
   },
   {
    "duration": 282,
    "start_time": "2023-05-06T16:35:53.481Z"
   },
   {
    "duration": 10,
    "start_time": "2023-05-06T16:35:53.765Z"
   },
   {
    "duration": 345,
    "start_time": "2023-05-06T16:35:53.777Z"
   },
   {
    "duration": 16,
    "start_time": "2023-05-06T16:35:54.123Z"
   },
   {
    "duration": 28,
    "start_time": "2023-05-06T16:35:54.140Z"
   },
   {
    "duration": 17,
    "start_time": "2023-05-06T16:35:54.169Z"
   },
   {
    "duration": 17,
    "start_time": "2023-05-06T16:35:54.187Z"
   },
   {
    "duration": 39,
    "start_time": "2023-05-06T16:35:54.206Z"
   },
   {
    "duration": 16,
    "start_time": "2023-05-06T16:35:54.249Z"
   },
   {
    "duration": 21,
    "start_time": "2023-05-06T16:35:54.266Z"
   },
   {
    "duration": 8,
    "start_time": "2023-05-06T16:39:23.164Z"
   },
   {
    "duration": 1125,
    "start_time": "2023-05-06T16:39:23.174Z"
   },
   {
    "duration": 10,
    "start_time": "2023-05-06T16:39:24.300Z"
   },
   {
    "duration": 12,
    "start_time": "2023-05-06T16:39:24.313Z"
   },
   {
    "duration": 19,
    "start_time": "2023-05-06T16:39:24.326Z"
   },
   {
    "duration": 6,
    "start_time": "2023-05-06T16:39:24.347Z"
   },
   {
    "duration": 8,
    "start_time": "2023-05-06T16:39:24.354Z"
   },
   {
    "duration": 11,
    "start_time": "2023-05-06T16:39:24.363Z"
   },
   {
    "duration": 10,
    "start_time": "2023-05-06T16:39:24.376Z"
   },
   {
    "duration": 6,
    "start_time": "2023-05-06T16:39:24.388Z"
   },
   {
    "duration": 8,
    "start_time": "2023-05-06T16:39:24.395Z"
   },
   {
    "duration": 12,
    "start_time": "2023-05-06T16:39:24.405Z"
   },
   {
    "duration": 28,
    "start_time": "2023-05-06T16:39:24.418Z"
   },
   {
    "duration": 5,
    "start_time": "2023-05-06T16:39:24.449Z"
   },
   {
    "duration": 8,
    "start_time": "2023-05-06T16:39:24.455Z"
   },
   {
    "duration": 13,
    "start_time": "2023-05-06T16:39:24.464Z"
   },
   {
    "duration": 8,
    "start_time": "2023-05-06T16:39:24.478Z"
   },
   {
    "duration": 7,
    "start_time": "2023-05-06T16:39:24.488Z"
   },
   {
    "duration": 10,
    "start_time": "2023-05-06T16:39:24.496Z"
   },
   {
    "duration": 5,
    "start_time": "2023-05-06T16:39:24.508Z"
   },
   {
    "duration": 33,
    "start_time": "2023-05-06T16:39:24.515Z"
   },
   {
    "duration": 23,
    "start_time": "2023-05-06T16:39:24.549Z"
   },
   {
    "duration": 40,
    "start_time": "2023-05-06T16:39:24.574Z"
   },
   {
    "duration": 30,
    "start_time": "2023-05-06T16:39:24.618Z"
   },
   {
    "duration": 8,
    "start_time": "2023-05-06T16:39:24.650Z"
   },
   {
    "duration": 2293,
    "start_time": "2023-05-06T16:39:24.659Z"
   },
   {
    "duration": 1676,
    "start_time": "2023-05-06T16:39:26.954Z"
   },
   {
    "duration": 16,
    "start_time": "2023-05-06T16:39:28.631Z"
   },
   {
    "duration": 155,
    "start_time": "2023-05-06T16:39:28.649Z"
   },
   {
    "duration": 11,
    "start_time": "2023-05-06T16:39:28.806Z"
   },
   {
    "duration": 40,
    "start_time": "2023-05-06T16:39:28.819Z"
   },
   {
    "duration": 20,
    "start_time": "2023-05-06T16:39:28.861Z"
   },
   {
    "duration": 18,
    "start_time": "2023-05-06T16:39:28.882Z"
   },
   {
    "duration": 37,
    "start_time": "2023-05-06T16:39:28.901Z"
   },
   {
    "duration": 19,
    "start_time": "2023-05-06T16:39:28.942Z"
   },
   {
    "duration": 17,
    "start_time": "2023-05-06T16:39:28.962Z"
   },
   {
    "duration": 17,
    "start_time": "2023-05-06T16:39:28.981Z"
   },
   {
    "duration": 43,
    "start_time": "2023-05-06T16:39:29.000Z"
   },
   {
    "duration": 3045,
    "start_time": "2023-05-06T16:39:29.044Z"
   },
   {
    "duration": 25,
    "start_time": "2023-05-06T16:39:32.090Z"
   },
   {
    "duration": 59,
    "start_time": "2023-05-06T16:39:32.117Z"
   },
   {
    "duration": 37,
    "start_time": "2023-05-06T16:39:32.177Z"
   },
   {
    "duration": 49,
    "start_time": "2023-05-06T16:39:32.216Z"
   },
   {
    "duration": 27,
    "start_time": "2023-05-06T16:39:32.268Z"
   },
   {
    "duration": 41,
    "start_time": "2023-05-06T16:39:32.297Z"
   },
   {
    "duration": 413,
    "start_time": "2023-05-06T16:39:32.341Z"
   },
   {
    "duration": 9,
    "start_time": "2023-05-06T16:39:32.756Z"
   },
   {
    "duration": 309,
    "start_time": "2023-05-06T16:39:32.767Z"
   },
   {
    "duration": 9,
    "start_time": "2023-05-06T16:39:33.078Z"
   },
   {
    "duration": 384,
    "start_time": "2023-05-06T16:39:33.088Z"
   },
   {
    "duration": 9,
    "start_time": "2023-05-06T16:39:33.474Z"
   },
   {
    "duration": 27,
    "start_time": "2023-05-06T16:39:33.485Z"
   },
   {
    "duration": 48,
    "start_time": "2023-05-06T16:39:33.514Z"
   },
   {
    "duration": 38,
    "start_time": "2023-05-06T16:39:33.565Z"
   },
   {
    "duration": 52,
    "start_time": "2023-05-06T16:39:33.605Z"
   },
   {
    "duration": 125,
    "start_time": "2023-05-06T16:39:33.659Z"
   },
   {
    "duration": 19,
    "start_time": "2023-05-06T16:39:33.786Z"
   },
   {
    "duration": 1582,
    "start_time": "2023-05-09T09:00:12.398Z"
   },
   {
    "duration": 1342,
    "start_time": "2023-05-09T09:00:13.983Z"
   },
   {
    "duration": 23,
    "start_time": "2023-05-09T09:00:15.327Z"
   },
   {
    "duration": 18,
    "start_time": "2023-05-09T09:00:15.352Z"
   },
   {
    "duration": 45,
    "start_time": "2023-05-09T09:00:15.373Z"
   },
   {
    "duration": 6,
    "start_time": "2023-05-09T09:00:15.420Z"
   },
   {
    "duration": 14,
    "start_time": "2023-05-09T09:00:15.428Z"
   },
   {
    "duration": 23,
    "start_time": "2023-05-09T09:00:15.445Z"
   },
   {
    "duration": 22,
    "start_time": "2023-05-09T09:00:15.470Z"
   },
   {
    "duration": 19,
    "start_time": "2023-05-09T09:00:15.496Z"
   },
   {
    "duration": 18,
    "start_time": "2023-05-09T09:00:15.517Z"
   },
   {
    "duration": 24,
    "start_time": "2023-05-09T09:00:15.537Z"
   },
   {
    "duration": 21,
    "start_time": "2023-05-09T09:00:15.565Z"
   },
   {
    "duration": 10,
    "start_time": "2023-05-09T09:00:15.598Z"
   },
   {
    "duration": 14,
    "start_time": "2023-05-09T09:00:15.611Z"
   },
   {
    "duration": 21,
    "start_time": "2023-05-09T09:00:15.628Z"
   },
   {
    "duration": 11,
    "start_time": "2023-05-09T09:00:15.651Z"
   },
   {
    "duration": 32,
    "start_time": "2023-05-09T09:00:15.666Z"
   },
   {
    "duration": 17,
    "start_time": "2023-05-09T09:00:15.700Z"
   },
   {
    "duration": 16,
    "start_time": "2023-05-09T09:00:15.719Z"
   },
   {
    "duration": 19,
    "start_time": "2023-05-09T09:00:15.737Z"
   },
   {
    "duration": 47,
    "start_time": "2023-05-09T09:00:15.758Z"
   },
   {
    "duration": 66,
    "start_time": "2023-05-09T09:00:15.810Z"
   },
   {
    "duration": 26,
    "start_time": "2023-05-09T09:00:15.878Z"
   },
   {
    "duration": 7,
    "start_time": "2023-05-09T09:00:15.905Z"
   },
   {
    "duration": 2532,
    "start_time": "2023-05-09T09:00:15.913Z"
   },
   {
    "duration": 1854,
    "start_time": "2023-05-09T09:00:18.447Z"
   },
   {
    "duration": 8,
    "start_time": "2023-05-09T09:00:20.303Z"
   },
   {
    "duration": 222,
    "start_time": "2023-05-09T09:00:20.312Z"
   },
   {
    "duration": 20,
    "start_time": "2023-05-09T09:00:20.536Z"
   },
   {
    "duration": 39,
    "start_time": "2023-05-09T09:00:20.558Z"
   },
   {
    "duration": 30,
    "start_time": "2023-05-09T09:00:20.602Z"
   },
   {
    "duration": 22,
    "start_time": "2023-05-09T09:00:20.634Z"
   },
   {
    "duration": 52,
    "start_time": "2023-05-09T09:00:20.658Z"
   },
   {
    "duration": 21,
    "start_time": "2023-05-09T09:00:20.712Z"
   },
   {
    "duration": 25,
    "start_time": "2023-05-09T09:00:20.735Z"
   },
   {
    "duration": 46,
    "start_time": "2023-05-09T09:00:20.762Z"
   },
   {
    "duration": 25,
    "start_time": "2023-05-09T09:00:20.811Z"
   },
   {
    "duration": 3667,
    "start_time": "2023-05-09T09:00:20.838Z"
   },
   {
    "duration": 35,
    "start_time": "2023-05-09T09:00:24.510Z"
   },
   {
    "duration": 30,
    "start_time": "2023-05-09T09:00:24.549Z"
   },
   {
    "duration": 43,
    "start_time": "2023-05-09T09:00:24.581Z"
   },
   {
    "duration": 45,
    "start_time": "2023-05-09T09:00:24.627Z"
   },
   {
    "duration": 44,
    "start_time": "2023-05-09T09:00:24.674Z"
   },
   {
    "duration": 26,
    "start_time": "2023-05-09T09:00:24.720Z"
   },
   {
    "duration": 560,
    "start_time": "2023-05-09T09:00:24.750Z"
   },
   {
    "duration": 11,
    "start_time": "2023-05-09T09:00:25.314Z"
   },
   {
    "duration": 374,
    "start_time": "2023-05-09T09:00:25.327Z"
   },
   {
    "duration": 13,
    "start_time": "2023-05-09T09:00:25.703Z"
   },
   {
    "duration": 551,
    "start_time": "2023-05-09T09:00:25.718Z"
   },
   {
    "duration": 13,
    "start_time": "2023-05-09T09:00:26.271Z"
   },
   {
    "duration": 41,
    "start_time": "2023-05-09T09:00:26.285Z"
   },
   {
    "duration": 30,
    "start_time": "2023-05-09T09:00:26.328Z"
   },
   {
    "duration": 36,
    "start_time": "2023-05-09T09:00:26.360Z"
   },
   {
    "duration": 25,
    "start_time": "2023-05-09T09:00:26.398Z"
   },
   {
    "duration": 28,
    "start_time": "2023-05-09T09:00:26.430Z"
   },
   {
    "duration": 46,
    "start_time": "2023-05-09T09:00:26.461Z"
   }
  ],
  "kernelspec": {
   "display_name": "Python 3 (ipykernel)",
   "language": "python",
   "name": "python3"
  },
  "language_info": {
   "codemirror_mode": {
    "name": "ipython",
    "version": 3
   },
   "file_extension": ".py",
   "mimetype": "text/x-python",
   "name": "python",
   "nbconvert_exporter": "python",
   "pygments_lexer": "ipython3",
   "version": "3.9.5"
  },
  "toc": {
   "base_numbering": 1,
   "nav_menu": {},
   "number_sections": true,
   "sideBar": true,
   "skip_h1_title": true,
   "title_cell": "Table of Contents",
   "title_sidebar": "Contents",
   "toc_cell": false,
   "toc_position": {},
   "toc_section_display": true,
   "toc_window_display": false
  }
 },
 "nbformat": 4,
 "nbformat_minor": 5
}
