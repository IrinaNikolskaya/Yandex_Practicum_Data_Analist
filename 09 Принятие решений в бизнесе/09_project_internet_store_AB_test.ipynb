{
 "cells": [
  {
   "cell_type": "markdown",
   "metadata": {},
   "source": [
    "**ПРОВЕРКА ГИПОТЕЗ ДЛЯ УВЕЛИЧЕНИЯ ВЫРУЧКИ ИНТЕРНЕТ-МАГАЗИНА**"
   ]
  },
  {
   "cell_type": "markdown",
   "metadata": {},
   "source": [
    "**Описание проекта.**\n",
    "\n",
    "В нашем распоряжении список гипотез для увеличения выручки. Необходимо приоритизировать гипотезы, запустить A/B-тест и проанализировать результаты.\n",
    "\n",
    "**Исходные данные :**\n",
    "\n",
    "файл hypothesis.csv - 9 гипотез по увеличению выручки интернет-магазина с указанными параметрами Reach, Impact, Confidence, Effort.\n",
    "\n",
    "Результаты A/B-теста описаны в файлах orders.csv и visitors.csv.\n",
    "\n",
    "Цель исследования :\n",
    "Выяснить - какая из гипотез приведет к наибольшему увеличению выручки.\n",
    "\n",
    "**Ход исследования:**\n",
    "\n",
    "Данные -в файлах:\n",
    "/datasets/hypothesis.csv\n",
    "/datasets/orders.csv\n",
    "/datasets/visitors.csv\n",
    "\n",
    "О качестве данных ничего не известно. Поэтому перед проверкой гипотез понадобится обзор данных.\n",
    "Проверим данные на ошибки и оценим их влияние на исследование. Затем, на этапе предобработки попробуем исправить самые критичные ошибки данных.\n",
    "\n",
    "Таким образом, исследование пройдёт в несколько этапов:\n",
    "\n",
    "1.Обзор данных.\n",
    "\n",
    "2.Предобработка данных.\n",
    "\n",
    "3.Приоритизация гипотез.\n",
    "\n",
    "4.Анализ A/B-теста, принятие решения по результатам теста и объяснение его."
   ]
  },
  {
   "cell_type": "markdown",
   "metadata": {},
   "source": [
    "**ОБЗОР  И ПРЕДОБРАБОТКА ДАННЫХ**\n",
    "\n",
    "Импортируем необходимые библиотеки, загрузим данные в переменные."
   ]
  },
  {
   "cell_type": "code",
   "execution_count": null,
   "metadata": {},
   "outputs": [],
   "source": [
    "import pandas as pd\n",
    "import matplotlib.pyplot as plt\n",
    "import datetime as dt\n",
    "import scipy.stats as stats\n",
    "import numpy as np\n",
    "\n",
    "#столбцы и строки полностью\n",
    "pd.set_option('display.max_columns', None)\n",
    "\n",
    "# выставляем ограничение на показ знаков после запятой\n",
    "pd.options.display.float_format = '{:,.3f}'.format\n",
    "\n",
    "pd.set_option('max_colwidth', 200)"
   ]
  },
  {
   "cell_type": "code",
   "execution_count": null,
   "metadata": {},
   "outputs": [],
   "source": [
    "hypothesis = pd.read_csv('/datasets/hypothesis.csv')\n",
    "orders = pd.read_csv('/datasets/orders.csv')\n",
    "visitors = pd.read_csv('/datasets/visitors.csv')"
   ]
  },
  {
   "cell_type": "code",
   "execution_count": null,
   "metadata": {},
   "outputs": [],
   "source": [
    "hypothesis"
   ]
  },
  {
   "cell_type": "code",
   "execution_count": null,
   "metadata": {},
   "outputs": [],
   "source": [
    "hypothesis.info()"
   ]
  },
  {
   "cell_type": "markdown",
   "metadata": {},
   "source": [
    "Пропущенных значений нет, дубликатов также визуально не наблюдается, тип данных соответствующий. Необходимо только привести названия столбцов к нижнему регистру."
   ]
  },
  {
   "cell_type": "code",
   "execution_count": null,
   "metadata": {},
   "outputs": [],
   "source": [
    "#привели название столбцов к нижнему ругистру\n",
    "hypothesis.columns = hypothesis.columns.str.lower()"
   ]
  },
  {
   "cell_type": "code",
   "execution_count": null,
   "metadata": {},
   "outputs": [],
   "source": [
    "#проверка\n",
    "hypothesis"
   ]
  },
  {
   "cell_type": "code",
   "execution_count": null,
   "metadata": {},
   "outputs": [],
   "source": [
    "orders.head()"
   ]
  },
  {
   "cell_type": "code",
   "execution_count": null,
   "metadata": {},
   "outputs": [],
   "source": [
    "orders.info()"
   ]
  },
  {
   "cell_type": "code",
   "execution_count": null,
   "metadata": {},
   "outputs": [],
   "source": [
    "#проверим наличие дубликатов\n",
    "orders.duplicated().sum()"
   ]
  },
  {
   "cell_type": "markdown",
   "metadata": {},
   "source": [
    "Пропущенных значений нет, дубликатов нет. Необходимо изменить наименования столбцов (transactionId,visitorId) и изменить тип данных столбца date."
   ]
  },
  {
   "cell_type": "code",
   "execution_count": null,
   "metadata": {},
   "outputs": [],
   "source": [
    "#изменим наименования столбцов (transactionId,visitorId)\n",
    "orders = orders.rename(columns = {'transactionId':'transaction_id', 'visitorId':'visitor_id'})\n",
    "orders.columns"
   ]
  },
  {
   "cell_type": "code",
   "execution_count": null,
   "metadata": {},
   "outputs": [],
   "source": [
    "#изменим тип данных столбца date.\n",
    "orders['date'] = pd.to_datetime(orders['date'])\n"
   ]
  },
  {
   "cell_type": "code",
   "execution_count": null,
   "metadata": {},
   "outputs": [],
   "source": [
    "#проверка\n",
    "orders.info()"
   ]
  },
  {
   "cell_type": "code",
   "execution_count": null,
   "metadata": {},
   "outputs": [],
   "source": [
    "visitors.head()"
   ]
  },
  {
   "cell_type": "code",
   "execution_count": null,
   "metadata": {},
   "outputs": [],
   "source": [
    "visitors.info()"
   ]
  },
  {
   "cell_type": "code",
   "execution_count": null,
   "metadata": {},
   "outputs": [],
   "source": [
    "visitors.duplicated().sum()"
   ]
  },
  {
   "cell_type": "markdown",
   "metadata": {},
   "source": [
    "Пропущенных значений нет, дубликатов нет. Необходимо изменить тип данных столбца date "
   ]
  },
  {
   "cell_type": "code",
   "execution_count": null,
   "metadata": {},
   "outputs": [],
   "source": [
    "# изменим тип данных столбца date \n",
    "visitors['date'] = pd.to_datetime(visitors['date'])"
   ]
  },
  {
   "cell_type": "code",
   "execution_count": null,
   "metadata": {},
   "outputs": [],
   "source": [
    "#проверка\n",
    "visitors.info()"
   ]
  },
  {
   "cell_type": "markdown",
   "metadata": {},
   "source": [
    "**Вывод:**\n",
    "\n",
    "В результате предобработки данных исправлены нарушения стиля в наименовании столбцов и устранено несоотвествие типа данных в столбцах, в которых обозначена дата: с типа object на datetime. Дубликаты отсутствуют. Данные готовы для анализа."
   ]
  },
  {
   "cell_type": "markdown",
   "metadata": {},
   "source": [
    "**ПРИОРИТИЗАЦИЯ ГИПОТЕЗ.**\n",
    "\n",
    "Примените фреймворк ICE для приоритизации гипотез."
   ]
  },
  {
   "cell_type": "code",
   "execution_count": null,
   "metadata": {},
   "outputs": [],
   "source": [
    "hypothesis['ice'] = (hypothesis['impact'] * hypothesis['confidence']) / hypothesis['efforts']\n",
    "hypothesis[['hypothesis', 'ice']].sort_values(by='ice', ascending=False)"
   ]
  },
  {
   "cell_type": "markdown",
   "metadata": {},
   "source": [
    "Наиболее перспективные гипотезы по ICE: 8,0 и 7"
   ]
  },
  {
   "cell_type": "markdown",
   "metadata": {},
   "source": [
    "Примените фреймворк RICE для приоритизации гипотез"
   ]
  },
  {
   "cell_type": "code",
   "execution_count": null,
   "metadata": {},
   "outputs": [],
   "source": [
    "hypothesis['rice'] = hypothesis['reach'] * hypothesis['impact'] * hypothesis['confidence'] / hypothesis['efforts']\n",
    "\n",
    "hypothesis[['hypothesis', 'rice']].sort_values(by='rice', ascending=False)"
   ]
  },
  {
   "cell_type": "markdown",
   "metadata": {},
   "source": [
    "Теперь более преспективные гипотезы:7 - так получилось, потому что у нее параметр reach = 10,  в то время как у других гипотез он меньше,затем идут гипотезы 2 и 0."
   ]
  },
  {
   "cell_type": "markdown",
   "metadata": {},
   "source": [
    "**Вывод:**\n",
    "\n",
    "Показатели ICE и RICE в приоритете определяют разные гипотезы, на это повлиял показатель reach - охват пользователей, которых затронет изменение, которое планируется внести. У гипотезы 7 reach составляет 10 по 10-бальной шкале, т.е. максимум. Со 2 гипотезой, аналогично, показатель reach имеет значение 8, что также повышает приоритет данной гипотезы.\n",
    "А вот у 0 гипотезы, которая состоит в тройке приоритетных по ICE и RICE показатель reach не высок (3), но зато показатели impact и confidence достаточно высокие (10 и 8 соответственно)."
   ]
  },
  {
   "cell_type": "markdown",
   "metadata": {},
   "source": [
    "**АНАЛИЗ А/В - теста**\n",
    "\n"
   ]
  },
  {
   "cell_type": "markdown",
   "metadata": {},
   "source": [
    "Проведем анализ полученных результатов проведенного A/B-теста: с начала рассчитаем кумулятивные метрики по имеющимся в нашем распоряжении данным, проанализируем, затем проведем А/В тестирование до и после удаления выбросов."
   ]
  },
  {
   "cell_type": "markdown",
   "metadata": {},
   "source": [
    "Предварительно проверим выборки на предмет пользователей, попавших в обе группы:"
   ]
  },
  {
   "cell_type": "code",
   "execution_count": null,
   "metadata": {},
   "outputs": [],
   "source": [
    "#выборка пользователей, попавших в обе группы\n",
    "\n",
    "duplicated_users = orders.groupby('visitor_id').agg({'group': ['nunique', 'unique']})\n",
    "duplicated_users.columns = ['groups', 'group_names']\n",
    "duplicated_users = duplicated_users.query('groups > 1')\n",
    "display(duplicated_users.head())\n",
    "len(duplicated_users)"
   ]
  },
  {
   "cell_type": "code",
   "execution_count": null,
   "metadata": {},
   "outputs": [],
   "source": [
    "print('Общее количество пользователей до удаления \"двойных\" пользователей-', orders['visitor_id'].nunique())\n",
    "print('количество пользователей в группе А -', orders.query('group == \"A\"')['visitor_id'].nunique())\n",
    "print('количество пользователей в группе В -', orders.query('group == \"B\"')['visitor_id'].nunique())"
   ]
  },
  {
   "cell_type": "markdown",
   "metadata": {},
   "source": [
    "Таких пользователей - 58, это около 10% в каждой группе. Их участие сразу в обоих группах может субъективно исказить результаты, а также повлиять на расчет выбросов. Но поскольку нам известны только id пользователей, совершивших хоть один платеж, а \"неплатящие\" неизвестны, то удаление таких пользователей может также исказить результаты в сторону \"неплатящих\". Оставим их в данных, а результаты будем анализировать предварительно разделив данные по группам А и В."
   ]
  },
  {
   "cell_type": "markdown",
   "metadata": {},
   "source": [
    "Расчет кумулятивных метрик, необходимых для анализа."
   ]
  },
  {
   "cell_type": "code",
   "execution_count": null,
   "metadata": {},
   "outputs": [],
   "source": [
    "#Создадим массив уникальных пар значений дат и групп теста методом drop_duplicates()\n",
    "dates_groups = orders[['date', 'group']].drop_duplicates()\n",
    "\n",
    "dates_groups"
   ]
  },
  {
   "cell_type": "code",
   "execution_count": null,
   "metadata": {},
   "outputs": [],
   "source": [
    "# получаем агрегированные кумулятивные по дням данные о заказах \n",
    "orders_agregate = dates_groups.apply(\n",
    "    lambda x: orders[np.logical_and(orders['date'] <= x['date'], orders['group'] == x['group'])]\n",
    "    .agg({'date':'max', 'group': 'max', 'transaction_id':'nunique', 'visitor_id':'nunique', 'revenue':'sum'}), axis=1).sort_values(by=['date', 'group'])\n",
    "\n",
    "orders_agregate.head()"
   ]
  },
  {
   "cell_type": "code",
   "execution_count": null,
   "metadata": {},
   "outputs": [],
   "source": [
    "# получаем агрегированные кумулятивные по дням данные о посетителях\n",
    "visitors_agregate = dates_groups.apply(\n",
    "    lambda x:visitors[np.logical_and(visitors['date'] <= x['date'], visitors['group'] == x['group'])]\n",
    "    .agg({'date':'max', 'group':'max', 'visitors':'sum'}), axis=1).sort_values(by=['date', 'group'])\n",
    "\n",
    "visitors_agregate.head()"
   ]
  },
  {
   "cell_type": "code",
   "execution_count": null,
   "metadata": {},
   "outputs": [],
   "source": [
    "# объединяем кумулятивные данные в одной таблице и присваиваем ее столбцам понятные названия\n",
    "\n",
    "cumulative_data = orders_agregate.merge(\n",
    "    visitors_agregate, \n",
    "    left_on=['date', 'group'], \n",
    "    right_on=['date', 'group']\n",
    ")\n",
    "\n",
    "cumulative_data.columns = ['date', 'group', 'orders', 'buyers', 'revenue', 'visitors']\n",
    "cumulative_data.head()"
   ]
  },
  {
   "cell_type": "markdown",
   "metadata": {},
   "source": [
    "1.Построим график кумулятивной выручки по группам"
   ]
  },
  {
   "cell_type": "code",
   "execution_count": null,
   "metadata": {},
   "outputs": [],
   "source": [
    "# датафрейм с кумулятивным количеством заказов и кумулятивной выручкой по дням в группе А\n",
    "cumulative_revenue_a = cumulative_data[cumulative_data['group']=='A'][['date','revenue', 'orders']]\n",
    "\n",
    "# датафрейм с кумулятивным количеством заказов и кумулятивной выручкой по дням в группе B\n",
    "cumulative_revenue_b = cumulative_data[cumulative_data['group']=='B'][['date','revenue', 'orders']]\n",
    "\n",
    "# Строим график выручки группы А\n",
    "plt.plot(cumulative_revenue_a['date'], cumulative_revenue_a['revenue'], label='A')\n",
    "\n",
    "# Строим график выручки группы B\n",
    "plt.plot(cumulative_revenue_b['date'], cumulative_revenue_b['revenue'], label='B')\n",
    "\n",
    "\n",
    "plt.title('График кумулятивной выручки по группам А и В')\n",
    "plt.ylabel(\"Выручка, млн.\")\n",
    "plt.xticks(rotation=45)\n",
    "plt.legend()\n",
    "plt.show()\n",
    "\n"
   ]
  },
  {
   "cell_type": "markdown",
   "metadata": {},
   "source": [
    "**Вывод:**\n",
    "\n",
    "На графике кумулятивной выручки заметно, что кривая выручки группы B выше, чем группы А. Кроме того, где-то в период 18-19 августа произошел ее резкий скачок, в результате которого разрыв между группами стал еще более значительным, далее обе линии идут параллельно.\n",
    "\n",
    "Вероятнее всего такое резкое изменение произошло из-за крупного заказа (заказов)."
   ]
  },
  {
   "cell_type": "markdown",
   "metadata": {},
   "source": [
    "2.Построим график кумулятивного среднего чека по группам.\n",
    "Построим график, аналогичный предыдущему, только вместо выручки найдем средний чек (выручка поделенная на заказы)"
   ]
  },
  {
   "cell_type": "code",
   "execution_count": null,
   "metadata": {},
   "outputs": [],
   "source": [
    "\n",
    "plt.plot(cumulative_revenue_a['date'], cumulative_revenue_a['revenue']/cumulative_revenue_a['orders'], label='A')\n",
    "plt.plot(cumulative_revenue_b['date'], cumulative_revenue_b['revenue']/cumulative_revenue_b['orders'], label='B')\n",
    "plt.title('Кумулятивный средний чек по группам\\n')\n",
    "plt.xlabel('Дата')\n",
    "plt.ylabel('Средний чек')\n",
    "plt.xticks(rotation=45)\n",
    "plt.legend() \n",
    "plt.show()"
   ]
  },
  {
   "cell_type": "markdown",
   "metadata": {},
   "source": [
    "Мы видим, что кривая группы В в период с 11 по 15 августа падает ниже уровня группы А, но затем резко растет, что еще раз подтверждает, что в группе В в период 18-19 августа была крупная покупка, которая увеличила размер кумулятивного среднего чека."
   ]
  },
  {
   "cell_type": "markdown",
   "metadata": {},
   "source": [
    "3.Построим график относительного изменения кумулятивного среднего чека группы B к группе A."
   ]
  },
  {
   "cell_type": "code",
   "execution_count": null,
   "metadata": {},
   "outputs": [],
   "source": [
    "# собираем данные в одном датафрейме\n",
    "merged_cumulative_revenue = cumulative_revenue_a.merge(\n",
    "    cumulative_revenue_b, \n",
    "    left_on='date', \n",
    "    right_on='date', \n",
    "    how='left', \n",
    "    suffixes=['_a', '_b']\n",
    ")\n",
    "\n",
    "# cтроим отношение средних чеков\n",
    "plt.plot(merged_cumulative_revenue['date'], \n",
    "         (\n",
    "             merged_cumulative_revenue['revenue_b']/merged_cumulative_revenue['orders_b']\n",
    "         )/\n",
    "         (\n",
    "             merged_cumulative_revenue['revenue_a']/merged_cumulative_revenue['orders_a']\n",
    "         )-1\n",
    "        )\n",
    "\n",
    "# добавляем ось X\n",
    "plt.axhline(y=0, color='black', linestyle='--')\n",
    "plt.title('График относительного изменения кумулятивного среднего чека группы B к группе A')\n",
    "plt.xticks(rotation=45)\n",
    "plt.show()"
   ]
  },
  {
   "cell_type": "markdown",
   "metadata": {},
   "source": [
    "График резко скачет в нескольких точках, следовательно, имеют место какие-то выбросы и крупные заказы."
   ]
  },
  {
   "cell_type": "markdown",
   "metadata": {},
   "source": [
    "4. Построим график кумулятивного среднего количества заказов на посетителя по группам"
   ]
  },
  {
   "cell_type": "code",
   "execution_count": null,
   "metadata": {},
   "outputs": [],
   "source": [
    "cumulative_data['ord'] = cumulative_data['orders']/cumulative_data['visitors']\n",
    "\n",
    "cumulative_data_a = cumulative_data[cumulative_data['group']=='A']\n",
    "cumulative_data_b = cumulative_data[cumulative_data['group']=='B']\n",
    "\n",
    "plt.plot(cumulative_data_a['date'], cumulative_data_a['ord'], label='A')\n",
    "plt.plot(cumulative_data_b['date'], cumulative_data_b['ord'], label='B')\n",
    "plt.legend()\n",
    "plt.title('График кумулятивного среднего количества заказов на посетителя по группам')\n",
    "plt.xlabel('Дата')\n",
    "plt.ylabel('Количество заказов')\n",
    "plt.xticks(rotation=45)\n",
    "plt.show()"
   ]
  },
  {
   "cell_type": "markdown",
   "metadata": {},
   "source": [
    "Графики ассиметричны, первоначально преобладала группа А, но затем группа В вырвалась вперёд , а среднее количество заказов группы А просело."
   ]
  },
  {
   "cell_type": "markdown",
   "metadata": {},
   "source": [
    "5. Построим график относительного изменения кумулятивного среднего количества заказов на посетителя группы B к группе A"
   ]
  },
  {
   "cell_type": "code",
   "execution_count": null,
   "metadata": {},
   "outputs": [],
   "source": [
    "merged_сumulative_ord = (\n",
    "    cumulative_data_a[['date','ord']]\n",
    "    .merge(\n",
    "        cumulative_data_b[['date','ord']], \n",
    "        left_on='date', \n",
    "        right_on='date', \n",
    "        how='left', \n",
    "        suffixes=['_a', '_b']\n",
    "    )\n",
    ")\n",
    "plt.plot(\n",
    "    merged_сumulative_ord ['date'], \n",
    "    merged_сumulative_ord ['ord_b']/\n",
    "    merged_сumulative_ord ['ord_a']-1\n",
    ")\n",
    "\n",
    "# добавляем ось X\n",
    "plt.axhline(y=0, color='black', linestyle='--')\n",
    "plt.axhline(y=0.15, color='grey', linestyle='--')\n",
    "plt.title('График относительного изменения кумулятивного среднего количества заказов на посетителя группы B к группе A')\n",
    "plt.xticks(rotation=30)\n",
    "plt.show()"
   ]
  },
  {
   "cell_type": "markdown",
   "metadata": {},
   "source": [
    "В начале теста группа В проигрывала группе А, но затем стремительно начала расти и вырвалась вперед, далее начался медленный спад. Теперь  группа В снова растет.\n",
    "\n",
    "Необходимо проанализировать данные после очистки от выбросов еще раз."
   ]
  },
  {
   "cell_type": "markdown",
   "metadata": {},
   "source": [
    "Изучим гистограмму распределения количества заказов: "
   ]
  },
  {
   "cell_type": "code",
   "execution_count": null,
   "metadata": {},
   "outputs": [],
   "source": [
    "orders_by_users = (\n",
    "    orders.groupby('visitor_id', as_index=False)\n",
    "    .agg({'transaction_id': 'nunique'})\n",
    ")\n",
    "orders_by_users.columns =  ['visitor_id', 'orders']\n",
    "\n",
    "#display(orders_by_users['orders'].describe())\n",
    "\n",
    "# строим гистограмму\n",
    "plt.hist(orders_by_users['orders'], alpha=0.5) \n",
    "plt.title('Распределение количества заказов по пользователям')\n",
    "plt.xlabel('Количество заказов')\n",
    "plt.ylabel('Количество пользователей')\n",
    "plt.show()"
   ]
  },
  {
   "cell_type": "markdown",
   "metadata": {},
   "source": [
    "Большинство пользователей оформляли заказ один раз, но есть и те, кто успел сделать за месяц одиннадцать заказов."
   ]
  },
  {
   "cell_type": "markdown",
   "metadata": {},
   "source": [
    "6. Построим точечную диаграмму числа заказов на одного пользователя:"
   ]
  },
  {
   "cell_type": "code",
   "execution_count": null,
   "metadata": {},
   "outputs": [],
   "source": [
    "x_values = pd.Series(range(0,len(orders_by_users)))\n",
    "\n",
    "# строим точечную диаграмму\n",
    "plt.scatter(x_values, orders_by_users['orders'], color='blue', alpha=0.5)\n",
    "plt.title('Распределение количества заказов по пользователям')\n",
    "plt.show()"
   ]
  },
  {
   "cell_type": "markdown",
   "metadata": {},
   "source": [
    "Много пользователей с 2-3 заказами. Их точная доля не ясна, поэтому сложно понять, можно ли считать их выбросами или нет.\n",
    "\n",
    "\n",
    "7. Посчитаем 95-й и 99-й перцентили количества заказов на пользователя и выберем границу для определения аномальных пользователей."
   ]
  },
  {
   "cell_type": "code",
   "execution_count": null,
   "metadata": {},
   "outputs": [],
   "source": [
    "np.percentile(orders_by_users['orders'], [95, 99])"
   ]
  },
  {
   "cell_type": "markdown",
   "metadata": {},
   "source": [
    "То есть, примерно 5% пользователей сделали больше 2 заказов, и 1% пользователей сделали больще 4 заказов.\n",
    "Разумно выбрать 2 заказа на одного пользователя за нижнюю границу числа заказов, и отсеять аномальных пользователей по ней."
   ]
  },
  {
   "cell_type": "markdown",
   "metadata": {},
   "source": [
    "Изучим гистограмму стоимости заказов."
   ]
  },
  {
   "cell_type": "code",
   "execution_count": null,
   "metadata": {},
   "outputs": [],
   "source": [
    "plt.hist(orders['revenue'], alpha=0.5) \n",
    "plt.title('Распределение стоимости заказов по пользователям')\n",
    "plt.xlabel('Стоимость заказов')\n",
    "plt.ylabel('Количество пользователей')\n",
    "plt.show()"
   ]
  },
  {
   "cell_type": "markdown",
   "metadata": {},
   "source": [
    "По гистограмме видно, что большинство заказом имеют низкую стоимость."
   ]
  },
  {
   "cell_type": "markdown",
   "metadata": {},
   "source": [
    "8. Постройте точечный график стоимостей заказов"
   ]
  },
  {
   "cell_type": "code",
   "execution_count": null,
   "metadata": {},
   "outputs": [],
   "source": [
    "x_values = pd.Series(range(0,len(orders)))\n",
    "plt.figure(figsize=(10,5))\n",
    "plt.ylabel('Стоимость заказа')\n",
    "plt.xlabel('Количество')\n",
    "plt.title('Точечная диаграмма стоимости заказов')\n",
    "plt.scatter(x_values, orders['revenue']);"
   ]
  },
  {
   "cell_type": "markdown",
   "metadata": {},
   "source": [
    "На точечной диаграмме  мы уже видим явняе аномалии - один заказ на сумму более 1.2 млн, является ли заказ на сумму около 200 тыс. аномалией можно понять, опеределив 95 и 99 перцентили"
   ]
  },
  {
   "cell_type": "code",
   "execution_count": null,
   "metadata": {},
   "outputs": [],
   "source": [
    "np.percentile(orders['revenue'], [95,99])"
   ]
  },
  {
   "cell_type": "markdown",
   "metadata": {},
   "source": [
    "Не более 5% заказов дороже 28000 рублей и не более 1% дороже 58233.2 рублей. Определим нижнюю границу стоимости заказов равной 28000р. Предполагаемые аномалии действительно являются аномалиями."
   ]
  },
  {
   "cell_type": "markdown",
   "metadata": {},
   "source": [
    "**Анализ A/B-теста**\n",
    "\n",
    "Ранее мы рассмотрели результаты A/B-теста визуально и выяснили, что в данных, скорее всего, есть выбросы. Увидели выбросы и нашли границу для их определения.\n",
    "Посчитаем статистическую значимость различий в среднем числе заказов на пользователя и среднем чеке между группами по «сырым» данным — без удаления аномальных пользователей.\n",
    "\n"
   ]
  },
  {
   "cell_type": "markdown",
   "metadata": {},
   "source": [
    "Создадим переменные orders_by_users_a и orders_by_users_b со столбцами ['visitor_id', 'orders']. В них для пользователей, которые заказывали хотя бы 1 раз, укажем число совершённых заказов"
   ]
  },
  {
   "cell_type": "code",
   "execution_count": null,
   "metadata": {},
   "outputs": [],
   "source": [
    "orders_by_users_a = (orders[orders['group']=='A']\n",
    "                     .groupby('visitor_id', as_index=False)\n",
    "                     .agg({'transaction_id':pd.Series.nunique})\n",
    "                    )\n",
    "orders_by_users_a.columns = ['visitor_id', 'orders']\n"
   ]
  },
  {
   "cell_type": "code",
   "execution_count": null,
   "metadata": {},
   "outputs": [],
   "source": [
    "orders_by_users_b = (orders[orders['group']=='B']\n",
    "                     .groupby('visitor_id', as_index=False)\n",
    "                     .agg({'transaction_id':pd.Series.nunique})\n",
    "                    )\n",
    "orders_by_users_b.columns = ['visitor_id', 'orders']\n"
   ]
  },
  {
   "cell_type": "markdown",
   "metadata": {},
   "source": [
    "Объявим переменные sample_a и sample_b, в которых пользователям из разных групп будет соответствовать количество заказов. Тем, кто ничего не заказал, будут соответствовать нули. Это нужно, чтобы подготовить выборки к проверке критерием Манна-Уитни.\n",
    "Объединим последовательности функцией pd.concat(). "
   ]
  },
  {
   "cell_type": "code",
   "execution_count": null,
   "metadata": {},
   "outputs": [],
   "source": [
    "sample_a = pd.concat(\n",
    "    [orders_by_users_a['orders'],\n",
    "     pd.Series(0, index=np.arange(visitors[visitors['group'] == 'A']['visitors'].sum() - len(orders_by_users_a['orders'])), name='orders',)\n",
    "     ,], axis=0,\n",
    ")\n",
    "\n",
    "sample_b = pd.concat(\n",
    "    [orders_by_users_b['orders'],\n",
    "     pd.Series(0, index=np.arange(visitors[visitors['group'] == 'A']['visitors'].sum() - len(orders_by_users_b['orders'])), name='orders',)\n",
    "     ,], axis=0,\n",
    ")"
   ]
  },
  {
   "cell_type": "markdown",
   "metadata": {},
   "source": [
    "10. Посчитаем статистическую значимость различий в среднем числе заказов на пользователя и среднем чеке между группами по «сырым» данным — без удаления аномальных пользователей.\n",
    "\n",
    "Сформулируем гипотезы. \n",
    "\n",
    "Ho: различий в среднем количестве заказов между группами нет. \n",
    "\n",
    "H1: различия в среднем между группами есть."
   ]
  },
  {
   "cell_type": "markdown",
   "metadata": {},
   "source": [
    "Для тестирования воспользуемся критерием Манна-Уитни, уровнем статистической значимости примем значение 0,05"
   ]
  },
  {
   "cell_type": "code",
   "execution_count": null,
   "metadata": {},
   "outputs": [],
   "source": [
    "#расчет p-value критерия Манна-Уитни\n",
    "print(\"p-value {0:.3f}\".format(stats.mannwhitneyu(sample_a, sample_b)[1]))\n"
   ]
  },
  {
   "cell_type": "code",
   "execution_count": null,
   "metadata": {},
   "outputs": [],
   "source": [
    "print(\"прирост метрики {0:.3f}\".format(sample_b.mean() / sample_a.mean() - 1))"
   ]
  },
  {
   "cell_type": "markdown",
   "metadata": {},
   "source": [
    "P-value = 0.011 меньше 0.05, значит нулевую гипотезу о том, что статистически значимых различий в среднем числе заказов между группами нет, отвергаем. Относительный прирост среднего группы B к группе А равен 14.9 %."
   ]
  },
  {
   "cell_type": "markdown",
   "metadata": {},
   "source": [
    "\n",
    "11. Теперь проверим статистическую значимость различий в среднем чеке между группами.\n",
    "\n",
    "Сформулируем гипотезы:\n",
    "\n",
    "H₀ - статистически значимых различий в среднем чеке между группами нет\n",
    "\n",
    "H1: статистически значимые различия в среднем чеке между группами есть\n",
    "\n",
    "уровень статистической значимости примем равным 0.05"
   ]
  },
  {
   "cell_type": "code",
   "execution_count": null,
   "metadata": {},
   "outputs": [],
   "source": [
    "#тест Манна-Уитни\n",
    "print('p-value {0:.3f}'.format(stats.mannwhitneyu(orders[orders['group']=='A']['revenue'], orders[orders['group']=='B']['revenue'], True)[1]))\n",
    "\n",
    "#относительные различия суммы среднего чека\n",
    "print('прирост метрики {0:.3f}'.format(orders[orders['group']=='B']['revenue'].mean()/orders[orders['group']=='A']['revenue'].mean()-1)) \n"
   ]
  },
  {
   "cell_type": "markdown",
   "metadata": {},
   "source": [
    "По \"сырым\" данным значение p-value = 0.729, что значительно больше уровня статистической значимости, следовательно гипотезу о том, что статически значимых различий в сумме среднего чека между группами нет, не отвергаем. Относительная разница суммы среднего чека между группами составила 25.9%- на столько сумма среднего чека группы В больше суммы среднего чека группы А"
   ]
  },
  {
   "cell_type": "markdown",
   "metadata": {},
   "source": [
    "12.Посчитаем статистическую значимость различий в среднем количестве заказов на посетителя между группами по «очищенным» данным."
   ]
  },
  {
   "cell_type": "markdown",
   "metadata": {},
   "source": [
    "Найденные 95-й и 99-й перцентили средних чеков равны 28000 и 58233.2 рублям. А 95-й и 99-й перцентили количества заказов на одного пользователя равны 2 и 4 заказа на пользователя.\n",
    "Примем за аномальных пользователей тех, кто совершил от 3 заказов или совершил заказ дороже 28 000 рублей. Так мы уберём от 1% до 5% пользователей с наибольшим числом заказов и 5% пользователей с дорогими заказами. Сделаем срезы пользователей с числом заказов больше 2 — users_with_many_orders и пользователей, совершивших заказы дороже 28 000 — users_with_expensive_orders. Объединим их в таблице abnormal_users."
   ]
  },
  {
   "cell_type": "code",
   "execution_count": null,
   "metadata": {},
   "outputs": [],
   "source": [
    "users_with_many_orders = pd.concat(\n",
    "    [\n",
    "        orders_by_users_a[orders_by_users_a['orders'] > 2]['visitor_id'],\n",
    "        orders_by_users_b[orders_by_users_b['orders'] > 2]['visitor_id'],\n",
    "    ],\n",
    "    axis=0,)\n"
   ]
  },
  {
   "cell_type": "code",
   "execution_count": null,
   "metadata": {},
   "outputs": [],
   "source": [
    "users_with_expensive_orders = orders[orders['revenue'] > 28000]['visitor_id']\n"
   ]
  },
  {
   "cell_type": "code",
   "execution_count": null,
   "metadata": {},
   "outputs": [],
   "source": [
    "abnormal_users = (\n",
    "    pd.concat([users_with_many_orders, users_with_expensive_orders], axis=0)\n",
    "    .drop_duplicates()\n",
    "    .sort_values()\n",
    ")\n",
    "abnormal_users"
   ]
  },
  {
   "cell_type": "markdown",
   "metadata": {},
   "source": [
    "Получилось 74 аномальных пользователя,\n",
    "узнаем как их действия повлияли на результаты теста. \n",
    "\n",
    "Посчитаем статистическую значимость различий в среднем количестве заказов на посетителя между группами по «очищенным» данным."
   ]
  },
  {
   "cell_type": "code",
   "execution_count": null,
   "metadata": {},
   "outputs": [],
   "source": [
    "sample_a_filtered = pd.concat(\n",
    "    [orders_by_users_a[np.logical_not(orders_by_users_a['visitor_id'].isin(abnormal_users))]['orders'],\n",
    "        pd.Series(0, index=np.arange(visitors[visitors['group'] == 'A']['visitors'].sum() - len(orders_by_users_a['orders'])),\n",
    "            name='orders'),], axis=0)\n"
   ]
  },
  {
   "cell_type": "code",
   "execution_count": null,
   "metadata": {},
   "outputs": [],
   "source": [
    "sample_b_filtered = pd.concat(\n",
    "    [orders_by_users_b[np.logical_not(orders_by_users_b['visitor_id'].isin(abnormal_users))]['orders'],\n",
    "        pd.Series(0, index=np.arange(visitors[visitors['group'] == 'A']['visitors'].sum() - len(orders_by_users_b['orders'])),\n",
    "            name='orders'),], axis=0)\n"
   ]
  },
  {
   "cell_type": "markdown",
   "metadata": {},
   "source": [
    "Применим статистический критерий Манна-Уитни к полученным выборкам\n",
    "\n",
    "Сформулируем гипотезы:\n",
    "\n",
    "H₀ - статистически значимых различий в среднем количестве заказов между группами нет\n",
    "\n",
    "H1 - статистически значимые различия в среднем количестве заказов между группами есть\n",
    "\n",
    "уровень статистической значимости примем равным 0.05"
   ]
  },
  {
   "cell_type": "code",
   "execution_count": null,
   "metadata": {},
   "outputs": [],
   "source": [
    "print('p-value {0:.3f}'.format(stats.mannwhitneyu(sample_a_filtered, sample_b_filtered)[1]))\n",
    "print('прирост метрики {0:.3f}'.format(sample_b_filtered.mean()/sample_a_filtered.mean()-1)) "
   ]
  },
  {
   "cell_type": "markdown",
   "metadata": {},
   "source": [
    "Результаты по среднему количеству заказов практически не изменились (p-value = 0.011 по \"сырым\" данным),p-value = 0.013 меньше 0.05, значит нулевую гипотезу о том, что статистически значимых различий в среднем количестве заказов между группами нет, отвергаем.\n",
    "Относительный прирост среднего группы B к группе А равен 17.3 % (по \"сырым\" данным прирост составлял 14.9 %).\n",
    "\n",
    "13. Посчитаем статистическую значимость различий в среднем чеке заказа между группами по «очищенным» данным\n",
    "\n",
    "сформулируем гипотезы: \n",
    "\n",
    "Hо - статистически значимых различий в среднем чеке между группами нет \n",
    "\n",
    "H₁- статистически значимые различия в среднем чеке между группами есть\n",
    "\n",
    "уровень статистической значимости примем равным 0.05"
   ]
  },
  {
   "cell_type": "code",
   "execution_count": null,
   "metadata": {},
   "outputs": [],
   "source": [
    "print('p-value {0:.3f}'.format(stats.mannwhitneyu(\n",
    "    orders[np.logical_and(\n",
    "        orders['group'] == 'A',\n",
    "        np.logical_not(orders['visitor_id'].isin(abnormal_users)),\n",
    "    )]['revenue'],\n",
    "    orders[np.logical_and(\n",
    "        orders['group'] == 'B',\n",
    "        np.logical_not(orders['visitor_id'].isin(abnormal_users)),\n",
    "    )]['revenue'],)[1]))"
   ]
  },
  {
   "cell_type": "code",
   "execution_count": null,
   "metadata": {},
   "outputs": [],
   "source": [
    "print(\"прирост метрики {0:.3f}\".format(orders[np.logical_and(\n",
    "        orders['group'] == 'B',\n",
    "        np.logical_not(orders['visitor_id'].isin(abnormal_users)),\n",
    "        )]['revenue'].mean()\n",
    "    / orders[np.logical_and(\n",
    "        orders['group'] == 'A',\n",
    "        np.logical_not(orders['visitor_id'].isin(abnormal_users)),\n",
    "        )]['revenue'].mean()\n",
    "        - 1))"
   ]
  },
  {
   "cell_type": "markdown",
   "metadata": {},
   "source": [
    "Результаты p-value по среднему чеку также практически не изменились, нулевую гипотезу о том, что статистически значимых различий в среднем чеке между группами нет, не отвергаем. НО, средний чек группы B стал ниже среднего чека группы A."
   ]
  },
  {
   "cell_type": "markdown",
   "metadata": {},
   "source": [
    "14. Сформулируем выводы и имеющиеся факты:\n",
    "\n",
    "- статистически значимые различия в среднем количестве заказов между группамии по «сырым» и по данным после фильтрации аномалий присутствуют,показатели группы В выше, чем А, на 15-17%;\n",
    "- нет статистически значимого различия по среднему чеку между группами ни по «сырым», ни по данным после фильтрации аномалий,при этом средний чек группы В выше (на \"очищенных\" данных - на ~2%);\n"
   ]
  },
  {
   "cell_type": "markdown",
   "metadata": {},
   "source": [
    "Если целью тестирования было установить -изменилась ли сумма среднего чека, то она осталась прежней, мы видим лишь незначительные изменения. Если же целью тестирования являлось изменение количества заказов, то результаты тестирования группы В говорят о том, что ее результаты отличается от группы А на 15-17%.\n",
    "\n",
    "Тест остановить, зафиксировать отсутствие различий между группами по сумме среднего чека и победу группы В в части увеличения количества заказов."
   ]
  },
  {
   "cell_type": "markdown",
   "metadata": {},
   "source": [
    "**ИТОГ:**\n",
    "\n",
    "На основании входных данных, предоставленных интернет-магазином был проведено исследование и вынесены рекомендации, изложенные ниже.\n",
    "\n",
    "1. В части приоритизации гипотез из списка, предоставленных отделом Маркетинга следует в первую очередь обратить внимание на гипотезы:\n",
    "- \"Запустить акцию, дающую скидку на товар в день рождения\",\n",
    "- \"Добавить два новых канала привлечения трафика, что позволит привлекать на 30% больше пользователей\",\n",
    "- \"Добавить форму подписки на все основные страницы, чтобы собрать базу клиентов для email-рассылок\";\n",
    "\n",
    "Если приоритизации гипотез должна включать в себя и охват пользователей интернет-магазина, то места необходимо распределить таким образом:\n",
    "\n",
    "- \"Добавить форму подписки на все основные страницы, чтобы собрать базу клиентов для email-рассылок\",\n",
    "- \"Добавить блоки рекомендаций товаров на сайт интернет магазина, чтобы повысить конверсию и средний чек заказа\",\n",
    "- \"Добавить два новых канала привлечения трафика, что позволит привлекать на 30% больше пользователей\".\n",
    "\n",
    "2. В части анализа А/В теста:\n",
    "\n",
    "- Есть статистически значимое различие по среднему количеству заказов между группами как по «сырым», так и по данным после фильтрации аномалий. Показатели группы В выше, чем А, на 15-17%;\n",
    "\n",
    "- Нет статистически значимого различия по среднему чеку между группами ни по «сырым», ни по данным после фильтрации аномалий. При этом средний чек группы В выше (на \"очищенных\" данных - на ~2%);\n",
    "\n",
    "\n",
    "На основании вышеизложенного рекомендуем остановить тест, зафиксировав победу группы B (в части увеличения количества заказов).\n"
   ]
  }
 ],
 "metadata": {
  "ExecuteTimeLog": [
   {
    "duration": 57,
    "start_time": "2023-03-03T10:48:14.569Z"
   },
   {
    "duration": 1426,
    "start_time": "2023-03-03T10:48:21.200Z"
   },
   {
    "duration": 206,
    "start_time": "2023-03-03T10:48:22.628Z"
   },
   {
    "duration": 15,
    "start_time": "2023-03-03T10:48:48.148Z"
   },
   {
    "duration": 18,
    "start_time": "2023-03-03T10:48:59.396Z"
   },
   {
    "duration": 4,
    "start_time": "2023-03-03T10:52:56.630Z"
   },
   {
    "duration": 11,
    "start_time": "2023-03-03T10:53:25.819Z"
   },
   {
    "duration": 8,
    "start_time": "2023-03-03T10:56:54.101Z"
   },
   {
    "duration": 6,
    "start_time": "2023-03-03T10:58:29.997Z"
   },
   {
    "duration": 17,
    "start_time": "2023-03-03T10:59:05.516Z"
   },
   {
    "duration": 8,
    "start_time": "2023-03-03T10:59:35.009Z"
   },
   {
    "duration": 12,
    "start_time": "2023-03-03T10:59:50.772Z"
   },
   {
    "duration": 6,
    "start_time": "2023-03-03T11:06:13.125Z"
   },
   {
    "duration": 46,
    "start_time": "2023-03-03T13:45:57.918Z"
   },
   {
    "duration": 1338,
    "start_time": "2023-03-03T13:46:01.380Z"
   },
   {
    "duration": 248,
    "start_time": "2023-03-03T13:46:02.720Z"
   },
   {
    "duration": 13,
    "start_time": "2023-03-03T13:46:02.969Z"
   },
   {
    "duration": 37,
    "start_time": "2023-03-03T13:46:02.984Z"
   },
   {
    "duration": 18,
    "start_time": "2023-03-03T13:46:03.022Z"
   },
   {
    "duration": 13,
    "start_time": "2023-03-03T13:46:03.041Z"
   },
   {
    "duration": 18,
    "start_time": "2023-03-03T13:46:03.056Z"
   },
   {
    "duration": 14,
    "start_time": "2023-03-03T13:46:03.075Z"
   },
   {
    "duration": 75,
    "start_time": "2023-03-03T13:46:03.090Z"
   },
   {
    "duration": 5,
    "start_time": "2023-03-03T13:46:15.836Z"
   },
   {
    "duration": 5,
    "start_time": "2023-03-03T13:47:51.569Z"
   },
   {
    "duration": 17,
    "start_time": "2023-03-03T13:48:12.369Z"
   },
   {
    "duration": 14,
    "start_time": "2023-03-03T13:48:24.204Z"
   },
   {
    "duration": 8,
    "start_time": "2023-03-03T13:50:12.502Z"
   },
   {
    "duration": 12,
    "start_time": "2023-03-03T13:50:15.356Z"
   },
   {
    "duration": 9,
    "start_time": "2023-03-03T13:51:43.075Z"
   },
   {
    "duration": 3,
    "start_time": "2023-03-03T13:51:55.757Z"
   },
   {
    "duration": 77,
    "start_time": "2023-03-03T13:51:55.762Z"
   },
   {
    "duration": 8,
    "start_time": "2023-03-03T13:51:55.841Z"
   },
   {
    "duration": 23,
    "start_time": "2023-03-03T13:51:55.850Z"
   },
   {
    "duration": 5,
    "start_time": "2023-03-03T13:51:55.875Z"
   },
   {
    "duration": 10,
    "start_time": "2023-03-03T13:51:55.882Z"
   },
   {
    "duration": 23,
    "start_time": "2023-03-03T13:51:55.894Z"
   },
   {
    "duration": 13,
    "start_time": "2023-03-03T13:51:55.919Z"
   },
   {
    "duration": 17,
    "start_time": "2023-03-03T13:51:55.934Z"
   },
   {
    "duration": 5,
    "start_time": "2023-03-03T13:51:55.953Z"
   },
   {
    "duration": 6,
    "start_time": "2023-03-03T13:51:55.960Z"
   },
   {
    "duration": 13,
    "start_time": "2023-03-03T13:51:55.968Z"
   },
   {
    "duration": 11,
    "start_time": "2023-03-03T13:54:44.696Z"
   },
   {
    "duration": 8,
    "start_time": "2023-03-03T13:55:00.751Z"
   },
   {
    "duration": 7,
    "start_time": "2023-03-03T13:55:07.740Z"
   },
   {
    "duration": 10,
    "start_time": "2023-03-03T13:55:22.574Z"
   },
   {
    "duration": 5,
    "start_time": "2023-03-03T13:56:07.254Z"
   },
   {
    "duration": 8,
    "start_time": "2023-03-03T13:59:29.662Z"
   },
   {
    "duration": 8,
    "start_time": "2023-03-03T14:00:00.646Z"
   },
   {
    "duration": 17,
    "start_time": "2023-03-03T14:00:06.870Z"
   },
   {
    "duration": 5,
    "start_time": "2023-03-03T14:05:39.626Z"
   },
   {
    "duration": 11,
    "start_time": "2023-03-03T14:07:38.140Z"
   },
   {
    "duration": 2,
    "start_time": "2023-03-03T14:12:37.666Z"
   },
   {
    "duration": 6,
    "start_time": "2023-03-03T14:12:37.670Z"
   },
   {
    "duration": 81,
    "start_time": "2023-03-03T14:12:37.677Z"
   },
   {
    "duration": 9,
    "start_time": "2023-03-03T14:12:37.759Z"
   },
   {
    "duration": 42,
    "start_time": "2023-03-03T14:12:37.771Z"
   },
   {
    "duration": 5,
    "start_time": "2023-03-03T14:12:37.815Z"
   },
   {
    "duration": 12,
    "start_time": "2023-03-03T14:12:37.822Z"
   },
   {
    "duration": 11,
    "start_time": "2023-03-03T14:12:37.835Z"
   },
   {
    "duration": 15,
    "start_time": "2023-03-03T14:12:37.848Z"
   },
   {
    "duration": 20,
    "start_time": "2023-03-03T14:12:37.865Z"
   },
   {
    "duration": 9,
    "start_time": "2023-03-03T14:12:37.887Z"
   },
   {
    "duration": 15,
    "start_time": "2023-03-03T14:12:37.897Z"
   },
   {
    "duration": 14,
    "start_time": "2023-03-03T14:12:37.913Z"
   },
   {
    "duration": 12,
    "start_time": "2023-03-03T14:12:37.930Z"
   },
   {
    "duration": 15,
    "start_time": "2023-03-03T14:12:37.943Z"
   },
   {
    "duration": 10,
    "start_time": "2023-03-03T14:12:37.960Z"
   },
   {
    "duration": 13,
    "start_time": "2023-03-03T14:12:37.971Z"
   },
   {
    "duration": 13,
    "start_time": "2023-03-03T14:12:37.986Z"
   },
   {
    "duration": 12,
    "start_time": "2023-03-03T14:12:38.001Z"
   },
   {
    "duration": 3,
    "start_time": "2023-03-03T14:13:56.024Z"
   },
   {
    "duration": 89,
    "start_time": "2023-03-03T14:13:56.030Z"
   },
   {
    "duration": 3,
    "start_time": "2023-03-03T14:13:56.122Z"
   },
   {
    "duration": 15,
    "start_time": "2023-03-03T14:13:56.127Z"
   },
   {
    "duration": 20,
    "start_time": "2023-03-03T14:13:56.145Z"
   },
   {
    "duration": 12,
    "start_time": "2023-03-03T14:13:56.167Z"
   },
   {
    "duration": 14,
    "start_time": "2023-03-03T14:13:56.181Z"
   },
   {
    "duration": 18,
    "start_time": "2023-03-03T14:13:56.197Z"
   },
   {
    "duration": 21,
    "start_time": "2023-03-03T14:13:56.216Z"
   },
   {
    "duration": 9,
    "start_time": "2023-03-03T14:13:56.249Z"
   },
   {
    "duration": 16,
    "start_time": "2023-03-03T14:13:56.259Z"
   },
   {
    "duration": 15,
    "start_time": "2023-03-03T14:13:56.276Z"
   },
   {
    "duration": 22,
    "start_time": "2023-03-03T14:13:56.293Z"
   },
   {
    "duration": 10,
    "start_time": "2023-03-03T14:13:56.320Z"
   },
   {
    "duration": 16,
    "start_time": "2023-03-03T14:13:56.349Z"
   },
   {
    "duration": 6,
    "start_time": "2023-03-03T14:13:56.367Z"
   },
   {
    "duration": 14,
    "start_time": "2023-03-03T14:13:56.375Z"
   },
   {
    "duration": 14,
    "start_time": "2023-03-03T14:13:56.391Z"
   },
   {
    "duration": 14,
    "start_time": "2023-03-03T14:13:56.407Z"
   },
   {
    "duration": 5,
    "start_time": "2023-03-03T14:15:19.463Z"
   },
   {
    "duration": 80,
    "start_time": "2023-03-03T14:15:19.470Z"
   },
   {
    "duration": 2,
    "start_time": "2023-03-03T14:15:19.552Z"
   },
   {
    "duration": 18,
    "start_time": "2023-03-03T14:15:19.557Z"
   },
   {
    "duration": 28,
    "start_time": "2023-03-03T14:15:19.577Z"
   },
   {
    "duration": 7,
    "start_time": "2023-03-03T14:15:19.607Z"
   },
   {
    "duration": 13,
    "start_time": "2023-03-03T14:15:19.615Z"
   },
   {
    "duration": 11,
    "start_time": "2023-03-03T14:15:19.629Z"
   },
   {
    "duration": 15,
    "start_time": "2023-03-03T14:15:19.641Z"
   },
   {
    "duration": 7,
    "start_time": "2023-03-03T14:15:19.658Z"
   },
   {
    "duration": 5,
    "start_time": "2023-03-03T14:15:19.666Z"
   },
   {
    "duration": 7,
    "start_time": "2023-03-03T14:15:19.673Z"
   },
   {
    "duration": 12,
    "start_time": "2023-03-03T14:15:19.682Z"
   },
   {
    "duration": 12,
    "start_time": "2023-03-03T14:15:19.696Z"
   },
   {
    "duration": 41,
    "start_time": "2023-03-03T14:15:19.710Z"
   },
   {
    "duration": 7,
    "start_time": "2023-03-03T14:15:19.753Z"
   },
   {
    "duration": 8,
    "start_time": "2023-03-03T14:15:19.762Z"
   },
   {
    "duration": 13,
    "start_time": "2023-03-03T14:15:19.771Z"
   },
   {
    "duration": 18,
    "start_time": "2023-03-03T14:15:19.787Z"
   },
   {
    "duration": 8,
    "start_time": "2023-03-03T14:16:58.406Z"
   },
   {
    "duration": 78,
    "start_time": "2023-03-03T14:16:58.417Z"
   },
   {
    "duration": 8,
    "start_time": "2023-03-03T14:16:58.498Z"
   },
   {
    "duration": 14,
    "start_time": "2023-03-03T14:16:58.508Z"
   },
   {
    "duration": 6,
    "start_time": "2023-03-03T14:16:58.524Z"
   },
   {
    "duration": 12,
    "start_time": "2023-03-03T14:16:58.532Z"
   },
   {
    "duration": 10,
    "start_time": "2023-03-03T14:16:58.546Z"
   },
   {
    "duration": 15,
    "start_time": "2023-03-03T14:16:58.558Z"
   },
   {
    "duration": 8,
    "start_time": "2023-03-03T14:16:58.574Z"
   },
   {
    "duration": 6,
    "start_time": "2023-03-03T14:16:58.584Z"
   },
   {
    "duration": 8,
    "start_time": "2023-03-03T14:16:58.592Z"
   },
   {
    "duration": 11,
    "start_time": "2023-03-03T14:16:58.602Z"
   },
   {
    "duration": 33,
    "start_time": "2023-03-03T14:16:58.615Z"
   },
   {
    "duration": 11,
    "start_time": "2023-03-03T14:16:58.651Z"
   },
   {
    "duration": 8,
    "start_time": "2023-03-03T14:16:58.664Z"
   },
   {
    "duration": 9,
    "start_time": "2023-03-03T14:16:58.674Z"
   },
   {
    "duration": 14,
    "start_time": "2023-03-03T14:16:58.686Z"
   },
   {
    "duration": 17,
    "start_time": "2023-03-03T14:16:58.702Z"
   },
   {
    "duration": 5,
    "start_time": "2023-03-03T14:17:26.235Z"
   },
   {
    "duration": 81,
    "start_time": "2023-03-03T14:17:26.243Z"
   },
   {
    "duration": 12,
    "start_time": "2023-03-03T14:17:26.326Z"
   },
   {
    "duration": 25,
    "start_time": "2023-03-03T14:17:26.340Z"
   },
   {
    "duration": 16,
    "start_time": "2023-03-03T14:17:26.368Z"
   },
   {
    "duration": 18,
    "start_time": "2023-03-03T14:17:26.387Z"
   },
   {
    "duration": 21,
    "start_time": "2023-03-03T14:17:26.407Z"
   },
   {
    "duration": 35,
    "start_time": "2023-03-03T14:17:26.430Z"
   },
   {
    "duration": 8,
    "start_time": "2023-03-03T14:17:26.467Z"
   },
   {
    "duration": 9,
    "start_time": "2023-03-03T14:17:26.477Z"
   },
   {
    "duration": 14,
    "start_time": "2023-03-03T14:17:26.487Z"
   },
   {
    "duration": 13,
    "start_time": "2023-03-03T14:17:26.503Z"
   },
   {
    "duration": 16,
    "start_time": "2023-03-03T14:17:26.517Z"
   },
   {
    "duration": 38,
    "start_time": "2023-03-03T14:17:26.537Z"
   },
   {
    "duration": 17,
    "start_time": "2023-03-03T14:17:26.578Z"
   },
   {
    "duration": 11,
    "start_time": "2023-03-03T14:17:26.597Z"
   },
   {
    "duration": 12,
    "start_time": "2023-03-03T14:17:26.610Z"
   },
   {
    "duration": 17,
    "start_time": "2023-03-03T14:17:26.624Z"
   },
   {
    "duration": 92,
    "start_time": "2023-03-03T14:21:18.712Z"
   },
   {
    "duration": 17,
    "start_time": "2023-03-03T14:23:35.443Z"
   },
   {
    "duration": 71,
    "start_time": "2023-03-03T14:35:53.294Z"
   },
   {
    "duration": 7,
    "start_time": "2023-03-03T14:43:20.081Z"
   },
   {
    "duration": 16,
    "start_time": "2023-03-03T15:14:05.459Z"
   },
   {
    "duration": 5,
    "start_time": "2023-03-03T15:14:08.659Z"
   },
   {
    "duration": 97,
    "start_time": "2023-03-03T15:14:08.666Z"
   },
   {
    "duration": 8,
    "start_time": "2023-03-03T15:14:08.764Z"
   },
   {
    "duration": 58,
    "start_time": "2023-03-03T15:14:08.774Z"
   },
   {
    "duration": 29,
    "start_time": "2023-03-03T15:14:08.834Z"
   },
   {
    "duration": 37,
    "start_time": "2023-03-03T15:14:08.865Z"
   },
   {
    "duration": 28,
    "start_time": "2023-03-03T15:14:08.904Z"
   },
   {
    "duration": 34,
    "start_time": "2023-03-03T15:14:08.934Z"
   },
   {
    "duration": 7,
    "start_time": "2023-03-03T15:14:08.970Z"
   },
   {
    "duration": 15,
    "start_time": "2023-03-03T15:14:08.979Z"
   },
   {
    "duration": 19,
    "start_time": "2023-03-03T15:14:08.995Z"
   },
   {
    "duration": 22,
    "start_time": "2023-03-03T15:14:09.015Z"
   },
   {
    "duration": 27,
    "start_time": "2023-03-03T15:14:09.039Z"
   },
   {
    "duration": 22,
    "start_time": "2023-03-03T15:14:09.068Z"
   },
   {
    "duration": 31,
    "start_time": "2023-03-03T15:14:09.091Z"
   },
   {
    "duration": 22,
    "start_time": "2023-03-03T15:14:09.124Z"
   },
   {
    "duration": 13,
    "start_time": "2023-03-03T15:14:09.148Z"
   },
   {
    "duration": 33,
    "start_time": "2023-03-03T15:14:09.162Z"
   },
   {
    "duration": 13,
    "start_time": "2023-03-03T15:14:09.197Z"
   },
   {
    "duration": 13,
    "start_time": "2023-03-03T15:14:09.212Z"
   },
   {
    "duration": 12,
    "start_time": "2023-03-03T15:14:18.426Z"
   },
   {
    "duration": 6,
    "start_time": "2023-03-03T15:14:42.870Z"
   },
   {
    "duration": 10,
    "start_time": "2023-03-03T15:14:43.576Z"
   },
   {
    "duration": 4,
    "start_time": "2023-03-03T15:14:52.378Z"
   },
   {
    "duration": 78,
    "start_time": "2023-03-03T15:14:52.384Z"
   },
   {
    "duration": 7,
    "start_time": "2023-03-03T15:14:52.464Z"
   },
   {
    "duration": 33,
    "start_time": "2023-03-03T15:14:52.473Z"
   },
   {
    "duration": 9,
    "start_time": "2023-03-03T15:14:52.508Z"
   },
   {
    "duration": 16,
    "start_time": "2023-03-03T15:14:52.519Z"
   },
   {
    "duration": 12,
    "start_time": "2023-03-03T15:14:52.537Z"
   },
   {
    "duration": 30,
    "start_time": "2023-03-03T15:14:52.551Z"
   },
   {
    "duration": 15,
    "start_time": "2023-03-03T15:14:52.583Z"
   },
   {
    "duration": 6,
    "start_time": "2023-03-03T15:14:52.599Z"
   },
   {
    "duration": 9,
    "start_time": "2023-03-03T15:14:52.607Z"
   },
   {
    "duration": 18,
    "start_time": "2023-03-03T15:14:52.618Z"
   },
   {
    "duration": 26,
    "start_time": "2023-03-03T15:14:52.638Z"
   },
   {
    "duration": 20,
    "start_time": "2023-03-03T15:14:52.666Z"
   },
   {
    "duration": 19,
    "start_time": "2023-03-03T15:14:52.687Z"
   },
   {
    "duration": 10,
    "start_time": "2023-03-03T15:14:52.708Z"
   },
   {
    "duration": 32,
    "start_time": "2023-03-03T15:14:52.720Z"
   },
   {
    "duration": 23,
    "start_time": "2023-03-03T15:14:52.754Z"
   },
   {
    "duration": 16,
    "start_time": "2023-03-03T15:14:52.779Z"
   },
   {
    "duration": 9,
    "start_time": "2023-03-03T15:14:52.796Z"
   },
   {
    "duration": 20,
    "start_time": "2023-03-03T15:14:52.807Z"
   },
   {
    "duration": 6,
    "start_time": "2023-03-03T15:15:51.967Z"
   },
   {
    "duration": 164,
    "start_time": "2023-03-03T15:15:52.328Z"
   },
   {
    "duration": 139,
    "start_time": "2023-03-03T15:16:46.967Z"
   },
   {
    "duration": 7,
    "start_time": "2023-03-03T15:18:10.959Z"
   },
   {
    "duration": 18,
    "start_time": "2023-03-03T15:26:55.376Z"
   },
   {
    "duration": 282,
    "start_time": "2023-03-03T15:27:24.275Z"
   },
   {
    "duration": 173,
    "start_time": "2023-03-03T15:39:56.198Z"
   },
   {
    "duration": 5,
    "start_time": "2023-03-03T15:40:07.175Z"
   },
   {
    "duration": 77,
    "start_time": "2023-03-03T15:40:07.183Z"
   },
   {
    "duration": 9,
    "start_time": "2023-03-03T15:40:07.262Z"
   },
   {
    "duration": 12,
    "start_time": "2023-03-03T15:40:07.273Z"
   },
   {
    "duration": 7,
    "start_time": "2023-03-03T15:40:07.286Z"
   },
   {
    "duration": 11,
    "start_time": "2023-03-03T15:40:07.295Z"
   },
   {
    "duration": 10,
    "start_time": "2023-03-03T15:40:07.307Z"
   },
   {
    "duration": 11,
    "start_time": "2023-03-03T15:40:07.319Z"
   },
   {
    "duration": 20,
    "start_time": "2023-03-03T15:40:07.331Z"
   },
   {
    "duration": 5,
    "start_time": "2023-03-03T15:40:07.353Z"
   },
   {
    "duration": 11,
    "start_time": "2023-03-03T15:40:07.359Z"
   },
   {
    "duration": 14,
    "start_time": "2023-03-03T15:40:07.371Z"
   },
   {
    "duration": 13,
    "start_time": "2023-03-03T15:40:07.387Z"
   },
   {
    "duration": 11,
    "start_time": "2023-03-03T15:40:07.402Z"
   },
   {
    "duration": 11,
    "start_time": "2023-03-03T15:40:07.415Z"
   },
   {
    "duration": 26,
    "start_time": "2023-03-03T15:40:07.427Z"
   },
   {
    "duration": 12,
    "start_time": "2023-03-03T15:40:07.454Z"
   },
   {
    "duration": 12,
    "start_time": "2023-03-03T15:40:07.467Z"
   },
   {
    "duration": 13,
    "start_time": "2023-03-03T15:40:07.481Z"
   },
   {
    "duration": 8,
    "start_time": "2023-03-03T15:40:07.495Z"
   },
   {
    "duration": 188,
    "start_time": "2023-03-03T15:40:07.505Z"
   },
   {
    "duration": 136,
    "start_time": "2023-03-03T15:40:07.695Z"
   },
   {
    "duration": 20,
    "start_time": "2023-03-03T15:40:07.833Z"
   },
   {
    "duration": 200,
    "start_time": "2023-03-03T15:40:07.855Z"
   },
   {
    "duration": 5,
    "start_time": "2023-03-03T15:43:11.212Z"
   },
   {
    "duration": 77,
    "start_time": "2023-03-03T15:43:11.219Z"
   },
   {
    "duration": 8,
    "start_time": "2023-03-03T15:43:11.298Z"
   },
   {
    "duration": 11,
    "start_time": "2023-03-03T15:43:11.307Z"
   },
   {
    "duration": 7,
    "start_time": "2023-03-03T15:43:11.321Z"
   },
   {
    "duration": 14,
    "start_time": "2023-03-03T15:43:11.329Z"
   },
   {
    "duration": 11,
    "start_time": "2023-03-03T15:43:11.344Z"
   },
   {
    "duration": 10,
    "start_time": "2023-03-03T15:43:11.357Z"
   },
   {
    "duration": 9,
    "start_time": "2023-03-03T15:43:11.368Z"
   },
   {
    "duration": 5,
    "start_time": "2023-03-03T15:43:11.379Z"
   },
   {
    "duration": 8,
    "start_time": "2023-03-03T15:43:11.385Z"
   },
   {
    "duration": 13,
    "start_time": "2023-03-03T15:43:11.395Z"
   },
   {
    "duration": 8,
    "start_time": "2023-03-03T15:43:11.409Z"
   },
   {
    "duration": 34,
    "start_time": "2023-03-03T15:43:11.420Z"
   },
   {
    "duration": 7,
    "start_time": "2023-03-03T15:43:11.457Z"
   },
   {
    "duration": 66,
    "start_time": "2023-03-03T15:43:11.465Z"
   },
   {
    "duration": 27,
    "start_time": "2023-03-03T15:43:11.532Z"
   },
   {
    "duration": 11,
    "start_time": "2023-03-03T15:43:11.560Z"
   },
   {
    "duration": 11,
    "start_time": "2023-03-03T15:43:11.573Z"
   },
   {
    "duration": 6,
    "start_time": "2023-03-03T15:43:11.585Z"
   },
   {
    "duration": 182,
    "start_time": "2023-03-03T15:43:11.592Z"
   },
   {
    "duration": 133,
    "start_time": "2023-03-03T15:43:11.775Z"
   },
   {
    "duration": 8,
    "start_time": "2023-03-03T15:43:11.910Z"
   },
   {
    "duration": 9,
    "start_time": "2023-03-03T15:43:11.920Z"
   },
   {
    "duration": 184,
    "start_time": "2023-03-03T15:43:11.948Z"
   },
   {
    "duration": 167,
    "start_time": "2023-03-03T15:45:45.357Z"
   },
   {
    "duration": 4,
    "start_time": "2023-03-03T15:48:11.668Z"
   },
   {
    "duration": 80,
    "start_time": "2023-03-03T15:48:11.674Z"
   },
   {
    "duration": 8,
    "start_time": "2023-03-03T15:48:11.756Z"
   },
   {
    "duration": 15,
    "start_time": "2023-03-03T15:48:11.765Z"
   },
   {
    "duration": 4,
    "start_time": "2023-03-03T15:48:11.783Z"
   },
   {
    "duration": 12,
    "start_time": "2023-03-03T15:48:11.789Z"
   },
   {
    "duration": 9,
    "start_time": "2023-03-03T15:48:11.803Z"
   },
   {
    "duration": 34,
    "start_time": "2023-03-03T15:48:11.814Z"
   },
   {
    "duration": 10,
    "start_time": "2023-03-03T15:48:11.850Z"
   },
   {
    "duration": 5,
    "start_time": "2023-03-03T15:48:11.862Z"
   },
   {
    "duration": 7,
    "start_time": "2023-03-03T15:48:11.869Z"
   },
   {
    "duration": 11,
    "start_time": "2023-03-03T15:48:11.878Z"
   },
   {
    "duration": 10,
    "start_time": "2023-03-03T15:48:11.891Z"
   },
   {
    "duration": 13,
    "start_time": "2023-03-03T15:48:11.904Z"
   },
   {
    "duration": 33,
    "start_time": "2023-03-03T15:48:11.919Z"
   },
   {
    "duration": 7,
    "start_time": "2023-03-03T15:48:11.954Z"
   },
   {
    "duration": 12,
    "start_time": "2023-03-03T15:48:11.964Z"
   },
   {
    "duration": 12,
    "start_time": "2023-03-03T15:48:11.978Z"
   },
   {
    "duration": 12,
    "start_time": "2023-03-03T15:48:11.991Z"
   },
   {
    "duration": 8,
    "start_time": "2023-03-03T15:48:12.005Z"
   },
   {
    "duration": 189,
    "start_time": "2023-03-03T15:48:12.014Z"
   },
   {
    "duration": 129,
    "start_time": "2023-03-03T15:48:12.205Z"
   },
   {
    "duration": 17,
    "start_time": "2023-03-03T15:48:12.336Z"
   },
   {
    "duration": 14,
    "start_time": "2023-03-03T15:48:12.355Z"
   },
   {
    "duration": 206,
    "start_time": "2023-03-03T15:48:12.370Z"
   },
   {
    "duration": 10,
    "start_time": "2023-03-03T15:49:55.527Z"
   },
   {
    "duration": 133,
    "start_time": "2023-03-03T15:50:34.656Z"
   },
   {
    "duration": 130,
    "start_time": "2023-03-03T15:51:33.475Z"
   },
   {
    "duration": 120,
    "start_time": "2023-03-03T15:52:01.493Z"
   },
   {
    "duration": 122,
    "start_time": "2023-03-03T15:53:20.489Z"
   },
   {
    "duration": 155,
    "start_time": "2023-03-03T15:53:24.323Z"
   },
   {
    "duration": 125,
    "start_time": "2023-03-03T15:55:02.067Z"
   },
   {
    "duration": 169,
    "start_time": "2023-03-03T15:59:08.324Z"
   },
   {
    "duration": 164,
    "start_time": "2023-03-03T15:59:16.179Z"
   },
   {
    "duration": 122,
    "start_time": "2023-03-03T16:00:06.986Z"
   },
   {
    "duration": 13,
    "start_time": "2023-03-03T16:03:05.817Z"
   },
   {
    "duration": 5,
    "start_time": "2023-03-03T16:04:08.579Z"
   },
   {
    "duration": 78,
    "start_time": "2023-03-03T16:04:08.586Z"
   },
   {
    "duration": 8,
    "start_time": "2023-03-03T16:04:08.666Z"
   },
   {
    "duration": 17,
    "start_time": "2023-03-03T16:04:08.676Z"
   },
   {
    "duration": 7,
    "start_time": "2023-03-03T16:04:08.695Z"
   },
   {
    "duration": 10,
    "start_time": "2023-03-03T16:04:08.703Z"
   },
   {
    "duration": 9,
    "start_time": "2023-03-03T16:04:08.715Z"
   },
   {
    "duration": 30,
    "start_time": "2023-03-03T16:04:08.726Z"
   },
   {
    "duration": 6,
    "start_time": "2023-03-03T16:04:08.758Z"
   },
   {
    "duration": 7,
    "start_time": "2023-03-03T16:04:08.765Z"
   },
   {
    "duration": 5,
    "start_time": "2023-03-03T16:04:08.774Z"
   },
   {
    "duration": 15,
    "start_time": "2023-03-03T16:04:08.781Z"
   },
   {
    "duration": 9,
    "start_time": "2023-03-03T16:04:08.798Z"
   },
   {
    "duration": 43,
    "start_time": "2023-03-03T16:04:08.809Z"
   },
   {
    "duration": 9,
    "start_time": "2023-03-03T16:04:08.854Z"
   },
   {
    "duration": 12,
    "start_time": "2023-03-03T16:04:08.864Z"
   },
   {
    "duration": 11,
    "start_time": "2023-03-03T16:04:08.878Z"
   },
   {
    "duration": 13,
    "start_time": "2023-03-03T16:04:08.890Z"
   },
   {
    "duration": 12,
    "start_time": "2023-03-03T16:04:08.905Z"
   },
   {
    "duration": 31,
    "start_time": "2023-03-03T16:04:08.919Z"
   },
   {
    "duration": 183,
    "start_time": "2023-03-03T16:04:09.767Z"
   },
   {
    "duration": 129,
    "start_time": "2023-03-03T16:04:09.951Z"
   },
   {
    "duration": 13,
    "start_time": "2023-03-03T16:04:10.081Z"
   },
   {
    "duration": 181,
    "start_time": "2023-03-03T16:04:10.258Z"
   },
   {
    "duration": 167,
    "start_time": "2023-03-03T16:07:45.782Z"
   },
   {
    "duration": 118,
    "start_time": "2023-03-03T16:08:48.153Z"
   },
   {
    "duration": 4,
    "start_time": "2023-03-03T16:08:56.604Z"
   },
   {
    "duration": 75,
    "start_time": "2023-03-03T16:08:56.611Z"
   },
   {
    "duration": 10,
    "start_time": "2023-03-03T16:08:56.687Z"
   },
   {
    "duration": 11,
    "start_time": "2023-03-03T16:08:56.699Z"
   },
   {
    "duration": 6,
    "start_time": "2023-03-03T16:08:56.713Z"
   },
   {
    "duration": 11,
    "start_time": "2023-03-03T16:08:56.720Z"
   },
   {
    "duration": 9,
    "start_time": "2023-03-03T16:08:56.732Z"
   },
   {
    "duration": 12,
    "start_time": "2023-03-03T16:08:56.743Z"
   },
   {
    "duration": 8,
    "start_time": "2023-03-03T16:08:56.757Z"
   },
   {
    "duration": 5,
    "start_time": "2023-03-03T16:08:56.767Z"
   },
   {
    "duration": 8,
    "start_time": "2023-03-03T16:08:56.774Z"
   },
   {
    "duration": 11,
    "start_time": "2023-03-03T16:08:56.784Z"
   },
   {
    "duration": 9,
    "start_time": "2023-03-03T16:08:56.796Z"
   },
   {
    "duration": 10,
    "start_time": "2023-03-03T16:08:56.807Z"
   },
   {
    "duration": 30,
    "start_time": "2023-03-03T16:08:56.819Z"
   },
   {
    "duration": 6,
    "start_time": "2023-03-03T16:08:56.851Z"
   },
   {
    "duration": 12,
    "start_time": "2023-03-03T16:08:56.859Z"
   },
   {
    "duration": 14,
    "start_time": "2023-03-03T16:08:56.873Z"
   },
   {
    "duration": 14,
    "start_time": "2023-03-03T16:08:56.888Z"
   },
   {
    "duration": 7,
    "start_time": "2023-03-03T16:08:56.903Z"
   },
   {
    "duration": 187,
    "start_time": "2023-03-03T16:08:56.912Z"
   },
   {
    "duration": 120,
    "start_time": "2023-03-03T16:08:57.100Z"
   },
   {
    "duration": 11,
    "start_time": "2023-03-03T16:08:57.222Z"
   },
   {
    "duration": 186,
    "start_time": "2023-03-03T16:08:57.248Z"
   },
   {
    "duration": 4,
    "start_time": "2023-03-03T16:14:09.674Z"
   },
   {
    "duration": 80,
    "start_time": "2023-03-03T16:14:09.680Z"
   },
   {
    "duration": 7,
    "start_time": "2023-03-03T16:14:09.762Z"
   },
   {
    "duration": 11,
    "start_time": "2023-03-03T16:14:09.771Z"
   },
   {
    "duration": 5,
    "start_time": "2023-03-03T16:14:09.784Z"
   },
   {
    "duration": 12,
    "start_time": "2023-03-03T16:14:09.791Z"
   },
   {
    "duration": 9,
    "start_time": "2023-03-03T16:14:09.804Z"
   },
   {
    "duration": 14,
    "start_time": "2023-03-03T16:14:09.815Z"
   },
   {
    "duration": 18,
    "start_time": "2023-03-03T16:14:09.830Z"
   },
   {
    "duration": 5,
    "start_time": "2023-03-03T16:14:09.850Z"
   },
   {
    "duration": 7,
    "start_time": "2023-03-03T16:14:09.857Z"
   },
   {
    "duration": 16,
    "start_time": "2023-03-03T16:14:09.865Z"
   },
   {
    "duration": 9,
    "start_time": "2023-03-03T16:14:09.883Z"
   },
   {
    "duration": 12,
    "start_time": "2023-03-03T16:14:09.894Z"
   },
   {
    "duration": 6,
    "start_time": "2023-03-03T16:14:09.907Z"
   },
   {
    "duration": 6,
    "start_time": "2023-03-03T16:14:09.915Z"
   },
   {
    "duration": 34,
    "start_time": "2023-03-03T16:14:09.922Z"
   },
   {
    "duration": 11,
    "start_time": "2023-03-03T16:14:09.957Z"
   },
   {
    "duration": 13,
    "start_time": "2023-03-03T16:14:09.969Z"
   },
   {
    "duration": 9,
    "start_time": "2023-03-03T16:14:09.983Z"
   },
   {
    "duration": 179,
    "start_time": "2023-03-03T16:14:09.994Z"
   },
   {
    "duration": 126,
    "start_time": "2023-03-03T16:14:10.174Z"
   },
   {
    "duration": 12,
    "start_time": "2023-03-03T16:14:10.302Z"
   },
   {
    "duration": 201,
    "start_time": "2023-03-03T16:14:10.315Z"
   },
   {
    "duration": 5,
    "start_time": "2023-03-03T16:28:51.805Z"
   },
   {
    "duration": 88,
    "start_time": "2023-03-03T16:28:51.813Z"
   },
   {
    "duration": 9,
    "start_time": "2023-03-03T16:28:51.903Z"
   },
   {
    "duration": 16,
    "start_time": "2023-03-03T16:28:51.914Z"
   },
   {
    "duration": 6,
    "start_time": "2023-03-03T16:28:51.932Z"
   },
   {
    "duration": 13,
    "start_time": "2023-03-03T16:28:51.940Z"
   },
   {
    "duration": 13,
    "start_time": "2023-03-03T16:28:51.955Z"
   },
   {
    "duration": 14,
    "start_time": "2023-03-03T16:28:51.969Z"
   },
   {
    "duration": 8,
    "start_time": "2023-03-03T16:28:51.984Z"
   },
   {
    "duration": 8,
    "start_time": "2023-03-03T16:28:51.994Z"
   },
   {
    "duration": 7,
    "start_time": "2023-03-03T16:28:52.003Z"
   },
   {
    "duration": 20,
    "start_time": "2023-03-03T16:28:52.012Z"
   },
   {
    "duration": 20,
    "start_time": "2023-03-03T16:28:52.033Z"
   },
   {
    "duration": 11,
    "start_time": "2023-03-03T16:28:52.055Z"
   },
   {
    "duration": 7,
    "start_time": "2023-03-03T16:28:52.068Z"
   },
   {
    "duration": 12,
    "start_time": "2023-03-03T16:28:52.076Z"
   },
   {
    "duration": 14,
    "start_time": "2023-03-03T16:28:52.089Z"
   },
   {
    "duration": 13,
    "start_time": "2023-03-03T16:28:52.104Z"
   },
   {
    "duration": 15,
    "start_time": "2023-03-03T16:28:52.119Z"
   },
   {
    "duration": 15,
    "start_time": "2023-03-03T16:28:52.136Z"
   },
   {
    "duration": 166,
    "start_time": "2023-03-03T16:28:52.153Z"
   },
   {
    "duration": 129,
    "start_time": "2023-03-03T16:28:52.321Z"
   },
   {
    "duration": 13,
    "start_time": "2023-03-03T16:28:52.451Z"
   },
   {
    "duration": 191,
    "start_time": "2023-03-03T16:28:52.466Z"
   },
   {
    "duration": 202,
    "start_time": "2023-03-03T16:30:25.663Z"
   },
   {
    "duration": 115,
    "start_time": "2023-03-03T16:33:46.196Z"
   },
   {
    "duration": 25,
    "start_time": "2023-03-03T16:34:29.292Z"
   },
   {
    "duration": 5,
    "start_time": "2023-03-03T16:34:35.035Z"
   },
   {
    "duration": 121,
    "start_time": "2023-03-03T16:34:35.042Z"
   },
   {
    "duration": 12,
    "start_time": "2023-03-03T16:34:35.165Z"
   },
   {
    "duration": 36,
    "start_time": "2023-03-03T16:34:35.179Z"
   },
   {
    "duration": 36,
    "start_time": "2023-03-03T16:34:35.218Z"
   },
   {
    "duration": 31,
    "start_time": "2023-03-03T16:34:35.257Z"
   },
   {
    "duration": 39,
    "start_time": "2023-03-03T16:34:35.290Z"
   },
   {
    "duration": 26,
    "start_time": "2023-03-03T16:34:35.332Z"
   },
   {
    "duration": 14,
    "start_time": "2023-03-03T16:34:35.360Z"
   },
   {
    "duration": 12,
    "start_time": "2023-03-03T16:34:35.375Z"
   },
   {
    "duration": 13,
    "start_time": "2023-03-03T16:34:35.388Z"
   },
   {
    "duration": 15,
    "start_time": "2023-03-03T16:34:35.403Z"
   },
   {
    "duration": 16,
    "start_time": "2023-03-03T16:34:35.420Z"
   },
   {
    "duration": 20,
    "start_time": "2023-03-03T16:34:35.439Z"
   },
   {
    "duration": 11,
    "start_time": "2023-03-03T16:34:35.461Z"
   },
   {
    "duration": 17,
    "start_time": "2023-03-03T16:34:35.474Z"
   },
   {
    "duration": 22,
    "start_time": "2023-03-03T16:34:35.493Z"
   },
   {
    "duration": 40,
    "start_time": "2023-03-03T16:34:35.517Z"
   },
   {
    "duration": 16,
    "start_time": "2023-03-03T16:34:35.559Z"
   },
   {
    "duration": 10,
    "start_time": "2023-03-03T16:34:35.577Z"
   },
   {
    "duration": 27,
    "start_time": "2023-03-03T16:34:35.588Z"
   },
   {
    "duration": 0,
    "start_time": "2023-03-03T16:34:35.617Z"
   },
   {
    "duration": 0,
    "start_time": "2023-03-03T16:34:35.618Z"
   },
   {
    "duration": 0,
    "start_time": "2023-03-03T16:34:35.619Z"
   },
   {
    "duration": 6,
    "start_time": "2023-03-03T16:35:02.829Z"
   },
   {
    "duration": 107,
    "start_time": "2023-03-03T16:35:02.837Z"
   },
   {
    "duration": 9,
    "start_time": "2023-03-03T16:35:02.946Z"
   },
   {
    "duration": 48,
    "start_time": "2023-03-03T16:35:02.957Z"
   },
   {
    "duration": 12,
    "start_time": "2023-03-03T16:35:03.007Z"
   },
   {
    "duration": 28,
    "start_time": "2023-03-03T16:35:03.021Z"
   },
   {
    "duration": 24,
    "start_time": "2023-03-03T16:35:03.050Z"
   },
   {
    "duration": 21,
    "start_time": "2023-03-03T16:35:03.076Z"
   },
   {
    "duration": 12,
    "start_time": "2023-03-03T16:35:03.099Z"
   },
   {
    "duration": 18,
    "start_time": "2023-03-03T16:35:03.113Z"
   },
   {
    "duration": 24,
    "start_time": "2023-03-03T16:35:03.132Z"
   },
   {
    "duration": 27,
    "start_time": "2023-03-03T16:35:03.157Z"
   },
   {
    "duration": 20,
    "start_time": "2023-03-03T16:35:03.185Z"
   },
   {
    "duration": 16,
    "start_time": "2023-03-03T16:35:03.207Z"
   },
   {
    "duration": 13,
    "start_time": "2023-03-03T16:35:03.224Z"
   },
   {
    "duration": 23,
    "start_time": "2023-03-03T16:35:03.238Z"
   },
   {
    "duration": 40,
    "start_time": "2023-03-03T16:35:03.263Z"
   },
   {
    "duration": 26,
    "start_time": "2023-03-03T16:35:03.305Z"
   },
   {
    "duration": 26,
    "start_time": "2023-03-03T16:35:03.333Z"
   },
   {
    "duration": 16,
    "start_time": "2023-03-03T16:35:03.361Z"
   },
   {
    "duration": 31,
    "start_time": "2023-03-03T16:35:03.379Z"
   },
   {
    "duration": 0,
    "start_time": "2023-03-03T16:35:03.412Z"
   },
   {
    "duration": 0,
    "start_time": "2023-03-03T16:35:03.413Z"
   },
   {
    "duration": 0,
    "start_time": "2023-03-03T16:35:03.415Z"
   },
   {
    "duration": 26,
    "start_time": "2023-03-03T16:35:35.215Z"
   },
   {
    "duration": 126,
    "start_time": "2023-03-03T16:35:41.479Z"
   },
   {
    "duration": 23,
    "start_time": "2023-03-03T16:36:22.287Z"
   },
   {
    "duration": 160,
    "start_time": "2023-03-03T16:36:46.823Z"
   },
   {
    "duration": 115,
    "start_time": "2023-03-03T16:37:06.084Z"
   },
   {
    "duration": 138,
    "start_time": "2023-03-03T16:37:31.079Z"
   },
   {
    "duration": 6,
    "start_time": "2023-03-03T16:37:48.591Z"
   },
   {
    "duration": 75,
    "start_time": "2023-03-03T16:37:48.599Z"
   },
   {
    "duration": 8,
    "start_time": "2023-03-03T16:37:48.676Z"
   },
   {
    "duration": 16,
    "start_time": "2023-03-03T16:37:48.685Z"
   },
   {
    "duration": 7,
    "start_time": "2023-03-03T16:37:48.703Z"
   },
   {
    "duration": 12,
    "start_time": "2023-03-03T16:37:48.711Z"
   },
   {
    "duration": 10,
    "start_time": "2023-03-03T16:37:48.725Z"
   },
   {
    "duration": 12,
    "start_time": "2023-03-03T16:37:48.736Z"
   },
   {
    "duration": 8,
    "start_time": "2023-03-03T16:37:48.750Z"
   },
   {
    "duration": 8,
    "start_time": "2023-03-03T16:37:48.759Z"
   },
   {
    "duration": 14,
    "start_time": "2023-03-03T16:37:48.769Z"
   },
   {
    "duration": 13,
    "start_time": "2023-03-03T16:37:48.785Z"
   },
   {
    "duration": 12,
    "start_time": "2023-03-03T16:37:48.800Z"
   },
   {
    "duration": 14,
    "start_time": "2023-03-03T16:37:48.814Z"
   },
   {
    "duration": 8,
    "start_time": "2023-03-03T16:37:48.830Z"
   },
   {
    "duration": 82,
    "start_time": "2023-03-03T16:37:48.848Z"
   },
   {
    "duration": 26,
    "start_time": "2023-03-03T16:37:48.932Z"
   },
   {
    "duration": 17,
    "start_time": "2023-03-03T16:37:48.960Z"
   },
   {
    "duration": 13,
    "start_time": "2023-03-03T16:37:48.978Z"
   },
   {
    "duration": 12,
    "start_time": "2023-03-03T16:37:48.992Z"
   },
   {
    "duration": 161,
    "start_time": "2023-03-03T16:37:49.005Z"
   },
   {
    "duration": 123,
    "start_time": "2023-03-03T16:37:49.168Z"
   },
   {
    "duration": 11,
    "start_time": "2023-03-03T16:37:49.293Z"
   },
   {
    "duration": 192,
    "start_time": "2023-03-03T16:37:49.305Z"
   },
   {
    "duration": 182,
    "start_time": "2023-03-03T16:39:25.679Z"
   },
   {
    "duration": 180,
    "start_time": "2023-03-03T16:42:30.572Z"
   },
   {
    "duration": 177,
    "start_time": "2023-03-03T16:42:39.017Z"
   },
   {
    "duration": 185,
    "start_time": "2023-03-03T16:42:44.116Z"
   },
   {
    "duration": 141,
    "start_time": "2023-03-03T16:49:43.822Z"
   },
   {
    "duration": 3,
    "start_time": "2023-03-03T16:50:43.594Z"
   },
   {
    "duration": 87,
    "start_time": "2023-03-03T16:50:43.599Z"
   },
   {
    "duration": 8,
    "start_time": "2023-03-03T16:50:43.687Z"
   },
   {
    "duration": 13,
    "start_time": "2023-03-03T16:50:43.697Z"
   },
   {
    "duration": 7,
    "start_time": "2023-03-03T16:50:43.712Z"
   },
   {
    "duration": 13,
    "start_time": "2023-03-03T16:50:43.721Z"
   },
   {
    "duration": 11,
    "start_time": "2023-03-03T16:50:43.736Z"
   },
   {
    "duration": 13,
    "start_time": "2023-03-03T16:50:43.748Z"
   },
   {
    "duration": 6,
    "start_time": "2023-03-03T16:50:43.763Z"
   },
   {
    "duration": 5,
    "start_time": "2023-03-03T16:50:43.772Z"
   },
   {
    "duration": 21,
    "start_time": "2023-03-03T16:50:43.778Z"
   },
   {
    "duration": 13,
    "start_time": "2023-03-03T16:50:43.801Z"
   },
   {
    "duration": 9,
    "start_time": "2023-03-03T16:50:43.815Z"
   },
   {
    "duration": 29,
    "start_time": "2023-03-03T16:50:43.826Z"
   },
   {
    "duration": 9,
    "start_time": "2023-03-03T16:50:43.856Z"
   },
   {
    "duration": 18,
    "start_time": "2023-03-03T16:50:43.867Z"
   },
   {
    "duration": 13,
    "start_time": "2023-03-03T16:50:43.887Z"
   },
   {
    "duration": 17,
    "start_time": "2023-03-03T16:50:43.902Z"
   },
   {
    "duration": 22,
    "start_time": "2023-03-03T16:50:43.921Z"
   },
   {
    "duration": 9,
    "start_time": "2023-03-03T16:50:43.946Z"
   },
   {
    "duration": 162,
    "start_time": "2023-03-03T16:50:43.957Z"
   },
   {
    "duration": 146,
    "start_time": "2023-03-03T16:50:44.121Z"
   },
   {
    "duration": 12,
    "start_time": "2023-03-03T16:50:44.268Z"
   },
   {
    "duration": 198,
    "start_time": "2023-03-03T16:50:44.281Z"
   },
   {
    "duration": 199,
    "start_time": "2023-03-03T17:11:03.577Z"
   },
   {
    "duration": 260,
    "start_time": "2023-03-03T17:12:05.034Z"
   },
   {
    "duration": 173,
    "start_time": "2023-03-03T17:12:28.511Z"
   },
   {
    "duration": 185,
    "start_time": "2023-03-03T17:13:17.283Z"
   },
   {
    "duration": 71,
    "start_time": "2023-03-03T17:17:03.405Z"
   },
   {
    "duration": 383,
    "start_time": "2023-03-03T17:17:15.575Z"
   },
   {
    "duration": 187,
    "start_time": "2023-03-03T17:18:11.859Z"
   },
   {
    "duration": 192,
    "start_time": "2023-03-03T17:18:24.035Z"
   },
   {
    "duration": 3,
    "start_time": "2023-03-03T18:13:14.884Z"
   },
   {
    "duration": 75,
    "start_time": "2023-03-03T18:13:14.889Z"
   },
   {
    "duration": 7,
    "start_time": "2023-03-03T18:13:14.966Z"
   },
   {
    "duration": 13,
    "start_time": "2023-03-03T18:13:14.975Z"
   },
   {
    "duration": 7,
    "start_time": "2023-03-03T18:13:14.990Z"
   },
   {
    "duration": 36,
    "start_time": "2023-03-03T18:13:14.999Z"
   },
   {
    "duration": 9,
    "start_time": "2023-03-03T18:13:15.037Z"
   },
   {
    "duration": 15,
    "start_time": "2023-03-03T18:13:15.048Z"
   },
   {
    "duration": 15,
    "start_time": "2023-03-03T18:13:15.065Z"
   },
   {
    "duration": 9,
    "start_time": "2023-03-03T18:13:15.082Z"
   },
   {
    "duration": 6,
    "start_time": "2023-03-03T18:13:15.093Z"
   },
   {
    "duration": 13,
    "start_time": "2023-03-03T18:13:15.100Z"
   },
   {
    "duration": 10,
    "start_time": "2023-03-03T18:13:15.115Z"
   },
   {
    "duration": 26,
    "start_time": "2023-03-03T18:13:15.128Z"
   },
   {
    "duration": 4,
    "start_time": "2023-03-03T18:13:15.156Z"
   },
   {
    "duration": 7,
    "start_time": "2023-03-03T18:13:15.162Z"
   },
   {
    "duration": 10,
    "start_time": "2023-03-03T18:13:15.171Z"
   },
   {
    "duration": 14,
    "start_time": "2023-03-03T18:13:15.183Z"
   },
   {
    "duration": 14,
    "start_time": "2023-03-03T18:13:15.199Z"
   },
   {
    "duration": 6,
    "start_time": "2023-03-03T18:13:15.214Z"
   },
   {
    "duration": 189,
    "start_time": "2023-03-03T18:13:15.222Z"
   },
   {
    "duration": 157,
    "start_time": "2023-03-03T18:13:15.413Z"
   },
   {
    "duration": 16,
    "start_time": "2023-03-03T18:13:15.572Z"
   },
   {
    "duration": 200,
    "start_time": "2023-03-03T18:13:15.591Z"
   },
   {
    "duration": 186,
    "start_time": "2023-03-03T18:13:15.793Z"
   },
   {
    "duration": 10,
    "start_time": "2023-03-03T18:13:45.685Z"
   },
   {
    "duration": 8,
    "start_time": "2023-03-03T18:14:15.752Z"
   },
   {
    "duration": 4,
    "start_time": "2023-03-03T18:14:30.822Z"
   },
   {
    "duration": 3,
    "start_time": "2023-03-03T18:14:38.164Z"
   },
   {
    "duration": 76,
    "start_time": "2023-03-03T18:14:38.169Z"
   },
   {
    "duration": 8,
    "start_time": "2023-03-03T18:14:38.247Z"
   },
   {
    "duration": 22,
    "start_time": "2023-03-03T18:14:38.256Z"
   },
   {
    "duration": 10,
    "start_time": "2023-03-03T18:14:38.280Z"
   },
   {
    "duration": 9,
    "start_time": "2023-03-03T18:14:38.291Z"
   },
   {
    "duration": 10,
    "start_time": "2023-03-03T18:14:38.302Z"
   },
   {
    "duration": 13,
    "start_time": "2023-03-03T18:14:38.314Z"
   },
   {
    "duration": 8,
    "start_time": "2023-03-03T18:14:38.329Z"
   },
   {
    "duration": 5,
    "start_time": "2023-03-03T18:14:38.349Z"
   },
   {
    "duration": 20,
    "start_time": "2023-03-03T18:14:38.355Z"
   },
   {
    "duration": 15,
    "start_time": "2023-03-03T18:14:38.377Z"
   },
   {
    "duration": 8,
    "start_time": "2023-03-03T18:14:38.394Z"
   },
   {
    "duration": 10,
    "start_time": "2023-03-03T18:14:38.405Z"
   },
   {
    "duration": 7,
    "start_time": "2023-03-03T18:14:38.417Z"
   },
   {
    "duration": 10,
    "start_time": "2023-03-03T18:14:38.426Z"
   },
   {
    "duration": 9,
    "start_time": "2023-03-03T18:14:38.448Z"
   },
   {
    "duration": 11,
    "start_time": "2023-03-03T18:14:38.459Z"
   },
   {
    "duration": 18,
    "start_time": "2023-03-03T18:14:38.472Z"
   },
   {
    "duration": 11,
    "start_time": "2023-03-03T18:14:38.492Z"
   },
   {
    "duration": 175,
    "start_time": "2023-03-03T18:14:38.505Z"
   },
   {
    "duration": 125,
    "start_time": "2023-03-03T18:14:38.682Z"
   },
   {
    "duration": 12,
    "start_time": "2023-03-03T18:14:38.808Z"
   },
   {
    "duration": 208,
    "start_time": "2023-03-03T18:14:38.821Z"
   },
   {
    "duration": 194,
    "start_time": "2023-03-03T18:14:39.031Z"
   },
   {
    "duration": 1268,
    "start_time": "2023-03-05T08:17:04.209Z"
   },
   {
    "duration": 186,
    "start_time": "2023-03-05T08:17:05.479Z"
   },
   {
    "duration": 14,
    "start_time": "2023-03-05T08:17:05.666Z"
   },
   {
    "duration": 12,
    "start_time": "2023-03-05T08:17:05.681Z"
   },
   {
    "duration": 6,
    "start_time": "2023-03-05T08:17:05.695Z"
   },
   {
    "duration": 16,
    "start_time": "2023-03-05T08:17:05.702Z"
   },
   {
    "duration": 17,
    "start_time": "2023-03-05T08:17:05.719Z"
   },
   {
    "duration": 14,
    "start_time": "2023-03-05T08:17:05.738Z"
   },
   {
    "duration": 9,
    "start_time": "2023-03-05T08:17:05.753Z"
   },
   {
    "duration": 7,
    "start_time": "2023-03-05T08:17:05.764Z"
   },
   {
    "duration": 22,
    "start_time": "2023-03-05T08:17:05.773Z"
   },
   {
    "duration": 23,
    "start_time": "2023-03-05T08:17:05.797Z"
   },
   {
    "duration": 10,
    "start_time": "2023-03-05T08:17:05.821Z"
   },
   {
    "duration": 31,
    "start_time": "2023-03-05T08:17:05.833Z"
   },
   {
    "duration": 9,
    "start_time": "2023-03-05T08:17:05.866Z"
   },
   {
    "duration": 9,
    "start_time": "2023-03-05T08:17:05.877Z"
   },
   {
    "duration": 33,
    "start_time": "2023-03-05T08:17:05.888Z"
   },
   {
    "duration": 23,
    "start_time": "2023-03-05T08:17:05.923Z"
   },
   {
    "duration": 18,
    "start_time": "2023-03-05T08:17:05.948Z"
   },
   {
    "duration": 22,
    "start_time": "2023-03-05T08:17:05.968Z"
   },
   {
    "duration": 246,
    "start_time": "2023-03-05T08:17:05.992Z"
   },
   {
    "duration": 137,
    "start_time": "2023-03-05T08:17:06.241Z"
   },
   {
    "duration": 12,
    "start_time": "2023-03-05T08:17:06.380Z"
   },
   {
    "duration": 290,
    "start_time": "2023-03-05T08:17:06.394Z"
   },
   {
    "duration": 204,
    "start_time": "2023-03-05T08:17:06.686Z"
   },
   {
    "duration": 359,
    "start_time": "2023-03-05T08:17:06.892Z"
   },
   {
    "duration": 290,
    "start_time": "2023-03-05T08:17:38.878Z"
   },
   {
    "duration": 303,
    "start_time": "2023-03-05T08:17:52.626Z"
   },
   {
    "duration": 291,
    "start_time": "2023-03-05T08:19:02.610Z"
   },
   {
    "duration": 306,
    "start_time": "2023-03-05T08:19:10.918Z"
   },
   {
    "duration": 282,
    "start_time": "2023-03-05T08:21:34.841Z"
   },
   {
    "duration": 367,
    "start_time": "2023-03-05T08:22:48.568Z"
   },
   {
    "duration": 221,
    "start_time": "2023-03-05T08:32:28.213Z"
   },
   {
    "duration": 196,
    "start_time": "2023-03-05T08:32:49.348Z"
   },
   {
    "duration": 275,
    "start_time": "2023-03-05T08:37:56.156Z"
   },
   {
    "duration": 201,
    "start_time": "2023-03-05T08:39:51.947Z"
   },
   {
    "duration": 212,
    "start_time": "2023-03-05T08:47:06.842Z"
   },
   {
    "duration": 280,
    "start_time": "2023-03-05T08:58:46.948Z"
   },
   {
    "duration": 297,
    "start_time": "2023-03-05T09:00:10.825Z"
   },
   {
    "duration": 280,
    "start_time": "2023-03-05T09:00:35.629Z"
   },
   {
    "duration": 55,
    "start_time": "2023-03-05T14:48:55.983Z"
   },
   {
    "duration": 39,
    "start_time": "2023-03-05T14:55:52.328Z"
   },
   {
    "duration": 1172,
    "start_time": "2023-03-05T14:56:01.609Z"
   },
   {
    "duration": 207,
    "start_time": "2023-03-05T14:56:02.783Z"
   },
   {
    "duration": 13,
    "start_time": "2023-03-05T14:56:02.992Z"
   },
   {
    "duration": 17,
    "start_time": "2023-03-05T14:56:03.006Z"
   },
   {
    "duration": 9,
    "start_time": "2023-03-05T14:56:03.026Z"
   },
   {
    "duration": 9,
    "start_time": "2023-03-05T14:56:03.037Z"
   },
   {
    "duration": 12,
    "start_time": "2023-03-05T14:56:03.048Z"
   },
   {
    "duration": 18,
    "start_time": "2023-03-05T14:56:03.062Z"
   },
   {
    "duration": 10,
    "start_time": "2023-03-05T14:56:03.081Z"
   },
   {
    "duration": 5,
    "start_time": "2023-03-05T14:56:03.092Z"
   },
   {
    "duration": 9,
    "start_time": "2023-03-05T14:56:03.098Z"
   },
   {
    "duration": 15,
    "start_time": "2023-03-05T14:56:03.108Z"
   },
   {
    "duration": 19,
    "start_time": "2023-03-05T14:56:03.125Z"
   },
   {
    "duration": 9,
    "start_time": "2023-03-05T14:56:03.147Z"
   },
   {
    "duration": 7,
    "start_time": "2023-03-05T14:56:03.158Z"
   },
   {
    "duration": 6,
    "start_time": "2023-03-05T14:56:03.166Z"
   },
   {
    "duration": 28,
    "start_time": "2023-03-05T14:56:03.173Z"
   },
   {
    "duration": 20,
    "start_time": "2023-03-05T14:56:03.203Z"
   },
   {
    "duration": 16,
    "start_time": "2023-03-05T14:56:03.225Z"
   },
   {
    "duration": 11,
    "start_time": "2023-03-05T14:56:03.242Z"
   },
   {
    "duration": 178,
    "start_time": "2023-03-05T14:56:03.254Z"
   },
   {
    "duration": 131,
    "start_time": "2023-03-05T14:56:03.433Z"
   },
   {
    "duration": 13,
    "start_time": "2023-03-05T14:56:03.566Z"
   },
   {
    "duration": 264,
    "start_time": "2023-03-05T14:56:03.581Z"
   },
   {
    "duration": 176,
    "start_time": "2023-03-05T14:56:03.847Z"
   },
   {
    "duration": 368,
    "start_time": "2023-03-05T14:56:04.024Z"
   },
   {
    "duration": 224,
    "start_time": "2023-03-05T14:56:04.394Z"
   },
   {
    "duration": 288,
    "start_time": "2023-03-05T14:56:04.619Z"
   },
   {
    "duration": 65,
    "start_time": "2023-03-05T14:56:04.908Z"
   },
   {
    "duration": 153,
    "start_time": "2023-03-05T14:56:45.216Z"
   },
   {
    "duration": 3,
    "start_time": "2023-03-05T15:02:07.493Z"
   },
   {
    "duration": 84,
    "start_time": "2023-03-05T15:02:07.497Z"
   },
   {
    "duration": 7,
    "start_time": "2023-03-05T15:02:07.582Z"
   },
   {
    "duration": 11,
    "start_time": "2023-03-05T15:02:07.591Z"
   },
   {
    "duration": 6,
    "start_time": "2023-03-05T15:02:07.603Z"
   },
   {
    "duration": 15,
    "start_time": "2023-03-05T15:02:07.611Z"
   },
   {
    "duration": 8,
    "start_time": "2023-03-05T15:02:07.627Z"
   },
   {
    "duration": 18,
    "start_time": "2023-03-05T15:02:07.637Z"
   },
   {
    "duration": 5,
    "start_time": "2023-03-05T15:02:07.658Z"
   },
   {
    "duration": 4,
    "start_time": "2023-03-05T15:02:07.665Z"
   },
   {
    "duration": 5,
    "start_time": "2023-03-05T15:02:07.671Z"
   },
   {
    "duration": 13,
    "start_time": "2023-03-05T15:02:07.678Z"
   },
   {
    "duration": 11,
    "start_time": "2023-03-05T15:02:07.692Z"
   },
   {
    "duration": 10,
    "start_time": "2023-03-05T15:02:07.704Z"
   },
   {
    "duration": 5,
    "start_time": "2023-03-05T15:02:07.715Z"
   },
   {
    "duration": 18,
    "start_time": "2023-03-05T15:02:07.722Z"
   },
   {
    "duration": 11,
    "start_time": "2023-03-05T15:02:07.742Z"
   },
   {
    "duration": 11,
    "start_time": "2023-03-05T15:02:07.754Z"
   },
   {
    "duration": 11,
    "start_time": "2023-03-05T15:02:07.767Z"
   },
   {
    "duration": 7,
    "start_time": "2023-03-05T15:02:07.779Z"
   },
   {
    "duration": 179,
    "start_time": "2023-03-05T15:02:07.788Z"
   },
   {
    "duration": 120,
    "start_time": "2023-03-05T15:02:07.968Z"
   },
   {
    "duration": 11,
    "start_time": "2023-03-05T15:02:08.090Z"
   },
   {
    "duration": 188,
    "start_time": "2023-03-05T15:02:08.103Z"
   },
   {
    "duration": 240,
    "start_time": "2023-03-05T15:02:08.292Z"
   },
   {
    "duration": 291,
    "start_time": "2023-03-05T15:02:08.533Z"
   },
   {
    "duration": 186,
    "start_time": "2023-03-05T15:02:08.826Z"
   },
   {
    "duration": 293,
    "start_time": "2023-03-05T15:02:09.014Z"
   },
   {
    "duration": 134,
    "start_time": "2023-03-05T15:02:09.308Z"
   },
   {
    "duration": 126,
    "start_time": "2023-03-05T15:04:01.802Z"
   },
   {
    "duration": 121,
    "start_time": "2023-03-05T15:04:44.286Z"
   },
   {
    "duration": 101,
    "start_time": "2023-03-05T15:05:16.324Z"
   },
   {
    "duration": 4,
    "start_time": "2023-03-05T15:08:47.976Z"
   },
   {
    "duration": 128,
    "start_time": "2023-03-05T15:15:14.193Z"
   },
   {
    "duration": 132,
    "start_time": "2023-03-05T15:18:37.259Z"
   },
   {
    "duration": 5,
    "start_time": "2023-03-05T15:21:36.905Z"
   },
   {
    "duration": 73,
    "start_time": "2023-03-05T15:44:53.764Z"
   },
   {
    "duration": 69,
    "start_time": "2023-03-05T15:45:14.105Z"
   },
   {
    "duration": 77,
    "start_time": "2023-03-05T15:46:03.290Z"
   },
   {
    "duration": 72,
    "start_time": "2023-03-05T15:46:09.587Z"
   },
   {
    "duration": 76,
    "start_time": "2023-03-05T15:46:20.720Z"
   },
   {
    "duration": 13,
    "start_time": "2023-03-05T15:54:25.206Z"
   },
   {
    "duration": 4,
    "start_time": "2023-03-05T15:54:38.251Z"
   },
   {
    "duration": 82,
    "start_time": "2023-03-05T15:54:38.257Z"
   },
   {
    "duration": 8,
    "start_time": "2023-03-05T15:54:38.342Z"
   },
   {
    "duration": 14,
    "start_time": "2023-03-05T15:54:38.351Z"
   },
   {
    "duration": 6,
    "start_time": "2023-03-05T15:54:38.368Z"
   },
   {
    "duration": 13,
    "start_time": "2023-03-05T15:54:38.376Z"
   },
   {
    "duration": 12,
    "start_time": "2023-03-05T15:54:38.391Z"
   },
   {
    "duration": 42,
    "start_time": "2023-03-05T15:54:38.405Z"
   },
   {
    "duration": 10,
    "start_time": "2023-03-05T15:54:38.449Z"
   },
   {
    "duration": 9,
    "start_time": "2023-03-05T15:54:38.461Z"
   },
   {
    "duration": 10,
    "start_time": "2023-03-05T15:54:38.473Z"
   },
   {
    "duration": 13,
    "start_time": "2023-03-05T15:54:38.484Z"
   },
   {
    "duration": 9,
    "start_time": "2023-03-05T15:54:38.499Z"
   },
   {
    "duration": 35,
    "start_time": "2023-03-05T15:54:38.510Z"
   },
   {
    "duration": 8,
    "start_time": "2023-03-05T15:54:38.546Z"
   },
   {
    "duration": 7,
    "start_time": "2023-03-05T15:54:38.556Z"
   },
   {
    "duration": 12,
    "start_time": "2023-03-05T15:54:38.565Z"
   },
   {
    "duration": 16,
    "start_time": "2023-03-05T15:54:38.579Z"
   },
   {
    "duration": 11,
    "start_time": "2023-03-05T15:54:38.597Z"
   },
   {
    "duration": 35,
    "start_time": "2023-03-05T15:54:38.610Z"
   },
   {
    "duration": 188,
    "start_time": "2023-03-05T15:54:38.647Z"
   },
   {
    "duration": 168,
    "start_time": "2023-03-05T15:54:38.837Z"
   },
   {
    "duration": 18,
    "start_time": "2023-03-05T15:54:39.007Z"
   },
   {
    "duration": 262,
    "start_time": "2023-03-05T15:54:39.027Z"
   },
   {
    "duration": 286,
    "start_time": "2023-03-05T15:54:39.291Z"
   },
   {
    "duration": 277,
    "start_time": "2023-03-05T15:54:39.579Z"
   },
   {
    "duration": 207,
    "start_time": "2023-03-05T15:54:39.857Z"
   },
   {
    "duration": 295,
    "start_time": "2023-03-05T15:54:40.066Z"
   },
   {
    "duration": 136,
    "start_time": "2023-03-05T15:54:40.364Z"
   },
   {
    "duration": 129,
    "start_time": "2023-03-05T15:54:40.502Z"
   },
   {
    "duration": 8,
    "start_time": "2023-03-05T15:54:40.633Z"
   },
   {
    "duration": 135,
    "start_time": "2023-03-05T15:54:40.642Z"
   },
   {
    "duration": 148,
    "start_time": "2023-03-05T15:54:40.779Z"
   },
   {
    "duration": 4,
    "start_time": "2023-03-05T15:54:40.929Z"
   },
   {
    "duration": 82,
    "start_time": "2023-03-05T15:54:40.940Z"
   },
   {
    "duration": 118,
    "start_time": "2023-03-05T15:54:41.023Z"
   },
   {
    "duration": 684,
    "start_time": "2023-03-05T15:54:41.143Z"
   },
   {
    "duration": 11,
    "start_time": "2023-03-05T15:55:53.571Z"
   },
   {
    "duration": 4,
    "start_time": "2023-03-05T15:58:46.383Z"
   },
   {
    "duration": 90,
    "start_time": "2023-03-05T15:58:46.389Z"
   },
   {
    "duration": 8,
    "start_time": "2023-03-05T15:58:46.480Z"
   },
   {
    "duration": 14,
    "start_time": "2023-03-05T15:58:46.490Z"
   },
   {
    "duration": 14,
    "start_time": "2023-03-05T15:58:46.507Z"
   },
   {
    "duration": 25,
    "start_time": "2023-03-05T15:58:46.523Z"
   },
   {
    "duration": 12,
    "start_time": "2023-03-05T15:58:46.550Z"
   },
   {
    "duration": 20,
    "start_time": "2023-03-05T15:58:46.564Z"
   },
   {
    "duration": 8,
    "start_time": "2023-03-05T15:58:46.587Z"
   },
   {
    "duration": 9,
    "start_time": "2023-03-05T15:58:46.597Z"
   },
   {
    "duration": 9,
    "start_time": "2023-03-05T15:58:46.608Z"
   },
   {
    "duration": 27,
    "start_time": "2023-03-05T15:58:46.619Z"
   },
   {
    "duration": 6,
    "start_time": "2023-03-05T15:58:46.648Z"
   },
   {
    "duration": 9,
    "start_time": "2023-03-05T15:58:46.658Z"
   },
   {
    "duration": 6,
    "start_time": "2023-03-05T15:58:46.668Z"
   },
   {
    "duration": 4,
    "start_time": "2023-03-05T15:58:46.676Z"
   },
   {
    "duration": 15,
    "start_time": "2023-03-05T15:58:46.682Z"
   },
   {
    "duration": 12,
    "start_time": "2023-03-05T15:58:46.698Z"
   },
   {
    "duration": 38,
    "start_time": "2023-03-05T15:58:46.711Z"
   },
   {
    "duration": 7,
    "start_time": "2023-03-05T15:58:46.751Z"
   },
   {
    "duration": 182,
    "start_time": "2023-03-05T15:58:46.759Z"
   },
   {
    "duration": 133,
    "start_time": "2023-03-05T15:58:46.943Z"
   },
   {
    "duration": 12,
    "start_time": "2023-03-05T15:58:47.078Z"
   },
   {
    "duration": 207,
    "start_time": "2023-03-05T15:58:47.092Z"
   },
   {
    "duration": 190,
    "start_time": "2023-03-05T15:58:47.300Z"
   },
   {
    "duration": 393,
    "start_time": "2023-03-05T15:58:47.491Z"
   },
   {
    "duration": 196,
    "start_time": "2023-03-05T15:58:47.886Z"
   },
   {
    "duration": 261,
    "start_time": "2023-03-05T15:58:48.083Z"
   },
   {
    "duration": 130,
    "start_time": "2023-03-05T15:58:48.345Z"
   },
   {
    "duration": 112,
    "start_time": "2023-03-05T15:58:48.476Z"
   },
   {
    "duration": 4,
    "start_time": "2023-03-05T15:58:48.589Z"
   },
   {
    "duration": 151,
    "start_time": "2023-03-05T15:58:48.595Z"
   },
   {
    "duration": 145,
    "start_time": "2023-03-05T15:58:48.748Z"
   },
   {
    "duration": 5,
    "start_time": "2023-03-05T15:58:48.895Z"
   },
   {
    "duration": 71,
    "start_time": "2023-03-05T15:58:48.901Z"
   },
   {
    "duration": 82,
    "start_time": "2023-03-05T15:58:48.973Z"
   },
   {
    "duration": 9,
    "start_time": "2023-03-05T15:58:49.057Z"
   },
   {
    "duration": 3,
    "start_time": "2023-03-05T16:00:54.196Z"
   },
   {
    "duration": 81,
    "start_time": "2023-03-05T16:00:54.201Z"
   },
   {
    "duration": 8,
    "start_time": "2023-03-05T16:00:54.283Z"
   },
   {
    "duration": 12,
    "start_time": "2023-03-05T16:00:54.292Z"
   },
   {
    "duration": 11,
    "start_time": "2023-03-05T16:00:54.306Z"
   },
   {
    "duration": 11,
    "start_time": "2023-03-05T16:00:54.318Z"
   },
   {
    "duration": 13,
    "start_time": "2023-03-05T16:00:54.331Z"
   },
   {
    "duration": 14,
    "start_time": "2023-03-05T16:00:54.346Z"
   },
   {
    "duration": 7,
    "start_time": "2023-03-05T16:00:54.362Z"
   },
   {
    "duration": 6,
    "start_time": "2023-03-05T16:00:54.371Z"
   },
   {
    "duration": 17,
    "start_time": "2023-03-05T16:00:54.379Z"
   },
   {
    "duration": 15,
    "start_time": "2023-03-05T16:00:54.398Z"
   },
   {
    "duration": 28,
    "start_time": "2023-03-05T16:00:54.416Z"
   },
   {
    "duration": 13,
    "start_time": "2023-03-05T16:00:54.448Z"
   },
   {
    "duration": 6,
    "start_time": "2023-03-05T16:00:54.463Z"
   },
   {
    "duration": 7,
    "start_time": "2023-03-05T16:00:54.470Z"
   },
   {
    "duration": 15,
    "start_time": "2023-03-05T16:00:54.479Z"
   },
   {
    "duration": 15,
    "start_time": "2023-03-05T16:00:54.496Z"
   },
   {
    "duration": 33,
    "start_time": "2023-03-05T16:00:54.513Z"
   },
   {
    "duration": 6,
    "start_time": "2023-03-05T16:00:54.548Z"
   },
   {
    "duration": 171,
    "start_time": "2023-03-05T16:00:54.555Z"
   },
   {
    "duration": 135,
    "start_time": "2023-03-05T16:00:54.727Z"
   },
   {
    "duration": 13,
    "start_time": "2023-03-05T16:00:54.864Z"
   },
   {
    "duration": 190,
    "start_time": "2023-03-05T16:00:54.879Z"
   },
   {
    "duration": 192,
    "start_time": "2023-03-05T16:00:55.071Z"
   },
   {
    "duration": 301,
    "start_time": "2023-03-05T16:00:55.265Z"
   },
   {
    "duration": 280,
    "start_time": "2023-03-05T16:00:55.568Z"
   },
   {
    "duration": 266,
    "start_time": "2023-03-05T16:00:55.850Z"
   },
   {
    "duration": 134,
    "start_time": "2023-03-05T16:00:56.117Z"
   },
   {
    "duration": 116,
    "start_time": "2023-03-05T16:00:56.252Z"
   },
   {
    "duration": 6,
    "start_time": "2023-03-05T16:00:56.369Z"
   },
   {
    "duration": 150,
    "start_time": "2023-03-05T16:00:56.376Z"
   },
   {
    "duration": 156,
    "start_time": "2023-03-05T16:00:56.527Z"
   },
   {
    "duration": 5,
    "start_time": "2023-03-05T16:00:56.684Z"
   },
   {
    "duration": 82,
    "start_time": "2023-03-05T16:00:56.691Z"
   },
   {
    "duration": 105,
    "start_time": "2023-03-05T16:00:56.774Z"
   },
   {
    "duration": 241,
    "start_time": "2023-03-05T16:00:56.880Z"
   },
   {
    "duration": 6,
    "start_time": "2023-03-05T16:00:57.122Z"
   },
   {
    "duration": 5,
    "start_time": "2023-03-05T16:01:38.571Z"
   },
   {
    "duration": 5,
    "start_time": "2023-03-05T16:01:47.058Z"
   },
   {
    "duration": 8,
    "start_time": "2023-03-05T16:07:57.456Z"
   },
   {
    "duration": 9,
    "start_time": "2023-03-05T16:08:24.618Z"
   },
   {
    "duration": 9,
    "start_time": "2023-03-05T16:09:42.264Z"
   },
   {
    "duration": 8,
    "start_time": "2023-03-05T16:10:25.920Z"
   },
   {
    "duration": 20,
    "start_time": "2023-03-05T16:10:50.354Z"
   },
   {
    "duration": 45,
    "start_time": "2023-03-05T16:11:24.899Z"
   },
   {
    "duration": 48,
    "start_time": "2023-03-05T16:12:59.323Z"
   },
   {
    "duration": 18,
    "start_time": "2023-03-05T16:14:12.732Z"
   },
   {
    "duration": 19,
    "start_time": "2023-03-05T16:15:09.737Z"
   },
   {
    "duration": 51,
    "start_time": "2023-03-05T16:16:33.506Z"
   },
   {
    "duration": 76,
    "start_time": "2023-03-05T16:17:50.661Z"
   },
   {
    "duration": 32,
    "start_time": "2023-03-05T16:18:57.013Z"
   },
   {
    "duration": 141,
    "start_time": "2023-03-05T16:21:47.913Z"
   },
   {
    "duration": 101,
    "start_time": "2023-03-05T16:22:21.875Z"
   },
   {
    "duration": 8,
    "start_time": "2023-03-05T16:23:25.258Z"
   },
   {
    "duration": 5,
    "start_time": "2023-03-05T16:23:46.412Z"
   },
   {
    "duration": 6,
    "start_time": "2023-03-05T16:23:53.676Z"
   },
   {
    "duration": 7,
    "start_time": "2023-03-05T16:27:24.825Z"
   },
   {
    "duration": 5,
    "start_time": "2023-03-05T16:28:22.882Z"
   },
   {
    "duration": 98,
    "start_time": "2023-03-05T16:28:22.890Z"
   },
   {
    "duration": 12,
    "start_time": "2023-03-05T16:28:22.990Z"
   },
   {
    "duration": 27,
    "start_time": "2023-03-05T16:28:23.004Z"
   },
   {
    "duration": 10,
    "start_time": "2023-03-05T16:28:23.033Z"
   },
   {
    "duration": 17,
    "start_time": "2023-03-05T16:28:23.045Z"
   },
   {
    "duration": 12,
    "start_time": "2023-03-05T16:28:23.064Z"
   },
   {
    "duration": 32,
    "start_time": "2023-03-05T16:28:23.078Z"
   },
   {
    "duration": 15,
    "start_time": "2023-03-05T16:28:23.112Z"
   },
   {
    "duration": 5,
    "start_time": "2023-03-05T16:28:23.129Z"
   },
   {
    "duration": 15,
    "start_time": "2023-03-05T16:28:23.136Z"
   },
   {
    "duration": 25,
    "start_time": "2023-03-05T16:28:23.153Z"
   },
   {
    "duration": 19,
    "start_time": "2023-03-05T16:28:23.180Z"
   },
   {
    "duration": 13,
    "start_time": "2023-03-05T16:28:23.202Z"
   },
   {
    "duration": 10,
    "start_time": "2023-03-05T16:28:23.217Z"
   },
   {
    "duration": 46,
    "start_time": "2023-03-05T16:28:23.243Z"
   },
   {
    "duration": 26,
    "start_time": "2023-03-05T16:28:23.291Z"
   },
   {
    "duration": 16,
    "start_time": "2023-03-05T16:28:23.319Z"
   },
   {
    "duration": 22,
    "start_time": "2023-03-05T16:28:23.337Z"
   },
   {
    "duration": 17,
    "start_time": "2023-03-05T16:28:23.361Z"
   },
   {
    "duration": 183,
    "start_time": "2023-03-05T16:28:23.381Z"
   },
   {
    "duration": 150,
    "start_time": "2023-03-05T16:28:23.566Z"
   },
   {
    "duration": 29,
    "start_time": "2023-03-05T16:28:23.717Z"
   },
   {
    "duration": 201,
    "start_time": "2023-03-05T16:28:23.748Z"
   },
   {
    "duration": 182,
    "start_time": "2023-03-05T16:28:23.951Z"
   },
   {
    "duration": 348,
    "start_time": "2023-03-05T16:28:24.135Z"
   },
   {
    "duration": 232,
    "start_time": "2023-03-05T16:28:24.485Z"
   },
   {
    "duration": 358,
    "start_time": "2023-03-05T16:28:24.719Z"
   },
   {
    "duration": 139,
    "start_time": "2023-03-05T16:28:25.078Z"
   },
   {
    "duration": 118,
    "start_time": "2023-03-05T16:28:25.219Z"
   },
   {
    "duration": 5,
    "start_time": "2023-03-05T16:28:25.339Z"
   },
   {
    "duration": 153,
    "start_time": "2023-03-05T16:28:25.345Z"
   },
   {
    "duration": 156,
    "start_time": "2023-03-05T16:28:25.499Z"
   },
   {
    "duration": 5,
    "start_time": "2023-03-05T16:28:25.656Z"
   },
   {
    "duration": 21,
    "start_time": "2023-03-05T16:28:25.663Z"
   },
   {
    "duration": 13,
    "start_time": "2023-03-05T16:28:25.686Z"
   },
   {
    "duration": 54,
    "start_time": "2023-03-05T16:28:25.700Z"
   },
   {
    "duration": 47,
    "start_time": "2023-03-05T16:28:25.756Z"
   },
   {
    "duration": 27,
    "start_time": "2023-03-05T16:28:25.805Z"
   },
   {
    "duration": 27,
    "start_time": "2023-03-05T16:28:25.840Z"
   },
   {
    "duration": 65,
    "start_time": "2023-03-05T16:28:25.871Z"
   },
   {
    "duration": 53,
    "start_time": "2023-03-05T16:28:25.939Z"
   },
   {
    "duration": 27,
    "start_time": "2023-03-05T16:28:25.994Z"
   },
   {
    "duration": 93,
    "start_time": "2023-03-05T16:28:26.022Z"
   },
   {
    "duration": 99,
    "start_time": "2023-03-05T16:28:26.117Z"
   },
   {
    "duration": 23,
    "start_time": "2023-03-05T16:28:26.217Z"
   },
   {
    "duration": 10,
    "start_time": "2023-03-05T16:28:26.242Z"
   },
   {
    "duration": 8,
    "start_time": "2023-03-05T16:28:26.253Z"
   },
   {
    "duration": 10,
    "start_time": "2023-03-05T16:28:26.262Z"
   },
   {
    "duration": 19,
    "start_time": "2023-03-05T16:28:37.282Z"
   },
   {
    "duration": 11,
    "start_time": "2023-03-05T16:31:24.979Z"
   },
   {
    "duration": 4,
    "start_time": "2023-03-05T16:31:40.695Z"
   },
   {
    "duration": 42,
    "start_time": "2023-03-06T16:57:49.770Z"
   },
   {
    "duration": 6,
    "start_time": "2023-03-06T16:58:08.555Z"
   },
   {
    "duration": 1200,
    "start_time": "2023-03-06T16:58:11.971Z"
   },
   {
    "duration": 248,
    "start_time": "2023-03-06T16:58:13.173Z"
   },
   {
    "duration": 11,
    "start_time": "2023-03-06T16:58:13.422Z"
   },
   {
    "duration": 10,
    "start_time": "2023-03-06T16:58:13.435Z"
   },
   {
    "duration": 5,
    "start_time": "2023-03-06T16:58:13.446Z"
   },
   {
    "duration": 8,
    "start_time": "2023-03-06T16:58:13.452Z"
   },
   {
    "duration": 7,
    "start_time": "2023-03-06T16:58:13.462Z"
   },
   {
    "duration": 12,
    "start_time": "2023-03-06T16:58:13.470Z"
   },
   {
    "duration": 7,
    "start_time": "2023-03-06T16:58:13.483Z"
   },
   {
    "duration": 5,
    "start_time": "2023-03-06T16:58:13.491Z"
   },
   {
    "duration": 7,
    "start_time": "2023-03-06T16:58:13.497Z"
   },
   {
    "duration": 34,
    "start_time": "2023-03-06T16:58:13.505Z"
   },
   {
    "duration": 10,
    "start_time": "2023-03-06T16:58:13.540Z"
   },
   {
    "duration": 13,
    "start_time": "2023-03-06T16:58:13.552Z"
   },
   {
    "duration": 7,
    "start_time": "2023-03-06T16:58:13.566Z"
   },
   {
    "duration": 4,
    "start_time": "2023-03-06T16:58:13.575Z"
   },
   {
    "duration": 11,
    "start_time": "2023-03-06T16:58:13.580Z"
   },
   {
    "duration": 12,
    "start_time": "2023-03-06T16:58:13.592Z"
   },
   {
    "duration": 29,
    "start_time": "2023-03-06T16:58:13.605Z"
   },
   {
    "duration": 20,
    "start_time": "2023-03-06T16:58:13.635Z"
   },
   {
    "duration": 153,
    "start_time": "2023-03-06T16:58:13.657Z"
   },
   {
    "duration": 131,
    "start_time": "2023-03-06T16:58:13.811Z"
   },
   {
    "duration": 11,
    "start_time": "2023-03-06T16:58:13.944Z"
   },
   {
    "duration": 248,
    "start_time": "2023-03-06T16:58:13.956Z"
   },
   {
    "duration": 188,
    "start_time": "2023-03-06T16:58:14.205Z"
   },
   {
    "duration": 347,
    "start_time": "2023-03-06T16:58:14.394Z"
   },
   {
    "duration": 214,
    "start_time": "2023-03-06T16:58:14.742Z"
   },
   {
    "duration": 267,
    "start_time": "2023-03-06T16:58:14.958Z"
   },
   {
    "duration": 136,
    "start_time": "2023-03-06T16:58:15.230Z"
   },
   {
    "duration": 118,
    "start_time": "2023-03-06T16:58:15.368Z"
   },
   {
    "duration": 5,
    "start_time": "2023-03-06T16:58:15.487Z"
   },
   {
    "duration": 230,
    "start_time": "2023-03-06T16:58:15.493Z"
   },
   {
    "duration": 145,
    "start_time": "2023-03-06T16:58:15.724Z"
   },
   {
    "duration": 8,
    "start_time": "2023-03-06T16:58:15.871Z"
   },
   {
    "duration": 36,
    "start_time": "2023-03-06T16:58:15.881Z"
   },
   {
    "duration": 22,
    "start_time": "2023-03-06T16:58:15.920Z"
   },
   {
    "duration": 63,
    "start_time": "2023-03-06T16:58:15.944Z"
   },
   {
    "duration": 72,
    "start_time": "2023-03-06T16:58:16.009Z"
   },
   {
    "duration": 28,
    "start_time": "2023-03-06T16:58:16.083Z"
   },
   {
    "duration": 32,
    "start_time": "2023-03-06T16:58:16.113Z"
   },
   {
    "duration": 54,
    "start_time": "2023-03-06T16:58:16.148Z"
   },
   {
    "duration": 66,
    "start_time": "2023-03-06T16:58:16.204Z"
   },
   {
    "duration": 33,
    "start_time": "2023-03-06T16:58:16.271Z"
   },
   {
    "duration": 90,
    "start_time": "2023-03-06T16:58:16.306Z"
   },
   {
    "duration": 82,
    "start_time": "2023-03-06T16:58:16.398Z"
   },
   {
    "duration": 6,
    "start_time": "2023-03-06T16:58:16.482Z"
   },
   {
    "duration": 7,
    "start_time": "2023-03-06T16:58:16.489Z"
   },
   {
    "duration": 6,
    "start_time": "2023-03-06T16:58:16.498Z"
   },
   {
    "duration": 36,
    "start_time": "2023-03-06T16:58:16.505Z"
   },
   {
    "duration": 4,
    "start_time": "2023-03-06T16:58:16.543Z"
   },
   {
    "duration": 13,
    "start_time": "2023-03-06T16:58:16.548Z"
   },
   {
    "duration": 13,
    "start_time": "2023-03-06T16:58:53.139Z"
   },
   {
    "duration": 8,
    "start_time": "2023-03-06T17:07:14.982Z"
   },
   {
    "duration": 7,
    "start_time": "2023-03-06T17:07:36.167Z"
   },
   {
    "duration": 7,
    "start_time": "2023-03-06T17:08:03.787Z"
   },
   {
    "duration": 8,
    "start_time": "2023-03-06T17:15:54.393Z"
   },
   {
    "duration": 7,
    "start_time": "2023-03-06T17:16:20.934Z"
   },
   {
    "duration": 9,
    "start_time": "2023-03-06T17:17:02.279Z"
   },
   {
    "duration": 24,
    "start_time": "2023-03-06T17:21:45.767Z"
   },
   {
    "duration": 11,
    "start_time": "2023-03-06T17:29:38.144Z"
   },
   {
    "duration": 9,
    "start_time": "2023-03-06T17:30:01.047Z"
   },
   {
    "duration": 1402,
    "start_time": "2023-03-06T17:35:11.086Z"
   },
   {
    "duration": 3,
    "start_time": "2023-03-06T17:40:28.754Z"
   },
   {
    "duration": 95,
    "start_time": "2023-03-06T17:40:28.760Z"
   },
   {
    "duration": 7,
    "start_time": "2023-03-06T17:40:28.857Z"
   },
   {
    "duration": 12,
    "start_time": "2023-03-06T17:40:28.866Z"
   },
   {
    "duration": 4,
    "start_time": "2023-03-06T17:40:28.881Z"
   },
   {
    "duration": 9,
    "start_time": "2023-03-06T17:40:28.886Z"
   },
   {
    "duration": 16,
    "start_time": "2023-03-06T17:40:28.897Z"
   },
   {
    "duration": 25,
    "start_time": "2023-03-06T17:40:28.914Z"
   },
   {
    "duration": 10,
    "start_time": "2023-03-06T17:40:28.941Z"
   },
   {
    "duration": 7,
    "start_time": "2023-03-06T17:40:28.953Z"
   },
   {
    "duration": 7,
    "start_time": "2023-03-06T17:40:28.961Z"
   },
   {
    "duration": 15,
    "start_time": "2023-03-06T17:40:28.969Z"
   },
   {
    "duration": 11,
    "start_time": "2023-03-06T17:40:28.985Z"
   },
   {
    "duration": 14,
    "start_time": "2023-03-06T17:40:28.999Z"
   },
   {
    "duration": 14,
    "start_time": "2023-03-06T17:40:29.015Z"
   },
   {
    "duration": 16,
    "start_time": "2023-03-06T17:40:29.035Z"
   },
   {
    "duration": 13,
    "start_time": "2023-03-06T17:40:29.052Z"
   },
   {
    "duration": 12,
    "start_time": "2023-03-06T17:40:29.067Z"
   },
   {
    "duration": 12,
    "start_time": "2023-03-06T17:40:29.080Z"
   },
   {
    "duration": 10,
    "start_time": "2023-03-06T17:40:29.094Z"
   },
   {
    "duration": 174,
    "start_time": "2023-03-06T17:40:29.105Z"
   },
   {
    "duration": 152,
    "start_time": "2023-03-06T17:40:29.281Z"
   },
   {
    "duration": 31,
    "start_time": "2023-03-06T17:40:29.435Z"
   },
   {
    "duration": 194,
    "start_time": "2023-03-06T17:40:29.468Z"
   },
   {
    "duration": 183,
    "start_time": "2023-03-06T17:40:29.663Z"
   },
   {
    "duration": 299,
    "start_time": "2023-03-06T17:40:29.848Z"
   },
   {
    "duration": 203,
    "start_time": "2023-03-06T17:40:30.148Z"
   },
   {
    "duration": 289,
    "start_time": "2023-03-06T17:40:30.354Z"
   },
   {
    "duration": 142,
    "start_time": "2023-03-06T17:40:30.645Z"
   },
   {
    "duration": 134,
    "start_time": "2023-03-06T17:40:30.789Z"
   },
   {
    "duration": 22,
    "start_time": "2023-03-06T17:40:30.925Z"
   },
   {
    "duration": 170,
    "start_time": "2023-03-06T17:40:30.948Z"
   },
   {
    "duration": 260,
    "start_time": "2023-03-06T17:40:31.120Z"
   },
   {
    "duration": 5,
    "start_time": "2023-03-06T17:40:31.382Z"
   },
   {
    "duration": 27,
    "start_time": "2023-03-06T17:40:31.388Z"
   },
   {
    "duration": 30,
    "start_time": "2023-03-06T17:40:31.417Z"
   },
   {
    "duration": 66,
    "start_time": "2023-03-06T17:40:31.449Z"
   },
   {
    "duration": 61,
    "start_time": "2023-03-06T17:40:31.517Z"
   },
   {
    "duration": 38,
    "start_time": "2023-03-06T17:40:31.580Z"
   },
   {
    "duration": 39,
    "start_time": "2023-03-06T17:40:31.620Z"
   },
   {
    "duration": 82,
    "start_time": "2023-03-06T17:40:31.664Z"
   },
   {
    "duration": 102,
    "start_time": "2023-03-06T17:40:31.748Z"
   },
   {
    "duration": 53,
    "start_time": "2023-03-06T17:40:31.852Z"
   },
   {
    "duration": 118,
    "start_time": "2023-03-06T17:40:31.907Z"
   },
   {
    "duration": 86,
    "start_time": "2023-03-06T17:40:32.027Z"
   },
   {
    "duration": 7,
    "start_time": "2023-03-06T17:40:32.115Z"
   },
   {
    "duration": 59,
    "start_time": "2023-03-06T17:40:32.124Z"
   },
   {
    "duration": 19,
    "start_time": "2023-03-06T17:40:32.184Z"
   },
   {
    "duration": 40,
    "start_time": "2023-03-06T17:40:32.205Z"
   },
   {
    "duration": 5,
    "start_time": "2023-03-06T17:40:32.247Z"
   },
   {
    "duration": 15,
    "start_time": "2023-03-06T17:40:32.254Z"
   },
   {
    "duration": 9,
    "start_time": "2023-03-06T17:40:32.272Z"
   },
   {
    "duration": 13,
    "start_time": "2023-03-06T17:40:32.283Z"
   },
   {
    "duration": 35,
    "start_time": "2023-03-06T17:40:32.298Z"
   },
   {
    "duration": 18,
    "start_time": "2023-03-06T17:40:32.335Z"
   },
   {
    "duration": 18,
    "start_time": "2023-03-06T17:40:32.355Z"
   },
   {
    "duration": 45,
    "start_time": "2023-03-06T17:40:32.375Z"
   },
   {
    "duration": 19,
    "start_time": "2023-03-06T17:40:32.422Z"
   },
   {
    "duration": 14,
    "start_time": "2023-03-06T17:40:32.443Z"
   },
   {
    "duration": 1352,
    "start_time": "2023-03-07T05:48:55.169Z"
   },
   {
    "duration": 222,
    "start_time": "2023-03-07T05:48:56.523Z"
   },
   {
    "duration": 16,
    "start_time": "2023-03-07T05:48:56.747Z"
   },
   {
    "duration": 14,
    "start_time": "2023-03-07T05:48:56.764Z"
   },
   {
    "duration": 8,
    "start_time": "2023-03-07T05:48:56.781Z"
   },
   {
    "duration": 14,
    "start_time": "2023-03-07T05:48:56.791Z"
   },
   {
    "duration": 24,
    "start_time": "2023-03-07T05:48:56.807Z"
   },
   {
    "duration": 27,
    "start_time": "2023-03-07T05:48:56.834Z"
   },
   {
    "duration": 7,
    "start_time": "2023-03-07T05:48:56.862Z"
   },
   {
    "duration": 6,
    "start_time": "2023-03-07T05:48:56.871Z"
   },
   {
    "duration": 11,
    "start_time": "2023-03-07T05:48:56.878Z"
   },
   {
    "duration": 22,
    "start_time": "2023-03-07T05:48:56.891Z"
   },
   {
    "duration": 13,
    "start_time": "2023-03-07T05:48:56.930Z"
   },
   {
    "duration": 22,
    "start_time": "2023-03-07T05:48:56.947Z"
   },
   {
    "duration": 6,
    "start_time": "2023-03-07T05:48:56.971Z"
   },
   {
    "duration": 7,
    "start_time": "2023-03-07T05:48:56.979Z"
   },
   {
    "duration": 14,
    "start_time": "2023-03-07T05:48:56.988Z"
   },
   {
    "duration": 30,
    "start_time": "2023-03-07T05:48:57.005Z"
   },
   {
    "duration": 14,
    "start_time": "2023-03-07T05:48:57.037Z"
   },
   {
    "duration": 15,
    "start_time": "2023-03-07T05:48:57.053Z"
   },
   {
    "duration": 179,
    "start_time": "2023-03-07T05:48:57.070Z"
   },
   {
    "duration": 128,
    "start_time": "2023-03-07T05:48:57.251Z"
   },
   {
    "duration": 12,
    "start_time": "2023-03-07T05:48:57.380Z"
   },
   {
    "duration": 289,
    "start_time": "2023-03-07T05:48:57.394Z"
   },
   {
    "duration": 206,
    "start_time": "2023-03-07T05:48:57.685Z"
   },
   {
    "duration": 356,
    "start_time": "2023-03-07T05:48:57.893Z"
   },
   {
    "duration": 211,
    "start_time": "2023-03-07T05:48:58.251Z"
   },
   {
    "duration": 305,
    "start_time": "2023-03-07T05:48:58.464Z"
   },
   {
    "duration": 154,
    "start_time": "2023-03-07T05:48:58.772Z"
   },
   {
    "duration": 143,
    "start_time": "2023-03-07T05:48:58.931Z"
   },
   {
    "duration": 6,
    "start_time": "2023-03-07T05:48:59.075Z"
   },
   {
    "duration": 171,
    "start_time": "2023-03-07T05:48:59.082Z"
   },
   {
    "duration": 275,
    "start_time": "2023-03-07T05:48:59.255Z"
   },
   {
    "duration": 6,
    "start_time": "2023-03-07T05:48:59.533Z"
   },
   {
    "duration": 19,
    "start_time": "2023-03-07T05:48:59.542Z"
   },
   {
    "duration": 11,
    "start_time": "2023-03-07T05:48:59.563Z"
   },
   {
    "duration": 87,
    "start_time": "2023-03-07T05:48:59.576Z"
   },
   {
    "duration": 67,
    "start_time": "2023-03-07T05:48:59.665Z"
   },
   {
    "duration": 37,
    "start_time": "2023-03-07T05:48:59.734Z"
   },
   {
    "duration": 24,
    "start_time": "2023-03-07T05:48:59.773Z"
   },
   {
    "duration": 68,
    "start_time": "2023-03-07T05:48:59.801Z"
   },
   {
    "duration": 70,
    "start_time": "2023-03-07T05:48:59.871Z"
   },
   {
    "duration": 30,
    "start_time": "2023-03-07T05:48:59.943Z"
   },
   {
    "duration": 96,
    "start_time": "2023-03-07T05:48:59.976Z"
   },
   {
    "duration": 88,
    "start_time": "2023-03-07T05:49:00.074Z"
   },
   {
    "duration": 6,
    "start_time": "2023-03-07T05:49:00.164Z"
   },
   {
    "duration": 18,
    "start_time": "2023-03-07T05:49:00.171Z"
   },
   {
    "duration": 20,
    "start_time": "2023-03-07T05:49:00.191Z"
   },
   {
    "duration": 65,
    "start_time": "2023-03-07T05:49:00.213Z"
   },
   {
    "duration": 4,
    "start_time": "2023-03-07T05:49:00.279Z"
   },
   {
    "duration": 26,
    "start_time": "2023-03-07T05:49:00.285Z"
   },
   {
    "duration": 36,
    "start_time": "2023-03-07T05:49:00.312Z"
   },
   {
    "duration": 29,
    "start_time": "2023-03-07T05:49:00.350Z"
   },
   {
    "duration": 19,
    "start_time": "2023-03-07T05:49:00.381Z"
   },
   {
    "duration": 22,
    "start_time": "2023-03-07T05:49:00.402Z"
   },
   {
    "duration": 56,
    "start_time": "2023-03-07T05:49:00.425Z"
   },
   {
    "duration": 30,
    "start_time": "2023-03-07T05:49:00.483Z"
   },
   {
    "duration": 11,
    "start_time": "2023-03-07T05:49:00.516Z"
   },
   {
    "duration": 50,
    "start_time": "2023-03-07T05:49:00.528Z"
   },
   {
    "duration": 196,
    "start_time": "2023-03-07T05:59:29.717Z"
   },
   {
    "duration": 189,
    "start_time": "2023-03-07T06:01:23.664Z"
   },
   {
    "duration": 181,
    "start_time": "2023-03-07T06:01:52.301Z"
   },
   {
    "duration": 85,
    "start_time": "2023-03-07T06:22:00.307Z"
   },
   {
    "duration": 360,
    "start_time": "2023-03-07T06:28:35.633Z"
   },
   {
    "duration": 302,
    "start_time": "2023-03-07T06:29:06.938Z"
   },
   {
    "duration": 77,
    "start_time": "2023-03-07T06:38:06.518Z"
   },
   {
    "duration": 3,
    "start_time": "2023-03-07T06:39:22.600Z"
   },
   {
    "duration": 90,
    "start_time": "2023-03-07T06:39:22.605Z"
   },
   {
    "duration": 8,
    "start_time": "2023-03-07T06:39:22.697Z"
   },
   {
    "duration": 17,
    "start_time": "2023-03-07T06:39:22.706Z"
   },
   {
    "duration": 8,
    "start_time": "2023-03-07T06:39:22.725Z"
   },
   {
    "duration": 15,
    "start_time": "2023-03-07T06:39:22.734Z"
   },
   {
    "duration": 13,
    "start_time": "2023-03-07T06:39:22.752Z"
   },
   {
    "duration": 12,
    "start_time": "2023-03-07T06:39:22.767Z"
   },
   {
    "duration": 8,
    "start_time": "2023-03-07T06:39:22.781Z"
   },
   {
    "duration": 22,
    "start_time": "2023-03-07T06:39:22.790Z"
   },
   {
    "duration": 7,
    "start_time": "2023-03-07T06:39:22.813Z"
   },
   {
    "duration": 13,
    "start_time": "2023-03-07T06:39:22.823Z"
   },
   {
    "duration": 10,
    "start_time": "2023-03-07T06:39:22.838Z"
   },
   {
    "duration": 12,
    "start_time": "2023-03-07T06:39:22.850Z"
   },
   {
    "duration": 9,
    "start_time": "2023-03-07T06:39:22.863Z"
   },
   {
    "duration": 12,
    "start_time": "2023-03-07T06:39:22.874Z"
   },
   {
    "duration": 24,
    "start_time": "2023-03-07T06:39:22.889Z"
   },
   {
    "duration": 37,
    "start_time": "2023-03-07T06:39:22.915Z"
   },
   {
    "duration": 19,
    "start_time": "2023-03-07T06:39:22.953Z"
   },
   {
    "duration": 6,
    "start_time": "2023-03-07T06:39:22.974Z"
   },
   {
    "duration": 157,
    "start_time": "2023-03-07T06:39:22.982Z"
   },
   {
    "duration": 136,
    "start_time": "2023-03-07T06:39:23.141Z"
   },
   {
    "duration": 14,
    "start_time": "2023-03-07T06:39:23.278Z"
   },
   {
    "duration": 207,
    "start_time": "2023-03-07T06:39:23.294Z"
   },
   {
    "duration": 193,
    "start_time": "2023-03-07T06:39:23.503Z"
   },
   {
    "duration": 335,
    "start_time": "2023-03-07T06:39:23.698Z"
   },
   {
    "duration": 210,
    "start_time": "2023-03-07T06:39:24.036Z"
   },
   {
    "duration": 402,
    "start_time": "2023-03-07T06:39:24.247Z"
   },
   {
    "duration": 133,
    "start_time": "2023-03-07T06:39:24.651Z"
   },
   {
    "duration": 115,
    "start_time": "2023-03-07T06:39:24.786Z"
   },
   {
    "duration": 5,
    "start_time": "2023-03-07T06:39:24.903Z"
   },
   {
    "duration": 154,
    "start_time": "2023-03-07T06:39:24.910Z"
   },
   {
    "duration": 151,
    "start_time": "2023-03-07T06:39:25.066Z"
   },
   {
    "duration": 6,
    "start_time": "2023-03-07T06:39:25.218Z"
   },
   {
    "duration": 10,
    "start_time": "2023-03-07T06:39:25.230Z"
   },
   {
    "duration": 22,
    "start_time": "2023-03-07T06:39:25.241Z"
   },
   {
    "duration": 48,
    "start_time": "2023-03-07T06:39:25.265Z"
   },
   {
    "duration": 60,
    "start_time": "2023-03-07T06:39:25.315Z"
   },
   {
    "duration": 19,
    "start_time": "2023-03-07T06:39:25.377Z"
   },
   {
    "duration": 34,
    "start_time": "2023-03-07T06:39:25.398Z"
   },
   {
    "duration": 50,
    "start_time": "2023-03-07T06:39:25.436Z"
   },
   {
    "duration": 65,
    "start_time": "2023-03-07T06:39:25.488Z"
   },
   {
    "duration": 28,
    "start_time": "2023-03-07T06:39:25.555Z"
   },
   {
    "duration": 86,
    "start_time": "2023-03-07T06:39:25.585Z"
   },
   {
    "duration": 110,
    "start_time": "2023-03-07T06:39:25.673Z"
   },
   {
    "duration": 9,
    "start_time": "2023-03-07T06:39:25.785Z"
   },
   {
    "duration": 17,
    "start_time": "2023-03-07T06:39:25.798Z"
   },
   {
    "duration": 21,
    "start_time": "2023-03-07T06:39:25.817Z"
   },
   {
    "duration": 41,
    "start_time": "2023-03-07T06:39:25.841Z"
   },
   {
    "duration": 5,
    "start_time": "2023-03-07T06:39:25.885Z"
   },
   {
    "duration": 25,
    "start_time": "2023-03-07T06:39:25.892Z"
   },
   {
    "duration": 23,
    "start_time": "2023-03-07T06:39:25.919Z"
   },
   {
    "duration": 11,
    "start_time": "2023-03-07T06:39:25.944Z"
   },
   {
    "duration": 14,
    "start_time": "2023-03-07T06:39:25.957Z"
   },
   {
    "duration": 14,
    "start_time": "2023-03-07T06:39:25.973Z"
   },
   {
    "duration": 22,
    "start_time": "2023-03-07T06:39:25.990Z"
   },
   {
    "duration": 37,
    "start_time": "2023-03-07T06:39:26.014Z"
   },
   {
    "duration": 13,
    "start_time": "2023-03-07T06:39:26.053Z"
   },
   {
    "duration": 9,
    "start_time": "2023-03-07T06:39:26.067Z"
   },
   {
    "duration": 132,
    "start_time": "2023-03-07T06:44:56.411Z"
   },
   {
    "duration": 65,
    "start_time": "2023-03-07T06:47:34.617Z"
   },
   {
    "duration": 72,
    "start_time": "2023-03-07T06:47:36.121Z"
   },
   {
    "duration": 3,
    "start_time": "2023-03-07T06:48:10.648Z"
   },
   {
    "duration": 77,
    "start_time": "2023-03-07T06:48:10.653Z"
   },
   {
    "duration": 9,
    "start_time": "2023-03-07T06:48:10.731Z"
   },
   {
    "duration": 21,
    "start_time": "2023-03-07T06:48:10.741Z"
   },
   {
    "duration": 17,
    "start_time": "2023-03-07T06:48:10.765Z"
   },
   {
    "duration": 19,
    "start_time": "2023-03-07T06:48:10.784Z"
   },
   {
    "duration": 18,
    "start_time": "2023-03-07T06:48:10.805Z"
   },
   {
    "duration": 27,
    "start_time": "2023-03-07T06:48:10.825Z"
   },
   {
    "duration": 15,
    "start_time": "2023-03-07T06:48:10.854Z"
   },
   {
    "duration": 9,
    "start_time": "2023-03-07T06:48:10.871Z"
   },
   {
    "duration": 14,
    "start_time": "2023-03-07T06:48:10.882Z"
   },
   {
    "duration": 21,
    "start_time": "2023-03-07T06:48:10.899Z"
   },
   {
    "duration": 37,
    "start_time": "2023-03-07T06:48:10.922Z"
   },
   {
    "duration": 15,
    "start_time": "2023-03-07T06:48:10.962Z"
   },
   {
    "duration": 14,
    "start_time": "2023-03-07T06:48:10.979Z"
   },
   {
    "duration": 19,
    "start_time": "2023-03-07T06:48:10.994Z"
   },
   {
    "duration": 29,
    "start_time": "2023-03-07T06:48:11.015Z"
   },
   {
    "duration": 42,
    "start_time": "2023-03-07T06:48:11.046Z"
   },
   {
    "duration": 26,
    "start_time": "2023-03-07T06:48:11.090Z"
   },
   {
    "duration": 20,
    "start_time": "2023-03-07T06:48:11.118Z"
   },
   {
    "duration": 158,
    "start_time": "2023-03-07T06:48:11.140Z"
   },
   {
    "duration": 120,
    "start_time": "2023-03-07T06:48:11.300Z"
   },
   {
    "duration": 13,
    "start_time": "2023-03-07T06:48:11.432Z"
   },
   {
    "duration": 204,
    "start_time": "2023-03-07T06:48:11.447Z"
   },
   {
    "duration": 187,
    "start_time": "2023-03-07T06:48:11.652Z"
   },
   {
    "duration": 276,
    "start_time": "2023-03-07T06:48:11.841Z"
   },
   {
    "duration": 210,
    "start_time": "2023-03-07T06:48:12.118Z"
   },
   {
    "duration": 407,
    "start_time": "2023-03-07T06:48:12.330Z"
   },
   {
    "duration": 140,
    "start_time": "2023-03-07T06:48:12.739Z"
   },
   {
    "duration": 152,
    "start_time": "2023-03-07T06:48:12.882Z"
   },
   {
    "duration": 5,
    "start_time": "2023-03-07T06:48:13.036Z"
   },
   {
    "duration": 150,
    "start_time": "2023-03-07T06:48:13.042Z"
   },
   {
    "duration": 161,
    "start_time": "2023-03-07T06:48:13.193Z"
   },
   {
    "duration": 5,
    "start_time": "2023-03-07T06:48:13.356Z"
   },
   {
    "duration": 16,
    "start_time": "2023-03-07T06:48:13.362Z"
   },
   {
    "duration": 13,
    "start_time": "2023-03-07T06:48:13.380Z"
   },
   {
    "duration": 66,
    "start_time": "2023-03-07T06:48:13.394Z"
   },
   {
    "duration": 59,
    "start_time": "2023-03-07T06:48:13.462Z"
   },
   {
    "duration": 33,
    "start_time": "2023-03-07T06:48:13.523Z"
   },
   {
    "duration": 19,
    "start_time": "2023-03-07T06:48:13.558Z"
   },
   {
    "duration": 55,
    "start_time": "2023-03-07T06:48:13.582Z"
   },
   {
    "duration": 62,
    "start_time": "2023-03-07T06:48:13.638Z"
   },
   {
    "duration": 40,
    "start_time": "2023-03-07T06:48:13.702Z"
   },
   {
    "duration": 61,
    "start_time": "2023-03-07T06:48:13.743Z"
   },
   {
    "duration": 91,
    "start_time": "2023-03-07T06:48:13.806Z"
   },
   {
    "duration": 6,
    "start_time": "2023-03-07T06:48:13.898Z"
   },
   {
    "duration": 41,
    "start_time": "2023-03-07T06:48:13.907Z"
   },
   {
    "duration": 5,
    "start_time": "2023-03-07T06:48:13.950Z"
   },
   {
    "duration": 47,
    "start_time": "2023-03-07T06:48:13.956Z"
   },
   {
    "duration": 19,
    "start_time": "2023-03-07T06:48:14.005Z"
   },
   {
    "duration": 13,
    "start_time": "2023-03-07T06:48:14.025Z"
   },
   {
    "duration": 14,
    "start_time": "2023-03-07T06:48:14.040Z"
   },
   {
    "duration": 23,
    "start_time": "2023-03-07T06:48:14.056Z"
   },
   {
    "duration": 14,
    "start_time": "2023-03-07T06:48:14.080Z"
   },
   {
    "duration": 26,
    "start_time": "2023-03-07T06:48:14.096Z"
   },
   {
    "duration": 10,
    "start_time": "2023-03-07T06:48:14.124Z"
   },
   {
    "duration": 11,
    "start_time": "2023-03-07T06:48:14.136Z"
   },
   {
    "duration": 5,
    "start_time": "2023-03-07T06:59:49.202Z"
   },
   {
    "duration": 4,
    "start_time": "2023-03-07T06:59:51.158Z"
   },
   {
    "duration": 4,
    "start_time": "2023-03-07T06:59:57.968Z"
   },
   {
    "duration": 7,
    "start_time": "2023-03-07T07:00:24.007Z"
   },
   {
    "duration": 6,
    "start_time": "2023-03-07T07:01:30.515Z"
   },
   {
    "duration": 3,
    "start_time": "2023-03-07T07:46:37.383Z"
   },
   {
    "duration": 95,
    "start_time": "2023-03-07T07:46:37.388Z"
   },
   {
    "duration": 9,
    "start_time": "2023-03-07T07:46:37.485Z"
   },
   {
    "duration": 23,
    "start_time": "2023-03-07T07:46:37.496Z"
   },
   {
    "duration": 36,
    "start_time": "2023-03-07T07:46:37.521Z"
   },
   {
    "duration": 18,
    "start_time": "2023-03-07T07:46:37.559Z"
   },
   {
    "duration": 11,
    "start_time": "2023-03-07T07:46:37.579Z"
   },
   {
    "duration": 14,
    "start_time": "2023-03-07T07:46:37.591Z"
   },
   {
    "duration": 9,
    "start_time": "2023-03-07T07:46:37.606Z"
   },
   {
    "duration": 6,
    "start_time": "2023-03-07T07:46:37.617Z"
   },
   {
    "duration": 36,
    "start_time": "2023-03-07T07:46:37.625Z"
   },
   {
    "duration": 13,
    "start_time": "2023-03-07T07:46:37.663Z"
   },
   {
    "duration": 11,
    "start_time": "2023-03-07T07:46:37.679Z"
   },
   {
    "duration": 11,
    "start_time": "2023-03-07T07:46:37.695Z"
   },
   {
    "duration": 8,
    "start_time": "2023-03-07T07:46:37.708Z"
   },
   {
    "duration": 10,
    "start_time": "2023-03-07T07:46:37.717Z"
   },
   {
    "duration": 46,
    "start_time": "2023-03-07T07:46:37.728Z"
   },
   {
    "duration": 12,
    "start_time": "2023-03-07T07:46:37.776Z"
   },
   {
    "duration": 17,
    "start_time": "2023-03-07T07:46:37.790Z"
   },
   {
    "duration": 5,
    "start_time": "2023-03-07T07:46:37.809Z"
   },
   {
    "duration": 159,
    "start_time": "2023-03-07T07:46:37.816Z"
   },
   {
    "duration": 130,
    "start_time": "2023-03-07T07:46:37.977Z"
   },
   {
    "duration": 13,
    "start_time": "2023-03-07T07:46:38.108Z"
   },
   {
    "duration": 243,
    "start_time": "2023-03-07T07:46:38.135Z"
   },
   {
    "duration": 194,
    "start_time": "2023-03-07T07:46:38.380Z"
   },
   {
    "duration": 286,
    "start_time": "2023-03-07T07:46:38.576Z"
   },
   {
    "duration": 233,
    "start_time": "2023-03-07T07:46:38.863Z"
   },
   {
    "duration": 349,
    "start_time": "2023-03-07T07:46:39.097Z"
   },
   {
    "duration": 223,
    "start_time": "2023-03-07T07:46:39.447Z"
   },
   {
    "duration": 125,
    "start_time": "2023-03-07T07:46:39.671Z"
   },
   {
    "duration": 6,
    "start_time": "2023-03-07T07:46:39.797Z"
   },
   {
    "duration": 162,
    "start_time": "2023-03-07T07:46:39.804Z"
   },
   {
    "duration": 158,
    "start_time": "2023-03-07T07:46:39.968Z"
   },
   {
    "duration": 14,
    "start_time": "2023-03-07T07:46:40.133Z"
   },
   {
    "duration": 17,
    "start_time": "2023-03-07T07:46:40.154Z"
   },
   {
    "duration": 16,
    "start_time": "2023-03-07T07:46:40.173Z"
   },
   {
    "duration": 62,
    "start_time": "2023-03-07T07:46:40.191Z"
   },
   {
    "duration": 61,
    "start_time": "2023-03-07T07:46:40.255Z"
   },
   {
    "duration": 37,
    "start_time": "2023-03-07T07:46:40.318Z"
   },
   {
    "duration": 21,
    "start_time": "2023-03-07T07:46:40.359Z"
   },
   {
    "duration": 62,
    "start_time": "2023-03-07T07:46:40.383Z"
   },
   {
    "duration": 62,
    "start_time": "2023-03-07T07:46:40.455Z"
   },
   {
    "duration": 46,
    "start_time": "2023-03-07T07:46:40.518Z"
   },
   {
    "duration": 77,
    "start_time": "2023-03-07T07:46:40.566Z"
   },
   {
    "duration": 78,
    "start_time": "2023-03-07T07:46:40.644Z"
   },
   {
    "duration": 20,
    "start_time": "2023-03-07T07:46:40.724Z"
   },
   {
    "duration": 40,
    "start_time": "2023-03-07T07:46:40.746Z"
   },
   {
    "duration": 4,
    "start_time": "2023-03-07T07:46:40.787Z"
   },
   {
    "duration": 15,
    "start_time": "2023-03-07T07:46:40.793Z"
   },
   {
    "duration": 25,
    "start_time": "2023-03-07T07:46:40.810Z"
   },
   {
    "duration": 38,
    "start_time": "2023-03-07T07:46:40.836Z"
   },
   {
    "duration": 10,
    "start_time": "2023-03-07T07:46:40.875Z"
   },
   {
    "duration": 23,
    "start_time": "2023-03-07T07:46:40.886Z"
   },
   {
    "duration": 13,
    "start_time": "2023-03-07T07:46:40.911Z"
   },
   {
    "duration": 67,
    "start_time": "2023-03-07T07:46:40.926Z"
   },
   {
    "duration": 9,
    "start_time": "2023-03-07T07:46:40.995Z"
   },
   {
    "duration": 8,
    "start_time": "2023-03-07T07:46:41.006Z"
   },
   {
    "duration": 4,
    "start_time": "2023-03-07T07:49:13.894Z"
   },
   {
    "duration": 81,
    "start_time": "2023-03-07T07:49:13.900Z"
   },
   {
    "duration": 9,
    "start_time": "2023-03-07T07:49:13.983Z"
   },
   {
    "duration": 26,
    "start_time": "2023-03-07T07:49:13.993Z"
   },
   {
    "duration": 5,
    "start_time": "2023-03-07T07:49:14.021Z"
   },
   {
    "duration": 29,
    "start_time": "2023-03-07T07:49:14.027Z"
   },
   {
    "duration": 20,
    "start_time": "2023-03-07T07:49:14.058Z"
   },
   {
    "duration": 15,
    "start_time": "2023-03-07T07:49:14.080Z"
   },
   {
    "duration": 11,
    "start_time": "2023-03-07T07:49:14.096Z"
   },
   {
    "duration": 12,
    "start_time": "2023-03-07T07:49:14.108Z"
   },
   {
    "duration": 6,
    "start_time": "2023-03-07T07:49:14.122Z"
   },
   {
    "duration": 32,
    "start_time": "2023-03-07T07:49:14.129Z"
   },
   {
    "duration": 8,
    "start_time": "2023-03-07T07:49:14.163Z"
   },
   {
    "duration": 12,
    "start_time": "2023-03-07T07:49:14.174Z"
   },
   {
    "duration": 9,
    "start_time": "2023-03-07T07:49:14.187Z"
   },
   {
    "duration": 5,
    "start_time": "2023-03-07T07:49:14.197Z"
   },
   {
    "duration": 11,
    "start_time": "2023-03-07T07:49:14.203Z"
   },
   {
    "duration": 15,
    "start_time": "2023-03-07T07:49:14.215Z"
   },
   {
    "duration": 33,
    "start_time": "2023-03-07T07:49:14.236Z"
   },
   {
    "duration": 17,
    "start_time": "2023-03-07T07:49:14.271Z"
   },
   {
    "duration": 185,
    "start_time": "2023-03-07T07:49:14.290Z"
   },
   {
    "duration": 134,
    "start_time": "2023-03-07T07:49:14.477Z"
   },
   {
    "duration": 31,
    "start_time": "2023-03-07T07:49:14.613Z"
   },
   {
    "duration": 213,
    "start_time": "2023-03-07T07:49:14.646Z"
   },
   {
    "duration": 199,
    "start_time": "2023-03-07T07:49:14.861Z"
   },
   {
    "duration": 296,
    "start_time": "2023-03-07T07:49:15.062Z"
   },
   {
    "duration": 230,
    "start_time": "2023-03-07T07:49:15.361Z"
   },
   {
    "duration": 365,
    "start_time": "2023-03-07T07:49:15.593Z"
   },
   {
    "duration": 177,
    "start_time": "2023-03-07T07:49:15.965Z"
   },
   {
    "duration": 211,
    "start_time": "2023-03-07T07:49:16.146Z"
   },
   {
    "duration": 4,
    "start_time": "2023-03-07T07:49:16.359Z"
   },
   {
    "duration": 146,
    "start_time": "2023-03-07T07:49:16.365Z"
   },
   {
    "duration": 160,
    "start_time": "2023-03-07T07:49:16.514Z"
   },
   {
    "duration": 5,
    "start_time": "2023-03-07T07:49:16.676Z"
   },
   {
    "duration": 14,
    "start_time": "2023-03-07T07:49:16.682Z"
   },
   {
    "duration": 16,
    "start_time": "2023-03-07T07:49:16.698Z"
   },
   {
    "duration": 84,
    "start_time": "2023-03-07T07:49:16.716Z"
   },
   {
    "duration": 67,
    "start_time": "2023-03-07T07:49:16.801Z"
   },
   {
    "duration": 23,
    "start_time": "2023-03-07T07:49:16.870Z"
   },
   {
    "duration": 24,
    "start_time": "2023-03-07T07:49:16.895Z"
   },
   {
    "duration": 76,
    "start_time": "2023-03-07T07:49:16.938Z"
   },
   {
    "duration": 60,
    "start_time": "2023-03-07T07:49:17.016Z"
   },
   {
    "duration": 29,
    "start_time": "2023-03-07T07:49:17.078Z"
   },
   {
    "duration": 71,
    "start_time": "2023-03-07T07:49:17.109Z"
   },
   {
    "duration": 79,
    "start_time": "2023-03-07T07:49:17.182Z"
   },
   {
    "duration": 6,
    "start_time": "2023-03-07T07:49:17.263Z"
   },
   {
    "duration": 31,
    "start_time": "2023-03-07T07:49:17.270Z"
   },
   {
    "duration": 11,
    "start_time": "2023-03-07T07:49:17.302Z"
   },
   {
    "duration": 24,
    "start_time": "2023-03-07T07:49:17.315Z"
   },
   {
    "duration": 17,
    "start_time": "2023-03-07T07:49:17.348Z"
   },
   {
    "duration": 7,
    "start_time": "2023-03-07T07:49:17.367Z"
   },
   {
    "duration": 12,
    "start_time": "2023-03-07T07:49:17.376Z"
   },
   {
    "duration": 8,
    "start_time": "2023-03-07T07:49:17.390Z"
   },
   {
    "duration": 16,
    "start_time": "2023-03-07T07:49:17.399Z"
   },
   {
    "duration": 38,
    "start_time": "2023-03-07T07:49:17.416Z"
   },
   {
    "duration": 12,
    "start_time": "2023-03-07T07:49:17.456Z"
   },
   {
    "duration": 13,
    "start_time": "2023-03-07T07:49:17.470Z"
   },
   {
    "duration": 3,
    "start_time": "2023-03-07T07:54:42.986Z"
   },
   {
    "duration": 4,
    "start_time": "2023-03-07T07:55:03.504Z"
   },
   {
    "duration": 115,
    "start_time": "2023-03-07T07:55:03.509Z"
   },
   {
    "duration": 15,
    "start_time": "2023-03-07T07:55:03.626Z"
   },
   {
    "duration": 33,
    "start_time": "2023-03-07T07:55:03.642Z"
   },
   {
    "duration": 12,
    "start_time": "2023-03-07T07:55:03.678Z"
   },
   {
    "duration": 12,
    "start_time": "2023-03-07T07:55:03.691Z"
   },
   {
    "duration": 18,
    "start_time": "2023-03-07T07:55:03.705Z"
   },
   {
    "duration": 15,
    "start_time": "2023-03-07T07:55:03.725Z"
   },
   {
    "duration": 29,
    "start_time": "2023-03-07T07:55:03.741Z"
   },
   {
    "duration": 8,
    "start_time": "2023-03-07T07:55:03.771Z"
   },
   {
    "duration": 10,
    "start_time": "2023-03-07T07:55:03.780Z"
   },
   {
    "duration": 18,
    "start_time": "2023-03-07T07:55:03.791Z"
   },
   {
    "duration": 9,
    "start_time": "2023-03-07T07:55:03.812Z"
   },
   {
    "duration": 24,
    "start_time": "2023-03-07T07:55:03.822Z"
   },
   {
    "duration": 23,
    "start_time": "2023-03-07T07:55:03.848Z"
   },
   {
    "duration": 6,
    "start_time": "2023-03-07T07:55:03.873Z"
   },
   {
    "duration": 13,
    "start_time": "2023-03-07T07:55:03.880Z"
   },
   {
    "duration": 18,
    "start_time": "2023-03-07T07:55:03.894Z"
   },
   {
    "duration": 11,
    "start_time": "2023-03-07T07:55:03.914Z"
   },
   {
    "duration": 10,
    "start_time": "2023-03-07T07:55:03.927Z"
   },
   {
    "duration": 212,
    "start_time": "2023-03-07T07:55:03.939Z"
   },
   {
    "duration": 139,
    "start_time": "2023-03-07T07:55:04.153Z"
   },
   {
    "duration": 13,
    "start_time": "2023-03-07T07:55:04.293Z"
   },
   {
    "duration": 247,
    "start_time": "2023-03-07T07:55:04.308Z"
   },
   {
    "duration": 197,
    "start_time": "2023-03-07T07:55:04.563Z"
   },
   {
    "duration": 279,
    "start_time": "2023-03-07T07:55:04.763Z"
   },
   {
    "duration": 209,
    "start_time": "2023-03-07T07:55:05.044Z"
   },
   {
    "duration": 279,
    "start_time": "2023-03-07T07:55:05.255Z"
   },
   {
    "duration": 129,
    "start_time": "2023-03-07T07:55:05.540Z"
   },
   {
    "duration": 117,
    "start_time": "2023-03-07T07:55:05.671Z"
   },
   {
    "duration": 4,
    "start_time": "2023-03-07T07:55:05.790Z"
   },
   {
    "duration": 297,
    "start_time": "2023-03-07T07:55:05.796Z"
   },
   {
    "duration": 167,
    "start_time": "2023-03-07T07:55:06.095Z"
   },
   {
    "duration": 4,
    "start_time": "2023-03-07T07:55:06.264Z"
   },
   {
    "duration": 29,
    "start_time": "2023-03-07T07:55:06.269Z"
   },
   {
    "duration": 60,
    "start_time": "2023-03-07T07:55:06.300Z"
   },
   {
    "duration": 77,
    "start_time": "2023-03-07T07:55:06.364Z"
   },
   {
    "duration": 115,
    "start_time": "2023-03-07T07:55:06.442Z"
   },
   {
    "duration": 23,
    "start_time": "2023-03-07T07:55:06.559Z"
   },
   {
    "duration": 24,
    "start_time": "2023-03-07T07:55:06.583Z"
   },
   {
    "duration": 65,
    "start_time": "2023-03-07T07:55:06.608Z"
   },
   {
    "duration": 79,
    "start_time": "2023-03-07T07:55:06.675Z"
   },
   {
    "duration": 31,
    "start_time": "2023-03-07T07:55:06.760Z"
   },
   {
    "duration": 71,
    "start_time": "2023-03-07T07:55:06.793Z"
   },
   {
    "duration": 83,
    "start_time": "2023-03-07T07:55:06.866Z"
   },
   {
    "duration": 10,
    "start_time": "2023-03-07T07:55:06.951Z"
   },
   {
    "duration": 43,
    "start_time": "2023-03-07T07:55:06.963Z"
   },
   {
    "duration": 4,
    "start_time": "2023-03-07T07:55:07.008Z"
   },
   {
    "duration": 16,
    "start_time": "2023-03-07T07:55:07.013Z"
   },
   {
    "duration": 41,
    "start_time": "2023-03-07T07:55:07.030Z"
   },
   {
    "duration": 20,
    "start_time": "2023-03-07T07:55:07.072Z"
   },
   {
    "duration": 32,
    "start_time": "2023-03-07T07:55:07.093Z"
   },
   {
    "duration": 44,
    "start_time": "2023-03-07T07:55:07.127Z"
   },
   {
    "duration": 16,
    "start_time": "2023-03-07T07:55:07.173Z"
   },
   {
    "duration": 38,
    "start_time": "2023-03-07T07:55:07.191Z"
   },
   {
    "duration": 16,
    "start_time": "2023-03-07T07:55:07.230Z"
   },
   {
    "duration": 23,
    "start_time": "2023-03-07T07:55:07.251Z"
   },
   {
    "duration": 13,
    "start_time": "2023-03-07T08:12:25.364Z"
   },
   {
    "duration": 17,
    "start_time": "2023-03-07T08:25:34.718Z"
   },
   {
    "duration": 9,
    "start_time": "2023-03-07T08:25:59.215Z"
   },
   {
    "duration": 152,
    "start_time": "2023-03-07T08:30:38.807Z"
   },
   {
    "duration": 12,
    "start_time": "2023-03-07T08:31:30.700Z"
   },
   {
    "duration": 275,
    "start_time": "2023-03-07T08:39:36.252Z"
   },
   {
    "duration": 158,
    "start_time": "2023-03-07T09:27:47.954Z"
   },
   {
    "duration": 1903,
    "start_time": "2023-03-07T09:29:50.434Z"
   },
   {
    "duration": 162,
    "start_time": "2023-03-07T09:30:08.711Z"
   },
   {
    "duration": 1896,
    "start_time": "2023-03-07T09:30:24.606Z"
   },
   {
    "duration": 146,
    "start_time": "2023-03-07T09:30:29.786Z"
   },
   {
    "duration": 7,
    "start_time": "2023-03-07T09:37:06.541Z"
   },
   {
    "duration": 173,
    "start_time": "2023-03-07T09:37:06.551Z"
   },
   {
    "duration": 23,
    "start_time": "2023-03-07T09:37:06.726Z"
   },
   {
    "duration": 64,
    "start_time": "2023-03-07T09:37:06.752Z"
   },
   {
    "duration": 5,
    "start_time": "2023-03-07T09:37:06.819Z"
   },
   {
    "duration": 43,
    "start_time": "2023-03-07T09:37:06.827Z"
   },
   {
    "duration": 48,
    "start_time": "2023-03-07T09:37:06.872Z"
   },
   {
    "duration": 16,
    "start_time": "2023-03-07T09:37:06.922Z"
   },
   {
    "duration": 79,
    "start_time": "2023-03-07T09:37:06.943Z"
   },
   {
    "duration": 11,
    "start_time": "2023-03-07T09:37:07.023Z"
   },
   {
    "duration": 65,
    "start_time": "2023-03-07T09:37:07.036Z"
   },
   {
    "duration": 14,
    "start_time": "2023-03-07T09:37:07.103Z"
   },
   {
    "duration": 46,
    "start_time": "2023-03-07T09:37:07.119Z"
   },
   {
    "duration": 49,
    "start_time": "2023-03-07T09:37:07.167Z"
   },
   {
    "duration": 76,
    "start_time": "2023-03-07T09:37:07.218Z"
   },
   {
    "duration": 14,
    "start_time": "2023-03-07T09:37:07.296Z"
   },
   {
    "duration": 77,
    "start_time": "2023-03-07T09:37:07.312Z"
   },
   {
    "duration": 18,
    "start_time": "2023-03-07T09:37:07.392Z"
   },
   {
    "duration": 76,
    "start_time": "2023-03-07T09:37:07.411Z"
   },
   {
    "duration": 96,
    "start_time": "2023-03-07T09:37:07.492Z"
   },
   {
    "duration": 10,
    "start_time": "2023-03-07T09:37:07.592Z"
   },
   {
    "duration": 11,
    "start_time": "2023-03-07T09:37:07.604Z"
   },
   {
    "duration": 199,
    "start_time": "2023-03-07T09:37:07.617Z"
   },
   {
    "duration": 136,
    "start_time": "2023-03-07T09:37:07.820Z"
   },
   {
    "duration": 18,
    "start_time": "2023-03-07T09:37:07.962Z"
   },
   {
    "duration": 237,
    "start_time": "2023-03-07T09:37:07.982Z"
   },
   {
    "duration": 266,
    "start_time": "2023-03-07T09:37:08.221Z"
   },
   {
    "duration": 307,
    "start_time": "2023-03-07T09:37:08.495Z"
   },
   {
    "duration": 362,
    "start_time": "2023-03-07T09:37:08.804Z"
   },
   {
    "duration": 405,
    "start_time": "2023-03-07T09:37:09.172Z"
   },
   {
    "duration": 154,
    "start_time": "2023-03-07T09:37:09.582Z"
   },
   {
    "duration": 174,
    "start_time": "2023-03-07T09:37:09.738Z"
   },
   {
    "duration": 6,
    "start_time": "2023-03-07T09:37:09.915Z"
   },
   {
    "duration": 237,
    "start_time": "2023-03-07T09:37:09.922Z"
   },
   {
    "duration": 181,
    "start_time": "2023-03-07T09:37:10.168Z"
   },
   {
    "duration": 5,
    "start_time": "2023-03-07T09:37:10.351Z"
   },
   {
    "duration": 52,
    "start_time": "2023-03-07T09:37:10.358Z"
   },
   {
    "duration": 15,
    "start_time": "2023-03-07T09:37:10.412Z"
   },
   {
    "duration": 160,
    "start_time": "2023-03-07T09:37:10.428Z"
   },
   {
    "duration": 60,
    "start_time": "2023-03-07T09:37:10.592Z"
   },
   {
    "duration": 70,
    "start_time": "2023-03-07T09:37:10.653Z"
   },
   {
    "duration": 31,
    "start_time": "2023-03-07T09:37:10.726Z"
   },
   {
    "duration": 114,
    "start_time": "2023-03-07T09:37:10.762Z"
   },
   {
    "duration": 123,
    "start_time": "2023-03-07T09:37:10.882Z"
   },
   {
    "duration": 84,
    "start_time": "2023-03-07T09:37:11.007Z"
   },
   {
    "duration": 91,
    "start_time": "2023-03-07T09:37:11.097Z"
   },
   {
    "duration": 96,
    "start_time": "2023-03-07T09:37:11.191Z"
   },
   {
    "duration": 8,
    "start_time": "2023-03-07T09:37:11.294Z"
   },
   {
    "duration": 39,
    "start_time": "2023-03-07T09:37:11.304Z"
   },
   {
    "duration": 5,
    "start_time": "2023-03-07T09:37:11.345Z"
   },
   {
    "duration": 62,
    "start_time": "2023-03-07T09:37:11.353Z"
   },
   {
    "duration": 5,
    "start_time": "2023-03-07T09:37:11.417Z"
   },
   {
    "duration": 11,
    "start_time": "2023-03-07T09:37:11.424Z"
   },
   {
    "duration": 66,
    "start_time": "2023-03-07T09:37:11.437Z"
   },
   {
    "duration": 6,
    "start_time": "2023-03-07T09:37:11.505Z"
   },
   {
    "duration": 6,
    "start_time": "2023-03-07T09:37:11.512Z"
   },
   {
    "duration": 65,
    "start_time": "2023-03-07T09:37:11.520Z"
   },
   {
    "duration": 19,
    "start_time": "2023-03-07T09:37:11.587Z"
   },
   {
    "duration": 6,
    "start_time": "2023-03-07T09:37:11.608Z"
   },
   {
    "duration": 2120,
    "start_time": "2023-03-07T10:01:03.621Z"
   },
   {
    "duration": 111,
    "start_time": "2023-03-07T10:01:05.743Z"
   },
   {
    "duration": 50,
    "start_time": "2023-03-07T10:01:05.857Z"
   },
   {
    "duration": 17,
    "start_time": "2023-03-07T10:01:05.910Z"
   },
   {
    "duration": 177,
    "start_time": "2023-03-07T10:01:05.930Z"
   },
   {
    "duration": 29,
    "start_time": "2023-03-07T10:01:06.109Z"
   },
   {
    "duration": 12,
    "start_time": "2023-03-07T10:01:06.140Z"
   },
   {
    "duration": 33,
    "start_time": "2023-03-07T10:01:06.153Z"
   },
   {
    "duration": 18,
    "start_time": "2023-03-07T10:01:06.187Z"
   },
   {
    "duration": 29,
    "start_time": "2023-03-07T10:01:06.207Z"
   },
   {
    "duration": 10,
    "start_time": "2023-03-07T10:01:06.237Z"
   },
   {
    "duration": 28,
    "start_time": "2023-03-07T10:01:06.249Z"
   },
   {
    "duration": 17,
    "start_time": "2023-03-07T10:01:06.279Z"
   },
   {
    "duration": 18,
    "start_time": "2023-03-07T10:01:06.299Z"
   },
   {
    "duration": 18,
    "start_time": "2023-03-07T10:01:06.319Z"
   },
   {
    "duration": 13,
    "start_time": "2023-03-07T10:01:06.339Z"
   },
   {
    "duration": 15,
    "start_time": "2023-03-07T10:01:06.354Z"
   },
   {
    "duration": 25,
    "start_time": "2023-03-07T10:01:06.371Z"
   },
   {
    "duration": 17,
    "start_time": "2023-03-07T10:01:06.397Z"
   },
   {
    "duration": 117,
    "start_time": "2023-03-07T10:01:06.416Z"
   },
   {
    "duration": 17,
    "start_time": "2023-03-07T10:01:06.535Z"
   },
   {
    "duration": 17,
    "start_time": "2023-03-07T10:01:06.554Z"
   },
   {
    "duration": 191,
    "start_time": "2023-03-07T10:01:06.572Z"
   },
   {
    "duration": 142,
    "start_time": "2023-03-07T10:01:06.765Z"
   },
   {
    "duration": 31,
    "start_time": "2023-03-07T10:01:06.909Z"
   },
   {
    "duration": 301,
    "start_time": "2023-03-07T10:01:06.942Z"
   },
   {
    "duration": 215,
    "start_time": "2023-03-07T10:01:07.245Z"
   },
   {
    "duration": 319,
    "start_time": "2023-03-07T10:01:07.462Z"
   },
   {
    "duration": 251,
    "start_time": "2023-03-07T10:01:07.783Z"
   },
   {
    "duration": 319,
    "start_time": "2023-03-07T10:01:08.036Z"
   },
   {
    "duration": 188,
    "start_time": "2023-03-07T10:01:08.357Z"
   },
   {
    "duration": 147,
    "start_time": "2023-03-07T10:01:08.548Z"
   },
   {
    "duration": 9,
    "start_time": "2023-03-07T10:01:08.696Z"
   },
   {
    "duration": 176,
    "start_time": "2023-03-07T10:01:08.707Z"
   },
   {
    "duration": 261,
    "start_time": "2023-03-07T10:01:08.885Z"
   },
   {
    "duration": 6,
    "start_time": "2023-03-07T10:01:09.148Z"
   },
   {
    "duration": 11,
    "start_time": "2023-03-07T10:01:09.155Z"
   },
   {
    "duration": 11,
    "start_time": "2023-03-07T10:01:09.167Z"
   },
   {
    "duration": 60,
    "start_time": "2023-03-07T10:01:09.201Z"
   },
   {
    "duration": 67,
    "start_time": "2023-03-07T10:01:09.263Z"
   },
   {
    "duration": 19,
    "start_time": "2023-03-07T10:01:09.334Z"
   },
   {
    "duration": 19,
    "start_time": "2023-03-07T10:01:09.355Z"
   },
   {
    "duration": 81,
    "start_time": "2023-03-07T10:01:09.375Z"
   },
   {
    "duration": 74,
    "start_time": "2023-03-07T10:01:09.458Z"
   },
   {
    "duration": 42,
    "start_time": "2023-03-07T10:01:09.533Z"
   },
   {
    "duration": 89,
    "start_time": "2023-03-07T10:01:09.577Z"
   },
   {
    "duration": 89,
    "start_time": "2023-03-07T10:01:09.668Z"
   },
   {
    "duration": 9,
    "start_time": "2023-03-07T10:01:09.759Z"
   },
   {
    "duration": 39,
    "start_time": "2023-03-07T10:01:09.770Z"
   },
   {
    "duration": 5,
    "start_time": "2023-03-07T10:01:09.812Z"
   },
   {
    "duration": 15,
    "start_time": "2023-03-07T10:01:09.820Z"
   },
   {
    "duration": 6,
    "start_time": "2023-03-07T10:01:09.837Z"
   },
   {
    "duration": 7,
    "start_time": "2023-03-07T10:01:09.844Z"
   },
   {
    "duration": 9,
    "start_time": "2023-03-07T10:01:09.852Z"
   },
   {
    "duration": 7,
    "start_time": "2023-03-07T10:01:09.862Z"
   },
   {
    "duration": 36,
    "start_time": "2023-03-07T10:01:09.870Z"
   },
   {
    "duration": 37,
    "start_time": "2023-03-07T10:01:09.908Z"
   },
   {
    "duration": 11,
    "start_time": "2023-03-07T10:01:09.946Z"
   },
   {
    "duration": 9,
    "start_time": "2023-03-07T10:01:09.959Z"
   },
   {
    "duration": 2047,
    "start_time": "2023-03-07T21:50:30.995Z"
   },
   {
    "duration": 137,
    "start_time": "2023-03-07T21:50:33.044Z"
   },
   {
    "duration": 25,
    "start_time": "2023-03-07T21:50:33.183Z"
   },
   {
    "duration": 42,
    "start_time": "2023-03-07T21:50:33.210Z"
   },
   {
    "duration": 32,
    "start_time": "2023-03-07T21:50:33.254Z"
   },
   {
    "duration": 13,
    "start_time": "2023-03-07T21:50:33.288Z"
   },
   {
    "duration": 53,
    "start_time": "2023-03-07T21:50:33.302Z"
   },
   {
    "duration": 87,
    "start_time": "2023-03-07T21:50:33.357Z"
   },
   {
    "duration": 7,
    "start_time": "2023-03-07T21:50:33.445Z"
   },
   {
    "duration": 33,
    "start_time": "2023-03-07T21:50:33.454Z"
   },
   {
    "duration": 54,
    "start_time": "2023-03-07T21:50:33.489Z"
   },
   {
    "duration": 13,
    "start_time": "2023-03-07T21:50:33.544Z"
   },
   {
    "duration": 10,
    "start_time": "2023-03-07T21:50:33.558Z"
   },
   {
    "duration": 24,
    "start_time": "2023-03-07T21:50:33.570Z"
   },
   {
    "duration": 46,
    "start_time": "2023-03-07T21:50:33.596Z"
   },
   {
    "duration": 7,
    "start_time": "2023-03-07T21:50:33.644Z"
   },
   {
    "duration": 19,
    "start_time": "2023-03-07T21:50:33.652Z"
   },
   {
    "duration": 76,
    "start_time": "2023-03-07T21:50:33.673Z"
   },
   {
    "duration": 16,
    "start_time": "2023-03-07T21:50:33.751Z"
   },
   {
    "duration": 184,
    "start_time": "2023-03-07T21:50:33.768Z"
   },
   {
    "duration": 40,
    "start_time": "2023-03-07T21:50:33.954Z"
   },
   {
    "duration": 31,
    "start_time": "2023-03-07T21:50:33.999Z"
   },
   {
    "duration": 410,
    "start_time": "2023-03-07T21:50:34.036Z"
   },
   {
    "duration": 310,
    "start_time": "2023-03-07T21:50:34.448Z"
   },
   {
    "duration": 84,
    "start_time": "2023-03-07T21:50:34.760Z"
   },
   {
    "duration": 396,
    "start_time": "2023-03-07T21:50:34.846Z"
   },
   {
    "duration": 213,
    "start_time": "2023-03-07T21:50:35.243Z"
   },
   {
    "duration": 296,
    "start_time": "2023-03-07T21:50:35.458Z"
   },
   {
    "duration": 262,
    "start_time": "2023-03-07T21:50:35.755Z"
   },
   {
    "duration": 382,
    "start_time": "2023-03-07T21:50:36.019Z"
   },
   {
    "duration": 172,
    "start_time": "2023-03-07T21:50:36.403Z"
   },
   {
    "duration": 170,
    "start_time": "2023-03-07T21:50:36.576Z"
   },
   {
    "duration": 5,
    "start_time": "2023-03-07T21:50:36.748Z"
   },
   {
    "duration": 187,
    "start_time": "2023-03-07T21:50:36.754Z"
   },
   {
    "duration": 242,
    "start_time": "2023-03-07T21:50:36.943Z"
   },
   {
    "duration": 5,
    "start_time": "2023-03-07T21:50:37.187Z"
   },
   {
    "duration": 62,
    "start_time": "2023-03-07T21:50:37.193Z"
   },
   {
    "duration": 13,
    "start_time": "2023-03-07T21:50:37.257Z"
   },
   {
    "duration": 83,
    "start_time": "2023-03-07T21:50:37.271Z"
   },
   {
    "duration": 77,
    "start_time": "2023-03-07T21:50:37.356Z"
   },
   {
    "duration": 19,
    "start_time": "2023-03-07T21:50:37.436Z"
   },
   {
    "duration": 16,
    "start_time": "2023-03-07T21:50:37.457Z"
   },
   {
    "duration": 79,
    "start_time": "2023-03-07T21:50:37.475Z"
   },
   {
    "duration": 89,
    "start_time": "2023-03-07T21:50:37.557Z"
   },
   {
    "duration": 28,
    "start_time": "2023-03-07T21:50:37.647Z"
   },
   {
    "duration": 140,
    "start_time": "2023-03-07T21:50:37.676Z"
   },
   {
    "duration": 103,
    "start_time": "2023-03-07T21:50:37.822Z"
   },
   {
    "duration": 11,
    "start_time": "2023-03-07T21:50:37.926Z"
   },
   {
    "duration": 30,
    "start_time": "2023-03-07T21:50:37.938Z"
   },
   {
    "duration": 3,
    "start_time": "2023-03-07T21:50:37.970Z"
   },
   {
    "duration": 63,
    "start_time": "2023-03-07T21:50:37.975Z"
   },
   {
    "duration": 7,
    "start_time": "2023-03-07T21:50:38.040Z"
   },
   {
    "duration": 14,
    "start_time": "2023-03-07T21:50:38.048Z"
   },
   {
    "duration": 25,
    "start_time": "2023-03-07T21:50:38.063Z"
   },
   {
    "duration": 77,
    "start_time": "2023-03-07T21:50:38.090Z"
   },
   {
    "duration": 72,
    "start_time": "2023-03-07T21:50:38.168Z"
   },
   {
    "duration": 51,
    "start_time": "2023-03-07T21:50:38.242Z"
   },
   {
    "duration": 19,
    "start_time": "2023-03-07T21:50:38.294Z"
   },
   {
    "duration": 33,
    "start_time": "2023-03-07T21:50:38.315Z"
   },
   {
    "duration": 99,
    "start_time": "2023-03-07T22:07:56.679Z"
   },
   {
    "duration": 139,
    "start_time": "2023-03-07T22:13:40.651Z"
   },
   {
    "duration": 10,
    "start_time": "2023-03-07T22:13:47.851Z"
   },
   {
    "duration": 10,
    "start_time": "2023-03-07T22:13:56.799Z"
   },
   {
    "duration": 1696,
    "start_time": "2023-03-08T05:26:41.201Z"
   },
   {
    "duration": 258,
    "start_time": "2023-03-08T05:26:42.899Z"
   },
   {
    "duration": 12,
    "start_time": "2023-03-08T05:26:43.158Z"
   },
   {
    "duration": 37,
    "start_time": "2023-03-08T05:26:43.171Z"
   },
   {
    "duration": 23,
    "start_time": "2023-03-08T05:26:43.211Z"
   },
   {
    "duration": 13,
    "start_time": "2023-03-08T05:26:43.236Z"
   },
   {
    "duration": 10,
    "start_time": "2023-03-08T05:26:43.250Z"
   },
   {
    "duration": 10,
    "start_time": "2023-03-08T05:26:43.262Z"
   },
   {
    "duration": 48,
    "start_time": "2023-03-08T05:26:43.273Z"
   },
   {
    "duration": 17,
    "start_time": "2023-03-08T05:26:43.322Z"
   },
   {
    "duration": 8,
    "start_time": "2023-03-08T05:26:43.340Z"
   },
   {
    "duration": 10,
    "start_time": "2023-03-08T05:26:43.349Z"
   },
   {
    "duration": 7,
    "start_time": "2023-03-08T05:26:43.360Z"
   },
   {
    "duration": 29,
    "start_time": "2023-03-08T05:26:43.370Z"
   },
   {
    "duration": 46,
    "start_time": "2023-03-08T05:26:43.400Z"
   },
   {
    "duration": 10,
    "start_time": "2023-03-08T05:26:43.447Z"
   },
   {
    "duration": 12,
    "start_time": "2023-03-08T05:26:43.459Z"
   },
   {
    "duration": 33,
    "start_time": "2023-03-08T05:26:43.472Z"
   },
   {
    "duration": 23,
    "start_time": "2023-03-08T05:26:43.506Z"
   },
   {
    "duration": 100,
    "start_time": "2023-03-08T05:26:43.531Z"
   },
   {
    "duration": 9,
    "start_time": "2023-03-08T05:26:43.638Z"
   },
   {
    "duration": 11,
    "start_time": "2023-03-08T05:26:43.649Z"
   },
   {
    "duration": 272,
    "start_time": "2023-03-08T05:26:43.661Z"
   },
   {
    "duration": 122,
    "start_time": "2023-03-08T05:26:43.938Z"
   },
   {
    "duration": 15,
    "start_time": "2023-03-08T05:26:44.061Z"
   },
   {
    "duration": 328,
    "start_time": "2023-03-08T05:26:44.077Z"
   },
   {
    "duration": 203,
    "start_time": "2023-03-08T05:26:44.406Z"
   },
   {
    "duration": 346,
    "start_time": "2023-03-08T05:26:44.610Z"
   },
   {
    "duration": 238,
    "start_time": "2023-03-08T05:26:44.957Z"
   },
   {
    "duration": 331,
    "start_time": "2023-03-08T05:26:45.198Z"
   },
   {
    "duration": 138,
    "start_time": "2023-03-08T05:26:45.540Z"
   },
   {
    "duration": 153,
    "start_time": "2023-03-08T05:26:45.680Z"
   },
   {
    "duration": 6,
    "start_time": "2023-03-08T05:26:45.834Z"
   },
   {
    "duration": 170,
    "start_time": "2023-03-08T05:26:45.841Z"
   },
   {
    "duration": 227,
    "start_time": "2023-03-08T05:26:46.013Z"
   },
   {
    "duration": 5,
    "start_time": "2023-03-08T05:26:46.243Z"
   },
   {
    "duration": 14,
    "start_time": "2023-03-08T05:26:46.250Z"
   },
   {
    "duration": 55,
    "start_time": "2023-03-08T05:26:46.266Z"
   },
   {
    "duration": 75,
    "start_time": "2023-03-08T05:26:46.338Z"
   },
   {
    "duration": 107,
    "start_time": "2023-03-08T05:26:46.414Z"
   },
   {
    "duration": 40,
    "start_time": "2023-03-08T05:26:46.530Z"
   },
   {
    "duration": 52,
    "start_time": "2023-03-08T05:26:46.572Z"
   },
   {
    "duration": 91,
    "start_time": "2023-03-08T05:26:46.630Z"
   },
   {
    "duration": 76,
    "start_time": "2023-03-08T05:26:46.729Z"
   },
   {
    "duration": 50,
    "start_time": "2023-03-08T05:26:46.806Z"
   },
   {
    "duration": 93,
    "start_time": "2023-03-08T05:26:46.857Z"
   },
   {
    "duration": 76,
    "start_time": "2023-03-08T05:26:46.952Z"
   },
   {
    "duration": 6,
    "start_time": "2023-03-08T05:26:47.029Z"
   },
   {
    "duration": 23,
    "start_time": "2023-03-08T05:26:47.037Z"
   },
   {
    "duration": 3,
    "start_time": "2023-03-08T05:26:47.061Z"
   },
   {
    "duration": 30,
    "start_time": "2023-03-08T05:26:47.089Z"
   },
   {
    "duration": 14,
    "start_time": "2023-03-08T05:26:47.133Z"
   },
   {
    "duration": 8,
    "start_time": "2023-03-08T05:26:47.148Z"
   },
   {
    "duration": 8,
    "start_time": "2023-03-08T05:26:47.157Z"
   },
   {
    "duration": 5,
    "start_time": "2023-03-08T05:26:47.167Z"
   },
   {
    "duration": 21,
    "start_time": "2023-03-08T05:26:47.174Z"
   },
   {
    "duration": 60,
    "start_time": "2023-03-08T05:26:47.197Z"
   },
   {
    "duration": 10,
    "start_time": "2023-03-08T05:26:47.258Z"
   },
   {
    "duration": 7,
    "start_time": "2023-03-08T05:26:47.270Z"
   },
   {
    "duration": 14,
    "start_time": "2023-03-08T05:30:52.820Z"
   },
   {
    "duration": 3,
    "start_time": "2023-03-08T05:31:21.859Z"
   },
   {
    "duration": 125,
    "start_time": "2023-03-08T05:31:21.863Z"
   },
   {
    "duration": 18,
    "start_time": "2023-03-08T05:31:22.004Z"
   },
   {
    "duration": 40,
    "start_time": "2023-03-08T05:31:22.023Z"
   },
   {
    "duration": 4,
    "start_time": "2023-03-08T05:31:22.065Z"
   },
   {
    "duration": 14,
    "start_time": "2023-03-08T05:31:22.071Z"
   },
   {
    "duration": 49,
    "start_time": "2023-03-08T05:31:22.095Z"
   },
   {
    "duration": 15,
    "start_time": "2023-03-08T05:31:22.145Z"
   },
   {
    "duration": 6,
    "start_time": "2023-03-08T05:31:22.161Z"
   },
   {
    "duration": 4,
    "start_time": "2023-03-08T05:31:22.169Z"
   },
   {
    "duration": 64,
    "start_time": "2023-03-08T05:31:22.174Z"
   },
   {
    "duration": 10,
    "start_time": "2023-03-08T05:31:22.242Z"
   },
   {
    "duration": 9,
    "start_time": "2023-03-08T05:31:22.253Z"
   },
   {
    "duration": 8,
    "start_time": "2023-03-08T05:31:22.265Z"
   },
   {
    "duration": 11,
    "start_time": "2023-03-08T05:31:22.274Z"
   },
   {
    "duration": 57,
    "start_time": "2023-03-08T05:31:22.286Z"
   },
   {
    "duration": 14,
    "start_time": "2023-03-08T05:31:22.344Z"
   },
   {
    "duration": 16,
    "start_time": "2023-03-08T05:31:22.359Z"
   },
   {
    "duration": 21,
    "start_time": "2023-03-08T05:31:22.376Z"
   },
   {
    "duration": 143,
    "start_time": "2023-03-08T05:31:22.398Z"
   },
   {
    "duration": 9,
    "start_time": "2023-03-08T05:31:22.542Z"
   },
   {
    "duration": 13,
    "start_time": "2023-03-08T05:31:22.553Z"
   },
   {
    "duration": 227,
    "start_time": "2023-03-08T05:31:22.568Z"
   },
   {
    "duration": 170,
    "start_time": "2023-03-08T05:31:22.801Z"
   },
   {
    "duration": 52,
    "start_time": "2023-03-08T05:31:22.973Z"
   },
   {
    "duration": 334,
    "start_time": "2023-03-08T05:31:23.026Z"
   },
   {
    "duration": 207,
    "start_time": "2023-03-08T05:31:23.362Z"
   },
   {
    "duration": 371,
    "start_time": "2023-03-08T05:31:23.571Z"
   },
   {
    "duration": 219,
    "start_time": "2023-03-08T05:31:23.944Z"
   },
   {
    "duration": 307,
    "start_time": "2023-03-08T05:31:24.165Z"
   },
   {
    "duration": 172,
    "start_time": "2023-03-08T05:31:24.473Z"
   },
   {
    "duration": 131,
    "start_time": "2023-03-08T05:31:24.647Z"
   },
   {
    "duration": 13,
    "start_time": "2023-03-08T05:31:24.779Z"
   },
   {
    "duration": 217,
    "start_time": "2023-03-08T05:31:24.794Z"
   },
   {
    "duration": 159,
    "start_time": "2023-03-08T05:31:25.015Z"
   },
   {
    "duration": 8,
    "start_time": "2023-03-08T05:31:25.176Z"
   },
   {
    "duration": 60,
    "start_time": "2023-03-08T05:31:25.204Z"
   },
   {
    "duration": 10,
    "start_time": "2023-03-08T05:31:25.265Z"
   },
   {
    "duration": 189,
    "start_time": "2023-03-08T05:31:25.276Z"
   },
   {
    "duration": 81,
    "start_time": "2023-03-08T05:31:25.466Z"
   },
   {
    "duration": 20,
    "start_time": "2023-03-08T05:31:25.552Z"
   },
   {
    "duration": 62,
    "start_time": "2023-03-08T05:31:25.574Z"
   },
   {
    "duration": 80,
    "start_time": "2023-03-08T05:31:25.639Z"
   },
   {
    "duration": 96,
    "start_time": "2023-03-08T05:31:25.721Z"
   },
   {
    "duration": 42,
    "start_time": "2023-03-08T05:31:25.825Z"
   },
   {
    "duration": 96,
    "start_time": "2023-03-08T05:31:25.868Z"
   },
   {
    "duration": 96,
    "start_time": "2023-03-08T05:31:25.966Z"
   },
   {
    "duration": 6,
    "start_time": "2023-03-08T05:31:26.064Z"
   },
   {
    "duration": 124,
    "start_time": "2023-03-08T05:31:26.072Z"
   },
   {
    "duration": 8,
    "start_time": "2023-03-08T05:31:26.197Z"
   },
   {
    "duration": 59,
    "start_time": "2023-03-08T05:31:26.207Z"
   },
   {
    "duration": 6,
    "start_time": "2023-03-08T05:31:26.268Z"
   },
   {
    "duration": 75,
    "start_time": "2023-03-08T05:31:26.275Z"
   },
   {
    "duration": 109,
    "start_time": "2023-03-08T05:31:26.352Z"
   },
   {
    "duration": 10,
    "start_time": "2023-03-08T05:31:26.462Z"
   },
   {
    "duration": 19,
    "start_time": "2023-03-08T05:31:26.474Z"
   },
   {
    "duration": 99,
    "start_time": "2023-03-08T05:31:26.494Z"
   },
   {
    "duration": 22,
    "start_time": "2023-03-08T05:31:26.595Z"
   },
   {
    "duration": 60,
    "start_time": "2023-03-08T05:31:26.618Z"
   },
   {
    "duration": 6,
    "start_time": "2023-03-08T05:45:28.891Z"
   },
   {
    "duration": 74,
    "start_time": "2023-03-08T05:45:28.899Z"
   },
   {
    "duration": 22,
    "start_time": "2023-03-08T05:45:28.974Z"
   },
   {
    "duration": 15,
    "start_time": "2023-03-08T05:45:28.998Z"
   },
   {
    "duration": 6,
    "start_time": "2023-03-08T05:45:29.015Z"
   },
   {
    "duration": 21,
    "start_time": "2023-03-08T05:45:29.022Z"
   },
   {
    "duration": 20,
    "start_time": "2023-03-08T05:45:29.045Z"
   },
   {
    "duration": 41,
    "start_time": "2023-03-08T05:45:29.067Z"
   },
   {
    "duration": 16,
    "start_time": "2023-03-08T05:45:29.110Z"
   },
   {
    "duration": 8,
    "start_time": "2023-03-08T05:45:29.130Z"
   },
   {
    "duration": 10,
    "start_time": "2023-03-08T05:45:29.139Z"
   },
   {
    "duration": 12,
    "start_time": "2023-03-08T05:45:29.151Z"
   },
   {
    "duration": 8,
    "start_time": "2023-03-08T05:45:29.165Z"
   },
   {
    "duration": 33,
    "start_time": "2023-03-08T05:45:29.175Z"
   },
   {
    "duration": 8,
    "start_time": "2023-03-08T05:45:29.209Z"
   },
   {
    "duration": 7,
    "start_time": "2023-03-08T05:45:29.219Z"
   },
   {
    "duration": 11,
    "start_time": "2023-03-08T05:45:29.228Z"
   },
   {
    "duration": 10,
    "start_time": "2023-03-08T05:45:29.240Z"
   },
   {
    "duration": 15,
    "start_time": "2023-03-08T05:45:29.252Z"
   },
   {
    "duration": 84,
    "start_time": "2023-03-08T05:45:29.268Z"
   },
   {
    "duration": 9,
    "start_time": "2023-03-08T05:45:29.353Z"
   },
   {
    "duration": 32,
    "start_time": "2023-03-08T05:45:29.363Z"
   },
   {
    "duration": 173,
    "start_time": "2023-03-08T05:45:29.398Z"
   },
   {
    "duration": 122,
    "start_time": "2023-03-08T05:45:29.572Z"
   },
   {
    "duration": 13,
    "start_time": "2023-03-08T05:45:29.695Z"
   },
   {
    "duration": 189,
    "start_time": "2023-03-08T05:45:29.709Z"
   },
   {
    "duration": 185,
    "start_time": "2023-03-08T05:45:29.900Z"
   },
   {
    "duration": 304,
    "start_time": "2023-03-08T05:45:30.093Z"
   },
   {
    "duration": 201,
    "start_time": "2023-03-08T05:45:30.399Z"
   },
   {
    "duration": 303,
    "start_time": "2023-03-08T05:45:30.601Z"
   },
   {
    "duration": 133,
    "start_time": "2023-03-08T05:45:30.909Z"
   },
   {
    "duration": 170,
    "start_time": "2023-03-08T05:45:31.044Z"
   },
   {
    "duration": 5,
    "start_time": "2023-03-08T05:45:31.215Z"
   },
   {
    "duration": 203,
    "start_time": "2023-03-08T05:45:31.222Z"
   },
   {
    "duration": 170,
    "start_time": "2023-03-08T05:45:31.426Z"
   },
   {
    "duration": 5,
    "start_time": "2023-03-08T05:45:31.597Z"
   },
   {
    "duration": 27,
    "start_time": "2023-03-08T05:45:31.604Z"
   },
   {
    "duration": 24,
    "start_time": "2023-03-08T05:45:31.633Z"
   },
   {
    "duration": 83,
    "start_time": "2023-03-08T05:45:31.659Z"
   },
   {
    "duration": 0,
    "start_time": "2023-03-08T05:45:31.744Z"
   },
   {
    "duration": 0,
    "start_time": "2023-03-08T05:45:31.745Z"
   },
   {
    "duration": 0,
    "start_time": "2023-03-08T05:45:31.746Z"
   },
   {
    "duration": 0,
    "start_time": "2023-03-08T05:45:31.747Z"
   },
   {
    "duration": 1,
    "start_time": "2023-03-08T05:45:31.748Z"
   },
   {
    "duration": 0,
    "start_time": "2023-03-08T05:45:31.749Z"
   },
   {
    "duration": 1,
    "start_time": "2023-03-08T05:45:31.750Z"
   },
   {
    "duration": 0,
    "start_time": "2023-03-08T05:45:31.752Z"
   },
   {
    "duration": 0,
    "start_time": "2023-03-08T05:45:31.753Z"
   },
   {
    "duration": 0,
    "start_time": "2023-03-08T05:45:31.754Z"
   },
   {
    "duration": 0,
    "start_time": "2023-03-08T05:45:31.755Z"
   },
   {
    "duration": 0,
    "start_time": "2023-03-08T05:45:31.756Z"
   },
   {
    "duration": 0,
    "start_time": "2023-03-08T05:45:31.757Z"
   },
   {
    "duration": 0,
    "start_time": "2023-03-08T05:45:31.758Z"
   },
   {
    "duration": 0,
    "start_time": "2023-03-08T05:45:31.759Z"
   },
   {
    "duration": 0,
    "start_time": "2023-03-08T05:45:31.760Z"
   },
   {
    "duration": 0,
    "start_time": "2023-03-08T05:45:31.761Z"
   },
   {
    "duration": 0,
    "start_time": "2023-03-08T05:45:31.762Z"
   },
   {
    "duration": 0,
    "start_time": "2023-03-08T05:45:31.762Z"
   },
   {
    "duration": 0,
    "start_time": "2023-03-08T05:45:31.763Z"
   },
   {
    "duration": 0,
    "start_time": "2023-03-08T05:45:31.764Z"
   },
   {
    "duration": 4,
    "start_time": "2023-03-08T05:46:22.756Z"
   },
   {
    "duration": 93,
    "start_time": "2023-03-08T05:46:22.763Z"
   },
   {
    "duration": 10,
    "start_time": "2023-03-08T05:46:22.858Z"
   },
   {
    "duration": 40,
    "start_time": "2023-03-08T05:46:22.870Z"
   },
   {
    "duration": 5,
    "start_time": "2023-03-08T05:46:22.912Z"
   },
   {
    "duration": 13,
    "start_time": "2023-03-08T05:46:22.918Z"
   },
   {
    "duration": 10,
    "start_time": "2023-03-08T05:46:22.932Z"
   },
   {
    "duration": 11,
    "start_time": "2023-03-08T05:46:22.944Z"
   },
   {
    "duration": 6,
    "start_time": "2023-03-08T05:46:22.957Z"
   },
   {
    "duration": 36,
    "start_time": "2023-03-08T05:46:22.964Z"
   },
   {
    "duration": 10,
    "start_time": "2023-03-08T05:46:23.001Z"
   },
   {
    "duration": 11,
    "start_time": "2023-03-08T05:46:23.012Z"
   },
   {
    "duration": 11,
    "start_time": "2023-03-08T05:46:23.025Z"
   },
   {
    "duration": 13,
    "start_time": "2023-03-08T05:46:23.041Z"
   },
   {
    "duration": 12,
    "start_time": "2023-03-08T05:46:23.056Z"
   },
   {
    "duration": 13,
    "start_time": "2023-03-08T05:46:23.071Z"
   },
   {
    "duration": 27,
    "start_time": "2023-03-08T05:46:23.097Z"
   },
   {
    "duration": 12,
    "start_time": "2023-03-08T05:46:23.126Z"
   },
   {
    "duration": 12,
    "start_time": "2023-03-08T05:46:23.140Z"
   },
   {
    "duration": 86,
    "start_time": "2023-03-08T05:46:23.154Z"
   },
   {
    "duration": 12,
    "start_time": "2023-03-08T05:46:23.242Z"
   },
   {
    "duration": 45,
    "start_time": "2023-03-08T05:46:23.256Z"
   },
   {
    "duration": 178,
    "start_time": "2023-03-08T05:46:23.303Z"
   },
   {
    "duration": 142,
    "start_time": "2023-03-08T05:46:23.482Z"
   },
   {
    "duration": 18,
    "start_time": "2023-03-08T05:46:23.626Z"
   },
   {
    "duration": 253,
    "start_time": "2023-03-08T05:46:23.646Z"
   },
   {
    "duration": 302,
    "start_time": "2023-03-08T05:46:23.901Z"
   },
   {
    "duration": 309,
    "start_time": "2023-03-08T05:46:24.205Z"
   },
   {
    "duration": 216,
    "start_time": "2023-03-08T05:46:24.515Z"
   },
   {
    "duration": 291,
    "start_time": "2023-03-08T05:46:24.733Z"
   },
   {
    "duration": 178,
    "start_time": "2023-03-08T05:46:25.026Z"
   },
   {
    "duration": 133,
    "start_time": "2023-03-08T05:46:25.206Z"
   },
   {
    "duration": 6,
    "start_time": "2023-03-08T05:46:25.341Z"
   },
   {
    "duration": 218,
    "start_time": "2023-03-08T05:46:25.348Z"
   },
   {
    "duration": 198,
    "start_time": "2023-03-08T05:46:25.568Z"
   },
   {
    "duration": 5,
    "start_time": "2023-03-08T05:46:25.768Z"
   },
   {
    "duration": 5,
    "start_time": "2023-03-08T05:46:25.781Z"
   },
   {
    "duration": 8,
    "start_time": "2023-03-08T05:46:25.798Z"
   },
   {
    "duration": 12,
    "start_time": "2023-03-08T05:46:25.807Z"
   },
   {
    "duration": 88,
    "start_time": "2023-03-08T05:46:25.821Z"
   },
   {
    "duration": 0,
    "start_time": "2023-03-08T05:46:25.912Z"
   },
   {
    "duration": 0,
    "start_time": "2023-03-08T05:46:25.913Z"
   },
   {
    "duration": 0,
    "start_time": "2023-03-08T05:46:25.914Z"
   },
   {
    "duration": 0,
    "start_time": "2023-03-08T05:46:25.916Z"
   },
   {
    "duration": 0,
    "start_time": "2023-03-08T05:46:25.917Z"
   },
   {
    "duration": 0,
    "start_time": "2023-03-08T05:46:25.918Z"
   },
   {
    "duration": 0,
    "start_time": "2023-03-08T05:46:25.920Z"
   },
   {
    "duration": 0,
    "start_time": "2023-03-08T05:46:25.920Z"
   },
   {
    "duration": 0,
    "start_time": "2023-03-08T05:46:25.922Z"
   },
   {
    "duration": 0,
    "start_time": "2023-03-08T05:46:25.923Z"
   },
   {
    "duration": 0,
    "start_time": "2023-03-08T05:46:25.924Z"
   },
   {
    "duration": 0,
    "start_time": "2023-03-08T05:46:25.925Z"
   },
   {
    "duration": 0,
    "start_time": "2023-03-08T05:46:25.926Z"
   },
   {
    "duration": 0,
    "start_time": "2023-03-08T05:46:25.927Z"
   },
   {
    "duration": 0,
    "start_time": "2023-03-08T05:46:25.928Z"
   },
   {
    "duration": 0,
    "start_time": "2023-03-08T05:46:25.930Z"
   },
   {
    "duration": 0,
    "start_time": "2023-03-08T05:46:25.932Z"
   },
   {
    "duration": 0,
    "start_time": "2023-03-08T05:46:25.933Z"
   },
   {
    "duration": 0,
    "start_time": "2023-03-08T05:46:25.935Z"
   },
   {
    "duration": 0,
    "start_time": "2023-03-08T05:46:25.936Z"
   },
   {
    "duration": 5,
    "start_time": "2023-03-08T05:46:51.800Z"
   },
   {
    "duration": 93,
    "start_time": "2023-03-08T05:46:51.808Z"
   },
   {
    "duration": 11,
    "start_time": "2023-03-08T05:46:51.903Z"
   },
   {
    "duration": 21,
    "start_time": "2023-03-08T05:46:51.916Z"
   },
   {
    "duration": 5,
    "start_time": "2023-03-08T05:46:51.941Z"
   },
   {
    "duration": 16,
    "start_time": "2023-03-08T05:46:51.948Z"
   },
   {
    "duration": 32,
    "start_time": "2023-03-08T05:46:51.966Z"
   },
   {
    "duration": 19,
    "start_time": "2023-03-08T05:46:52.000Z"
   },
   {
    "duration": 17,
    "start_time": "2023-03-08T05:46:52.021Z"
   },
   {
    "duration": 15,
    "start_time": "2023-03-08T05:46:52.040Z"
   },
   {
    "duration": 45,
    "start_time": "2023-03-08T05:46:52.057Z"
   },
   {
    "duration": 14,
    "start_time": "2023-03-08T05:46:52.104Z"
   },
   {
    "duration": 15,
    "start_time": "2023-03-08T05:46:52.120Z"
   },
   {
    "duration": 18,
    "start_time": "2023-03-08T05:46:52.138Z"
   },
   {
    "duration": 30,
    "start_time": "2023-03-08T05:46:52.158Z"
   },
   {
    "duration": 35,
    "start_time": "2023-03-08T05:46:52.189Z"
   },
   {
    "duration": 20,
    "start_time": "2023-03-08T05:46:52.226Z"
   },
   {
    "duration": 26,
    "start_time": "2023-03-08T05:46:52.248Z"
   },
   {
    "duration": 32,
    "start_time": "2023-03-08T05:46:52.276Z"
   },
   {
    "duration": 99,
    "start_time": "2023-03-08T05:46:52.310Z"
   },
   {
    "duration": 12,
    "start_time": "2023-03-08T05:46:52.411Z"
   },
   {
    "duration": 15,
    "start_time": "2023-03-08T05:46:52.424Z"
   },
   {
    "duration": 186,
    "start_time": "2023-03-08T05:46:52.441Z"
   },
   {
    "duration": 130,
    "start_time": "2023-03-08T05:46:52.629Z"
   },
   {
    "duration": 37,
    "start_time": "2023-03-08T05:46:52.761Z"
   },
   {
    "duration": 204,
    "start_time": "2023-03-08T05:46:52.801Z"
   },
   {
    "duration": 197,
    "start_time": "2023-03-08T05:46:53.007Z"
   },
   {
    "duration": 387,
    "start_time": "2023-03-08T05:46:53.206Z"
   },
   {
    "duration": 239,
    "start_time": "2023-03-08T05:46:53.599Z"
   },
   {
    "duration": 313,
    "start_time": "2023-03-08T05:46:53.840Z"
   },
   {
    "duration": 154,
    "start_time": "2023-03-08T05:46:54.154Z"
   },
   {
    "duration": 116,
    "start_time": "2023-03-08T05:46:54.310Z"
   },
   {
    "duration": 6,
    "start_time": "2023-03-08T05:46:54.428Z"
   },
   {
    "duration": 166,
    "start_time": "2023-03-08T05:46:54.435Z"
   },
   {
    "duration": 160,
    "start_time": "2023-03-08T05:46:54.603Z"
   },
   {
    "duration": 5,
    "start_time": "2023-03-08T05:46:54.765Z"
   },
   {
    "duration": 30,
    "start_time": "2023-03-08T05:46:54.772Z"
   },
   {
    "duration": 8,
    "start_time": "2023-03-08T05:46:54.804Z"
   },
   {
    "duration": 6,
    "start_time": "2023-03-08T05:46:54.813Z"
   },
   {
    "duration": 7,
    "start_time": "2023-03-08T05:46:54.820Z"
   },
   {
    "duration": 3,
    "start_time": "2023-03-08T05:46:54.831Z"
   },
   {
    "duration": 5,
    "start_time": "2023-03-08T05:46:54.835Z"
   },
   {
    "duration": 6,
    "start_time": "2023-03-08T05:46:54.841Z"
   },
   {
    "duration": 8,
    "start_time": "2023-03-08T05:46:54.848Z"
   },
   {
    "duration": 43,
    "start_time": "2023-03-08T05:46:54.857Z"
   },
   {
    "duration": 75,
    "start_time": "2023-03-08T05:46:54.902Z"
   },
   {
    "duration": 121,
    "start_time": "2023-03-08T05:46:54.978Z"
   },
   {
    "duration": 10,
    "start_time": "2023-03-08T05:46:55.105Z"
   },
   {
    "duration": 86,
    "start_time": "2023-03-08T05:46:55.117Z"
   },
   {
    "duration": 0,
    "start_time": "2023-03-08T05:46:55.205Z"
   },
   {
    "duration": 0,
    "start_time": "2023-03-08T05:46:55.206Z"
   },
   {
    "duration": 0,
    "start_time": "2023-03-08T05:46:55.208Z"
   },
   {
    "duration": 0,
    "start_time": "2023-03-08T05:46:55.210Z"
   },
   {
    "duration": 0,
    "start_time": "2023-03-08T05:46:55.212Z"
   },
   {
    "duration": 0,
    "start_time": "2023-03-08T05:46:55.213Z"
   },
   {
    "duration": 0,
    "start_time": "2023-03-08T05:46:55.215Z"
   },
   {
    "duration": 0,
    "start_time": "2023-03-08T05:46:55.217Z"
   },
   {
    "duration": 0,
    "start_time": "2023-03-08T05:46:55.218Z"
   },
   {
    "duration": 0,
    "start_time": "2023-03-08T05:46:55.220Z"
   },
   {
    "duration": 0,
    "start_time": "2023-03-08T05:46:55.221Z"
   },
   {
    "duration": 3,
    "start_time": "2023-03-08T05:48:06.309Z"
   },
   {
    "duration": 87,
    "start_time": "2023-03-08T05:48:06.314Z"
   },
   {
    "duration": 9,
    "start_time": "2023-03-08T05:48:06.403Z"
   },
   {
    "duration": 11,
    "start_time": "2023-03-08T05:48:06.414Z"
   },
   {
    "duration": 16,
    "start_time": "2023-03-08T05:48:06.427Z"
   },
   {
    "duration": 10,
    "start_time": "2023-03-08T05:48:06.445Z"
   },
   {
    "duration": 22,
    "start_time": "2023-03-08T05:48:06.456Z"
   },
   {
    "duration": 30,
    "start_time": "2023-03-08T05:48:06.480Z"
   },
   {
    "duration": 17,
    "start_time": "2023-03-08T05:48:06.512Z"
   },
   {
    "duration": 6,
    "start_time": "2023-03-08T05:48:06.531Z"
   },
   {
    "duration": 13,
    "start_time": "2023-03-08T05:48:06.539Z"
   },
   {
    "duration": 11,
    "start_time": "2023-03-08T05:48:06.554Z"
   },
   {
    "duration": 8,
    "start_time": "2023-03-08T05:48:06.567Z"
   },
   {
    "duration": 39,
    "start_time": "2023-03-08T05:48:06.579Z"
   },
   {
    "duration": 7,
    "start_time": "2023-03-08T05:48:06.619Z"
   },
   {
    "duration": 5,
    "start_time": "2023-03-08T05:48:06.628Z"
   },
   {
    "duration": 12,
    "start_time": "2023-03-08T05:48:06.634Z"
   },
   {
    "duration": 13,
    "start_time": "2023-03-08T05:48:06.648Z"
   },
   {
    "duration": 11,
    "start_time": "2023-03-08T05:48:06.662Z"
   },
   {
    "duration": 91,
    "start_time": "2023-03-08T05:48:06.675Z"
   },
   {
    "duration": 31,
    "start_time": "2023-03-08T05:48:06.768Z"
   },
   {
    "duration": 18,
    "start_time": "2023-03-08T05:48:06.801Z"
   },
   {
    "duration": 155,
    "start_time": "2023-03-08T05:48:06.821Z"
   },
   {
    "duration": 138,
    "start_time": "2023-03-08T05:48:06.977Z"
   },
   {
    "duration": 12,
    "start_time": "2023-03-08T05:48:07.117Z"
   },
   {
    "duration": 192,
    "start_time": "2023-03-08T05:48:07.130Z"
   },
   {
    "duration": 182,
    "start_time": "2023-03-08T05:48:07.324Z"
   },
   {
    "duration": 260,
    "start_time": "2023-03-08T05:48:07.508Z"
   },
   {
    "duration": 253,
    "start_time": "2023-03-08T05:48:07.779Z"
   },
   {
    "duration": 268,
    "start_time": "2023-03-08T05:48:08.034Z"
   },
   {
    "duration": 159,
    "start_time": "2023-03-08T05:48:08.304Z"
   },
   {
    "duration": 145,
    "start_time": "2023-03-08T05:48:08.465Z"
   },
   {
    "duration": 5,
    "start_time": "2023-03-08T05:48:08.611Z"
   },
   {
    "duration": 150,
    "start_time": "2023-03-08T05:48:08.617Z"
   },
   {
    "duration": 157,
    "start_time": "2023-03-08T05:48:08.768Z"
   },
   {
    "duration": 5,
    "start_time": "2023-03-08T05:48:08.927Z"
   },
   {
    "duration": 35,
    "start_time": "2023-03-08T05:48:08.933Z"
   },
   {
    "duration": 12,
    "start_time": "2023-03-08T05:48:08.970Z"
   },
   {
    "duration": 34,
    "start_time": "2023-03-08T05:48:08.983Z"
   },
   {
    "duration": 19,
    "start_time": "2023-03-08T05:48:09.019Z"
   },
   {
    "duration": 6,
    "start_time": "2023-03-08T05:48:09.043Z"
   },
   {
    "duration": 6,
    "start_time": "2023-03-08T05:48:09.050Z"
   },
   {
    "duration": 45,
    "start_time": "2023-03-08T05:48:09.058Z"
   },
   {
    "duration": 2,
    "start_time": "2023-03-08T05:48:09.106Z"
   },
   {
    "duration": 54,
    "start_time": "2023-03-08T05:48:09.111Z"
   },
   {
    "duration": 80,
    "start_time": "2023-03-08T05:48:09.167Z"
   },
   {
    "duration": 75,
    "start_time": "2023-03-08T05:48:09.249Z"
   },
   {
    "duration": 7,
    "start_time": "2023-03-08T05:48:09.326Z"
   },
   {
    "duration": 17,
    "start_time": "2023-03-08T05:48:09.334Z"
   },
   {
    "duration": 19,
    "start_time": "2023-03-08T05:48:09.353Z"
   },
   {
    "duration": 7,
    "start_time": "2023-03-08T05:48:09.374Z"
   },
   {
    "duration": 37,
    "start_time": "2023-03-08T05:48:09.382Z"
   },
   {
    "duration": 19,
    "start_time": "2023-03-08T05:48:09.421Z"
   },
   {
    "duration": 7,
    "start_time": "2023-03-08T05:48:09.442Z"
   },
   {
    "duration": 12,
    "start_time": "2023-03-08T05:48:09.451Z"
   },
   {
    "duration": 9,
    "start_time": "2023-03-08T05:48:09.466Z"
   },
   {
    "duration": 36,
    "start_time": "2023-03-08T05:48:09.477Z"
   },
   {
    "duration": 44,
    "start_time": "2023-03-08T05:48:09.515Z"
   },
   {
    "duration": 11,
    "start_time": "2023-03-08T05:48:09.561Z"
   },
   {
    "duration": 18,
    "start_time": "2023-03-08T05:48:09.574Z"
   },
   {
    "duration": 5,
    "start_time": "2023-03-08T05:53:56.707Z"
   },
   {
    "duration": 95,
    "start_time": "2023-03-08T05:53:56.714Z"
   },
   {
    "duration": 8,
    "start_time": "2023-03-08T05:53:56.810Z"
   },
   {
    "duration": 9,
    "start_time": "2023-03-08T05:53:56.820Z"
   },
   {
    "duration": 4,
    "start_time": "2023-03-08T05:53:56.832Z"
   },
   {
    "duration": 10,
    "start_time": "2023-03-08T05:53:56.837Z"
   },
   {
    "duration": 13,
    "start_time": "2023-03-08T05:53:56.848Z"
   },
   {
    "duration": 31,
    "start_time": "2023-03-08T05:53:56.862Z"
   },
   {
    "duration": 23,
    "start_time": "2023-03-08T05:53:56.894Z"
   },
   {
    "duration": 5,
    "start_time": "2023-03-08T05:53:56.919Z"
   },
   {
    "duration": 11,
    "start_time": "2023-03-08T05:53:56.926Z"
   },
   {
    "duration": 10,
    "start_time": "2023-03-08T05:53:56.939Z"
   },
   {
    "duration": 13,
    "start_time": "2023-03-08T05:53:56.951Z"
   },
   {
    "duration": 10,
    "start_time": "2023-03-08T05:53:56.966Z"
   },
   {
    "duration": 21,
    "start_time": "2023-03-08T05:53:56.997Z"
   },
   {
    "duration": 4,
    "start_time": "2023-03-08T05:53:57.020Z"
   },
   {
    "duration": 12,
    "start_time": "2023-03-08T05:53:57.025Z"
   },
   {
    "duration": 11,
    "start_time": "2023-03-08T05:53:57.039Z"
   },
   {
    "duration": 10,
    "start_time": "2023-03-08T05:53:57.051Z"
   },
   {
    "duration": 89,
    "start_time": "2023-03-08T05:53:57.063Z"
   },
   {
    "duration": 9,
    "start_time": "2023-03-08T05:53:57.153Z"
   },
   {
    "duration": 43,
    "start_time": "2023-03-08T05:53:57.164Z"
   },
   {
    "duration": 166,
    "start_time": "2023-03-08T05:53:57.210Z"
   },
   {
    "duration": 146,
    "start_time": "2023-03-08T05:53:57.377Z"
   },
   {
    "duration": 12,
    "start_time": "2023-03-08T05:53:57.524Z"
   },
   {
    "duration": 205,
    "start_time": "2023-03-08T05:53:57.538Z"
   },
   {
    "duration": 197,
    "start_time": "2023-03-08T05:53:57.745Z"
   },
   {
    "duration": 291,
    "start_time": "2023-03-08T05:53:57.943Z"
   },
   {
    "duration": 234,
    "start_time": "2023-03-08T05:53:58.236Z"
   },
   {
    "duration": 379,
    "start_time": "2023-03-08T05:53:58.472Z"
   },
   {
    "duration": 155,
    "start_time": "2023-03-08T05:53:58.852Z"
   },
   {
    "duration": 136,
    "start_time": "2023-03-08T05:53:59.009Z"
   },
   {
    "duration": 5,
    "start_time": "2023-03-08T05:53:59.146Z"
   },
   {
    "duration": 154,
    "start_time": "2023-03-08T05:53:59.153Z"
   },
   {
    "duration": 152,
    "start_time": "2023-03-08T05:53:59.310Z"
   },
   {
    "duration": 5,
    "start_time": "2023-03-08T05:53:59.464Z"
   },
   {
    "duration": 27,
    "start_time": "2023-03-08T05:53:59.487Z"
   },
   {
    "duration": 7,
    "start_time": "2023-03-08T05:53:59.516Z"
   },
   {
    "duration": 6,
    "start_time": "2023-03-08T05:53:59.525Z"
   },
   {
    "duration": 7,
    "start_time": "2023-03-08T05:53:59.532Z"
   },
   {
    "duration": 2,
    "start_time": "2023-03-08T05:53:59.545Z"
   },
   {
    "duration": 7,
    "start_time": "2023-03-08T05:53:59.549Z"
   },
   {
    "duration": 19,
    "start_time": "2023-03-08T05:53:59.557Z"
   },
   {
    "duration": 47,
    "start_time": "2023-03-08T05:53:59.578Z"
   },
   {
    "duration": 9,
    "start_time": "2023-03-08T05:53:59.627Z"
   },
   {
    "duration": 79,
    "start_time": "2023-03-08T05:53:59.638Z"
   },
   {
    "duration": 88,
    "start_time": "2023-03-08T05:53:59.718Z"
   },
   {
    "duration": 8,
    "start_time": "2023-03-08T05:53:59.810Z"
   },
   {
    "duration": 49,
    "start_time": "2023-03-08T05:53:59.819Z"
   },
   {
    "duration": 5,
    "start_time": "2023-03-08T05:53:59.870Z"
   },
   {
    "duration": 42,
    "start_time": "2023-03-08T05:53:59.877Z"
   },
   {
    "duration": 6,
    "start_time": "2023-03-08T05:53:59.920Z"
   },
   {
    "duration": 4,
    "start_time": "2023-03-08T05:53:59.928Z"
   },
   {
    "duration": 15,
    "start_time": "2023-03-08T05:53:59.934Z"
   },
   {
    "duration": 8,
    "start_time": "2023-03-08T05:53:59.951Z"
   },
   {
    "duration": 6,
    "start_time": "2023-03-08T05:53:59.961Z"
   },
   {
    "duration": 44,
    "start_time": "2023-03-08T05:53:59.968Z"
   },
   {
    "duration": 9,
    "start_time": "2023-03-08T05:54:00.014Z"
   },
   {
    "duration": 16,
    "start_time": "2023-03-08T05:54:00.025Z"
   },
   {
    "duration": 283,
    "start_time": "2023-03-08T05:55:02.142Z"
   },
   {
    "duration": 99,
    "start_time": "2023-03-08T05:55:32.721Z"
   },
   {
    "duration": 102,
    "start_time": "2023-03-08T05:55:48.642Z"
   },
   {
    "duration": 138,
    "start_time": "2023-03-08T05:55:54.882Z"
   },
   {
    "duration": 84,
    "start_time": "2023-03-08T05:56:18.155Z"
   },
   {
    "duration": 95,
    "start_time": "2023-03-08T05:56:47.512Z"
   },
   {
    "duration": 102,
    "start_time": "2023-03-08T05:57:28.016Z"
   },
   {
    "duration": 4,
    "start_time": "2023-03-08T05:59:33.628Z"
   },
   {
    "duration": 112,
    "start_time": "2023-03-08T05:59:33.634Z"
   },
   {
    "duration": 9,
    "start_time": "2023-03-08T05:59:33.747Z"
   },
   {
    "duration": 13,
    "start_time": "2023-03-08T05:59:33.757Z"
   },
   {
    "duration": 33,
    "start_time": "2023-03-08T05:59:33.772Z"
   },
   {
    "duration": 26,
    "start_time": "2023-03-08T05:59:33.810Z"
   },
   {
    "duration": 8,
    "start_time": "2023-03-08T05:59:33.838Z"
   },
   {
    "duration": 10,
    "start_time": "2023-03-08T05:59:33.847Z"
   },
   {
    "duration": 5,
    "start_time": "2023-03-08T05:59:33.859Z"
   },
   {
    "duration": 4,
    "start_time": "2023-03-08T05:59:33.865Z"
   },
   {
    "duration": 4,
    "start_time": "2023-03-08T05:59:33.871Z"
   },
   {
    "duration": 39,
    "start_time": "2023-03-08T05:59:33.877Z"
   },
   {
    "duration": 8,
    "start_time": "2023-03-08T05:59:33.918Z"
   },
   {
    "duration": 9,
    "start_time": "2023-03-08T05:59:33.928Z"
   },
   {
    "duration": 7,
    "start_time": "2023-03-08T05:59:33.939Z"
   },
   {
    "duration": 7,
    "start_time": "2023-03-08T05:59:33.947Z"
   },
   {
    "duration": 12,
    "start_time": "2023-03-08T05:59:33.955Z"
   },
   {
    "duration": 10,
    "start_time": "2023-03-08T05:59:33.968Z"
   },
   {
    "duration": 30,
    "start_time": "2023-03-08T05:59:33.989Z"
   },
   {
    "duration": 89,
    "start_time": "2023-03-08T05:59:34.021Z"
   },
   {
    "duration": 11,
    "start_time": "2023-03-08T05:59:34.114Z"
   },
   {
    "duration": 18,
    "start_time": "2023-03-08T05:59:34.127Z"
   },
   {
    "duration": 219,
    "start_time": "2023-03-08T05:59:34.147Z"
   },
   {
    "duration": 154,
    "start_time": "2023-03-08T05:59:34.367Z"
   },
   {
    "duration": 13,
    "start_time": "2023-03-08T05:59:34.523Z"
   },
   {
    "duration": 193,
    "start_time": "2023-03-08T05:59:34.537Z"
   },
   {
    "duration": 202,
    "start_time": "2023-03-08T05:59:34.733Z"
   },
   {
    "duration": 277,
    "start_time": "2023-03-08T05:59:34.937Z"
   },
   {
    "duration": 201,
    "start_time": "2023-03-08T05:59:35.216Z"
   },
   {
    "duration": 306,
    "start_time": "2023-03-08T05:59:35.419Z"
   },
   {
    "duration": 187,
    "start_time": "2023-03-08T05:59:35.727Z"
   },
   {
    "duration": 133,
    "start_time": "2023-03-08T05:59:35.916Z"
   },
   {
    "duration": 5,
    "start_time": "2023-03-08T05:59:36.051Z"
   },
   {
    "duration": 236,
    "start_time": "2023-03-08T05:59:36.058Z"
   },
   {
    "duration": 187,
    "start_time": "2023-03-08T05:59:36.302Z"
   },
   {
    "duration": 6,
    "start_time": "2023-03-08T05:59:36.490Z"
   },
   {
    "duration": 76,
    "start_time": "2023-03-08T05:59:36.497Z"
   },
   {
    "duration": 102,
    "start_time": "2023-03-08T05:59:36.574Z"
   },
   {
    "duration": 34,
    "start_time": "2023-03-08T05:59:36.677Z"
   },
   {
    "duration": 25,
    "start_time": "2023-03-08T05:59:36.714Z"
   },
   {
    "duration": 4,
    "start_time": "2023-03-08T05:59:36.743Z"
   },
   {
    "duration": 13,
    "start_time": "2023-03-08T05:59:36.748Z"
   },
   {
    "duration": 6,
    "start_time": "2023-03-08T05:59:36.762Z"
   },
   {
    "duration": 7,
    "start_time": "2023-03-08T05:59:36.770Z"
   },
   {
    "duration": 38,
    "start_time": "2023-03-08T05:59:36.778Z"
   },
   {
    "duration": 7,
    "start_time": "2023-03-08T05:59:36.817Z"
   },
   {
    "duration": 9,
    "start_time": "2023-03-08T05:59:36.826Z"
   },
   {
    "duration": 22,
    "start_time": "2023-03-08T05:59:36.836Z"
   },
   {
    "duration": 9,
    "start_time": "2023-03-08T05:59:36.859Z"
   },
   {
    "duration": 153,
    "start_time": "2023-03-08T05:59:36.870Z"
   },
   {
    "duration": 30,
    "start_time": "2023-03-08T06:07:26.507Z"
   },
   {
    "duration": 4,
    "start_time": "2023-03-08T06:07:42.072Z"
   },
   {
    "duration": 4,
    "start_time": "2023-03-08T06:07:47.240Z"
   },
   {
    "duration": 15,
    "start_time": "2023-03-08T06:08:05.414Z"
   },
   {
    "duration": 25,
    "start_time": "2023-03-08T06:08:19.975Z"
   },
   {
    "duration": 28,
    "start_time": "2023-03-08T06:10:15.932Z"
   },
   {
    "duration": 51,
    "start_time": "2023-03-08T06:10:20.075Z"
   },
   {
    "duration": 60,
    "start_time": "2023-03-08T06:10:26.349Z"
   },
   {
    "duration": 12,
    "start_time": "2023-03-08T06:10:49.127Z"
   },
   {
    "duration": 7,
    "start_time": "2023-03-08T06:10:57.549Z"
   },
   {
    "duration": 5,
    "start_time": "2023-03-08T06:11:10.023Z"
   },
   {
    "duration": 114,
    "start_time": "2023-03-08T06:11:10.030Z"
   },
   {
    "duration": 8,
    "start_time": "2023-03-08T06:11:10.145Z"
   },
   {
    "duration": 10,
    "start_time": "2023-03-08T06:11:10.154Z"
   },
   {
    "duration": 3,
    "start_time": "2023-03-08T06:11:10.167Z"
   },
   {
    "duration": 37,
    "start_time": "2023-03-08T06:11:10.172Z"
   },
   {
    "duration": 11,
    "start_time": "2023-03-08T06:11:10.220Z"
   },
   {
    "duration": 12,
    "start_time": "2023-03-08T06:11:10.232Z"
   },
   {
    "duration": 6,
    "start_time": "2023-03-08T06:11:10.246Z"
   },
   {
    "duration": 5,
    "start_time": "2023-03-08T06:11:10.254Z"
   },
   {
    "duration": 6,
    "start_time": "2023-03-08T06:11:10.261Z"
   },
   {
    "duration": 26,
    "start_time": "2023-03-08T06:11:10.268Z"
   },
   {
    "duration": 44,
    "start_time": "2023-03-08T06:11:10.296Z"
   },
   {
    "duration": 16,
    "start_time": "2023-03-08T06:11:10.342Z"
   },
   {
    "duration": 7,
    "start_time": "2023-03-08T06:11:10.360Z"
   },
   {
    "duration": 7,
    "start_time": "2023-03-08T06:11:10.368Z"
   },
   {
    "duration": 51,
    "start_time": "2023-03-08T06:11:10.376Z"
   },
   {
    "duration": 10,
    "start_time": "2023-03-08T06:11:10.429Z"
   },
   {
    "duration": 10,
    "start_time": "2023-03-08T06:11:10.440Z"
   },
   {
    "duration": 81,
    "start_time": "2023-03-08T06:11:10.452Z"
   },
   {
    "duration": 10,
    "start_time": "2023-03-08T06:11:10.534Z"
   },
   {
    "duration": 13,
    "start_time": "2023-03-08T06:11:10.545Z"
   },
   {
    "duration": 185,
    "start_time": "2023-03-08T06:11:10.559Z"
   },
   {
    "duration": 123,
    "start_time": "2023-03-08T06:11:10.745Z"
   },
   {
    "duration": 35,
    "start_time": "2023-03-08T06:11:10.884Z"
   },
   {
    "duration": 232,
    "start_time": "2023-03-08T06:11:10.920Z"
   },
   {
    "duration": 189,
    "start_time": "2023-03-08T06:11:11.153Z"
   },
   {
    "duration": 245,
    "start_time": "2023-03-08T06:11:11.344Z"
   },
   {
    "duration": 239,
    "start_time": "2023-03-08T06:11:11.590Z"
   },
   {
    "duration": 294,
    "start_time": "2023-03-08T06:11:11.831Z"
   },
   {
    "duration": 124,
    "start_time": "2023-03-08T06:11:12.127Z"
   },
   {
    "duration": 193,
    "start_time": "2023-03-08T06:11:12.253Z"
   },
   {
    "duration": 4,
    "start_time": "2023-03-08T06:11:12.448Z"
   },
   {
    "duration": 167,
    "start_time": "2023-03-08T06:11:12.453Z"
   },
   {
    "duration": 138,
    "start_time": "2023-03-08T06:11:12.623Z"
   },
   {
    "duration": 4,
    "start_time": "2023-03-08T06:11:12.763Z"
   },
   {
    "duration": 88,
    "start_time": "2023-03-08T06:11:12.770Z"
   },
   {
    "duration": 91,
    "start_time": "2023-03-08T06:11:12.860Z"
   },
   {
    "duration": 11,
    "start_time": "2023-03-08T06:11:12.952Z"
   },
   {
    "duration": 36,
    "start_time": "2023-03-08T06:11:12.965Z"
   },
   {
    "duration": 17,
    "start_time": "2023-03-08T06:11:13.008Z"
   },
   {
    "duration": 10,
    "start_time": "2023-03-08T06:11:13.027Z"
   },
   {
    "duration": 5,
    "start_time": "2023-03-08T06:11:13.038Z"
   },
   {
    "duration": 7,
    "start_time": "2023-03-08T06:11:13.045Z"
   },
   {
    "duration": 8,
    "start_time": "2023-03-08T06:11:13.053Z"
   },
   {
    "duration": 6,
    "start_time": "2023-03-08T06:11:13.062Z"
   },
   {
    "duration": 6,
    "start_time": "2023-03-08T06:11:13.069Z"
   },
   {
    "duration": 58,
    "start_time": "2023-03-08T06:11:13.076Z"
   },
   {
    "duration": 10,
    "start_time": "2023-03-08T06:11:13.136Z"
   },
   {
    "duration": 6,
    "start_time": "2023-03-08T06:11:13.148Z"
   },
   {
    "duration": 1651,
    "start_time": "2023-03-08T19:38:30.140Z"
   },
   {
    "duration": 205,
    "start_time": "2023-03-08T19:38:31.793Z"
   },
   {
    "duration": 20,
    "start_time": "2023-03-08T19:38:32.004Z"
   },
   {
    "duration": 30,
    "start_time": "2023-03-08T19:38:32.027Z"
   },
   {
    "duration": 20,
    "start_time": "2023-03-08T19:38:32.059Z"
   },
   {
    "duration": 32,
    "start_time": "2023-03-08T19:38:32.081Z"
   },
   {
    "duration": 24,
    "start_time": "2023-03-08T19:38:32.116Z"
   },
   {
    "duration": 11,
    "start_time": "2023-03-08T19:38:32.142Z"
   },
   {
    "duration": 12,
    "start_time": "2023-03-08T19:38:32.155Z"
   },
   {
    "duration": 6,
    "start_time": "2023-03-08T19:38:32.171Z"
   },
   {
    "duration": 9,
    "start_time": "2023-03-08T19:38:32.179Z"
   },
   {
    "duration": 42,
    "start_time": "2023-03-08T19:38:32.189Z"
   },
   {
    "duration": 11,
    "start_time": "2023-03-08T19:38:32.234Z"
   },
   {
    "duration": 19,
    "start_time": "2023-03-08T19:38:32.247Z"
   },
   {
    "duration": 9,
    "start_time": "2023-03-08T19:38:32.268Z"
   },
   {
    "duration": 10,
    "start_time": "2023-03-08T19:38:32.279Z"
   },
   {
    "duration": 12,
    "start_time": "2023-03-08T19:38:32.292Z"
   },
   {
    "duration": 32,
    "start_time": "2023-03-08T19:38:32.307Z"
   },
   {
    "duration": 10,
    "start_time": "2023-03-08T19:38:32.341Z"
   },
   {
    "duration": 65,
    "start_time": "2023-03-08T19:38:32.352Z"
   },
   {
    "duration": 11,
    "start_time": "2023-03-08T19:38:32.431Z"
   },
   {
    "duration": 18,
    "start_time": "2023-03-08T19:38:32.444Z"
   },
   {
    "duration": 192,
    "start_time": "2023-03-08T19:38:32.464Z"
   },
   {
    "duration": 299,
    "start_time": "2023-03-08T19:38:32.659Z"
   },
   {
    "duration": 13,
    "start_time": "2023-03-08T19:38:32.960Z"
   },
   {
    "duration": 573,
    "start_time": "2023-03-08T19:38:32.975Z"
   },
   {
    "duration": 428,
    "start_time": "2023-03-08T19:38:33.551Z"
   },
   {
    "duration": 527,
    "start_time": "2023-03-08T19:38:34.034Z"
   },
   {
    "duration": 269,
    "start_time": "2023-03-08T19:38:34.563Z"
   },
   {
    "duration": 301,
    "start_time": "2023-03-08T19:38:34.834Z"
   },
   {
    "duration": 124,
    "start_time": "2023-03-08T19:38:35.137Z"
   },
   {
    "duration": 121,
    "start_time": "2023-03-08T19:38:35.263Z"
   },
   {
    "duration": 5,
    "start_time": "2023-03-08T19:38:35.386Z"
   },
   {
    "duration": 161,
    "start_time": "2023-03-08T19:38:35.392Z"
   },
   {
    "duration": 498,
    "start_time": "2023-03-08T19:38:35.555Z"
   },
   {
    "duration": 7,
    "start_time": "2023-03-08T19:38:36.055Z"
   },
   {
    "duration": 194,
    "start_time": "2023-03-08T19:38:36.063Z"
   },
   {
    "duration": 201,
    "start_time": "2023-03-08T19:38:36.259Z"
   },
   {
    "duration": 9,
    "start_time": "2023-03-08T19:38:36.462Z"
   },
   {
    "duration": 84,
    "start_time": "2023-03-08T19:38:36.473Z"
   },
   {
    "duration": 5,
    "start_time": "2023-03-08T19:38:36.559Z"
   },
   {
    "duration": 67,
    "start_time": "2023-03-08T19:38:36.566Z"
   },
   {
    "duration": 8,
    "start_time": "2023-03-08T19:38:36.635Z"
   },
   {
    "duration": 9,
    "start_time": "2023-03-08T19:38:36.646Z"
   },
   {
    "duration": 15,
    "start_time": "2023-03-08T19:38:36.657Z"
   },
   {
    "duration": 204,
    "start_time": "2023-03-08T19:38:36.674Z"
   },
   {
    "duration": 0,
    "start_time": "2023-03-08T19:38:36.880Z"
   },
   {
    "duration": 0,
    "start_time": "2023-03-08T19:38:36.932Z"
   },
   {
    "duration": 0,
    "start_time": "2023-03-08T19:38:36.934Z"
   },
   {
    "duration": 0,
    "start_time": "2023-03-08T19:38:36.935Z"
   },
   {
    "duration": 7,
    "start_time": "2023-03-08T19:40:41.351Z"
   },
   {
    "duration": 7,
    "start_time": "2023-03-08T19:40:41.790Z"
   },
   {
    "duration": 21,
    "start_time": "2023-03-08T19:40:44.580Z"
   },
   {
    "duration": 11,
    "start_time": "2023-03-08T19:40:49.968Z"
   },
   {
    "duration": 17,
    "start_time": "2023-03-08T19:40:50.022Z"
   }
  ],
  "kernelspec": {
   "display_name": "Python 3 (ipykernel)",
   "language": "python",
   "name": "python3"
  },
  "language_info": {
   "codemirror_mode": {
    "name": "ipython",
    "version": 3
   },
   "file_extension": ".py",
   "mimetype": "text/x-python",
   "name": "python",
   "nbconvert_exporter": "python",
   "pygments_lexer": "ipython3",
   "version": "3.9.5"
  },
  "toc": {
   "base_numbering": 1,
   "nav_menu": {},
   "number_sections": true,
   "sideBar": true,
   "skip_h1_title": true,
   "title_cell": "Table of Contents",
   "title_sidebar": "Contents",
   "toc_cell": false,
   "toc_position": {},
   "toc_section_display": true,
   "toc_window_display": false
  }
 },
 "nbformat": 4,
 "nbformat_minor": 2
}
