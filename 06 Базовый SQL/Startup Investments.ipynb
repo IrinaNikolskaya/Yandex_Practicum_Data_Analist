{
 "cells": [
  {
   "cell_type": "markdown",
   "id": "02eef7e4",
   "metadata": {},
   "source": [
    "## Исследование данных об инвестиции венчурных фондов в компании-стартапы"
   ]
  },
  {
   "cell_type": "markdown",
   "id": "533b9f75",
   "metadata": {},
   "source": [
    "### Данные\n",
    "\n",
    "Самостоятельная работа основана на базе данных, которая хранит информацию о венчурных фондах и инвестициях в компании-стартапы\n",
    "\n",
    "### Цель\n",
    "Проанализировать данные о фондах и инвестициях, произвести выгрузки данных и ответить на поставленные вопросы с помощью SQL.\n",
    "\n"
   ]
  },
  {
   "cell_type": "markdown",
   "id": "dbf97f42",
   "metadata": {},
   "source": [
    "Задание 1\n",
    "\n",
    "Посчитайте, сколько компаний закрылось."
   ]
  },
  {
   "cell_type": "code",
   "execution_count": null,
   "id": "73dbe791",
   "metadata": {},
   "outputs": [],
   "source": [
    "'''\n",
    "SELECT COUNT(status)\n",
    "FROM company\n",
    "WHERE status = 'closed'\n",
    "'''"
   ]
  },
  {
   "cell_type": "markdown",
   "id": "1af5e0ba",
   "metadata": {},
   "source": [
    "Задание 2\n",
    "\n",
    "Отобразите количество привлечённых средств для новостных компаний США. Используйте данные из таблицы company. Отсортируйте таблицу по убыванию значений в поле funding_total."
   ]
  },
  {
   "cell_type": "code",
   "execution_count": null,
   "id": "8ebce2c0",
   "metadata": {},
   "outputs": [],
   "source": [
    "'''\n",
    "SELECT funding_total\n",
    "FROM company\n",
    "WHERE category_code ='news' AND country_code='USA'\n",
    "ORDER BY funding_total DESC;\n",
    "'''"
   ]
  },
  {
   "cell_type": "markdown",
   "id": "67278285",
   "metadata": {},
   "source": [
    "Задание 3\n",
    "\n",
    "Найдите общую сумму сделок по покупке одних компаний другими в долларах. Отберите сделки, которые осуществлялись только за наличные с 2011 по 2013 год включительно."
   ]
  },
  {
   "cell_type": "code",
   "execution_count": null,
   "id": "85578610",
   "metadata": {},
   "outputs": [],
   "source": [
    "'''\n",
    "SELECT SUM(price_amount) AS price_cash\n",
    "FROM acquisition\n",
    "WHERE term_code='cash'\n",
    "      AND EXTRACT(YEAR FROM CAST(acquired_at AS date)) IN (2011, 2012, 2013) \n",
    "'''"
   ]
  },
  {
   "cell_type": "markdown",
   "id": "c1779b66",
   "metadata": {},
   "source": [
    "Задание 4\n",
    "\n",
    "Отобразите имя, фамилию и названия аккаунтов людей в твиттере, у которых названия аккаунтов начинаются на 'Silver'."
   ]
  },
  {
   "cell_type": "code",
   "execution_count": null,
   "id": "9a8094a3",
   "metadata": {},
   "outputs": [],
   "source": [
    "'''\n",
    "SELECT first_name,\n",
    "       last_name,\n",
    "       twitter_username\n",
    "FROM people\n",
    "WHERE twitter_username LIKE 'Silver%';\n",
    "'''"
   ]
  },
  {
   "cell_type": "markdown",
   "id": "e4f702e9",
   "metadata": {},
   "source": [
    "Задание 5\n",
    "\n",
    "Выведите на экран всю информацию о людях, у которых названия аккаунтов в твиттере содержат подстроку 'money', а фамилия начинается на 'K'"
   ]
  },
  {
   "cell_type": "code",
   "execution_count": null,
   "id": "ca1542b3",
   "metadata": {},
   "outputs": [],
   "source": [
    "'''\n",
    "SELECT *\n",
    "FROM people\n",
    "WHERE twitter_username LIKE '%money%'\n",
    "AND last_name LIKE 'K%';\n",
    "'''"
   ]
  },
  {
   "cell_type": "markdown",
   "id": "df3f7811",
   "metadata": {},
   "source": [
    "Задание 6\n",
    "\n",
    "Для каждой страны отобразите общую сумму привлечённых инвестиций, которые получили компании, зарегистрированные в этой стране. Страну, в которой зарегистрирована компания, можно определить по коду страны. Отсортируйте данные по убыванию суммы."
   ]
  },
  {
   "cell_type": "code",
   "execution_count": null,
   "id": "536143dc",
   "metadata": {},
   "outputs": [],
   "source": [
    "'''\n",
    "SELECT country_code,\n",
    "       SUM(funding_total)\n",
    "FROM company\n",
    "GROUP BY country_code\n",
    "ORDER BY SUM(funding_total) DESC;\n",
    "'''"
   ]
  },
  {
   "cell_type": "markdown",
   "id": "badbad8d",
   "metadata": {},
   "source": [
    "Задание 7\n",
    "\n",
    "Составьте таблицу, в которую войдёт дата проведения раунда, а также минимальное и максимальное значения суммы инвестиций, привлечённых в эту дату. Оставьте в итоговой таблице только те записи, в которых минимальное значение суммы инвестиций не равно нулю и не равно максимальному значению."
   ]
  },
  {
   "cell_type": "code",
   "execution_count": null,
   "id": "36041127",
   "metadata": {},
   "outputs": [],
   "source": [
    "'''\n",
    "SELECT funded_at,\n",
    "       MIN(raised_amount),\n",
    "       MAX(raised_amount)\n",
    "FROM funding_round\n",
    "GROUP BY funded_at \n",
    "HAVING MIN(raised_amount)!=0\n",
    "   AND MIN(raised_amount)!=MAX(raised_amount);\n",
    "'''"
   ]
  },
  {
   "cell_type": "markdown",
   "id": "4faf37ba",
   "metadata": {},
   "source": [
    "Задание 8\n",
    "\n",
    "Создайте поле с категориями:\n",
    "\n",
    "Для фондов, которые инвестируют в 100 и более компаний, назначьте категорию high_activity.\n",
    "\n",
    "Для фондов, которые инвестируют в 20 и более компаний до 100, назначьте категорию middle_activity.\n",
    "\n",
    "Если количество инвестируемых компаний фонда не достигает 20, назначьте категорию low_activity.\n",
    "\n",
    "Отобразите все поля таблицы fund и новое поле с категориями."
   ]
  },
  {
   "cell_type": "code",
   "execution_count": null,
   "id": "c2414eb5",
   "metadata": {},
   "outputs": [],
   "source": [
    "'''\n",
    "SELECT *,\n",
    "     CASE\n",
    "        WHEN invested_companies >= 100 THEN 'high_activity'\n",
    "        WHEN invested_companies >= 20 AND invested_companies < 100 THEN 'middle_activity'\n",
    "        WHEN invested_companies <= 20 THEN 'low_activity'\n",
    "     END\n",
    "FROM fund;\n",
    "'''"
   ]
  },
  {
   "cell_type": "markdown",
   "id": "1186889d",
   "metadata": {},
   "source": [
    "Задание 9\n",
    "\n",
    "Для каждой из категорий, назначенных в предыдущем задании, посчитайте округлённое до ближайшего целого числа среднее количество инвестиционных раундов, в которых фонд принимал участие.\n",
    "\n",
    "Выведите на экран категории и среднее число инвестиционных раундов. Отсортируйте таблицу по возрастанию среднего."
   ]
  },
  {
   "cell_type": "code",
   "execution_count": null,
   "id": "c01fa532",
   "metadata": {},
   "outputs": [],
   "source": [
    "'''\n",
    "SELECT \n",
    "       CASE\n",
    "           WHEN invested_companies>=100 THEN 'high_activity'\n",
    "           WHEN invested_companies>=20 THEN 'middle_activity'\n",
    "           ELSE 'low_activity'\n",
    "       END AS activity,\n",
    "       ROUND(AVG(investment_rounds))\n",
    "FROM fund\n",
    "GROUP BY activity\n",
    "ORDER BY ROUND(AVG(investment_rounds))\n",
    "'''"
   ]
  },
  {
   "cell_type": "markdown",
   "id": "70986197",
   "metadata": {},
   "source": [
    "Задание 10\n",
    "\n",
    "Выгрузите таблицу с десятью самыми активными инвестирующими странами. Активность страны определите по среднему количеству компаний, в которые инвестируют фонды этой страны.\n",
    "\n",
    "Для каждой страны посчитайте минимальное, максимальное и среднее число компаний, в которые инвестировали фонды, основанные с 2010 по 2012 год включительно.\n",
    "\n",
    "Исключите из таблицы страны с фондами, у которых минимальное число компаний, получивших инвестиции, равно нулю. Отсортируйте таблицу по среднему количеству компаний от большего к меньшему.\n",
    "\n",
    "Для фильтрации диапазона по годам используйте оператор BETWEEN."
   ]
  },
  {
   "cell_type": "code",
   "execution_count": null,
   "id": "1153d44c",
   "metadata": {},
   "outputs": [],
   "source": [
    "'''\n",
    "SELECT country_code,\n",
    "       MIN(invested_companies) AS min_count,\n",
    "       MAX(invested_companies) AS max_count,\n",
    "       AVG(invested_companies) AS avg_count\n",
    "FROM fund\n",
    "WHERE EXTRACT(YEAR FROM CAST(founded_at AS date)) BETWEEN 2010 AND 2012 \n",
    "GROUP BY country_code\n",
    "HAVING MIN(invested_companies) > 0\n",
    "ORDER BY avg_count DESC\n",
    "LIMIT 10;\n",
    "'''"
   ]
  },
  {
   "cell_type": "markdown",
   "id": "2a9a45df",
   "metadata": {},
   "source": [
    "Задание 11\n",
    "\n",
    "Отобразите имя и фамилию всех сотрудников стартапов. Добавьте поле с названием учебного заведения, которое окончил сотрудник, если эта информация известна."
   ]
  },
  {
   "cell_type": "code",
   "execution_count": null,
   "id": "02424b09",
   "metadata": {},
   "outputs": [],
   "source": [
    "'''\n",
    "SELECT p.first_name,\n",
    "       p.last_name,\n",
    "       e.instituition\n",
    "FROM people AS p\n",
    "LEFT JOIN education AS e ON p.id=e.person_id;\n",
    "'''"
   ]
  },
  {
   "cell_type": "markdown",
   "id": "58e6c7c3",
   "metadata": {},
   "source": [
    "Задание 12\n",
    "\n",
    "Для каждой компании найдите количество учебных заведений, которые окончили её сотрудники.\n",
    "\n",
    "Выведите название компании и число уникальных названий учебных заведений.\n",
    "\n",
    "Составьте топ-5 компаний по количеству университетов."
   ]
  },
  {
   "cell_type": "code",
   "execution_count": null,
   "id": "05a94dbb",
   "metadata": {},
   "outputs": [],
   "source": [
    "'''\n",
    "SELECT c.name,\n",
    "       COUNT(DISTINCT e.instituition)\n",
    "FROM company AS c\n",
    "INNER JOIN people AS p ON c.id=p.company_id\n",
    "INNER JOIN education AS e ON p.id=e.person_id\n",
    "GROUP BY c.name\n",
    "ORDER BY COUNT(e.instituition) DESC\n",
    "LIMIT 5;\n",
    "'''"
   ]
  },
  {
   "cell_type": "markdown",
   "id": "d17e281b",
   "metadata": {},
   "source": [
    "Задание 13\n",
    "\n",
    "Составьте список с уникальными названиями закрытых компаний, для которых первый раунд финансирования оказался последним."
   ]
  },
  {
   "cell_type": "code",
   "execution_count": null,
   "id": "e77bee95",
   "metadata": {},
   "outputs": [],
   "source": [
    "'''\n",
    "SELECT name\n",
    "FROM company\n",
    "WHERE status='closed'\n",
    "  AND id IN (SELECT company_id\n",
    "             FROM funding_round\n",
    "             WHERE is_first_round=1 AND is_last_round=1);\n",
    "'''             "
   ]
  },
  {
   "cell_type": "markdown",
   "id": "837d8657",
   "metadata": {},
   "source": [
    "Задание 14\n",
    "\n",
    "Составьте список уникальных номеров сотрудников, которые работают в компаниях, отобранных в предыдущем задании."
   ]
  },
  {
   "cell_type": "code",
   "execution_count": null,
   "id": "36b725d6",
   "metadata": {},
   "outputs": [],
   "source": [
    "'''\n",
    "SELECT id\n",
    "FROM people\n",
    "WHERE company_id IN (\n",
    "                 SELECT id\n",
    "                 FROM company\n",
    "                 WHERE status='closed'\n",
    "                 AND id IN (\n",
    "                        SELECT company_id\n",
    "                        FROM funding_round\n",
    "                        WHERE is_first_round=1 AND is_last_round=1\n",
    "                        )\n",
    "                    );\n",
    "'''"
   ]
  },
  {
   "cell_type": "markdown",
   "id": "649bb3ab",
   "metadata": {},
   "source": [
    "Задание 15\n",
    "\n",
    "Составьте таблицу, куда войдут уникальные пары с номерами сотрудников из предыдущей задачи и учебным заведением, которое окончил сотрудник."
   ]
  },
  {
   "cell_type": "code",
   "execution_count": null,
   "id": "9f9eb0df",
   "metadata": {},
   "outputs": [],
   "source": [
    "'''\n",
    "SELECT DISTINCT p.id,\n",
    "       e.instituition \n",
    "FROM people AS p\n",
    "INNER JOIN education AS e \n",
    "ON p.id=e.person_id\n",
    "WHERE p.company_id IN (\n",
    "                   SELECT id\n",
    "                   FROM company\n",
    "                   WHERE status='closed'\n",
    "                   AND id IN (\n",
    "                          SELECT company_id\n",
    "                          FROM funding_round\n",
    "                          WHERE is_first_round=1 AND is_last_round=1\n",
    "                              )\n",
    "                      );\n",
    "'''"
   ]
  },
  {
   "cell_type": "markdown",
   "id": "47b44884",
   "metadata": {},
   "source": [
    "Задание 16\n",
    "\n",
    "Посчитайте количество учебных заведений для каждого сотрудника из предыдущего задания."
   ]
  },
  {
   "cell_type": "code",
   "execution_count": null,
   "id": "39126159",
   "metadata": {},
   "outputs": [],
   "source": [
    "'''\n",
    "SELECT p.id,\n",
    "       COUNT(e.instituition) \n",
    "FROM people AS p\n",
    "INNER JOIN education AS e \n",
    "ON p.id=e.person_id\n",
    "WHERE p.company_id IN (\n",
    "                   SELECT id\n",
    "                   FROM company\n",
    "                   WHERE status='closed'\n",
    "                   AND id IN (\n",
    "                          SELECT company_id\n",
    "                          FROM funding_round\n",
    "                          WHERE is_first_round=1 AND is_last_round=1\n",
    "                             )\n",
    "                       )\n",
    "GROUP BY p.id;\n",
    "'''"
   ]
  },
  {
   "cell_type": "markdown",
   "id": "f1d60998",
   "metadata": {},
   "source": [
    "Задание 17\n",
    "\n",
    "Дополните предыдущий запрос и выведите среднее число учебных заведений, которые окончили сотрудники разных компаний. Нужно вывести только одну запись, группировка здесь не понадобится."
   ]
  },
  {
   "cell_type": "code",
   "execution_count": null,
   "id": "0467304a",
   "metadata": {},
   "outputs": [],
   "source": [
    "'''\n",
    "WITH\n",
    "count_institute AS (\n",
    "                    SELECT p.id,\n",
    "                           COUNT(e.instituition) \n",
    "                    FROM people AS p\n",
    "                    INNER JOIN education AS e\n",
    "                    ON p.id=e.person_id\n",
    "                    WHERE p.company_id IN (\n",
    "                                       SELECT id\n",
    "                                       FROM company\n",
    "                                       WHERE status='closed'\n",
    "                                       AND id IN (\n",
    "                                              SELECT company_id\n",
    "                                              FROM funding_round\n",
    "                                              WHERE is_first_round=1 AND is_last_round=1\n",
    "                                                 )\n",
    "                                          )\n",
    "                    GROUP BY p.id\n",
    "                    )\n",
    " \n",
    "SELECT AVG(count)\n",
    "FROM (SELECT count FROM count_institute) AS avg_count;\n",
    "'''"
   ]
  },
  {
   "cell_type": "markdown",
   "id": "7c6b20b8",
   "metadata": {},
   "source": [
    "Задание 18\n",
    "\n",
    "Напишите похожий запрос: выведите среднее число учебных заведений, которые окончили сотрудники компании Facebook."
   ]
  },
  {
   "cell_type": "code",
   "execution_count": null,
   "id": "6d0eeb8e",
   "metadata": {},
   "outputs": [],
   "source": [
    "'''\n",
    "WITH\n",
    "count_institute AS (SELECT p.id,\n",
    "                           COUNT(e.instituition) \n",
    "                    FROM people AS p\n",
    "                    INNER JOIN education AS e \n",
    "                    ON p.id=e.person_id\n",
    "                    WHERE p.company_id IN (\n",
    "                                        SELECT id\n",
    "                                        FROM company\n",
    "                                        WHERE name='Facebook'\n",
    "                                          )\n",
    "                    GROUP BY p.id)\n",
    " \n",
    "SELECT AVG(count)\n",
    "FROM (SELECT count FROM count_institute) AS avg_count;\n",
    "'''"
   ]
  },
  {
   "cell_type": "markdown",
   "id": "61c245fa",
   "metadata": {},
   "source": [
    "Задание 19\n",
    "\n",
    "Составьте таблицу из полей:\n",
    "\n",
    "name_of_fund — название фонда;\n",
    "\n",
    "name_of_company — название компании;\n",
    "\n",
    "amount — сумма инвестиций, которую привлекла компания в раунде.\n",
    "\n",
    "В таблицу войдут данные о компаниях, в истории которых было больше шести важных этапов, а раунды финансирования проходили с 2012 по 2013 год включительно."
   ]
  },
  {
   "cell_type": "code",
   "execution_count": null,
   "id": "b0028056",
   "metadata": {},
   "outputs": [],
   "source": [
    "'''\n",
    "SELECT f.name as name_of_fund,\n",
    "       c.name as name_of_company,\n",
    "       fr.raised_amount as amount\n",
    "FROM investment as i\n",
    "   LEFT JOIN company as c on i.company_id = c.id\n",
    "    LEFT JOIN fund as f on i.fund_id = f.id         \n",
    "    LEFT JOIN funding_round as fr on fr.id = i.funding_round_id\n",
    "          WHERE EXTRACT(YEAR FROM CAST(funded_at as date)) BETWEEN '2012' AND '2013'\n",
    "          AND c.milestones > 6\n",
    "'''"
   ]
  },
  {
   "cell_type": "markdown",
   "id": "a3d85b53",
   "metadata": {},
   "source": [
    "Задание 20\n",
    "\n",
    "Выгрузите таблицу, в которой будут такие поля:\n",
    "\n",
    "название компании-покупателя;\n",
    "\n",
    "сумма сделки;\n",
    "\n",
    "название компании, которую купили;\n",
    "\n",
    "сумма инвестиций, вложенных в купленную компанию;\n",
    "\n",
    "доля, которая отображает, во сколько раз сумма покупки превысила сумму вложенных в компанию инвестиций, округлённая до ближайшего целого числа.\n",
    "\n",
    "Не учитывайте те сделки, в которых сумма покупки равна нулю. Если сумма инвестиций в компанию равна нулю, исключите такую компанию из таблицы.\n",
    "\n",
    "Отсортируйте таблицу по сумме сделки от большей к меньшей, а затем по названию купленной компании в алфавитном порядке. Ограничьте таблицу первыми десятью записями."
   ]
  },
  {
   "cell_type": "code",
   "execution_count": null,
   "id": "4b8c1fa7",
   "metadata": {},
   "outputs": [],
   "source": [
    "''''\n",
    "SELECT c.name as name_acquiring_company,\n",
    "       a.price_amount,\n",
    "       cm.name as name_acquired_company_id,\n",
    "       cm.funding_total,\n",
    "      round(a.price_amount/ cm.funding_total) as percent\n",
    "FROM  acquisition as a\n",
    "      LEFT JOIN company as c on a.acquiring_company_id = c.id\n",
    "      LEFT JOIN company as cm on a.acquired_company_id = cm.id\n",
    "      WHERE a.price_amount > 0\n",
    "      AND cm.funding_total >0\n",
    "ORDER BY  a.price_amount desc\n",
    "LIMIT 10;\n",
    "''''"
   ]
  },
  {
   "cell_type": "markdown",
   "id": "5d87af7c",
   "metadata": {},
   "source": [
    "Задание 21\n",
    "\n",
    "Выгрузите таблицу, в которую войдут названия компаний из категории social, получившие финансирование с 2010 по 2013 год.\n",
    "\n",
    "Выведите также номер месяца, в котором проходил раунд финансирования."
   ]
  },
  {
   "cell_type": "code",
   "execution_count": null,
   "id": "88dd2a4e",
   "metadata": {},
   "outputs": [],
   "source": [
    "''''\n",
    "SELECT c.name as name_company,\n",
    "       EXTRACT(MONTH FROM fr.funded_at) as month_round\n",
    "FROM company as c\n",
    "    LEFT JOIN funding_round as fr on fr.company_id = c.id\n",
    "        WHERE c.category_code = 'social'\n",
    "          AND EXTRACT(YEAR FROM fr.funded_at) BETWEEN '2010' AND '2013'\n",
    "           AND fr.raised_amount != 0\n",
    "''''           "
   ]
  },
  {
   "cell_type": "markdown",
   "id": "615cc8c2",
   "metadata": {},
   "source": [
    "Задание 22\n",
    "\n",
    "Отберите данные по месяцам с 2010 по 2013 год, когда проходили инвестиционные раунды.\n",
    "\n",
    "Сгруппируйте данные по номеру месяца и получите таблицу, в которой будут поля:\n",
    "\n",
    "номер месяца, в котором проходили раунды;\n",
    "\n",
    "количество уникальных названий фондов из США, которые инвестировали в этом месяце;\n",
    "\n",
    "количество компаний, купленных за этот месяц;\n",
    "\n",
    "общая сумма сделок по покупкам в этом месяце."
   ]
  },
  {
   "cell_type": "code",
   "execution_count": null,
   "id": "78ae02f4",
   "metadata": {},
   "outputs": [],
   "source": [
    "''''\n",
    "with\n",
    "tab_1 as (\n",
    "         select extract(month from fr.funded_at) as month_round,\n",
    "         count(distinct f.name) as fund_name_USA\n",
    "         from funding_round as fr \n",
    "         left join investment as i on fr.id = i.funding_round_id\n",
    "         left join fund as f on i.fund_id = f.id\n",
    "         where f.country_code ='USA'\n",
    "           and extract(year from fr.funded_at) between '2010' and '2013'\n",
    "         group by extract(month from fr.funded_at)\n",
    "         ),\n",
    "tab_2 as (\n",
    "         select extract(month from a.acquired_at) as month_sale,\n",
    "                count(a.acquired_company_id) as count_company,\n",
    "         sum(a.price_amount) as total_price_amount\n",
    "         from acquisition as a\n",
    "         where extract(year from a.acquired_at) between '2010' and '2013'\n",
    "         group by extract(month from a.acquired_at)\n",
    "         )\n",
    "\n",
    "select tab_1.month_round,\n",
    "       tab_1.fund_name_USA,\n",
    "       tab_2.count_company,\n",
    "       tab_2.total_price_amount\n",
    "from tab_1 left join  tab_2 on tab_1.month_round =  tab_2.month_sale;  \n",
    "''''"
   ]
  },
  {
   "cell_type": "markdown",
   "id": "8a80b722",
   "metadata": {},
   "source": [
    "Задание 23\n",
    "\n",
    "Составьте сводную таблицу и выведите среднюю сумму инвестиций для стран, в которых есть стартапы, зарегистрированные в 2011, 2012 и 2013 годах.\n",
    "\n",
    "Данные за каждый год должны быть в отдельном поле. Отсортируйте таблицу по среднему значению инвестиций за 2011 год от большего к меньшему."
   ]
  },
  {
   "cell_type": "code",
   "execution_count": null,
   "id": "a9d25a7b",
   "metadata": {},
   "outputs": [],
   "source": [
    "''''\n",
    "with\n",
    "tab_1 as (\n",
    "          select country_code ,\n",
    "          avg(funding_total) as year_2011\n",
    "          from company \n",
    "          where extract(year from founded_at) = '2011'\n",
    "          group by country_code\n",
    "          ),\n",
    "\n",
    "tab_2 as (\n",
    "          select country_code,\n",
    "          avg(funding_total) as year_2012\n",
    "          from company \n",
    "          where extract(year from founded_at) = '2012'\n",
    "          group by country_code\n",
    "          ),\n",
    "tab_3 as (\n",
    "          select country_code,\n",
    "          avg(funding_total) as year_2013\n",
    "          from company \n",
    "          where extract(year from founded_at) = '2013'\n",
    "          group by country_code\n",
    "          )    \n",
    "          \n",
    "select tab_1.country_code,\n",
    "       tab_1.year_2011,\n",
    "       tab_2.year_2012,\n",
    "       tab_3.year_2013\n",
    "from tab_1 inner join tab_2 on tab_1.country_code = tab_2.country_code\n",
    "           inner join tab_3 on tab_1.country_code = tab_3.country_code\n",
    "order by year_2011 desc;  \n",
    "''''"
   ]
  }
 ],
 "metadata": {
  "kernelspec": {
   "display_name": "Python 3 (ipykernel)",
   "language": "python",
   "name": "python3"
  },
  "language_info": {
   "codemirror_mode": {
    "name": "ipython",
    "version": 3
   },
   "file_extension": ".py",
   "mimetype": "text/x-python",
   "name": "python",
   "nbconvert_exporter": "python",
   "pygments_lexer": "ipython3",
   "version": "3.9.13"
  }
 },
 "nbformat": 4,
 "nbformat_minor": 5
}
